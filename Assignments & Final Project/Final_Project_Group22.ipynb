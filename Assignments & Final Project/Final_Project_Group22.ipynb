{
 "cells": [
  {
   "cell_type": "markdown",
   "metadata": {
    "cell_id": "00000-687d9d86-a2eb-4091-b463-fdd317c525d0",
    "deepnote_cell_type": "markdown"
   },
   "source": [
    "<h1 style=\"text-align: center; color: purple;\" markdown=\"1\">Final Project by Group 22 </h1>\n",
    "\n",
    "<br>\n",
    "\n",
    "<h2 style=\"text-align: center; color: #012169\" markdown=\"1\">Xintong Cai, Sam Hu, Fanjiaxuan Zhang, Yuyao Zhou</h2>"
   ]
  },
  {
   "cell_type": "markdown",
   "metadata": {
    "cell_id": "00001-df07484b-5470-44f6-bb1e-bacf91385ece",
    "deepnote_cell_type": "markdown",
    "tags": []
   },
   "source": [
    "## Table of Contents:\n",
    "*  <a href='#the_destination1'> I)   Introduction & Motivation</a>\n",
    "* <a href='#the_destination2'>  II)  Data: an overview</a>\n",
    "* <a href='#the_destination3'> III) Methodology/Empirical Models </a>\n",
    "* <a href='#the_destination4'> IV)  Result </a>\n",
    "* <a href='#the_destination5'> V)   Conclusion </a>\n",
    "\n",
    "* <a href='#the_destination6'> References </a>"
   ]
  },
  {
   "cell_type": "markdown",
   "metadata": {
    "cell_id": "00002-3a7a9462-a631-4899-b680-ac976ee2dcb6",
    "deepnote_cell_type": "markdown",
    "tags": []
   },
   "source": [
    "## I) Introduction & Motivation\n",
    "\n",
    "<a id='the_destination1'></a>"
   ]
  },
  {
   "cell_type": "markdown",
   "metadata": {
    "cell_id": "00001-1c09a9c6-3a74-4a19-8a82-3eee8b26850f",
    "deepnote_cell_type": "markdown"
   },
   "source": [
    "- As we become juniors, we are allowed to live outside campus. While searching for an apartment, we noticed that there seem to be several factors that affect the prices of housing more significantly than others. \n",
    "    - In the article “Analysis of Main Influence Factors for Housing Prices”, Rao and Ge (2015) observe that per-capita income, sales area of resident, and quantity of urban population are the main influential factors for the $residential$ housing prices. \n",
    "    - $Commercial$ real estate properties are similar to residential housing properties in certain aspects, yet not exactly the same. Gyourko (2009) records that the simple correlation between appreciation rates on owner occupied housing and commercial real estates is about 40%, which suggests that they are not affected by the same factors (as shown in Figure 3 below).  \n",
    "   \n",
    "- Curious about what natural factors (i.e., characteristics of the real estate itself) and external economic factors actually impact the sales prices of commercial real estate properties in the U.S., we begin our study.\n"
   ]
  },
  {
   "cell_type": "markdown",
   "metadata": {
    "cell_id": "00004-d57a0ae0-277b-433e-8f00-6b77426b4111",
    "deepnote_cell_type": "markdown",
    "tags": []
   },
   "source": [
    "![Picture title](image-20210503-181710.png)"
   ]
  },
  {
   "cell_type": "markdown",
   "metadata": {
    "cell_id": "00004-2c4eb021-1902-429d-a4b7-3457085fbbb2",
    "deepnote_cell_type": "markdown",
    "tags": []
   },
   "source": [
    "- In this project, we aim to investigate whether GDP (by county), total area of the real estate, lot sizes, as well as the property type influence the price of commercial real estate properties. By utilizing the multiple linear regression model of sales prices  $$(y=\\beta_0 + \\beta_1 \\cdot x_1 + \\beta_2 \\cdot x_2 + \\beta_3 \\cdot x_3 + ... +\\beta_n \\cdot x_n +  \\mu)$$, we are able to examine if the explanatory variables affect commercial real estate properties. "
   ]
  },
  {
   "cell_type": "markdown",
   "metadata": {
    "cell_id": "00005-b129a507-94f6-4951-8d59-43fa4d8f91c5",
    "deepnote_cell_type": "markdown",
    "tags": []
   },
   "source": [
    "- In the following section, we will commence by presenting simple descriptive statistics as well as visualizations of the data we use."
   ]
  },
  {
   "cell_type": "markdown",
   "metadata": {
    "cell_id": "00003-ffd149cb-8e7b-4a75-9770-0b8c4c2999a2",
    "deepnote_cell_type": "markdown",
    "tags": []
   },
   "source": [
    "## II) Data: an overview \n",
    "<a id='the_destination2'></a>"
   ]
  },
  {
   "cell_type": "markdown",
   "metadata": {
    "cell_id": "00002-fff79220-c596-4308-b555-2d5841794173",
    "deepnote_cell_type": "markdown"
   },
   "source": [
    "\n",
    "\n",
    "\n",
    "The data set we are using includes 9000 U.S. based commercial real estate listings for sale in 2017, organized by address, price, and other property details. \n",
    "\n",
    "We will select the variables of interest (`'Address','City','Owner Name','Mailing Address','Price','Number of Units', 'Total area', 'Number Of Stories', 'Lot Size', 'Type', 'Year Built'`) and then perform further data cleaning to prepare the data for analysis.\n",
    "\n",
    "Due to the large amount of nulls in the variables such as `Number of Units`, and `Year Built`, we only provide the descriptive statistics and visualizations for `Address`, `Price`, and `Total area`, for which we feel certain to include in our model.\n"
   ]
  },
  {
   "cell_type": "code",
   "execution_count": null,
   "metadata": {
    "cell_id": "00003-2ab20eda-cdac-46e8-b5e7-1bf66b4d3942",
    "deepnote_cell_type": "code",
    "deepnote_to_be_reexecuted": false,
    "execution_millis": 14564,
    "execution_start": 1620076172729,
    "output_cleared": false,
    "source_hash": "f292f88c",
    "tags": []
   },
   "outputs": [
    {
     "name": "stdout",
     "output_type": "stream",
     "text": [
      "Requirement already satisfied: gmaps in /root/venv/lib/python3.7/site-packages (0.9.0)\n",
      "Requirement already satisfied: six in /shared-libs/python3.7/py-core/lib/python3.7/site-packages (from gmaps) (1.15.0)\n",
      "Requirement already satisfied: ipywidgets>=7.0.0 in /root/venv/lib/python3.7/site-packages (from gmaps) (7.6.3)\n",
      "Requirement already satisfied: traitlets>=4.3.0 in /shared-libs/python3.7/py-core/lib/python3.7/site-packages (from gmaps) (5.0.5)\n",
      "Requirement already satisfied: ipython>=5.3.0 in /shared-libs/python3.7/py-core/lib/python3.7/site-packages (from gmaps) (7.22.0)\n",
      "Requirement already satisfied: geojson>=2.0.0 in /root/venv/lib/python3.7/site-packages (from gmaps) (2.5.0)\n",
      "Requirement already satisfied: pygments in /shared-libs/python3.7/py-core/lib/python3.7/site-packages (from ipython>=5.3.0->gmaps) (2.8.1)\n",
      "Requirement already satisfied: backcall in /shared-libs/python3.7/py-core/lib/python3.7/site-packages (from ipython>=5.3.0->gmaps) (0.2.0)\n",
      "Requirement already satisfied: pickleshare in /shared-libs/python3.7/py-core/lib/python3.7/site-packages (from ipython>=5.3.0->gmaps) (0.7.5)\n",
      "Requirement already satisfied: setuptools>=18.5 in /root/venv/lib/python3.7/site-packages (from ipython>=5.3.0->gmaps) (54.1.2)\n",
      "Requirement already satisfied: jedi>=0.16 in /shared-libs/python3.7/py-core/lib/python3.7/site-packages (from ipython>=5.3.0->gmaps) (0.17.2)\n",
      "Requirement already satisfied: pexpect>4.3 in /shared-libs/python3.7/py-core/lib/python3.7/site-packages (from ipython>=5.3.0->gmaps) (4.8.0)\n",
      "Requirement already satisfied: decorator in /shared-libs/python3.7/py-core/lib/python3.7/site-packages (from ipython>=5.3.0->gmaps) (5.0.6)\n",
      "Requirement already satisfied: prompt-toolkit!=3.0.0,!=3.0.1,<3.1.0,>=2.0.0 in /shared-libs/python3.7/py-core/lib/python3.7/site-packages (from ipython>=5.3.0->gmaps) (3.0.18)\n",
      "Requirement already satisfied: ipykernel>=4.5.1 in /shared-libs/python3.7/py-core/lib/python3.7/site-packages (from ipywidgets>=7.0.0->gmaps) (5.5.3)\n",
      "Requirement already satisfied: nbformat>=4.2.0 in /shared-libs/python3.7/py-core/lib/python3.7/site-packages (from ipywidgets>=7.0.0->gmaps) (5.1.3)\n",
      "Requirement already satisfied: widgetsnbextension~=3.5.0 in /root/venv/lib/python3.7/site-packages (from ipywidgets>=7.0.0->gmaps) (3.5.1)\n",
      "Requirement already satisfied: jupyterlab-widgets>=1.0.0 in /root/venv/lib/python3.7/site-packages (from ipywidgets>=7.0.0->gmaps) (1.0.0)\n",
      "Requirement already satisfied: tornado>=4.2 in /shared-libs/python3.7/py-core/lib/python3.7/site-packages (from ipykernel>=4.5.1->ipywidgets>=7.0.0->gmaps) (6.1)\n",
      "Requirement already satisfied: jupyter-client in /shared-libs/python3.7/py-core/lib/python3.7/site-packages (from ipykernel>=4.5.1->ipywidgets>=7.0.0->gmaps) (6.1.12)\n",
      "Requirement already satisfied: parso<0.8.0,>=0.7.0 in /shared-libs/python3.7/py-core/lib/python3.7/site-packages (from jedi>=0.16->ipython>=5.3.0->gmaps) (0.7.1)\n",
      "Requirement already satisfied: jsonschema!=2.5.0,>=2.4 in /shared-libs/python3.7/py-core/lib/python3.7/site-packages (from nbformat>=4.2.0->ipywidgets>=7.0.0->gmaps) (3.2.0)\n",
      "Requirement already satisfied: jupyter-core in /shared-libs/python3.7/py-core/lib/python3.7/site-packages (from nbformat>=4.2.0->ipywidgets>=7.0.0->gmaps) (4.7.1)\n",
      "Requirement already satisfied: ipython-genutils in /shared-libs/python3.7/py-core/lib/python3.7/site-packages (from nbformat>=4.2.0->ipywidgets>=7.0.0->gmaps) (0.2.0)\n",
      "Requirement already satisfied: pyrsistent>=0.14.0 in /shared-libs/python3.7/py-core/lib/python3.7/site-packages (from jsonschema!=2.5.0,>=2.4->nbformat>=4.2.0->ipywidgets>=7.0.0->gmaps) (0.17.3)\n",
      "Requirement already satisfied: attrs>=17.4.0 in /shared-libs/python3.7/py-core/lib/python3.7/site-packages (from jsonschema!=2.5.0,>=2.4->nbformat>=4.2.0->ipywidgets>=7.0.0->gmaps) (20.3.0)\n",
      "Requirement already satisfied: importlib-metadata in /shared-libs/python3.7/py-core/lib/python3.7/site-packages (from jsonschema!=2.5.0,>=2.4->nbformat>=4.2.0->ipywidgets>=7.0.0->gmaps) (3.10.1)\n",
      "Requirement already satisfied: ptyprocess>=0.5 in /shared-libs/python3.7/py-core/lib/python3.7/site-packages (from pexpect>4.3->ipython>=5.3.0->gmaps) (0.7.0)\n",
      "Requirement already satisfied: wcwidth in /shared-libs/python3.7/py-core/lib/python3.7/site-packages (from prompt-toolkit!=3.0.0,!=3.0.1,<3.1.0,>=2.0.0->ipython>=5.3.0->gmaps) (0.2.5)\n",
      "Requirement already satisfied: notebook>=4.4.1 in /shared-libs/python3.7/py-core/lib/python3.7/site-packages (from widgetsnbextension~=3.5.0->ipywidgets>=7.0.0->gmaps) (7.0.0.dev0)\n",
      "Requirement already satisfied: Send2Trash>=1.5.0 in /shared-libs/python3.7/py-core/lib/python3.7/site-packages (from notebook>=4.4.1->widgetsnbextension~=3.5.0->ipywidgets>=7.0.0->gmaps) (1.5.0)\n",
      "Requirement already satisfied: prometheus-client in /shared-libs/python3.7/py-core/lib/python3.7/site-packages (from notebook>=4.4.1->widgetsnbextension~=3.5.0->ipywidgets>=7.0.0->gmaps) (0.10.1)\n",
      "Requirement already satisfied: argon2-cffi in /shared-libs/python3.7/py-core/lib/python3.7/site-packages (from notebook>=4.4.1->widgetsnbextension~=3.5.0->ipywidgets>=7.0.0->gmaps) (20.1.0)\n",
      "Requirement already satisfied: jinja2 in /shared-libs/python3.7/py-core/lib/python3.7/site-packages (from notebook>=4.4.1->widgetsnbextension~=3.5.0->ipywidgets>=7.0.0->gmaps) (2.11.3)\n",
      "Requirement already satisfied: nbconvert in /shared-libs/python3.7/py-core/lib/python3.7/site-packages (from notebook>=4.4.1->widgetsnbextension~=3.5.0->ipywidgets>=7.0.0->gmaps) (6.0.7)\n",
      "Requirement already satisfied: terminado>=0.8.3 in /shared-libs/python3.7/py-core/lib/python3.7/site-packages (from notebook>=4.4.1->widgetsnbextension~=3.5.0->ipywidgets>=7.0.0->gmaps) (0.9.4)\n",
      "Requirement already satisfied: pyzmq>=17 in /shared-libs/python3.7/py-core/lib/python3.7/site-packages (from notebook>=4.4.1->widgetsnbextension~=3.5.0->ipywidgets>=7.0.0->gmaps) (22.0.3)\n",
      "Requirement already satisfied: python-dateutil>=2.1 in /shared-libs/python3.7/py-core/lib/python3.7/site-packages (from jupyter-client->ipykernel>=4.5.1->ipywidgets>=7.0.0->gmaps) (2.8.1)\n",
      "Requirement already satisfied: cffi>=1.0.0 in /shared-libs/python3.7/py-core/lib/python3.7/site-packages (from argon2-cffi->notebook>=4.4.1->widgetsnbextension~=3.5.0->ipywidgets>=7.0.0->gmaps) (1.14.5)\n",
      "Requirement already satisfied: pycparser in /shared-libs/python3.7/py-core/lib/python3.7/site-packages (from cffi>=1.0.0->argon2-cffi->notebook>=4.4.1->widgetsnbextension~=3.5.0->ipywidgets>=7.0.0->gmaps) (2.20)\n",
      "Requirement already satisfied: typing-extensions>=3.6.4 in /shared-libs/python3.7/py-core/lib/python3.7/site-packages (from importlib-metadata->jsonschema!=2.5.0,>=2.4->nbformat>=4.2.0->ipywidgets>=7.0.0->gmaps) (3.7.4.3)\n",
      "Requirement already satisfied: zipp>=0.5 in /shared-libs/python3.7/py-core/lib/python3.7/site-packages (from importlib-metadata->jsonschema!=2.5.0,>=2.4->nbformat>=4.2.0->ipywidgets>=7.0.0->gmaps) (3.4.1)\n",
      "Requirement already satisfied: MarkupSafe>=0.23 in /shared-libs/python3.7/py-core/lib/python3.7/site-packages (from jinja2->notebook>=4.4.1->widgetsnbextension~=3.5.0->ipywidgets>=7.0.0->gmaps) (1.1.1)\n",
      "Requirement already satisfied: mistune<2,>=0.8.1 in /shared-libs/python3.7/py-core/lib/python3.7/site-packages (from nbconvert->notebook>=4.4.1->widgetsnbextension~=3.5.0->ipywidgets>=7.0.0->gmaps) (0.8.4)\n",
      "Requirement already satisfied: pandocfilters>=1.4.1 in /shared-libs/python3.7/py-core/lib/python3.7/site-packages (from nbconvert->notebook>=4.4.1->widgetsnbextension~=3.5.0->ipywidgets>=7.0.0->gmaps) (1.4.3)\n",
      "Requirement already satisfied: testpath in /shared-libs/python3.7/py-core/lib/python3.7/site-packages (from nbconvert->notebook>=4.4.1->widgetsnbextension~=3.5.0->ipywidgets>=7.0.0->gmaps) (0.4.4)\n",
      "Requirement already satisfied: bleach in /shared-libs/python3.7/py-core/lib/python3.7/site-packages (from nbconvert->notebook>=4.4.1->widgetsnbextension~=3.5.0->ipywidgets>=7.0.0->gmaps) (3.3.0)\n",
      "Requirement already satisfied: defusedxml in /shared-libs/python3.7/py-core/lib/python3.7/site-packages (from nbconvert->notebook>=4.4.1->widgetsnbextension~=3.5.0->ipywidgets>=7.0.0->gmaps) (0.7.1)\n",
      "Requirement already satisfied: entrypoints>=0.2.2 in /shared-libs/python3.7/py-core/lib/python3.7/site-packages (from nbconvert->notebook>=4.4.1->widgetsnbextension~=3.5.0->ipywidgets>=7.0.0->gmaps) (0.3)\n",
      "Requirement already satisfied: nbclient<0.6.0,>=0.5.0 in /shared-libs/python3.7/py-core/lib/python3.7/site-packages (from nbconvert->notebook>=4.4.1->widgetsnbextension~=3.5.0->ipywidgets>=7.0.0->gmaps) (0.5.3)\n",
      "Requirement already satisfied: jupyterlab-pygments in /shared-libs/python3.7/py-core/lib/python3.7/site-packages (from nbconvert->notebook>=4.4.1->widgetsnbextension~=3.5.0->ipywidgets>=7.0.0->gmaps) (0.1.2)\n",
      "Requirement already satisfied: nest-asyncio in /shared-libs/python3.7/py-core/lib/python3.7/site-packages (from nbclient<0.6.0,>=0.5.0->nbconvert->notebook>=4.4.1->widgetsnbextension~=3.5.0->ipywidgets>=7.0.0->gmaps) (1.5.1)\n",
      "Requirement already satisfied: async-generator in /shared-libs/python3.7/py-core/lib/python3.7/site-packages (from nbclient<0.6.0,>=0.5.0->nbconvert->notebook>=4.4.1->widgetsnbextension~=3.5.0->ipywidgets>=7.0.0->gmaps) (1.10)\n",
      "Requirement already satisfied: webencodings in /shared-libs/python3.7/py-core/lib/python3.7/site-packages (from bleach->nbconvert->notebook>=4.4.1->widgetsnbextension~=3.5.0->ipywidgets>=7.0.0->gmaps) (0.5.1)\n",
      "Requirement already satisfied: packaging in /shared-libs/python3.7/py-core/lib/python3.7/site-packages (from bleach->nbconvert->notebook>=4.4.1->widgetsnbextension~=3.5.0->ipywidgets>=7.0.0->gmaps) (20.9)\n",
      "Requirement already satisfied: pyparsing>=2.0.2 in /shared-libs/python3.7/py-core/lib/python3.7/site-packages (from packaging->bleach->nbconvert->notebook>=4.4.1->widgetsnbextension~=3.5.0->ipywidgets>=7.0.0->gmaps) (2.4.7)\n",
      "\u001b[33mWARNING: You are using pip version 21.0.1; however, version 21.1.1 is available.\n",
      "You should consider upgrading via the '/root/venv/bin/python -m pip install --upgrade pip' command.\u001b[0m\n",
      "Requirement already satisfied: geopandas in /root/venv/lib/python3.7/site-packages (0.9.0)\n",
      "Requirement already satisfied: fiona>=1.8 in /shared-libs/python3.7/py/lib/python3.7/site-packages (from geopandas) (1.8.19)\n",
      "Requirement already satisfied: pandas>=0.24.0 in /shared-libs/python3.7/py/lib/python3.7/site-packages (from geopandas) (1.2.4)\n",
      "Requirement already satisfied: pyproj>=2.2.0 in /root/venv/lib/python3.7/site-packages (from geopandas) (3.0.1)\n",
      "Requirement already satisfied: shapely>=1.6 in /root/venv/lib/python3.7/site-packages (from geopandas) (1.7.1)\n",
      "Requirement already satisfied: certifi in /shared-libs/python3.7/py/lib/python3.7/site-packages (from fiona>=1.8->geopandas) (2020.12.5)\n",
      "Requirement already satisfied: cligj>=0.5 in /shared-libs/python3.7/py/lib/python3.7/site-packages (from fiona>=1.8->geopandas) (0.7.1)\n",
      "Requirement already satisfied: attrs>=17 in /shared-libs/python3.7/py-core/lib/python3.7/site-packages (from fiona>=1.8->geopandas) (20.3.0)\n",
      "Requirement already satisfied: click-plugins>=1.0 in /shared-libs/python3.7/py/lib/python3.7/site-packages (from fiona>=1.8->geopandas) (1.1.1)\n",
      "Requirement already satisfied: munch in /shared-libs/python3.7/py/lib/python3.7/site-packages (from fiona>=1.8->geopandas) (2.5.0)\n",
      "Requirement already satisfied: six>=1.7 in /shared-libs/python3.7/py-core/lib/python3.7/site-packages (from fiona>=1.8->geopandas) (1.15.0)\n",
      "Requirement already satisfied: click<8,>=4.0 in /shared-libs/python3.7/py/lib/python3.7/site-packages (from fiona>=1.8->geopandas) (7.1.2)\n",
      "Requirement already satisfied: pytz>=2017.3 in /shared-libs/python3.7/py/lib/python3.7/site-packages (from pandas>=0.24.0->geopandas) (2021.1)\n",
      "Requirement already satisfied: python-dateutil>=2.7.3 in /shared-libs/python3.7/py-core/lib/python3.7/site-packages (from pandas>=0.24.0->geopandas) (2.8.1)\n",
      "Requirement already satisfied: numpy>=1.16.5 in /shared-libs/python3.7/py/lib/python3.7/site-packages (from pandas>=0.24.0->geopandas) (1.19.5)\n",
      "\u001b[33mWARNING: You are using pip version 21.0.1; however, version 21.1.1 is available.\n",
      "You should consider upgrading via the '/root/venv/bin/python -m pip install --upgrade pip' command.\u001b[0m\n",
      "Requirement already satisfied: geopy in /root/venv/lib/python3.7/site-packages (2.1.0)\n",
      "Requirement already satisfied: geographiclib<2,>=1.49 in /root/venv/lib/python3.7/site-packages (from geopy) (1.50)\n",
      "\u001b[33mWARNING: You are using pip version 21.0.1; however, version 21.1.1 is available.\n",
      "You should consider upgrading via the '/root/venv/bin/python -m pip install --upgrade pip' command.\u001b[0m\n",
      "Requirement already satisfied: stargazer in /root/venv/lib/python3.7/site-packages (0.0.5)\n",
      "\u001b[33mWARNING: You are using pip version 21.0.1; however, version 21.1.1 is available.\n",
      "You should consider upgrading via the '/root/venv/bin/python -m pip install --upgrade pip' command.\u001b[0m\n",
      "Requirement already satisfied: statsmodels in /root/venv/lib/python3.7/site-packages (0.12.2)\n",
      "Requirement already satisfied: pandas>=0.21 in /shared-libs/python3.7/py/lib/python3.7/site-packages (from statsmodels) (1.2.4)\n",
      "Requirement already satisfied: scipy>=1.1 in /shared-libs/python3.7/py/lib/python3.7/site-packages (from statsmodels) (1.6.2)\n",
      "Requirement already satisfied: patsy>=0.5 in /root/venv/lib/python3.7/site-packages (from statsmodels) (0.5.1)\n",
      "Requirement already satisfied: numpy>=1.15 in /shared-libs/python3.7/py/lib/python3.7/site-packages (from statsmodels) (1.19.5)\n",
      "Requirement already satisfied: python-dateutil>=2.7.3 in /shared-libs/python3.7/py-core/lib/python3.7/site-packages (from pandas>=0.21->statsmodels) (2.8.1)\n",
      "Requirement already satisfied: pytz>=2017.3 in /shared-libs/python3.7/py/lib/python3.7/site-packages (from pandas>=0.21->statsmodels) (2021.1)\n",
      "Requirement already satisfied: six in /shared-libs/python3.7/py-core/lib/python3.7/site-packages (from patsy>=0.5->statsmodels) (1.15.0)\n",
      "\u001b[33mWARNING: You are using pip version 21.0.1; however, version 21.1.1 is available.\n",
      "You should consider upgrading via the '/root/venv/bin/python -m pip install --upgrade pip' command.\u001b[0m\n"
     ]
    }
   ],
   "source": [
    "# Initialization\n",
    "!pip install gmaps\n",
    "!pip install geopandas\n",
    "!pip install geopy\n",
    "!pip install stargazer\n",
    "!pip install statsmodels\n",
    "!pip install uszipcode\n",
    "!pip isntall folium"
   ]
  },
  {
   "cell_type": "code",
   "execution_count": null,
   "metadata": {
    "cell_id": "00007-8cc474c6-50ad-4bb4-a5a8-0b2b3f7b1f26",
    "deepnote_cell_type": "code",
    "deepnote_to_be_reexecuted": false,
    "execution_millis": 3,
    "execution_start": 1620076390833,
    "source_hash": "92e10f4e",
    "tags": []
   },
   "outputs": [],
   "source": [
    "# Import Necessary Packages\n",
    "import numpy as np \n",
    "import pandas as pd\n",
    "import seaborn as sns\n",
    "import matplotlib.pyplot as plt\n",
    "from stargazer.stargazer import Stargazer\n",
    "import statsmodels.formula.api as smf\n",
    "import matplotlib.pyplot as plt\n",
    "import gmaps\n",
    "import gmaps.datasets\n",
    "import geopandas\n",
    "import geopy\n",
    "import getpass\n",
    "import re\n",
    "import folium\n",
    "from folium.plugins import FastMarkerCluster"
   ]
  },
  {
   "cell_type": "code",
   "execution_count": null,
   "metadata": {
    "cell_id": "00008-29c84416-14c6-459d-b6ed-af4dc8434a80",
    "deepnote_cell_type": "code",
    "deepnote_to_be_reexecuted": false,
    "execution_millis": 195,
    "execution_start": 1620076315898,
    "source_hash": "b032390",
    "tags": []
   },
   "outputs": [
    {
     "data": {
      "text/plain": [
       "0"
      ]
     },
     "execution_count": 5,
     "metadata": {},
     "output_type": "execute_result"
    }
   ],
   "source": [
    "#Import the dataset we want to use as a dataframe\n",
    "df = pd.read_csv('data_housin.csv')[\n",
    "    ['Address','City','Owner Name','Mailing Address','Price','Number of Units',\n",
    "    'Total area', 'Number Of Stories', 'Lot Size', 'Type', 'Year Built']\n",
    "]\n",
    "\n",
    "#renname and adjust the columns of the dataframe\n",
    "df['Price'] = df['Price'].str.replace('$','', regex = True).str.replace(',','',regex = True)\n",
    "df['Total area'] = df['Total area'].str.replace(',','', regex = True).str.replace(' SF','',regex = True)\n",
    "len(df.loc[df['Total area'].str.match(r\"^\\d+\\s[a-zA-Z]+$\"), ['Total area']])"
   ]
  },
  {
   "cell_type": "markdown",
   "metadata": {
    "cell_id": "00011-f1defbb1-e7dd-41c4-8704-8017c281a16c",
    "deepnote_cell_type": "markdown",
    "tags": []
   },
   "source": [
    "- We start by looking at summary statistics of the dataset that we use."
   ]
  },
  {
   "cell_type": "code",
   "execution_count": null,
   "metadata": {
    "cell_id": "00012-ae1fbfca-a0ba-44e0-a78d-2508b6a8e7a2",
    "deepnote_cell_type": "code",
    "deepnote_to_be_reexecuted": false,
    "execution_millis": 75,
    "execution_start": 1620076333374,
    "source_hash": "692a0850",
    "tags": []
   },
   "outputs": [
    {
     "data": {
      "application/vnd.deepnote.dataframe.v2+json": {
       "column_count": 11,
       "columns": [
        {
         "dtype": "object",
         "name": "Address",
         "stats": {
          "categories": [
           {
            "count": 1,
            "name": "9076"
           },
           {
            "count": 1,
            "name": "8812"
           },
           {
            "count": 2,
            "name": "2 others"
           }
          ],
          "nan_count": 0,
          "unique_count": 4
         }
        },
        {
         "dtype": "object",
         "name": "City",
         "stats": {
          "categories": [
           {
            "count": 1,
            "name": "9076"
           },
           {
            "count": 1,
            "name": "5031"
           },
           {
            "count": 2,
            "name": "2 others"
           }
          ],
          "nan_count": 0,
          "unique_count": 4
         }
        },
        {
         "dtype": "object",
         "name": "Owner Name",
         "stats": {
          "categories": [
           {
            "count": 2,
            "name": "3"
           },
           {
            "count": 1,
            "name": "BAKE TECHNOLOGY PARK LLC"
           },
           {
            "count": 1,
            "name": "1"
           }
          ],
          "nan_count": 0,
          "unique_count": 3
         }
        },
        {
         "dtype": "object",
         "name": "Mailing Address",
         "stats": {
          "categories": [
           {
            "count": 2,
            "name": "3"
           },
           {
            "count": 1,
            "name": "550 NEWPORT CENTER DR, NEWPORT BEACH, CA 92660"
           },
           {
            "count": 1,
            "name": "1"
           }
          ],
          "nan_count": 0,
          "unique_count": 3
         }
        },
        {
         "dtype": "object",
         "name": "Price",
         "stats": {
          "categories": [
           {
            "count": 1,
            "name": "9076"
           },
           {
            "count": 1,
            "name": "3544"
           },
           {
            "count": 2,
            "name": "2 others"
           }
          ],
          "nan_count": 0,
          "unique_count": 4
         }
        },
        {
         "dtype": "object",
         "name": "Number of Units",
         "stats": {
          "categories": [
           {
            "count": 1,
            "name": "9076"
           },
           {
            "count": 1,
            "name": "155"
           },
           {
            "count": 2,
            "name": "2 others"
           }
          ],
          "nan_count": 0,
          "unique_count": 4
         }
        },
        {
         "dtype": "object",
         "name": "Total area",
         "stats": {
          "categories": [
           {
            "count": 1,
            "name": "9076"
           },
           {
            "count": 1,
            "name": "3491"
           },
           {
            "count": 2,
            "name": "2 others"
           }
          ],
          "nan_count": 0,
          "unique_count": 4
         }
        },
        {
         "dtype": "object",
         "name": "Number Of Stories",
         "stats": {
          "categories": [
           {
            "count": 1,
            "name": "9076"
           },
           {
            "count": 1,
            "name": "23"
           },
           {
            "count": 2,
            "name": "2 others"
           }
          ],
          "nan_count": 0,
          "unique_count": 4
         }
        },
        {
         "dtype": "object",
         "name": "Lot Size",
         "stats": {
          "categories": [
           {
            "count": 1,
            "name": "9076"
           },
           {
            "count": 1,
            "name": "4601"
           },
           {
            "count": 2,
            "name": "2 others"
           }
          ],
          "nan_count": 0,
          "unique_count": 4
         }
        },
        {
         "dtype": "object",
         "name": "Type",
         "stats": {
          "categories": [
           {
            "count": 1,
            "name": "9076"
           },
           {
            "count": 1,
            "name": "13"
           },
           {
            "count": 2,
            "name": "2 others"
           }
          ],
          "nan_count": 0,
          "unique_count": 4
         }
        },
        {
         "dtype": "object",
         "name": "Year Built",
         "stats": {
          "categories": [
           {
            "count": 1,
            "name": "9076"
           },
           {
            "count": 1,
            "name": "137"
           },
           {
            "count": 2,
            "name": "2 others"
           }
          ],
          "nan_count": 0,
          "unique_count": 4
         }
        },
        {
         "dtype": "object",
         "name": "_deepnote_index_column"
        }
       ],
       "row_count": 4,
       "rows_bottom": null,
       "rows_top": [
        {
         "Address": "9076",
         "City": "9076",
         "Lot Size": "9076",
         "Mailing Address": "3",
         "Number Of Stories": "9076",
         "Number of Units": "9076",
         "Owner Name": "3",
         "Price": "9076",
         "Total area": "9076",
         "Type": "9076",
         "Year Built": "9076",
         "_deepnote_index_column": "count"
        },
        {
         "Address": "8812",
         "City": "5031",
         "Lot Size": "4601",
         "Mailing Address": "3",
         "Number Of Stories": "23",
         "Number of Units": "155",
         "Owner Name": "3",
         "Price": "3544",
         "Total area": "3491",
         "Type": "13",
         "Year Built": "137",
         "_deepnote_index_column": "unique"
        },
        {
         "Address": "Access Denied\nAccess Denied\nYou are in breach of the binding LoopNet Terms and are blocked\nfrom accessing LoopNet. By continuing to access LoopNet or accessing after the block has expired, you are reaffirming\nyour agreement to the LoopNet Terms. Users who do not comply with these Terms are not authorized to access LoopNet.\nGeneral Terms and Conditions\nListing Policy & Guidelines\nPrivacy Policy\nThe submission of information to LoopNet, access to, and use of the LoopNet website (located at www.LoopNet.com), and the real estate information services provided thereon (collectively, the \"Service\") is subject to the following contractually binding terms and conditions (the \"Terms and Conditions\" or the \"Agreement\").\nIf you are viewing, using, or accessing the Service for free, you are a \"User.\" If you are viewing, using or accessing the Service under a paid or Premium subscription, you are a \"Customer.\" These Terms and Conditions refer to Users and Customers collectively as \"You.\" No employee, independent contractor, agent, or affiliate of any competing real estate information, analytics or listings service is permitted to be a User or a Customer or to view, use, or access the LoopNet website without express written permission from LoopNet. By viewing, using, or accessing the Service, You represent and warrant that You are not a competitor of LoopNet, Inc. or any of its affiliates, including without limitation any company owned or operated by CoStar Group, Inc. (collectively, \"LoopNet\" or the \"Company\") or acting on behalf of a competitor of LoopNet in registering for or accessing the Service.\nBy viewing, using or accessing the Service, You agree that these Terms and Conditions are a binding legal agreement between You and LoopNet. You also agree to be contractually bound by the LoopNet Listing Policy & Guidelines (the \"Listing Policies\") and Privacy Policy, both of which are available by hyperlink at the top of this page.\nIf You do not agree to these Terms and Conditions, You are prohibited from viewing, using or accessing the Service and must immediately discontinue viewing, use, and/or access. Notwithstanding anything to the contrary herein, if You and LoopNet have entered into a separate written agreement that covers Your use of a LoopNet product or service, the terms and conditions of such agreement shall control with respect to such product or service to the extent they are inconsistent with these Terms and Conditions.\nAll questions concerning these Terms and Conditions should be directed to: General Counsel, LoopNet, Inc., 101 California Street, 43rd Floor, San Francisco, CA 94111. LoopNet may update these Terms and Conditions at any time, with or without notice to You. The latest version of the Terms and Conditions is available on the LoopNet website.\nGENERAL PROVISIONS\nMembership Privileges\nMembership privileges are granted by LoopNet to individuals exclusively and are granted specifically to the subscribing registered member only. Membership rights cannot be assigned, sublicensed, distributed, shared, viewed, accessed, or otherwise transferred to anyone other than the registered Member without the express written permission of LoopNet.\nBy completing the registration process You become a \"Member,\" and You represent and warrant that the information You provide is true, accurate, complete, and current.\nEach Member must maintain a valid email address and a password, which shall be utilized for logging on to the LoopNet system. Members are not permitted to share their individual login information with others. LoopNet has the right to refuse or terminate service to any Member, individual, organization, or firm (and all persons associated or affiliated with said organization or firm) that fails to abide by the Terms and Conditions, the Listing Policies as posted and displayed on the LoopNet website, or abuses its rights related to the Service. Upon registration, which is free, User becomes a Basic Member. Users and Basic Members may search using the Service, and will receive a subset of results of the available properties matching the designated search parameters. In order to view all the available results for a given search, the Basic Member must upgrade to a Premium Membership. A Basic Member may also list properties on the Service, but those listings will only be able to be fully accessed and viewed in the search results of Premium Searchers.\nLoopNet utilizes email as a vital and primary communication channel with Members, who hereby acknowledge and grant LoopNet the permission to communicate with them via email (as well as other communication channels such as phone and fax) for any purposes LoopNet determines to be relevant including, but not limited to, system messages, product updates, service announcements, and other marketing messages. LoopNet will use best efforts to honor Member's request to opt out of marketing messages, but under no circumstances will LoopNet have any liability for sending any email to its Members. By becoming a Member, you acknowledge and agree that LoopNet, Inc., and its corporate affiliates, including other CoStar Group, Inc. companies, may record telephone and other electronic communications it has with you for their internal business purposes, including but not limited to training and quality assurance purposes.\nSubmission and Administration of Listings\nMembers may submit to LoopNet property descriptions, photographs, images, videos (which may include sound and/or music), graphics and financial, contact or other information (collectively, the \"Submitted Content\") for each listing in LoopNet. By submitting a listing, Member represents, warrants and agrees that (a) You own or have the full right, power and authority to grant to LoopNet use of and rights in and to all Submitted Content that you upload, post, e-mail or otherwise transmit to LoopNet; (b) Your license of such content to LoopNet hereunder does not, and the use or license of such content by LoopNet to third parties will not, infringe any right or interest owned or possessed by any third party; (c) there are no claims, judgments or settlements to be paid by You, or pending claims or litigation, relating to such content; and (d) You will fully indemnify the Company against any and all damages or other losses, and any related attorney's fees, other fees, and/or expenses, incurred by the Company as a result of any breach of the foregoing representations or in connection with Your Submitted Content, including without limitation as a result of any claim brought by a third party in connection with Your Submitted Content, whether or not such claim prevails. With respect to all Submitted Content You have uploaded in the past or elect to upload in the future, post, e-mail or otherwise transmit to or via the Service, LoopNet acknowledges that you retain any applicable ownership rights that You may have with respect to the Submitted Content. You nonetheless grant LoopNet and its affiliates (including other CoStar Group, Inc. companies) and their licensees a royalty-free, worldwide, perpetual, irrevocable, non-exclusive and fully sub-licensable right and license (through multiple tiers) to use, reproduce, adapt, perform, display, publish, translate, prepare derivative works from, modify, distribute, sell, and take any other action with respect to all such Submitted Content (in whole or part), whether submitted in the past or in the future, and/or to incorporate it in other works in any form, media, or technology now known or later developed. Member further acknowledges and agrees that LoopNet may preserve any such Submitted Content, whether submitted in the past or in the future, and may also disclose such Submitted Content in its sole discretion (including without limitation within other products offered by LoopNet and its affiliates, including other CoStar Group, Inc. companies). Member agrees not to submit any Submitted Content to LoopNet unless Member has received all necessary rights and authorizations, including from the photographer or videographer and/or copyright owner of any photographs or videos, to publish and advertise the property listing on Member's website and LoopNet's website. Specifically, Member will not submit a photograph if Member received the photograph from a third party information provider under the terms of a license that does not allow posting of such photograph or video on the LoopNet website. Members may only submit videos personally created by them or their direct employees or via LoopNet's Pro Video™ service. Members may not upload or otherwise submit videos created or produced by third-party video tour providers. Where Member's listing incorporates content provided by LoopNet or its affiliates, such as property photos or other images or information (collectively, \"LoopNet Materials\"), Member is granted a limited, revocable, exclusive and non-sub-licensable license to use such LoopNet Materials strictly in connection with Member's LoopNet listing.\nAll other rights to LoopNet Materials are expressly reserved. The Company may, in its sole discretion but without any obligation to search for such, remove property listings that are alleged to have been submitted in violation of this provision. In addition, the Company may require additional evidence of compliance with this provision from Members who are alleged to have submitted property listings, Submitted Content or other information in violation of these binding Terms and Conditions. The Company will, in its sole discretion, terminate the accounts of, and refuse service to, any Member who repeatedly or knowingly violates these binding Terms and Conditions. Member agrees to maintain accurate contact information (specifically, a valid phone number and email address) in order to submit and maintain active property listings on the LoopNet website. No robot, spider or other automated service may be used to submit listings to the Service. The Company shall have the sole authority to choose the manner in which any property listing will be searched, displayed, accessed, viewed, downloaded, copied, and otherwise used on the LoopNet website and Company shall have the right to modify the property listing in the exercise of its rights under these binding Terms and Conditions. Listings that are not modified or renewed within a 75-day period are automatically changed to \"Off Market\" and are no longer viewable on LoopNet.com. Member (a) represents and warrants that all properties and associated information provided by Member, including Submitted Content, will be accurate; (b) agrees not to post a property listing on the LoopNet marketplace under a name other than the individually named licensed real estate agent or agents that have been engaged by the property owner to market the property under the terms of a duly executed listing agreement with the owner (shared accounts, e.g. listings@abcrealty.com are strictly prohibited); (c) agrees to administer the properties provided by Member and maintain their accuracy at all times. The Company reserves, in a manner consistent with reasonable commercial business practices, the right to remove all or any part of the property listings posted on the LoopNet website. Member is entirely responsible, and Company accepts no responsibility, for the Submitted Content from the Member. While the Company will undertake reasonable efforts for data backup and business resumption, Member will be solely responsible for retaining back-up copies of all information, photographs and other materials it provides to LoopNet. LoopNet may add digital watermarks to certain parts of your property listing, including photographs. We add these digital watermarks to protect against the copying or further distribution of your photographs without your permission. Member agrees that LoopNet may adjust portions of the information contained within the Service (e.g., within property listings). Any such adjustments will have no material impact on the meaning and interpretation of property listings, but will serve as a means of uniquely identifying the property listings. Member accepts that this is a legitimate and lawful security precaution on the part of LoopNet, and accepts further that in the event that any third party has access to property listings that can be identified as having such unique adjustments, this shall constitute a prima facie breach of security and of these Terms and Conditions.\nUse of Information\nYou agree to treat all information obtained from the Service, including LoopNet Materials, listings, member directory, historical transaction information (\"Property Comps\"), and any information otherwise made available to You in the Service (individually and collectively, the \"Content\") as proprietary to LoopNet. You agree that Content reserved for Members will be maintained as confidential and shall be protected as a trade secret of LoopNet. LoopNet does not ensure the accuracy of, endorse or recommend any Content and You use such Content at Your own risk. You may view, access, or otherwise use the Content solely to obtain initial information from which further evaluation and investigation may commence.\nEmail addresses that a Member uploads to Pro Tools are for Member's use only; LoopNet agrees not to use a Member's Pro Tools contact list.\nLoopNet Market Trend Reports and other similar information, reports and services (individually and collectively \"LoopNet Market Reports\"), the Service, and any and all Content offered by LoopNet to You ARE PROVIDED SOLELY FOR GENERAL INFORMATION, AND DO NOT CONSTITUTE REAL ESTATE, LEGAL, TAX, ACCOUNTING, OR OTHER PROFESSIONAL ADVICE. BEFORE ACTING ON ANY INFORMATION PROVIDED BY LOOPNET, YOU SHOULD CONSULT AN APPROPRIATE PROFESSIONAL.\nYou shall limit access to, viewing of,\nand use of active property listings, member directory, LoopNet Market Trend Reports, Property Facts, and Property Comps information to personal and internal use, and shall not use any information obtained from the Service for further distribution, publication, public display, or preparation of derivative works or facilitate any of these activities in any way. You shall not use or reproduce any Content that is obtained from the Service, or that is otherwise made available to You in the Service, for or in connection with any other listing service or device. You further shall not use the Service in any other manner for or in connection with any other listing service or device. You shall not use the LoopNet Service as part of any effort to compete with LoopNet, including without limitation using the LoopNet Service to provide, alone or in combination with any other product or service, any database services to any third party or any use that causes a reduction or loss from an existing or potential LoopNet customer, nor shall You remove, erase, or tamper with any copyright or other proprietary notice printed or stamped on, affixed to, or encoded or recorded in the LoopNet Service. You shall not use any robot, spider or other automated process to submit listings, monitor, data mine or copy LoopNet products, services or information; decompile, decode or reverse engineer LoopNet software; or use LoopNet products or services in an unlawful manner, such as for offensive, abusive, tortious, libelous, defamatory or other illegal purposes.\nPasswords/Logins\nMembers and Customers are required to maintain the confidentiality of all logins and passwords. You are responsible for the activities that occur under your account, login or password. LoopNet is not responsible for any loss or damage arising from your failure to maintain the confidentiality of your account, login information or password and/or failure to comply with the terms and conditions set forth in the Membership Privileges, Use of Information or Ownership and License Grant sections of these binding Terms and Conditions that relate to confidentiality of account, login or password information.\nNature of Customer's Business\nIf a Member or an affiliate of Member owns properties and intends to market them directly via the public LoopNet marketplace, ProspectList or LoopLink, such Member represents to LoopNet that it either (a) markets, using its own facilities, more than 2/3 of those properties which it owns and controls, or (b) markets properties for third parties where such third-party brokerage services account for more than twenty percent (20%) of the total revenues of the entity.\nPayment Terms\nCustomer agrees to pay for all products ordered through the LoopNet website or via the LoopNet sales team using the payment method indicated, and provides LoopNet express authorization to charge said fees to the Customer's payment provider at time of purchase or renewal. Fees owed depend on the specific type and quantity of LoopNet products, services, information, or deliverables (collectively \"Deliverables\") ordered. Payment of fees shall not be contingent on any events other than the delivery of the ordered Deliverables. Any attorney fees, court costs, or other costs incurred in collection of delinquent undisputed amounts shall be the responsibility of and paid for by Customer. If payment is not current, LoopNet may immediately cease to provide any and all Deliverables to the Customer. The fees do not include sales, use, excise or any other taxes or fees now or hereafter imposed by any governmental authority with respect to the Deliverables. At LoopNet's option, Customer shall pay such taxes or fees directly or pay to LoopNet any such taxes or fees immediately upon invoicing by LoopNet. LoopNet is required to collect sales tax on purchases in select states. Recurring charges will include sales tax in accordance with applicable laws of your state. To view your billing information, visit My Account. The fees paid for monthly subscriptions are non-refundable, regardless of whether the subscription is terminated prior to the end of the then-current monthly billing period. Discounts received via a product bundle are subject to removal when product(s) in bundle are canceled. No partial month refunds will be provided.\nMonthly subscriptions will automatically renew using the Customer's current credit card account number unless Customer or LoopNet cancels the subscription three (3) days prior to the renewal date. Customer cancellations shall be placed on the LoopNet Website at http://www.LoopNet.com/ProductCancellations. Except as otherwise provided herein, all other member subscriptions, including quarterly and annual commitment subscriptions, will automatically renew for additional terms equaling the original term unless Customer or LoopNet provides thirty (30) days' advance written notice of non-renewal. Quarterly and annual commitment subscriptions may be canceled as of the end of term only; no mid-term cancellations will be permitted. All cancellation and non-renewal requests by Customer will be processed within five (5) business days. Once the cancellation is processed, a confirmation email will be sent via the Customer's email account on record with LoopNet.\nGold, Platinum and Diamond Listing Tier subscriptions may be purchased for 3 month, 6 month or 12 month initial terms.\nDuring the initial term, members are permitted to swap Listing Tiers to other qualifying listings.\nAfter the initial term, the Listing Tier will automatically renew for one month terms, unless Customer or LoopNet cancels the subscription three (3) days prior to the end of the then-current term. After the initial term (i.e. during the subsequently monthly terms), Listing Tier swaps are prohibited. Cancellations are effective at the end of the then-current term; no partial month credits will be provided.\nIf Customer has a question about a cancellation, Customer should contact LoopNet Client Services at Help@LoopNet.com or at 888-567-7442. The Company reserves the right to change its fees or billing methods at any time. The Company will provide timely notice to the affected Customers of any such changes.\nIt is the Customer's responsibility to promptly provide the Company with any contact or billing information changes or updates (including phone number, email address, credit card numbers, etc.). Account updates should be made online via the \"My Account\" tab within the \"My LoopNet\" section, once Customer has logged into www.LoopNet.com. LoopNet does not validate all credit card information required by the Customer's payment provider to secure payment.\nThe Customer must notify LoopNet about any billing problems or discrepancies within 90 days after charges first appear on their Account statement. If it is not brought to LoopNet's attention within 90 days, Customer agrees to waive their right to dispute such problems or discrepancies.\nPremium Subscriptions\nLoopNet offers two distinct paid subscription membership products to its active commercial property listing service: (i) a paid subscription product for those Customers who primarily utilize the Service to actively list and market commercial properties available for sale and/or for lease (\"Premium Lister\" or \"Premium Lister subscription\"), and (ii) a paid subscription product for those Customers who primarily utilize the Service to actively search for commercial properties available for sale and/or for lease (\"Premium Searcher\" or \"Premium Searcher subscription\") (Premium Lister and Premium Searcher collectively, \"Premium Subscriptions\"). A Customer who purchases either a Premium Lister subscription or a Premium Searcher subscription is a \"Premium Customer.\" Premium Subscription privileges are granted by LoopNet to individuals exclusively and extend solely to the subscribing Premium Customer. Premium Subscription rights cannot be assigned, sublicensed, distributed, shared, viewed, accessed, or otherwise transferred to anyone other than the subscribing Premium Customer. Moreover, a Premium Customer may not use a Premium Subscription for the benefit of any other broker, appraiser, researcher, analyst, sales person or similar commercial real estate professional, including without limitation those working for the same company or at the same place of business. For example, a Premium Customer is prohibited from using Premium Searcher to search for available for sale or for lease properties on behalf of, or for the benefit of, other brokers or commercial real estate professionals working for the same company or at the same office. A Premium Customer is similarly prohibited from using Premium Lister to list properties on behalf of, or for the benefit of, other brokers or commercial real estate professionals working for the same company or at the same office. Such Customer of a Premium Lister subscription is permitted to list solely those listings for which he or she is the listing broker. Premium Subscription privileges are subject to change from time to time and may be subject to property listing, property searching, and member directory searching limitations. Under Premium Lister subscription, one (1) through ten (10) Premium Listing Plans are available for purchase online; higher Premium Listing Plans are available for purchase by calling (855) 858-3782. Any listing on which the Primary Contact is a Premium Lister and is within Plan will receive Premium exposure; listings above Plan will receive exposure as Standard listings. Customer acknowledges that LoopNet (in addition to its other remedies) can cancel, not renew, and/or prohibit Premium Subscription privileges to any individual, organization, or group that does not abide by the terms and conditions set forth herein and/or can refuse any or all membership privileges. LoopNet also has the right to refuse service to any Customer or company that has delinquent charges that remain unpaid and to impose additional charges to reactivate Premium Subscription or other membership privileges. Premium Subscriptions continue to renew at the prevailing level regardless of Customer's listing or searching activity on LoopNet.com. Premium Subscriptions will automatically renew to the credit card number provided for initial payment unless the Customer cancels their subscription on the LoopNet Website at http://www.LoopNet.com/ProductCancellations prior to the renewal date to cancel such subscription. The Company reserves the right to change its fees, payment frequency, or billing methods at any time. The Company will provide timely notice of any such changes.\nAfter adding a listing at the Standard exposure level, there will be an option to change current membership level to a Premium Lister with a Premium Listing Plan which will provide Premium exposure for the listing. For all Plan changes submitted online, the Customer will be charged a prorated change plan fee for the remaining days in current billing cycle, and Customer's subscription rate will be adjusted commencing with the next bill date. If Customer was above Plan, Service will upgrade the most recently created Standard Listings to Premium until Customer is within Plan. Premium Members may change current membership level to a lower Premium Listing Plan by clicking to \"Change Plan\" under \"My Account\". Membership change will take effect end of term for Premium Members in a quarterly or annual commitment. Once effective, service will downgrade the earliest created Premium Listing to a Standard Listing until Customer is within Plan or there are no additional listings to downgrade. Prepaid fees will be refunded based on the number of months remaining on the contract period, beginning with the month following receipt of online request submission to change membership level, but may be subject to adjustment according to current monthly product pricing and subject to adjustment for any incentives or discounts provided for said prepayment. No partial month refunds will be provided. The company reserves the right to deactivate complimentary subscriptions granted to Premium Members if there is no search activity for the previous ninety (90) days.\nTargeted Advertising\nCampaigns are available for purchase by Members for member advertising (Premium status not required) by contacting LoopNet Advertising Sales at (888) 207-9234. Once active, the campaign will appear on LoopNet.com desktop, LoopNet.com mobile and IOS apps. Searchers who click the advertisement will be directed to a lead form. Leads will be available for each campaign by clicking the 'Leads' link, accessible via 'My Ads' under 'My LoopNet'. Pricing for each campaign will be determined by the number of available impressions (or views) advertiser desires for a given set of campaign targeting options, including property type, search type (for sale/for lease), and location (zip code). The number of impressions is calculated on the purchase date and remains guaranteed (up to the impression cap provided at campaign purchase) throughout commitment term. Advertising client (\"Client\") acknowledges that the average views per month on LoopNet.com varies, therefore the number of views for a campaign will vary month to month. Campaigns are sold on a quarterly or annual commitment, billed to a credit card on a monthly billing frequency. Monthly invoicing is available when a minimum campaign value is met. All campaigns auto-renew for additional terms, equal to initial term, if price remains within ten percent (10%) of original campaign purchase price. If at renewal, market demand has increased the campaign price more than ten percent (10%), Client will be notified via email that the campaign has expired and Client will need to authorize campaign continuation at current market price. At any time, Client may request to cancel the campaign by calling LoopNet Advertising Sales at (888) 207-9234. Cancellation requests must be submitted three (3) days prior to the last day of the current campaign to effectively cancel the campaign at the end of term and avoid renewal. All cancellations are effective at end of the initial or renewal term and monthly billing will continue for the full commitment. There are no refunds or early terminations. There are five status phases to an advertising campaign:\nDraft Phase",
         "City": " ",
         "Lot Size": " ",
         "Mailing Address": "550 NEWPORT CENTER DR, NEWPORT BEACH, CA 92660",
         "Number Of Stories": " ",
         "Number of Units": " ",
         "Owner Name": "BAKE TECHNOLOGY PARK LLC",
         "Price": "3500000",
         "Total area": " ",
         "Type": "Land",
         "Year Built": " ",
         "_deepnote_index_column": "top"
        },
        {
         "Address": "152",
         "City": "152",
         "Lot Size": "1026",
         "Mailing Address": "1",
         "Number Of Stories": "6181",
         "Number of Units": "8527",
         "Owner Name": "1",
         "Price": "290",
         "Total area": "4315",
         "Type": "3232",
         "Year Built": "5831",
         "_deepnote_index_column": "freq"
        }
       ]
      },
      "text/html": [
       "<div>\n",
       "<style scoped>\n",
       "    .dataframe tbody tr th:only-of-type {\n",
       "        vertical-align: middle;\n",
       "    }\n",
       "\n",
       "    .dataframe tbody tr th {\n",
       "        vertical-align: top;\n",
       "    }\n",
       "\n",
       "    .dataframe thead th {\n",
       "        text-align: right;\n",
       "    }\n",
       "</style>\n",
       "<table border=\"1\" class=\"dataframe\">\n",
       "  <thead>\n",
       "    <tr style=\"text-align: right;\">\n",
       "      <th></th>\n",
       "      <th>Address</th>\n",
       "      <th>City</th>\n",
       "      <th>Owner Name</th>\n",
       "      <th>Mailing Address</th>\n",
       "      <th>Price</th>\n",
       "      <th>Number of Units</th>\n",
       "      <th>Total area</th>\n",
       "      <th>Number Of Stories</th>\n",
       "      <th>Lot Size</th>\n",
       "      <th>Type</th>\n",
       "      <th>Year Built</th>\n",
       "    </tr>\n",
       "  </thead>\n",
       "  <tbody>\n",
       "    <tr>\n",
       "      <th>count</th>\n",
       "      <td>9076</td>\n",
       "      <td>9076</td>\n",
       "      <td>3</td>\n",
       "      <td>3</td>\n",
       "      <td>9076</td>\n",
       "      <td>9076</td>\n",
       "      <td>9076</td>\n",
       "      <td>9076</td>\n",
       "      <td>9076</td>\n",
       "      <td>9076</td>\n",
       "      <td>9076</td>\n",
       "    </tr>\n",
       "    <tr>\n",
       "      <th>unique</th>\n",
       "      <td>8812</td>\n",
       "      <td>5031</td>\n",
       "      <td>3</td>\n",
       "      <td>3</td>\n",
       "      <td>3544</td>\n",
       "      <td>155</td>\n",
       "      <td>3491</td>\n",
       "      <td>23</td>\n",
       "      <td>4601</td>\n",
       "      <td>13</td>\n",
       "      <td>137</td>\n",
       "    </tr>\n",
       "    <tr>\n",
       "      <th>top</th>\n",
       "      <td>Access Denied\\nAccess Denied\\nYou are in breac...</td>\n",
       "      <td></td>\n",
       "      <td>BAKE TECHNOLOGY PARK LLC</td>\n",
       "      <td>550 NEWPORT CENTER DR, NEWPORT BEACH, CA 92660</td>\n",
       "      <td>3500000</td>\n",
       "      <td></td>\n",
       "      <td></td>\n",
       "      <td></td>\n",
       "      <td></td>\n",
       "      <td>Land</td>\n",
       "      <td></td>\n",
       "    </tr>\n",
       "    <tr>\n",
       "      <th>freq</th>\n",
       "      <td>152</td>\n",
       "      <td>152</td>\n",
       "      <td>1</td>\n",
       "      <td>1</td>\n",
       "      <td>290</td>\n",
       "      <td>8527</td>\n",
       "      <td>4315</td>\n",
       "      <td>6181</td>\n",
       "      <td>1026</td>\n",
       "      <td>3232</td>\n",
       "      <td>5831</td>\n",
       "    </tr>\n",
       "  </tbody>\n",
       "</table>\n",
       "</div>"
      ],
      "text/plain": [
       "                                                  Address  City  \\\n",
       "count                                                9076  9076   \n",
       "unique                                               8812  5031   \n",
       "top     Access Denied\\nAccess Denied\\nYou are in breac...         \n",
       "freq                                                  152   152   \n",
       "\n",
       "                      Owner Name  \\\n",
       "count                          3   \n",
       "unique                         3   \n",
       "top     BAKE TECHNOLOGY PARK LLC   \n",
       "freq                           1   \n",
       "\n",
       "                                       Mailing Address    Price  \\\n",
       "count                                                3     9076   \n",
       "unique                                               3     3544   \n",
       "top     550 NEWPORT CENTER DR, NEWPORT BEACH, CA 92660  3500000   \n",
       "freq                                                 1      290   \n",
       "\n",
       "       Number of Units Total area Number Of Stories Lot Size  Type Year Built  \n",
       "count             9076       9076              9076     9076  9076       9076  \n",
       "unique             155       3491                23     4601    13        137  \n",
       "top                                                           Land             \n",
       "freq              8527       4315              6181     1026  3232       5831  "
      ]
     },
     "execution_count": 6,
     "metadata": {},
     "output_type": "execute_result"
    }
   ],
   "source": [
    "# summary statistics of the data that we use\n",
    "df.describe()"
   ]
  },
  {
   "cell_type": "markdown",
   "metadata": {
    "cell_id": "00013-91999327-8512-4bfa-9a3e-b5483a52dbfb",
    "deepnote_cell_type": "markdown",
    "tags": []
   },
   "source": [
    "- df.head() offers a glimpse of what the first few rows of the data frame look like."
   ]
  },
  {
   "cell_type": "code",
   "execution_count": null,
   "metadata": {
    "cell_id": "00014-2e311469-e9af-4ea5-901d-c8948aa4ec6e",
    "deepnote_cell_type": "code",
    "deepnote_to_be_reexecuted": false,
    "execution_millis": 74,
    "execution_start": 1620055365285,
    "source_hash": "c085b6ba",
    "tags": []
   },
   "outputs": [
    {
     "data": {
      "application/vnd.deepnote.dataframe.v2+json": {
       "column_count": 11,
       "columns": [
        {
         "dtype": "object",
         "name": "Address",
         "stats": {
          "categories": [
           {
            "count": 1,
            "name": "6060 Electron Dr., Anchorage, AK, 99518"
           },
           {
            "count": 1,
            "name": "1901 Airport Way, Fairbanks, AK, 99701"
           },
           {
            "count": 3,
            "name": "3 others"
           }
          ],
          "nan_count": 0,
          "unique_count": 5
         }
        },
        {
         "dtype": "object",
         "name": "City",
         "stats": {
          "categories": [
           {
            "count": 1,
            "name": "Anchorage, AK 99518 ·"
           },
           {
            "count": 1,
            "name": "Fairbanks, AK 99701 ·"
           },
           {
            "count": 3,
            "name": "3 others"
           }
          ],
          "nan_count": 0,
          "unique_count": 5
         }
        },
        {
         "dtype": "object",
         "name": "Owner Name",
         "stats": {
          "categories": [
           {
            "count": 1,
            "name": "ODEX INVESTMENTS V LLC"
           },
           {
            "count": 2,
            "name": "2 others"
           },
           {
            "count": 2,
            "name": "Missing"
           }
          ],
          "nan_count": 2,
          "unique_count": 3
         }
        },
        {
         "dtype": "object",
         "name": "Mailing Address",
         "stats": {
          "categories": [
           {
            "count": 1,
            "name": "1001 4TH AVE STE 4500, SEATTLE, WA 98154"
           },
           {
            "count": 2,
            "name": "2 others"
           },
           {
            "count": 2,
            "name": "Missing"
           }
          ],
          "nan_count": 2,
          "unique_count": 3
         }
        },
        {
         "dtype": "float64",
         "name": "Price",
         "stats": {
          "histogram": [
           {
            "bin_end": 3964243.1,
            "bin_start": 3267000,
            "count": 2
           },
           {
            "bin_end": 4661486.2,
            "bin_start": 3964243.1,
            "count": 1
           },
           {
            "bin_end": 5358729.3,
            "bin_start": 4661486.2,
            "count": 1
           },
           {
            "bin_end": 6055972.4,
            "bin_start": 5358729.3,
            "count": 0
           },
           {
            "bin_end": 6753215.5,
            "bin_start": 6055972.4,
            "count": 0
           },
           {
            "bin_end": 7450458.6,
            "bin_start": 6753215.5,
            "count": 0
           },
           {
            "bin_end": 8147701.7,
            "bin_start": 7450458.6,
            "count": 0
           },
           {
            "bin_end": 8844944.8,
            "bin_start": 8147701.7,
            "count": 0
           },
           {
            "bin_end": 9542187.899999999,
            "bin_start": 8844944.8,
            "count": 0
           },
           {
            "bin_end": 10239431,
            "bin_start": 9542187.899999999,
            "count": 1
           }
          ],
          "max": "10239431.0",
          "min": "3267000.0",
          "nan_count": 0,
          "unique_count": 5
         }
        },
        {
         "dtype": "object",
         "name": "Number of Units",
         "stats": {
          "categories": [
           {
            "count": 5,
            "name": " "
           }
          ],
          "nan_count": 0,
          "unique_count": 1
         }
        },
        {
         "dtype": "float64",
         "name": "Total area",
         "stats": {
          "histogram": [
           {
            "bin_end": 11852.1,
            "bin_start": 10000,
            "count": 1
           },
           {
            "bin_end": 13704.2,
            "bin_start": 11852.1,
            "count": 0
           },
           {
            "bin_end": 15556.3,
            "bin_start": 13704.2,
            "count": 0
           },
           {
            "bin_end": 17408.4,
            "bin_start": 15556.3,
            "count": 0
           },
           {
            "bin_end": 19260.5,
            "bin_start": 17408.4,
            "count": 0
           },
           {
            "bin_end": 21112.6,
            "bin_start": 19260.5,
            "count": 0
           },
           {
            "bin_end": 22964.699999999997,
            "bin_start": 21112.6,
            "count": 0
           },
           {
            "bin_end": 24816.8,
            "bin_start": 22964.699999999997,
            "count": 0
           },
           {
            "bin_end": 26668.899999999998,
            "bin_start": 24816.8,
            "count": 0
           },
           {
            "bin_end": 28521,
            "bin_start": 26668.899999999998,
            "count": 1
           }
          ],
          "max": "28521.0",
          "min": "10000.0",
          "nan_count": 3,
          "unique_count": 2
         }
        },
        {
         "dtype": "object",
         "name": "Number Of Stories",
         "stats": {
          "categories": [
           {
            "count": 3,
            "name": " "
           },
           {
            "count": 2,
            "name": "1"
           }
          ],
          "nan_count": 0,
          "unique_count": 2
         }
        },
        {
         "dtype": "object",
         "name": "Lot Size",
         "stats": {
          "categories": [
           {
            "count": 1,
            "name": "680,276 SF"
           },
           {
            "count": 1,
            "name": "3.26 AC"
           },
           {
            "count": 3,
            "name": "3 others"
           }
          ],
          "nan_count": 0,
          "unique_count": 5
         }
        },
        {
         "dtype": "object",
         "name": "Type",
         "stats": {
          "categories": [
           {
            "count": 2,
            "name": "Land"
           },
           {
            "count": 2,
            "name": "Office"
           },
           {
            "count": 1,
            "name": "Retail"
           }
          ],
          "nan_count": 0,
          "unique_count": 3
         }
        },
        {
         "dtype": "object",
         "name": "Year Built",
         "stats": {
          "categories": [
           {
            "count": 3,
            "name": " "
           },
           {
            "count": 1,
            "name": "2006"
           },
           {
            "count": 1,
            "name": "1978"
           }
          ],
          "nan_count": 0,
          "unique_count": 3
         }
        },
        {
         "dtype": "int64",
         "name": "_deepnote_index_column"
        }
       ],
       "row_count": 5,
       "rows_bottom": null,
       "rows_top": [
        {
         "Address": "6060 Electron Dr., Anchorage, AK, 99518",
         "City": "Anchorage, AK 99518 ·",
         "Lot Size": "680,276 SF",
         "Mailing Address": "1001 4TH AVE STE 4500, SEATTLE, WA 98154",
         "Number Of Stories": " ",
         "Number of Units": " ",
         "Owner Name": "ODEX INVESTMENTS V LLC",
         "Price": 10239431,
         "Total area": "nan",
         "Type": "Land",
         "Year Built": " ",
         "_deepnote_index_column": 0
        },
        {
         "Address": "1901 Airport Way, Fairbanks, AK, 99701",
         "City": "Fairbanks, AK 99701 ·",
         "Lot Size": "3.26 AC",
         "Mailing Address": "1331 N CALIFORNIA BLVD STE 170, WALNUT CREEK, CA 94596",
         "Number Of Stories": "1",
         "Number of Units": " ",
         "Owner Name": "SEATTLE SC PLAZA 2 LLC",
         "Price": 4050000,
         "Total area": "10000.0",
         "Type": "Office",
         "Year Built": "2006",
         "_deepnote_index_column": 1
        },
        {
         "Address": "4510 Old International Airport Rd 99502, Anchorage, AK, 99502",
         "City": "Anchorage, AK 99502 ·",
         "Lot Size": "1.09 AC",
         "Mailing Address": "nan",
         "Number Of Stories": " ",
         "Number of Units": " ",
         "Owner Name": "nan",
         "Price": 3500000,
         "Total area": "28521.0",
         "Type": "Office",
         "Year Built": " ",
         "_deepnote_index_column": 2
        },
        {
         "Address": "7645 W. Marigold Drive, Wasilla, AK, 99654",
         "City": "Wasilla, AK 99654 ·",
         "Lot Size": "25 AC",
         "Mailing Address": "550 NEWPORT CENTER DR, NEWPORT BEACH, CA 92660",
         "Number Of Stories": " ",
         "Number of Units": " ",
         "Owner Name": "BAKE TECHNOLOGY PARK LLC",
         "Price": 3267000,
         "Total area": "nan",
         "Type": "Land",
         "Year Built": " ",
         "_deepnote_index_column": 3
        },
        {
         "Address": "171 Muldoon Rd, Anchorage, AK, 99504",
         "City": "Anchorage, AK 99504 ·",
         "Lot Size": "81,893 SF",
         "Mailing Address": "nan",
         "Number Of Stories": "1",
         "Number of Units": " ",
         "Owner Name": "nan",
         "Price": 5000000,
         "Total area": "nan",
         "Type": "Retail",
         "Year Built": "1978",
         "_deepnote_index_column": 4
        }
       ]
      },
      "text/html": [
       "<div>\n",
       "<style scoped>\n",
       "    .dataframe tbody tr th:only-of-type {\n",
       "        vertical-align: middle;\n",
       "    }\n",
       "\n",
       "    .dataframe tbody tr th {\n",
       "        vertical-align: top;\n",
       "    }\n",
       "\n",
       "    .dataframe thead th {\n",
       "        text-align: right;\n",
       "    }\n",
       "</style>\n",
       "<table border=\"1\" class=\"dataframe\">\n",
       "  <thead>\n",
       "    <tr style=\"text-align: right;\">\n",
       "      <th></th>\n",
       "      <th>Address</th>\n",
       "      <th>City</th>\n",
       "      <th>Owner Name</th>\n",
       "      <th>Mailing Address</th>\n",
       "      <th>Price</th>\n",
       "      <th>Number of Units</th>\n",
       "      <th>Total area</th>\n",
       "      <th>Number Of Stories</th>\n",
       "      <th>Lot Size</th>\n",
       "      <th>Type</th>\n",
       "      <th>Year Built</th>\n",
       "    </tr>\n",
       "  </thead>\n",
       "  <tbody>\n",
       "    <tr>\n",
       "      <th>0</th>\n",
       "      <td>6060 Electron Dr., Anchorage, AK, 99518</td>\n",
       "      <td>Anchorage, AK 99518 ·</td>\n",
       "      <td>ODEX INVESTMENTS V LLC</td>\n",
       "      <td>1001 4TH AVE STE 4500, SEATTLE, WA 98154</td>\n",
       "      <td>10239431.0</td>\n",
       "      <td></td>\n",
       "      <td>NaN</td>\n",
       "      <td></td>\n",
       "      <td>680,276 SF</td>\n",
       "      <td>Land</td>\n",
       "      <td></td>\n",
       "    </tr>\n",
       "    <tr>\n",
       "      <th>1</th>\n",
       "      <td>1901 Airport Way, Fairbanks, AK, 99701</td>\n",
       "      <td>Fairbanks, AK 99701 ·</td>\n",
       "      <td>SEATTLE SC PLAZA 2 LLC</td>\n",
       "      <td>1331 N CALIFORNIA BLVD STE 170, WALNUT CREEK, ...</td>\n",
       "      <td>4050000.0</td>\n",
       "      <td></td>\n",
       "      <td>10000.0</td>\n",
       "      <td>1</td>\n",
       "      <td>3.26 AC</td>\n",
       "      <td>Office</td>\n",
       "      <td>2006</td>\n",
       "    </tr>\n",
       "    <tr>\n",
       "      <th>2</th>\n",
       "      <td>4510 Old International Airport Rd 99502, Ancho...</td>\n",
       "      <td>Anchorage, AK 99502 ·</td>\n",
       "      <td>NaN</td>\n",
       "      <td>NaN</td>\n",
       "      <td>3500000.0</td>\n",
       "      <td></td>\n",
       "      <td>28521.0</td>\n",
       "      <td></td>\n",
       "      <td>1.09 AC</td>\n",
       "      <td>Office</td>\n",
       "      <td></td>\n",
       "    </tr>\n",
       "    <tr>\n",
       "      <th>3</th>\n",
       "      <td>7645 W. Marigold Drive, Wasilla, AK, 99654</td>\n",
       "      <td>Wasilla, AK 99654 ·</td>\n",
       "      <td>BAKE TECHNOLOGY PARK LLC</td>\n",
       "      <td>550 NEWPORT CENTER DR, NEWPORT BEACH, CA 92660</td>\n",
       "      <td>3267000.0</td>\n",
       "      <td></td>\n",
       "      <td>NaN</td>\n",
       "      <td></td>\n",
       "      <td>25 AC</td>\n",
       "      <td>Land</td>\n",
       "      <td></td>\n",
       "    </tr>\n",
       "    <tr>\n",
       "      <th>4</th>\n",
       "      <td>171 Muldoon Rd, Anchorage, AK, 99504</td>\n",
       "      <td>Anchorage, AK 99504 ·</td>\n",
       "      <td>NaN</td>\n",
       "      <td>NaN</td>\n",
       "      <td>5000000.0</td>\n",
       "      <td></td>\n",
       "      <td>NaN</td>\n",
       "      <td>1</td>\n",
       "      <td>81,893 SF</td>\n",
       "      <td>Retail</td>\n",
       "      <td>1978</td>\n",
       "    </tr>\n",
       "  </tbody>\n",
       "</table>\n",
       "</div>"
      ],
      "text/plain": [
       "                                             Address                   City  \\\n",
       "0            6060 Electron Dr., Anchorage, AK, 99518  Anchorage, AK 99518 ·   \n",
       "1             1901 Airport Way, Fairbanks, AK, 99701  Fairbanks, AK 99701 ·   \n",
       "2  4510 Old International Airport Rd 99502, Ancho...  Anchorage, AK 99502 ·   \n",
       "3         7645 W. Marigold Drive, Wasilla, AK, 99654    Wasilla, AK 99654 ·   \n",
       "4               171 Muldoon Rd, Anchorage, AK, 99504  Anchorage, AK 99504 ·   \n",
       "\n",
       "                 Owner Name  \\\n",
       "0    ODEX INVESTMENTS V LLC   \n",
       "1    SEATTLE SC PLAZA 2 LLC   \n",
       "2                       NaN   \n",
       "3  BAKE TECHNOLOGY PARK LLC   \n",
       "4                       NaN   \n",
       "\n",
       "                                     Mailing Address       Price  \\\n",
       "0           1001 4TH AVE STE 4500, SEATTLE, WA 98154  10239431.0   \n",
       "1  1331 N CALIFORNIA BLVD STE 170, WALNUT CREEK, ...   4050000.0   \n",
       "2                                                NaN   3500000.0   \n",
       "3     550 NEWPORT CENTER DR, NEWPORT BEACH, CA 92660   3267000.0   \n",
       "4                                                NaN   5000000.0   \n",
       "\n",
       "  Number of Units  Total area Number Of Stories    Lot Size    Type Year Built  \n",
       "0                         NaN                    680,276 SF    Land             \n",
       "1                     10000.0                 1     3.26 AC  Office       2006  \n",
       "2                     28521.0                       1.09 AC  Office             \n",
       "3                         NaN                         25 AC    Land             \n",
       "4                         NaN                 1   81,893 SF  Retail       1978  "
      ]
     },
     "execution_count": 8,
     "metadata": {},
     "output_type": "execute_result"
    }
   ],
   "source": [
    "df.head()"
   ]
  },
  {
   "cell_type": "markdown",
   "metadata": {
    "cell_id": "00014-1e6912d4-fe76-4797-b52e-948d2a0a8aa9",
    "deepnote_cell_type": "markdown",
    "tags": []
   },
   "source": [
    "- We then present the distribution of the commerical real estate prices in the dataset that we use (as shown in theh following plot)."
   ]
  },
  {
   "cell_type": "code",
   "execution_count": null,
   "metadata": {
    "cell_id": "00004-d9a446f8-c0c1-49ab-8d88-7d33c60e8ac0",
    "deepnote_cell_type": "code",
    "deepnote_to_be_reexecuted": false,
    "execution_millis": 827,
    "execution_start": 1620076344094,
    "source_hash": "1234e74a",
    "tags": []
   },
   "outputs": [
    {
     "data": {
      "image/png": "[encoded data removed]",
      "text/plain": [
       "<Figure size 432x288 with 1 Axes>"
      ]
     },
     "metadata": {
      "image/png": {
       "height": 280,
       "width": 424
      },
      "needs_background": "light"
     },
     "output_type": "display_data"
    }
   ],
   "source": [
    "#Check if total area is in other units\n",
    "if len(df.loc[df['Total area'].str.match(r\"^\\d+\\s[a-zA-Z]+$\"), ['Total area']]) == 0:\n",
    "    df['Total area'] = pd.to_numeric(df['Total area'], errors = 'coerce')\n",
    "\n",
    "# Average the price that is in the form of \"LowestPrice - HighestPrice\"\n",
    "df.loc[df['Price'].str.match(r\"(\\d+) - (\\d+)\"), ['Price']] = df['Price'].str.replace(r\"(\\d+) - (\\d+)\", lambda x: \"{}\".format(\n",
    "    (int(x.group(1))+int(x.group(2)))/2\n",
    "    ), regex = True)\n",
    "df['Price'] = pd.to_numeric(df['Price'], errors = 'coerce')\n",
    "\n",
    "# plot the distribution of the prices\n",
    "fig, ax = plt.subplots()\n",
    "n, bins, patches = ax.hist(x=df['Price'], bins = 'auto', rwidth = 0.85)\n",
    "ax.set_xlabel(\"Price\")\n",
    "ax.set_ylabel(\"Count\")\n",
    "fig.tight_layout()\n",
    "plt.show()"
   ]
  },
  {
   "cell_type": "markdown",
   "metadata": {
    "cell_id": "00013-3c02eca1-b7ac-4b09-84a8-801cba5f60ee",
    "deepnote_cell_type": "markdown",
    "tags": []
   },
   "source": [
    "- Similarly, here's a plot of the distribution of the column \"total area\" in the data frame."
   ]
  },
  {
   "cell_type": "code",
   "execution_count": null,
   "metadata": {
    "cell_id": "00005-197730ec-d099-40ae-b8e6-8217c914288a",
    "deepnote_cell_type": "code",
    "deepnote_to_be_reexecuted": false,
    "execution_millis": 1329,
    "execution_start": 1620076349247,
    "output_cleared": false,
    "source_hash": "65f3fe6a",
    "tags": []
   },
   "outputs": [
    {
     "data": {
      "image/png": "[encoded data removed]",
      "text/plain": [
       "<Figure size 432x288 with 1 Axes>"
      ]
     },
     "metadata": {
      "image/png": {
       "height": 280,
       "width": 424
      },
      "needs_background": "light"
     },
     "output_type": "display_data"
    }
   ],
   "source": [
    "# plot the distribution of the variable \"total area\"\n",
    "fig, ax = plt.subplots()\n",
    "n, bins, patches = ax.hist(x=df['Total area'], bins = 'auto', rwidth = 0.85)\n",
    "ax.set_xlabel(\"Total Area\")\n",
    "ax.set_ylabel(\"Count\")\n",
    "fig.tight_layout()\n",
    "plt.show()"
   ]
  },
  {
   "cell_type": "markdown",
   "metadata": {
    "cell_id": "00019-a9a3d0e7-c4e7-44d4-a786-dc15d4cb0cd8",
    "deepnote_cell_type": "markdown",
    "tags": []
   },
   "source": [
    "- Moreover, the frequency table below shows the number of counts for each type of commercial real estates that belong to the qualitative variable \"property type\". "
   ]
  },
  {
   "cell_type": "code",
   "execution_count": null,
   "metadata": {
    "cell_id": "00020-896b28a9-10d9-4d46-8534-abc22d81e483",
    "deepnote_cell_type": "code",
    "deepnote_to_be_reexecuted": false,
    "execution_millis": 8,
    "execution_start": 1620076353931,
    "source_hash": "7d92ca0e",
    "tags": []
   },
   "outputs": [
    {
     "data": {
      "text/plain": [
       "Land                     3232\n",
       "Retail                   2147\n",
       "Industrial               1187\n",
       "Office                   1058\n",
       "Multifamily               588\n",
       "Hotel & Motel             271\n",
       "Special Purpose           186\n",
       "Agricultural              152\n",
       "                          152\n",
       "Residential Income         45\n",
       "Senior Housing             27\n",
       "Sport & Entertainment      23\n",
       "Health Care                 8\n",
       "Name: Type, dtype: int64"
      ]
     },
     "execution_count": 9,
     "metadata": {},
     "output_type": "execute_result"
    }
   ],
   "source": [
    "df['Type'].value_counts()"
   ]
  },
  {
   "cell_type": "code",
   "execution_count": null,
   "metadata": {
    "cell_id": "00007-774eed28-ea38-488c-8a4b-dc64809e2c0b",
    "deepnote_cell_type": "code",
    "deepnote_to_be_reexecuted": false,
    "execution_millis": 21256,
    "execution_start": 1620011386301,
    "output_cleared": true,
    "source_hash": "4244587e",
    "tags": []
   },
   "outputs": [],
   "source": [
    "APIKEY = getpass.getpass()"
   ]
  },
  {
   "cell_type": "code",
   "execution_count": null,
   "metadata": {
    "cell_id": "00006-4910e170-04de-487f-b245-78dd1b722a8f",
    "deepnote_cell_type": "code",
    "deepnote_to_be_reexecuted": false,
    "execution_millis": 5593300,
    "execution_start": 1617473097738,
    "output_cleared": true,
    "source_hash": null,
    "tags": []
   },
   "outputs": [],
   "source": [
    "# Geocoding addresses into geographic coordinates\n",
    "from geopy.extra.rate_limiter import RateLimiter\n",
    "locator = geopy.GoogleV3(api_key=APIKEY, timeout=20)\n",
    "geocode = RateLimiter(locator.geocode, min_delay_seconds = 0.3)\n",
    "df.loc[:,'location'] = df.loc[:,'Address'].apply(geocode)\n",
    "df.loc[:,'point'] = df.loc[:,'location'].apply(lambda loc: tuple(loc.point) if loc else None)\n",
    "#df.to_csv('data.csv')"
   ]
  },
  {
   "cell_type": "code",
   "execution_count": null,
   "metadata": {
    "cell_id": "00009-d8d1ced6-8401-4545-b193-4620aa5dfe49",
    "deepnote_cell_type": "code",
    "deepnote_to_be_reexecuted": false,
    "execution_millis": 210,
    "execution_start": 1620076397853,
    "source_hash": "a654554e",
    "tags": []
   },
   "outputs": [
    {
     "data": {
      "text/html": [
       "<div style=\"width:100%;\"><div style=\"position:relative;width:100%;height:0;padding-bottom:60%;\"><span style=\"color:#565656\">Make this Notebook Trusted to load map: File -> Trust Notebook</span><iframe src=\"about:blank\" style=\"position:absolute;width:100%;height:100%;left:0;top:0;border:none !important;\" data-html=%3C%21DOCTYPE%20html%3E%0A%3Chead%3E%20%20%20%20%0A%20%20%20%20%3Cmeta%20http-equiv%3D%22content-type%22%20content%3D%22text/html%3B%20charset%3DUTF-8%22%20/%3E%0A%20%20%20%20%0A%20%20%20%20%20%20%20%20%3Cscript%3E%0A%20%20%20%20%20%20%20%20%20%20%20%20L_NO_TOUCH%20%3D%20false%3B%0A%20%20%20%20%20%20%20%20%20%20%20%20L_DISABLE_3D%20%3D%20false%3B%0A%20%20%20%20%20%20%20%20%3C/script%3E%0A%20%20%20%20%0A%20%20%20%20%3Cstyle%3Ehtml%2C%20body%20%7Bwidth%3A%20100%25%3Bheight%3A%20100%25%3Bmargin%3A%200%3Bpadding%3A%200%3B%7D%3C/style%3E%0A%20%20%20%20%3Cstyle%3E%23map%20%7Bposition%3Aabsolute%3Btop%3A0%3Bbottom%3A0%3Bright%3A0%3Bleft%3A0%3B%7D%3C/style%3E%0A%20%20%20%20%3Cscript%20src%3D%22https%3A//cdn.jsdelivr.net/npm/leaflet%401.6.0/dist/leaflet.js%22%3E%3C/script%3E%0A%20%20%20%20%3Cscript%20src%3D%22https%3A//code.jquery.com/jquery-1.12.4.min.js%22%3E%3C/script%3E%0A%20%20%20%20%3Cscript%20src%3D%22https%3A//maxcdn.bootstrapcdn.com/bootstrap/3.2.0/js/bootstrap.min.js%22%3E%3C/script%3E%0A%20%20%20%20%3Cscript%20src%3D%22https%3A//cdnjs.cloudflare.com/ajax/libs/Leaflet.awesome-markers/2.0.2/leaflet.awesome-markers.js%22%3E%3C/script%3E%0A%20%20%20%20%3Clink%20rel%3D%22stylesheet%22%20href%3D%22https%3A//cdn.jsdelivr.net/npm/leaflet%401.6.0/dist/leaflet.css%22/%3E%0A%20%20%20%20%3Clink%20rel%3D%22stylesheet%22%20href%3D%22https%3A//maxcdn.bootstrapcdn.com/bootstrap/3.2.0/css/bootstrap.min.css%22/%3E%0A%20%20%20%20%3Clink%20rel%3D%22stylesheet%22%20href%3D%22https%3A//maxcdn.bootstrapcdn.com/bootstrap/3.2.0/css/bootstrap-theme.min.css%22/%3E%0A%20%20%20%20%3Clink%20rel%3D%22stylesheet%22%20href%3D%22https%3A//maxcdn.bootstrapcdn.com/font-awesome/4.6.3/css/font-awesome.min.css%22/%3E%0A%20%20%20%20%3Clink%20rel%3D%22stylesheet%22%20href%3D%22https%3A//cdnjs.cloudflare.com/ajax/libs/Leaflet.awesome-markers/2.0.2/leaflet.awesome-markers.css%22/%3E%0A%20%20%20%20%3Clink%20rel%3D%22stylesheet%22%20href%3D%22https%3A//cdn.jsdelivr.net/gh/python-visualization/folium/folium/templates/leaflet.awesome.rotate.min.css%22/%3E%0A%20%20%20%20%0A%20%20%20%20%20%20%20%20%20%20%20%20%3Cmeta%20name%3D%22viewport%22%20content%3D%22width%3Ddevice-width%2C%0A%20%20%20%20%20%20%20%20%20%20%20%20%20%20%20%20initial-scale%3D1.0%2C%20maximum-scale%3D1.0%2C%20user-scalable%3Dno%22%20/%3E%0A%20%20%20%20%20%20%20%20%20%20%20%20%3Cstyle%3E%0A%20%20%20%20%20%20%20%20%20%20%20%20%20%20%20%20%23map_468d2896391b4294b41d3ea6f0759506%20%7B%0A%20%20%20%20%20%20%20%20%20%20%20%20%20%20%20%20%20%20%20%20position%3A%20relative%3B%0A%20%20%20%20%20%20%20%20%20%20%20%20%20%20%20%20%20%20%20%20width%3A%20100.0%25%3B%0A%20%20%20%20%20%20%20%20%20%20%20%20%20%20%20%20%20%20%20%20height%3A%20100.0%25%3B%0A%20%20%20%20%20%20%20%20%20%20%20%20%20%20%20%20%20%20%20%20left%3A%200.0%25%3B%0A%20%20%20%20%20%20%20%20%20%20%20%20%20%20%20%20%20%20%20%20top%3A%200.0%25%3B%0A%20%20%20%20%20%20%20%20%20%20%20%20%20%20%20%20%7D%0A%20%20%20%20%20%20%20%20%20%20%20%20%3C/style%3E%0A%20%20%20%20%20%20%20%20%0A%20%20%20%20%3Cscript%20src%3D%22https%3A//cdnjs.cloudflare.com/ajax/libs/leaflet.markercluster/1.1.0/leaflet.markercluster.js%22%3E%3C/script%3E%0A%20%20%20%20%3Clink%20rel%3D%22stylesheet%22%20href%3D%22https%3A//cdnjs.cloudflare.com/ajax/libs/leaflet.markercluster/1.1.0/MarkerCluster.css%22/%3E%0A%20%20%20%20%3Clink%20rel%3D%22stylesheet%22%20href%3D%22https%3A//cdnjs.cloudflare.com/ajax/libs/leaflet.markercluster/1.1.0/MarkerCluster.Default.css%22/%3E%0A%3C/head%3E%0A%3Cbody%3E%20%20%20%20%0A%20%20%20%20%0A%20%20%20%20%20%20%20%20%20%20%20%20%3Cdiv%20class%3D%22folium-map%22%20id%3D%22map_468d2896391b4294b41d3ea6f0759506%22%20%3E%3C/div%3E%0A%20%20%20%20%20%20%20%20%0A%3C/body%3E%0A%3Cscript%3E%20%20%20%20%0A%20%20%20%20%0A%20%20%20%20%20%20%20%20%20%20%20%20var%20map_468d2896391b4294b41d3ea6f0759506%20%3D%20L.map%28%0A%20%20%20%20%20%20%20%20%20%20%20%20%20%20%20%20%22map_468d2896391b4294b41d3ea6f0759506%22%2C%0A%20%20%20%20%20%20%20%20%20%20%20%20%20%20%20%20%7B%0A%20%20%20%20%20%20%20%20%20%20%20%20%20%20%20%20%20%20%20%20center%3A%20%5B38.99699%2C%20-101.46342%5D%2C%0A%20%20%20%20%20%20%20%20%20%20%20%20%20%20%20%20%20%20%20%20crs%3A%20L.CRS.EPSG3857%2C%0A%20%20%20%20%20%20%20%20%20%20%20%20%20%20%20%20%20%20%20%20zoom%3A%205%2C%0A%20%20%20%20%20%20%20%20%20%20%20%20%20%20%20%20%20%20%20%20zoomControl%3A%20true%2C%0A%20%20%20%20%20%20%20%20%20%20%20%20%20%20%20%20%20%20%20%20preferCanvas%3A%20false%2C%0A%20%20%20%20%20%20%20%20%20%20%20%20%20%20%20%20%7D%0A%20%20%20%20%20%20%20%20%20%20%20%20%29%3B%0A%0A%20%20%20%20%20%20%20%20%20%20%20%20%0A%0A%20%20%20%20%20%20%20%20%0A%20%20%20%20%0A%20%20%20%20%20%20%20%20%20%20%20%20var%20tile_layer_966975d070a74831b9c563babe897ed6%20%3D%20L.tileLayer%28%0A%20%20%20%20%20%20%20%20%20%20%20%20%20%20%20%20%22https%3A//cartodb-basemaps-%7Bs%7D.global.ssl.fastly.net/dark_all/%7Bz%7D/%7Bx%7D/%7By%7D.png%22%2C%0A%20%20%20%20%20%20%20%20%20%20%20%20%20%20%20%20%7B%22attribution%22%3A%20%22%5Cu0026copy%3B%20%5Cu003ca%20href%3D%5C%22http%3A//www.openstreetmap.org/copyright%5C%22%5Cu003eOpenStreetMap%5Cu003c/a%5Cu003e%20contributors%20%5Cu0026copy%3B%20%5Cu003ca%20href%3D%5C%22http%3A//cartodb.com/attributions%5C%22%5Cu003eCartoDB%5Cu003c/a%5Cu003e%2C%20CartoDB%20%5Cu003ca%20href%20%3D%5C%22http%3A//cartodb.com/attributions%5C%22%5Cu003eattributions%5Cu003c/a%5Cu003e%22%2C%20%22detectRetina%22%3A%20false%2C%20%22maxNativeZoom%22%3A%2018%2C%20%22maxZoom%22%3A%2018%2C%20%22minZoom%22%3A%200%2C%20%22noWrap%22%3A%20false%2C%20%22opacity%22%3A%201%2C%20%22subdomains%22%3A%20%22abc%22%2C%20%22tms%22%3A%20false%7D%0A%20%20%20%20%20%20%20%20%20%20%20%20%29.addTo%28map_468d2896391b4294b41d3ea6f0759506%29%3B%0A%20%20%20%20%20%20%20%20%0A%20%20%20%20%0A%20%20%20%20%20%20%20%20%20%20%20%20var%20fast_marker_cluster_611260a2122f463daf205819483c7e90%20%3D%20%28function%28%29%7B%0A%20%20%20%20%20%20%20%20%20%20%20%20%20%20%20%20%0A%20%20%20%20%20%20%20%20%20%20%20%20%20%20%20%20var%20callback%20%3D%20function%20%28row%29%20%7B%0A%20%20%20%20%20%20%20%20%20%20%20%20%20%20%20%20%20%20%20%20var%20icon%20%3D%20L.AwesomeMarkers.icon%28%29%3B%0A%20%20%20%20%20%20%20%20%20%20%20%20%20%20%20%20%20%20%20%20var%20marker%20%3D%20L.marker%28new%20L.LatLng%28row%5B0%5D%2C%20row%5B1%5D%29%29%3B%0A%20%20%20%20%20%20%20%20%20%20%20%20%20%20%20%20%20%20%20%20marker.setIcon%28icon%29%3B%0A%20%20%20%20%20%20%20%20%20%20%20%20%20%20%20%20%20%20%20%20return%20marker%3B%0A%20%20%20%20%20%20%20%20%20%20%20%20%20%20%20%20%7D%3B%0A%0A%20%20%20%20%20%20%20%20%20%20%20%20%20%20%20%20var%20data%20%3D%20%5B%5B61.16603399999999%2C%20-149.9016827%5D%2C%20%5B64.8349023%2C%20-147.7582846%5D%2C%20%5B61.1738857%2C%20-149.9692989%5D%2C%20%5B61.578439%2C%20-149.642387%5D%2C%20%5B61.2228303%2C%20-149.7324763%5D%2C%20%5B61.3299967%2C%20-149.5746472%5D%2C%20%5B70.2251892%2C%20-148.4144994%5D%2C%20%5B61.2175846%2C%20-149.8103761%5D%2C%20%5B61.3385763%2C%20-149.5613135%5D%2C%20%5B61.589711%2C%20-149.1208999%5D%2C%20%5B61.16306669999999%2C%20-149.8391697%5D%2C%20%5B61.18965499999999%2C%20-149.8594479%5D%2C%20%5B64.8086343%2C%20-147.7125456%5D%2C%20%5B61.573241%2C%20-149.371148%5D%2C%20%5B61.575271%2C%20-149.4098704%5D%2C%20%5B61.2147317%2C%20-149.8719604%5D%2C%20%5B61.19053530000001%2C%20-149.8984086%5D%2C%20%5B63.9282308%2C%20-145.1518801%5D%2C%20%5B58.44038250000001%2C%20-135.6798304%5D%2C%20%5B61.5708143%2C%20-149.3761151%5D%2C%20%5B60.48587879999999%2C%20-151.0577553%5D%2C%20%5B61.217305%2C%20-149.900137%5D%2C%20%5B36.17679529999999%2C%20-115.0811074%5D%2C%20%5B70.2251892%2C%20-148.4144994%5D%2C%20%5B61.22126759999999%2C%20-149.8870005%5D%2C%20%5B60.5644676%2C%20-151.2311079%5D%2C%20%5B61.1407166%2C%20-149.8351354%5D%2C%20%5B61.2128533%2C%20-149.8702284%5D%2C%20%5B32.269698%2C%20-86.36704259999999%5D%2C%20%5B34.8400444%2C%20-87.6375702%5D%2C%20%5B33.418258%2C%20-86.67629629999999%5D%2C%20%5B32.3048258%2C%20-86.4114352%5D%2C%20%5B30.719195%2C%20-88.0825799%5D%2C%20%5B34.6374111%2C%20-86.89980849999999%5D%2C%20%5B30.676251%2C%20-88.124062%5D%2C%20%5B33.4529913%2C%20-86.83901499999999%5D%2C%20%5B30.683008%2C%20-88.12333%5D%2C%20%5B34.6378942%2C%20-86.89840509999999%5D%2C%20%5B32.2213161%2C%20-86.11878089999999%5D%2C%20%5B30.8051532%2C%20-88.10232510000002%5D%2C%20%5B32.0329338%2C%20-85.38327319999999%5D%2C%20%5B32.4715485%2C%20-85.0984094%5D%2C%20%5B33.5094299%2C%20-86.8177001%5D%2C%20%5B30.5526901%2C%20-88.1392516%5D%2C%20%5B34.6703115%2C%20-86.5757418%5D%2C%20%5B33.4469702%2C%20-86.8586553%5D%2C%20%5B33.606587%2C%20-86.63375099999999%5D%2C%20%5B30.5638698%2C%20-88.2132874%5D%2C%20%5B30.60355329999999%2C%20-88.28370389999999%5D%2C%20%5B33.5114352%2C%20-86.7952435%5D%2C%20%5B32.2216312%2C%20-86.1267268%5D%2C%20%5B34.7806975%2C%20-86.6687422%5D%2C%20%5B32.3386643%2C%20-86.1791624%5D%2C%20%5B32.46982%2C%20-85.0839994%5D%2C%20%5B34.7871919%2C%20-86.5092872%5D%2C%20%5B30.6182245%2C%20-87.75305639999999%5D%2C%20%5B34.7316337%2C%20-86.6781475%5D%2C%20%5B33.223809%2C%20-87.5481226%5D%2C%20%5B31.0002146%2C%20-87.49082399999999%5D%2C%20%5B33.8418355%2C%20-87.2426103%5D%2C%20%5B34.5555311%2C%20-86.89296709999999%5D%2C%20%5B33.3867185%2C%20-86.9945402%5D%2C%20%5B32.4610376%2C%20-85.0170117%5D%2C%20%5B33.673389%2C%20-86.91567099999999%5D%2C%20%5B32.6572952%2C%20-85.45311009999999%5D%2C%20%5B32.3763415%2C%20-86.15201479999999%5D%2C%20%5B34.7625529%2C%20-86.55906739999999%5D%2C%20%5B34.78426049999999%2C%20-86.9442507%5D%2C%20%5B34.7876712%2C%20-86.9617845%5D%2C%20%5B34.7543213%2C%20-86.691801%5D%2C%20%5B32.531649%2C%20-86.32578269999999%5D%2C%20%5B32.6500633%2C%20-85.35640409999999%5D%2C%20%5B30.7786775%2C%20-88.25936019999999%5D%2C%20%5B30.24331099999999%2C%20-87.716517%5D%2C%20%5B33.1995798%2C%20-87.4832739%5D%2C%20%5B33.5291249%2C%20-86.7309497%5D%2C%20%5B30.5279483%2C%20-88.14129349999999%5D%2C%20%5B32.3625848%2C%20-86.1362589%5D%2C%20%5B31.221155%2C%20-85.3613615%5D%2C%20%5B34.5903135%2C%20-86.8132598%5D%2C%20%5B30.6680135%2C%20-88.1200628%5D%2C%20%5B32.4595656%2C%20-86.4545067%5D%2C%20%5B32.4990572%2C%20-85.0172542%5D%2C%20%5B30.290699%2C%20-87.5826847%5D%2C%20%5B33.4995917%2C%20-86.8014176%5D%2C%20%5B30.6810041%2C%20-88.1294592%5D%2C%20%5B32.4607%2C%20-86.39427889999999%5D%2C%20%5B32.4986109%2C%20-87.8421594%5D%2C%20%5B32.3336533%2C%20-86.2356585%5D%2C%20%5B34.679696%2C%20-86.49517569999999%5D%2C%20%5B32.40481%2C%20-86.16503569999999%5D%2C%20%5B32.3035014%2C%20-86.419783%5D%2C%20%5B33.337575%2C%20-86.7839453%5D%2C%20%5B32.3582184%2C%20-86.21731869999999%5D%2C%20%5B30.6159169%2C%20-87.75916699999999%5D%2C%20%5B34.56344199999999%2C%20-86.4346489%5D%2C%20%5B34.74413699999999%2C%20-86.677875%5D%2C%20%5B30.28823899999999%2C%20-87.564524%5D%2C%20%5B34.6973637%2C%20-86.585054%5D%2C%20%5B31.2537782%2C%20-85.4114181%5D%2C%20%5B32.4026273%2C%20-86.2675982%5D%2C%20%5B34.1541403%2C%20-86.84123029999999%5D%2C%20%5B33.1001679%2C%20-86.8623786%5D%2C%20%5B32.5640401%2C%20-86.4609754%5D%2C%20%5B34.5440028%2C%20-86.8943029%5D%2C%20%5B34.869933%2C%20-86.5774411%5D%2C%20%5B34.6376711%2C%20-86.9013253%5D%2C%20%5B34.674886%2C%20-86.4917542%5D%2C%20%5B32.567333%2C%20-85.493189%5D%2C%20%5B30.5294673%2C%20-88.1431207%5D%2C%20%5B32.3085395%2C%20-86.10252290000001%5D%2C%20%5B34.7174637%2C%20-86.6513025%5D%2C%20%5B32.3715288%2C%20-86.1295844%5D%2C%20%5B32.3679352%2C%20-86.27590719999999%5D%2C%20%5B34.78426049999999%2C%20-86.9442507%5D%2C%20%5B31.1000287%2C%20-87.480555%5D%2C%20%5B30.674228%2C%20-88.1463701%5D%2C%20%5B34.7492559%2C%20-86.7123562%5D%2C%20%5B33.292918%2C%20-87.060079%5D%2C%20%5B31.10606929999999%2C%20-85.4059443%5D%2C%20%5B30.290699%2C%20-87.5822001%5D%2C%20%5B32.7398525%2C%20-85.8135466%5D%2C%20%5B33.169825%2C%20-87.518756%5D%2C%20%5B32.4427269%2C%20-86.29863859999999%5D%2C%20%5B32.4432397%2C%20-87.0146013%5D%2C%20%5B34.6393003%2C%20-86.89932189999999%5D%2C%20%5B33.4970481%2C%20-86.7921665%5D%2C%20%5B32.4606235%2C%20-86.3960963%5D%2C%20%5B34.745373%2C%20-86.76860700000002%5D%2C%20%5B30.2633175%2C%20-87.6116685%5D%2C%20%5B32.5727047%2C%20-85.5036655%5D%2C%20%5B32.0733169%2C%20-84.21792789999999%5D%2C%20%5B32.190315%2C%20-86.3600697%5D%2C%20%5B34.168129%2C%20-86.818692%5D%2C%20%5B34.714958%2C%20-86.63754%5D%2C%20%5B33.606992%2C%20-85.8322019%5D%2C%20%5B31.3333334%2C%20-85.79977570000001%5D%2C%20%5B34.641365%2C%20-86.8999292%5D%2C%20%5B32.614212%2C%20-85.37097159999999%5D%2C%20%5B33.2876311%2C%20-86.93643259999999%5D%2C%20%5B33.2003865%2C%20-87.5397213%5D%2C%20%5B32.7450803%2C%20-85.27909799999999%5D%2C%20%5B34.7008704%2C%20-86.6929936%5D%2C%20%5B33.425399%2C%20-86.7079162%5D%2C%20%5B30.269311%2C%20-87.583912%5D%2C%20%5B32.194557%2C%20-86.420349%5D%2C%20%5B31.851844%2C%20-86.6448034%5D%2C%20%5B33.392001%2C%20-86.776825%5D%2C%20%5B33.640423%2C%20-86.611744%5D%2C%20%5B34.7538041%2C%20-86.7129197%5D%2C%20%5B31.1348407%2C%20-85.39627689999999%5D%2C%20%5B34.7102119%2C%20-86.7419483%5D%2C%20%5B33.2301464%2C%20-87.53238929999999%5D%2C%20%5B32.5622506%2C%20-85.50517479999999%5D%2C%20%5B33.1509432%2C%20-86.7520085%5D%2C%20%5B34.0111516%2C%20-85.98392700000001%5D%2C%20%5B30.7674199%2C%20-88.05821689999999%5D%2C%20%5B32.3410168%2C%20-86.2071344%5D%2C%20%5B30.2633175%2C%20-87.6116685%5D%2C%20%5B36.2598249%2C%20-94.1547647%5D%2C%20%5B33.2325572%2C%20-92.6650811%5D%2C%20%5B34.4526646%2C%20-93.05239680000001%5D%2C%20%5B36.1497207%2C%20-94.144499%5D%2C%20%5B36.2838553%2C%20-94.1533157%5D%2C%20%5B34.5740813%2C%20-92.5780862%5D%2C%20%5B36.1365595%2C%20-94.1844168%5D%2C%20%5B36.324163%2C%20-94.1864092%5D%2C%20%5B34.709637%2C%20-92.41194399999999%5D%2C%20%5B35.8205751%2C%20-90.6663726%5D%2C%20%5B34.4901137%2C%20-93.0592521%5D%2C%20%5B36.3613188%2C%20-94.2181586%5D%2C%20%5B35.8345511%2C%20-90.6680774%5D%2C%20%5B34.7377391%2C%20-92.4067522%5D%2C%20%5B35.2567111%2C%20-94.3543088%5D%2C%20%5B36.3560722%2C%20-94.21240089999999%5D%2C%20%5B36.314204%2C%20-94.1792609%5D%2C%20%5B36.13%2C%20-94.17%5D%2C%20%5B35.0687524%2C%20-91.9093238%5D%2C%20%5B35.807551%2C%20-90.72295489999999%5D%2C%20%5B36.2649043%2C%20-94.4794127%5D%2C%20%5B36.159006%2C%20-94.187731%5D%2C%20%5B35.8152513%2C%20-90.73020369999999%5D%2C%20%5B34.629342%2C%20-92.495139%5D%2C%20%5B36.3088005%2C%20-94.1900922%5D%2C%20%5B33.4694993%2C%20-94.0301061%5D%2C%20%5B34.4321155%2C%20-92.2033555%5D%2C%20%5B36.2983774%2C%20-94.1715254%5D%2C%20%5B34.6184894%2C%20-92.4901909%5D%2C%20%5B36.332438%2C%20-94.178964%5D%2C%20%5B35.8154547%2C%20-90.6734582%5D%2C%20%5B36.1259909%2C%20-94.1568951%5D%2C%20%5B36.1104596%2C%20-93.7119294%5D%2C%20%5B36.1526973%2C%20-94.1426049%5D%2C%20%5B35.4607856%2C%20-94.34660629999999%5D%2C%20%5B36.0616666%2C%20-94.15980119999999%5D%2C%20%5B33.7216945%2C%20-94.39212990000001%5D%2C%20%5B35.4794259%2C%20-94.35373899999999%5D%2C%20%5B36.1699037%2C%20-94.22644729999999%5D%2C%20%5B34.7585961%2C%20-92.37785269999999%5D%2C%20%5B34.8001761%2C%20-92.2170952%5D%2C%20%5B36.371933%2C%20-94.1804557%5D%2C%20%5B34.6697737%2C%20-92.37212629999999%5D%2C%20%5B34.752536%2C%20-92.42936399999999%5D%2C%20%5B35.7720044%2C%20-90.6783054%5D%2C%20%5B33.5429001%2C%20-93.8862961%5D%2C%20%5B36.3577378%2C%20-94.22268319999999%5D%2C%20%5B35.3099199%2C%20-94.4258698%5D%2C%20%5B35.3084532%2C%20-94.31963520000001%5D%2C%20%5B35.360998%2C%20-94.36811639999999%5D%2C%20%5B34.7434871%2C%20-92.39652459999999%5D%2C%20%5B36.1222608%2C%20-94.1458984%5D%2C%20%5B34.8142403%2C%20-92.3643852%5D%2C%20%5B34.4545399%2C%20-93.0776301%5D%2C%20%5B36.29563479999999%2C%20-94.17252570000001%5D%2C%20%5B36.1828185%2C%20-94.5066974%5D%2C%20%5B35.988468%2C%20-90.5409536%5D%2C%20%5B36.1560207%2C%20-94.1839526%5D%2C%20%5B35.80040049999999%2C%20-90.684792%5D%2C%20%5B36.151371%2C%20-94.182886%5D%2C%20%5B35.8091414%2C%20-90.6764893%5D%2C%20%5B36.0899423%2C%20-94.1551354%5D%2C%20%5B35.3490592%2C%20-94.3841911%5D%2C%20%5B34.7435557%2C%20-92.40635499999999%5D%2C%20%5B34.788833%2C%20-92.2195546%5D%2C%20%5B34.2087196%2C%20-91.9682768%5D%2C%20%5B35.8139122%2C%20-90.6652084%5D%2C%20%5B36.3833219%2C%20-94.1732609%5D%2C%20%5B36.0847854%2C%20-94.1566947%5D%2C%20%5B36.3913378%2C%20-94.18268239999999%5D%2C%20%5B36.2908702%2C%20-94.187471%5D%2C%20%5B36.293406%2C%20-94.186663%5D%2C%20%5B34.735315%2C%20-92.1504279%5D%2C%20%5B34.7949624%2C%20-92.21924709999999%5D%2C%20%5B35.250664%2C%20-91.68702599999999%5D%2C%20%5B34.4365341%2C%20-92.193563%5D%2C%20%5B34.7567493%2C%20-92.4452342%5D%2C%20%5B34.4273644%2C%20-93.08452679999999%5D%2C%20%5B34.6096468%2C%20-92.5244835%5D%2C%20%5B36.1783662%2C%20-94.1855372%5D%2C%20%5B34.7435864%2C%20-92.4073476%5D%2C%20%5B33.4292396%2C%20-93.9258643%5D%2C%20%5B35.859609%2C%20-90.653826%5D%2C%20%5B34.43116120000001%2C%20-92.9557256%5D%2C%20%5B33.5719196%2C%20-92.8535737%5D%2C%20%5B35.4576659%2C%20-94.3967397%5D%2C%20%5B34.6253045%2C%20-92.483526%5D%2C%20%5B35.807277%2C%20-90.7217146%5D%2C%20%5B34.71540299999999%2C%20-92.41020259999999%5D%2C%20%5B35.8047494%2C%20-90.69863409999999%5D%2C%20%5B35.4576659%2C%20-94.3967397%5D%2C%20%5B36.34325370000001%2C%20-94.19242%5D%2C%20%5B36.1810601%2C%20-94.5166511%5D%2C%20%5B35.7856504%2C%20-90.69257239999999%5D%2C%20%5B36.2827039%2C%20-94.1299835%5D%2C%20%5B36.3369912%2C%20-94.22156199999999%5D%2C%20%5B34.4072812%2C%20-93.09130599999999%5D%2C%20%5B35.0678802%2C%20-92.4396325%5D%2C%20%5B34.859862%2C%20-92.393793%5D%2C%20%5B34.7325987%2C%20-92.2491249%5D%2C%20%5B34.744796%2C%20-92.1759581%5D%2C%20%5B34.8083244%2C%20-92.47178129999999%5D%2C%20%5B36.314204%2C%20-94.1792609%5D%2C%20%5B32.114131%2C%20-110.793783%5D%2C%20%5B33.4502051%2C%20-112.3599536%5D%2C%20%5B35.1865348%2C%20-111.6774378%5D%2C%20%5B32.450626%2C%20-110.933448%5D%2C%20%5B33.2852529%2C%20-111.6695397%5D%2C%20%5B33.548251%2C%20-111.925011%5D%2C%20%5B33.4420828%2C%20-112.0703193%5D%2C%20%5B33.3339646%2C%20-111.965244%5D%2C%20%5B33.3264575%2C%20-111.6399793%5D%2C%20%5B32.2914586%2C%20-110.9772647%5D%2C%20%5B34.721346%2C%20-112.0026668%5D%2C%20%5B32.2368768%2C%20-110.9053986%5D%2C%20%5B33.4475364%2C%20-112.2075713%5D%2C%20%5B33.2182395%2C%20-111.5650658%5D%2C%20%5B33.7025326%2C%20-112.109595%5D%2C%20%5B33.538024%2C%20-112.2383551%5D%2C%20%5B33.6405889%2C%20-112.134846%5D%2C%20%5B35.1898865%2C%20-114.0339896%5D%2C%20%5B34.5426891%2C%20-112.4690991%5D%2C%20%5B32.8796106%2C%20-111.7101942%5D%2C%20%5B33.4761179%2C%20-111.9097242%5D%2C%20%5B33.622435%2C%20-112.428867%5D%2C%20%5B33.493272%2C%20-112.036226%5D%2C%20%5B33.2838636%2C%20-111.8918469%5D%2C%20%5B34.732409%2C%20-112.0309581%5D%2C%20%5B32.8337521%2C%20-109.7016888%5D%2C%20%5B33.2186047%2C%20-111.8411314%5D%2C%20%5B33.348621%2C%20-111.9663956%5D%2C%20%5B35.24945659999999%2C%20-112.1910031%5D%2C%20%5B32.156556%2C%20-109.452661%5D%2C%20%5B35.4355485%2C%20-114.1607889%5D%2C%20%5B33.3359593%2C%20-111.6700195%5D%2C%20%5B33.5243785%2C%20-111.9266427%5D%2C%20%5B32.8809334%2C%20-111.7298857%5D%2C%20%5B33.4211186%2C%20-112.6379582%5D%2C%20%5B33.3213212%2C%20-111.8783309%5D%2C%20%5B35.0099293%2C%20-114.6001802%5D%2C%20%5B33.3631091%2C%20-112.781008%5D%2C%20%5B33.2204821%2C%20-111.8156835%5D%2C%20%5B33.4539309%2C%20-112.3528699%5D%2C%20%5B33.2957034%2C%20-111.8903014%5D%2C%20%5B33.4164899%2C%20-111.7814483%5D%2C%20%5B32.6499891%2C%20-111.5945302%5D%2C%20%5B33.7709115%2C%20-111.9791704%5D%2C%20%5B34.5328336%2C%20-112.4686141%5D%2C%20%5B33.6279195%2C%20-111.9007522%5D%2C%20%5B35.0995188%2C%20-114.5969275%5D%2C%20%5B33.3897848%2C%20-111.4400953%5D%2C%20%5B33.4458956%2C%20-112.0243492%5D%2C%20%5B33.2872673%2C%20-111.7491788%5D%2C%20%5B33.3036341%2C%20-112.0134505%5D%2C%20%5B33.4495658%2C%20-112.1350108%5D%2C%20%5B33.5768504%2C%20-112.1161484%5D%2C%20%5B33.6387478%2C%20-112.2166528%5D%2C%20%5B31.6011713%2C%20-109.6704396%5D%2C%20%5B32.8809%2C%20-111.7298391%5D%2C%20%5B33.1373513%2C%20-111.5392378%5D%2C%20%5B32.2199888%2C%20-110.8573911%5D%2C%20%5B33.3364306%2C%20-111.8086967%5D%2C%20%5B33.4519439%2C%20-112.0836708%5D%2C%20%5B33.4343439%2C%20-112.5171059%5D%2C%20%5B33.4152955%2C%20-111.87535%5D%2C%20%5B33.436106%2C%20-112.133951%5D%2C%20%5B33.6422217%2C%20-111.9016663%5D%2C%20%5B33.3835389%2C%20-111.8757087%5D%2C%20%5B34.0827381%2C%20-112.141533%5D%2C%20%5B33.4142132%2C%20-111.6958906%5D%2C%20%5B33.304614%2C%20-111.982291%5D%2C%20%5B34.8635267%2C%20-111.8033868%5D%2C%20%5B33.3172561%2C%20-111.8929097%5D%2C%20%5B33.4924727%2C%20-112.0228588%5D%2C%20%5B33.4452641%2C%20-112.0728945%5D%2C%20%5B33.6201627%2C%20-111.9201137%5D%2C%20%5B33.1618632%2C%20-111.5448342%5D%2C%20%5B33.2778377%2C%20-111.7760603%5D%2C%20%5B31.4323325%2C%20-110.9509939%5D%2C%20%5B33.6372224%2C%20-112.1808762%5D%2C%20%5B33.6847306%2C%20-112.1232541%5D%2C%20%5B33.480037%2C%20-111.927703%5D%2C%20%5B32.8334404%2C%20-109.7008751%5D%2C%20%5B33.3211571%2C%20-111.9864443%5D%2C%20%5B32.132772%2C%20-111.009142%5D%2C%20%5B33.4663488%2C%20-111.701349%5D%2C%20%5B33.3565465%2C%20-111.7883791%5D%2C%20%5B33.3624871%2C%20-111.445345%5D%2C%20%5B33.6188771%2C%20-111.879281%5D%2C%20%5B35.1634301%2C%20-111.2650389%5D%2C%20%5B33.31826%2C%20-112.0011544%5D%2C%20%5B33.4763203%2C%20-112.0691082%5D%2C%20%5B33.5040766%2C%20-112.1523361%5D%2C%20%5B31.8709844%2C%20-110.9947655%5D%2C%20%5B33.6209931%2C%20-111.8933021%5D%2C%20%5B33.4092169%2C%20-112.0370178%5D%2C%20%5B31.9565266%2C%20-110.3963854%5D%2C%20%5B32.2293351%2C%20-110.9103348%5D%2C%20%5B33.341255%2C%20-111.6506899%5D%2C%20%5B32.3541823%2C%20-111.089493%5D%2C%20%5B33.7025326%2C%20-112.109595%5D%2C%20%5B33.5231952%2C%20-112.115543%5D%2C%20%5B33.1895701%2C%20-112.6723984%5D%2C%20%5B33.463785%2C%20-112.349131%5D%2C%20%5B33.4405716%2C%20-112.3484227%5D%2C%20%5B37.6629938%2C%20-97.22701099999999%5D%2C%20%5B32.6871292%2C%20-114.6515784%5D%2C%20%5B34.9191449%2C%20-111.8177795%5D%2C%20%5B32.9521344%2C%20-96.7382372%5D%2C%20%5B32.438687%2C%20-110.7598173%5D%2C%20%5B33.643085%2C%20-112.054153%5D%2C%20%5B32.1531687%2C%20-110.8851881%5D%2C%20%5B32.3389804%2C%20-111.0505582%5D%2C%20%5B33.6324396%2C%20-112.236795%5D%2C%20%5B33.3363049%2C%20-111.7640511%5D%2C%20%5B33.428816%2C%20-111.873733%5D%2C%20%5B33.7413857%2C%20-112.2611151%5D%2C%20%5B33.5300964%2C%20-112.195291%5D%2C%20%5B32.1893099%2C%20-110.970968%5D%2C%20%5B33.4214688%2C%20-111.683974%5D%2C%20%5B33.3752643%2C%20-112.167845%5D%2C%20%5B33.3789714%2C%20-112.1368136%5D%2C%20%5B32.425914%2C%20-110.949677%5D%2C%20%5B33.3761476%2C%20-112.169801%5D%2C%20%5B33.5833179%2C%20-112.1701511%5D%2C%20%5B32.2300187%2C%20-111.0007266%5D%2C%20%5B33.08115%2C%20-112.1431655%5D%2C%20%5B33.6406354%2C%20-112.0823587%5D%2C%20%5B33.6196934%2C%20-111.9020389%5D%2C%20%5B33.2772328%2C%20-111.8413679%5D%2C%20%5B34.7391876%2C%20-112.0098791%5D%2C%20%5B33.4498785%2C%20-112.6775917%5D%2C%20%5B33.4063903%2C%20-112.6255212%5D%2C%20%5B34.5810372%2C%20-112.3476543%5D%2C%20%5B31.8522521%2C%20-110.9970009%5D%2C%20%5B33.2605475%2C%20-111.8841936%5D%2C%20%5B31.5515656%2C%20-110.2878758%5D%2C%20%5B33.414408%2C%20-111.925895%5D%2C%20%5B33.3935433%2C%20-112.0491149%5D%2C%20%5B33.2923226%2C%20-111.8336161%5D%2C%20%5B33.5910428%2C%20-111.8179777%5D%2C%20%5B33.7025326%2C%20-112.109595%5D%2C%20%5B33.3699586%2C%20-112.6264831%5D%2C%20%5B33.6289642%2C%20-111.9184342%5D%2C%20%5B32.2281851%2C%20-110.9807478%5D%2C%20%5B33.4489916%2C%20-112.3385269%5D%2C%20%5B33.4446388%2C%20-112.2223346%5D%2C%20%5B33.5815211%2C%20-111.8897988%5D%2C%20%5B32.943525%2C%20-112.7349666%5D%2C%20%5B33.0684066%2C%20-112.0474041%5D%2C%20%5B33.6295968%2C%20-111.9087461%5D%2C%20%5B33.3137524%2C%20-111.6766925%5D%2C%20%5B35.2482764%2C%20-112.1201711%5D%2C%20%5B33.6962475%2C%20-112.0911695%5D%2C%20%5B33.5667377%2C%20-112.10865%5D%2C%20%5B33.5479731%2C%20-112.2188417%5D%2C%20%5B35.0528237%2C%20-114.5918998%5D%2C%20%5B33.4995516%2C%20-112.0380425%5D%2C%20%5B32.336793%2C%20-111.084993%5D%2C%20%5B33.6418152%2C%20-111.9935625%5D%2C%20%5B32.6760925%2C%20-111.5512921%5D%2C%20%5B33.6683807%2C%20-112.2780799%5D%2C%20%5B35.0321376%2C%20-110.7222928%5D%2C%20%5B33.5525132%2C%20-112.1854029%5D%2C%20%5B33.4953411%2C%20-112.1261406%5D%2C%20%5B33.640356%2C%20-112.1798608%5D%2C%20%5B33.6114237%2C%20-112.2423354%5D%2C%20%5B33.4151426%2C%20-111.9050665%5D%2C%20%5B33.4141386%2C%20-111.9028308%5D%2C%20%5B33.6052999%2C%20-112.2900484%5D%2C%20%5B33.3210977%2C%20-111.978812%5D%2C%20%5B34.8599386%2C%20-111.7627237%5D%2C%20%5B33.3264575%2C%20-111.6399793%5D%2C%20%5B34.4638852%2C%20-110.4766091%5D%2C%20%5B31.7137676%2C%20-110.067099%5D%2C%20%5B33.3798899%2C%20-111.7146078%5D%2C%20%5B33.4389608%2C%20-112.065615%5D%2C%20%5B33.3678849%2C%20-111.8410563%5D%2C%20%5B34.864347%2C%20-111.764941%5D%2C%20%5B32.1987328%2C%20-110.858505%5D%2C%20%5B32.8797056%2C%20-111.7110899%5D%2C%20%5B33.5119869%2C%20-112.0742314%5D%2C%20%5B33.4796885%2C%20-112.220006%5D%2C%20%5B32.4263727%2C%20-110.9592405%5D%2C%20%5B32.834034%2C%20-109.7004798%5D%2C%20%5B31.9050099%2C%20-110.9902482%5D%2C%20%5B32.3615434%2C%20-111.1170644%5D%2C%20%5B34.7268157%2C%20-112.0060449%5D%2C%20%5B33.6408667%2C%20-112.0592343%5D%2C%20%5B32.6881243%2C%20-114.6234936%5D%2C%20%5B32.6727746%2C%20-114.6218879%5D%2C%20%5B33.392243%2C%20-112.1335085%5D%2C%20%5B32.2643172%2C%20-110.9405813%5D%2C%20%5B33.3604638%2C%20-112.1006015%5D%2C%20%5B33.6320753%2C%20-111.9063706%5D%2C%20%5B35.1013379%2C%20-114.5948372%5D%2C%20%5B32.0501433%2C%20-110.7053869%5D%2C%20%5B33.3369067%2C%20-111.7363368%5D%2C%20%5B32.1197011%2C%20-110.9093384%5D%2C%20%5B33.2772328%2C%20-111.8413679%5D%2C%20%5B32.0238571%2C%20-109.6611454%5D%2C%20%5B34.859725%2C%20-114.145725%5D%2C%20%5B33.4914915%2C%20-112.0643109%5D%2C%20%5B33.4663718%2C%20-112.0615164%5D%2C%20%5B33.2144262%2C%20-111.5656344%5D%2C%20%5B32.252642%2C%20-110.988238%5D%2C%20%5B33.4954553%2C%20-112.1034802%5D%2C%20%5B32.8803795%2C%20-111.7582987%5D%2C%20%5B35.2233311%2C%20-114.2230108%5D%2C%20%5B33.4575912%2C%20-112.4614944%5D%2C%20%5B33.6499277%2C%20-112.1158224%5D%2C%20%5B33.4207184%2C%20-112.1700921%5D%2C%20%5B32.0802681%2C%20-110.7672867%5D%2C%20%5B33.7990628%2C%20-112.0417141%5D%2C%20%5B33.5099532%2C%20-112.1347314%5D%2C%20%5B31.3622092%2C%20-110.9534578%5D%2C%20%5B33.4592697%2C%20-111.9786514%5D%2C%20%5B32.300622%2C%20-110.924062%5D%2C%20%5B33.3787221%2C%20-111.7777919%5D%2C%20%5B32.8818081%2C%20-111.7775124%5D%2C%20%5B33.3213538%2C%20-111.7427696%5D%2C%20%5B32.1925073%2C%20-110.8546633%5D%2C%20%5B33.5100488%2C%20-112.1803731%5D%2C%20%5B33.8695905%2C%20-112.1394353%5D%2C%20%5B32.6977147%2C%20-114.5991835%5D%2C%20%5B33.379772%2C%20-111.578954%5D%2C%20%5B35.245239%2C%20-111.423889%5D%2C%20%5B33.5581853%2C%20-112.3289925%5D%2C%20%5B33.5959166%2C%20-112.1186634%5D%2C%20%5B34.5642655%2C%20-112.4920783%5D%2C%20%5B33.4259931%2C%20-112.1619746%5D%2C%20%5B33.2208229%2C%20-111.822251%5D%2C%20%5B33.6942846%2C%20-112.0976584%5D%2C%20%5B33.6882183%2C%20-112.0322904%5D%2C%20%5B33.6382798%2C%20-111.8843395%5D%2C%20%5B36.9970276%2C%20-111.5626615%5D%2C%20%5B33.5373576%2C%20-112.21996%5D%2C%20%5B32.2289135%2C%20-110.9923788%5D%2C%20%5B35.6261058%2C%20-114.1098224%5D%2C%20%5B33.5814163%2C%20-112.1226222%5D%2C%20%5B33.4391907%2C%20-111.9174561%5D%2C%20%5B33.4517191%2C%20-111.9148827%5D%2C%20%5B32.149838%2C%20-110.8921508%5D%2C%20%5B35.2143708%2C%20-111.578632%5D%2C%20%5B33.08115%2C%20-112.1431655%5D%2C%20%5B32.3032553%2C%20-110.977744%5D%2C%20%5B33.4178852%2C%20-111.9959845%5D%2C%20%5B32.9733754%2C%20-111.4731905%5D%2C%20%5B33.6289952%2C%20-112.1370601%5D%2C%20%5B33.2158691%2C%20-111.5641351%5D%2C%20%5B33.4361112%2C%20-112.4120567%5D%2C%20%5B33.4215468%2C%20-111.9159656%5D%2C%20%5B33.4631349%2C%20-112.2778247%5D%2C%20%5B33.576565%2C%20-112.084896%5D%2C%20%5B32.2086402%2C%20-110.9806547%5D%2C%20%5B33.4152432%2C%20-111.8934687%5D%2C%20%5B33.7990833%2C%20-111.9910866%5D%2C%20%5B33.3457377%2C%20-111.8968223%5D%2C%20%5B33.3604638%2C%20-112.1006015%5D%2C%20%5B32.2361228%2C%20-111.0583645%5D%2C%20%5B39.173348%2C%20-94.5364092%5D%2C%20%5B32.8358283%2C%20-111.5676806%5D%2C%20%5B33.385311%2C%20-111.5107315%5D%2C%20%5B32.2956934%2C%20-110.9604432%5D%2C%20%5B33.3292947%2C%20-111.9483367%5D%2C%20%5B32.7630648%2C%20-111.5671755%5D%2C%20%5B32.8424783%2C%20-109.7428441%5D%2C%20%5B33.4772654%2C%20-111.7046135%5D%2C%20%5B33.4960528%2C%20-112.0514562%5D%2C%20%5B31.3671927%2C%20-110.9315983%5D%2C%20%5B34.606281%2C%20-114.3609914%5D%2C%20%5B33.2772328%2C%20-111.8413679%5D%2C%20%5B33.3486712%2C%20-111.9441447%5D%2C%20%5B32.343273%2C%20-110.977867%5D%2C%20%5B32.2231151%2C%20-110.8228595%5D%2C%20%5B33.9956056%2C%20-112.7909365%5D%2C%20%5B33.4794214%2C%20-112.2200991%5D%2C%20%5B33.3045755%2C%20-111.8657084%5D%2C%20%5B33.6393011%2C%20-112.1841454%5D%2C%20%5B33.2767341%2C%20-111.8327999%5D%2C%20%5B32.879413%2C%20-111.9293008%5D%2C%20%5B33.367167%2C%20-111.7885748%5D%2C%20%5B33.4228098%2C%20-111.9082337%5D%2C%20%5B33.4497199%2C%20-112.2017032%5D%2C%20%5B33.6264866%2C%20-111.9230453%5D%2C%20%5B33.6381275%2C%20-112.3228657%5D%2C%20%5B33.4449361%2C%20-112.0187602%5D%2C%20%5B32.3953159%2C%20-111.0128197%5D%2C%20%5B32.2367521%2C%20-110.8560598%5D%2C%20%5B33.4129437%2C%20-111.9104229%5D%2C%20%5B33.2626497%2C%20-111.8067638%5D%2C%20%5B32.6711268%2C%20-114.5067687%5D%2C%20%5B39.1276831%2C%20-94.83132979999999%5D%2C%20%5B33.3768359%2C%20-111.9311963%5D%2C%20%5B33.379591%2C%20-111.7718066%5D%2C%20%5B33.6380566%2C%20-111.9288209%5D%2C%20%5B33.4906723%2C%20-111.9279592%5D%2C%20%5B32.4427188%2C%20-110.9399814%5D%2C%20%5B33.4317224%2C%20-112.6478091%5D%2C%20%5B32.9086159%2C%20-111.826465%5D%2C%20%5B35.6261058%2C%20-114.1098224%5D%2C%20%5B33.5743031%2C%20-112.1259755%5D%2C%20%5B32.2494094%2C%20-110.9090039%5D%2C%20%5B35.2519037%2C%20-112.1809785%5D%2C%20%5B34.935362%2C%20-110.1330468%5D%2C%20%5B34.4249552%2C%20-112.9161079%5D%2C%20%5B33.4351882%2C%20-112.3577117%5D%2C%20%5B32.3032553%2C%20-110.977744%5D%2C%20%5B33.4925765%2C%20-111.9256315%5D%2C%20%5B32.2366317%2C%20-110.897482%5D%2C%20%5B33.4735699%2C%20-112.024326%5D%2C%20%5B33.2337793%2C%20-111.7640261%5D%2C%20%5B33.4219684%2C%20-112.291073%5D%2C%20%5B33.413243%2C%20-111.8579013%5D%2C%20%5B33.3791966%2C%20-111.7222984%5D%2C%20%5B32.1922127%2C%20-110.9923904%5D%2C%20%5B33.4785224%2C%20-112.0706917%5D%2C%20%5B33.3632042%2C%20-112.5733155%5D%2C%20%5B33.6232252%2C%20-111.9159656%5D%2C%20%5B33.3630209%2C%20-112.5560932%5D%2C%20%5B33.566951%2C%20-112.0509904%5D%2C%20%5B34.5472749%2C%20-112.464286%5D%2C%20%5B33.5083017%2C%20-112.3565889%5D%2C%20%5B33.6933048%2C%20-112.0957955%5D%2C%20%5B33.463571%2C%20-112.4614986%5D%2C%20%5B32.2966725%2C%20-110.9958367%5D%2C%20%5B33.5445586%2C%20-112.0486151%5D%2C%20%5B33.6191877%2C%20-111.9295428%5D%2C%20%5B32.1900128%2C%20-110.919276%5D%2C%20%5B33.4769785%2C%20-112.0692132%5D%2C%20%5B33.4141386%2C%20-111.9028308%5D%2C%20%5B33.4646807%2C%20-112.4615133%5D%2C%20%5B34.77319749999999%2C%20-111.7627703%5D%2C%20%5B34.852821%2C%20-111.8245245%5D%2C%20%5B33.262242%2C%20-111.738951%5D%2C%20%5B32.7069868%2C%20-114.6389603%5D%2C%20%5B33.464196%2C%20-112.2793373%5D%2C%20%5B33.6399444%2C%20-112.1497746%5D%2C%20%5B32.9674575%2C%20-111.7393943%5D%2C%20%5B33.415087%2C%20-111.5807978%5D%2C%20%5B33.4215575%2C%20-111.8971949%5D%2C%20%5B35.2281634%2C%20-114.035746%5D%2C%20%5B33.6229949%2C%20-112.3395912%5D%2C%20%5B33.4604921%2C%20-112.0660342%5D%2C%20%5B31.3360061%2C%20-110.965852%5D%2C%20%5B33.0240667%2C%20-113.0511191%5D%2C%20%5B35.1944221%2C%20-111.6575951%5D%2C%20%5B33.40130120000001%2C%20-111.8559375%5D%2C%20%5B33.8644192%2C%20-112.0627368%5D%2C%20%5B32.8810704%2C%20-111.6984369%5D%2C%20%5B33.2805588%2C%20-111.752477%5D%2C%20%5B33.5400431%2C%20-112.1816305%5D%2C%20%5B34.8763704%2C%20-114.6337539%5D%2C%20%5B33.4807509%2C%20-112.0031805%5D%2C%20%5B33.6586513%2C%20-114.2462614%5D%2C%20%5B33.585492%2C%20-112.1148443%5D%2C%20%5B32.8786765%2C%20-111.7154301%5D%2C%20%5B32.9084345%2C%20-111.9805119%5D%2C%20%5B33.6108028%2C%20-111.8619821%5D%2C%20%5B33.247841%2C%20-111.8238757%5D%2C%20%5B33.4886353%2C%20-112.0802861%5D%2C%20%5B33.4518277%2C%20-111.7360447%5D%2C%20%5B33.415087%2C%20-111.5807978%5D%2C%20%5B32.61048330000001%2C%20-110.7840313%5D%2C%20%5B33.4357759%2C%20-112.2572307%5D%2C%20%5B33.6272273%2C%20-112.1194552%5D%2C%20%5B32.2034075%2C%20-110.8253499%5D%2C%20%5B32.3740949%2C%20-111.1245289%5D%2C%20%5B32.3380668%2C%20-111.0438984%5D%2C%20%5B35.1989549%2C%20-111.6475806%5D%2C%20%5B33.60718689999999%2C%20-112.3933836%5D%2C%20%5B32.1914117%2C%20-110.9202539%5D%2C%20%5B35.2228103%2C%20-114.0010755%5D%2C%20%5B33.3518426%2C%20-111.4571195%5D%2C%20%5B33.4042436%2C%20-111.9484298%5D%2C%20%5B33.3205392%2C%20-112.5081659%5D%2C%20%5B34.8577544%2C%20-114.1416759%5D%2C%20%5B33.4152432%2C%20-111.8934687%5D%2C%20%5B32.3742329%2C%20-111.1264257%5D%2C%20%5B35.2577686%2C%20-112.2130527%5D%2C%20%5B35.0771847%2C%20-114.5599015%5D%2C%20%5B34.6020504%2C%20-112.4559899%5D%2C%20%5B33.72670840000001%2C%20-111.9086108%5D%2C%20%5B32.6903347%2C%20-114.5971477%5D%2C%20%5B33.4946413%2C%20-112.2918647%5D%2C%20%5B33.4856702%2C%20-111.9214974%5D%2C%20%5B33.6632999%2C%20-112.0301246%5D%2C%20%5B33.2209401%2C%20-111.5556566%5D%2C%20%5B33.456993%2C%20-111.492045%5D%2C%20%5B33.247841%2C%20-111.8238757%5D%2C%20%5B33.4839993%2C%20-111.9262262%5D%2C%20%5B33.7424091%2C%20-111.8644042%5D%2C%20%5B35.20737829999999%2C%20-111.6423638%5D%2C%20%5B33.2208229%2C%20-111.822251%5D%2C%20%5B35.24029%2C%20-111.422986%5D%2C%20%5B33.4029694%2C%20-111.8056678%5D%2C%20%5B33.5252568%2C%20-112.18354%5D%2C%20%5B33.3898098%2C%20-111.6113396%5D%2C%20%5B32.1197011%2C%20-110.9093384%5D%2C%20%5B33.3948449%2C%20-112.000904%5D%2C%20%5B33.3919414%2C%20-112.4609897%5D%2C%20%5B33.4145233%2C%20-111.7953287%5D%2C%20%5B35.189443%2C%20-114.0530065%5D%2C%20%5B33.4379122%2C%20-111.9183532%5D%2C%20%5B33.5580635%2C%20-111.8888109%5D%2C%20%5B33.6401716%2C%20-112.203799%5D%2C%20%5B33.4878004%2C%20-112.0785163%5D%2C%20%5B32.3315717%2C%20-110.9768432%5D%2C%20%5B33.696923%2C%20-112.5302296%5D%2C%20%5B33.5043052%2C%20-112.0488247%5D%2C%20%5B34.5167609%2C%20-114.3636001%5D%2C%20%5B33.4587402%2C%20-111.9274818%5D%2C%20%5B33.3358189%2C%20-111.6528166%5D%2C%20%5B33.5361517%2C%20-112.0951953%5D%2C%20%5B34.5030736%2C%20-114.3469205%5D%2C%20%5B33.2592037%2C%20-111.3304153%5D%2C%20%5B33.5535913%2C%20-112.1035734%5D%2C%20%5B33.6408556%2C%20-112.0585027%5D%2C%20%5B33.3633013%2C%20-111.6694728%5D%2C%20%5B32.0781542%2C%20-110.343038%5D%2C%20%5B32.1789134%2C%20-110.9605364%5D%2C%20%5B33.2894871%2C%20-111.7477719%5D%2C%20%5B32.342497%2C%20-110.975147%5D%2C%20%5B33.4179775%2C%20-111.8223442%5D%2C%20%5B34.2510624%2C%20-111.3215312%5D%2C%20%5B33.4141722%2C%20-111.8519469%5D%2C%20%5B33.68103809999999%2C%20-112.0854559%5D%2C%20%5B32.207478%2C%20-110.981184%5D%2C%20%5B33.960339%2C%20-112.7331418%5D%2C%20%5B33.638226%2C%20-112.3029948%5D%2C%20%5B33.6102378%2C%20-112.3414142%5D%2C%20%5B32.8503484%2C%20-111.8605593%5D%2C%20%5B33.4559491%2C%20-112.072089%5D%2C%20%5B31.5538141%2C%20-110.2477579%5D%2C%20%5B33.3487842%2C%20-111.7541067%5D%2C%20%5B37.3189524%2C%20-121.965552%5D%2C%20%5B37.9629127%2C%20-121.9892985%5D%2C%20%5B36.6634933%2C%20-119.6639074%5D%2C%20%5B33.953249%2C%20-116.4993476%5D%2C%20%5B36.686091%2C%20-119.728353%5D%2C%20%5B32.7051954%2C%20-117.1297383%5D%2C%20%5B33.9045473%2C%20-118.1337777%5D%2C%20%5B33.6902045%2C%20-117.3424124%5D%2C%20%5B32.7157953%2C%20-117.1284267%5D%2C%20%5B34.2442805%2C%20-116.9126217%5D%2C%20%5B38.6025637%2C%20-121.4432967%5D%2C%20%5B34.1943096%2C%20-118.4195506%5D%2C%20%5B33.5679079%2C%20-117.1814789%5D%2C%20%5B33.5686844%2C%20-117.1795168%5D%2C%20%5B37.7843938%2C%20-122.4157529%5D%2C%20%5B34.05460790000001%2C%20-118.3136378%5D%2C%20%5B33.8606383%2C%20-117.8819741%5D%2C%20%5B33.1901476%2C%20-117.3790219%5D%2C%20%5B33.1257284%2C%20-117.0802816%5D%2C%20%5B34.690342%2C%20-118.1108264%5D%2C%20%5B33.9914756%2C%20-118.4774316%5D%2C%20%5B38.5507106%2C%20-121.4557673%5D%2C%20%5B33.1272078%2C%20-117.0843039%5D%2C%20%5B34.4211127%2C%20-119.6913345%5D%2C%20%5B33.9025948%2C%20-118.3712362%5D%2C%20%5B38.5072875%2C%20-122.7875544%5D%2C%20%5B33.8897172%2C%20-118.0485229%5D%2C%20%5B34.1014613%2C%20-118.3776116%5D%2C%20%5B36.85149%2C%20-119.8033517%5D%2C%20%5B36.8531461%2C%20-119.7928596%5D%2C%20%5B34.1095989%2C%20-118.3208526%5D%2C%20%5B36.0997164%2C%20-115.1195953%5D%2C%20%5B34.4000827%2C%20-119.5158009%5D%2C%20%5B37.566649%2C%20-122.2755794%5D%2C%20%5B34.0491038%2C%20-118.385891%5D%2C%20%5B39.112091%2C%20-121.6192767%5D%2C%20%5B33.8376489%2C%20-118.3850124%5D%2C%20%5B34.2509909%2C%20-119.0575866%5D%2C%20%5B34.1333598%2C%20-118.2580985%5D%2C%20%5B33.5983962%2C%20-116.1812011%5D%2C%20%5B34.001332%2C%20-117.9440302%5D%2C%20%5B34.5211046%2C%20-117.3226703%5D%2C%20%5B52.6609353%2C%20-2.4846669%5D%2C%20%5B34.1485585%2C%20-118.2715282%5D%2C%20%5B34.1677209%2C%20-118.5831481%5D%2C%20%5B34.0813259%2C%20-118.373473%5D%2C%20%5B36.3210221%2C%20-119.3134939%5D%2C%20%5B37.8167362%2C%20-122.2548205%5D%2C%20%5B34.0885361%2C%20-118.3612155%5D%2C%20%5B33.8063977%2C%20-117.8699243%5D%2C%20%5B37.3493156%2C%20-122.0146386%5D%2C%20%5B34.0581126%2C%20-117.1994906%5D%2C%20%5B38.364558%2C%20-120.8180385%5D%2C%20%5B33.785271%2C%20-118.21904%5D%2C%20%5B33.8883244%2C%20-118.0825268%5D%2C%20%5B34.5521696%2C%20-117.4531611%5D%2C%20%5B39.1473591%2C%20-121.6432173%5D%2C%20%5B33.76634689999999%2C%20-117.9196407%5D%2C%20%5B33.995219%2C%20-118.4797591%5D%2C%20%5B35.4728199%2C%20-120.6526151%5D%2C%20%5B32.7289936%2C%20-117.1614469%5D%2C%20%5B34.0464766%2C%20-118.4649767%5D%2C%20%5B37.2136027%2C%20-121.8521935%5D%2C%20%5B37.723237%2C%20-122.4545155%5D%2C%20%5B38.4628832%2C%20-122.6438791%5D%2C%20%5B34.5067094%2C%20-117.3279733%5D%2C%20%5B34.1432969%2C%20-118.799504%5D%2C%20%5B33.7830904%2C%20-118.2139647%5D%2C%20%5B37.0508533%2C%20-120.8332268%5D%2C%20%5B34.0667752%2C%20-117.2670288%5D%2C%20%5B34.50735239999999%2C%20-117.3474624%5D%2C%20%5B38.1456498%2C%20-121.3363287%5D%2C%20%5B33.5982905%2C%20-116.1985345%5D%2C%20%5B38.7047814%2C%20-121.3140708%5D%2C%20%5B32.7769111%2C%20-115.5531665%5D%2C%20%5B38.8012334%2C%20-121.3070524%5D%2C%20%5B38.1240997%2C%20-121.2600882%5D%2C%20%5B33.9421258%2C%20-117.2401024%5D%2C%20%5B33.5224667%2C%20-117.6643395%5D%2C%20%5B34.273619%2C%20-118.4687662%5D%2C%20%5B34.087812%2C%20-118.259978%5D%2C%20%5B34.580927%2C%20-118.0916927%5D%2C%20%5B34.0689161%2C%20-118.2823078%5D%2C%20%5B34.013366%2C%20-118.276442%5D%2C%20%5B34.2942772%2C%20-118.8829816%5D%2C%20%5B38.4798834%2C%20-122.7671805%5D%2C%20%5B33.6353314%2C%20-117.7116333%5D%2C%20%5B34.096401%2C%20-117.5024913%5D%2C%20%5B37.7750692%2C%20-122.4127915%5D%2C%20%5B33.6302951%2C%20-117.7304191%5D%2C%20%5B34.09101%2C%20-118.390486%5D%2C%20%5B34.4812308%2C%20-119.2977123%5D%2C%20%5B33.2067396%2C%20-117.2853845%5D%2C%20%5B33.5347153%2C%20-117.6663791%5D%2C%20%5B36.5550851%2C%20-121.923982%5D%2C%20%5B34.2000516%2C%20-118.5382573%5D%2C%20%5B37.5942946%2C%20-120.9716335%5D%2C%20%5B35.1951708%2C%20-118.8246309%5D%2C%20%5B32.6512393%2C%20-117.0949137%5D%2C%20%5B34.0308622%2C%20-118.4841801%5D%2C%20%5B37.7893384%2C%20-122.4093811%5D%2C%20%5B37.5679805%2C%20-122.3302819%5D%2C%20%5B33.6854534%2C%20-117.3673856%5D%2C%20%5B34.0589019%2C%20-117.1822386%5D%2C%20%5B33.1414368%2C%20-117.2022472%5D%2C%20%5B37.7940228%2C%20-122.402342%5D%2C%20%5B34.1679621%2C%20-117.3318759%5D%2C%20%5B34.0276995%2C%20-117.6286386%5D%2C%20%5B32.8382983%2C%20-116.9897491%5D%2C%20%5B33.9749744%2C%20-118.2550436%5D%2C%20%5B37.7400339%2C%20-121.1415888%5D%2C%20%5B38.7636037%2C%20-121.2457632%5D%2C%20%5B32.7176542%2C%20-117.127877%5D%2C%20%5B33.7305417%2C%20-117.0067439%5D%2C%20%5B33.6156881%2C%20-117.9300948%5D%2C%20%5B33.7589333%2C%20-117.8700617%5D%2C%20%5B34.0401634%2C%20-118.2342549%5D%2C%20%5B36.9725814%2C%20-121.9513525%5D%2C%20%5B33.7085459%2C%20-116.234476%5D%2C%20%5B37.7928801%2C%20-122.2518851%5D%2C%20%5B34.3852369%2C%20-119.49096%5D%2C%20%5B40.0237269%2C%20-124.0682033%5D%2C%20%5B42.99369979999999%2C%20-78.6986853%5D%2C%20%5B33.9449226%2C%20-117.2811825%5D%2C%20%5B34.0843163%2C%20-118.1544164%5D%2C%20%5B33.7079155%2C%20-116.2331379%5D%2C%20%5B37.346616%2C%20-121.779024%5D%2C%20%5B38.9442781%2C%20-119.9789088%5D%2C%20%5B34.0390193%2C%20-118.2481397%5D%2C%20%5B40.6751392%2C%20-75.3423868%5D%2C%20%5B33.6348675%2C%20-117.7404985%5D%2C%20%5B32.750838%2C%20-117.111499%5D%2C%20%5B34.0612298%2C%20-117.3784422%5D%2C%20%5B33.9411072%2C%20-118.181154%5D%2C%20%5B33.8993348%2C%20-118.3492539%5D%2C%20%5B38.5514132%2C%20-121.4559288%5D%2C%20%5B37.4537201%2C%20-121.8923817%5D%2C%20%5B33.9251178%2C%20-118.0228858%5D%2C%20%5B33.7746515%2C%20-117.9778461%5D%2C%20%5B32.7079173%2C%20-117.0769718%5D%2C%20%5B34.0199678%2C%20-118.4759864%5D%2C%20%5B33.8871258%2C%20-118.2823535%5D%2C%20%5B33.8968246%2C%20-118.1155368%5D%2C%20%5B33.9892887%2C%20-118.3545129%5D%2C%20%5B37.6669458%2C%20-120.9212963%5D%2C%20%5B33.4948425%2C%20-117.7201673%5D%2C%20%5B34.9501953%2C%20-120.4352034%5D%2C%20%5B37.6824075%2C%20-121.0493897%5D%2C%20%5B32.7556327%2C%20-117.135437%5D%2C%20%5B34.0874228%2C%20-117.2995282%5D%2C%20%5B32.7639071%2C%20-117.1199031%5D%2C%20%5B33.232021%2C%20-117.3082527%5D%2C%20%5B33.67190300000001%2C%20-116.213167%5D%2C%20%5B34.111576%2C%20-118.3342777%5D%2C%20%5B37.758873%2C%20-122.460922%5D%2C%20%5B33.736917%2C%20-117.8248692%5D%2C%20%5B33.7538297%2C%20-117.9541784%5D%2C%20%5B34.4272334%2C%20-117.3468426%5D%2C%20%5B32.7517644%2C%20-117.1956085%5D%2C%20%5B37.339436%2C%20-121.8433289%5D%2C%20%5B38.1326761%2C%20-122.257014%5D%2C%20%5B37.0562804%2C%20-120.8715159%5D%2C%20%5B37.870489%2C%20-122.2980249%5D%2C%20%5B39.1381773%2C%20-121.0710865%5D%2C%20%5B33.9977635%2C%20-118.0571897%5D%2C%20%5B33.6978423%2C%20-116.1896118%5D%2C%20%5B34.0740297%2C%20-118.2840206%5D%2C%20%5B36.7805535%2C%20-119.745703%5D%2C%20%5B34.0373126%2C%20-118.4327165%5D%2C%20%5B33.7026949%2C%20-117.8503514%5D%2C%20%5B38.8004842%2C%20-121.7204325%5D%2C%20%5B35.1222314%2C%20-120.6285475%5D%2C%20%5B38.6049381%2C%20-121.2743719%5D%2C%20%5B34.51681300000001%2C%20-117.314727%5D%2C%20%5B37.9372669%2C%20-122.3465764%5D%2C%20%5B34.0421225%2C%20-118.2514289%5D%2C%20%5B34.0774307%2C%20-118.1388519%5D%2C%20%5B34.0109839%2C%20-118.1576793%5D%2C%20%5B38.5911215%2C%20-121.4148136%5D%2C%20%5B34.094516%2C%20-118.2964892%5D%2C%20%5B38.7767931%2C%20-123.0045662%5D%2C%20%5B33.9638232%2C%20-118.033168%5D%2C%20%5B34.2013637%2C%20-118.5630406%5D%2C%20%5B38.2648095%2C%20-122.0107035%5D%2C%20%5B33.1295027%2C%20-117.2844384%5D%2C%20%5B34.0581867%2C%20-118.1454599%5D%2C%20%5B33.7110799%2C%20-116.2927465%5D%2C%20%5B33.9938637%2C%20-118.4181814%5D%2C%20%5B33.9352169%2C%20-117.2859509%5D%2C%20%5B32.7182841%2C%20-117.1281528%5D%2C%20%5B37.2928852%2C%20-121.8510358%5D%2C%20%5B34.1645005%2C%20-118.451065%5D%2C%20%5B34.0923477%2C%20-117.6916595%5D%2C%20%5B34.0418695%2C%20-118.2611134%5D%2C%20%5B33.5750526%2C%20-117.7257031%5D%2C%20%5B38.8025424%2C%20-122.0435261%5D%2C%20%5B35.3622543%2C%20-120.8524291%5D%2C%20%5B37.8056317%2C%20-121.60486%5D%2C%20%5B34.1658462%2C%20-118.354744%5D%2C%20%5B33.5224734%2C%20-117.6649812%5D%2C%20%5B34.114996%2C%20-118.1548278%5D%2C%20%5B36.5090597%2C%20-119.5098418%5D%2C%20%5B37.6698271%2C%20-122.4685504%5D%2C%20%5B34.0874307%2C%20-118.2843273%5D%2C%20%5B39.72882%2C%20-121.7973588%5D%2C%20%5B34.07143%2C%20-118.365388%5D%2C%20%5B34.0743373%2C%20-118.2875147%5D%2C%20%5B36.6170962%2C%20-121.9025827%5D%2C%20%5B34.268755%2C%20-118.999466%5D%2C%20%5B33.3822682%2C%20-117.2416842%5D%2C%20%5B34.9598439%2C%20-120.4362582%5D%2C%20%5B37.6518121%2C%20-122.0893811%5D%2C%20%5B34.5008854%2C%20-117.3262975%5D%2C%20%5B38.5881086%2C%20-121.4158314%5D%2C%20%5B34.1821044%2C%20-118.3051208%5D%2C%20%5B34.2796353%2C%20-118.7814805%5D%2C%20%5B35.3980706%2C%20-119.252044%5D%2C%20%5B34.6240302%2C%20-117.4482173%5D%2C%20%5B33.843883%2C%20-118.3342119%5D%2C%20%5B33.9881648%2C%20-117.905997%5D%2C%20%5B32.7817266%2C%20-117.1751168%5D%2C%20%5B37.9705851%2C%20-121.7958458%5D%2C%20%5B33.7471757%2C%20-116.4202857%5D%2C%20%5B37.6675763%2C%20-122.1071324%5D%2C%20%5B33.9856366%2C%20-118.2247036%5D%2C%20%5B37.8318174%2C%20-122.2640816%5D%2C%20%5B34.1539443%2C%20-118.4599525%5D%2C%20%5B36.5845798%2C%20-121.8516354%5D%2C%20%5B37.3490903%2C%20-122.0146386%5D%2C%20%5B37.7864341%2C%20-122.4200651%5D%2C%20%5B40.1629222%2C%20-122.2304452%5D%2C%20%5B38.3954735%2C%20-121.9619831%5D%2C%20%5B33.7510544%2C%20-116.2879144%5D%2C%20%5B33.7743733%2C%20-118.1673744%5D%2C%20%5B34.1689295%2C%20-118.4001078%5D%2C%20%5B34.26535399999999%2C%20-119.271468%5D%2C%20%5B33.9460426%2C%20-117.9954282%5D%2C%20%5B35.677819%2C%20-119.2293769%5D%2C%20%5B32.6377627%2C%20-117.0247897%5D%2C%20%5B37.788358%2C%20-122.4178135%5D%2C%20%5B38.349319%2C%20-122.0247796%5D%2C%20%5B34.2314166%2C%20-118.580254%5D%2C%20%5B32.8791053%2C%20-117.1663865%5D%2C%20%5B38.4529546%2C%20-122.7499631%5D%2C%20%5B32.8370906%2C%20-117.2754116%5D%2C%20%5B33.9170936%2C%20-118.4092321%5D%2C%20%5B36.741263%2C%20-119.7988358%5D%2C%20%5B35.6156529%2C%20-120.6899488%5D%2C%20%5B34.1124304%2C%20-117.7634272%5D%2C%20%5B34.0311247%2C%20-117.7488365%5D%2C%20%5B34.68978390000001%2C%20-118.1583016%5D%2C%20%5B34.03194870000001%2C%20-118.1980526%5D%2C%20%5B34.0778141%2C%20-118.1228579%5D%2C%20%5B37.2964376%2C%20-121.8371123%5D%2C%20%5B34.0548386%2C%20-118.2836057%5D%2C%20%5B34.1340161%2C%20-116.3826392%5D%2C%20%5B35.3777755%2C%20-118.2170746%5D%2C%20%5B33.7466791%2C%20-117.8378283%5D%2C%20%5B33.8460065%2C%20-118.0375458%5D%2C%20%5B38.5468828%2C%20-121.4001799%5D%2C%20%5B33.7750972%2C%20-118.1228517%5D%2C%20%5B33.9253181%2C%20-116.9538814%5D%2C%20%5B33.9987041%2C%20-117.0609278%5D%2C%20%5B38.0072652%2C%20-121.3534707%5D%2C%20%5B37.7566626%2C%20-122.4187372%5D%2C%20%5B34.0950451%2C%20-118.3132497%5D%2C%20%5B38.187251%2C%20-121.138197%5D%2C%20%5B33.6877233%2C%20-117.3364712%5D%2C%20%5B33.4818349%2C%20-117.022166%5D%2C%20%5B34.1069031%2C%20-117.5931245%5D%2C%20%5B34.02467010000001%2C%20-118.4181853%5D%2C%20%5B34.0835536%2C%20-118.3633757%5D%2C%20%5B33.1627287%2C%20-117.3492069%5D%2C%20%5B33.874559%2C%20-117.7379648%5D%2C%20%5B33.9885821%2C%20-118.4612823%5D%2C%20%5B38.0037732%2C%20-121.3220163%5D%2C%20%5B34.0710175%2C%20-117.9476912%5D%2C%20%5B34.1927533%2C%20-118.4491022%5D%2C%20%5B36.80906179999999%2C%20-119.7619068%5D%2C%20%5B37.2504751%2C%20-121.781087%5D%2C%20%5B33.6002416%2C%20-117.8196487%5D%2C%20%5B33.6060412%2C%20-117.8895875%5D%2C%20%5B34.0938951%2C%20-118.3782443%5D%2C%20%5B33.6883248%2C%20-117.1875453%5D%2C%20%5B34.141058%2C%20-117.2529604%5D%2C%20%5B37.74227399999999%2C%20-121.340836%5D%2C%20%5B36.790774%2C%20-119.823041%5D%2C%20%5B33.2036791%2C%20-117.3863889%5D%2C%20%5B32.7240698%2C%20-117.2301401%5D%2C%20%5B33.9474344%2C%20-116.9989887%5D%2C%20%5B37.1741558%2C%20-121.823771%5D%2C%20%5B32.8076821%2C%20-115.5702825%5D%2C%20%5B32.7528957%2C%20-117.218418%5D%2C%20%5B37.9727132%2C%20-122.5266486%5D%2C%20%5B33.9839237%2C%20-118.4595178%5D%2C%20%5B34.1639772%2C%20-118.8362312%5D%2C%20%5B37.7946692%2C%20-122.404478%5D%2C%20%5B34.029288%2C%20-118.231911%5D%2C%20%5B33.4341516%2C%20-117.6204483%5D%2C%20%5B33.7168186%2C%20-117.8331576%5D%2C%20%5B38.7512763%2C%20-121.3085228%5D%2C%20%5B38.6794952%2C%20-121.2720824%5D%2C%20%5B32.6169955%2C%20-117.0837523%5D%2C%20%5B37.8203863%2C%20-121.9974497%5D%2C%20%5B33.8207526%2C%20-116.5524949%5D%2C%20%5B37.6665969%2C%20-122.0811702%5D%2C%20%5B33.7999339%2C%20-117.8682304%5D%2C%20%5B34.1067606%2C%20-117.3799335%5D%2C%20%5B34.0746532%2C%20-118.2969003%5D%2C%20%5B33.8326959%2C%20-116.546521%5D%2C%20%5B34.2452687%2C%20-118.6056475%5D%2C%20%5B34.1333208%2C%20-118.145503%5D%2C%20%5B32.5819339%2C%20-117.0332961%5D%2C%20%5B34.0330185%2C%20-118.2937652%5D%2C%20%5B34.0934239%2C%20-118.1668801%5D%2C%20%5B37.7787306%2C%20-122.4072383%5D%2C%20%5B37.81883310000001%2C%20-121.9957396%5D%2C%20%5B33.8970424%2C%20-118.326142%5D%2C%20%5B34.0834101%2C%20-117.5927907%5D%2C%20%5B33.8876391%2C%20-117.5107366%5D%2C%20%5B36.8082059%2C%20-119.7247988%5D%2C%20%5B33.7360257%2C%20-117.9899846%5D%2C%20%5B38.8152753%2C%20-121.2557514%5D%2C%20%5B33.8780514%2C%20-118.1456164%5D%2C%20%5B33.9827296%2C%20-118.2248941%5D%2C%20%5B39.4976786%2C%20-121.5707423%5D%2C%20%5B34.035653%2C%20-118.259842%5D%2C%20%5B34.0179175%2C%20-118.2701579%5D%2C%20%5B34.0471236%2C%20-118.2094867%5D%2C%20%5B35.606259%2C%20-120.7182%5D%2C%20%5B38.4854991%2C%20-120.905857%5D%2C%20%5B33.8476273%2C%20-118.0268882%5D%2C%20%5B37.2519668%2C%20-121.8270276%5D%2C%20%5B34.140856%2C%20-119.173854%5D%2C%20%5B32.6255572%2C%20-117.0733248%5D%2C%20%5B37.7993551%2C%20-122.404857%5D%2C%20%5B32.7472054%2C%20-117.1607117%5D%2C%20%5B37.462975%2C%20-121.160504%5D%2C%20%5B34.0918866%2C%20-118.0537117%5D%2C%20%5B34.2079937%2C%20-118.5349251%5D%2C%20%5B33.7148933%2C%20-117.9962613%5D%2C%20%5B34.09123940000001%2C%20-118.2276606%5D%2C%20%5B33.5111395%2C%20-117.1591493%5D%2C%20%5B33.5729884%2C%20-117.7293653%5D%2C%20%5B34.1600831%2C%20-118.1562807%5D%2C%20%5B38.7986705%2C%20-121.29318%5D%2C%20%5B33.8480405%2C%20-118.1593529%5D%2C%20%5B33.9983858%2C%20-117.3374173%5D%2C%20%5B32.8050849%2C%20-117.2539709%5D%2C%20%5B33.8011202%2C%20-117.2086661%5D%2C%20%5B34.1289674%2C%20-117.8666509%5D%2C%20%5B37.41369%2C%20-121.8767183%5D%2C%20%5B37.6448919%2C%20-120.9900519%5D%2C%20%5B33.9220647%2C%20-118.0338866%5D%2C%20%5B34.0391939%2C%20-117.6516204%5D%2C%20%5B38.9606097%2C%20-119.9449854%5D%2C%20%5B34.181316%2C%20-118.2973342%5D%2C%20%5B34.2180851%2C%20-118.6050093%5D%2C%20%5B34.1278156%2C%20-118.2530734%5D%2C%20%5B33.859339%2C%20-118.022543%5D%2C%20%5B34.143231%2C%20-118.3923757%5D%2C%20%5B39.0456104%2C%20-122.0522483%5D%2C%20%5B33.9889179%2C%20-118.4502391%5D%2C%20%5B38.4011086%2C%20-121.9497108%5D%2C%20%5B33.9192308%2C%20-117.9108946%5D%2C%20%5B38.1467335%2C%20-122.2535604%5D%2C%20%5B34.6622932%2C%20-120.4558358%5D%2C%20%5B35.613188%2C%20-121.1427805%5D%2C%20%5B38.0017502%2C%20-121.7319916%5D%2C%20%5B38.5235809%2C%20-121.4620658%5D%2C%20%5B37.956802%2C%20-121.267773%5D%2C%20%5B39.008408%2C%20-94.5065472%5D%2C%20%5B35.3565848%2C%20-119.0616752%5D%2C%20%5B34.2691025%2C%20-118.7603202%5D%2C%20%5B37.9020354%2C%20-122.5118764%5D%2C%20%5B33.4697499%2C%20-116.1109715%5D%2C%20%5B33.9864566%2C%20-118.464722%5D%2C%20%5B34.0748887%2C%20-118.3082034%5D%2C%20%5B33.7079155%2C%20-116.2331379%5D%2C%20%5B34.1353635%2C%20-117.2126977%5D%2C%20%5B37.7438903%2C%20-122.421275%5D%2C%20%5B37.9888164%2C%20-121.7859217%5D%2C%20%5B34.045886%2C%20-118.456847%5D%2C%20%5B37.7245784%2C%20-122.4578258%5D%2C%20%5B37.6530129%2C%20-122.1051044%5D%2C%20%5B34.1657616%2C%20-118.5947798%5D%2C%20%5B39.1732825%2C%20-120.1388571%5D%2C%20%5B33.8732542%2C%20-117.5300191%5D%2C%20%5B32.7987096%2C%20-117.2450832%5D%2C%20%5B33.7681087%2C%20-118.1771093%5D%2C%20%5B33.7783701%2C%20-118.1796613%5D%2C%20%5B34.1816633%2C%20-118.4594787%5D%2C%20%5B37.98610439999999%2C%20-121.3344501%5D%2C%20%5B33.7199778%2C%20-116.3975269%5D%2C%20%5B34.858367%2C%20-117.0894293%5D%2C%20%5B32.7671705%2C%20-117.0382388%5D%2C%20%5B33.996866%2C%20-118.2329034%5D%2C%20%5B33.757515%2C%20-117.954261%5D%2C%20%5B34.0229529%2C%20-118.5050763%5D%2C%20%5B33.1724977%2C%20-117.2206689%5D%2C%20%5B34.1771151%2C%20-117.3307982%5D%2C%20%5B34.2842216%2C%20-118.7997436%5D%2C%20%5B34.0949665%2C%20-117.546833%5D%2C%20%5B34.0185418%2C%20-117.5938691%5D%2C%20%5B33.9100592%2C%20-116.6543595%5D%2C%20%5B34.1018647%2C%20-118.3312654%5D%2C%20%5B34.2852777%2C%20-118.8061418%5D%2C%20%5B33.9597031%2C%20-116.5276597%5D%2C%20%5B32.5806072%2C%20-117.1323349%5D%2C%20%5B33.5983398%2C%20-117.1800332%5D%2C%20%5B33.1415129%2C%20-117.184467%5D%2C%20%5B34.1911604%2C%20-118.9365828%5D%2C%20%5B34.1030482%2C%20-118.128846%5D%2C%20%5B39.8848717%2C%20-104.8132692%5D%2C%20%5B33.9483139%2C%20-118.0060287%5D%2C%20%5B37.9095373%2C%20-121.3763638%5D%2C%20%5B36.6366266%2C%20-120.6277512%5D%2C%20%5B33.8845516%2C%20-118.1065071%5D%2C%20%5B33.7105386%2C%20-117.8505248%5D%2C%20%5B34.5628516%2C%20-117.4505572%5D%2C%20%5B33.9970929%2C%20-118.4706175%5D%2C%20%5B34.151197%2C%20-118.4315425%5D%2C%20%5B33.1419229%2C%20-117.1790912%5D%2C%20%5B33.122979%2C%20-117.080779%5D%2C%20%5B37.3654561%2C%20-121.8631991%5D%2C%20%5B33.8593091%2C%20-118.020713%5D%2C%20%5B34.0369469%2C%20-118.2564539%5D%2C%20%5B37.2712254%2C%20-121.9400671%5D%2C%20%5B32.6608537%2C%20-117.0318075%5D%2C%20%5B33.6859112%2C%20-116.1467255%5D%2C%20%5B38.4965263%2C%20-121.4306214%5D%2C%20%5B33.039641%2C%20-117.221232%5D%2C%20%5B38.401223%2C%20-122.8240408%5D%2C%20%5B33.629425%2C%20-116.21829%5D%2C%20%5B36.884384%2C%20-121.3958197%5D%2C%20%5B34.0627509%2C%20-118.1295034%5D%2C%20%5B34.0642719%2C%20-117.658427%5D%2C%20%5B33.206352%2C%20-117.2908033%5D%2C%20%5B34.41591080000001%2C%20-118.4758807%5D%2C%20%5B38.6772869%2C%20-121.1978068%5D%2C%20%5B40.3810623%2C%20-74.4657786%5D%2C%20%5B34.1996079%2C%20-118.3970497%5D%2C%20%5B33.79204%2C%20-117.2200386%5D%2C%20%5B34.0302243%2C%20-117.9861732%5D%2C%20%5B34.0488806%2C%20-118.2322001%5D%2C%20%5B40.4775342%2C%20-104.9929263%5D%2C%20%5B38.9166999%2C%20-104.7862466%5D%2C%20%5B39.767669%2C%20-104.9011287%5D%2C%20%5B39.3749547%2C%20-104.858391%5D%2C%20%5B39.6212985%2C%20-105.0918652%5D%2C%20%5B39.3381624%2C%20-104.8502276%5D%2C%20%5B40.477768%2C%20-104.929918%5D%2C%20%5B39.74994179999999%2C%20-104.9871126%5D%2C%20%5B38.9996764%2C%20-105.0782833%5D%2C%20%5B39.4902294%2C%20-104.7586115%5D%2C%20%5B40.0960548%2C%20-105.9546639%5D%2C%20%5B39.5997526%2C%20-104.7094861%5D%2C%20%5B40.4552741%2C%20-105.0799107%5D%2C%20%5B39.7810636%2C%20-104.8455531%5D%2C%20%5B40.4412303%2C%20-104.8884817%5D%2C%20%5B39.8157752%2C%20-105.0795795%5D%2C%20%5B37.2970847%2C%20-107.8720628%5D%2C%20%5B37.1355133%2C%20-104.522835%5D%2C%20%5B40.3826025%2C%20-105.4992663%5D%2C%20%5B37.5735283%2C%20-106.1251069%5D%2C%20%5B39.7090295%2C%20-105.1947669%5D%2C%20%5B40.39961170000001%2C%20-104.717551%5D%2C%20%5B39.813075%2C%20-104.9436538%5D%2C%20%5B39.7561956%2C%20-104.9456844%5D%2C%20%5B40.4296719%2C%20-104.9840959%5D%2C%20%5B39.6373811%2C%20-104.8987489%5D%2C%20%5B39.8323696%2C%20-105.034692%5D%2C%20%5B38.9273359%2C%20-108.9279%5D%2C%20%5B37.4760553%2C%20-105.8955954%5D%2C%20%5B39.3638864%2C%20-104.8632027%5D%2C%20%5B39.8841836%2C%20-104.8443738%5D%2C%20%5B47.6491719%2C%20-117.4343773%5D%2C%20%5B39.5491628%2C%20-104.9965191%5D%2C%20%5B40.0970551%2C%20-104.8108649%5D%2C%20%5B39.595914%2C%20-105.1064422%5D%2C%20%5B37.2980495%2C%20-107.8713223%5D%2C%20%5B39.5627343%2C%20-107.3725935%5D%2C%20%5B38.7960139%2C%20-104.8122205%5D%2C%20%5B39.5354926%2C%20-104.7708497%5D%2C%20%5B39.6897955%2C%20-104.8650726%5D%2C%20%5B40.3861036%2C%20-105.0668837%5D%2C%20%5B45.5648471%2C%20-122.3270636%5D%2C%20%5B40.2047547%2C%20-105.0988534%5D%2C%20%5B39.060221%2C%20-108.553429%5D%2C%20%5B38.2603342%2C%20-106.6969139%5D%2C%20%5B39.9772052%2C%20-104.9882142%5D%2C%20%5B38.7374839%2C%20-104.6675123%5D%2C%20%5B39.7303048%2C%20-105.1638168%5D%2C%20%5B39.7845953%2C%20-104.9413494%5D%2C%20%5B40.5226779%2C%20-105.0211662%5D%2C%20%5B39.0866005%2C%20-108.4582579%5D%2C%20%5B39.544234%2C%20-107.7817932%5D%2C%20%5B39.7380457%2C%20-104.8085249%5D%2C%20%5B39.9143288%2C%20-104.7901136%5D%2C%20%5B39.6364688%2C%20-104.7895165%5D%2C%20%5B39.678655%2C%20-104.958332%5D%2C%20%5B39.8627881%2C%20-105.2050784%5D%2C%20%5B40.5232028%2C%20-105.0731863%5D%2C%20%5B37.2281698%2C%20-107.8029256%5D%2C%20%5B38.9110984%2C%20-104.784398%5D%2C%20%5B39.8214665%2C%20-104.7443244%5D%2C%20%5B40.5222126%2C%20-104.7117643%5D%2C%20%5B39.5700637%2C%20-105.127129%5D%2C%20%5B38.7813452%2C%20-104.7585858%5D%2C%20%5B40.5072034%2C%20-105.0742212%5D%2C%20%5B39.682561%2C%20-105.0710394%5D%2C%20%5B40.3062975%2C%20-104.9843825%5D%2C%20%5B39.91557239999999%2C%20-104.9022484%5D%2C%20%5B40.4214218%2C%20-104.8134891%5D%2C%20%5B39.5195952%2C%20-104.7743823%5D%2C%20%5B39.5203287%2C%20-105.305727%5D%2C%20%5B38.9879151%2C%20-105.077022%5D%2C%20%5B41.3366234%2C%20-79.0419053%5D%2C%20%5B28.3037604%2C%20-81.35141410000001%5D%2C%20%5B39.686696%2C%20-104.9391135%5D%2C%20%5B40.3847196%2C%20-104.755756%5D%2C%20%5B39.5787319%2C%20-104.8607539%5D%2C%20%5B40.41958109999999%2C%20-105.0017763%5D%2C%20%5B39.6619777%2C%20-105.3535238%5D%2C%20%5B39.6365954%2C%20-106.52264%5D%2C%20%5B37.919859%2C%20-107.851972%5D%2C%20%5B37.935871%2C%20-104.8172248%5D%2C%20%5B40.09354%2C%20-105.209586%5D%2C%20%5B39.1919929%2C%20-106.8244209%5D%2C%20%5B40.16018589999999%2C%20-105.0552778%5D%2C%20%5B37.2854858%2C%20-107.8761357%5D%2C%20%5B39.4235055%2C%20-104.8854287%5D%2C%20%5B39.7206297%2C%20-104.9799666%5D%2C%20%5B40.4292278%2C%20-104.793514%5D%2C%20%5B40.1020356%2C%20-104.7417707%5D%2C%20%5B39.9284317%2C%20-104.9779011%5D%2C%20%5B39.357794%2C%20-104.864745%5D%2C%20%5B39.7389312%2C%20-104.9392048%5D%2C%20%5B38.9245627%2C%20-104.7931635%5D%2C%20%5B38.8062251%2C%20-104.7303479%5D%2C%20%5B39.4084096%2C%20-104.8716486%5D%2C%20%5B39.78329979999999%2C%20-104.8571804%5D%2C%20%5B39.631581%2C%20-106.912637%5D%2C%20%5B38.9622798%2C%20-104.6804768%5D%2C%20%5B39.7385373%2C%20-104.9392048%5D%2C%20%5B39.5524551%2C%20-104.770052%5D%2C%20%5B39.82067230000001%2C%20-104.942262%5D%2C%20%5B39.1053679%2C%20-108.6099153%5D%2C%20%5B40.386258%2C%20-105.521427%5D%2C%20%5B39.6089388%2C%20-104.7160474%5D%2C%20%5B39.5747915%2C%20-104.9879455%5D%2C%20%5B39.1015057%2C%20-108.4490072%5D%2C%20%5B38.8463985%2C%20-104.7635563%5D%2C%20%5B40.305954%2C%20-104.924577%5D%2C%20%5B40.5686066%2C%20-105.0342354%5D%2C%20%5B38.8351837%2C%20-104.8314733%5D%2C%20%5B38.8700552%2C%20-104.833879%5D%2C%20%5B39.0226074%2C%20-104.8250139%5D%2C%20%5B38.8440004%2C%20-104.7649198%5D%2C%20%5B37.296592%2C%20-107.8721091%5D%2C%20%5B40.0075509%2C%20-105.0508451%5D%2C%20%5B39.8931189%2C%20-104.87747%5D%2C%20%5B39.6517348%2C%20-104.7731588%5D%2C%20%5B38.7230515%2C%20-104.6549843%5D%2C%20%5B39.056655%2C%20-104.8272899%5D%2C%20%5B39.8246217%2C%20-105.0067064%5D%2C%20%5B40.0005138%2C%20-104.7154793%5D%2C%20%5B39.6993264%2C%20-105.1454033%5D%2C%20%5B40.0124539%2C%20-105.2965388%5D%2C%20%5B39.5962269%2C%20-104.8397616%5D%2C%20%5B40.5990928%2C%20-105.0672372%5D%2C%20%5B40.2280828%2C%20-104.8220914%5D%2C%20%5B39.8947487%2C%20-105.7615481%5D%2C%20%5B39.8316573%2C%20-105.0025523%5D%2C%20%5B39.7414568%2C%20-104.9844309%5D%2C%20%5B39.5358846%2C%20-104.8486177%5D%2C%20%5B38.884127%2C%20-104.81648%5D%2C%20%5B39.7405903%2C%20-105.1221016%5D%2C%20%5B39.5937117%2C%20-104.8984164%5D%2C%20%5B40.437988%2C%20-104.890199%5D%2C%20%5B40.3515376%2C%20-105.0754063%5D%2C%20%5B39.6681581%2C%20-104.9283451%5D%2C%20%5B39.7389312%2C%20-104.9392048%5D%2C%20%5B39.7078896%2C%20-104.9880824%5D%2C%20%5B37.2701598%2C%20-107.8817566%5D%2C%20%5B40.3221244%2C%20-105.0757675%5D%2C%20%5B39.6121532%2C%20-105.0048804%5D%2C%20%5B39.542819%2C%20-104.773052%5D%2C%20%5B40.0127732%2C%20-105.325147%5D%2C%20%5B39.9381569%2C%20-104.845252%5D%2C%20%5B39.7255158%2C%20-104.823497%5D%2C%20%5B40.58919890000001%2C%20-105.0804538%5D%2C%20%5B40.5211968%2C%20-105.0621345%5D%2C%20%5B40.5815061%2C%20-104.9077285%5D%2C%20%5B40.5802934%2C%20-104.9955682%5D%2C%20%5B39.0892863%2C%20-104.8688186%5D%2C%20%5B40.4783066%2C%20-104.9895206%5D%2C%20%5B39.6619777%2C%20-105.3535238%5D%2C%20%5B40.4292278%2C%20-104.793514%5D%2C%20%5B40.3761382%2C%20-105.4826705%5D%2C%20%5B38.8636775%2C%20-104.7110808%5D%2C%20%5B39.5946309%2C%20-104.874742%5D%2C%20%5B39.678847%2C%20-105.234915%5D%2C%20%5B40.0946082%2C%20-104.8246963%5D%2C%20%5B39.8766288%2C%20-105.0927787%5D%2C%20%5B39.631581%2C%20-106.912637%5D%2C%20%5B39.8924911%2C%20-104.9628887%5D%2C%20%5B40.3929986%2C%20-104.7537803%5D%2C%20%5B40.4070738%2C%20-104.9884051%5D%2C%20%5B39.6570993%2C%20-104.9867587%5D%2C%20%5B39.7098269%2C%20-105.0632761%5D%2C%20%5B40.3987903%2C%20-104.9936122%5D%2C%20%5B40.1524162%2C%20-105.1782511%5D%2C%20%5B38.9498052%2C%20-104.7145358%5D%2C%20%5B39.6587596%2C%20-105.0805386%5D%2C%20%5B39.8707459%2C%20-104.8279061%5D%2C%20%5B39.7737325%2C%20-104.7808096%5D%2C%20%5B39.5549756%2C%20-104.8795515%5D%2C%20%5B39.5662257%2C%20-104.9625108%5D%2C%20%5B39.6619713%2C%20-104.8476965%5D%2C%20%5B39.8928842%2C%20-104.8768858%5D%2C%20%5B37.161172%2C%20-104.5133242%5D%2C%20%5B39.7391557%2C%20-105.5235879%5D%2C%20%5B39.749131%2C%20-104.819872%5D%2C%20%5B39.5668817%2C%20-105.1151147%5D%2C%20%5B40.4328255%2C%20-104.9752112%5D%2C%20%5B40.4358715%2C%20-104.9824364%5D%2C%20%5B39.7374939%2C%20-104.9614055%5D%2C%20%5B40.395964%2C%20-105.5653216%5D%2C%20%5B38.549999%2C%20-106.228838%5D%2C%20%5B39.7537858%2C%20-105.0238366%5D%2C%20%5B39.98714500000001%2C%20-104.994775%5D%2C%20%5B40.4292278%2C%20-104.793514%5D%2C%20%5B39.7510067%2C%20-104.9849444%5D%2C%20%5B40.4648358%2C%20-105.0754692%5D%2C%20%5B38.9987134%2C%20-104.7809954%5D%2C%20%5B39.9616407%2C%20-105.1278868%5D%2C%20%5B39.90648789999999%2C%20-105.029701%5D%2C%20%5B39.5690768%2C%20-105.1265351%5D%2C%20%5B39.7405444%2C%20-104.9377564%5D%2C%20%5B38.4491885%2C%20-107.8713359%5D%2C%20%5B37.98622659999999%2C%20-103.526882%5D%2C%20%5B40.0369992%2C%20-105.0089888%5D%2C%20%5B39.5936516%2C%20-104.742979%5D%2C%20%5B38.9218128%2C%20-104.8156857%5D%2C%20%5B39.6285527%2C%20-106.0709526%5D%2C%20%5B40.1165015%2C%20-104.8861634%5D%2C%20%5B40.450105%2C%20-104.992761%5D%2C%20%5B38.7973216%2C%20-104.7924797%5D%2C%20%5B39.5811263%2C%20-104.8559511%5D%2C%20%5B39.7474614%2C%20-105.2083739%5D%2C%20%5B39.4566955%2C%20-104.7593155%5D%2C%20%5B38.9366572%2C%20-104.8160049%5D%2C%20%5B39.6983114%2C%20-104.8181478%5D%2C%20%5B40.3803753%2C%20-105.5109873%5D%2C%20%5B39.6013944%2C%20-104.7194193%5D%2C%20%5B39.514841%2C%20-104.792191%5D%2C%20%5B39.1146013%2C%20-108.5707299%5D%2C%20%5B40.3774132%2C%20-105.5342366%5D%2C%20%5B40.5185615%2C%20-104.9564084%5D%2C%20%5B39.6778035%2C%20-105.0566547%5D%2C%20%5B40.3639029%2C%20-105.1001588%5D%2C%20%5B39.774125%2C%20-104.957711%5D%2C%20%5B39.6051637%2C%20-105.9681288%5D%2C%20%5B40.523122%2C%20-104.9851867%5D%2C%20%5B39.5324469%2C%20-106.0401434%5D%2C%20%5B40.6737265%2C%20-104.6009546%5D%2C%20%5B38.7645709%2C%20-104.668103%5D%2C%20%5B39.7616897%2C%20-105.0241911%5D%2C%20%5B38.9385402%2C%20-104.6672154%5D%2C%20%5B40.5206964%2C%20-105.0454218%5D%2C%20%5B37.935871%2C%20-104.8172248%5D%2C%20%5B39.6794844%2C%20-104.958325%5D%2C%20%5B39.6564075%2C%20-105.054767%5D%2C%20%5B39.7370506%2C%20-105.0976659%5D%2C%20%5B40.4802052%2C%20-105.0773515%5D%2C%20%5B40.4498681%2C%20-105.0054389%5D%2C%20%5B39.6788114%2C%20-104.9583979%5D%2C%20%5B39.9152926%2C%20-105.0696466%5D%2C%20%5B40.3574523%2C%20-104.9773792%5D%2C%20%5B39.7377978%2C%20-104.9820118%5D%2C%20%5B39.8268792%2C%20-104.9390222%5D%2C%20%5B39.5672296%2C%20-104.9904157%5D%2C%20%5B39.5945587%2C%20-104.8982795%5D%2C%20%5B40.4797221%2C%20-104.889045%5D%2C%20%5B40.45035439999999%2C%20-104.9824329%5D%2C%20%5B39.6613619%2C%20-105.351583%5D%2C%20%5B39.8002622%2C%20-105.4993235%5D%2C%20%5B40.4799951%2C%20-104.9076757%5D%2C%20%5B40.2523498%2C%20-105.8338459%5D%2C%20%5B40.408116%2C%20-104.912696%5D%2C%20%5B39.7544196%2C%20-104.9867587%5D%2C%20%5B40.733462%2C%20-106.2968976%5D%2C%20%5B40.348112%2C%20-105.094949%5D%2C%20%5B40.5929101%2C%20-105.0942171%5D%2C%20%5B37.14212819999999%2C%20-104.1680613%5D%2C%20%5B39.7215092%2C%20-104.8188613%5D%2C%20%5B40.45035439999999%2C%20-104.9824329%5D%2C%20%5B39.9273816%2C%20-104.9764892%5D%2C%20%5B40.5961295%2C%20-105.02939%5D%2C%20%5B40.4293188%2C%20-104.991734%5D%2C%20%5B40.408116%2C%20-104.912696%5D%2C%20%5B39.9133738%2C%20-104.9773107%5D%2C%20%5B39.19173079999999%2C%20-106.8191743%5D%2C%20%5B40.6115017%2C%20-105.077159%5D%2C%20%5B40.4665112%2C%20-104.7159537%5D%2C%20%5B40.0142768%2C%20-105.2569231%5D%2C%20%5B39.553019%2C%20-104.8836822%5D%2C%20%5B39.6905614%2C%20-104.9387941%5D%2C%20%5B39.6962154%2C%20-104.8251697%5D%2C%20%5B39.922525%2C%20-104.962657%5D%2C%20%5B38.8231354%2C%20-104.7220621%5D%2C%20%5B39.9798442%2C%20-105.0682537%5D%2C%20%5B39.7443821%2C%20-104.9909144%5D%2C%20%5B39.5624376%2C%20-107.3791776%5D%2C%20%5B39.738654%2C%20-104.9737051%5D%2C%20%5B39.6748093%2C%20-104.8833434%5D%2C%20%5B40.0960548%2C%20-105.9546639%5D%2C%20%5B39.788165%2C%20-105.1083419%5D%2C%20%5B39.1741943%2C%20-108.7924138%5D%2C%20%5B38.9996764%2C%20-105.0782833%5D%2C%20%5B40.3499267%2C%20-105.0796468%5D%2C%20%5B38.9260721%2C%20-104.7197118%5D%2C%20%5B39.8146108%2C%20-104.7720194%5D%2C%20%5B39.0264537%2C%20-104.4785211%5D%2C%20%5B39.5831328%2C%20-104.8766121%5D%2C%20%5B40.7665417%2C%20-105.4933238%5D%2C%20%5B39.721169%2C%20-104.9495404%5D%2C%20%5B39.5669551%2C%20-105.1169419%5D%2C%20%5B40.25214039999999%2C%20-103.8806438%5D%2C%20%5B40.5971039%2C%20-104.7543384%5D%2C%20%5B40.524213%2C%20-104.7117178%5D%2C%20%5B39.0303696%2C%20-108.4869555%5D%2C%20%5B38.8929075%2C%20-104.8763376%5D%2C%20%5B39.588589%2C%20-104.859999%5D%2C%20%5B40.483118%2C%20-104.984474%5D%2C%20%5B40.4109828%2C%20-104.6854304%5D%2C%20%5B39.2716326%2C%20-103.7093237%5D%2C%20%5B39.5761803%2C%20-104.7347089%5D%2C%20%5B39.6930244%2C%20-104.8274368%5D%2C%20%5B41.2915778%2C%20-72.6821956%5D%2C%20%5B41.2453251%2C%20-73.0007696%5D%2C%20%5B41.1469608%2C%20-73.49510529999999%5D%2C%20%5B41.2439268%2C%20-73.19578039999999%5D%2C%20%5B41.8112193%2C%20-73.1208073%5D%2C%20%5B41.0988827%2C%20-73.4420993%5D%2C%20%5B41.6513284%2C%20-72.6261121%5D%2C%20%5B41.1151002%2C%20-73.41548879999999%5D%2C%20%5B41.211689%2C%20-73.0783885%5D%2C%20%5B41.0800697%2C%20-73.5191763%5D%2C%20%5B41.478433%2C%20-72.80326%5D%2C%20%5B41.2801213%2C%20-72.5289967%5D%2C%20%5B41.5063283%2C%20-73.1526216%5D%2C%20%5B41.1138388%2C%20-73.3462538%5D%2C%20%5B41.3667987%2C%20-72.15078%5D%2C%20%5B41.19849019999999%2C%20-73.18048%5D%2C%20%5B41.2521175%2C%20-72.99829270000001%5D%2C%20%5B41.35277809999999%2C%20-73.260271%5D%2C%20%5B41.6213709%2C%20-73.0864579%5D%2C%20%5B41.9165594%2C%20-72.6131765%5D%2C%20%5B41.262192%2C%20-73.1378187%5D%2C%20%5B41.1219156%2C%20-73.544735%5D%2C%20%5B41.4245587%2C%20-71.8636184%5D%2C%20%5B41.5374274%2C%20-72.75503259999999%5D%2C%20%5B41.2769254%2C%20-72.85477879999999%5D%2C%20%5B41.4575682%2C%20-73.1452786%5D%2C%20%5B41.2954055%2C%20-72.5506875%5D%2C%20%5B41.4405389%2C%20-73.4061657%5D%2C%20%5B41.24207%2C%20-73.1461186%5D%2C%20%5B41.13834%2C%20-73.31242259999999%5D%2C%20%5B41.2615406%2C%20-73.00104019999999%5D%2C%20%5B41.658477%2C%20-71.91356999999999%5D%2C%20%5B41.1689792%2C%20-73.2103242%5D%2C%20%5B41.2913855%2C%20-72.9422041%5D%2C%20%5B41.3690192%2C%20-71.9509566%5D%2C%20%5B41.85424%2C%20-72.66545599999999%5D%2C%20%5B41.7965281%2C%20-72.6556648%5D%2C%20%5B41.7254922%2C%20-72.7276643%5D%2C%20%5B41.8810168%2C%20-72.9782824%5D%2C%20%5B41.5863656%2C%20-71.98206119999999%5D%2C%20%5B41.9242917%2C%20-72.6454469%5D%2C%20%5B41.0416939%2C%20-73.59258179999999%5D%2C%20%5B41.8050592%2C%20-72.8190329%5D%2C%20%5B41.39901750000001%2C%20-73.4413167%5D%2C%20%5B41.951934%2C%20-72.620927%5D%2C%20%5B41.2917816%2C%20-72.3863288%5D%2C%20%5B41.5531509%2C%20-73.0791235%5D%2C%20%5B41.3527503%2C%20-73.2153682%5D%2C%20%5B41.2711507%2C%20-72.99504979999999%5D%2C%20%5B41.3415839%2C%20-72.8721515%5D%2C%20%5B41.1836101%2C%20-73.14657799999999%5D%2C%20%5B41.5736172%2C%20-72.67128679999999%5D%2C%20%5B41.3662754%2C%20-72.4232403%5D%2C%20%5B41.3688309%2C%20-72.1146346%5D%2C%20%5B41.824915%2C%20-71.80483699999999%5D%2C%20%5B41.451376%2C%20-71.8102772%5D%2C%20%5B41.71947369999999%2C%20-73.4753808%5D%2C%20%5B41.2753%2C%20-72.98596239999999%5D%2C%20%5B41.2936274%2C%20-72.3769188%5D%2C%20%5B41.3565019%2C%20-72.9271278%5D%2C%20%5B41.523419%2C%20-72.0803784%5D%2C%20%5B41.8559702%2C%20-72.430627%5D%2C%20%5B41.4245587%2C%20-71.8636184%5D%2C%20%5B41.8185709%2C%20-72.6074991%5D%2C%20%5B41.0144115%2C%20-73.6509075%5D%2C%20%5B41.6662673%2C%20-72.8674611%5D%2C%20%5B41.368327%2C%20-72.861554%5D%2C%20%5B41.3826295%2C%20-72.9025448%5D%2C%20%5B41.6094203%2C%20-72.6752155%5D%2C%20%5B41.8093064%2C%20-73.2016814%5D%2C%20%5B41.2770423%2C%20-72.99059199999999%5D%2C%20%5B41.6757007%2C%20-72.8587557%5D%2C%20%5B41.295558%2C%20-72.770713%5D%2C%20%5B41.267895%2C%20-73.00307440000002%5D%2C%20%5B41.1857391%2C%20-73.4205073%5D%2C%20%5B41.7645386%2C%20-72.7101548%5D%2C%20%5B41.8689024%2C%20-72.4651738%5D%2C%20%5B41.2702281%2C%20-72.9744961%5D%2C%20%5B41.5426528%2C%20-72.99278799999999%5D%2C%20%5B41.3009374%2C%20-72.7096694%5D%2C%20%5B41.3865605%2C%20-73.42557169999999%5D%2C%20%5B41.5443688%2C%20-73.4215432%5D%2C%20%5B41.3712671%2C%20-71.8337926%5D%2C%20%5B41.2318426%2C%20-73.0286287%5D%2C%20%5B41.4475661%2C%20-73.4028368%5D%2C%20%5B41.431283%2C%20-72.85027099999999%5D%2C%20%5B41.0239619%2C%20-73.63582219999999%5D%2C%20%5B41.76304%2C%20-72.70985%5D%2C%20%5B41.9208473%2C%20-72.67004279999999%5D%2C%20%5B41.1467442%2C%20-73.4923396%5D%2C%20%5B41.479467%2C%20-73.40827999999999%5D%2C%20%5B41.3473911%2C%20-71.9562499%5D%2C%20%5B41.0549117%2C%20-73.5460995%5D%2C%20%5B41.674639%2C%20-72.6542449%5D%2C%20%5B41.2872934%2C%20-73.4937223%5D%2C%20%5B41.8438382%2C%20-72.1752568%5D%2C%20%5B41.1788514%2C%20-73.19915759999999%5D%2C%20%5B41.247073%2C%20-73.074208%5D%2C%20%5B41.6417605%2C%20-72.73507640000001%5D%2C%20%5B41.6706549%2C%20-72.7867265%5D%2C%20%5B41.7647383%2C%20-72.7308668%5D%2C%20%5B41.4570108%2C%20-72.8230736%5D%2C%20%5B41.630407%2C%20-72.8744804%5D%2C%20%5B39.4430367%2C%20-75.7209118%5D%2C%20%5B38.6778402%2C%20-75.3790396%5D%2C%20%5B39.1475822%2C%20-75.5247129%5D%2C%20%5B39.548244%2C%20-75.702846%5D%2C%20%5B39.45354090000001%2C%20-75.735748%5D%2C%20%5B39.6749409%2C%20-75.7480057%5D%2C%20%5B39.7970661%2C%20-75.5468892%5D%2C%20%5B38.5728152%2C%20-75.5643621%5D%2C%20%5B39.673358%2C%20-75.5959836%5D%2C%20%5B39.6525769%2C%20-75.7293353%5D%2C%20%5B39.4028563%2C%20-75.682737%5D%2C%20%5B38.7298877%2C%20-75.5909853%5D%2C%20%5B38.8067436%2C%20-75.4385958%5D%2C%20%5B39.6915034%2C%20-75.6901068%5D%2C%20%5B39.7333686%2C%20-75.5567666%5D%2C%20%5B39.7267126%2C%20-75.5436359%5D%2C%20%5B39.1955008%2C%20-75.5417396%5D%2C%20%5B39.7485391%2C%20-75.5763431%5D%2C%20%5B39.6953071%2C%20-75.557237%5D%2C%20%5B38.4555152%2C%20-75.55838299999999%5D%2C%20%5B39.6790428%2C%20-75.6895334%5D%2C%20%5B39.456813%2C%20-75.7411652%5D%2C%20%5B39.1536648%2C%20-75.5074928%5D%2C%20%5B44.5254478%2C%20-80.4690399%5D%2C%20%5B39.6596411%2C%20-75.6051133%5D%2C%20%5B39.82541399999999%2C%20-75.5157278%5D%2C%20%5B39.6605528%2C%20-75.5915273%5D%2C%20%5B39.6229511%2C%20-75.6852619%5D%2C%20%5B39.6922412%2C%20-75.5666972%5D%2C%20%5B39.6859944%2C%20-75.54977749999999%5D%2C%20%5B39.29988%2C%20-75.60435000000001%5D%2C%20%5B39.6795104%2C%20-75.7681724%5D%2C%20%5B38.91878699999999%2C%20-75.41699799999999%5D%2C%20%5B39.15481219999999%2C%20-75.548231%5D%2C%20%5B38.7229828%2C%20-75.59048279999999%5D%2C%20%5B39.7365942%2C%20-75.5297518%5D%2C%20%5B39.4335568%2C%20-75.71261620000001%5D%2C%20%5B39.6109889%2C%20-75.748381%5D%2C%20%5B39.6888928%2C%20-75.6988034%5D%2C%20%5B38.584272%2C%20-75.29516129999999%5D%2C%20%5B39.3292498%2C%20-75.5292004%5D%2C%20%5B26.2347824%2C%20-80.1980765%5D%2C%20%5B26.1399406%2C%20-80.2020318%5D%2C%20%5B29.0035699%2C%20-81.1468197%5D%2C%20%5B26.7384866%2C%20-81.4677205%5D%2C%20%5B27.7435832%2C%20-82.7484419%5D%2C%20%5B26.4535873%2C%20-80.1840776%5D%2C%20%5B28.3254852%2C%20-80.7247766%5D%2C%20%5B28.0625809%2C%20-81.7833845%5D%2C%20%5B27.9612698%2C%20-82.7532241%5D%2C%20%5B27.9541159%2C%20-82.5011054%5D%2C%20%5B28.6374038%2C%20-81.39660110000001%5D%2C%20%5B26.910317%2C%20-82.044011%5D%2C%20%5B27.9518257%2C%20-82.47486529999999%5D%2C%20%5B28.29096%2C%20-80.608509%5D%2C%20%5B26.4015481%2C%20-80.0662883%5D%2C%20%5B26.1662296%2C%20-80.1693487%5D%2C%20%5B27.320852%2C%20-80.399659%5D%2C%20%5B30.3259141%2C%20-81.5476154%5D%2C%20%5B30.1046709%2C%20-81.9568697%5D%2C%20%5B27.706616%2C%20-80.415437%5D%2C%20%5B27.9523044%2C%20-82.4832034%5D%2C%20%5B25.8573101%2C%20-80.2719862%5D%2C%20%5B30.4391902%2C%20-84.34537259999999%5D%2C%20%5B29.687431%2C%20-82.450608%5D%2C%20%5B30.3504136%2C%20-81.73383059999999%5D%2C%20%5B26.0236857%2C%20-80.11512689999999%5D%2C%20%5B30.5741255%2C%20-87.0314135%5D%2C%20%5B30.1027825%2C%20-81.7757542%5D%2C%20%5B26.5649255%2C%20-80.06651149999999%5D%2C%20%5B29.054804%2C%20-82.382402%5D%2C%20%5B25.8503105%2C%20-80.1416405%5D%2C%20%5B26.2489499%2C%20-80.1510354%5D%2C%20%5B26.1239508%2C%20-80.1486917%5D%2C%20%5B27.4940663%2C%20-81.4393248%5D%2C%20%5B27.6479322%2C%20-80.4007638%5D%2C%20%5B27.2736059%2C%20-82.1543441%5D%2C%20%5B27.5217386%2C%20-80.396089%5D%2C%20%5B27.886423%2C%20-82.72923109999999%5D%2C%20%5B26.122648%2C%20-80.2020871%5D%2C%20%5B25.7825787%2C%20-80.19020909999999%5D%2C%20%5B27.5570034%2C%20-81.81238050000002%5D%2C%20%5B28.0042421%2C%20-82.1240559%5D%2C%20%5B27.3386369%2C%20-82.52443920000002%5D%2C%20%5B26.7715651%2C%20-80.068073%5D%2C%20%5B27.4266438%2C%20-80.3254872%5D%2C%20%5B27.8397907%2C%20-82.7286555%5D%2C%20%5B30.330182%2C%20-81.7117159%5D%2C%20%5B29.0490502%2C%20-81.3045669%5D%2C%20%5B29.000259%2C%20-82.003479%5D%2C%20%5B29.5572044%2C%20-81.21818239999999%5D%2C%20%5B27.325433%2C%20-82.4956643%5D%2C%20%5B28.8969997%2C%20-82.0399049%5D%2C%20%5B26.9149238%2C%20-80.0935259%5D%2C%20%5B28.194897%2C%20-82.737421%5D%2C%20%5B29.7749658%2C%20-82.4536538%5D%2C%20%5B25.8040508%2C%20-80.2280141%5D%2C%20%5B26.6524049%2C%20-80.1134233%5D%2C%20%5B29.7076268%2C%20-95.5020648%5D%2C%20%5B25.809842%2C%20-80.23022399999999%5D%2C%20%5B27.3186696%2C%20-82.4506068%5D%2C%20%5B26.3684037%2C%20-80.2008251%5D%2C%20%5B29.23413439999999%2C%20-81.0154636%5D%2C%20%5B26.800194%2C%20-80.0746743%5D%2C%20%5B25.7490187%2C%20-80.2621223%5D%2C%20%5B27.80156%2C%20-82.63820559999999%5D%2C%20%5B30.4788876%2C%20-84.3031233%5D%2C%20%5B25.8019169%2C%20-80.1886835%5D%2C%20%5B25.980263%2C%20-80.14614999999999%5D%2C%20%5B28.8117111%2C%20-81.31450389999999%5D%2C%20%5B26.4094811%2C%20-80.06453719999999%5D%2C%20%5B27.9719181%2C%20-82.8277524%5D%2C%20%5B26.571792%2C%20-80.05874299999999%5D%2C%20%5B25.786076%2C%20-80.131489%5D%2C%20%5B25.9089506%2C%20-80.18696589999999%5D%2C%20%5B26.1663761%2C%20-80.17194339999999%5D%2C%20%5B25.8506357%2C%20-80.1420515%5D%2C%20%5B28.386122%2C%20-81.4878373%5D%2C%20%5B30.4558855%2C%20-84.2821724%5D%2C%20%5B29.0260805%2C%20-81.267262%5D%2C%20%5B27.9487213%2C%20-82.83385469999999%5D%2C%20%5B27.9635928%2C%20-82.3636313%5D%2C%20%5B26.148032%2C%20-80.26853799999999%5D%2C%20%5B25.8752697%2C%20-80.1217688%5D%2C%20%5B27.951897%2C%20-82.48267419999999%5D%2C%20%5B29.8694109%2C%20-81.3308737%5D%2C%20%5B25.7963036%2C%20-80.36195%5D%2C%20%5B29.186764%2C%20-82.1884084%5D%2C%20%5B27.9501033%2C%20-82.4820232%5D%2C%20%5B28.0945406%2C%20-80.6722901%5D%2C%20%5B28.577476%2C%20-81.4530899%5D%2C%20%5B28.6973896%2C%20-81.36698779999999%5D%2C%20%5B30.006015%2C%20-81.375703%5D%2C%20%5B28.1845807%2C%20-82.591842%5D%2C%20%5B30.2153367%2C%20-85.65004069999999%5D%2C%20%5B28.0115356%2C%20-82.125197%5D%2C%20%5B27.4956557%2C%20-82.5436458%5D%2C%20%5B27.462869%2C%20-82.60758%5D%2C%20%5B30.1943154%2C%20-82.7511913%5D%2C%20%5B27.573388%2C%20-82.57804999999999%5D%2C%20%5B27.7698106%2C%20-82.6342945%5D%2C%20%5B25.81086%2C%20-80.19908699999999%5D%2C%20%5B25.7183433%2C%20-80.3030713%5D%2C%20%5B26.612804%2C%20-81.991199%5D%2C%20%5B27.2680658%2C%20-82.5146671%5D%2C%20%5B28.4635154%2C%20-81.4165659%5D%2C%20%5B26.9584355%2C%20-80.0957869%5D%2C%20%5B26.8077981%2C%20-80.06191799999999%5D%2C%20%5B45.5251793%2C%20-73.5971732%5D%2C%20%5B28.0082439%2C%20-82.4884892%5D%2C%20%5B27.8409454%2C%20-82.1569041%5D%2C%20%5B26.3340054%2C%20-81.82357909999999%5D%2C%20%5B29.68221%2C%20-82.353312%5D%2C%20%5B27.1831417%2C%20-80.24263049999999%5D%2C%20%5B28.3225747%2C%20-81.33706889999999%5D%2C%20%5B27.0641755%2C%20-80.1424767%5D%2C%20%5B26.6366796%2C%20-80.08679719999999%5D%2C%20%5B28.8520856%2C%20-81.6828148%5D%2C%20%5B28.8406537%2C%20-82.0205448%5D%2C%20%5B28.3533325%2C%20-81.4051029%5D%2C%20%5B28.8953918%2C%20-82.4822559%5D%2C%20%5B28.4932073%2C%20-81.4308171%5D%2C%20%5B27.5448886%2C%20-81.74389959999999%5D%2C%20%5B28.6554505%2C%20-81.4254732%5D%2C%20%5B26.617177%2C%20-80.1550403%5D%2C%20%5B26.3915189%2C%20-80.0832858%5D%2C%20%5B26.1307081%2C%20-81.7728647%5D%2C%20%5B28.3560599%2C%20-80.7060647%5D%2C%20%5B27.7152667%2C%20-82.4108617%5D%2C%20%5B26.16363%2C%20-80.2055728%5D%2C%20%5B28.0840028%2C%20-80.67190000000001%5D%2C%20%5B30.463325%2C%20-84.27206439999999%5D%2C%20%5B26.1115298%2C%20-80.1395873%5D%2C%20%5B25.7637273%2C%20-80.27503449999999%5D%2C%20%5B30.1460304%2C%20-82.63960829999999%5D%2C%20%5B27.3215069%2C%20-82.52748%5D%2C%20%5B27.2841377%2C%20-82.5629842%5D%2C%20%5B30.1998653%2C%20-85.82132469999999%5D%2C%20%5B30.4666377%2C%20-87.2036492%5D%2C%20%5B27.9570286%2C%20-81.6219009%5D%2C%20%5B28.7533352%2C%20-82.0603144%5D%2C%20%5B27.8217715%2C%20-82.7865128%5D%2C%20%5B28.86124599999999%2C%20-82.03358999999999%5D%2C%20%5B27.8922041%2C%20-82.74645079999999%5D%2C%20%5B25.7570464%2C%20-80.25917679999999%5D%2C%20%5B29.1248097%2C%20-81.01110510000001%5D%2C%20%5B26.6782654%2C%20-80.0585129%5D%2C%20%5B27.939977%2C%20-82.4349608%5D%2C%20%5B30.26076949999999%2C%20-81.6232235%5D%2C%20%5B25.760372%2C%20-80.190197%5D%2C%20%5B26.280382%2C%20-80.2032976%5D%2C%20%5B25.757923%2C%20-80.205158%5D%2C%20%5B27.4716324%2C%20-82.4556223%5D%2C%20%5B27.4398059%2C%20-82.57373659999999%5D%2C%20%5B27.9837361%2C%20-82.4549869%5D%2C%20%5B28.4505016%2C%20-81.35631219999999%5D%2C%20%5B26.3606652%2C%20-81.7894031%5D%2C%20%5B29.061088%2C%20-82.4537173%5D%2C%20%5B28.451245%2C%20-81.39295109999999%5D%2C%20%5B30.516831%2C%20-87.20296499999999%5D%2C%20%5B30.235936%2C%20-81.742503%5D%2C%20%5B26.163851%2C%20-80.116303%5D%2C%20%5B27.4472708%2C%20-80.3223514%5D%2C%20%5B27.953572%2C%20-82.530456%5D%2C%20%5B28.043666%2C%20-82.68000409999999%5D%2C%20%5B25.911706%2C%20-80.256624%5D%2C%20%5B28.147323%2C%20-81.4434766%5D%2C%20%5B28.868053%2C%20-80.8489584%5D%2C%20%5B30.40167989999999%2C%20-84.2363179%5D%2C%20%5B28.5500605%2C%20-81.4676389%5D%2C%20%5B29.1718551%2C%20-81.0380689%5D%2C%20%5B26.002113%2C%20-81.680937%5D%2C%20%5B26.4432941%2C%20-80.1190489%5D%2C%20%5B28.2994708%2C%20-82.7053036%5D%2C%20%5B28.0170174%2C%20-81.91622249999999%5D%2C%20%5B27.9027615%2C%20-82.7276017%5D%2C%20%5B26.1103546%2C%20-81.6886798%5D%2C%20%5B27.4413873%2C%20-80.8110112%5D%2C%20%5B27.8870516%2C%20-82.69500099999999%5D%2C%20%5B28.3299871%2C%20-80.71979590000001%5D%2C%20%5B27.9816842%2C%20-82.4123018%5D%2C%20%5B26.878335%2C%20-82.00640299999999%5D%2C%20%5B28.0397442%2C%20-82.47131999999999%5D%2C%20%5B26.1926229%2C%20-80.1138793%5D%2C%20%5B26.0433388%2C%20-80.31691479999999%5D%2C%20%5B28.477061%2C%20-81.402405%5D%2C%20%5B29.0780413%2C%20-81.3048685%5D%2C%20%5B28.7561353%2C%20-81.3255583%5D%2C%20%5B27.4921988%2C%20-82.5831656%5D%2C%20%5B25.8019169%2C%20-80.1886835%5D%2C%20%5B25.8547994%2C%20-80.21754589999999%5D%2C%20%5B28.0257699%2C%20-82.4951217%5D%2C%20%5B26.126399%2C%20-80.1506065%5D%2C%20%5B26.6221591%2C%20-80.0595015%5D%2C%20%5B29.937465%2C%20-82.11368100000001%5D%2C%20%5B30.5537369%2C%20-81.90242669999999%5D%2C%20%5B26.166047%2C%20-80.134877%5D%2C%20%5B29.4998457%2C%20-81.4849255%5D%2C%20%5B27.9233667%2C%20-82.4070338%5D%2C%20%5B25.7789407%2C%20-80.2133103%5D%2C%20%5B25.7929246%2C%20-80.3113001%5D%2C%20%5B26.2457961%2C%20-81.7748705%5D%2C%20%5B26.1440212%2C%20-80.1460639%5D%2C%20%5B26.060861%2C%20-80.402794%5D%2C%20%5B30.1667595%2C%20-85.6654811%5D%2C%20%5B28.0850639%2C%20-80.6492962%5D%2C%20%5B28.6199821%2C%20-80.8142696%5D%2C%20%5B25.960583%2C%20-80.206383%5D%2C%20%5B28.5069247%2C%20-81.39797519999999%5D%2C%20%5B26.6843747%2C%20-80.305044%5D%2C%20%5B27.304316%2C%20-80.3042888%5D%2C%20%5B29.1856493%2C%20-82.18226800000001%5D%2C%20%5B27.338665%2C%20-82.52539039999999%5D%2C%20%5B28.487411%2C%20-81.3957423%5D%2C%20%5B25.7951697%2C%20-80.3188734%5D%2C%20%5B26.0115233%2C%20-80.1547094%5D%2C%20%5B28.551113%2C%20-81.3523476%5D%2C%20%5B30.5848709%2C%20-87.0626212%5D%2C%20%5B26.372228%2C%20-81.77912099999999%5D%2C%20%5B27.8018775%2C%20-82.2386569%5D%2C%20%5B28.3676122%2C%20-81.68153149999999%5D%2C%20%5B30.6708681%2C%20-81.43169689999999%5D%2C%20%5B28.8166033%2C%20-82.1451951%5D%2C%20%5B27.4591819%2C%20-82.57676099999999%5D%2C%20%5B27.1710307%2C%20-80.25197870000001%5D%2C%20%5B26.3226307%2C%20-81.7744931%5D%2C%20%5B26.5588295%2C%20-80.071063%5D%2C%20%5B26.3347725%2C%20-81.8250193%5D%2C%20%5B30.3483047%2C%20-86.2261123%5D%2C%20%5B28.2511531%2C%20-81.6009222%5D%2C%20%5B26.7828886%2C%20-81.76267589999999%5D%2C%20%5B28.5033005%2C%20-81.4580672%5D%2C%20%5B28.2911432%2C%20-82.7117167%5D%2C%20%5B26.1301514%2C%20-80.10715359999999%5D%2C%20%5B29.2218073%2C%20-82.0562501%5D%2C%20%5B25.7713014%2C%20-80.2287984%5D%2C%20%5B28.8062458%2C%20-81.2747675%5D%2C%20%5B25.739285%2C%20-80.24347%5D%2C%20%5B24.7550834%2C%20-80.96001489999999%5D%2C%20%5B27.2987145%2C%20-82.4402099%5D%2C%20%5B28.6531992%2C%20-81.3652736%5D%2C%20%5B30.4237206%2C%20-87.2016695%5D%2C%20%5B26.2316935%2C%20-80.0912486%5D%2C%20%5B28.923465%2C%20-82.03512599999999%5D%2C%20%5B28.7463725%2C%20-81.8782133%5D%2C%20%5B28.8170243%2C%20-81.7136611%5D%2C%20%5B25.9266947%2C%20-80.2621162%5D%2C%20%5B30.3389583%2C%20-81.543331%5D%2C%20%5B27.4430842%2C%20-80.3317769%5D%2C%20%5B29.1454802%2C%20-81.0153557%5D%2C%20%5B30.2544403%2C%20-81.62714559999999%5D%2C%20%5B27.9648877%2C%20-81.6260635%5D%2C%20%5B26.2535817%2C%20-80.1954691%5D%2C%20%5B28.5398398%2C%20-81.2449565%5D%2C%20%5B26.2638716%2C%20-80.0986887%5D%2C%20%5B26.6055429%2C%20-81.97483079999999%5D%2C%20%5B27.9677656%2C%20-82.3769536%5D%2C%20%5B30.4097427%2C%20-86.66371819999999%5D%2C%20%5B28.7866233%2C%20-81.62191779999999%5D%2C%20%5B29.64961479999999%2C%20-81.64450029999999%5D%2C%20%5B25.8685084%2C%20-80.1238628%5D%2C%20%5B38.96695589999999%2C%20-94.7242582%5D%2C%20%5B30.1655935%2C%20-81.739954%5D%2C%20%5B27.4468403%2C%20-80.3802618%5D%2C%20%5B30.3239355%2C%20-81.3986319%5D%2C%20%5B26.5882627%2C%20-80.0681821%5D%2C%20%5B27.3933309%2C%20-80.36575289999999%5D%2C%20%5B27.749532%2C%20-80.46055199999999%5D%2C%20%5B25.8014629%2C%20-80.192511%5D%2C%20%5B30.5332278%2C%20-87.2379445%5D%2C%20%5B26.3133508%2C%20-80.08513889999999%5D%2C%20%5B27.6872194%2C%20-82.7293298%5D%2C%20%5B26.1308878%2C%20-80.1439777%5D%2C%20%5B29.4013031%2C%20-81.1936594%5D%2C%20%5B28.2118099%2C%20-82.66051%5D%2C%20%5B25.7888014%2C%20-80.1333284%5D%2C%20%5B28.3259285%2C%20-81.4077004%5D%2C%20%5B29.67654499999999%2C%20-81.551586%5D%2C%20%5B28.5598431%2C%20-82.3997881%5D%2C%20%5B28.1777627%2C%20-80.6719811%5D%2C%20%5B26.9148354%2C%20-80.0926887%5D%2C%20%5B29.237136%2C%20-81.0470931%5D%2C%20%5B27.2490942%2C%20-82.53526169999999%5D%2C%20%5B30.3856236%2C%20-84.2753242%5D%2C%20%5B30.3124541%2C%20-87.432312%5D%2C%20%5B29.2231719%2C%20-81.0099706%5D%2C%20%5B25.7952489%2C%20-80.196051%5D%2C%20%5B30.4484475%2C%20-84.2833651%5D%2C%20%5B28.1407313%2C%20-80.6743919%5D%2C%20%5B27.893323%2C%20-82.7353371%5D%2C%20%5B30.331978%2C%20-81.66602379999999%5D%2C%20%5B26.1332016%2C%20-80.1788098%5D%2C%20%5B30.201511%2C%20-82.0142528%5D%2C%20%5B28.6714789%2C%20-80.8476457%5D%2C%20%5B26.1378659%2C%20-81.7730101%5D%2C%20%5B27.7278947%2C%20-82.43520409999999%5D%2C%20%5B28.5266392%2C%20-81.3469456%5D%2C%20%5B25.6642546%2C%20-80.4073306%5D%2C%20%5B26.72009%2C%20-80.14025699999999%5D%2C%20%5B26.662364%2C%20-80.268952%5D%2C%20%5B29.5963842%2C%20-82.0806656%5D%2C%20%5B25.754233%2C%20-80.1971063%5D%2C%20%5B28.577242%2C%20-81.56183399999999%5D%2C%20%5B28.6922406%2C%20-81.38545719999999%5D%2C%20%5B28.546971%2C%20-81.414422%5D%2C%20%5B29.80040559999999%2C%20-81.3204243%5D%2C%20%5B25.795967%2C%20-80.21748199999999%5D%2C%20%5B25.8652347%2C%20-80.2179355%5D%2C%20%5B27.0074552%2C%20-82.13641489999999%5D%2C%20%5B28.268459%2C%20-82.3350853%5D%2C%20%5B26.256092%2C%20-80.11953299999999%5D%2C%20%5B29.70688819999999%2C%20-82.3458248%5D%2C%20%5B25.5364765%2C%20-80.38428929999999%5D%2C%20%5B28.7571021%2C%20-81.76121839999999%5D%2C%20%5B27.573388%2C%20-82.57804999999999%5D%2C%20%5B27.9053653%2C%20-82.5067655%5D%2C%20%5B28.7533718%2C%20-82.0602866%5D%2C%20%5B28.7564826%2C%20-82.06065889999999%5D%2C%20%5B26.1412222%2C%20-80.1408957%5D%2C%20%5B29.2305479%2C%20-82.1251082%5D%2C%20%5B28.5533688%2C%20-81.31033459999999%5D%2C%20%5B25.8928668%2C%20-80.2688508%5D%2C%20%5B28.6104119%2C%20-81.3874972%5D%2C%20%5B27.2625887%2C%20-80.3883402%5D%2C%20%5B24.7307822%2C%20-81.02592729999999%5D%2C%20%5B27.8565238%2C%20-82.8311686%5D%2C%20%5B25.825507%2C%20-80.20732199999999%5D%2C%20%5B29.675468%2C%20-82.391471%5D%2C%20%5B27.7642428%2C%20-82.6799233%5D%2C%20%5B29.2648301%2C%20-81.1059883%5D%2C%20%5B27.1403196%2C%20-81.8972337%5D%2C%20%5B27.75641%2C%20-82.63279179999999%5D%2C%20%5B27.9150634%2C%20-82.7630393%5D%2C%20%5B27.925573%2C%20-82.5148207%5D%2C%20%5B28.0475473%2C%20-82.4598322%5D%2C%20%5B27.3153215%2C%20-82.4469247%5D%2C%20%5B28.7558002%2C%20-81.878496%5D%2C%20%5B30.17949%2C%20-82.6796913%5D%2C%20%5B27.3373155%2C%20-82.52898259999999%5D%2C%20%5B30.3590193%2C%20-81.69611739999999%5D%2C%20%5B26.1602892%2C%20-81.75199239999999%5D%2C%20%5B28.6051315%2C%20-81.4026126%5D%2C%20%5B27.084497%2C%20-82.4402796%5D%2C%20%5B26.919192%2C%20-82.048464%5D%2C%20%5B25.7923925%2C%20-80.349943%5D%2C%20%5B27.5454774%2C%20-82.5053288%5D%2C%20%5B28.8019685%2C%20-81.72547650000001%5D%2C%20%5B29.5063987%2C%20-82.28003389999999%5D%2C%20%5B27.9995533%2C%20-82.0121874%5D%2C%20%5B26.6564933%2C%20-80.20333049999999%5D%2C%20%5B30.5667443%2C%20-87.0366799%5D%2C%20%5B26.6338326%2C%20-81.8291386%5D%2C%20%5B28.154592%2C%20-82.5811081%5D%2C%20%5B27.0963302%2C%20-82.4466496%5D%2C%20%5B28.4331465%2C%20-82.5342926%5D%2C%20%5B28.5223621%2C%20-81.46750589999999%5D%2C%20%5B27.8942031%2C%20-82.5054652%5D%2C%20%5B28.7533425%2C%20-82.0603824%5D%2C%20%5B28.4995759%2C%20-82.17237519999999%5D%2C%20%5B26.7989141%2C%20-80.0689897%5D%2C%20%5B30.3968386%2C%20-84.28141149999999%5D%2C%20%5B27.0832577%2C%20-80.146394%5D%2C%20%5B28.1263051%2C%20-80.6280174%5D%2C%20%5B25.69268%2C%20-80.1652359%5D%2C%20%5B29.7074295%2C%20-82.3466301%5D%2C%20%5B30.3412746%2C%20-81.73661489999999%5D%2C%20%5B26.707336%2C%20-80.05247899999999%5D%2C%20%5B27.9580342%2C%20-82.48481509999999%5D%2C%20%5B27.049376%2C%20-81.975554%5D%2C%20%5B27.353365%2C%20-82.403835%5D%2C%20%5B25.7875425%2C%20-80.1342257%5D%2C%20%5B25.9052765%2C%20-80.2112382%5D%2C%20%5B30.16188099999999%2C%20-85.5904312%5D%2C%20%5B29.6516344%2C%20-82.32482619999999%5D%2C%20%5B27.0284382%2C%20-82.19957509999999%5D%2C%20%5B25.9277774%2C%20-80.227818%5D%2C%20%5B26.1394085%2C%20-81.7822199%5D%2C%20%5B29.2137678%2C%20-82.0597283%5D%2C%20%5B30.1401135%2C%20-85.5927858%5D%2C%20%5B26.0675876%2C%20-80.1797907%5D%2C%20%5B27.9467637%2C%20-82.4807221%5D%2C%20%5B25.8430021%2C%20-80.2292514%5D%2C%20%5B25.8240161%2C%20-80.2028919%5D%2C%20%5B28.4876531%2C%20-82.5723131%5D%2C%20%5B25.8904373%2C%20-80.1762159%5D%2C%20%5B28.2154911%2C%20-82.2046731%5D%2C%20%5B29.1311986%2C%20-81.00292449999999%5D%2C%20%5B25.8300944%2C%20-80.1971801%5D%2C%20%5B26.8423583%2C%20-80.0715214%5D%2C%20%5B29.3235536%2C%20-81.11184999999999%5D%2C%20%5B27.4943275%2C%20-82.5744337%5D%2C%20%5B28.443517%2C%20-82.634293%5D%2C%20%5B28.8694202%2C%20-81.3285099%5D%2C%20%5B30.5273356%2C%20-87.21017289999999%5D%2C%20%5B26.6581709%2C%20-81.7967285%5D%2C%20%5B24.7232879%2C%20-81.0631756%5D%2C%20%5B28.02753%2C%20-81.9016539%5D%2C%20%5B25.8545986%2C%20-80.289998%5D%2C%20%5B29.6704568%2C%20-82.32299669999999%5D%2C%20%5B27.9868846%2C%20-81.9547056%5D%2C%20%5B28.075467%2C%20-82.2947745%5D%2C%20%5B27.8162465%2C%20-82.6815261%5D%2C%20%5B28.5777319%2C%20-81.2987627%5D%2C%20%5B29.687844%2C%20-81.530608%5D%2C%20%5B26.168246%2C%20-80.1459548%5D%2C%20%5B30.498009%2C%20-87.231972%5D%2C%20%5B27.3386369%2C%20-82.52443920000002%5D%2C%20%5B30.3427128%2C%20-81.7598594%5D%2C%20%5B26.9957537%2C%20-82.1185325%5D%2C%20%5B26.6990087%2C%20-81.852723%5D%2C%20%5B30.3650602%2C%20-86.2608558%5D%2C%20%5B28.8785244%2C%20-81.311123%5D%2C%20%5B27.148662%2C%20-80.2103628%5D%2C%20%5B28.8095382%2C%20-81.264749%5D%2C%20%5B28.2910784%2C%20-81.36069429999999%5D%2C%20%5B25.9033796%2C%20-80.32940459999999%5D%2C%20%5B25.7336441%2C%20-80.2617956%5D%2C%20%5B27.1471481%2C%20-82.4059857%5D%2C%20%5B26.2323912%2C%20-80.09604879999999%5D%2C%20%5B25.7427611%2C%20-80.24637609999999%5D%2C%20%5B27.3795876%2C%20-81.97851829999999%5D%2C%20%5B26.2340211%2C%20-80.12469949999999%5D%2C%20%5B25.7653633%2C%20-80.25783229999999%5D%2C%20%5B27.477932%2C%20-82.573098%5D%2C%20%5B28.2076141%2C%20-82.46144249999999%5D%2C%20%5B26.1416292%2C%20-80.1361853%5D%2C%20%5B25.5715457%2C%20-80.3739988%5D%2C%20%5B26.8061698%2C%20-80.08147280000001%5D%2C%20%5B27.3410078%2C%20-82.4060069%5D%2C%20%5B29.838887%2C%20-81.321314%5D%2C%20%5B30.3357872%2C%20-81.5992507%5D%2C%20%5B26.7675217%2C%20-80.063053%5D%2C%20%5B26.210698%2C%20-81.7967285%5D%2C%20%5B26.1459647%2C%20-81.80497129999999%5D%2C%20%5B28.478727%2C%20-81.37015300000002%5D%2C%20%5B30.1878651%2C%20-85.6326874%5D%2C%20%5B29.0246876%2C%20-80.9264333%5D%2C%20%5B28.7533352%2C%20-82.0603144%5D%2C%20%5B28.7571975%2C%20-81.33585889999999%5D%2C%20%5B27.465982%2C%20-82.32435199999999%5D%2C%20%5B28.302763%2C%20-80.60894929999999%5D%2C%20%5B25.6092969%2C%20-80.3413935%5D%2C%20%5B25.8412126%2C%20-80.1763508%5D%2C%20%5B25.8436529%2C%20-80.1930423%5D%2C%20%5B27.045044%2C%20-81.983999%5D%2C%20%5B28.3345734%2C%20-81.33020379999999%5D%2C%20%5B26.0977205%2C%20-80.3814091%5D%2C%20%5B30.19591149999999%2C%20-81.7083068%5D%2C%20%5B30.4619117%2C%20-87.2690805%5D%2C%20%5B26.180349%2C%20-80.13926599999999%5D%2C%20%5B30.467131%2C%20-87.203397%5D%2C%20%5B28.2351504%2C%20-80.72523140000001%5D%2C%20%5B26.0203037%2C%20-80.20317580000001%5D%2C%20%5B27.490413%2C%20-82.545903%5D%2C%20%5B29.3025099%2C%20-81.1310341%5D%2C%20%5B29.7119419%2C%20-82.3567903%5D%2C%20%5B26.7759284%2C%20-80.08671%5D%2C%20%5B26.7097434%2C%20-80.09665969999999%5D%2C%20%5B29.6357778%2C%20-82.33898599999999%5D%2C%20%5B28.5703922%2C%20-81.2361787%5D%2C%20%5B28.6620593%2C%20-81.5192843%5D%2C%20%5B25.7979568%2C%20-80.22821019999999%5D%2C%20%5B30.2805749%2C%20-81.51661089999999%5D%2C%20%5B25.7886577%2C%20-80.1335683%5D%2C%20%5B27.7315336%2C%20-82.6403891%5D%2C%20%5B27.5238017%2C%20-81.497616%5D%2C%20%5B27.1263259%2C%20-82.4543733%5D%2C%20%5B26.0106759%2C%20-80.16575499999999%5D%2C%20%5B27.9417591%2C%20-82.48583029999999%5D%2C%20%5B33.690438%2C%20-84.796426%5D%2C%20%5B34.1070742%2C%20-83.98113%5D%2C%20%5B34.7779712%2C%20-85.25661079999999%5D%2C%20%5B33.9043767%2C%20-84.4770126%5D%2C%20%5B33.9565135%2C%20-84.1283828%5D%2C%20%5B34.6187169%2C%20-83.998915%5D%2C%20%5B33.8498859%2C%20-84.2016927%5D%2C%20%5B34.2428532%2C%20-84.4900105%5D%2C%20%5B33.7246742%2C%20-84.59442779999999%5D%2C%20%5B33.4605133%2C%20-84.2002737%5D%2C%20%5B30.9638429%2C%20-81.7226063%5D%2C%20%5B34.4910179%2C%20-84.46280700000001%5D%2C%20%5B32.732274%2C%20-81.6508533%5D%2C%20%5B33.411873%2C%20-83.280767%5D%2C%20%5B32.5011849%2C%20-84.95736939999999%5D%2C%20%5B34.0972051%2C%20-84.00976059999999%5D%2C%20%5B32.687646%2C%20-83.3465561%5D%2C%20%5B34.1771429%2C%20-83.9099864%5D%2C%20%5B32.2948256%2C%20-81.2352482%5D%2C%20%5B34.332741%2C%20-84.492859%5D%2C%20%5B33.7958016%2C%20-84.411973%5D%2C%20%5B32.10023100000001%2C%20-81.220856%5D%2C%20%5B34.1320832%2C%20-84.0980623%5D%2C%20%5B33.93702690000001%2C%20-84.2518747%5D%2C%20%5B34.2536135%2C%20-84.0835863%5D%2C%20%5B31.6133916%2C%20-84.1740935%5D%2C%20%5B34.244167%2C%20-83.485389%5D%2C%20%5B33.9106635%2C%20-83.4384879%5D%2C%20%5B31.15005%2C%20-81.49307019999999%5D%2C%20%5B33.9134793%2C%20-83.4742306%5D%2C%20%5B34.0655212%2C%20-84.15752789999999%5D%2C%20%5B31.9588272%2C%20-81.32759659999999%5D%2C%20%5B32.0717922%2C%20-81.1502989%5D%2C%20%5B33.8994384%2C%20-83.57337729999999%5D%2C%20%5B34.0943962%2C%20-84.0408436%5D%2C%20%5B34.1192881%2C%20-84.171745%5D%2C%20%5B33.8106439%2C%20-84.3794623%5D%2C%20%5B31.1716734%2C%20-81.4744546%5D%2C%20%5B32.4552268%2C%20-81.7838123%5D%2C%20%5B34.295247%2C%20-84.419751%5D%2C%20%5B33.7653511%2C%20-84.5277073%5D%2C%20%5B33.920802%2C%20-84.8649006%5D%2C%20%5B38.7506453%2C%20-90.2493714%5D%2C%20%5B33.622682%2C%20-83.7237255%5D%2C%20%5B34.4198656%2C%20-83.1021141%5D%2C%20%5B34.112917%2C%20-84.2342187%5D%2C%20%5B34.16419680000001%2C%20-83.67685569999999%5D%2C%20%5B34.44787%2C%20-84.45140099999999%5D%2C%20%5B32.6730498%2C%20-83.74477209999999%5D%2C%20%5B34.3270005%2C%20-83.79912639999999%5D%2C%20%5B30.6845591%2C%20-84.2537681%5D%2C%20%5B34.0448307%2C%20-83.40535729999999%5D%2C%20%5B33.4725516%2C%20-84.444543%5D%2C%20%5B32.57985130000001%2C%20-83.7073595%5D%2C%20%5B34.4607986%2C%20-84.90899429999999%5D%2C%20%5B33.72907110000001%2C%20-84.5656561%5D%2C%20%5B34.4698343%2C%20-84.45824499999999%5D%2C%20%5B34.255912%2C%20-84.08470899999999%5D%2C%20%5B33.7641579%2C%20-84.534178%5D%2C%20%5B33.8453632%2C%20-84.48821199999999%5D%2C%20%5B31.2413059%2C%20-81.5067483%5D%2C%20%5B32.5864648%2C%20-83.73881109999999%5D%2C%20%5B33.7733499%2C%20-84.4211152%5D%2C%20%5B32.578271%2C%20-83.71997019999999%5D%2C%20%5B33.7943545%2C%20-83.734036%5D%2C%20%5B34.214885%2C%20-84.64767669999999%5D%2C%20%5B32.5544537%2C%20-83.6520872%5D%2C%20%5B33.443948%2C%20-84.1878354%5D%2C%20%5B34.3649666%2C%20-84.0397627%5D%2C%20%5B33.6928558%2C%20-84.4395448%5D%2C%20%5B33.7157295%2C%20-84.6293626%5D%2C%20%5B34.2603703%2C%20-84.486406%5D%2C%20%5B34.160829%2C%20-83.99868049999999%5D%2C%20%5B33.9089151%2C%20-84.4841993%5D%2C%20%5B33.915079%2C%20-84.37711%5D%2C%20%5B33.3991873%2C%20-84.174897%5D%2C%20%5B34.1777206%2C%20-83.6146998%5D%2C%20%5B33.69661%2C%20-84.02632799999999%5D%2C%20%5B34.1534489%2C%20-84.17686069999999%5D%2C%20%5B33.368675%2C%20-84.487661%5D%2C%20%5B34.467757%2C%20-84.91745100000001%5D%2C%20%5B33.6104135%2C%20-84.6110388%5D%2C%20%5B34.148675%2C%20-84.2521071%5D%2C%20%5B31.1492448%2C%20-81.4929844%5D%2C%20%5B31.2369511%2C%20-81.5033069%5D%2C%20%5B32.5503989%2C%20-83.6053503%5D%2C%20%5B34.0428221%2C%20-84.34274309999999%5D%2C%20%5B34.173635%2C%20-84.7877267%5D%2C%20%5B33.8385865%2C%20-84.0690595%5D%2C%20%5B32.5936916%2C%20-83.6563658%5D%2C%20%5B34.1808817%2C%20-84.1317638%5D%2C%20%5B33.9695393%2C%20-83.3133692%5D%2C%20%5B33.8230285%2C%20-83.6629409%5D%2C%20%5B33.825285%2C%20-84.117042%5D%2C%20%5B32.9862736%2C%20-85.0308163%5D%2C%20%5B33.6012778%2C%20-83.84427120000001%5D%2C%20%5B33.6116682%2C%20-83.85059509999999%5D%2C%20%5B33.6956185%2C%20-84.0904771%5D%2C%20%5B34.4685293%2C%20-83.9677644%5D%2C%20%5B33.7991894%2C%20-84.21118469999999%5D%2C%20%5B32.6145958%2C%20-83.7157769%5D%2C%20%5B33.9307217%2C%20-84.2544533%5D%2C%20%5B34.7711948%2C%20-84.9227046%5D%2C%20%5B33.8784751%2C%20-84.01165139999999%5D%2C%20%5B32.6182684%2C%20-83.6568212%5D%2C%20%5B33.5505019%2C%20-84.5962888%5D%2C%20%5B32.4105634%2C%20-81.78122049999999%5D%2C%20%5B34.4596282%2C%20-83.97403159999999%5D%2C%20%5B30.8404051%2C%20-83.3339063%5D%2C%20%5B34.0063574%2C%20-84.5845485%5D%2C%20%5B33.825285%2C%20-84.117042%5D%2C%20%5B33.3449125%2C%20-84.78679389999999%5D%2C%20%5B34.2086629%2C%20-84.1430956%5D%2C%20%5B33.532402%2C%20-82.114637%5D%2C%20%5B33.9027706%2C%20-84.0012904%5D%2C%20%5B33.9197739%2C%20-84.007199%5D%2C%20%5B31.233033%2C%20-81.4958149%5D%2C%20%5B31.233033%2C%20-81.4958149%5D%2C%20%5B34.4126364%2C%20-84.108385%5D%2C%20%5B33.8565759%2C%20-83.8997641%5D%2C%20%5B32.409524%2C%20-84.94674300000001%5D%2C%20%5B33.6786264%2C%20-84.00220689999999%5D%2C%20%5B34.260584%2C%20-84.4934419%5D%2C%20%5B33.7279164%2C%20-84.7571597%5D%2C%20%5B33.5615947%2C%20-84.3290105%5D%2C%20%5B34.0177497%2C%20-84.5516209%5D%2C%20%5B33.8653248%2C%20-84.68334689999999%5D%2C%20%5B33.9521622%2C%20-84.5780917%5D%2C%20%5B33.4533583%2C%20-84.16605849999999%5D%2C%20%5B33.5866789%2C%20-84.3391686%5D%2C%20%5B34.3002693%2C%20-83.8250609%5D%2C%20%5B34.6891099%2C%20-85.0078339%5D%2C%20%5B31.1259854%2C%20-81.4805036%5D%2C%20%5B34.228318%2C%20-83.905368%5D%2C%20%5B33.578549%2C%20-84.61513599999999%5D%2C%20%5B34.0431179%2C%20-83.9931835%5D%2C%20%5B33.9202101%2C%20-84.180356%5D%2C%20%5B30.8225111%2C%20-83.3130748%5D%2C%20%5B33.9451188%2C%20-83.351841%5D%2C%20%5B34.1831721%2C%20-83.90055509999999%5D%2C%20%5B32.6178579%2C%20-83.6724495%5D%2C%20%5B31.1259854%2C%20-81.4805036%5D%2C%20%5B34.1538125%2C%20-83.8121633%5D%2C%20%5B33.04192099999999%2C%20-84.9840522%5D%2C%20%5B33.8998166%2C%20-84.79359099999999%5D%2C%20%5B33.7653516%2C%20-84.2507219%5D%2C%20%5B32.5662813%2C%20-84.95960960000001%5D%2C%20%5B30.8136903%2C%20-81.62775309999999%5D%2C%20%5B32.9355726%2C%20-85.12711499999999%5D%2C%20%5B34.4201437%2C%20-83.1015261%5D%2C%20%5B31.253681%2C%20-82.4192396%5D%2C%20%5B34.0223176%2C%20-84.7722313%5D%2C%20%5B34.07487649999999%2C%20-83.55927489999999%5D%2C%20%5B32.428748%2C%20-84.95607799999999%5D%2C%20%5B34.5290323%2C%20-83.9817825%5D%2C%20%5B33.7360326%2C%20-84.4130783%5D%2C%20%5B32.0562612%2C%20-81.1675529%5D%2C%20%5B33.8898972%2C%20-84.28914309999999%5D%2C%20%5B34.5442705%2C%20-83.28507669999999%5D%2C%20%5B31.9885877%2C%20-81.13227650000002%5D%2C%20%5B33.9345152%2C%20-83.5412588%5D%2C%20%5B34.014414%2C%20-84.187514%5D%2C%20%5B33.949028%2C%20-83.360252%5D%2C%20%5B33.9049657%2C%20-84.5414258%5D%2C%20%5B30.8691046%2C%20-83.2872651%5D%2C%20%5B33.7796573%2C%20-84.4174018%5D%2C%20%5B32.5894314%2C%20-84.90991199999999%5D%2C%20%5B34.203745%2C%20-83.888272%5D%2C%20%5B33.9983272%2C%20-84.0962531%5D%2C%20%5B33.7249016%2C%20-84.3749866%5D%2C%20%5B34.1733197%2C%20-84.12392940000001%5D%2C%20%5B33.9614461%2C%20-84.05655209999999%5D%2C%20%5B33.4297993%2C%20-84.45712879999999%5D%2C%20%5B33.994249%2C%20-83.34174%5D%2C%20%5B33.7816415%2C%20-84.6433346%5D%2C%20%5B32.4143856%2C%20-84.94452249999999%5D%2C%20%5B34.1695622%2C%20-83.5566281%5D%2C%20%5B34.2880154%2C%20-83.8449816%5D%2C%20%5B32.2713473%2C%20-81.2212419%5D%2C%20%5B33.4515159%2C%20-81.9388189%5D%2C%20%5B33.72280569999999%2C%20-84.3796266%5D%2C%20%5B32.935434%2C%20-83.71479699999999%5D%2C%20%5B33.8439108%2C%20-84.4985391%5D%2C%20%5B34.0853252%2C%20-84.5515667%5D%2C%20%5B33.5377%2C%20-82.12839269999999%5D%2C%20%5B34.0907354%2C%20-84.28922539999999%5D%2C%20%5B33.7059469%2C%20-85.16149879999999%5D%2C%20%5B33.6843148%2C%20-84.2071904%5D%2C%20%5B34.0075918%2C%20-83.98820669999999%5D%2C%20%5B32.712031%2C%20-83.725%5D%2C%20%5B32.5452239%2C%20-84.94508019999999%5D%2C%20%5B33.8994002%2C%20-84.2776687%5D%2C%20%5B33.1043111%2C%20-83.2569568%5D%2C%20%5B33.7828052%2C%20-84.271581%5D%2C%20%5B33.472282%2C%20-82.124953%5D%2C%20%5B33.9263404%2C%20-84.252265%5D%2C%20%5B33.9001092%2C%20-84.276502%5D%2C%20%5B34.0774218%2C%20-84.04565529999999%5D%2C%20%5B32.6111068%2C%20-83.7437504%5D%2C%20%5B32.5932033%2C%20-83.6650648%5D%2C%20%5B33.7223671%2C%20-84.4630849%5D%2C%20%5B34.1014097%2C%20-84.2353483%5D%2C%20%5B30.8621%2C%20-83.2898%5D%2C%20%5B34.4696165%2C%20-84.458204%5D%2C%20%5B33.7591241%2C%20-84.5623744%5D%2C%20%5B34.9132293%2C%20-85.1256102%5D%2C%20%5B33.6221814%2C%20-84.5150872%5D%2C%20%5B32.2231081%2C%20-81.2002701%5D%2C%20%5B31.225367%2C%20-81.48463799999999%5D%2C%20%5B33.5407426%2C%20-82.13111359999999%5D%2C%20%5B34.3674078%2C%20-84.04080890000002%5D%2C%20%5B33.6182861%2C%20-84.671324%5D%2C%20%5B33.5680765%2C%20-83.4932039%5D%2C%20%5B33.7678552%2C%20-84.38521920000001%5D%2C%20%5B32.5813132%2C%20-83.6943756%5D%2C%20%5B33.2824803%2C%20-81.9554653%5D%2C%20%5B32.5608036%2C%20-84.9346247%5D%2C%20%5B34.0814531%2C%20-84.7436755%5D%2C%20%5B34.30875899999999%2C%20-83.79505999999999%5D%2C%20%5B31.1761412%2C%20-81.4716725%5D%2C%20%5B32.5839159%2C%20-83.6612366%5D%2C%20%5B33.9111551%2C%20-83.4651238%5D%2C%20%5B34.261911%2C%20-83.817644%5D%2C%20%5B30.8373595%2C%20-84.0059145%5D%2C%20%5B33.7570032%2C%20-84.390958%5D%2C%20%5B34.2610903%2C%20-83.97098129999999%5D%2C%20%5B34.3206006%2C%20-83.80155669999999%5D%2C%20%5B33.6145765%2C%20-83.92111729999999%5D%2C%20%5B33.99101479999999%2C%20-83.3150728%5D%2C%20%5B34.0460344%2C%20-84.52803490000001%5D%2C%20%5B32.5418059%2C%20-84.87584799999999%5D%2C%20%5B33.93722100000001%2C%20-83.7467073%5D%2C%20%5B34.2340315%2C%20-83.873772%5D%2C%20%5B33.7949255%2C%20-84.2635482%5D%2C%20%5B34.1768395%2C%20-84.3039661%5D%2C%20%5B34.1145998%2C%20-83.8562639%5D%2C%20%5B34.5152758%2C%20-83.2167766%5D%2C%20%5B32.618679%2C%20-83.6160728%5D%2C%20%5B34.0957549%2C%20-84.2342187%5D%2C%20%5B32.4388999%2C%20-81.756434%5D%2C%20%5B33.9615347%2C%20-84.00909949999999%5D%2C%20%5B33.9318978%2C%20-83.9407525%5D%2C%20%5B34.9622846%2C%20-85.19379649999999%5D%2C%20%5B30.586032%2C%20-96.3407469%5D%2C%20%5B33.2419023%2C%20-84.35054749999999%5D%2C%20%5B33.5743558%2C%20-82.2606824%5D%2C%20%5B33.9146824%2C%20-83.4681305%5D%2C%20%5B33.351611%2C%20-84.56157%5D%2C%20%5B33.641072%2C%20-83.993325%5D%2C%20%5B33.853521%2C%20-84.3568839%5D%2C%20%5B32.1407745%2C%20-81.2561103%5D%2C%20%5B31.168535%2C%20-81.47380799999999%5D%2C%20%5B31.2020049%2C%20-82.33349729999999%5D%2C%20%5B34.0685274%2C%20-84.300677%5D%2C%20%5B34.1194322%2C%20-84.2048033%5D%2C%20%5B34.0976417%2C%20-84.0169489%5D%2C%20%5B33.6349611%2C%20-84.2917338%5D%2C%20%5B34.3414502%2C%20-84.3978061%5D%2C%20%5B33.3526352%2C%20-84.1182803%5D%2C%20%5B32.1350742%2C%20-81.304051%5D%2C%20%5B32.8387074%2C%20-83.6455095%5D%2C%20%5B33.3608124%2C%20-84.75119889999999%5D%2C%20%5B33.7338126%2C%20-84.4078486%5D%2C%20%5B32.4245945%2C%20-81.9161915%5D%2C%20%5B31.32868969999999%2C%20-85.71106639999999%5D%2C%20%5B34.236905%2C%20-83.457707%5D%2C%20%5B32.4368013%2C%20-84.95857869999999%5D%2C%20%5B33.7670487%2C%20-84.3631181%5D%2C%20%5B34.2095917%2C%20-83.8906164%5D%2C%20%5B33.5957719%2C%20-83.4681725%5D%2C%20%5B32.5018107%2C%20-84.4210305%5D%2C%20%5B34.3387197%2C%20-82.9617413%5D%2C%20%5B34.43592640000001%2C%20-84.55037709999999%5D%2C%20%5B33.9222563%2C%20-83.4415108%5D%2C%20%5B33.9642467%2C%20-84.2009514%5D%2C%20%5B33.7422993%2C%20-84.3585179%5D%2C%20%5B34.2924372%2C%20-83.5481534%5D%2C%20%5B34.236905%2C%20-83.457707%5D%2C%20%5B34.2039621%2C%20-84.2192075%5D%2C%20%5B34.4648103%2C%20-84.4631002%5D%2C%20%5B32.9297948%2C%20-85.1141373%5D%2C%20%5B33.9608134%2C%20-84.12116639999999%5D%2C%20%5B33.8804557%2C%20-84.0117123%5D%2C%20%5B34.132565%2C%20-84.173767%5D%2C%20%5B33.603942%2C%20-84.611637%5D%2C%20%5B32.10078%2C%20-81.21114299999999%5D%2C%20%5B31.807052%2C%20-81.6026112%5D%2C%20%5B33.901379%2C%20-84.5411469%5D%2C%20%5B30.8210082%2C%20-83.2753676%5D%2C%20%5B33.9424909%2C%20-83.34428799999999%5D%2C%20%5B33.999002%2C%20-83.3011269%5D%2C%20%5B32.0408674%2C%20-81.33010490000001%5D%2C%20%5B34.4745645%2C%20-84.0236606%5D%2C%20%5B34.074627%2C%20-83.401675%5D%2C%20%5B33.9435793%2C%20-83.9941829%5D%2C%20%5B33.9128839%2C%20-84.2640529%5D%2C%20%5B33.9959948%2C%20-83.3091573%5D%2C%20%5B33.552333%2C%20-84.352694%5D%2C%20%5B32.008202%2C%20-81.2836014%5D%2C%20%5B33.2118341%2C%20-85.252271%5D%2C%20%5B34.0417862%2C%20-84.6018319%5D%2C%20%5B33.2634124%2C%20-84.0837912%5D%2C%20%5B32.0878599%2C%20-83.76468679999999%5D%2C%20%5B33.79553%2C%20-84.263554%5D%2C%20%5B33.4136522%2C%20-84.5609953%5D%2C%20%5B32.5658755%2C%20-84.95763529999999%5D%2C%20%5B34.2926073%2C%20-84.0707243%5D%2C%20%5B34.5302875%2C%20-84.0073343%5D%2C%20%5B33.7635287%2C%20-84.3584358%5D%2C%20%5B32.431768%2C%20-84.959547%5D%2C%20%5B33.9517297%2C%20-84.66171829999999%5D%2C%20%5B32.1460088%2C%20-81.24628880000002%5D%2C%20%5B34.1097454%2C%20-84.0438145%5D%2C%20%5B33.7230444%2C%20-84.50898719999999%5D%2C%20%5B33.9629309%2C%20-83.3935028%5D%2C%20%5B33.5115814%2C%20-82.0355627%5D%2C%20%5B34.24222%2C%20-84.187725%5D%2C%20%5B32.577307%2C%20-84.81902199999999%5D%2C%20%5B33.9395925%2C%20-84.2093112%5D%2C%20%5B33.9009325%2C%20-83.575678%5D%2C%20%5B32.0759332%2C%20-81.0915679%5D%2C%20%5B33.4070135%2C%20-84.600073%5D%2C%20%5B30.8406164%2C%20-81.6073387%5D%2C%20%5B30.8953049%2C%20-83.3501586%5D%2C%20%5B30.8400379%2C%20-83.9442052%5D%2C%20%5B33.0431726%2C%20-84.9767966%5D%2C%20%5B33.624301%2C%20-84.583739%5D%2C%20%5B32.0790161%2C%20-81.09131049999999%5D%2C%20%5B34.291888%2C%20-83.89188999999999%5D%2C%20%5B33.62751670000001%2C%20-84.9910426%5D%2C%20%5B34.4793412%2C%20-84.4686205%5D%2C%20%5B32.0628935%2C%20-83.85744249999999%5D%2C%20%5B33.9090778%2C%20-84.2653282%5D%2C%20%5B34.2888101%2C%20-83.83096929999999%5D%2C%20%5B33.3787989%2C%20-82.07314319999999%5D%2C%20%5B31.2204542%2C%20-82.3462706%5D%2C%20%5B33.4511574%2C%20-84.1378658%5D%2C%20%5B33.8676309%2C%20-84.3358403%5D%2C%20%5B33.9208976%2C%20-83.51418380000001%5D%2C%20%5B32.1995834%2C%20-81.19525829999999%5D%2C%20%5B33.508209%2C%20-82.12933699999999%5D%2C%20%5B34.7808723%2C%20-84.81372069999999%5D%2C%20%5B33.9272201%2C%20-84.2698851%5D%2C%20%5B34.157625%2C%20-84.1733838%5D%2C%20%5B33.4609669%2C%20-84.189954%5D%2C%20%5B34.2147771%2C%20-84.5376793%5D%2C%20%5B33.893666%2C%20-84.1958444%5D%2C%20%5B32.6440242%2C%20-83.76270509999999%5D%2C%20%5B33.846481%2C%20-83.913462%5D%2C%20%5B34.0235938%2C%20-84.4262112%5D%2C%20%5B31.99956779999999%2C%20-81.2545506%5D%2C%20%5B33.9424909%2C%20-83.34428799999999%5D%2C%20%5B34.0669509%2C%20-84.73616779999999%5D%2C%20%5B31.230204%2C%20-81.455715%5D%2C%20%5B32.5531236%2C%20-83.6883661%5D%2C%20%5B32.5545601%2C%20-83.6621708%5D%2C%20%5B32.069939%2C%20-81.1084257%5D%2C%20%5B30.79315819999999%2C%20-81.6415162%5D%2C%20%5B32.550055%2C%20-84.89448949999999%5D%2C%20%5B33.8296191%2C%20-84.1898091%5D%2C%20%5B34.7658975%2C%20-85.26001880000001%5D%2C%20%5B32.5018107%2C%20-84.4210305%5D%2C%20%5B33.4372288%2C%20-84.2686193%5D%2C%20%5B38.6383587%2C%20-121.4768157%5D%2C%20%5B34.24018600000001%2C%20-84.20765999999999%5D%2C%20%5B34.154205%2C%20-83.87073900000001%5D%2C%20%5B32.09188%2C%20-81.243735%5D%2C%20%5B33.6145765%2C%20-83.92111729999999%5D%2C%20%5B32.6152828%2C%20-83.724604%5D%2C%20%5B33.9022742%2C%20-84.0039645%5D%2C%20%5B33.996418%2C%20-83.3218607%5D%2C%20%5B33.7381416%2C%20-84.4151644%5D%2C%20%5B33.9347889%2C%20-84.7237909%5D%2C%20%5B34.247019%2C%20-83.8137239%5D%2C%20%5B34.2500104%2C%20-84.4770633%5D%2C%20%5B34.0004209%2C%20-84.5223745%5D%2C%20%5B33.9779916%2C%20-83.3074798%5D%2C%20%5B34.0211403%2C%20-84.6248521%5D%2C%20%5B33.9145807%2C%20-84.1954325%5D%2C%20%5B33.8014258%2C%20-84.4199747%5D%2C%20%5B34.1459433%2C%20-83.9641395%5D%2C%20%5B33.2241559%2C%20-84.27343309999999%5D%2C%20%5B33.8727098%2C%20-84.18312879999999%5D%2C%20%5B33.462383%2C%20-83.2435424%5D%2C%20%5B33.8336246%2C%20-84.3403052%5D%2C%20%5B31.233033%2C%20-81.4958149%5D%2C%20%5B33.8575833%2C%20-84.29601020000001%5D%2C%20%5B34.202973%2C%20-83.89504099999999%5D%2C%20%5B33.656228%2C%20-83.718231%5D%2C%20%5B33.9288047%2C%20-84.1724602%5D%2C%20%5B33.5472821%2C%20-83.1801935%5D%2C%20%5B33.6189018%2C%20-84.6793422%5D%2C%20%5B21.2922129%2C%20-157.836457%5D%2C%20%5B21.3040572%2C%20-157.8503445%5D%2C%20%5B21.3137597%2C%20-158.0941328%5D%2C%20%5B20.8538768%2C%20-156.4965719%5D%2C%20%5B21.3137597%2C%20-158.0941328%5D%2C%20%5B21.316559%2C%20-157.871862%5D%2C%20%5B19.6392435%2C%20-155.9887377%5D%2C%20%5B19.676084%2C%20-156.002329%5D%2C%20%5B21.316559%2C%20-157.871862%5D%2C%20%5B19.6443715%2C%20-155.9884595%5D%2C%20%5B21.3295787%2C%20-158.0526199%5D%2C%20%5B21.9040359%2C%20-159.4652207%5D%2C%20%5B21.5004036%2C%20-158.0248817%5D%2C%20%5B21.286212%2C%20-157.8335025%5D%2C%20%5B20.0718591%2C%20-155.8544058%5D%2C%20%5B19.8973958%2C%20-155.7088563%5D%2C%20%5B20.2338889%2C%20-155.8019444%5D%2C%20%5B21.339699%2C%20-157.826679%5D%2C%20%5B20.9035537%2C%20-156.4826739%5D%2C%20%5B19.6737831%2C%20-156.0126082%5D%2C%20%5B21.882507%2C%20-159.4587783%5D%2C%20%5B21.5010495%2C%20-158.0209227%5D%2C%20%5B21.3047146%2C%20-157.8360439%5D%2C%20%5B20.7733246%2C%20-156.4474476%5D%2C%20%5B21.3890156%2C%20-158.0079983%5D%2C%20%5B21.3017358%2C%20-158.1111117%5D%2C%20%5B21.2818282%2C%20-157.78892%5D%2C%20%5B21.3756352%2C%20-158.0228789%5D%2C%20%5B21.326619%2C%20-157.8717424%5D%2C%20%5B21.3796343%2C%20-158.0185939%5D%2C%20%5B20.8911111%2C%20-156.5047222%5D%2C%20%5B21.4133996%2C%20-157.7436918%5D%2C%20%5B20.11741%2C%20-155.569674%5D%2C%20%5B21.3752059%2C%20-158.02232%5D%2C%20%5B20.8712001%2C%20-156.5001407%5D%2C%20%5B20.9176023%2C%20-156.4977831%5D%2C%20%5B19.912841%2C%20-155.8217239%5D%2C%20%5B20.0718591%2C%20-155.8544058%5D%2C%20%5B21.4816378%2C%20-158.0176624%5D%2C%20%5B19.8726455%2C%20-155.1072295%5D%2C%20%5B20.9723848%2C%20-156.6773734%5D%2C%20%5B20.815037%2C%20-156.627165%5D%2C%20%5B21.2896529%2C%20-157.8388732%5D%2C%20%5B19.673762%2C%20-156.008376%5D%2C%20%5B19.629865%2C%20-155.9866112%5D%2C%20%5B19.676084%2C%20-156.002329%5D%2C%20%5B20.7493371%2C%20-156.4380209%5D%2C%20%5B20.0718591%2C%20-155.8544058%5D%2C%20%5B20.0718591%2C%20-155.8544058%5D%2C%20%5B21.2904737%2C%20-157.8158313%5D%2C%20%5B21.321817%2C%20-158.0906018%5D%2C%20%5B19.5286363%2C%20-155.9247658%5D%2C%20%5B20.8869773%2C%20-156.4524931%5D%2C%20%5B20.0230556%2C%20-155.6716667%5D%2C%20%5B21.9510267%2C%20-159.3632579%5D%2C%20%5B19.6612818%2C%20-156.0087735%5D%2C%20%5B21.3162857%2C%20-157.867737%5D%2C%20%5B21.5784379%2C%20-158.1727247%5D%2C%20%5B21.2794867%2C%20-157.8029699%5D%2C%20%5B20.7348735%2C%20-156.4525866%5D%2C%20%5B20.8678592%2C%20-156.675187%5D%2C%20%5B21.3890156%2C%20-158.0079983%5D%2C%20%5B19.675163%2C%20-156.012821%5D%2C%20%5B21.3852662%2C%20-158.0083704%5D%2C%20%5B19.5429151%2C%20-155.6658568%5D%2C%20%5B21.3046773%2C%20-158.1117364%5D%2C%20%5B21.3752059%2C%20-158.02232%5D%2C%20%5B19.6751845%2C%20-156.0087402%5D%2C%20%5B20.0713594%2C%20-155.8506303%5D%2C%20%5B21.3124353%2C%20-157.8631889%5D%2C%20%5B21.2901551%2C%20-157.8395601%5D%2C%20%5B19.065818%2C%20-155.571227%5D%2C%20%5B19.7992907%2C%20-155.9036295%5D%2C%20%5B21.2962749%2C%20-157.7985064%5D%2C%20%5B20.7200017%2C%20-156.4463548%5D%2C%20%5B21.3044477%2C%20-158.1120879%5D%2C%20%5B19.7153739%2C%20-156.0350494%5D%2C%20%5B20.0193783%2C%20-155.668467%5D%2C%20%5B21.2925%2C%20-157.8362767%5D%2C%20%5B21.3620775%2C%20-158.0552631%5D%2C%20%5B21.3137597%2C%20-158.0941328%5D%2C%20%5B21.9722292%2C%20-159.378941%5D%2C%20%5B19.675213%2C%20-156.0109472%5D%2C%20%5B20.890435%2C%20-156.214071%5D%2C%20%5B20.8220163%2C%20-156.3304138%5D%2C%20%5B20.0062916%2C%20-155.8028374%5D%2C%20%5B21.3232618%2C%20-157.8684822%5D%2C%20%5B21.385168%2C%20-157.9468205%5D%2C%20%5B21.2931975%2C%20-157.8281933%5D%2C%20%5B21.3137597%2C%20-158.0941328%5D%2C%20%5B21.4790768%2C%20-158.0200783%5D%2C%20%5B21.3353909%2C%20-158.0568965%5D%2C%20%5B21.2917438%2C%20-157.8359041%5D%2C%20%5B21.2989361%2C%20-157.8421327%5D%2C%20%5B20.9737558%2C%20-156.6771707%5D%2C%20%5B20.7597148%2C%20-156.3275536%5D%2C%20%5B19.7410127%2C%20-155.9776574%5D%2C%20%5B21.2853687%2C%20-157.8312003%5D%2C%20%5B21.2875116%2C%20-157.8347631%5D%2C%20%5B21.3197228%2C%20-158.0890638%5D%2C%20%5B21.3000245%2C%20-157.8567429%5D%2C%20%5B19.0330351%2C%20-155.6619846%5D%2C%20%5B21.309912%2C%20-157.8638481%5D%2C%20%5B19.699911%2C%20-156.011873%5D%2C%20%5B19.9114828%2C%20-155.7745875%5D%2C%20%5B21.4813732%2C%20-158.0165041%5D%2C%20%5B21.4158523%2C%20-157.8018953%5D%2C%20%5B20.8163182%2C%20-156.4529079%5D%2C%20%5B21.9855763%2C%20-159.3657077%5D%2C%20%5B41.6923869%2C%20-91.614088%5D%2C%20%5B41.2175601%2C%20-95.8818367%5D%2C%20%5B41.5396076%2C%20-94.0080942%5D%2C%20%5B41.5109836%2C%20-93.6773798%5D%2C%20%5B41.6140431%2C%20-93.83134129999999%5D%2C%20%5B42.49960919999999%2C%20-96.418668%5D%2C%20%5B41.6873128%2C%20-91.52914059999999%5D%2C%20%5B41.7523363%2C%20-91.6188985%5D%2C%20%5B42.020181%2C%20-93.7387207%5D%2C%20%5B42.4953085%2C%20-92.41253449999999%5D%2C%20%5B41.58861539999999%2C%20-90.5301056%5D%2C%20%5B41.5611112%2C%20-93.78126150000001%5D%2C%20%5B41.9954713%2C%20-93.60820700000001%5D%2C%20%5B41.6649262%2C%20-93.4603253%5D%2C%20%5B41.6702152%2C%20-93.59503300000002%5D%2C%20%5B41.2390897%2C%20-95.8795668%5D%2C%20%5B41.6089548%2C%20-93.5501961%5D%2C%20%5B41.2197316%2C%20-95.8508324%5D%2C%20%5B41.2259249%2C%20-95.889365%5D%2C%20%5B41.6123909%2C%20-93.7585869%5D%2C%20%5B41.6880387%2C%20-93.70604759999999%5D%2C%20%5B41.8154009%2C%20-90.2643789%5D%2C%20%5B41.655873%2C%20-91.56017299999999%5D%2C%20%5B41.6484614%2C%20-93.7365363%5D%2C%20%5B41.649895%2C%20-93.505518%5D%2C%20%5B41.6926208%2C%20-91.49798589999999%5D%2C%20%5B41.7016167%2C%20-93.62571109999999%5D%2C%20%5B42.02026559999999%2C%20-93.74303289999999%5D%2C%20%5B41.7253145%2C%20-93.5768602%5D%2C%20%5B42.4858379%2C%20-91.457989%5D%2C%20%5B41.5586749%2C%20-90.4719628%5D%2C%20%5B41.2333041%2C%20-95.8885002%5D%2C%20%5B42.2554626%2C%20-91.89073979999999%5D%2C%20%5B41.978041%2C%20-91.66681%5D%2C%20%5B42.0291943%2C%20-91.659142%5D%2C%20%5B41.5976001%2C%20-93.73692369999999%5D%2C%20%5B40.7268603%2C%20-98.6700389%5D%2C%20%5B40.8249922%2C%20-91.1399498%5D%2C%20%5B41.9767658%2C%20-93.63987039999999%5D%2C%20%5B41.6667434%2C%20-93.73641599999999%5D%2C%20%5B41.58861539999999%2C%20-90.5301056%5D%2C%20%5B41.953854%2C%20-91.71419809999999%5D%2C%20%5B41.6940241%2C%20-93.4637111%5D%2C%20%5B42.488347%2C%20-90.77292%5D%2C%20%5B41.5818299%2C%20-93.5885461%5D%2C%20%5B41.65576799999999%2C%20-93.7419369%5D%2C%20%5B41.99762519999999%2C%20-93.66868380000001%5D%2C%20%5B41.298799%2C%20-95.8524879%5D%2C%20%5B42.571115%2C%20-92.517191%5D%2C%20%5B41.6004587%2C%20-93.8335405%5D%2C%20%5B42.4373029%2C%20-96.35867359999999%5D%2C%20%5B41.9528121%2C%20-91.7165538%5D%2C%20%5B41.574713%2C%20-90.5048843%5D%2C%20%5B41.5787746%2C%20-93.85443490000002%5D%2C%20%5B43.693739%2C%20-116.4521859%5D%2C%20%5B43.58127940000001%2C%20-116.5619507%5D%2C%20%5B42.5722078%2C%20-114.4596972%5D%2C%20%5B43.65126069999999%2C%20-116.2797479%5D%2C%20%5B43.6164586%2C%20-116.432788%5D%2C%20%5B43.606914%2C%20-116.4312629%5D%2C%20%5B43.5640407%2C%20-116.1991147%5D%2C%20%5B43.60288%2C%20-116.436245%5D%2C%20%5B46.4237834%2C%20-117.031616%5D%2C%20%5B43.641044%2C%20-116.627641%5D%2C%20%5B47.697799%2C%20-116.789188%5D%2C%20%5B43.6045312%2C%20-116.2740857%5D%2C%20%5B47.6737423%2C%20-116.7546294%5D%2C%20%5B43.5891022%2C%20-116.3409153%5D%2C%20%5B43.527129%2C%20-112.000507%5D%2C%20%5B42.1847167%2C%20-112.2375499%5D%2C%20%5B42.555786%2C%20-114.4706333%5D%2C%20%5B43.5625446%2C%20-116.519592%5D%2C%20%5B48.2031839%2C%20-116.5657112%5D%2C%20%5B43.6892412%2C%20-116.3435493%5D%2C%20%5B43.6079195%2C%20-116.5163498%5D%2C%20%5B43.484266%2C%20-112.051106%5D%2C%20%5B43.6158307%2C%20-116.2523631%5D%2C%20%5B43.5872723%2C%20-116.3567163%5D%2C%20%5B43.6798%2C%20-114.3649745%5D%2C%20%5B42.5632307%2C%20-114.5165405%5D%2C%20%5B43.4819025%2C%20-111.9642999%5D%2C%20%5B43.5410226%2C%20-116.1554163%5D%2C%20%5B43.8552046%2C%20-111.7783046%5D%2C%20%5B43.603083%2C%20-116.624658%5D%2C%20%5B43.8025799%2C%20-111.8230732%5D%2C%20%5B43.60881149999999%2C%20-116.2563827%5D%2C%20%5B44.40222199999999%2C%20-111.893056%5D%2C%20%5B48.2545443%2C%20-116.437527%5D%2C%20%5B47.7136635%2C%20-116.8939898%5D%2C%20%5B43.49926199999999%2C%20-116.45108%5D%2C%20%5B43.5944235%2C%20-116.5443231%5D%2C%20%5B43.62023869999999%2C%20-116.2798725%5D%2C%20%5B43.65126069999999%2C%20-116.2797479%5D%2C%20%5B43.6630867%2C%20-116.6232886%5D%2C%20%5B43.7823318%2C%20-116.3884847%5D%2C%20%5B43.555564%2C%20-116.5786592%5D%2C%20%5B43.546045%2C%20-116.2954979%5D%2C%20%5B43.689295%2C%20-111.94339%5D%2C%20%5B44.16423%2C%20-112.5255999%5D%2C%20%5B43.6066735%2C%20-116.2907359%5D%2C%20%5B39.049721%2C%20-94.63153799999999%5D%2C%20%5B43.8600453%2C%20-116.5009893%5D%2C%20%5B44.8812779%2C%20-116.147402%5D%2C%20%5B43.6775175%2C%20-116.2995021%5D%2C%20%5B43.8118585%2C%20-111.8052207%5D%2C%20%5B48.2809982%2C%20-116.5525655%5D%2C%20%5B43.702746%2C%20-116.470769%5D%2C%20%5B43.54718219999999%2C%20-116.5926386%5D%2C%20%5B43.611797%2C%20-116.610283%5D%2C%20%5B43.6816744%2C%20-114.3619279%5D%2C%20%5B43.4670128%2C%20-111.9636689%5D%2C%20%5B43.6136126%2C%20-116.5150464%5D%2C%20%5B43.5879745%2C%20-116.3569334%5D%2C%20%5B43.63478480000001%2C%20-116.4050855%5D%2C%20%5B43.5832963%2C%20-116.350576%5D%2C%20%5B43.8232388%2C%20-111.8109779%5D%2C%20%5B43.6401%2C%20-116.4336346%5D%2C%20%5B43.6203173%2C%20-116.3912088%5D%2C%20%5B43.5879745%2C%20-116.3569334%5D%2C%20%5B43.54636989999999%2C%20-116.3937735%5D%2C%20%5B47.6998305%2C%20-116.8279828%5D%2C%20%5B43.8363519%2C%20-111.7788012%5D%2C%20%5B43.5903027%2C%20-116.3343271%5D%2C%20%5B47.7026834%2C%20-116.9257289%5D%2C%20%5B43.5483023%2C%20-116.3161225%5D%2C%20%5B43.6592253%2C%20-116.3373763%5D%2C%20%5B43.681183%2C%20-114.3668349%5D%2C%20%5B47.7123814%2C%20-116.9970609%5D%2C%20%5B43.6138526%2C%20-116.5140832%5D%2C%20%5B42.9127301%2C%20-112.4761841%5D%2C%20%5B43.5916493%2C%20-116.2980448%5D%2C%20%5B43.5783718%2C%20-116.1957751%5D%2C%20%5B43.5987373%2C%20-116.5754988%5D%2C%20%5B43.5915779%2C%20-116.4065187%5D%2C%20%5B43.6386194%2C%20-116.5340457%5D%2C%20%5B48.6219238%2C%20-116.8966328%5D%2C%20%5B42.896736%2C%20-112.429056%5D%2C%20%5B43.8593298%2C%20-116.5549163%5D%2C%20%5B43.6104174%2C%20-116.4935543%5D%2C%20%5B43.661066%2C%20-116.650308%5D%2C%20%5B43.5835058%2C%20-116.3517789%5D%2C%20%5B42.6950836%2C%20-114.5094967%5D%2C%20%5B43.5920917%2C%20-116.3922025%5D%2C%20%5B42.5563376%2C%20-114.4605203%5D%2C%20%5B43.51766079999999%2C%20-112.0491841%5D%2C%20%5B43.6034999%2C%20-116.5045669%5D%2C%20%5B47.7161438%2C%20-116.7929923%5D%2C%20%5B43.7064189%2C%20-116.452564%5D%2C%20%5B42.5622094%2C%20-114.4244255%5D%2C%20%5B43.5257788%2C%20-112.0319821%5D%2C%20%5B43.6192772%2C%20-116.3207067%5D%2C%20%5B43.61306%2C%20-116.514345%5D%2C%20%5B47.7114903%2C%20-116.9053021%5D%2C%20%5B43.8593298%2C%20-116.5549163%5D%2C%20%5B43.931689%2C%20-111.129911%5D%2C%20%5B43.593569%2C%20-116.4042758%5D%2C%20%5B43.5909455%2C%20-116.4053285%5D%2C%20%5B41.8680418%2C%20-87.6262789%5D%2C%20%5B47.6734632%2C%20-116.7812225%5D%2C%20%5B43.5184503%2C%20-112.0023911%5D%2C%20%5B47.701847%2C%20-116.787139%5D%2C%20%5B47.7130723%2C%20-116.7899564%5D%2C%20%5B29.700932%2C%20-95.28101819999999%5D%2C%20%5B43.6157759%2C%20-116.2029378%5D%2C%20%5B43.5894303%2C%20-116.3601603%5D%2C%20%5B43.6127529%2C%20-116.5177369%5D%2C%20%5B47.702443%2C%20-117.02304%5D%2C%20%5B43.7212341%2C%20-116.4830779%5D%2C%20%5B42.4636191%2C%20-87.8695522%5D%2C%20%5B41.6905925%2C%20-87.7412495%5D%2C%20%5B41.8329776%2C%20-88.024309%5D%2C%20%5B41.9645708%2C%20-87.65660679999999%5D%2C%20%5B42.0480056%2C%20-87.6854252%5D%2C%20%5B41.6661013%2C%20-88.1189187%5D%2C%20%5B41.6411257%2C%20-88.4470556%5D%2C%20%5B42.1418068%2C%20-87.9086366%5D%2C%20%5B41.8308839%2C%20-87.65378849999999%5D%2C%20%5B42.1061397%2C%20-87.9721453%5D%2C%20%5B41.93244600000001%2C%20-87.6468763%5D%2C%20%5B41.7667809%2C%20-88.4904832%5D%2C%20%5B41.4820858%2C%20-87.9593178%5D%2C%20%5B41.5942809%2C%20-87.7937987%5D%2C%20%5B41.9154926%2C%20-87.7232981%5D%2C%20%5B41.9015932%2C%20-87.7142525%5D%2C%20%5B42.2153346%2C%20-88.25151799999999%5D%2C%20%5B41.7635446%2C%20-88.3725688%5D%2C%20%5B38.77790299999999%2C%20-89.98459319999999%5D%2C%20%5B41.6243227%2C%20-88.2050283%5D%2C%20%5B41.5384063%2C%20-87.636645%5D%2C%20%5B41.8115421%2C%20-88.2857259%5D%2C%20%5B41.8509935%2C%20-87.97138%5D%2C%20%5B42.11633390000001%2C%20-87.7436843%5D%2C%20%5B41.847174%2C%20-87.66274%5D%2C%20%5B41.7296923%2C%20-88.0269079%5D%2C%20%5B41.9392528%2C%20-87.73226760000001%5D%2C%20%5B40.1442422%2C%20-88.25703109999999%5D%2C%20%5B42.41651299999999%2C%20-88.53488%5D%2C%20%5B39.0942678%2C%20-90.1417309%5D%2C%20%5B42.2132914%2C%20-87.8176587%5D%2C%20%5B40.6888643%2C%20-89.6007338%5D%2C%20%5B41.3061273%2C%20-89.3736799%5D%2C%20%5B42.1189981%2C%20-87.8293219%5D%2C%20%5B42.2645109%2C%20-89.020547%5D%2C%20%5B41.7710462%2C%20-87.7869217%5D%2C%20%5B41.6468558%2C%20-88.53987769999999%5D%2C%20%5B40.4564116%2C%20-88.90184719999999%5D%2C%20%5B41.8150428%2C%20-87.6561535%5D%2C%20%5B41.9658252%2C%20-87.66886250000002%5D%2C%20%5B40.9371843%2C%20-90.3998009%5D%2C%20%5B41.8918142%2C%20-87.6323077%5D%2C%20%5B41.6963009%2C%20-88.14526479999999%5D%2C%20%5B41.968041%2C%20-87.7234634%5D%2C%20%5B38.857188%2C%20-90.065596%5D%2C%20%5B41.9951686%2C%20-87.9523193%5D%2C%20%5B41.7300164%2C%20-88.3754864%5D%2C%20%5B41.82078%2C%20-87.66397599999999%5D%2C%20%5B41.3713299%2C%20-89.1237234%5D%2C%20%5B41.8149772%2C%20-87.6811924%5D%2C%20%5B39.419721%2C%20-88.37895499999999%5D%2C%20%5B41.9382867%2C%20-87.77206699999999%5D%2C%20%5B41.370078%2C%20-89.14955429999999%5D%2C%20%5B42.2317461%2C%20-88.30806059999999%5D%2C%20%5B42.0792616%2C%20-88.3388847%5D%2C%20%5B42.1087851%2C%20-87.97140230000001%5D%2C%20%5B41.7495959%2C%20-87.609669%5D%2C%20%5B41.6314017%2C%20-87.8463462%5D%2C%20%5B41.4902325%2C%20-90.436399%5D%2C%20%5B41.7386462%2C%20-88.01190659999999%5D%2C%20%5B41.5981107%2C%20-88.0174603%5D%2C%20%5B41.7666121%2C%20-88.36415029999999%5D%2C%20%5B38.8872685%2C%20-90.14964189999999%5D%2C%20%5B42.1759829%2C%20-88.2650795%5D%2C%20%5B40.5812%2C%20-75.518799%5D%2C%20%5B42.2153346%2C%20-88.25151799999999%5D%2C%20%5B41.5093782%2C%20-88.1654839%5D%2C%20%5B41.6627686%2C%20-87.67824209999999%5D%2C%20%5B41.5573044%2C%20-87.7917525%5D%2C%20%5B42.0144515%2C%20-87.9102652%5D%2C%20%5B42.140477%2C%20-87.9065864%5D%2C%20%5B42.4713321%2C%20-88.99927819999999%5D%2C%20%5B40.1446889%2C%20-88.25482590000001%5D%2C%20%5B41.7782511%2C%20-88.373858%5D%2C%20%5B37.7430481%2C%20-88.9701642%5D%2C%20%5B41.6166657%2C%20-88.4073877%5D%2C%20%5B41.9385924%2C%20-87.74595409999999%5D%2C%20%5B42.1538327%2C%20-88.43267209999999%5D%2C%20%5B40.7911012%2C%20-89.629431%5D%2C%20%5B41.6998002%2C%20-88.4214143%5D%2C%20%5B39.7987595%2C%20-89.66071649999999%5D%2C%20%5B41.7339477%2C%20-87.7404849%5D%2C%20%5B42.16110159999999%2C%20-87.9189602%5D%2C%20%5B39.9179953%2C%20-88.9547154%5D%2C%20%5B42.22232289999999%2C%20-88.2857259%5D%2C%20%5B41.9901863%2C%20-87.70649069999999%5D%2C%20%5B41.9538946%2C%20-88.7103267%5D%2C%20%5B41.6237126%2C%20-87.5595127%5D%2C%20%5B41.9982034%2C%20-87.9445855%5D%2C%20%5B42.0123772%2C%20-87.71768019999999%5D%2C%20%5B41.9411802%2C%20-87.70833270000001%5D%2C%20%5B39.7965261%2C%20-89.64698940000001%5D%2C%20%5B41.5570634%2C%20-87.8878603%5D%2C%20%5B42.2456036%2C%20-88.3161197%5D%2C%20%5B41.73278510000001%2C%20-87.5847639%5D%2C%20%5B37.0850816%2C%20-94.5132896%5D%2C%20%5B42.3717222%2C%20-88.2688922%5D%2C%20%5B42.3865254%2C%20-87.90551339999999%5D%2C%20%5B41.5132543%2C%20-87.9629989%5D%2C%20%5B42.2108287%2C%20-88.2873014%5D%2C%20%5B41.527504%2C%20-87.7014808%5D%2C%20%5B40.533202%2C%20-88.9911132%5D%2C%20%5B41.8968898%2C%20-87.7039715%5D%2C%20%5B41.7242391%2C%20-88.3479153%5D%2C%20%5B38.7586535%2C%20-90.06998779999999%5D%2C%20%5B41.969666%2C%20-88.113357%5D%2C%20%5B41.961405%2C%20-87.6694596%5D%2C%20%5B42.0057148%2C%20-87.67252220000002%5D%2C%20%5B41.8200326%2C%20-88.0282244%5D%2C%20%5B41.920333%2C%20-87.6998459%5D%2C%20%5B42.3609924%2C%20-88.2682112%5D%2C%20%5B42.3289702%2C%20-88.19703419999999%5D%2C%20%5B38.9332797%2C%20-90.1918628%5D%2C%20%5B41.9324635%2C%20-87.6888135%5D%2C%20%5B42.0508572%2C%20-87.9742881%5D%2C%20%5B41.49645659999999%2C%20-87.9267371%5D%2C%20%5B41.8244474%2C%20-87.69053939999999%5D%2C%20%5B40.7054356%2C%20-89.5923783%5D%2C%20%5B42.0049639%2C%20-87.8842392%5D%2C%20%5B41.92187500000001%2C%20-87.6593858%5D%2C%20%5B38.8596827%2C%20-90.0670052%5D%2C%20%5B42.0126015%2C%20-87.7656257%5D%2C%20%5B41.800849%2C%20-88.330517%5D%2C%20%5B41.717994%2C%20-88.3761379%5D%2C%20%5B38.5554689%2C%20-89.80597019999999%5D%2C%20%5B39.8494475%2C%20-88.8647956%5D%2C%20%5B42.367107%2C%20-88.167908%5D%2C%20%5B41.3428552%2C%20-89.10678469999999%5D%2C%20%5B38.9652732%2C%20-90.1926041%5D%2C%20%5B42.368699%2C%20-89.0217419%5D%2C%20%5B41.7364564%2C%20-87.6051645%5D%2C%20%5B42.167671%2C%20-87.93853539999999%5D%2C%20%5B41.7145543%2C%20-88.0376842%5D%2C%20%5B41.8834178%2C%20-87.6255376%5D%2C%20%5B42.249553%2C%20-88.2931721%5D%2C%20%5B42.0043107%2C%20-88.1843628%5D%2C%20%5B42.0195739%2C%20-87.7823233%5D%2C%20%5B42.0505878%2C%20-87.9201503%5D%2C%20%5B41.53109180000001%2C%20-87.9867008%5D%2C%20%5B41.6534943%2C%20-88.07221179999999%5D%2C%20%5B41.7747153%2C%20-88.4384954%5D%2C%20%5B41.522668%2C%20-88.14753259999999%5D%2C%20%5B42.3406558%2C%20-88.0571721%5D%2C%20%5B41.549975%2C%20-87.8704247%5D%2C%20%5B42.0156479%2C%20-87.9510177%5D%2C%20%5B42.0082659%2C%20-87.67051250000002%5D%2C%20%5B42.0533673%2C%20-87.84845279999999%5D%2C%20%5B42.1987867%2C%20-88.0606038%5D%2C%20%5B39.1076936%2C%20-88.55290629999999%5D%2C%20%5B41.83660039999999%2C%20-87.70856359999999%5D%2C%20%5B42.0463712%2C%20-88.1645807%5D%2C%20%5B42.0181784%2C%20-87.723198%5D%2C%20%5B41.9937169%2C%20-88.6874333%5D%2C%20%5B38.77176860000001%2C%20-89.9920574%5D%2C%20%5B41.7019272%2C%20-87.65956760000002%5D%2C%20%5B41.9725724%2C%20-87.6553212%5D%2C%20%5B39.5531061%2C%20-89.2980642%5D%2C%20%5B42.2039409%2C%20-87.93374829999999%5D%2C%20%5B40.1110988%2C%20-88.20775499999999%5D%2C%20%5B38.572284%2C%20-89.931719%5D%2C%20%5B41.9008332%2C%20-88.7390728%5D%2C%20%5B41.7206787%2C%20-87.6856847%5D%2C%20%5B42.1950597%2C%20-88.2120174%5D%2C%20%5B42.2254126%2C%20-88.9006088%5D%2C%20%5B39.7558135%2C%20-89.73341099999999%5D%2C%20%5B41.7907129%2C%20-88.2283174%5D%2C%20%5B42.0194942%2C%20-88.20217339999999%5D%2C%20%5B41.9850217%2C%20-87.6693287%5D%2C%20%5B42.1866141%2C%20-87.94558099999999%5D%2C%20%5B42.158968%2C%20-88.056646%5D%2C%20%5B41.4165357%2C%20-88.3649248%5D%2C%20%5B42.4307021%2C%20-88.1982714%5D%2C%20%5B42.1682668%2C%20-88.3351852%5D%2C%20%5B41.6626005%2C%20-88.5031729%5D%2C%20%5B41.9116991%2C%20-87.68082090000001%5D%2C%20%5B41.9538946%2C%20-88.7103267%5D%2C%20%5B41.6887234%2C%20-88.2074263%5D%2C%20%5B41.51926340000001%2C%20-87.70704289999999%5D%2C%20%5B41.7813767%2C%20-88.2023637%5D%2C%20%5B41.7969318%2C%20-88.1159437%5D%2C%20%5B42.124168%2C%20-88.37677099999999%5D%2C%20%5B42.3377965%2C%20-88.1681024%5D%2C%20%5B42.0535598%2C%20-87.85670189999999%5D%2C%20%5B42.0272121%2C%20-87.9610296%5D%2C%20%5B41.521528%2C%20-88.12844%5D%2C%20%5B41.8008516%2C%20-88.28754959999999%5D%2C%20%5B41.50769620000001%2C%20-87.9173344%5D%2C%20%5B42.266013%2C%20-87.951593%5D%2C%20%5B42.0151334%2C%20-87.7933943%5D%2C%20%5B42.0585938%2C%20-88.0079092%5D%2C%20%5B41.92265889999999%2C%20-89.1025508%5D%2C%20%5B38.93167529999999%2C%20-76.6297189%5D%2C%20%5B42.215153%2C%20-88.2547879%5D%2C%20%5B41.7542378%2C%20-87.7233222%5D%2C%20%5B41.90077640000001%2C%20-87.64620579999999%5D%2C%20%5B42.293358%2C%20-88.10386199999999%5D%2C%20%5B41.9595344%2C%20-87.7297703%5D%2C%20%5B41.6252876%2C%20-88.4485706%5D%2C%20%5B42.023957%2C%20-87.785715%5D%2C%20%5B42.1033796%2C%20-88.35425149999999%5D%2C%20%5B37.0850816%2C%20-94.5132896%5D%2C%20%5B41.8835178%2C%20-87.6258728%5D%2C%20%5B42.0271552%2C%20-87.71187049999999%5D%2C%20%5B41.7082795%2C%20-88.0691956%5D%2C%20%5B42.2397677%2C%20-89.0080457%5D%2C%20%5B42.0658954%2C%20-88.28703329999999%5D%2C%20%5B41.7701934%2C%20-87.57365620000002%5D%2C%20%5B41.97355109999999%2C%20-88.3406607%5D%2C%20%5B41.6391907%2C%20-88.0820942%5D%2C%20%5B41.8090705%2C%20-87.7331212%5D%2C%20%5B42.2702624%2C%20-88.98193309999999%5D%2C%20%5B38.7141421%2C%20-90.1462808%5D%2C%20%5B41.809682%2C%20-88.239043%5D%2C%20%5B41.9387718%2C%20-88.11116559999999%5D%2C%20%5B41.3768101%2C%20-88.2492473%5D%2C%20%5B41.9311973%2C%20-87.7860558%5D%2C%20%5B39.7251638%2C%20-90.27095419999999%5D%2C%20%5B41.5833219%2C%20-87.63814839999999%5D%2C%20%5B39.4072873%2C%20-88.8260826%5D%2C%20%5B41.4404359%2C%20-87.6760082%5D%2C%20%5B41.9332319%2C%20-87.6788495%5D%2C%20%5B42.3869833%2C%20-88.0002999%5D%2C%20%5B41.552339%2C%20-87.8192042%5D%2C%20%5B41.742573%2C%20-88.371101%5D%2C%20%5B42.3711594%2C%20-88.2681312%5D%2C%20%5B33.4933429%2C%20-117.1484963%5D%2C%20%5B41.9179578%2C%20-88.3316741%5D%2C%20%5B42.3690348%2C%20-87.88174699999999%5D%2C%20%5B41.6607213%2C%20-87.7017118%5D%2C%20%5B42.989847%2C%20-71.46274199999999%5D%2C%20%5B38.3483663%2C%20-90.15117719999999%5D%2C%20%5B39.91951419999999%2C%20-88.9553959%5D%2C%20%5B40.5313714%2C%20-88.9999306%5D%2C%20%5B42.104782%2C%20-87.7712983%5D%2C%20%5B42.387422%2C%20-88.007678%5D%2C%20%5B41.8818289%2C%20-87.6312275%5D%2C%20%5B41.7810965%2C%20-88.352622%5D%2C%20%5B41.7161118%2C%20-88.2840921%5D%2C%20%5B41.7964126%2C%20-87.9555732%5D%2C%20%5B41.9077258%2C%20-88.0184226%5D%2C%20%5B41.60746109999999%2C%20-88.2407386%5D%2C%20%5B41.6077859%2C%20-88.5642565%5D%2C%20%5B41.77318229999999%2C%20-88.1461415%5D%2C%20%5B38.5178281%2C%20-89.7932302%5D%2C%20%5B39.9340908%2C%20-91.3185689%5D%2C%20%5B41.896603%2C%20-87.7032516%5D%2C%20%5B41.511505%2C%20-88.16839519999999%5D%2C%20%5B42.1950811%2C%20-88.20890349999999%5D%2C%20%5B41.8164174%2C%20-87.84734%5D%2C%20%5B41.7860936%2C%20-88.3762467%5D%2C%20%5B42.17462219999999%2C%20-88.578727%5D%2C%20%5B41.6238973%2C%20-87.59163339999999%5D%2C%20%5B41.476158%2C%20-90.5027124%5D%2C%20%5B41.4854224%2C%20-87.8488893%5D%2C%20%5B41.784092%2C%20-88.1818838%5D%2C%20%5B41.81797%2C%20-87.628212%5D%2C%20%5B42.21610099999999%2C%20-88.25630869999999%5D%2C%20%5B41.8192593%2C%20-88.0288075%5D%2C%20%5B41.52166829999999%2C%20-88.1460462%5D%2C%20%5B38.570782%2C%20-89.859388%5D%2C%20%5B42.1195594%2C%20-87.8274203%5D%2C%20%5B41.868575%2C%20-87.62608499999999%5D%2C%20%5B42.438982%2C%20-88.046606%5D%2C%20%5B41.9305238%2C%20-87.7335829%5D%2C%20%5B42.06667969999999%2C%20-87.80053869999999%5D%2C%20%5B45.9854499%2C%20-112.5124327%5D%2C%20%5B41.3858202%2C%20-88.45605379999999%5D%2C%20%5B41.70766010000001%2C%20-87.62089399999999%5D%2C%20%5B41.2733909%2C%20-88.285011%5D%2C%20%5B41.7984272%2C%20-88.27082980000002%5D%2C%20%5B41.9399503%2C%20-87.7256216%5D%2C%20%5B42.38378%2C%20-87.954638%5D%2C%20%5B42.1392481%2C%20-87.90647129999999%5D%2C%20%5B41.8081558%2C%20-88.03921249999999%5D%2C%20%5B40.7001623%2C%20-89.59108979999999%5D%2C%20%5B41.9541391%2C%20-87.6471641%5D%2C%20%5B41.89893430000001%2C%20-87.7073206%5D%2C%20%5B41.859291%2C%20-87.62609499999999%5D%2C%20%5B41.7951108%2C%20-88.0953897%5D%2C%20%5B41.9172042%2C%20-88.29242699999999%5D%2C%20%5B42.2136788%2C%20-88.06610270000002%5D%2C%20%5B41.52795649999999%2C%20-87.7326432%5D%2C%20%5B41.8038865%2C%20-87.8227532%5D%2C%20%5B41.9087141%2C%20-87.6300064%5D%2C%20%5B41.7936577%2C%20-88.2584378%5D%2C%20%5B40.7299999%2C%20-73.45%5D%2C%20%5B41.71861750000001%2C%20-88.04869269999999%5D%2C%20%5B41.9135656%2C%20-87.76797549999999%5D%2C%20%5B41.9541985%2C%20-87.6501167%5D%2C%20%5B38.5566406%2C%20-90.02269629999999%5D%2C%20%5B40.7491497%2C%20-89.6523002%5D%2C%20%5B35.2404011%2C%20-80.8453859%5D%2C%20%5B41.7226297%2C%20-88.37525149999999%5D%2C%20%5B41.7801258%2C%20-87.64169489999999%5D%2C%20%5B41.7360829%2C%20-87.70040290000001%5D%2C%20%5B41.7183853%2C%20-87.7215835%5D%2C%20%5B41.5356158%2C%20-88.19996549999999%5D%2C%20%5B41.9399168%2C%20-88.115585%5D%2C%20%5B41.7994373%2C%20-88.33448949999999%5D%2C%20%5B41.91498199999999%2C%20-88.2096%5D%2C%20%5B38.6573252%2C%20-90.1684255%5D%2C%20%5B39.6945218%2C%20-90.2272143%5D%2C%20%5B41.4190524%2C%20-88.2507386%5D%2C%20%5B38.614948%2C%20-89.965265%5D%2C%20%5B41.5525087%2C%20-88.0880045%5D%2C%20%5B41.800877%2C%20-87.9304298%5D%2C%20%5B45.4845115%2C%20-73.59159559999999%5D%2C%20%5B41.9251671%2C%20-87.693607%5D%2C%20%5B41.9253014%2C%20-87.9776832%5D%2C%20%5B40.4596502%2C%20-90.6515728%5D%2C%20%5B42.4409068%2C%20-88.0646517%5D%2C%20%5B38.9211388%2C%20-90.1734388%5D%2C%20%5B41.8641018%2C%20-89.49710309999999%5D%2C%20%5B41.88480089999999%2C%20-87.6586461%5D%2C%20%5B42.0918773%2C%20-88.3361559%5D%2C%20%5B41.8578944%2C%20-88.1437401%5D%2C%20%5B42.2635624%2C%20-88.3573583%5D%2C%20%5B42.3269618%2C%20-88.1960442%5D%2C%20%5B42.0772156%2C%20-87.9182347%5D%2C%20%5B41.5307957%2C%20-87.85205959999999%5D%2C%20%5B40.78229899999999%2C%20-89.69314%5D%2C%20%5B40.5100327%2C%20-88.95481490000002%5D%2C%20%5B41.8244474%2C%20-87.69053939999999%5D%2C%20%5B41.7623869%2C%20-87.90701519999999%5D%2C%20%5B38.43588949999999%2C%20-90.1907829%5D%2C%20%5B41.9642777%2C%20-87.651714%5D%2C%20%5B41.70047719999999%2C%20-87.7394418%5D%2C%20%5B41.892005%2C%20-87.73712139999999%5D%2C%20%5B41.1215231%2C%20-88.834553%5D%2C%20%5B35.6776293%2C%20-97.499895%5D%2C%20%5B41.862293%2C%20-87.62378400000001%5D%2C%20%5B41.8927325%2C%20-87.85432329999999%5D%2C%20%5B39.7326437%2C%20-89.6364917%5D%2C%20%5B41.8462862%2C%20-87.62735219999999%5D%2C%20%5B41.8509935%2C%20-87.97138%5D%2C%20%5B41.4429952%2C%20-88.2092146%5D%2C%20%5B41.880028%2C%20-87.666974%5D%2C%20%5B42.1274329%2C%20-88.510702%5D%2C%20%5B41.9390794%2C%20-88.7239233%5D%2C%20%5B40.827788%2C%20-73.98734499999999%5D%2C%20%5B35.4754652%2C%20-97.545138%5D%2C%20%5B41.4940824%2C%20-90.5576311%5D%2C%20%5B41.69567989999999%2C%20-88.12481559999999%5D%2C%20%5B42.3059246%2C%20-87.9599502%5D%2C%20%5B41.6742711%2C%20-88.000644%5D%2C%20%5B41.6213366%2C%20-87.57538439999999%5D%2C%20%5B42.1559284%2C%20-88.42047029999999%5D%2C%20%5B41.5444054%2C%20-87.8854661%5D%2C%20%5B41.7568928%2C%20-88.0396368%5D%2C%20%5B41.3915815%2C%20-87.6267986%5D%2C%20%5B41.4026621%2C%20-88.25067%5D%2C%20%5B42.1518513%2C%20-87.8538245%5D%2C%20%5B42.2436055%2C%20-87.9565302%5D%2C%20%5B41.2889967%2C%20-88.22762019999999%5D%2C%20%5B41.5285459%2C%20-88.1405%5D%2C%20%5B41.744242%2C%20-87.63113179999999%5D%2C%20%5B41.9203468%2C%20-87.6433139%5D%2C%20%5B41.7307932%2C%20-88.20528139999999%5D%2C%20%5B41.8838237%2C%20-88.2699027%5D%2C%20%5B42.1980215%2C%20-88.0586561%5D%2C%20%5B40.4906978%2C%20-88.9573953%5D%2C%20%5B42.4568033%2C%20-88.9999797%5D%2C%20%5B41.8761269%2C%20-88.3396437%5D%2C%20%5B42.3077981%2C%20-88.2841279%5D%2C%20%5B40.1240132%2C%20-88.2822253%5D%2C%20%5B37.7715404%2C%20-122.4168196%5D%2C%20%5B40.7825744%2C%20-89.6154689%5D%2C%20%5B42.0114851%2C%20-87.72134349999999%5D%2C%20%5B41.897645%2C%20-87.9852327%5D%2C%20%5B41.9766213%2C%20-87.7716178%5D%2C%20%5B37.9038092%2C%20-88.956797%5D%2C%20%5B42.3291043%2C%20-88.8353419%5D%2C%20%5B42.1756834%2C%20-88.58900349999999%5D%2C%20%5B41.5595894%2C%20-87.63657959999999%5D%2C%20%5B41.822394%2C%20-87.67836%5D%2C%20%5B42.043102%2C%20-88.4934374%5D%2C%20%5B38.578293%2C%20-89.937596%5D%2C%20%5B41.4142866%2C%20-87.7561899%5D%2C%20%5B41.8086718%2C%20-88.3025593%5D%2C%20%5B42.3491016%2C%20-87.94092069999999%5D%2C%20%5B41.7601728%2C%20-87.7834044%5D%2C%20%5B41.7601405%2C%20-87.55737069999999%5D%2C%20%5B41.78999719999999%2C%20-88.329624%5D%2C%20%5B38.316529%2C%20-88.9575823%5D%2C%20%5B42.0235862%2C%20-87.8937084%5D%2C%20%5B42.1613828%2C%20-88.33462870000001%5D%2C%20%5B42.4079439%2C%20-88.07190639999999%5D%2C%20%5B39.8312473%2C%20-86.0089682%5D%2C%20%5B39.1639838%2C%20-86.5476292%5D%2C%20%5B39.911944%2C%20-86.16024039999999%5D%2C%20%5B38.3161836%2C%20-86.0941292%5D%2C%20%5B41.478625%2C%20-87.31621539999999%5D%2C%20%5B33.0696487%2C%20-96.7743301%5D%2C%20%5B41.4343721%2C%20-85.97698249999999%5D%2C%20%5B41.6317154%2C%20-87.06667999999999%5D%2C%20%5B41.1257031%2C%20-85.1778495%5D%2C%20%5B41.5152838%2C%20-87.2690855%5D%2C%20%5B40.77105400000001%2C%20-85.1650296%5D%2C%20%5B39.8955663%2C%20-85.9180784%5D%2C%20%5B38.3700536%2C%20-85.76330019999999%5D%2C%20%5B41.60640799999999%2C%20-87.17316749999999%5D%2C%20%5B39.8356511%2C%20-86.0335674%5D%2C%20%5B41.4614662%2C%20-87.09340279999999%5D%2C%20%5B39.7564181%2C%20-86.1642473%5D%2C%20%5B37.9781524%2C%20-87.5439925%5D%2C%20%5B41.6866709%2C%20-86.85964299999999%5D%2C%20%5B39.064657%2C%20-84.8964429%5D%2C%20%5B39.1660501%2C%20-86.57149869999999%5D%2C%20%5B40.0857211%2C%20-86.1057597%5D%2C%20%5B41.6274884%2C%20-86.0019914%5D%2C%20%5B41.0886564%2C%20-85.1402878%5D%2C%20%5B47.7067978%2C%20-116.7908141%5D%2C%20%5B41.1463876%2C%20-85.1598455%5D%2C%20%5B39.960172%2C%20-86.0116391%5D%2C%20%5B40.3862402%2C%20-86.9021693%5D%2C%20%5B39.6282033%2C%20-86.0799045%5D%2C%20%5B39.9096577%2C%20-86.05899629999999%5D%2C%20%5B40.2177292%2C%20-85.465605%5D%2C%20%5B39.829076%2C%20-85.9177969%5D%2C%20%5B39.7271882%2C%20-86.3369819%5D%2C%20%5B39.69924%2C%20-86.1805739%5D%2C%20%5B39.9302707%2C%20-86.1510081%5D%2C%20%5B39.2308812%2C%20-85.8954411%5D%2C%20%5B39.9281218%2C%20-85.98318909999999%5D%2C%20%5B41.4518497%2C%20-85.266669%5D%2C%20%5B39.8509282%2C%20-86.3605255%5D%2C%20%5B41.6261989%2C%20-87.47703469999999%5D%2C%20%5B39.6301859%2C%20-86.0856726%5D%2C%20%5B41.14525%2C%20-85.176147%5D%2C%20%5B41.2513145%2C%20-85.82610559999999%5D%2C%20%5B39.6622876%2C%20-86.1281364%5D%2C%20%5B39.3167929%2C%20-85.205865%5D%2C%20%5B39.6143104%2C%20-86.0696317%5D%2C%20%5B38.113583%2C%20-87.487088%5D%2C%20%5B39.7304396%2C%20-86.04175029999999%5D%2C%20%5B41.7331152%2C%20-86.1588044%5D%2C%20%5B37.9691179%2C%20-87.4920423%5D%2C%20%5B41.6882183%2C%20-86.8958755%5D%2C%20%5B39.7632896%2C%20-87.2373073%5D%2C%20%5B41.65400349999999%2C%20-86.29168849999999%5D%2C%20%5B37.976366%2C%20-87.435082%5D%2C%20%5B39.834192%2C%20-87.43122%5D%2C%20%5B39.7657858%2C%20-86.25080609999999%5D%2C%20%5B40.00113959999999%2C%20-85.9507311%5D%2C%20%5B39.165325%2C%20-86.52638569999999%5D%2C%20%5B39.8288045%2C%20-85.7968415%5D%2C%20%5B41.0745905%2C%20-85.2364613%5D%2C%20%5B40.0169413%2C%20-85.9969035%5D%2C%20%5B39.9874093%2C%20-85.8949815%5D%2C%20%5B41.1676976%2C%20-85.4922539%5D%2C%20%5B39.6548909%2C%20-87.4283427%5D%2C%20%5B41.7297591%2C%20-86.1513564%5D%2C%20%5B41.4409645%2C%20-87.00242109999999%5D%2C%20%5B41.7076719%2C%20-85.92524399999999%5D%2C%20%5B41.3615045%2C%20-86.347844%5D%2C%20%5B39.9900582%2C%20-85.9357644%5D%2C%20%5B38.0436341%2C%20-87.5406672%5D%2C%20%5B41.170065%2C%20-85.112607%5D%2C%20%5B39.1501137%2C%20-86.5748497%5D%2C%20%5B39.649688%2C%20-86.08433769999999%5D%2C%20%5B38.009674%2C%20-87.57799%5D%2C%20%5B37.9964013%2C%20-87.4917329%5D%2C%20%5B39.7641027%2C%20-86.3545469%5D%2C%20%5B40.0397526%2C%20-85.71534779999999%5D%2C%20%5B40.008522%2C%20-86.2813753%5D%2C%20%5B40.0329018%2C%20-75.0775159%5D%2C%20%5B40.0765806%2C%20-86.9078191%5D%2C%20%5B40.1873094%2C%20-85.41804979999999%5D%2C%20%5B41.1057277%2C%20-85.0604781%5D%2C%20%5B39.7498258%2C%20-86.0286169%5D%2C%20%5B41.7175024%2C%20-86.66098699999999%5D%2C%20%5B41.6921157%2C%20-86.18178379999999%5D%2C%20%5B41.7096187%2C%20-86.16073229999999%5D%2C%20%5B40.7155304%2C%20-86.09082579999999%5D%2C%20%5B41.6261989%2C%20-87.47703469999999%5D%2C%20%5B40.89125019999999%2C%20-85.50432959999999%5D%2C%20%5B39.9906648%2C%20-85.8364658%5D%2C%20%5B41.0751017%2C%20-85.20356009999999%5D%2C%20%5B39.6662681%2C%20-86.0183157%5D%2C%20%5B39.72313279999999%2C%20-86.17048679999999%5D%2C%20%5B41.59339689999999%2C%20-87.4842297%5D%2C%20%5B39.3180809%2C%20-85.9522866%5D%2C%20%5B41.7096187%2C%20-86.16073229999999%5D%2C%20%5B38.8636908%2C%20-86.5203964%5D%2C%20%5B39.1976329%2C%20-85.9743938%5D%2C%20%5B41.6993805%2C%20-86.2947214%5D%2C%20%5B41.4616766%2C%20-87.0948571%5D%2C%20%5B39.85576450000001%2C%20-86.01118919999999%5D%2C%20%5B41.744075%2C%20-84.999268%5D%2C%20%5B39.897252%2C%20-85.911846%5D%2C%20%5B39.899996%2C%20-86.050501%5D%2C%20%5B41.2376848%2C%20-86.25433459999999%5D%2C%20%5B39.1515983%2C%20-86.57563809999999%5D%2C%20%5B41.6873303%2C%20-86.1600484%5D%2C%20%5B41.3622248%2C%20-86.3301894%5D%2C%20%5B39.6443755%2C%20-86.0642739%5D%2C%20%5B39.78312409999999%2C%20-85.9894332%5D%2C%20%5B40.4372768%2C%20-86.1394405%5D%2C%20%5B40.955854%2C%20-85.3010273%5D%2C%20%5B37.6430412%2C%20-95.4604032%5D%2C%20%5B41.3669175%2C%20-85.0588394%5D%2C%20%5B41.5950835%2C%20-87.50085879999999%5D%2C%20%5B40.7741975%2C%20-86.0782071%5D%2C%20%5B41.6881825%2C%20-86.85724429999999%5D%2C%20%5B39.7780333%2C%20-86.40086509999999%5D%2C%20%5B39.8429138%2C%20-85.86485859999999%5D%2C%20%5B41.65516119999999%2C%20-85.00141660000001%5D%2C%20%5B39.7187083%2C%20-86.3995187%5D%2C%20%5B39.8721986%2C%20-86.2657055%5D%2C%20%5B39.665706%2C%20-86.251323%5D%2C%20%5B41.0741675%2C%20-85.31086479999999%5D%2C%20%5B40.2176903%2C%20-85.46355040000002%5D%2C%20%5B39.825887%2C%20-84.908487%5D%2C%20%5B38.3071036%2C%20-85.77544780000001%5D%2C%20%5B41.6921157%2C%20-86.18178379999999%5D%2C%20%5B39.8020615%2C%20-86.4178432%5D%2C%20%5B41.6234676%2C%20-86.00254489999999%5D%2C%20%5B39.2153247%2C%20-85.90138089999999%5D%2C%20%5B41.2000678%2C%20-85.1084755%5D%2C%20%5B41.1450222%2C%20-85.1665685%5D%2C%20%5B39.8626024%2C%20-85.9755496%5D%2C%20%5B38.3298937%2C%20-85.74659559999999%5D%2C%20%5B39.9332826%2C%20-86.15697329999999%5D%2C%20%5B41.4197147%2C%20-86.9666879%5D%2C%20%5B39.8400449%2C%20-86.25183249999999%5D%2C%20%5B40.1870018%2C%20-85.41760099999999%5D%2C%20%5B39.8243394%2C%20-86.0441171%5D%2C%20%5B38.00283599999999%2C%20-87.48993999999999%5D%2C%20%5B40.99633499999999%2C%20-85.268863%5D%2C%20%5B41.1482684%2C%20-85.1691603%5D%2C%20%5B38.3534561%2C%20-85.7043096%5D%2C%20%5B41.6754627%2C%20-86.8945208%5D%2C%20%5B39.8247896%2C%20-86.15973989999999%5D%2C%20%5B39.8574535%2C%20-85.8592649%5D%2C%20%5B41.6710196%2C%20-86.3098627%5D%2C%20%5B36.08519100000001%2C%20-95.866895%5D%2C%20%5B41.162206%2C%20-85.09405799999999%5D%2C%20%5B41.2513145%2C%20-85.82610559999999%5D%2C%20%5B41.72916439999999%2C%20-85.9714018%5D%2C%20%5B37.9568021%2C%20-87.4983455%5D%2C%20%5B39.9057532%2C%20-86.0551112%5D%2C%20%5B41.425202%2C%20-85.8420534%5D%2C%20%5B39.950696%2C%20-86.0414479%5D%2C%20%5B39.3355496%2C%20-85.97165609999999%5D%2C%20%5B39.8260115%2C%20-85.7748707%5D%2C%20%5B38.9699483%2C%20-85.8580181%5D%2C%20%5B41.1204627%2C%20-85.1245564%5D%2C%20%5B39.7149208%2C%20-86.1495396%5D%2C%20%5B41.5718465%2C%20-87.04763590000002%5D%2C%20%5B37.9808434%2C%20-87.5343311%5D%2C%20%5B37.976494%2C%20-87.6412323%5D%2C%20%5B39.5217277%2C%20-85.7604964%5D%2C%20%5B39.4625845%2C%20-87.2581359%5D%2C%20%5B39.8429138%2C%20-85.86485859999999%5D%2C%20%5B41.551841%2C%20-85.78813459999999%5D%2C%20%5B41.0169806%2C%20-85.1115453%5D%2C%20%5B41.561597%2C%20-85.795773%5D%2C%20%5B40.0066124%2C%20-85.7713204%5D%2C%20%5B41.0021587%2C%20-85.1952202%5D%2C%20%5B38.0134931%2C%20-87.5318313%5D%2C%20%5B39.9067162%2C%20-86.0958371%5D%2C%20%5B41.8967226%2C%20-86.317627%5D%2C%20%5B41.42015749999999%2C%20-87.3253108%5D%2C%20%5B41.645209%2C%20-87.46843899999999%5D%2C%20%5B41.1943568%2C%20-85.13276139999999%5D%2C%20%5B40.438306%2C%20-86.12506479999999%5D%2C%20%5B41.360233%2C%20-86.34997609999999%5D%2C%20%5B39.948656%2C%20-86.15916299999999%5D%2C%20%5B41.7092444%2C%20-86.19070839999999%5D%2C%20%5B38.0208108%2C%20-87.57187139999999%5D%2C%20%5B39.54623300000001%2C%20-86.089851%5D%2C%20%5B40.11447280000001%2C%20-85.56490869999999%5D%2C%20%5B39.7079993%2C%20-86.0170426%5D%2C%20%5B41.5774921%2C%20-87.1807694%5D%2C%20%5B41.7062516%2C%20-86.1826061%5D%2C%20%5B40.0012315%2C%20-86.007443%5D%2C%20%5B38.4728459%2C%20-87.36040539999999%5D%2C%20%5B41.509303%2C%20-87.260243%5D%2C%20%5B37.72431%2C%20-97.20575980000001%5D%2C%20%5B37.1557174%2C%20-98.0338941%5D%2C%20%5B37.6044921%2C%20-97.2828822%5D%2C%20%5B39.103208%2C%20-94.761157%5D%2C%20%5B37.7229819%2C%20-97.26227569999999%5D%2C%20%5B38.2206356%2C%20-97.5045166%5D%2C%20%5B38.7834599%2C%20-97.5944543%5D%2C%20%5B37.5613114%2C%20-97.24364729999999%5D%2C%20%5B38.995958%2C%20-95.68934999999999%5D%2C%20%5B37.6745369%2C%20-97.429456%5D%2C%20%5B38.980854%2C%20-94.7130584%5D%2C%20%5B38.9701663%2C%20-95.2997551%5D%2C%20%5B38.9771971%2C%20-94.851756%5D%2C%20%5B37.6229818%2C%20-97.37149199999999%5D%2C%20%5B39.112616%2C%20-94.80853599999999%5D%2C%20%5B38.9734399%2C%20-95.23343779999999%5D%2C%20%5B39.1289496%2C%20-94.8274787%5D%2C%20%5B38.9271775%2C%20-94.8714102%5D%2C%20%5B37.7411228%2C%20-97.2440477%5D%2C%20%5B37.7814405%2C%20-97.3718865%5D%2C%20%5B37.7139393%2C%20-97.2986801%5D%2C%20%5B37.7804234%2C%20-97.32863979999999%5D%2C%20%5B38.8542235%2C%20-94.64683029999999%5D%2C%20%5B39.009256%2C%20-94.76984619999999%5D%2C%20%5B37.690777%2C%20-97.190698%5D%2C%20%5B37.6113293%2C%20-97.3407692%5D%2C%20%5B38.9561277%2C%20-94.6869437%5D%2C%20%5B38.9150323%2C%20-94.76674779999999%5D%2C%20%5B37.5771438%2C%20-97.244413%5D%2C%20%5B37.6738603%2C%20-97.40948399999999%5D%2C%20%5B39.1804992%2C%20-96.5539447%5D%2C%20%5B38.8559569%2C%20-94.857226%5D%2C%20%5B38.9743109%2C%20-94.8537873%5D%2C%20%5B38.8719978%2C%20-99.29933349999999%5D%2C%20%5B38.9734399%2C%20-95.23343779999999%5D%2C%20%5B37.8392011%2C%20-97.3169996%5D%2C%20%5B37.6044921%2C%20-97.2828822%5D%2C%20%5B38.800976%2C%20-94.847788%5D%2C%20%5B38.8805101%2C%20-94.68595239999999%5D%2C%20%5B38.956415%2C%20-95.34699169999999%5D%2C%20%5B38.6222445%2C%20-94.69106359999999%5D%2C%20%5B38.7816711%2C%20-97.6118029%5D%2C%20%5B37.724135%2C%20-97.2254559%5D%2C%20%5B38.0447228%2C%20-97.3200134%5D%2C%20%5B37.523549%2C%20-95.8323513%5D%2C%20%5B38.9110129%2C%20-94.66551150000001%5D%2C%20%5B38.8853477%2C%20-94.77803399999999%5D%2C%20%5B29.9331671%2C%20-95.6432338%5D%2C%20%5B37.8392011%2C%20-97.3169996%5D%2C%20%5B38.82818%2C%20-97.6319266%5D%2C%20%5B38.8932193%2C%20-94.7801217%5D%2C%20%5B38.9271775%2C%20-94.8714102%5D%2C%20%5B39.130091%2C%20-94.83877299999999%5D%2C%20%5B37.60606850000001%2C%20-97.322521%5D%2C%20%5B38.9283727%2C%20-94.8566858%5D%2C%20%5B38.9933428%2C%20-94.72306499999999%5D%2C%20%5B38.9165855%2C%20-94.6427346%5D%2C%20%5B37.6632431%2C%20-97.28650090000001%5D%2C%20%5B39.02897979999999%2C%20-94.8253596%5D%2C%20%5B39.0156334%2C%20-95.6186489%5D%2C%20%5B37.6755624%2C%20-97.42309499999999%5D%2C%20%5B38.9127439%2C%20-94.908782%5D%2C%20%5B38.8828804%2C%20-94.6486271%5D%2C%20%5B37.7251802%2C%20-97.2057177%5D%2C%20%5B37.6860141%2C%20-97.2271123%5D%2C%20%5B38.8842944%2C%20-94.77231379999999%5D%2C%20%5B39.1162183%2C%20-94.8723631%5D%2C%20%5B37.6507829%2C%20-97.3534569%5D%2C%20%5B39.0383155%2C%20-94.6426135%5D%2C%20%5B38.9606199%2C%20-94.668206%5D%2C%20%5B38.822001%2C%20-94.939566%5D%2C%20%5B38.8599257%2C%20-99.2924135%5D%2C%20%5B38.827164%2C%20-97.6497278%5D%2C%20%5B38.9734399%2C%20-95.23343779999999%5D%2C%20%5B39.0110882%2C%20-94.82318%5D%2C%20%5B39.1129119%2C%20-96.6968455%5D%2C%20%5B37.7359744%2C%20-97.42554520000002%5D%2C%20%5B37.7211665%2C%20-97.2468126%5D%2C%20%5B38.5120953%2C%20-94.92705%5D%2C%20%5B37.8105192%2C%20-97.33031729999999%5D%2C%20%5B39.0117365%2C%20-94.7217709%5D%2C%20%5B38.8809381%2C%20-94.778728%5D%2C%20%5B37.9662417%2C%20-84.4970317%5D%2C%20%5B38.2227799%2C%20-85.6930611%5D%2C%20%5B39.023651%2C%20-84.703417%5D%2C%20%5B37.0751557%2C%20-88.6812429%5D%2C%20%5B38.1865867%2C%20-84.5484487%5D%2C%20%5B38.1609608%2C%20-85.89194669999999%5D%2C%20%5B38.0032535%2C%20-85.70537379999999%5D%2C%20%5B38.1003768%2C%20-83.90394429999999%5D%2C%20%5B37.0709334%2C%20-88.68537169999999%5D%2C%20%5B38.8586361%2C%20-84.61439179999999%5D%2C%20%5B37.0828246%2C%20-88.6700233%5D%2C%20%5B38.1764332%2C%20-85.8195427%5D%2C%20%5B38.3492863%2C%20-85.3982229%5D%2C%20%5B38.065762%2C%20-84.5173854%5D%2C%20%5B38.2497307%2C%20-85.761618%5D%2C%20%5B38.252158%2C%20-85.725213%5D%2C%20%5B38.1564257%2C%20-85.710802%5D%2C%20%5B37.99533690000001%2C%20-84.5347505%5D%2C%20%5B38.0009063%2C%20-84.4457963%5D%2C%20%5B37.713692%2C%20-85.8959941%5D%2C%20%5B38.0658971%2C%20-84.472718%5D%2C%20%5B38.2237776%2C%20-85.569773%5D%2C%20%5B37.9563478%2C%20-84.5406235%5D%2C%20%5B37.0478099%2C%20-86.2835606%5D%2C%20%5B38.281126%2C%20-85.631018%5D%2C%20%5B38.1638986%2C%20-85.6393571%5D%2C%20%5B38.419825%2C%20-85.3506464%5D%2C%20%5B38.6823128%2C%20-84.5898445%5D%2C%20%5B38.276336%2C%20-85.69685299999999%5D%2C%20%5B36.9712788%2C%20-86.40097329999999%5D%2C%20%5B37.7024765%2C%20-85.90752189999999%5D%2C%20%5B38.1918683%2C%20-83.55853239999999%5D%2C%20%5B38.0009766%2C%20-84.4429071%5D%2C%20%5B38.0163766%2C%20-84.45557960000001%5D%2C%20%5B39.0153998%2C%20-84.6682415%5D%2C%20%5B37.0478099%2C%20-86.2835606%5D%2C%20%5B37.8463689%2C%20-84.3341671%5D%2C%20%5B36.7249656%2C%20-88.62541670000002%5D%2C%20%5B37.7434233%2C%20-84.24794229999999%5D%2C%20%5B37.733227%2C%20-84.30715219999999%5D%2C%20%5B37.7373649%2C%20-84.3182921%5D%2C%20%5B38.059244%2C%20-84.55470299999999%5D%2C%20%5B37.78159309999999%2C%20-86.45126139999999%5D%2C%20%5B37.7460762%2C%20-87.0825606%5D%2C%20%5B37.0024891%2C%20-86.3745764%5D%2C%20%5B38.2667245%2C%20-85.5709388%5D%2C%20%5B38.6373477%2C%20-84.5614976%5D%2C%20%5B36.9745154%2C%20-84.689115%5D%2C%20%5B36.8254694%2C%20-87.5083207%5D%2C%20%5B38.8579799%2C%20-84.5959147%5D%2C%20%5B38.0290402%2C%20-84.41911309999999%5D%2C%20%5B38.5562193%2C%20-84.59326709999999%5D%2C%20%5B37.7257529%2C%20-87.1217515%5D%2C%20%5B37.1096926%2C%20-84.0980428%5D%2C%20%5B38.2327892%2C%20-84.58046879999999%5D%2C%20%5B38.0411811%2C%20-84.4887038%5D%2C%20%5B38.0228641%2C%20-84.47255400000002%5D%2C%20%5B38.085923%2C%20-85.66507949999999%5D%2C%20%5B37.9921167%2C%20-85.6691196%5D%2C%20%5B38.210835%2C%20-85.531128%5D%2C%20%5B38.236095%2C%20-85.44687499999999%5D%2C%20%5B36.8766687%2C%20-87.4597778%5D%2C%20%5B38.1960402%2C%20-84.8306434%5D%2C%20%5B36.76203%2C%20-83.6949176%5D%2C%20%5B36.6611187%2C%20-86.5552531%5D%2C%20%5B39.0236129%2C%20-84.5630187%5D%2C%20%5B38.8757998%2C%20-84.611181%5D%2C%20%5B38.0176697%2C%20-84.2185755%5D%2C%20%5B38.1300597%2C%20-84.37340189999999%5D%2C%20%5B38.053982%2C%20-84.52612490000001%5D%2C%20%5B38.1625265%2C%20-85.7565709%5D%2C%20%5B38.3601215%2C%20-85.5038113%5D%2C%20%5B38.1527326%2C%20-85.65848439999999%5D%2C%20%5B38.2012857%2C%20-85.6619899%5D%2C%20%5B37.8517328%2C%20-84.58697959999999%5D%2C%20%5B37.9198169%2C%20-84.4693889%5D%2C%20%5B38.1036006%2C%20-85.672524%5D%2C%20%5B38.911318%2C%20-84.6357419%5D%2C%20%5B38.227237%2C%20-85.2519516%5D%2C%20%5B37.5270423%2C%20-82.7919048%5D%2C%20%5B38.1872374%2C%20-85.27822719999999%5D%2C%20%5B37.6044288%2C%20-84.6751062%5D%2C%20%5B36.9895422%2C%20-86.4548624%5D%2C%20%5B37.66364799999999%2C%20-87.238704%5D%2C%20%5B37.1534514%2C%20-83.37235%5D%2C%20%5B38.2140886%2C%20-84.81508079999999%5D%2C%20%5B36.9418917%2C%20-86.26611210000002%5D%2C%20%5B38.052195%2C%20-84.52167899999999%5D%2C%20%5B38.1527326%2C%20-85.65848439999999%5D%2C%20%5B38.0801622%2C%20-83.9081863%5D%2C%20%5B37.6480931%2C%20-85.8383473%5D%2C%20%5B38.1759864%2C%20-84.894286%5D%2C%20%5B38.192822%2C%20-85.475179%5D%2C%20%5B38.1838843%2C%20-84.2899235%5D%2C%20%5B38.66534490000001%2C%20-84.3337447%5D%2C%20%5B38.0624556%2C%20-84.48542499999999%5D%2C%20%5B38.099468%2C%20-84.5202937%5D%2C%20%5B38.2736128%2C%20-85.51833409999999%5D%2C%20%5B38.062988%2C%20-84.5255308%5D%2C%20%5B37.9453679%2C%20-84.5444928%5D%2C%20%5B37.0740094%2C%20-88.7300021%5D%2C%20%5B38.988219%2C%20-84.6381461%5D%2C%20%5B38.7870858%2C%20-84.8884774%5D%2C%20%5B38.106351%2C%20-85.6692368%5D%2C%20%5B38.2534185%2C%20-85.7572885%5D%2C%20%5B38.2185602%2C%20-85.5299924%5D%2C%20%5B38.10335%2C%20-84.48327599999999%5D%2C%20%5B37.908618%2C%20-84.546376%5D%2C%20%5B36.8544674%2C%20-87.4759326%5D%2C%20%5B36.9854742%2C%20-86.487831%5D%2C%20%5B38.0951559%2C%20-84.92771259999999%5D%2C%20%5B38.0059195%2C%20-84.51754919999999%5D%2C%20%5B38.065762%2C%20-84.5173854%5D%2C%20%5B36.9425659%2C%20-86.5266753%5D%2C%20%5B37.96015790000001%2C%20-84.5371203%5D%2C%20%5B38.1844625%2C%20-84.79429879999999%5D%2C%20%5B38.9862555%2C%20-84.6006047%5D%2C%20%5B37.5947614%2C%20-84.3192374%5D%2C%20%5B38.1045145%2C%20-85.5644263%5D%2C%20%5B37.7352989%2C%20-84.3295097%5D%2C%20%5B38.007665%2C%20-84.434294%5D%2C%20%5B38.0067189%2C%20-84.45378699999999%5D%2C%20%5B32.7950418%2C%20-96.80349419999999%5D%2C%20%5B37.958319%2C%20-84.5449952%5D%2C%20%5B38.1931524%2C%20-85.70174329999999%5D%2C%20%5B38.1505539%2C%20-85.8377857%5D%2C%20%5B38.3104217%2C%20-85.5808708%5D%2C%20%5B37.0416745%2C%20-88.1433957%5D%2C%20%5B38.255069%2C%20-85.750331%5D%2C%20%5B37.7761131%2C%20-87.06902889999999%5D%2C%20%5B38.227237%2C%20-85.2519516%5D%2C%20%5B38.0433629%2C%20-84.4940528%5D%2C%20%5B38.6381245%2C%20-84.5604977%5D%2C%20%5B37.7455563%2C%20-85.89159289999999%5D%2C%20%5B38.2352345%2C%20-84.5372084%5D%2C%20%5B38.0621912%2C%20-84.5182014%5D%2C%20%5B38.0303587%2C%20-84.7246066%5D%2C%20%5B30.0056097%2C%20-90.1643124%5D%2C%20%5B30.168685%2C%20-93.2577162%5D%2C%20%5B30.0191696%2C%20-90.0214702%5D%2C%20%5B29.9590825%2C%20-90.069486%5D%2C%20%5B32.4847491%2C%20-92.0549903%5D%2C%20%5B29.6939411%2C%20-91.2184729%5D%2C%20%5B30.2657755%2C%20-92.01745939999999%5D%2C%20%5B32.4606317%2C%20-93.8268507%5D%2C%20%5B30.4515751%2C%20-91.17315359999999%5D%2C%20%5B29.9672398%2C%20-90.0648415%5D%2C%20%5B30.1973253%2C%20-92.0028743%5D%2C%20%5B29.6048253%2C%20-90.7467594%5D%2C%20%5B29.924063%2C%20-90.0805669%5D%2C%20%5B29.9482408%2C%20-90.0726693%5D%2C%20%5B30.19467899999999%2C%20-92.0167973%5D%2C%20%5B30.2018348%2C%20-92.02923229999999%5D%2C%20%5B30.0461201%2C%20-89.98877859999999%5D%2C%20%5B32.7781131%2C%20-91.8906171%5D%2C%20%5B30.2849296%2C%20-90.9566823%5D%2C%20%5B29.9719624%2C%20-90.0975017%5D%2C%20%5B30.0288295%2C%20-89.9915843%5D%2C%20%5B30.439452%2C%20-90.1176055%5D%2C%20%5B29.693044%2C%20-91.18349189999999%5D%2C%20%5B32.396761%2C%20-93.75020599999999%5D%2C%20%5B30.290185%2C%20-91.917383%5D%2C%20%5B30.0335675%2C%20-89.9725237%5D%2C%20%5B30.1714167%2C%20-92.08360429999999%5D%2C%20%5B29.9568486%2C%20-90.18601269999999%5D%2C%20%5B30.002817%2C%20-90.1585326%5D%2C%20%5B29.9675536%2C%20-90.10392329999999%5D%2C%20%5B29.9777246%2C%20-90.09647840000001%5D%2C%20%5B29.932463%2C%20-90.0829279%5D%2C%20%5B30.035374%2C%20-89.97616889999999%5D%2C%20%5B30.2308967%2C%20-93.3577651%5D%2C%20%5B30.0316731%2C%20-89.98323959999999%5D%2C%20%5B30.3157823%2C%20-89.770697%5D%2C%20%5B29.97519789999999%2C%20-90.29931920000001%5D%2C%20%5B32.396761%2C%20-93.75020599999999%5D%2C%20%5B29.9815581%2C%20-90.27622799999999%5D%2C%20%5B30.1977591%2C%20-93.23104289999999%5D%2C%20%5B30.28698099999999%2C%20-91.904943%5D%2C%20%5B30.7912204%2C%20-89.864322%5D%2C%20%5B30.004531%2C%20-90.1668957%5D%2C%20%5B32.5307307%2C%20-93.6710387%5D%2C%20%5B29.9567693%2C%20-90.08803759999999%5D%2C%20%5B30.0137984%2C%20-90.2422409%5D%2C%20%5B29.9335153%2C%20-90.23706399999999%5D%2C%20%5B29.9754607%2C%20-92.10257349999999%5D%2C%20%5B29.8621802%2C%20-89.993352%5D%2C%20%5B30.0026086%2C%20-90.1649219%5D%2C%20%5B30.3909377%2C%20-91.06385139999999%5D%2C%20%5B30.041444%2C%20-89.95823%5D%2C%20%5B30.1681497%2C%20-93.265828%5D%2C%20%5B29.812797%2C%20-91.511105%5D%2C%20%5B29.6706462%2C%20-90.77153799999999%5D%2C%20%5B30.2086942%2C%20-90.9439773%5D%2C%20%5B30.2475435%2C%20-91.1041039%5D%2C%20%5B30.480776%2C%20-90.037836%5D%2C%20%5B29.94293%2C%20-91.852628%5D%2C%20%5B32.4877164%2C%20-93.705548%5D%2C%20%5B30.0788211%2C%20-90.9640077%5D%2C%20%5B32.5282876%2C%20-93.7032966%5D%2C%20%5B32.5275931%2C%20-92.10295359999999%5D%2C%20%5B30.4596052%2C%20-90.1208754%5D%2C%20%5B30.6517822%2C%20-91.1700642%5D%2C%20%5B29.9394351%2C%20-90.0652612%5D%2C%20%5B29.9218287%2C%20-90.0220087%5D%2C%20%5B31.2718348%2C%20-92.4665576%5D%2C%20%5B30.2238207%2C%20-89.7861334%5D%2C%20%5B32.3902787%2C%20-93.814881%5D%2C%20%5B32.5271999%2C%20-92.0973992%5D%2C%20%5B32.3874563%2C%20-93.8084554%5D%2C%20%5B32.4419567%2C%20-93.797423%5D%2C%20%5B29.9639433%2C%20-90.1479629%5D%2C%20%5B29.9365854%2C%20-90.2027078%5D%2C%20%5B30.5096135%2C%20-92.07287780000001%5D%2C%20%5B32.54899%2C%20-93.6865706%5D%2C%20%5B30.5010631%2C%20-91.0516227%5D%2C%20%5B30.377102%2C%20-91.0571085%5D%2C%20%5B29.8352907%2C%20-90.9481009%5D%2C%20%5B30.22187%2C%20-92.071917%5D%2C%20%5B29.9760402%2C%20-90.155131%5D%2C%20%5B30.0113332%2C%20-90.01043800000001%5D%2C%20%5B29.8957933%2C%20-90.0768595%5D%2C%20%5B29.9054995%2C%20-90.36975989999999%5D%2C%20%5B30.3032539%2C%20-89.8272358%5D%2C%20%5B30.2084069%2C%20-90.95054569999999%5D%2C%20%5B41.6435117%2C%20-70.6020923%5D%2C%20%5B42.4076956%2C%20-71.1347679%5D%2C%20%5B42.2651747%2C%20-71.43086579999999%5D%2C%20%5B42.4268423%2C%20-71.07148099999999%5D%2C%20%5B42.5690775%2C%20-71.9917667%5D%2C%20%5B42.272698%2C%20-71.029865%5D%2C%20%5B42.60859019999999%2C%20-71.341381%5D%2C%20%5B41.9933491%2C%20-70.0501745%5D%2C%20%5B42.056143%2C%20-71.06286949999999%5D%2C%20%5B42.2520921%2C%20-71.6870631%5D%2C%20%5B41.6477536%2C%20-70.4232933%5D%2C%20%5B42.34388%2C%20-71.5121285%5D%2C%20%5B41.4336644%2C%20-70.65778759999999%5D%2C%20%5B42.3593837%2C%20-71.0565553%5D%2C%20%5B42.052597%2C%20-72.6576385%5D%2C%20%5B42.6795287%2C%20-71.13424499999999%5D%2C%20%5B42.18563169999999%2C%20-71.20157%5D%2C%20%5B41.6431843%2C%20-70.4822872%5D%2C%20%5B42.08169729999999%2C%20-71.3958435%5D%2C%20%5B42.2893505%2C%20-71.4284653%5D%2C%20%5B42.0562068%2C%20-71.0693692%5D%2C%20%5B41.96546559999999%2C%20-71.1905762%5D%2C%20%5B42.1890057%2C%20-71.8498602%5D%2C%20%5B41.6790551%2C%20-70.32047539999999%5D%2C%20%5B42.2742862%2C%20-71.39180780000001%5D%2C%20%5B42.3686843%2C%20-71.5735533%5D%2C%20%5B37.0436406%2C%20-95.6340531%5D%2C%20%5B41.7768654%2C%20-71.28660889999999%5D%2C%20%5B41.9076628%2C%20-70.9556015%5D%2C%20%5B34.9783668%2C%20-92.0400009%5D%2C%20%5B42.23219%2C%20-71.82068699999999%5D%2C%20%5B41.9052452%2C%20-71.0997774%5D%2C%20%5B42.3639661%2C%20-71.0561142%5D%2C%20%5B42.7806992%2C%20-71.0769105%5D%2C%20%5B42.169572%2C%20-71.4656736%5D%2C%20%5B42.5162421%2C%20-71.5096129%5D%2C%20%5B42.428173%2C%20-71.0467125%5D%2C%20%5B42.11923770000001%2C%20-71.45811270000002%5D%2C%20%5B42.4055958%2C%20-70.99162079999999%5D%2C%20%5B42.3086334%2C%20-71.6593396%5D%2C%20%5B41.9161618%2C%20-71.3582448%5D%2C%20%5B42.55128740000001%2C%20-71.4483034%5D%2C%20%5B41.8212041%2C%20-70.5526229%5D%2C%20%5B42.5503768%2C%20-71.74686369999999%5D%2C%20%5B42.583836%2C%20-70.96824%5D%2C%20%5B42.67472040000001%2C%20-71.44097529999999%5D%2C%20%5B42.3243814%2C%20-73.23944139999999%5D%2C%20%5B41.9450943%2C%20-70.90054959999999%5D%2C%20%5B42.6972807%2C%20-71.2249605%5D%2C%20%5B42.3375429%2C%20-72.648517%5D%2C%20%5B42.0976182%2C%20-71.0091032%5D%2C%20%5B42.726456%2C%20-71.212449%5D%2C%20%5B42.7007965%2C%20-71.15938009999999%5D%2C%20%5B42.1708916%2C%20-71.3533041%5D%2C%20%5B42.3858035%2C%20-71.0780667%5D%2C%20%5B42.3656191%2C%20-71.0670135%5D%2C%20%5B42.3659267%2C%20-71.0526806%5D%2C%20%5B41.91981690000001%2C%20-71.3198666%5D%2C%20%5B42.335754%2C%20-71.07646199999999%5D%2C%20%5B42.3485151%2C%20-71.0732672%5D%2C%20%5B41.6771105%2C%20-71.1814735%5D%2C%20%5B42.1615164%2C%20-71.98682389999999%5D%2C%20%5B42.2075422%2C%20-71.9073204%5D%2C%20%5B42.0761339%2C%20-71.41908269999999%5D%2C%20%5B42.3157032%2C%20-73.247062%5D%2C%20%5B42.1058043%2C%20-71.7064987%5D%2C%20%5B41.9549676%2C%20-71.24185969999999%5D%2C%20%5B41.6384215%2C%20-70.9896949%5D%2C%20%5B42.2759401%2C%20-71.4263649%5D%2C%20%5B42.333934%2C%20-72.63528459999999%5D%2C%20%5B42.5439666%2C%20-71.2530365%5D%2C%20%5B42.1002016%2C%20-70.76484169999999%5D%2C%20%5B41.7310252%2C%20-70.58659089999999%5D%2C%20%5B41.6615011%2C%20-70.2848721%5D%2C%20%5B42.3181869%2C%20-71.5877878%5D%2C%20%5B42.5139967%2C%20-71.4721421%5D%2C%20%5B42.1299697%2C%20-71.0570548%5D%2C%20%5B42.3927767%2C%20-71.5587105%5D%2C%20%5B42.4121171%2C%20-71.10824989999999%5D%2C%20%5B42.04510990000001%2C%20-71.0106535%5D%2C%20%5B42.342911%2C%20-71.55854699999999%5D%2C%20%5B42.18563169999999%2C%20-71.20157%5D%2C%20%5B42.3670453%2C%20-71.0542919%5D%2C%20%5B42.3900365%2C%20-71.5009876%5D%2C%20%5B41.9584706%2C%20-70.9164108%5D%2C%20%5B42.4188421%2C%20-71.1052121%5D%2C%20%5B42.184867%2C%20-73.2967835%5D%2C%20%5B42.4890457%2C%20-71.5462089%5D%2C%20%5B42.3889907%2C%20-71.56442059999999%5D%2C%20%5B42.5595577%2C%20-70.960717%5D%2C%20%5B41.617948%2C%20-70.914203%5D%2C%20%5B42.543292%2C%20-71.638599%5D%2C%20%5B42.3494112%2C%20-71.0823916%5D%2C%20%5B42.1519588%2C%20-71.103352%5D%2C%20%5B42.5602658%2C%20-71.4348993%5D%2C%20%5B41.9383043%2C%20-71.33244599999999%5D%2C%20%5B42.3946824%2C%20-71.05446599999999%5D%2C%20%5B42.3422901%2C%20-71.1434823%5D%2C%20%5B42.1534043%2C%20-72.7507227%5D%2C%20%5B42.1686858%2C%20-72.547749%5D%2C%20%5B42.5465741%2C%20-71.74553709999999%5D%2C%20%5B41.7794685%2C%20-71.09525289999999%5D%2C%20%5B41.2836173%2C%20-70.09885609999999%5D%2C%20%5B42.4055958%2C%20-70.99162079999999%5D%2C%20%5B42.38839979999999%2C%20-71.09584579999999%5D%2C%20%5B42.1477326%2C%20-72.6131743%5D%2C%20%5B42.4658257%2C%20-72.609388%5D%2C%20%5B42.1111589%2C%20-72.5855936%5D%2C%20%5B42.3696342%2C%20-71.0752237%5D%2C%20%5B42.1652586%2C%20-71.5064112%5D%2C%20%5B42.3565117%2C%20-73.28241009999999%5D%2C%20%5B41.28013929999999%2C%20-70.1049033%5D%2C%20%5B38.5495758%2C%20-76.0580015%5D%2C%20%5B38.6798168%2C%20-76.8735599%5D%2C%20%5B38.2431858%2C%20-76.4562558%5D%2C%20%5B39.3986927%2C%20-76.47924019999999%5D%2C%20%5B38.9876042%2C%20-77.02995419999999%5D%2C%20%5B38.62955669999999%2C%20-76.9004069%5D%2C%20%5B38.67827339999999%2C%20-76.8729068%5D%2C%20%5B38.7878766%2C%20-76.2247253%5D%2C%20%5B38.6463091%2C%20-76.8849772%5D%2C%20%5B39.2521771%2C%20-76.6478683%5D%2C%20%5B38.8889798%2C%20-76.8567259%5D%2C%20%5B38.7796676%2C%20-76.0788036%5D%2C%20%5B39.1014186%2C%20-76.7205073%5D%2C%20%5B39.2919416%2C%20-76.61713569999999%5D%2C%20%5B39.5258305%2C%20-75.8145463%5D%2C%20%5B39.2727682%2C%20-76.6015486%5D%2C%20%5B38.4820509%2C%20-76.7754825%5D%2C%20%5B39.1702167%2C%20-77.2048562%5D%2C%20%5B39.1304972%2C%20-76.7384103%5D%2C%20%5B39.210741%2C%20-76.689262%5D%2C%20%5B38.8421427%2C%20-76.9676526%5D%2C%20%5B38.501559%2C%20-76.7744081%5D%2C%20%5B38.9701721%2C%20-76.7669768%5D%2C%20%5B39.188581%2C%20-76.5949519%5D%2C%20%5B39.6023055%2C%20-75.7897441%5D%2C%20%5B38.7846901%2C%20-76.7960205%5D%2C%20%5B39.275267%2C%20-76.56782299999999%5D%2C%20%5B39.5716007%2C%20-76.3809598%5D%2C%20%5B38.6186528%2C%20-76.9107977%5D%2C%20%5B38.3344949%2C%20-75.086919%5D%2C%20%5B38.4558876%2C%20-77.05733910000001%5D%2C%20%5B39.3996775%2C%20-76.6098444%5D%2C%20%5B39.1351175%2C%20-76.5862749%5D%2C%20%5B38.2879921%2C%20-76.4789971%5D%2C%20%5B39.2835465%2C%20-76.3968043%5D%2C%20%5B39.10088330000001%2C%20-76.8156659%5D%2C%20%5B38.8567846%2C%20-76.85243299999999%5D%2C%20%5B39.0104145%2C%20-76.92946529999999%5D%2C%20%5B38.6186528%2C%20-76.9107977%5D%2C%20%5B39.6626859%2C%20-77.73512099999999%5D%2C%20%5B39.3118298%2C%20-76.6297414%5D%2C%20%5B39.104317%2C%20-77.2915613%5D%2C%20%5B38.6659806%2C%20-77.0165932%5D%2C%20%5B39.6980188%2C%20-77.31759%5D%2C%20%5B39.36758409999999%2C%20-76.58099010000001%5D%2C%20%5B38.81098%2C%20-76.96585%5D%2C%20%5B39.1738642%2C%20-76.7727403%5D%2C%20%5B39.615505%2C%20-75.9823127%5D%2C%20%5B38.8206%2C%20-76.935193%5D%2C%20%5B38.327348%2C%20-76.546497%5D%2C%20%5B38.6186528%2C%20-76.9107977%5D%2C%20%5B38.9707312%2C%20-76.1888714%5D%2C%20%5B39.3765023%2C%20-77.4189619%5D%2C%20%5B39.591799%2C%20-75.940373%5D%2C%20%5B39.1673476%2C%20-76.6226453%5D%2C%20%5B38.8788288%2C%20-76.8575018%5D%2C%20%5B39.0503498%2C%20-76.9380639%5D%2C%20%5B39.2089784%2C%20-76.6212457%5D%2C%20%5B39.16309529999999%2C%20-77.2285702%5D%2C%20%5B39.526462%2C%20-76.64712399999999%5D%2C%20%5B39.6003847%2C%20-75.8065203%5D%2C%20%5B39.3864655%2C%20-77.409094%5D%2C%20%5B39.3214927%2C%20-76.68956759999999%5D%2C%20%5B39.4459798%2C%20-77.38716939999999%5D%2C%20%5B39.554729%2C%20-77.0425547%5D%2C%20%5B39.1664694%2C%20-77.17012989999999%5D%2C%20%5B38.9673322%2C%20-76.82992329999999%5D%2C%20%5B38.3668449%2C%20-75.5398159%5D%2C%20%5B39.6283246%2C%20-75.8007458%5D%2C%20%5B39.1198663%2C%20-76.8271818%5D%2C%20%5B38.7737536%2C%20-76.0726857%5D%2C%20%5B39.321587%2C%20-76.689342%5D%2C%20%5B38.772753%2C%20-76.059636%5D%2C%20%5B38.57036799999999%2C%20-76.0762194%5D%2C%20%5B39.0391858%2C%20-76.6732603%5D%2C%20%5B39.575909%2C%20-76.371858%5D%2C%20%5B39.3702694%2C%20-76.4620157%5D%2C%20%5B38.3739507%2C%20-75.5541372%5D%2C%20%5B39.5224693%2C%20-77.6698242%5D%2C%20%5B39.1437673%2C%20-76.8080308%5D%2C%20%5B38.6214498%2C%20-76.90319319999999%5D%2C%20%5B38.432915%2C%20-75.56496500000002%5D%2C%20%5B39.1511029%2C%20-76.8021497%5D%2C%20%5B39.1738729%2C%20-76.8574118%5D%2C%20%5B39.6042495%2C%20-75.785657%5D%2C%20%5B39.4020039%2C%20-76.57221229999999%5D%2C%20%5B39.556825%2C%20-78.86101889999999%5D%2C%20%5B36.1309294%2C%20-95.9877606%5D%2C%20%5B38.9080949%2C%20-76.8434683%5D%2C%20%5B38.6409572%2C%20-76.89884769999999%5D%2C%20%5B38.5882413%2C%20-76.93498679999999%5D%2C%20%5B39.0013563%2C%20-75.7923927%5D%2C%20%5B38.9348882%2C%20-76.71872599999999%5D%2C%20%5B38.3323163%2C%20-75.5713261%5D%2C%20%5B38.291629%2C%20-76.4923195%5D%2C%20%5B39.4673822%2C%20-76.2378638%5D%2C%20%5B39.3566004%2C%20-76.7643105%5D%2C%20%5B38.9323503%2C%20-76.5654491%5D%2C%20%5B39.615505%2C%20-75.9823127%5D%2C%20%5B38.9151068%2C%20-76.71802699999999%5D%2C%20%5B39.2299927%2C%20-76.8273169%5D%2C%20%5B39.0893094%2C%20-76.6241679%5D%2C%20%5B38.4411607%2C%20-76.7363305%5D%2C%20%5B38.6214801%2C%20-76.9097481%5D%2C%20%5B38.5858056%2C%20-76.9541167%5D%2C%20%5B39.4135554%2C%20-77.40752839999999%5D%2C%20%5B39.3998651%2C%20-76.6050151%5D%2C%20%5B39.2633494%2C%20-76.5347451%5D%2C%20%5B38.804303%2C%20-76.8408834%5D%2C%20%5B39.2056038%2C%20-76.8165027%5D%2C%20%5B38.6297031%2C%20-76.9174494%5D%2C%20%5B39.0617185%2C%20-76.533453%5D%2C%20%5B38.62979780000001%2C%20-76.9173502%5D%2C%20%5B39.3577597%2C%20-77.4137781%5D%2C%20%5B38.6186528%2C%20-76.9107977%5D%2C%20%5B38.92034719999999%2C%20-76.859619%5D%2C%20%5B39.2259859%2C%20-76.8024877%5D%2C%20%5B38.9716335%2C%20-76.8488976%5D%2C%20%5B39.4509891%2C%20-77.4016094%5D%2C%20%5B38.751868%2C%20-76.31832760000002%5D%2C%20%5B39.1028516%2C%20-76.872541%5D%2C%20%5B38.5595126%2C%20-76.96791569999999%5D%2C%20%5B39.1648095%2C%20-76.6048331%5D%2C%20%5B39.6042495%2C%20-75.785657%5D%2C%20%5B39.1734966%2C%20-76.8583127%5D%2C%20%5B39.6042495%2C%20-75.785657%5D%2C%20%5B38.927903%2C%20-76.5625953%5D%2C%20%5B39.0232636%2C%20-76.47339140000001%5D%2C%20%5B39.3978653%2C%20-76.60618389999999%5D%2C%20%5B39.1636078%2C%20-77.1609637%5D%2C%20%5B39.086664%2C%20-76.875534%5D%2C%20%5B39.4265568%2C%20-77.3857872%5D%2C%20%5B39.4410341%2C%20-77.37807769999999%5D%2C%20%5B39.4115261%2C%20-77.38394029999999%5D%2C%20%5B38.9900031%2C%20-77.02367890000001%5D%2C%20%5B39.3250268%2C%20-76.74609670000001%5D%2C%20%5B39.17620400000001%2C%20-77.2548388%5D%2C%20%5B38.8345427%2C%20-76.8725465%5D%2C%20%5B33.1086335%2C%20-96.7341833%5D%2C%20%5B39.647251%2C%20-78.9289859%5D%2C%20%5B30.2032682%2C%20-97.71418899999999%5D%2C%20%5B38.696119%2C%20-76.8086842%5D%2C%20%5B38.5031025%2C%20-76.9942457%5D%2C%20%5B38.6186528%2C%20-76.9107977%5D%2C%20%5B39.06512%2C%20-76.090138%5D%2C%20%5B30.3528001%2C%20-97.6751896%5D%2C%20%5B39.060092%2C%20-94.5901341%5D%2C%20%5B39.1599053%2C%20-76.5660442%5D%2C%20%5B38.7757635%2C%20-77.0171534%5D%2C%20%5B38.6112157%2C%20-76.9022185%5D%2C%20%5B39.0718754%2C%20-76.6630193%5D%2C%20%5B38.5357678%2C%20-76.9837957%5D%2C%20%5B39.305074%2C%20-76.534812%5D%2C%20%5B37.2360436%2C%20-95.70604929999999%5D%2C%20%5B39.222667%2C%20-76.078521%5D%2C%20%5B43.9146268%2C%20-69.8638775%5D%2C%20%5B44.12380590000001%2C%20-70.2246122%5D%2C%20%5B44.1085528%2C%20-69.1157257%5D%2C%20%5B43.6833172%2C%20-70.3333325%5D%2C%20%5B43.6595364%2C%20-70.249658%5D%2C%20%5B44.10272920000001%2C%20-69.10638759999999%5D%2C%20%5B44.10352959999999%2C%20-69.10614199999999%5D%2C%20%5B43.7955585%2C%20-70.1750816%5D%2C%20%5B44.07894220000001%2C%20-70.1697348%5D%2C%20%5B43.2497104%2C%20-70.5966297%5D%2C%20%5B44.3205551%2C%20-69.7747146%5D%2C%20%5B43.5156708%2C%20-70.4285341%5D%2C%20%5B43.7315172%2C%20-70.2983055%5D%2C%20%5B43.479297%2C%20-70.4865378%5D%2C%20%5B46.1413763%2C%20-67.83887709999999%5D%2C%20%5B43.7160159%2C%20-70.23639539999999%5D%2C%20%5B43.6417972%2C%20-70.3401037%5D%2C%20%5B43.8397022%2C%20-70.4465326%5D%2C%20%5B44.3680343%2C%20-69.8032188%5D%2C%20%5B43.6403164%2C%20-70.3306856%5D%2C%20%5B44.0912601%2C%20-70.22080849999999%5D%2C%20%5B44.8350202%2C%20-68.7497434%5D%2C%20%5B45.9198933%2C%20-68.52726539999999%5D%2C%20%5B43.9614618%2C%20-70.01176989999999%5D%2C%20%5B44.11708910000001%2C%20-70.22511279999999%5D%2C%20%5B46.8155157%2C%20-67.9969989%5D%2C%20%5B43.641298%2C%20-70.3312535%5D%2C%20%5B43.3947659%2C%20-70.5291505%5D%2C%20%5B44.07622%2C%20-70.1841924%5D%2C%20%5B43.9304099%2C%20-69.81603849999999%5D%2C%20%5B45.2656815%2C%20-69.9943684%5D%2C%20%5B44.6610541%2C%20-70.1530088%5D%2C%20%5B42.283216%2C%20-83.786608%5D%2C%20%5B42.6246749%2C%20-83.9979182%5D%2C%20%5B42.6427296%2C%20-83.3271333%5D%2C%20%5B43.0677192%2C%20-83.31891279999999%5D%2C%20%5B42.2937951%2C%20-85.61051909999999%5D%2C%20%5B42.131508%2C%20-83.78535749999999%5D%2C%20%5B42.28012440000001%2C%20-83.7792446%5D%2C%20%5B42.4878768%2C%20-83.2607618%5D%2C%20%5B42.6397643%2C%20-83.1995622%5D%2C%20%5B42.447812%2C%20-83.08269229999999%5D%2C%20%5B42.4871334%2C%20-83.1446048%5D%2C%20%5B43.0274624%2C%20-83.63625619999999%5D%2C%20%5B42.6068839%2C%20-83.9276379%5D%2C%20%5B42.77275789999999%2C%20-84.48558899999999%5D%2C%20%5B42.5525262%2C%20-83.6179183%5D%2C%20%5B42.4681788%2C%20-83.3893301%5D%2C%20%5B42.2777676%2C%20-83.5106291%5D%2C%20%5B43.41585389999999%2C%20-84.0156683%5D%2C%20%5B42.5039935%2C%20-83.2233712%5D%2C%20%5B42.8047283%2C%20-83.7352282%5D%2C%20%5B42.3522238%2C%20-83.0618238%5D%2C%20%5B42.7123149%2C%20-83.0360537%5D%2C%20%5B42.131508%2C%20-83.78535749999999%5D%2C%20%5B43.0147008%2C%20-86.1955169%5D%2C%20%5B42.3783474%2C%20-83.744597%5D%2C%20%5B42.7304997%2C%20-84.41033139999999%5D%2C%20%5B42.8096599%2C%20-86.0841787%5D%2C%20%5B42.6102437%2C%20-82.95408700000002%5D%2C%20%5B42.597146%2C%20-82.95390499999999%5D%2C%20%5B42.5311946%2C%20-83.79160189999999%5D%2C%20%5B42.635115%2C%20-83.201707%5D%2C%20%5B43.44311099999999%2C%20-84.0332641%5D%2C%20%5B42.883036%2C%20-85.6054978%5D%2C%20%5B42.268721%2C%20-83.7714079%5D%2C%20%5B44.62804819999999%2C%20-86.2423173%5D%2C%20%5B42.2139405%2C%20-83.74788509999999%5D%2C%20%5B41.8877009%2C%20-84.05927199999999%5D%2C%20%5B43.0029744%2C%20-85.5917381%5D%2C%20%5B42.5288814%2C%20-83.3782576%5D%2C%20%5B42.6910417%2C%20-83.13371599999999%5D%2C%20%5B42.3200438%2C%20-83.07181899999999%5D%2C%20%5B42.6872115%2C%20-82.9206629%5D%2C%20%5B42.2513221%2C%20-83.2713811%5D%2C%20%5B42.3180399%2C%20-84.020521%5D%2C%20%5B42.2762636%2C%20-83.46600719999999%5D%2C%20%5B43.2063889%2C%20-86.26161130000001%5D%2C%20%5B42.4841124%2C%20-83.2682445%5D%2C%20%5B42.37212330000001%2C%20-83.4620135%5D%2C%20%5B42.3156245%2C%20-83.0801767%5D%2C%20%5B42.2139405%2C%20-83.74788509999999%5D%2C%20%5B42.37802569999999%2C%20-83.3807753%5D%2C%20%5B44.6713151%2C%20-85.6555764%5D%2C%20%5B42.2792351%2C%20-83.4119011%5D%2C%20%5B42.2362949%2C%20-83.68290929999999%5D%2C%20%5B42.4447166%2C%20-83.24976439999999%5D%2C%20%5B42.743945%2C%20-84.6530442%5D%2C%20%5B42.4868313%2C%20-83.14522819999999%5D%2C%20%5B42.2698814%2C%20-83.26941630000002%5D%2C%20%5B42.95420240000001%2C%20-85.68217120000001%5D%2C%20%5B42.2115266%2C%20-83.73742829999999%5D%2C%20%5B42.911774%2C%20-85.530605%5D%2C%20%5B43.0854799%2C%20-83.5182367%5D%2C%20%5B42.0957154%2C%20-83.6618772%5D%2C%20%5B43.0329706%2C%20-82.4577587%5D%2C%20%5B42.6729528%2C%20-83.226427%5D%2C%20%5B42.37197159999999%2C%20-83.44788969999999%5D%2C%20%5B42.0730324%2C%20-83.27213359999999%5D%2C%20%5B42.6265978%2C%20-82.97779299999999%5D%2C%20%5B42.6773305%2C%20-83.2556187%5D%2C%20%5B42.36120349999999%2C%20-83.080596%5D%2C%20%5B41.8877009%2C%20-84.05927199999999%5D%2C%20%5B42.257725%2C%20-86.34366410000001%5D%2C%20%5B42.54246149999999%2C%20-83.379886%5D%2C%20%5B42.52702780000001%2C%20-82.9157402%5D%2C%20%5B42.6818088%2C%20-84.28281810000001%5D%2C%20%5B42.76807609999999%2C%20-86.11751149999999%5D%2C%20%5B44.2768103%2C%20-84.22516259999999%5D%2C%20%5B42.7458897%2C%20-83.378554%5D%2C%20%5B44.6713078%2C%20-85.65528789999999%5D%2C%20%5B42.4490387%2C%20-83.2868889%5D%2C%20%5B43.573893%2C%20-84.2382717%5D%2C%20%5B42.5775584%2C%20-83.45470879999999%5D%2C%20%5B42.6700284%2C%20-83.2286005%5D%2C%20%5B42.53179799999999%2C%20-82.90821059999999%5D%2C%20%5B42.6282399%2C%20-82.95559879999999%5D%2C%20%5B42.6488112%2C%20-83.5373496%5D%2C%20%5B42.8186245%2C%20-83.0000186%5D%2C%20%5B42.859317%2C%20-83.744519%5D%2C%20%5B42.9867769%2C%20-83.74165409999999%5D%2C%20%5B42.0765655%2C%20-78.1792434%5D%2C%20%5B42.6504476%2C%20-83.5148502%5D%2C%20%5B43.61329569999999%2C%20-84.2138354%5D%2C%20%5B42.5218192%2C%20-83.54317429999999%5D%2C%20%5B42.5240233%2C%20-82.90996170000001%5D%2C%20%5B42.7275527%2C%20-83.2435923%5D%2C%20%5B42.0627207%2C%20-83.2547616%5D%2C%20%5B42.9613682%2C%20-83.7673829%5D%2C%20%5B43.2295464%2C%20-86.2729724%5D%2C%20%5B42.2117076%2C%20-83.7393372%5D%2C%20%5B41.8379841%2C%20-86.4408777%5D%2C%20%5B42.680509%2C%20-83.1341319%5D%2C%20%5B42.4897546%2C%20-83.5154865%5D%2C%20%5B42.63410390000001%2C%20-82.8546336%5D%2C%20%5B42.9416371%2C%20-83.31933049999999%5D%2C%20%5B42.59402619999999%2C%20-83.9365187%5D%2C%20%5B42.2705595%2C%20-84.5999542%5D%2C%20%5B42.4999468%2C%20-83.5427374%5D%2C%20%5B43.8120777%2C%20-83.0037186%5D%2C%20%5B42.2673234%2C%20-83.73525939999999%5D%2C%20%5B42.8017316%2C%20-83.54395579999999%5D%2C%20%5B42.330154%2C%20-83.0716422%5D%2C%20%5B42.3801382%2C%20-83.2993008%5D%2C%20%5B42.25869850000001%2C%20-83.34837999999999%5D%2C%20%5B42.216508%2C%20-83.676547%5D%2C%20%5B43.602501%2C%20-83.9157797%5D%2C%20%5B42.7053642%2C%20-83.34873669999999%5D%2C%20%5B42.5121464%2C%20-83.3300694%5D%2C%20%5B41.8033186%2C%20-83.4483492%5D%2C%20%5B42.3887208%2C%20-83.06373889999999%5D%2C%20%5B43.8014456%2C%20-82.9846795%5D%2C%20%5B42.30222939999999%2C%20-85.22040419999999%5D%2C%20%5B42.2446803%2C%20-85.5796208%5D%2C%20%5B42.8040396%2C%20-86.0901889%5D%2C%20%5B42.29254299999999%2C%20-83.8352419%5D%2C%20%5B42.2903414%2C%20-85.6267446%5D%2C%20%5B42.2365393%2C%20-83.6768943%5D%2C%20%5B42.3272784%2C%20-83.1684174%5D%2C%20%5B42.6265961%2C%20-82.97869580000001%5D%2C%20%5B42.5266536%2C%20-82.94981969999999%5D%2C%20%5B42.6113888%2C%20-83.2484588%5D%2C%20%5B42.9134367%2C%20-85.6172241%5D%2C%20%5B42.0994738%2C%20-83.19121229999999%5D%2C%20%5B42.52702780000001%2C%20-82.9157402%5D%2C%20%5B42.201069%2C%20-83.24876069999999%5D%2C%20%5B45.62967159999999%2C%20-84.4790763%5D%2C%20%5B42.5324284%2C%20-83.16448129999999%5D%2C%20%5B42.3297786%2C%20-83.08419219999999%5D%2C%20%5B42.7869262%2C%20-83.73863639999999%5D%2C%20%5B42.3156819%2C%20-83.1794705%5D%2C%20%5B44.24619570000001%2C%20-85.3682697%5D%2C%20%5B43.2484413%2C%20-83.7830784%5D%2C%20%5B42.7302376%2C%20-84.4221711%5D%2C%20%5B42.3258762%2C%20-83.3879948%5D%2C%20%5B42.6386989%2C%20-83.20726239999999%5D%2C%20%5B44.7814411%2C%20-85.6379068%5D%2C%20%5B42.2504589%2C%20-83.2701106%5D%2C%20%5B42.2015961%2C%20-85.62001959999999%5D%2C%20%5B42.4796844%2C%20-83.2486544%5D%2C%20%5B42.707804%2C%20-82.9771354%5D%2C%20%5B42.9303404%2C%20-85.3719938%5D%2C%20%5B42.218591%2C%20-83.7303732%5D%2C%20%5B42.0566156%2C%20-86.4571148%5D%2C%20%5B42.1319872%2C%20-83.2257612%5D%2C%20%5B42.4141935%2C%20-83.4255987%5D%2C%20%5B43.1749033%2C%20-83.72279280000001%5D%2C%20%5B43.2492101%2C%20-83.76930589999999%5D%2C%20%5B42.3629743%2C%20-83.07997259999999%5D%2C%20%5B42.3587763%2C%20-83.4393844%5D%2C%20%5B30.2126756%2C%20-97.69245219999999%5D%2C%20%5B42.5699366%2C%20-86.191222%5D%2C%20%5B42.5962774%2C%20-83.9035304%5D%2C%20%5B42.7086811%2C%20-83.24244980000002%5D%2C%20%5B41.96223%2C%20-83.6686289%5D%2C%20%5B42.54627199999999%2C%20-83.027637%5D%2C%20%5B41.7629543%2C%20-83.57068439999999%5D%2C%20%5B42.9053889%2C%20-85.79055559999999%5D%2C%20%5B42.2061243%2C%20-83.68447689999999%5D%2C%20%5B26.6732381%2C%20-80.7768613%5D%2C%20%5B42.5792014%2C%20-84.8057043%5D%2C%20%5B42.5506961%2C%20-83.12183979999999%5D%2C%20%5B42.105562%2C%20-83.676458%5D%2C%20%5B42.594114%2C%20-82.7932158%5D%2C%20%5B38.8771185%2C%20-94.8349494%5D%2C%20%5B42.6414737%2C%20-82.9183724%5D%2C%20%5B42.5133707%2C%20-83.2038728%5D%2C%20%5B42.4580931%2C%20-83.2474615%5D%2C%20%5B42.506275%2C%20-83.589778%5D%2C%20%5B42.5003491%2C%20-83.35940769999999%5D%2C%20%5B42.53518709999999%2C%20-83.10212349999999%5D%2C%20%5B42.291859%2C%20-83.8754809%5D%2C%20%5B42.52615489999999%2C%20-83.35499949999999%5D%2C%20%5B45.74991500000001%2C%20-85.5111132%5D%2C%20%5B42.8017316%2C%20-83.54395579999999%5D%2C%20%5B42.38389979999999%2C%20-83.0374083%5D%2C%20%5B42.7607331%2C%20-86.0875221%5D%2C%20%5B43.5924031%2C%20-83.8441888%5D%2C%20%5B42.5206715%2C%20-83.10583150000001%5D%2C%20%5B42.6330937%2C%20-83.7530482%5D%2C%20%5B42.9685774%2C%20-82.4581819%5D%2C%20%5B42.0061429%2C%20-83.97255369999999%5D%2C%20%5B42.7138047%2C%20-83.0353379%5D%2C%20%5B42.4124321%2C%20-83.4562689%5D%2C%20%5B47.1135731%2C%20-88.59014049999999%5D%2C%20%5B42.2583013%2C%20-85.52738870000002%5D%2C%20%5B42.7749598%2C%20-84.5002372%5D%2C%20%5B42.32703739999999%2C%20-83.8035364%5D%2C%20%5B42.5433185%2C%20-83.20839219999999%5D%2C%20%5B42.7406479%2C%20-84.5996912%5D%2C%20%5B42.6246749%2C%20-83.9979182%5D%2C%20%5B42.73411189999999%2C%20-84.5437195%5D%2C%20%5B42.2995297%2C%20-84.02810149999999%5D%2C%20%5B42.4897546%2C%20-83.5154865%5D%2C%20%5B42.5438389%2C%20-83.21073559999999%5D%2C%20%5B42.478932%2C%20-85.7796097%5D%2C%20%5B42.6424371%2C%20-83.1677474%5D%2C%20%5B33.988212%2C%20-117.6982418%5D%2C%20%5B42.4962774%2C%20-83.4566323%5D%2C%20%5B42.6414737%2C%20-82.9183724%5D%2C%20%5B42.3558011%2C%20-82.98883500000001%5D%2C%20%5B42.5975989%2C%20-83.94302479999999%5D%2C%20%5B42.710781%2C%20-84.54914%5D%2C%20%5B42.42387129999999%2C%20-83.76262469999999%5D%2C%20%5B42.7381222%2C%20-84.6781292%5D%2C%20%5B43.0595714%2C%20-83.8137383%5D%2C%20%5B42.49663290000001%2C%20-83.3801075%5D%2C%20%5B42.7906846%2C%20-86.1028134%5D%2C%20%5B42.5100668%2C%20-83.9494253%5D%2C%20%5B42.9773643%2C%20-82.42046189999999%5D%2C%20%5B42.3359654%2C%20-85.294304%5D%2C%20%5B44.7116135%2C%20-85.6022443%5D%2C%20%5B42.4516628%2C%20-82.96536189999999%5D%2C%20%5B42.9942753%2C%20-83.72794619999999%5D%2C%20%5B42.382864%2C%20-83.5175988%5D%2C%20%5B42.62878509999999%2C%20-82.9432269%5D%2C%20%5B42.3042015%2C%20-83.9769745%5D%2C%20%5B44.7676788%2C%20-85.63280130000001%5D%2C%20%5B42.5000313%2C%20-83.5088529%5D%2C%20%5B42.848514%2C%20-85.53470999999999%5D%2C%20%5B42.2590074%2C%20-83.6598611%5D%2C%20%5B42.5841232%2C%20-82.9509119%5D%2C%20%5B41.4652271%2C%20-87.33677039999999%5D%2C%20%5B42.513647%2C%20-83.32992329999999%5D%2C%20%5B41.9288622%2C%20-83.3562852%5D%2C%20%5B47.9298508%2C%20-97.0237913%5D%2C%20%5B44.91525499999999%2C%20-92.96537029999999%5D%2C%20%5B47.93148679999999%2C%20-97.0240772%5D%2C%20%5B45.0841617%2C%20-93.0555643%5D%2C%20%5B45.246507%2C%20-94.54679910000002%5D%2C%20%5B45.551839%2C%20-94.2023904%5D%2C%20%5B44.8047203%2C%20-93.1064177%5D%2C%20%5B45.2988966%2C%20-93.7921397%5D%2C%20%5B45.246507%2C%20-94.54679910000002%5D%2C%20%5B44.70733389999999%2C%20-93.41187%5D%2C%20%5B45.2134605%2C%20-93.6222047%5D%2C%20%5B45.0415411%2C%20-93.79142329999999%5D%2C%20%5B44.0659006%2C%20-92.49809479999999%5D%2C%20%5B45.109559%2C%20-93.30630699999999%5D%2C%20%5B45.1984655%2C%20-93.3935913%5D%2C%20%5B45.1797037%2C%20-93.52651550000002%5D%2C%20%5B45.2938369%2C%20-93.79825849999999%5D%2C%20%5B44.8329217%2C%20-93.8005113%5D%2C%20%5B47.50562900000001%2C%20-94.8886891%5D%2C%20%5B45.2731581%2C%20-93.7896361%5D%2C%20%5B45.0360161%2C%20-93.4062127%5D%2C%20%5B45.0619616%2C%20-93.1463462%5D%2C%20%5B45.3014378%2C%20-93.799334%5D%2C%20%5B44.033318%2C%20-92.508385%5D%2C%20%5B45.4660496%2C%20-94.3556047%5D%2C%20%5B45.905034%2C%20-95.3380171%5D%2C%20%5B45.0609098%2C%20-93.32562779999999%5D%2C%20%5B46.3609957%2C%20-94.19878849999999%5D%2C%20%5B44.0267624%2C%20-92.4692891%5D%2C%20%5B45.0006784%2C%20-93.23283909999999%5D%2C%20%5B44.8266917%2C%20-93.29589759999999%5D%2C%20%5B43.8684261%2C%20-92.494866%5D%2C%20%5B45.1053627%2C%20-93.3564201%5D%2C%20%5B44.19100170000001%2C%20-93.998047%5D%2C%20%5B45.267409%2C%20-93.68915199999999%5D%2C%20%5B45.3321546%2C%20-93.6957471%5D%2C%20%5B45.0984446%2C%20-93.26200539999999%5D%2C%20%5B44.717352%2C%20-93.1768012%5D%2C%20%5B44.86290289999999%2C%20-93.4859367%5D%2C%20%5B45.88179969999999%2C%20-95.37846309999999%5D%2C%20%5B47.0352079%2C%20-91.64419409999999%5D%2C%20%5B44.8480651%2C%20-93.43950199999999%5D%2C%20%5B44.9259004%2C%20-92.9668152%5D%2C%20%5B44.0685441%2C%20-93.5102957%5D%2C%20%5B44.18575269999999%2C%20-93.9385423%5D%2C%20%5B44.4582983%2C%20-93.161604%5D%2C%20%5B45.30346189999999%2C%20-93.5982642%5D%2C%20%5B45.1635544%2C%20-93.6541927%5D%2C%20%5B44.6918696%2C%20-93.2877986%5D%2C%20%5B44.1817991%2C%20-93.9600062%5D%2C%20%5B44.3605401%2C%20-93.2871303%5D%2C%20%5B44.19100170000001%2C%20-93.998047%5D%2C%20%5B45.2380272%2C%20-93.6405235%5D%2C%20%5B45.3193002%2C%20-93.2899054%5D%2C%20%5B44.9685381%2C%20-93.2497211%5D%2C%20%5B44.0354974%2C%20-92.4924138%5D%2C%20%5B44.4495648%2C%20-95.7581259%5D%2C%20%5B45.2392694%2C%20-93.6591334%5D%2C%20%5B44.8703457%2C%20-94.37823259999999%5D%2C%20%5B44.9742502%2C%20-93.2795676%5D%2C%20%5B44.7174815%2C%20-93.2034583%5D%2C%20%5B46.80620220000001%2C%20-92.1677764%5D%2C%20%5B44.0467384%2C%20-91.6684777%5D%2C%20%5B43.6222832%2C%20-93.3561087%5D%2C%20%5B45.1246502%2C%20-93.2642154%5D%2C%20%5B45.8666545%2C%20-95.3593126%5D%2C%20%5B45.6163089%2C%20-94.1985883%5D%2C%20%5B44.858072%2C%20-93.127247%5D%2C%20%5B45.2850692%2C%20-93.7935146%5D%2C%20%5B44.7318541%2C%20-93.12775119999999%5D%2C%20%5B46.8766136%2C%20-96.6962918%5D%2C%20%5B45.09985%2C%20-93.43382840000001%5D%2C%20%5B44.857674%2C%20-92.92105199999999%5D%2C%20%5B44.1848448%2C%20-93.94502829999999%5D%2C%20%5B44.00231369999999%2C%20-92.48462549999999%5D%2C%20%5B45.0599286%2C%20-93.41108469999999%5D%2C%20%5B45.0774151%2C%20-93.3935352%5D%2C%20%5B43.6828999%2C%20-92.9899008%5D%2C%20%5B45.5199191%2C%20-94.2273663%5D%2C%20%5B45.0612767%2C%20-93.20394639999999%5D%2C%20%5B44.6453255%2C%20-93.2991799%5D%2C%20%5B43.867464%2C%20-92.496673%5D%2C%20%5B44.862935%2C%20-93.43295649999999%5D%2C%20%5B44.1505638%2C%20-94.0453951%5D%2C%20%5B45.2964692%2C%20-93.7842313%5D%2C%20%5B44.861308%2C%20-93.3299849%5D%2C%20%5B46.3323894%2C%20-94.2575638%5D%2C%20%5B45.0152978%2C%20-93.24769219999999%5D%2C%20%5B46.8063465%2C%20-92.1548066%5D%2C%20%5B44.9983093%2C%20-93.4555836%5D%2C%20%5B44.1731345%2C%20-93.90791469999999%5D%2C%20%5B47.4986777%2C%20-94.9023105%5D%2C%20%5B45.5734711%2C%20-93.2067067%5D%2C%20%5B45.2938369%2C%20-93.79825849999999%5D%2C%20%5B45.2850692%2C%20-93.7935146%5D%2C%20%5B44.85922859999999%2C%20-93.53198019999999%5D%2C%20%5B44.9768287%2C%20-93.0655519%5D%2C%20%5B45.55342659999999%2C%20-94.18759810000002%5D%2C%20%5B43.9690838%2C%20-92.4626748%5D%2C%20%5B44.0799473%2C%20-93.7680755%5D%2C%20%5B45.0378209%2C%20-93.1000219%5D%2C%20%5B37.0423805%2C%20-95.57917739999999%5D%2C%20%5B45.3337468%2C%20-93.73531779999999%5D%2C%20%5B44.9707035%2C%20-93.27233559999999%5D%2C%20%5B45.1427664%2C%20-93.1233666%5D%2C%20%5B44.8875325%2C%20-93.28875599999999%5D%2C%20%5B44.18194889999999%2C%20-92.4193133%5D%2C%20%5B45.5079878%2C%20-94.2192443%5D%2C%20%5B46.80620220000001%2C%20-92.1677764%5D%2C%20%5B44.9461569%2C%20-92.94030599999999%5D%2C%20%5B45.1246502%2C%20-93.2642154%5D%2C%20%5B44.2902182%2C%20-93.29805309999999%5D%2C%20%5B46.3519388%2C%20-94.244439%5D%2C%20%5B45.489255%2C%20-94.1533157%5D%2C%20%5B45.5648958%2C%20-94.2902233%5D%2C%20%5B44.736489%2C%20-92.8807822%5D%2C%20%5B44.0464722%2C%20-92.52404849999999%5D%2C%20%5B46.8309883%2C%20-95.8863337%5D%2C%20%5B43.986097%2C%20-92.40542359999999%5D%2C%20%5B44.3546973%2C%20-93.96739099999999%5D%2C%20%5B45.5512579%2C%20-94.22527319999999%5D%2C%20%5B45.512441%2C%20-92.99474149999999%5D%2C%20%5B44.84398530000001%2C%20-93.5796874%5D%2C%20%5B47.817059%2C%20-90.049374%5D%2C%20%5B47.7244128%2C%20-90.4445296%5D%2C%20%5B38.6869661%2C%20-90.3657928%5D%2C%20%5B39.3907724%2C%20-94.5847721%5D%2C%20%5B39.0413261%2C%20-94.4160387%5D%2C%20%5B38.3668751%2C%20-93.75124579999999%5D%2C%20%5B36.6101005%2C%20-93.2244724%5D%2C%20%5B38.805752%2C%20-90.39278399999999%5D%2C%20%5B38.526433%2C%20-90.365121%5D%2C%20%5B38.6344879%2C%20-90.41038239999999%5D%2C%20%5B38.7227135%2C%20-90.7209773%5D%2C%20%5B38.8027818%2C%20-90.8577584%5D%2C%20%5B37.82984%2C%20-92.17909859999999%5D%2C%20%5B37.232414%2C%20-93.352577%5D%2C%20%5B38.8247893%2C%20-90.8701636%5D%2C%20%5B38.80925879999999%2C%20-94.4935775%5D%2C%20%5B38.808873%2C%20-90.910584%5D%2C%20%5B38.536713%2C%20-90.494654%5D%2C%20%5B40.7223601%2C%20-73.9918974%5D%2C%20%5B36.9018995%2C%20-91.4821482%5D%2C%20%5B38.7744024%2C%20-92.25242300000001%5D%2C%20%5B38.76204430000001%2C%20-90.53094209999999%5D%2C%20%5B38.1196877%2C%20-92.6790527%5D%2C%20%5B38.2952945%2C%20-92.5486356%5D%2C%20%5B38.744661%2C%20-90.69923899999999%5D%2C%20%5B37.2952076%2C%20-89.5735672%5D%2C%20%5B38.942785%2C%20-92.3813394%5D%2C%20%5B38.7876352%2C%20-90.6260219%5D%2C%20%5B39.2883449%2C%20-94.6753126%5D%2C%20%5B38.7103275%2C%20-90.6806161%5D%2C%20%5B38.7982051%2C%20-90.61217049999999%5D%2C%20%5B37.0894577%2C%20-94.46903290000002%5D%2C%20%5B39.1690888%2C%20-94.49458369999999%5D%2C%20%5B37.2408522%2C%20-93.3714868%5D%2C%20%5B36.7419373%2C%20-91.851914%5D%2C%20%5B38.822526%2C%20-90.874459%5D%2C%20%5B39.2669826%2C%20-94.4485361%5D%2C%20%5B38.8093463%2C%20-90.8265917%5D%2C%20%5B38.690659%2C%20-90.2624622%5D%2C%20%5B39.0410122%2C%20-94.3681558%5D%2C%20%5B38.5794084%2C%20-90.22882609999999%5D%2C%20%5B38.6783736%2C%20-90.36740619999999%5D%2C%20%5B38.91439220000001%2C%20-94.3779915%5D%2C%20%5B38.7800149%2C%20-90.5250069%5D%2C%20%5B37.1250738%2C%20-93.0737831%5D%2C%20%5B39.137034%2C%20-94.5543688%5D%2C%20%5B39.144551%2C%20-94.513656%5D%2C%20%5B38.7123695%2C%20-93.2811553%5D%2C%20%5B39.0340079%2C%20-94.357637%5D%2C%20%5B39.1898254%2C%20-94.5464871%5D%2C%20%5B38.8525512%2C%20-94.4079213%5D%2C%20%5B39.104613%2C%20-94.580298%5D%2C%20%5B38.7021833%2C%20-91.45047319999999%5D%2C%20%5B38.6383814%2C%20-90.5717806%5D%2C%20%5B38.76676519999999%2C%20-90.3950112%5D%2C%20%5B38.7688887%2C%20-90.1968942%5D%2C%20%5B38.715295%2C%20-90.684832%5D%2C%20%5B39.2459775%2C%20-94.4607523%5D%2C%20%5B38.8047968%2C%20-90.7371593%5D%2C%20%5B39.50521%2C%20-93.155962%5D%2C%20%5B36.4394111%2C%20-93.03199889999999%5D%2C%20%5B38.9042808%2C%20-90.91809959999999%5D%2C%20%5B38.7298286%2C%20-90.2748062%5D%2C%20%5B38.9359352%2C%20-94.3588413%5D%2C%20%5B38.8292208%2C%20-91.0159644%5D%2C%20%5B39.0441106%2C%20-94.4369406%5D%2C%20%5B38.9498261%2C%20-92.3353451%5D%2C%20%5B37.240555%2C%20-93.366722%5D%2C%20%5B38.619748%2C%20-90.33546299999999%5D%2C%20%5B38.9313018%2C%20-94.40105059999999%5D%2C%20%5B38.9437719%2C%20-77.061933%5D%2C%20%5B38.9497861%2C%20-94.36405719999999%5D%2C%20%5B38.6068186%2C%20-90.5875856%5D%2C%20%5B38.7897393%2C%20-90.41369619999999%5D%2C%20%5B38.3218777%2C%20-90.53767359999999%5D%2C%20%5B38.5641645%2C%20-90.2931912%5D%2C%20%5B38.5826465%2C%20-92.2171336%5D%2C%20%5B37.1417684%2C%20-94.4814663%5D%2C%20%5B37.124455%2C%20-93.301277%5D%2C%20%5B36.641073%2C%20-93.29098300000001%5D%2C%20%5B38.6250909%2C%20-90.2830436%5D%2C%20%5B38.8707212%2C%20-94.54664199999999%5D%2C%20%5B38.8012802%2C%20-90.73262179999999%5D%2C%20%5B36.6101005%2C%20-93.2244724%5D%2C%20%5B37.1415513%2C%20-93.4224555%5D%2C%20%5B37.1579465%2C%20-93.22188179999999%5D%2C%20%5B38.6974718%2C%20-90.4270882%5D%2C%20%5B38.760088%2C%20-90.804964%5D%2C%20%5B36.6642855%2C%20-93.2412751%5D%2C%20%5B39.0120753%2C%20-94.08330029999999%5D%2C%20%5B39.2376536%2C%20-94.5571034%5D%2C%20%5B38.74874519999999%2C%20-90.5777355%5D%2C%20%5B39.2742817%2C%20-94.4284064%5D%2C%20%5B38.7953924%2C%20-90.58267769999999%5D%2C%20%5B38.7748508%2C%20-90.7705903%5D%2C%20%5B37.6544468%2C%20-92.6755982%5D%2C%20%5B38.766489%2C%20-90.7745703%5D%2C%20%5B38.9567644%2C%20-92.2505778%5D%2C%20%5B38.7788145%2C%20-90.5802435%5D%2C%20%5B38.7519964%2C%20-90.4264374%5D%2C%20%5B37.1823512%2C%20-93.35397859999999%5D%2C%20%5B38.6112865%2C%20-90.28837550000001%5D%2C%20%5B39.8063642%2C%20-93.5522559%5D%2C%20%5B38.6748441%2C%20-90.6585899%5D%2C%20%5B38.8882644%2C%20-94.5263489%5D%2C%20%5B38.804352%2C%20-90.364167%5D%2C%20%5B38.6398599%2C%20-90.24770319999999%5D%2C%20%5B38.9765767%2C%20-92.74320809999999%5D%2C%20%5B39.2096206%2C%20-94.57719349999999%5D%2C%20%5B36.6353718%2C%20-93.22073189999999%5D%2C%20%5B37.3231217%2C%20-91.8070345%5D%2C%20%5B38.7676163%2C%20-90.7344371%5D%2C%20%5B38.832695%2C%20-90.5171629%5D%2C%20%5B38.78199499999999%2C%20-90.415871%5D%2C%20%5B37.8205337%2C%20-92.16468809999999%5D%2C%20%5B38.9369162%2C%20-94.53013349999999%5D%2C%20%5B37.7989635%2C%20-90.44662199999999%5D%2C%20%5B37.253255%2C%20-93.32229099999999%5D%2C%20%5B37.1387709%2C%20-93.31331399999999%5D%2C%20%5B37.1604901%2C%20-93.33647219999999%5D%2C%20%5B38.7245909%2C%20-90.7282432%5D%2C%20%5B38.832695%2C%20-90.5171629%5D%2C%20%5B37.8205337%2C%20-92.16468809999999%5D%2C%20%5B37.1621298%2C%20-93.32055659999999%5D%2C%20%5B39.2348339%2C%20-94.42188639999999%5D%2C%20%5B37.0436845%2C%20-93.32668319999999%5D%2C%20%5B38.8041968%2C%20-90.3091405%5D%2C%20%5B38.2214117%2C%20-91.1526552%5D%2C%20%5B38.9570819%2C%20-92.28677929999999%5D%2C%20%5B36.6112112%2C%20-93.2306328%5D%2C%20%5B37.0985798%2C%20-93.24109670000001%5D%2C%20%5B37.1251395%2C%20-93.2786797%5D%2C%20%5B37.0410924%2C%20-94.4967087%5D%2C%20%5B38.8210901%2C%20-90.5785641%5D%2C%20%5B37.1399479%2C%20-93.3158179%5D%2C%20%5B38.48679%2C%20-90.3046755%5D%2C%20%5B38.6687216%2C%20-90.6025815%5D%2C%20%5B38.7893097%2C%20-90.57404269999999%5D%2C%20%5B37.0945652%2C%20-94.4739409%5D%2C%20%5B38.5564493%2C%20-92.19542729999999%5D%2C%20%5B46.614963%2C%20-112.019173%5D%2C%20%5B47.0708408%2C%20-109.3997592%5D%2C%20%5B45.74413999999999%2C%20-108.571288%5D%2C%20%5B46.618402%2C%20-107.5513631%5D%2C%20%5B47.4935485%2C%20-111.2944609%5D%2C%20%5B45.32370969999999%2C%20-104.4326462%5D%2C%20%5B45.6681518%2C%20-111.0674393%5D%2C%20%5B45.7549856%2C%20-108.6178207%5D%2C%20%5B47.52019869999999%2C%20-111.3076002%5D%2C%20%5B46.883394%2C%20-112.0264209%5D%2C%20%5B46.89189229999999%2C%20-114.0416539%5D%2C%20%5B48.4123786%2C%20-114.3513283%5D%2C%20%5B47.5268623%2C%20-111.2034839%5D%2C%20%5B45.740173%2C%20-111.1441481%5D%2C%20%5B45.7554402%2C%20-108.5462447%5D%2C%20%5B46.2752848%2C%20-106.1937516%5D%2C%20%5B45.767571%2C%20-111.1832846%5D%2C%20%5B46.9122378%2C%20-114.0353792%5D%2C%20%5B45.7507549%2C%20-113.5424453%5D%2C%20%5B47.5338874%2C%20-111.2673711%5D%2C%20%5B48.3650922%2C%20-114.1466071%5D%2C%20%5B45.6837763%2C%20-111.0393052%5D%2C%20%5B45.9660678%2C%20-108.4677236%5D%2C%20%5B45.7336867%2C%20-108.6055811%5D%2C%20%5B45.789866%2C%20-108.488022%5D%2C%20%5B45.755108%2C%20-108.627824%5D%2C%20%5B45.7545912%2C%20-108.5722621%5D%2C%20%5B48.248567%2C%20-114.3294091%5D%2C%20%5B47.52429619999999%2C%20-111.3049607%5D%2C%20%5B45.7837152%2C%20-108.577419%5D%2C%20%5B45.75461139999999%2C%20-108.6240519%5D%2C%20%5B45.8115368%2C%20-108.4248111%5D%2C%20%5B46.653163%2C%20-111.89925%5D%2C%20%5B46.9228685%2C%20-114.070245%5D%2C%20%5B46.0137014%2C%20-112.5329806%5D%2C%20%5B46.61668170000001%2C%20-112.0012784%5D%2C%20%5B48.1930097%2C%20-114.3118388%5D%2C%20%5B45.1559767%2C%20-106.0503747%5D%2C%20%5B46.2341284%2C%20-107.5705445%5D%2C%20%5B47.40401%2C%20-108.095773%5D%2C%20%5B45.654731%2C%20-110.5727459%5D%2C%20%5B45.326062%2C%20-109.317705%5D%2C%20%5B46.61668170000001%2C%20-112.0012784%5D%2C%20%5B45.7163256%2C%20-111.0328448%5D%2C%20%5B45.6707352%2C%20-111.0760736%5D%2C%20%5B48.2631054%2C%20-114.3314388%5D%2C%20%5B48.7695046%2C%20-104.5088163%5D%2C%20%5B35.97289500000001%2C%20-79.8561216%5D%2C%20%5B35.43580499999999%2C%20-80.6665095%5D%2C%20%5B35.3635958%2C%20-80.6987587%5D%2C%20%5B35.706615%2C%20-81.222555%5D%2C%20%5B35.8958107%2C%20-78.647385%5D%2C%20%5B35.4511934%2C%20-80.6697859%5D%2C%20%5B35.6122751%2C%20-80.5135778%5D%2C%20%5B35.3503336%2C%20-80.70464679999999%5D%2C%20%5B35.426155%2C%20-83.46053599999999%5D%2C%20%5B35.3206198%2C%20-82.59119969999999%5D%2C%20%5B35.5181214%2C%20-80.6141955%5D%2C%20%5B35.2439247%2C%20-80.9527815%5D%2C%20%5B35.8493565%2C%20-78.2656569%5D%2C%20%5B36.0711242%2C%20-81.8703647%5D%2C%20%5B35.3611929%2C%20-80.8293016%5D%2C%20%5B35.197538%2C%20-80.633956%5D%2C%20%5B35.2104082%2C%20-81.1072712%5D%2C%20%5B35.8870989%2C%20-78.5530562%5D%2C%20%5B36.2216383%2C%20-81.6488615%5D%2C%20%5B35.6460403%2C%20-78.56534959999999%5D%2C%20%5B35.3675557%2C%20-82.46142929999999%5D%2C%20%5B36.072504%2C%20-80.103039%5D%2C%20%5B34.9938252%2C%20-80.5373773%5D%2C%20%5B35.93286560000001%2C%20-78.52936439999999%5D%2C%20%5B35.040134%2C%20-78.914689%5D%2C%20%5B35.12813939999999%2C%20-80.6980069%5D%2C%20%5B35.2584866%2C%20-80.99435919999999%5D%2C%20%5B35.99063710000001%2C%20-75.64890249999999%5D%2C%20%5B35.438364%2C%20-80.68207300000002%5D%2C%20%5B35.7048968%2C%20-81.3000096%5D%2C%20%5B35.5801221%2C%20-77.37917949999999%5D%2C%20%5B36.0699495%2C%20-79.27167450000002%5D%2C%20%5B35.7526075%2C%20-81.28947509999999%5D%2C%20%5B35.1257942%2C%20-83.0748206%5D%2C%20%5B34.984111%2C%20-78.08766299999999%5D%2C%20%5B35.2523481%2C%20-81.0479506%5D%2C%20%5B35.1522246%2C%20-80.9519404%5D%2C%20%5B35.9427638%2C%20-78.555442%5D%2C%20%5B35.4972899%2C%20-82.5300194%5D%2C%20%5B35.0248335%2C%20-80.57778119999999%5D%2C%20%5B36.0565716%2C%20-79.5314991%5D%2C%20%5B35.023218%2C%20-79.150207%5D%2C%20%5B35.8195969%2C%20-78.8484186%5D%2C%20%5B36.1221219%2C%20-81.67163649999999%5D%2C%20%5B35.7316062%2C%20-78.64842879999999%5D%2C%20%5B35.1014864%2C%20-77.0980881%5D%2C%20%5B35.7601044%2C%20-78.87497599999999%5D%2C%20%5B36.054627%2C%20-80.3937399%5D%2C%20%5B35.5515873%2C%20-80.99521109999999%5D%2C%20%5B36.099%2C%20-79.5546143%5D%2C%20%5B35.8153826%2C%20-78.6275498%5D%2C%20%5B34.9771588%2C%20-80.3843759%5D%2C%20%5B35.7763009%2C%20-80.865353%5D%2C%20%5B36.0685868%2C%20-80.3391022%5D%2C%20%5B35.2366096%2C%20-81.01563080000001%5D%2C%20%5B35.3766376%2C%20-80.84312349999999%5D%2C%20%5B35.3300089%2C%20-78.67795799999999%5D%2C%20%5B35.2638135%2C%20-81.1521416%5D%2C%20%5B35.7197506%2C%20-81.6687295%5D%2C%20%5B35.0799813%2C%20-78.9495841%5D%2C%20%5B35.2502629%2C%20-81.023552%5D%2C%20%5B36.0712466%2C%20-79.5644686%5D%2C%20%5B35.4667138%2C%20-82.5901588%5D%2C%20%5B36.052555%2C%20-79.10404199999999%5D%2C%20%5B35.2006413%2C%20-80.7243002%5D%2C%20%5B35.9146459%2C%20-78.5536635%5D%2C%20%5B36.035566%2C%20-80.38526569999999%5D%2C%20%5B35.04924099999999%2C%20-80.6454814%5D%2C%20%5B35.869761%2C%20-78.537384%5D%2C%20%5B35.4345676%2C%20-80.6534296%5D%2C%20%5B35.6065873%2C%20-77.4308772%5D%2C%20%5B35.3077364%2C%20-80.5140867%5D%2C%20%5B35.0379623%2C%20-78.917774%5D%2C%20%5B35.322861%2C%20-82.5889909%5D%2C%20%5B35.5003489%2C%20-81.7940362%5D%2C%20%5B35.5906432%2C%20-77.36467750000001%5D%2C%20%5B36.172388%2C%20-79.986837%5D%2C%20%5B35.548553%2C%20-79.179146%5D%2C%20%5B35.6127859%2C%20-80.8627036%5D%2C%20%5B35.9735482%2C%20-79.8561683%5D%2C%20%5B33.9143046%2C%20-78.3442761%5D%2C%20%5B34.2142565%2C%20-77.79265339999999%5D%2C%20%5B35.8568106%2C%20-78.6403217%5D%2C%20%5B36.0796703%2C%20-80.3332573%5D%2C%20%5B35.2398434%2C%20-79.56719439999999%5D%2C%20%5B36.3978576%2C%20-79.970021%5D%2C%20%5B35.233149%2C%20-80.833692%5D%2C%20%5B35.2705877%2C%20-81.104609%5D%2C%20%5B35.3300089%2C%20-78.67795799999999%5D%2C%20%5B36.0176494%2C%20-79.8954847%5D%2C%20%5B34.5769019%2C%20-77.397556%5D%2C%20%5B35.5981967%2C%20-78.4524591%5D%2C%20%5B36.0257365%2C%20-78.94782750000002%5D%2C%20%5B35.9070847%2C%20-78.9164246%5D%2C%20%5B35.8836217%2C%20-78.8156351%5D%2C%20%5B35.0580171%2C%20-80.6151728%5D%2C%20%5B35.309612%2C%20-80.7567328%5D%2C%20%5B35.5863632%2C%20-80.8092137%5D%2C%20%5B36.3031112%2C%20-78.5967778%5D%2C%20%5B34.79919599999999%2C%20-77.437077%5D%2C%20%5B35.171204%2C%20-80.942318%5D%2C%20%5B35.5811752%2C%20-77.3785583%5D%2C%20%5B35.07356559999999%2C%20-80.88162129999999%5D%2C%20%5B35.215921%2C%20-81.16743799999999%5D%2C%20%5B35.3693166%2C%20-80.840558%5D%2C%20%5B35.2538207%2C%20-80.46536499999999%5D%2C%20%5B36.27659149999999%2C%20-76.9779425%5D%2C%20%5B35.5568799%2C%20-80.8546874%5D%2C%20%5B36.2863339%2C%20-76.2656406%5D%2C%20%5B35.3224777%2C%20-80.84668769999999%5D%2C%20%5B34.756782%2C%20-77.468514%5D%2C%20%5B35.2349612%2C%20-80.83658109999999%5D%2C%20%5B35.6492203%2C%20-82.5507054%5D%2C%20%5B36.1309968%2C%20-80.24539659999999%5D%2C%20%5B34.917369%2C%20-80.5065429%5D%2C%20%5B36.5078625%2C%20-77.96451619999999%5D%2C%20%5B35.4476626%2C%20-82.5395295%5D%2C%20%5B36.04734750000001%2C%20-78.9004449%5D%2C%20%5B35.6004939%2C%20-80.892906%5D%2C%20%5B35.557486%2C%20-80.86697699999999%5D%2C%20%5B35.2275725%2C%20-80.9258729%5D%2C%20%5B35.4659647%2C%20-81.0881923%5D%2C%20%5B35.2149195%2C%20-80.9230266%5D%2C%20%5B34.910527%2C%20-80.67443%5D%2C%20%5B35.4452118%2C%20-80.8347287%5D%2C%20%5B35.80098419999999%2C%20-79.1084408%5D%2C%20%5B36.4061843%2C%20-78.9771848%5D%2C%20%5B35.3661%2C%20-80.723573%5D%2C%20%5B36.0601639%2C%20-79.1063264%5D%2C%20%5B36.0748905%2C%20-79.27999799999999%5D%2C%20%5B35.441489%2C%20-82.532054%5D%2C%20%5B35.0088532%2C%20-80.61540339999999%5D%2C%20%5B35.0790242%2C%20-78.95801949999999%5D%2C%20%5B35.3548637%2C%20-80.82292149999999%5D%2C%20%5B36.2904456%2C%20-76.2419827%5D%2C%20%5B36.1006349%2C%20-80.2463452%5D%2C%20%5B35.8406147%2C%20-78.6845019%5D%2C%20%5B35.335278%2C%20-80.827024%5D%2C%20%5B35.5588535%2C%20-80.8635972%5D%2C%20%5B36.1026564%2C%20-79.78230219999999%5D%2C%20%5B36.1878919%2C%20-77.656672%5D%2C%20%5B35.0315202%2C%20-79.12536209999999%5D%2C%20%5B34.2472262%2C%20-77.88628709999999%5D%2C%20%5B35.0088532%2C%20-80.61540339999999%5D%2C%20%5B35.309024%2C%20-80.90085499999999%5D%2C%20%5B36.0980459%2C%20-80.368173%5D%2C%20%5B33.9784851%2C%20-78.3757955%5D%2C%20%5B35.0298625%2C%20-79.0582822%5D%2C%20%5B36.216468%2C%20-81.674677%5D%2C%20%5B35.225666%2C%20-80.715335%5D%2C%20%5B35.5542653%2C%20-80.8579369%5D%2C%20%5B34.1723753%2C%20-77.9488071%5D%2C%20%5B35.2619756%2C%20-79.4181773%5D%2C%20%5B36.36879160000001%2C%20-79.6447361%5D%2C%20%5B35.1361927%2C%20-80.7384613%5D%2C%20%5B34.9764084%2C%20-78.9228577%5D%2C%20%5B35.8988979%2C%20-78.8837717%5D%2C%20%5B35.5080326%2C%20-75.9918129%5D%2C%20%5B35.5654544%2C%20-77.07043159999999%5D%2C%20%5B35.5302651%2C%20-78.28135000000002%5D%2C%20%5B35.515404%2C%20-82.52687999999999%5D%2C%20%5B36.2076667%2C%20-81.70038939999999%5D%2C%20%5B35.33429%2C%20-80.825885%5D%2C%20%5B35.260005%2C%20-81.210697%5D%2C%20%5B35.0648116%2C%20-78.9746468%5D%2C%20%5B35.3257531%2C%20-83.8029959%5D%2C%20%5B35.99255%2C%20-78.8698057%5D%2C%20%5B35.5554136%2C%20-81.06730259999999%5D%2C%20%5B34.92486050000001%2C%20-80.7435868%5D%2C%20%5B34.5507419%2C%20-77.43746999999999%5D%2C%20%5B35.4786807%2C%20-80.8788548%5D%2C%20%5B35.4715084%2C%20-82.5783201%5D%2C%20%5B35.0539977%2C%20-81.03618279999999%5D%2C%20%5B36.1204251%2C%20-81.8715387%5D%2C%20%5B35.9653258%2C%20-79.0522326%5D%2C%20%5B36.019964%2C%20-78.83494600000002%5D%2C%20%5B35.2051196%2C%20-80.9278373%5D%2C%20%5B35.3493807%2C%20-80.84221409999999%5D%2C%20%5B35.1588722%2C%20-79.4204972%5D%2C%20%5B36.050983%2C%20-79.1019223%5D%2C%20%5B35.6117664%2C%20-78.8093718%5D%2C%20%5B35.1094282%2C%20-78.8771429%5D%2C%20%5B35.5405665%2C%20-82.5523204%5D%2C%20%5B36.0987015%2C%20-76.53471859999999%5D%2C%20%5B35.5645684%2C%20-82.54136869999999%5D%2C%20%5B35.5938802%2C%20-80.8769528%5D%2C%20%5B35.27132%2C%20-81.04576899999999%5D%2C%20%5B35.4186096%2C%20-80.8656768%5D%2C%20%5B35.0088532%2C%20-80.61540339999999%5D%2C%20%5B34.7571533%2C%20-77.46214549999999%5D%2C%20%5B35.2418594%2C%20-80.96162029999999%5D%2C%20%5B34.734799%2C%20-76.638772%5D%2C%20%5B35.349707%2C%20-82.444788%5D%2C%20%5B35.2557237%2C%20-80.81619479999999%5D%2C%20%5B35.1202207%2C%20-80.6950391%5D%2C%20%5B35.3502669%2C%20-81.0879985%5D%2C%20%5B34.0333151%2C%20-78.2569142%5D%2C%20%5B36.2033333%2C%20-81.6636481%5D%2C%20%5B36.2148865%2C%20-81.66749899999999%5D%2C%20%5B33.9182078%2C%20-78.0180972%5D%2C%20%5B36.1202544%2C%20-78.667885%5D%2C%20%5B36.114778%2C%20-79.26795299999999%5D%2C%20%5B35.7826632%2C%20-78.4031684%5D%2C%20%5B36.4800739%2C%20-79.6728074%5D%2C%20%5B35.933574%2C%20-80.603183%5D%2C%20%5B36.2606746%2C%20-80.3622343%5D%2C%20%5B35.4405227%2C%20-80.89960099999999%5D%2C%20%5B36.0763987%2C%20-79.7858056%5D%2C%20%5B34.6393867%2C%20-79.0003546%5D%2C%20%5B35.60274%2C%20-77.399427%5D%2C%20%5B35.594355%2C%20-82.5543493%5D%2C%20%5B35.746514%2C%20-78.5986046%5D%2C%20%5B35.0359349%2C%20-79.10865190000001%5D%2C%20%5B35.2630045%2C%20-80.7695064%5D%2C%20%5B35.3267916%2C%20-82.5919207%5D%2C%20%5B36.119126%2C%20-80.369434%5D%2C%20%5B36.217617%2C%20-81.6651517%5D%2C%20%5B33.9720186%2C%20-78.1304569%5D%2C%20%5B34.5091152%2C%20-77.4327462%5D%2C%20%5B35.3511008%2C%20-82.4740065%5D%2C%20%5B35.562173%2C%20-77.348286%5D%2C%20%5B34.9762727%2C%20-79.6131304%5D%2C%20%5B35.8319275%2C%20-78.8798857%5D%2C%20%5B36.071192%2C%20-80.33825929999999%5D%2C%20%5B34.7243395%2C%20-76.7429406%5D%2C%20%5B35.1150136%2C%20-80.9349434%5D%2C%20%5B45.63444699999999%2C%20-122.670238%5D%2C%20%5B36.0345226%2C%20-78.9977845%5D%2C%20%5B35.3165077%2C%20-81.17619239999999%5D%2C%20%5B35.6626653%2C%20-80.4647588%5D%2C%20%5B35.6113621%2C%20-80.5393307%5D%2C%20%5B36.070385%2C%20-80.274834%5D%2C%20%5B35.1136954%2C%20-80.9072065%5D%2C%20%5B35.2724834%2C%20-80.8727164%5D%2C%20%5B36.4460343%2C%20-81.4266309%5D%2C%20%5B34.7010165%2C%20-76.7470661%5D%2C%20%5B35.2538207%2C%20-80.46536499999999%5D%2C%20%5B35.2392881%2C%20-82.4161209%5D%2C%20%5B35.6615107%2C%20-80.8478552%5D%2C%20%5B36.2638681%2C%20-80.3641639%5D%2C%20%5B36.1054961%2C%20-79.9875192%5D%2C%20%5B35.7460967%2C%20-78.7368785%5D%2C%20%5B35.0808726%2C%20-78.9524673%5D%2C%20%5B35.2531818%2C%20-82.1970439%5D%2C%20%5B35.7534649%2C%20-78.7418199%5D%2C%20%5B36.059761%2C%20-80.3113937%5D%2C%20%5B35.5542653%2C%20-80.8579369%5D%2C%20%5B35.5061702%2C%20-82.59547649999999%5D%2C%20%5B36.0591632%2C%20-79.52104229999999%5D%2C%20%5B29.58701%2C%20-81.61051499999999%5D%2C%20%5B35.5170894%2C%20-78.5793083%5D%2C%20%5B35.4423858%2C%20-80.6478597%5D%2C%20%5B34.9304194%2C%20-78.9078696%5D%2C%20%5B35.1163503%2C%20-80.97638099999999%5D%2C%20%5B36.0785802%2C%20-79.48743759999999%5D%2C%20%5B35.4511934%2C%20-80.6697859%5D%2C%20%5B35.1030019%2C%20-78.9594487%5D%2C%20%5B36.1994922%2C%20-81.4894838%5D%2C%20%5B35.4369524%2C%20-80.6864007%5D%2C%20%5B34.7394328%2C%20-76.745195%5D%2C%20%5B35.4412815%2C%20-80.849719%5D%2C%20%5B34.2396278%2C%20-77.8269899%5D%2C%20%5B35.738162%2C%20-78.94371699999999%5D%2C%20%5B35.634592%2C%20-78.83789800000001%5D%2C%20%5B35.9120947%2C%20-78.7837129%5D%2C%20%5B35.2702871%2C%20-81.1507773%5D%2C%20%5B35.3444724%2C%20-80.6067029%5D%2C%20%5B35.7092066%2C%20-80.5326578%5D%2C%20%5B35.3339911%2C%20-80.79196519999999%5D%2C%20%5B35.9949663%2C%20-80.43515459999999%5D%2C%20%5B34.752111%2C%20-77.41257279999999%5D%2C%20%5B35.1546472%2C%20-79.4168916%5D%2C%20%5B36.0728274%2C%20-79.86956699999999%5D%2C%20%5B35.192186%2C%20-80.7650012%5D%2C%20%5B35.2543434%2C%20-79.0303824%5D%2C%20%5B35.5964421%2C%20-82.5520465%5D%2C%20%5B36.060371%2C%20-79.3882622%5D%2C%20%5B35.0546942%2C%20-78.8826531%5D%2C%20%5B36.0167435%2C%20-95.8855255%5D%2C%20%5B35.2661452%2C%20-80.731701%5D%2C%20%5B35.9670951%2C%20-79.0504505%5D%2C%20%5B36.0728274%2C%20-79.86956699999999%5D%2C%20%5B35.7076686%2C%20-81.309038%5D%2C%20%5B36.2833572%2C%20-76.2337831%5D%2C%20%5B35.238848%2C%20-80.836035%5D%2C%20%5B35.77798120000001%2C%20-78.6399181%5D%2C%20%5B35.2740279%2C%20-81.5310002%5D%2C%20%5B35.9579208%2C%20-80.01039569999999%5D%2C%20%5B35.363357%2C%20-80.8263001%5D%2C%20%5B35.05866%2C%20-80.63006570000002%5D%2C%20%5B35.723942%2C%20-82.0416971%5D%2C%20%5B36.5038281%2C%20-79.094004%5D%2C%20%5B35.3245839%2C%20-80.6413195%5D%2C%20%5B36.0654072%2C%20-79.50461279999999%5D%2C%20%5B33.9464704%2C%20-78.03241240000001%5D%2C%20%5B35.1847741%2C%20-80.87630440000001%5D%2C%20%5B35.6995859%2C%20-82.882178%5D%2C%20%5B36.0633193%2C%20-79.8170052%5D%2C%20%5B35.1137073%2C%20-77.0029479%5D%2C%20%5B36.2865906%2C%20-76.24295579999999%5D%2C%20%5B36.5169071%2C%20-80.5912302%5D%2C%20%5B36.029928%2C%20-80.3273789%5D%2C%20%5B34.3770867%2C%20-77.920138%5D%2C%20%5B35.0429591%2C%20-78.9462367%5D%2C%20%5B35.9962785%2C%20-79.7738938%5D%2C%20%5B35.221643%2C%20-80.834887%5D%2C%20%5B35.42800709999999%2C%20-78.06376039999999%5D%2C%20%5B34.0668373%2C%20-78.52639880000001%5D%2C%20%5B35.7082233%2C%20-82.5801207%5D%2C%20%5B35.2707324%2C%20-81.26225099999999%5D%2C%20%5B36.3806026%2C%20-80.4620285%5D%2C%20%5B35.964047%2C%20-79.04400299999999%5D%2C%20%5B35.3792615%2C%20-80.6981548%5D%2C%20%5B35.453537%2C%20-80.80948599999999%5D%2C%20%5B35.2059991%2C%20-80.75249%5D%2C%20%5B35.99255%2C%20-78.8698057%5D%2C%20%5B35.2609774%2C%20-81.1423154%5D%2C%20%5B35.560952%2C%20-82.352301%5D%2C%20%5B35.783685%2C%20-78.5910348%5D%2C%20%5B35.24106%2C%20-80.82520799999999%5D%2C%20%5B35.7970888%2C%20-78.5074682%5D%2C%20%5B34.092228%2C%20-99.36282519999999%5D%2C%20%5B36.1527246%2C%20-80.27591679999999%5D%2C%20%5B35.33873750000001%2C%20-80.6835354%5D%2C%20%5B35.5674793%2C%20-80.854885%5D%2C%20%5B36.2155887%2C%20-81.669246%5D%2C%20%5B35.102863%2C%20-77.085504%5D%2C%20%5B35.0629618%2C%20-81.1195888%5D%2C%20%5B36.051206%2C%20-79.8793244%5D%2C%20%5B36.0576143%2C%20-79.11668209999999%5D%2C%20%5B35.338549%2C%20-79.09913209999999%5D%2C%20%5B35.07356559999999%2C%20-80.88162129999999%5D%2C%20%5B35.1939025%2C%20-80.78287639999999%5D%2C%20%5B35.12444869999999%2C%20-80.7834615%5D%2C%20%5B34.76083%2C%20-77.38159069999999%5D%2C%20%5B36.3236351%2C%20-78.97636969999999%5D%2C%20%5B35.7747223%2C%20-78.6357512%5D%2C%20%5B36.0702068%2C%20-79.2079631%5D%2C%20%5B35.6853898%2C%20-78.6186994%5D%2C%20%5B35.6164445%2C%20-78.4175009%5D%2C%20%5B35.0269946%2C%20-79.09907989999999%5D%2C%20%5B35.7980813%2C%20-80.3220623%5D%2C%20%5B34.9846655%2C%20-80.492958%5D%2C%20%5B35.5478339%2C%20-82.52248879999999%5D%2C%20%5B34.2327891%2C%20-77.9492351%5D%2C%20%5B36.1177049%2C%20-79.7760395%5D%2C%20%5B36.0346761%2C%20-79.8713337%5D%2C%20%5B35.5762904%2C%20-82.5124529%5D%2C%20%5B36.0929518%2C%20-80.24580780000001%5D%2C%20%5B36.0640258%2C%20-79.42555349999999%5D%2C%20%5B35.9691475%2C%20-79.9663064%5D%2C%20%5B36.0391639%2C%20-79.8466803%5D%2C%20%5B34.2069708%2C%20-78.0346838%5D%2C%20%5B36.0588363%2C%20-77.7409873%5D%2C%20%5B35.1637778%2C%20-80.9680743%5D%2C%20%5B35.7239024%2C%20-81.6595403%5D%2C%20%5B34.966404%2C%20-79.813694%5D%2C%20%5B34.9472701%2C%20-78.8959352%5D%2C%20%5B36.0637625%2C%20-79.0813632%5D%2C%20%5B35.65108439999999%2C%20-78.8336511%5D%2C%20%5B35.4674508%2C%20-78.78492539999999%5D%2C%20%5B34.2320815%2C%20-77.88536189999999%5D%2C%20%5B36.3417366%2C%20-75.9548204%5D%2C%20%5B35.0367127%2C%20-78.9191822%5D%2C%20%5B34.7554369%2C%20-77.4626904%5D%2C%20%5B34.974987%2C%20-80.51304809999999%5D%2C%20%5B35.6128921%2C%20-82.58419959999999%5D%2C%20%5B35.3526557%2C%20-82.4582133%5D%2C%20%5B35.3776509%2C%20-80.8334655%5D%2C%20%5B34.05834189999999%2C%20-77.88842029999999%5D%2C%20%5B34.6856451%2C%20-77.0730507%5D%2C%20%5B35.2795584%2C%20-82.53174659999999%5D%2C%20%5B36.105005%2C%20-79.543875%5D%2C%20%5B35.4172393%2C%20-82.5498636%5D%2C%20%5B35.8305207%2C%20-78.294327%5D%2C%20%5B35.7571675%2C%20-78.7778762%5D%2C%20%5B35.247392%2C%20-82.2068939%5D%2C%20%5B48.2692195%2C%20-101.2532022%5D%2C%20%5B46.853795%2C%20-100.765229%5D%2C%20%5B46.758067%2C%20-100.7105803%5D%2C%20%5B46.94870359999999%2C%20-96.8562192%5D%2C%20%5B46.764936%2C%20-100.7114471%5D%2C%20%5B46.9011592%2C%20-102.7885269%5D%2C%20%5B46.862312%2C%20-100.7735912%5D%2C%20%5B48.1993847%2C%20-101.2933103%5D%2C%20%5B48.2613271%2C%20-101.3222998%5D%2C%20%5B48.1481514%2C%20-103.7232542%5D%2C%20%5B48.22820249999999%2C%20-101.2446312%5D%2C%20%5B48.2669345%2C%20-101.3058897%5D%2C%20%5B46.7512011%2C%20-100.752789%5D%2C%20%5B46.800021%2C%20-100.6890912%5D%2C%20%5B46.8762378%2C%20-102.7276957%5D%2C%20%5B48.1670673%2C%20-103.6557452%5D%2C%20%5B48.2796432%2C%20-101.2872249%5D%2C%20%5B46.8082984%2C%20-100.781638%5D%2C%20%5B48.2320736%2C%20-101.3650699%5D%2C%20%5B47.7737796%2C%20-103.2877711%5D%2C%20%5B48.1675796%2C%20-103.6556901%5D%2C%20%5B46.8265259%2C%20-100.7114597%5D%2C%20%5B46.86376569999999%2C%20-96.8345312%5D%2C%20%5B46.8459317%2C%20-96.8591338%5D%2C%20%5B48.1674032%2C%20-103.6644219%5D%2C%20%5B46.8295664%2C%20-96.8768492%5D%2C%20%5B48.0244443%2C%20-103.6585768%5D%2C%20%5B48.30491259999999%2C%20-102.3851402%5D%2C%20%5B47.8912056%2C%20-97.0755437%5D%2C%20%5B44.3974682%2C%20-71.06247789999999%5D%2C%20%5B48.199019%2C%20-101.2945269%5D%2C%20%5B48.2278038%2C%20-101.241496%5D%2C%20%5B47.9289831%2C%20-97.0686339%5D%2C%20%5B48.2669345%2C%20-101.3058897%5D%2C%20%5B46.9331363%2C%20-102.7898079%5D%2C%20%5B48.19040709999999%2C%20-103.6473323%5D%2C%20%5B46.9175246%2C%20-102.8032669%5D%2C%20%5B46.8852643%2C%20-103.1897658%5D%2C%20%5B46.831147%2C%20-96.86489399999999%5D%2C%20%5B46.9342067%2C%20-96.8779462%5D%2C%20%5B48.2796432%2C%20-101.2872249%5D%2C%20%5B46.8934082%2C%20-102.8370033%5D%2C%20%5B47.8151698%2C%20-103.2797453%5D%2C%20%5B48.2345737%2C%20-101.2943637%5D%2C%20%5B47.8909329%2C%20-97.0743031%5D%2C%20%5B46.8017124%2C%20-100.7617374%5D%2C%20%5B48.19099689999999%2C%20-103.6527709%5D%2C%20%5B48.2111362%2C%20-101.3392242%5D%2C%20%5B46.867723%2C%20-100.771242%5D%2C%20%5B46.8847405%2C%20-96.8210963%5D%2C%20%5B46.9713449%2C%20-102.7980286%5D%2C%20%5B46.7968609%2C%20-100.7958959%5D%2C%20%5B48.1498553%2C%20-103.74374%5D%2C%20%5B46.9048301%2C%20-102.8319344%5D%2C%20%5B46.854193%2C%20-100.7698541%5D%2C%20%5B46.8537451%2C%20-100.776873%5D%2C%20%5B37.09024%2C%20-95.712891%5D%2C%20%5B48.2414292%2C%20-103.6165176%5D%2C%20%5B48.3453525%2C%20-103.1687089%5D%2C%20%5B46.7745157%2C%20-96.8194654%5D%2C%20%5B47.8151698%2C%20-103.2797453%5D%2C%20%5B46.8639498%2C%20-100.772226%5D%2C%20%5B46.8256697%2C%20-96.83689749999999%5D%2C%20%5B46.8295535%2C%20-100.7322924%5D%2C%20%5B46.8766215%2C%20-102.7566198%5D%2C%20%5B46.8293416%2C%20-100.8710339%5D%2C%20%5B47.8957672%2C%20-97.06727959999999%5D%2C%20%5B46.8380972%2C%20-100.7552307%5D%2C%20%5B47.8811572%2C%20-97.0450822%5D%2C%20%5B46.831147%2C%20-96.86489399999999%5D%2C%20%5B46.7512179%2C%20-100.7948616%5D%2C%20%5B46.8640172%2C%20-96.8758984%5D%2C%20%5B48.2278038%2C%20-101.241496%5D%2C%20%5B46.9117476%2C%20-98.6821997%5D%2C%20%5B48.1410737%2C%20-103.7286055%5D%2C%20%5B47.929676%2C%20-97.06861889999999%5D%2C%20%5B47.8035986%2C%20-103.2608277%5D%2C%20%5B47.8933242%2C%20-97.0676293%5D%2C%20%5B46.8669589%2C%20-100.7934919%5D%2C%20%5B48.1757613%2C%20-103.6198751%5D%2C%20%5B48.18962029999999%2C%20-103.6473102%5D%2C%20%5B47.9386762%2C%20-97.0531582%5D%2C%20%5B41.3356696%2C%20-96.0908426%5D%2C%20%5B42.24278109999999%2C%20-104.0447314%5D%2C%20%5B40.8796736%2C%20-96.6878722%5D%2C%20%5B41.2643878%2C%20-96.0996119%5D%2C%20%5B40.8256481%2C%20-96.72170589999999%5D%2C%20%5B41.2435373%2C%20-96.23439169999999%5D%2C%20%5B41.2492534%2C%20-96.1806251%5D%2C%20%5B41.1804709%2C%20-96.1037582%5D%2C%20%5B40.31758079999999%2C%20-96.74685749999999%5D%2C%20%5B41.1782901%2C%20-95.92446079999999%5D%2C%20%5B41.1160417%2C%20-101.7093647%5D%2C%20%5B41.2564167%2C%20-95.9452747%5D%2C%20%5B40.8161693%2C%20-96.71034189999999%5D%2C%20%5B40.7863509%2C%20-96.65454129999999%5D%2C%20%5B41.3394387%2C%20-96.0266621%5D%2C%20%5B40.8867277%2C%20-96.62209399999999%5D%2C%20%5B41.1567131%2C%20-95.922528%5D%2C%20%5B41.2702699%2C%20-95.9328285%5D%2C%20%5B41.1836395%2C%20-96.13900930000001%5D%2C%20%5B40.852884%2C%20-96.67383199999999%5D%2C%20%5B41.4390085%2C%20-97.36431689999999%5D%2C%20%5B41.1474493%2C%20-95.967997%5D%2C%20%5B41.1836395%2C%20-96.13900930000001%5D%2C%20%5B41.2776133%2C%20-95.915257%5D%2C%20%5B40.9311613%2C%20-98.3816143%5D%2C%20%5B41.1181101%2C%20-96.1480476%5D%2C%20%5B41.306492%2C%20-96.1772599%5D%2C%20%5B40.8132877%2C%20-96.7096795%5D%2C%20%5B41.25533069999999%2C%20-95.9412402%5D%2C%20%5B41.170857%2C%20-96.0952854%5D%2C%20%5B41.21472139999999%2C%20-96.05923279999999%5D%2C%20%5B41.146815%2C%20-96.2156373%5D%2C%20%5B41.205967%2C%20-96.185766%5D%2C%20%5B41.29989519999999%2C%20-96.1730152%5D%2C%20%5B41.107197%2C%20-96.155225%5D%2C%20%5B41.2566975%2C%20-95.9272498%5D%2C%20%5B41.1616097%2C%20-96.119648%5D%2C%20%5B40.8898129%2C%20-96.64912%5D%2C%20%5B40.7390895%2C%20-96.70139209999999%5D%2C%20%5B41.2294024%2C%20-96.2318244%5D%2C%20%5B41.2582242%2C%20-95.9420555%5D%2C%20%5B41.2235198%2C%20-96.1353855%5D%2C%20%5B41.2590689%2C%20-96.187496%5D%2C%20%5B41.220154%2C%20-96.0852962%5D%2C%20%5B41.2637969%2C%20-96.15356849999999%5D%2C%20%5B41.21566259999999%2C%20-96.06851990000001%5D%2C%20%5B41.2582242%2C%20-95.9420555%5D%2C%20%5B41.3063475%2C%20-96.2344693%5D%2C%20%5B41.26753%2C%20-96.05171399999999%5D%2C%20%5B40.8434913%2C%20-96.6070396%5D%2C%20%5B41.2330272%2C%20-96.14467549999999%5D%2C%20%5B41.2191327%2C%20-95.99747239999999%5D%2C%20%5B40.8282615%2C%20-96.79890320000001%5D%2C%20%5B41.1907271%2C%20-96.0362738%5D%2C%20%5B41.138835%2C%20-95.978284%5D%2C%20%5B41.1474189%2C%20-96.1099998%5D%2C%20%5B40.8470586%2C%20-96.78724179999999%5D%2C%20%5B41.1448311%2C%20-96.16537919999999%5D%2C%20%5B40.940095%2C%20-98.3818926%5D%2C%20%5B40.8099429%2C%20-96.692662%5D%2C%20%5B40.8137094%2C%20-96.723986%5D%2C%20%5B41.1399313%2C%20-96.04300959999999%5D%2C%20%5B41.21566730000001%2C%20-96.0697428%5D%2C%20%5B41.30991969999999%2C%20-96.05390120000001%5D%2C%20%5B41.1469214%2C%20-96.1964868%5D%2C%20%5B41.2677109%2C%20-96.06272969999999%5D%2C%20%5B42.4716211%2C%20-96.42870309999999%5D%2C%20%5B41.0890238%2C%20-96.1194192%5D%2C%20%5B40.8099873%2C%20-96.7033318%5D%2C%20%5B41.13952889999999%2C%20-95.9604356%5D%2C%20%5B41.2917755%2C%20-96.2063068%5D%2C%20%5B41.1332295%2C%20-96.0704933%5D%2C%20%5B41.2330272%2C%20-96.14467549999999%5D%2C%20%5B41.2774159%2C%20-95.9149018%5D%2C%20%5B41.22324%2C%20-96.2345877%5D%2C%20%5B40.90357789999999%2C%20-96.5399961%5D%2C%20%5B40.8143001%2C%20-96.7023623%5D%2C%20%5B41.1454972%2C%20-96.06622329999999%5D%2C%20%5B41.1902133%2C%20-96.1937434%5D%2C%20%5B41.0867294%2C%20-96.1385469%5D%2C%20%5B41.3381881%2C%20-96.0250071%5D%2C%20%5B41.075098%2C%20-95.91201919999999%5D%2C%20%5B41.3081757%2C%20-96.0827449%5D%2C%20%5B41.1868803%2C%20-96.10639110000001%5D%2C%20%5B41.1474192%2C%20-96.10042229999999%5D%2C%20%5B41.2590689%2C%20-96.187496%5D%2C%20%5B41.2485566%2C%20-96.1768682%5D%2C%20%5B41.1903641%2C%20-96.234263%5D%2C%20%5B41.2261155%2C%20-96.1363468%5D%2C%20%5B41.123506%2C%20-96.01878599999999%5D%2C%20%5B41.1615904%2C%20-96.0235775%5D%2C%20%5B41.2920439%2C%20-96.17256069999999%5D%2C%20%5B41.274291%2C%20-96.21576400000001%5D%2C%20%5B41.4512906%2C%20-96.4721153%5D%2C%20%5B41.1830931%2C%20-96.1415257%5D%2C%20%5B41.2640645%2C%20-96.0549624%5D%2C%20%5B41.3642825%2C%20-96.02386399999999%5D%2C%20%5B43.4490798%2C%20-71.57584940000001%5D%2C%20%5B42.9193102%2C%20-71.4575239%5D%2C%20%5B42.7890046%2C%20-71.5699156%5D%2C%20%5B42.9312529%2C%20-72.2840276%5D%2C%20%5B42.918411%2C%20-70.8030295%5D%2C%20%5B42.8227643%2C%20-71.103909%5D%2C%20%5B43.0799469%2C%20-71.72359209999999%5D%2C%20%5B42.9731956%2C%20-71.45651269999999%5D%2C%20%5B42.9198579%2C%20-72.3065075%5D%2C%20%5B42.8072941%2C%20-71.2886273%5D%2C%20%5B43.2736035%2C%20-70.97808470000001%5D%2C%20%5B43.1856573%2C%20-71.5025643%5D%2C%20%5B34.0274273%2C%20-118.2538664%5D%2C%20%5B42.7450005%2C%20-71.4322692%5D%2C%20%5B43.0464008%2C%20-71.2061918%5D%2C%20%5B42.9253509%2C%20-71.422747%5D%2C%20%5B43.1856573%2C%20-71.5025643%5D%2C%20%5B43.2592854%2C%20-71.5794889%5D%2C%20%5B42.9821927%2C%20-71.4334137%5D%2C%20%5B42.7598416%2C%20-71.4894868%5D%2C%20%5B44.29109039999999%2C%20-71.79870860000001%5D%2C%20%5B43.2208675%2C%20-70.8873998%5D%2C%20%5B43.4504807%2C%20-71.5769389%5D%2C%20%5B43.315646%2C%20-70.9951377%5D%2C%20%5B43.21560729999999%2C%20-70.8787839%5D%2C%20%5B42.9755601%2C%20-71.4050744%5D%2C%20%5B43.64574520000001%2C%20-71.2468645%5D%2C%20%5B43.2159607%2C%20-71.5065223%5D%2C%20%5B42.7776846%2C%20-71.2492757%5D%2C%20%5B40.5695729%2C%20-74.5630799%5D%2C%20%5B40.6871375%2C%20-73.99087879999999%5D%2C%20%5B40.8935012%2C%20-74.48171110000001%5D%2C%20%5B39.75284740000001%2C%20-74.90776939999999%5D%2C%20%5B40.9064889%2C%20-74.4013552%5D%2C%20%5B40.89062699999999%2C%20-74.55159189999999%5D%2C%20%5B37.1500442%2C%20-95.21461629999999%5D%2C%20%5B39.7634339%2C%20-75.307154%5D%2C%20%5B39.9262647%2C%20-74.9973789%5D%2C%20%5B40.5723674%2C%20-74.3862374%5D%2C%20%5B40.3016809%2C%20-74.6390368%5D%2C%20%5B41.0247533%2C%20-74.0883446%5D%2C%20%5B40.8838788%2C%20-74.05190619999999%5D%2C%20%5B39.7170943%2C%20-75.0364325%5D%2C%20%5B40.8870267%2C%20-74.7149106%5D%2C%20%5B39.3921286%2C%20-74.6375147%5D%2C%20%5B40.2155478%2C%20-74.0131835%5D%2C%20%5B40.8239838%2C%20-74.0548628%5D%2C%20%5B40.2446297%2C%20-74.7178816%5D%2C%20%5B40.6540678%2C%20-74.3177793%5D%2C%20%5B39.7860279%2C%20-74.1983716%5D%2C%20%5B40.2298416%2C%20-74.27134680000002%5D%2C%20%5B39.9196064%2C%20-74.965171%5D%2C%20%5B40.4190985%2C%20-74.2278601%5D%2C%20%5B41.179123%2C%20-74.5354009%5D%2C%20%5B41.12897590000001%2C%20-74.27854400000001%5D%2C%20%5B38.923253%2C%20-94.40262299999999%5D%2C%20%5B40.7035783%2C%20-74.185739%5D%2C%20%5B39.9574384%2C%20-75.0813732%5D%2C%20%5B40.5193222%2C%20-74.8577766%5D%2C%20%5B39.8986591%2C%20-74.8334416%5D%2C%20%5B39.9467737%2C%20-75.0223242%5D%2C%20%5B41.101591%2C%20-74.582219%5D%2C%20%5B41.0123404%2C%20-73.9469118%5D%2C%20%5B40.8494898%2C%20-74.2039818%5D%2C%20%5B40.3531769%2C%20-74.07580530000001%5D%2C%20%5B40.9823364%2C%20-74.0137623%5D%2C%20%5B40.40467719999999%2C%20-74.3216336%5D%2C%20%5B39.975%2C%20-74.8044%5D%2C%20%5B41.0395325%2C%20-74.03230730000001%5D%2C%20%5B40.5105982%2C%20-74.9688257%5D%2C%20%5B40.3514902%2C%20-74.4058902%5D%2C%20%5B40.3424618%2C%20-74.0690707%5D%2C%20%5B40.7165131%2C%20-74.18747549999999%5D%2C%20%5B40.2186814%2C%20-74.0354286%5D%2C%20%5B41.1575493%2C%20-74.5486169%5D%2C%20%5B40.5270179%2C%20-74.4303043%5D%2C%20%5B40.7390576%2C%20-74.1342614%5D%2C%20%5B39.3539255%2C%20-74.4475892%5D%2C%20%5B40.1354005%2C%20-74.0862796%5D%2C%20%5B40.719428%2C%20-74.048549%5D%2C%20%5B40.56853%2C%20-74.549195%5D%2C%20%5B41.0055516%2C%20-74.3417472%5D%2C%20%5B41.0524893%2C%20-74.4696553%5D%2C%20%5B39.6226944%2C%20-74.3422356%5D%2C%20%5B40.07988659999999%2C%20-74.8414399%5D%2C%20%5B40.757184%2C%20-74.144059%5D%2C%20%5B40.3531769%2C%20-74.07580530000001%5D%2C%20%5B39.7224632%2C%20-75.1662735%5D%2C%20%5B40.8101697%2C%20-74.0158478%5D%2C%20%5B32.6434212%2C%20-96.92409839999999%5D%2C%20%5B40.9183754%2C%20-74.1415221%5D%2C%20%5B40.6510427%2C%20-74.1227114%5D%2C%20%5B40.4865272%2C%20-74.47092599999999%5D%2C%20%5B40.2414058%2C%20-74.7297584%5D%2C%20%5B39.863338%2C%20-74.975932%5D%2C%20%5B41.0667059%2C%20-74.121335%5D%2C%20%5B40.2192295%2C%20-74.1239276%5D%2C%20%5B36.1919505%2C%20-95.9938756%5D%2C%20%5B40.49855609999999%2C%20-74.36853649999999%5D%2C%20%5B40.789587%2C%20-74.03414339999999%5D%2C%20%5B39.8877213%2C%20-75.1248018%5D%2C%20%5B40.8399246%2C%20-74.7054943%5D%2C%20%5B39.9533069%2C%20-74.1985116%5D%2C%20%5B40.0802584%2C%20-74.0415103%5D%2C%20%5B40.5868029%2C%20-74.4183954%5D%2C%20%5B40.7196679%2C%20-74.1629432%5D%2C%20%5B40.8883814%2C%20-74.71066160000001%5D%2C%20%5B40.9033396%2C%20-74.280498%5D%2C%20%5B40.6690466%2C%20-74.2119712%5D%2C%20%5B40.8599863%2C%20-74.03469419999999%5D%2C%20%5B40.8793572%2C%20-74.6198448%5D%2C%20%5B40.9243997%2C%20-74.1172058%5D%2C%20%5B40.7586717%2C%20-74.0209761%5D%2C%20%5B40.0774921%2C%20-74.09889849999999%5D%2C%20%5B39.369846%2C%20-74.4350104%5D%2C%20%5B40.0613092%2C%20-74.15466239999999%5D%2C%20%5B40.262771%2C%20-74.537778%5D%2C%20%5B40.810499%2C%20-74.10478499999999%5D%2C%20%5B40.6973792%2C%20-74.2180351%5D%2C%20%5B40.7160705%2C%20-74.2521837%5D%2C%20%5B40.5623245%2C%20-74.4177084%5D%2C%20%5B39.516321%2C%20-74.695841%5D%2C%20%5B39.94247%2C%20-74.9804656%5D%2C%20%5B40.4152505%2C%20-74.1587691%5D%2C%20%5B40.7155016%2C%20-74.1991307%5D%2C%20%5B40.1549056%2C%20-74.0219104%5D%2C%20%5B40.69104069999999%2C%20-75.20246%5D%2C%20%5B39.4901087%2C%20-75.0414924%5D%2C%20%5B40.5324758%2C%20-74.4206474%5D%2C%20%5B40.5459292%2C%20-74.270429%5D%2C%20%5B40.8783915%2C%20-74.5154754%5D%2C%20%5B39.9297862%2C%20-75.07945699999999%5D%2C%20%5B40.8776901%2C%20-74.5396454%5D%2C%20%5B39.4523466%2C%20-74.7368159%5D%2C%20%5B41.0348258%2C%20-74.74184509999999%5D%2C%20%5B40.6719679%2C%20-74.2144704%5D%2C%20%5B33.7995219%2C%20-116.5275965%5D%2C%20%5B40.5930876%2C%20-74.26050339999999%5D%2C%20%5B40.7911067%2C%20-74.00347909999999%5D%2C%20%5B40.998942%2C%20-73.9504937%5D%2C%20%5B39.9266957%2C%20-75.0511047%5D%2C%20%5B40.814659%2C%20-73.986903%5D%2C%20%5B40.895756%2C%20-74.4175328%5D%2C%20%5B40.2245677%2C%20-74.1421632%5D%2C%20%5B40.4697102%2C%20-74.4788477%5D%2C%20%5B39.6413996%2C%20-75.05997239999999%5D%2C%20%5B39.7179647%2C%20-74.96862349999999%5D%2C%20%5B40.7200085%2C%20-74.2771229%5D%2C%20%5B40.1157593%2C%20-74.1892872%5D%2C%20%5B38.9673485%2C%20-74.8386278%5D%2C%20%5B40.2408698%2C%20-74.7565661%5D%2C%20%5B40.2734647%2C%20-74.0503457%5D%2C%20%5B40.7092192%2C%20-74.1906922%5D%2C%20%5B40.7205472%2C%20-74.25936829999999%5D%2C%20%5B39.8959795%2C%20-74.9389843%5D%2C%20%5B40.8514146%2C%20-73.9701927%5D%2C%20%5B36.297075%2C%20-95.83278759999999%5D%2C%20%5B40.3024603%2C%20-74.6390368%5D%2C%20%5B39.9376779%2C%20-74.07208109999999%5D%2C%20%5B40.7901688%2C%20-74.00073429999999%5D%2C%20%5B40.7618499%2C%20-74.1405836%5D%2C%20%5B40.809595%2C%20-74.2139431%5D%2C%20%5B40.8466478%2C%20-74.0039529%5D%2C%20%5B39.3986078%2C%20-74.56381209999999%5D%2C%20%5B40.9195655%2C%20-74.15564979999999%5D%2C%20%5B40.2059645%2C%20-74.25741649999999%5D%2C%20%5B39.4313293%2C%20-75.0422072%5D%2C%20%5B39.9169718%2C%20-74.97375439999999%5D%2C%20%5B39.6720495%2C%20-74.9809678%5D%2C%20%5B40.9016452%2C%20-74.0707971%5D%2C%20%5B40.4621481%2C%20-74.4057528%5D%2C%20%5B40.8807828%2C%20-74.046628%5D%2C%20%5B40.2514081%2C%20-74.7894322%5D%2C%20%5B40.7311906%2C%20-74.16532769999999%5D%2C%20%5B39.9112182%2C%20-74.99352189999999%5D%2C%20%5B40.8444787%2C%20-73.9860561%5D%2C%20%5B39.8768418%2C%20-75.0516689%5D%2C%20%5B41.057222%2C%20-74.75306429999999%5D%2C%20%5B40.2450515%2C%20-74.2983919%5D%2C%20%5B41.0733817%2C%20-74.6711404%5D%2C%20%5B40.24984130000001%2C%20-74.6908867%5D%2C%20%5B39.4423763%2C%20-74.6233231%5D%2C%20%5B40.792094%2C%20-74.119365%5D%2C%20%5B40.4058156%2C%20-74.4219224%5D%2C%20%5B40.9249709%2C%20-74.0704934%5D%2C%20%5B37.0331375%2C%20-95.62561199999999%5D%2C%20%5B40.9190838%2C%20-74.167576%5D%2C%20%5B40.7739673%2C%20-74.4418919%5D%2C%20%5B39.7652115%2C%20-75.0483829%5D%2C%20%5B39.9478853%2C%20-75.0212288%5D%2C%20%5B40.7183456%2C%20-74.0439883%5D%2C%20%5B40.933414%2C%20-74.0714112%5D%2C%20%5B39.61164309999999%2C%20-74.8197327%5D%2C%20%5B40.9738884%2C%20-73.9162674%5D%2C%20%5B40.4188232%2C%20-74.3752877%5D%2C%20%5B39.7448103%2C%20-75.0440879%5D%2C%20%5B39.39150290000001%2C%20-74.5498984%5D%2C%20%5B40.8241308%2C%20-74.10002089999999%5D%2C%20%5B40.2811835%2C%20-74.0487852%5D%2C%20%5B39.73936399999999%2C%20-75.45079199999999%5D%2C%20%5B40.864023%2C%20-74.3318946%5D%2C%20%5B40.8299317%2C%20-74.0977972%5D%2C%20%5B39.4624967%2C%20-74.49346919999999%5D%2C%20%5B40.5630046%2C%20-74.3011191%5D%2C%20%5B40.5888655%2C%20-74.4600798%5D%2C%20%5B41.0212239%2C%20-74.98009100000002%5D%2C%20%5B40.1910049%2C%20-74.115967%5D%2C%20%5B40.82630959999999%2C%20-74.1014179%5D%2C%20%5B40.0530865%2C%20-74.18775699999999%5D%2C%20%5B39.7342721%2C%20-75.06220979999999%5D%2C%20%5B39.413754%2C%20-74.494052%5D%2C%20%5B40.3300483%2C%20-74.0789374%5D%2C%20%5B40.7497497%2C%20-74.16934189999999%5D%2C%20%5B40.5042656%2C%20-74.8486913%5D%2C%20%5B40.7235762%2C%20-74.0443734%5D%2C%20%5B40.9339001%2C%20-74.4353862%5D%2C%20%5B40.9344452%2C%20-74.7171425%5D%2C%20%5B40.6663578%2C%20-75.17336829999999%5D%2C%20%5B41.0001028%2C%20-74.2878952%5D%2C%20%5B40.836963%2C%20-74.00720299999999%5D%2C%20%5B39.7955026%2C%20-74.9238987%5D%2C%20%5B40.92409670000001%2C%20-73.9971896%5D%2C%20%5B40.8412052%2C%20-75.04748250000002%5D%2C%20%5B40.756099%2C%20-74.2161568%5D%2C%20%5B39.9798734%2C%20-74.76977289999999%5D%2C%20%5B40.9048222%2C%20-74.2412258%5D%2C%20%5B40.7253595%2C%20-74.17109800000001%5D%2C%20%5B40.12782%2C%20-74.04571%5D%2C%20%5B40.5611974%2C%20-74.3830317%5D%2C%20%5B39.7447478%2C%20-75.04188429999999%5D%2C%20%5B40.78344320000001%2C%20-74.586084%5D%2C%20%5B40.8909242%2C%20-74.26699169999999%5D%2C%20%5B40.9956122%2C%20-74.0045786%5D%2C%20%5B40.5734378%2C%20-74.3365231%5D%2C%20%5B34.9783668%2C%20-92.0400009%5D%2C%20%5B40.6292292%2C%20-74.5015578%5D%2C%20%5B40.3049645%2C%20-74.05961669999999%5D%2C%20%5B40.2098447%2C%20-74.0769641%5D%2C%20%5B39.4241604%2C%20-74.5621645%5D%2C%20%5B38.9907851%2C%20-74.80657029999999%5D%2C%20%5B40.5193222%2C%20-74.8577766%5D%2C%20%5B39.7652115%2C%20-75.0483829%5D%2C%20%5B40.7228494%2C%20-74.1632497%5D%2C%20%5B40.4238088%2C%20-74.26712930000001%5D%2C%20%5B40.5248563%2C%20-74.6038155%5D%2C%20%5B40.9180691%2C%20-74.0607595%5D%2C%20%5B40.5299574%2C%20-74.54893220000001%5D%2C%20%5B40.2787042%2C%20-74.7143571%5D%2C%20%5B43.6557852%2C%20-79.3843564%5D%2C%20%5B40.9362501%2C%20-74.1582186%5D%2C%20%5B40.9676959%2C%20-74.25415509999999%5D%2C%20%5B39.9543889%2C%20-74.197709%5D%2C%20%5B40.2364913%2C%20-74.2270803%5D%2C%20%5B40.6228626%2C%20-74.41212%5D%2C%20%5B40.9307447%2C%20-74.2680003%5D%2C%20%5B41.3131541%2C%20-73.98962159999999%5D%2C%20%5B40.7928764%2C%20-74.31498359999999%5D%2C%20%5B39.57846019999999%2C%20-75.4648319%5D%2C%20%5B40.7352449%2C%20-74.0677742%5D%2C%20%5B40.2834437%2C%20-74.71210870000002%5D%2C%20%5B41.0271322%2C%20-74.24155019999999%5D%2C%20%5B40.8305173%2C%20-74.0852701%5D%2C%20%5B39.9724438%2C%20-74.9221799%5D%2C%20%5B40.6778549%2C%20-73.9726263%5D%2C%20%5B40.9321776%2C%20-74.7186012%5D%2C%20%5B39.3870984%2C%20-74.5142393%5D%2C%20%5B39.7395269%2C%20-75.0722481%5D%2C%20%5B40.8799149%2C%20-74.6017318%5D%2C%20%5B39.8296832%2C%20-75.0776362%5D%2C%20%5B40.9943037%2C%20-74.00517769999999%5D%2C%20%5B40.68577579999999%2C%20-74.324058%5D%2C%20%5B39.90879229999999%2C%20-75.0961177%5D%2C%20%5B38.954702%2C%20-74.89296329999999%5D%2C%20%5B39.73971299999999%2C%20-75.07230899999999%5D%2C%20%5B40.7407093%2C%20-74.0333065%5D%2C%20%5B39.4442612%2C%20-75.2283982%5D%2C%20%5B39.9502514%2C%20-74.19959589999999%5D%2C%20%5B40.78688590000001%2C%20-74.02078569999999%5D%2C%20%5B39.858436%2C%20-74.950251%5D%2C%20%5B39.8296086%2C%20-74.99551559999999%5D%2C%20%5B40.5648082%2C%20-74.6899457%5D%2C%20%5B40.7942804%2C%20-74.1286756%5D%2C%20%5B40.4467678%2C%20-74.3978736%5D%2C%20%5B39.9196064%2C%20-74.965171%5D%2C%20%5B39.7375796%2C%20-75.04644379999999%5D%2C%20%5B40.8305173%2C%20-74.0852701%5D%2C%20%5B40.733183%2C%20-74.140053%5D%2C%20%5B40.28434900000001%2C%20-74.7915804%5D%2C%20%5B40.9711896%2C%20-74.2240771%5D%2C%20%5B40.34499%2C%20-74.0649404%5D%2C%20%5B40.7433521%2C%20-74.209639%5D%2C%20%5B40.5484802%2C%20-74.4792141%5D%2C%20%5B40.7211614%2C%20-74.1132559%5D%2C%20%5B40.8894929%2C%20-74.0240908%5D%2C%20%5B40.5677907%2C%20-74.2893276%5D%2C%20%5B40.2847302%2C%20-74.3016462%5D%2C%20%5B40.8227688%2C%20-74.0637012%5D%2C%20%5B39.47892909999999%2C%20-74.5750705%5D%2C%20%5B39.812469%2C%20-75.0179197%5D%2C%20%5B40.69424100000001%2C%20-74.1009739%5D%2C%20%5B39.836175%2C%20-75.1926579%5D%2C%20%5B40.9262367%2C%20-74.0958241%5D%2C%20%5B40.2258058%2C%20-74.68960659999999%5D%2C%20%5B39.9694246%2C%20-74.7130659%5D%2C%20%5B40.17970529999999%2C%20-74.2466819%5D%2C%20%5B40.6647036%2C%20-74.2134157%5D%2C%20%5B40.856066%2C%20-74.2307259%5D%2C%20%5B40.7751492%2C%20-74.0581021%5D%2C%20%5B40.0974%2C%20-74.7105%5D%2C%20%5B40.9082932%2C%20-74.15200829999999%5D%2C%20%5B39.7520946%2C%20-75.26091439999999%5D%2C%20%5B40.4140398%2C%20-74.530399%5D%2C%20%5B40.5320359%2C%20-74.3495542%5D%2C%20%5B40.23338589999999%2C%20-74.3136947%5D%2C%20%5B39.9116206%2C%20-75.000909%5D%2C%20%5B40.4027055%2C%20-74.3230956%5D%2C%20%5B40.5440352%2C%20-74.2702008%5D%2C%20%5B40.8775742%2C%20-74.2691005%5D%2C%20%5B39.4502706%2C%20-74.7221019%5D%2C%20%5B39.8101833%2C%20-75.0587419%5D%2C%20%5B40.5358354%2C%20-74.52631380000001%5D%2C%20%5B41.1017722%2C%20-74.1642734%5D%2C%20%5B40.9163667%2C%20-74.1697547%5D%2C%20%5B39.79586%2C%20-74.19538419999999%5D%2C%20%5B39.9671898%2C%20-74.185372%5D%2C%20%5B40.6254178%2C%20-74.6375425%5D%2C%20%5B39.9492914%2C%20-74.1204403%5D%2C%20%5B40.9550712%2C%20-74.21531879999999%5D%2C%20%5B39.7525279%2C%20-74.9849985%5D%2C%20%5B40.9099954%2C%20-74.2457191%5D%2C%20%5B36.44517039999999%2C%20-103.1807036%5D%2C%20%5B32.3169817%2C%20-106.7799849%5D%2C%20%5B35.0865963%2C%20-106.7274662%5D%2C%20%5B35.08437%2C%20-106.7281632%5D%2C%20%5B35.3233653%2C%20-106.5766382%5D%2C%20%5B35.1890561%2C%20-106.7277054%5D%2C%20%5B32.8895499%2C%20-105.940544%5D%2C%20%5B36.4387274%2C%20-104.9570667%5D%2C%20%5B35.686486%2C%20-105.9403783%5D%2C%20%5B35.0859402%2C%20-106.5271048%5D%2C%20%5B35.3241265%2C%20-106.5756714%5D%2C%20%5B32.314245%2C%20-106.7520529%5D%2C%20%5B35.527165%2C%20-108.7416734%5D%2C%20%5B35.5186142%2C%20-108.7707163%5D%2C%20%5B35.6485245%2C%20-106.0037057%5D%2C%20%5B35.6606025%2C%20-105.9623682%5D%2C%20%5B35.0606987%2C%20-106.6793782%5D%2C%20%5B35.076161%2C%20-106.723556%5D%2C%20%5B35.6307471%2C%20-106.0290267%5D%2C%20%5B34.6607051%2C%20-106.7776042%5D%2C%20%5B35.2065906%2C%20-106.6582368%5D%2C%20%5B35.057986%2C%20-106.5813804%5D%2C%20%5B35.1291314%2C%20-106.5835443%5D%2C%20%5B32.3074%2C%20-106.79%5D%2C%20%5B32.8796986%2C%20-105.9590175%5D%2C%20%5B32.3554159%2C%20-106.7622592%5D%2C%20%5B31.900595%2C%20-106.6578926%5D%2C%20%5B35.1117756%2C%20-106.6321698%5D%2C%20%5B35.205783%2C%20-106.6590197%5D%2C%20%5B32.2988%2C%20-106.803%5D%2C%20%5B35.6750049%2C%20-105.9552538%5D%2C%20%5B34.4483121%2C%20-103.1964159%5D%2C%20%5B32.3629252%2C%20-106.7483948%5D%2C%20%5B35.0773984%2C%20-106.5128456%5D%2C%20%5B32.0039995%2C%20-106.5829348%5D%2C%20%5B35.0272314%2C%20-106.714085%5D%2C%20%5B35.8109128%2C%20-105.9015536%5D%2C%20%5B32.3453208%2C%20-106.7670746%5D%2C%20%5B32.3474286%2C%20-106.7362066%5D%2C%20%5B35.2516606%2C%20-106.6504038%5D%2C%20%5B35.1826119%2C%20-106.6731599%5D%2C%20%5B35.0521061%2C%20-106.6271962%5D%2C%20%5B35.0553787%2C%20-106.6250119%5D%2C%20%5B31.8559384%2C%20-106.6391577%5D%2C%20%5B35.1434908%2C%20-106.5872277%5D%2C%20%5B32.0190829%2C%20-106.5989688%5D%2C%20%5B35.2065906%2C%20-106.6582368%5D%2C%20%5B32.2829119%2C%20-106.7677888%5D%2C%20%5B32.7152542%2C%20-103.1392999%5D%2C%20%5B33.316669%2C%20-105.6326539%5D%2C%20%5B35.8762299%2C%20-106.2559837%5D%2C%20%5B35.8810288%2C%20-106.295521%5D%2C%20%5B32.3694679%2C%20-106.7380721%5D%2C%20%5B35.084545%2C%20-106.6539003%5D%2C%20%5B32.3487901%2C%20-106.8319198%5D%2C%20%5B31.8521193%2C%20-106.700297%5D%2C%20%5B35.680708%2C%20-105.9256874%5D%2C%20%5B35.258181%2C%20-106.6406805%5D%2C%20%5B32.0039995%2C%20-106.5829348%5D%2C%20%5B35.6631345%2C%20-105.972237%5D%2C%20%5B34.8150879%2C%20-106.7632339%5D%2C%20%5B36.875203%2C%20-106.6608225%5D%2C%20%5B35.07307350000001%2C%20-106.7483437%5D%2C%20%5B32.435429%2C%20-104.236149%5D%2C%20%5B35.6824556%2C%20-105.9475431%5D%2C%20%5B35.1977672%2C%20-106.6601251%5D%2C%20%5B35.3179778%2C%20-106.549672%5D%2C%20%5B34.66365830000001%2C%20-106.7763138%5D%2C%20%5B35.1523238%2C%20-106.5850177%5D%2C%20%5B32.2859819%2C%20-106.7869591%5D%2C%20%5B32.3594952%2C%20-106.7542455%5D%2C%20%5B35.7135437%2C%20-105.8407722%5D%2C%20%5B36.7488297%2C%20-108.1597755%5D%2C%20%5B35.614626%2C%20-106.034779%5D%2C%20%5B32.2904279%2C%20-106.770738%5D%2C%20%5B35.2421284%2C%20-106.6684933%5D%2C%20%5B33.3482468%2C%20-104.5220099%5D%2C%20%5B32.177028%2C%20-106.6723754%5D%2C%20%5B35.1032622%2C%20-106.6060368%5D%2C%20%5B35.0548703%2C%20-106.6212097%5D%2C%20%5B36.1009042%2C%20-115.0632271%5D%2C%20%5B35.1545638%2C%20-114.5729482%5D%2C%20%5B35.9981162%2C%20-115.120267%5D%2C%20%5B36.159415%2C%20-115.174219%5D%2C%20%5B39.4881247%2C%20-119.7866634%5D%2C%20%5B41.899549%2C%20-87.624687%5D%2C%20%5B36.101777%2C%20-115.2979268%5D%2C%20%5B36.1142318%2C%20-114.9233787%5D%2C%20%5B39.4402429%2C%20-119.7726374%5D%2C%20%5B39.4086914%2C%20-119.723806%5D%2C%20%5B36.0109419%2C%20-115.1362725%5D%2C%20%5B36.2109254%2C%20-115.0575167%5D%2C%20%5B38.9993613%2C%20-119.1784192%5D%2C%20%5B36.2837299%2C%20-115.13486%5D%2C%20%5B36.0327977%2C%20-115.1201744%5D%2C%20%5B39.2473785%2C%20-119.9481026%5D%2C%20%5B36.0557932%2C%20-115.2878794%5D%2C%20%5B36.1424167%2C%20-115.2600039%5D%2C%20%5B39.5351578%2C%20-119.7378001%5D%2C%20%5B36.268916%2C%20-115.1168854%5D%2C%20%5B36.0557826%2C%20-115.1715095%5D%2C%20%5B39.5707658%2C%20-119.7979075%5D%2C%20%5B39.6779732%2C%20-119.8632235%5D%2C%20%5B39.531771%2C%20-119.8057712%5D%2C%20%5B40.9770681%2C%20-117.728448%5D%2C%20%5B36.2384345%2C%20-115.2324082%5D%2C%20%5B39.24638789999999%2C%20-119.9525297%5D%2C%20%5B36.1009326%2C%20-115.0996046%5D%2C%20%5B36.2698255%2C%20-115.2081778%5D%2C%20%5B36.2121342%2C%20-115.1700925%5D%2C%20%5B36.1652995%2C%20-115.173631%5D%2C%20%5B36.1056946%2C%20-115.1942265%5D%2C%20%5B36.0644963%2C%20-115.0183785%5D%2C%20%5B36.1457701%2C%20-115.1258262%5D%2C%20%5B36.0717769%2C%20-115.2847309%5D%2C%20%5B39.445102%2C%20-119.7553354%5D%2C%20%5B36.66591349999999%2C%20-114.56842%5D%2C%20%5B36.1600593%2C%20-115.0776088%5D%2C%20%5B36.1435557%2C%20-115.2514375%5D%2C%20%5B36.0568017%2C%20-115.0370535%5D%2C%20%5B36.1436301%2C%20-115.2319877%5D%2C%20%5B36.2711174%2C%20-115.0618749%5D%2C%20%5B35.15100109999999%2C%20-114.5758841%5D%2C%20%5B36.0587148%2C%20-115.2433335%5D%2C%20%5B36.1042052%2C%20-114.9270913%5D%2C%20%5B39.5240085%2C%20-119.8104586%5D%2C%20%5B39.4654159%2C%20-118.7601561%5D%2C%20%5B39.5835399%2C%20-119.7417443%5D%2C%20%5B38.9704783%2C%20-119.779016%5D%2C%20%5B36.1356607%2C%20-115.2257147%5D%2C%20%5B36.0907987%2C%20-115.2866293%5D%2C%20%5B39.5161543%2C%20-119.963571%5D%2C%20%5B35.9992403%2C%20-115.1725395%5D%2C%20%5B39.1883485%2C%20-119.7753559%5D%2C%20%5B39.4925963%2C%20-119.7941034%5D%2C%20%5B36.0723572%2C%20-115.1120166%5D%2C%20%5B39.5978368%2C%20-119.1974479%5D%2C%20%5B39.4902595%2C%20-119.8874622%5D%2C%20%5B36.2184758%2C%20-115.0848483%5D%2C%20%5B39.49513270000001%2C%20-119.8059984%5D%2C%20%5B35.9706292%2C%20-115.3074646%5D%2C%20%5B36.2171501%2C%20-115.2000434%5D%2C%20%5B35.9917169%2C%20-114.8315837%5D%2C%20%5B36.0693808%2C%20-115.2739059%5D%2C%20%5B36.1144808%2C%20-115.3096917%5D%2C%20%5B36.2054783%2C%20-115.132879%5D%2C%20%5B36.114598%2C%20-115.260899%5D%2C%20%5B36.2117708%2C%20-115.2489832%5D%2C%20%5B36.1635423%2C%20-115.145396%5D%2C%20%5B36.2117813%2C%20-116.0240038%5D%2C%20%5B36.2400451%2C%20-115.1945202%5D%2C%20%5B35.9597693%2C%20-115.1391038%5D%2C%20%5B36.1456156%2C%20-115.1814589%5D%2C%20%5B39.1925059%2C%20-119.7752202%5D%2C%20%5B36.2392373%2C%20-115.0593879%5D%2C%20%5B36.0723572%2C%20-115.1120166%5D%2C%20%5B36.1703738%2C%20-115.193046%5D%2C%20%5B36.0089478%2C%20-114.9904892%5D%2C%20%5B36.2775369%2C%20-115.2877462%5D%2C%20%5B36.0208591%2C%20-115.2772297%5D%2C%20%5B39.4683299%2C%20-119.7612904%5D%2C%20%5B39.5807596%2C%20-119.8112504%5D%2C%20%5B36.7890859%2C%20-114.1309312%5D%2C%20%5B36.3106919%2C%20-115.4178632%5D%2C%20%5B38.92158440000001%2C%20-119.716334%5D%2C%20%5B39.5247154%2C%20-119.4763565%5D%2C%20%5B36.1286745%2C%20-115.0841101%5D%2C%20%5B36.0710772%2C%20-115.1495442%5D%2C%20%5B36.2729771%2C%20-115.2518542%5D%2C%20%5B39.625208%2C%20-119.8519413%5D%2C%20%5B39.523627%2C%20-119.784781%5D%2C%20%5B38.9205485%2C%20-119.7222206%5D%2C%20%5B36.2371826%2C%20-115.232034%5D%2C%20%5B36.0747344%2C%20-115.2209359%5D%2C%20%5B39.5052248%2C%20-119.8168271%5D%2C%20%5B36.4064516%2C%20-114.9593327%5D%2C%20%5B36.2722847%2C%20-115.0102761%5D%2C%20%5B36.0704354%2C%20-115.1951223%5D%2C%20%5B36.1156276%2C%20-115.3012141%5D%2C%20%5B36.2181045%2C%20-115.1235878%5D%2C%20%5B36.2385035%2C%20-115.106832%5D%2C%20%5B36.8059261%2C%20-114.1113234%5D%2C%20%5B38.943782%2C%20-119.749976%5D%2C%20%5B36.0582723%2C%20-115.2757783%5D%2C%20%5B36.0569698%2C%20-115.2755628%5D%2C%20%5B39.2774876%2C%20-119.5588757%5D%2C%20%5B36.2832635%2C%20-115.1753734%5D%2C%20%5B36.0992968%2C%20-115.2799616%5D%2C%20%5B36.0348993%2C%20-115.3588752%5D%2C%20%5B36.2711174%2C%20-115.0618749%5D%2C%20%5B36.265457%2C%20-115.0293103%5D%2C%20%5B39.5690284%2C%20-119.8198346%5D%2C%20%5B38.915021%2C%20-119.7169573%5D%2C%20%5B36.292779%2C%20-115.2399025%5D%2C%20%5B39.4124746%2C%20-119.7501681%5D%2C%20%5B39.5099691%2C%20-119.9303673%5D%2C%20%5B36.1592995%2C%20-115.1483861%5D%2C%20%5B36.1587943%2C%20-115.2199645%5D%2C%20%5B40.982372%2C%20-117.7428006%5D%2C%20%5B39.3809028%2C%20-119.9277947%5D%2C%20%5B39.191419%2C%20-119.777303%5D%2C%20%5B36.0363056%2C%20-114.9895531%5D%2C%20%5B36.1629333%2C%20-115.1450277%5D%2C%20%5B39.4849418%2C%20-118.7918335%5D%2C%20%5B36.6749534%2C%20-114.6200674%5D%2C%20%5B39.6338011%2C%20-119.2854477%5D%2C%20%5B36.0814941%2C%20-115.2792817%5D%2C%20%5B36.0691569%2C%20-115.1460237%5D%2C%20%5B36.2396761%2C%20-115.2312248%5D%2C%20%5B36.0718906%2C%20-115.2523975%5D%2C%20%5B36.218689%2C%20-115.311264%5D%2C%20%5B36.164345%2C%20-115.1311536%5D%2C%20%5B36.2395694%2C%20-115.1951621%5D%2C%20%5B39.617176%2C%20-119.8541412%5D%2C%20%5B36.3343683%2C%20-115.3466803%5D%2C%20%5B39.6617223%2C%20-119.9603352%5D%2C%20%5B39.4329633%2C%20-119.7656842%5D%2C%20%5B36.2007119%2C%20-115.2799616%5D%2C%20%5B36.1811471%2C%20-115.2216371%5D%2C%20%5B39.397816%2C%20-119.269338%5D%2C%20%5B36.1596023%2C%20-115.327743%5D%2C%20%5B39.60636179999999%2C%20-119.8231128%5D%2C%20%5B39.2158859%2C%20-119.663545%5D%2C%20%5B38.9067276%2C%20-119.7018091%5D%2C%20%5B39.5222077%2C%20-119.8108844%5D%2C%20%5B36.0510212%2C%20-115.0182395%5D%2C%20%5B36.2267816%2C%20-115.072088%5D%2C%20%5B36.0712362%2C%20-115.2182056%5D%2C%20%5B39.623517%2C%20-119.8478768%5D%2C%20%5B39.3756048%2C%20-119.29138%5D%2C%20%5B36.222661%2C%20-115.1242048%5D%2C%20%5B36.15596439999999%2C%20-115.1941253%5D%2C%20%5B39.527491%2C%20-119.8176284%5D%2C%20%5B36.0233008%2C%20-115.0563761%5D%2C%20%5B36.142244%2C%20-115.1423178%5D%2C%20%5B39.6106293%2C%20-119.8623105%5D%2C%20%5B39.658591%2C%20-119.999813%5D%2C%20%5B36.1417225%2C%20-115.1512229%5D%2C%20%5B39.5264248%2C%20-119.8153013%5D%2C%20%5B35.9586749%2C%20-115.1729593%5D%2C%20%5B40.6421004%2C%20-116.9347064%5D%2C%20%5B36.1584896%2C%20-115.2534287%5D%2C%20%5B36.0746899%2C%20-114.953904%5D%2C%20%5B36.1590552%2C%20-115.1407992%5D%2C%20%5B36.8067996%2C%20-114.1109564%5D%2C%20%5B36.0679974%2C%20-115.1419472%5D%2C%20%5B39.617176%2C%20-119.8541412%5D%2C%20%5B39.5407867%2C%20-119.2370376%5D%2C%20%5B36.1673841%2C%20-115.1458384%5D%2C%20%5B39.5285214%2C%20-119.8286678%5D%2C%20%5B39.0266652%2C%20-119.7610708%5D%2C%20%5B36.1442827%2C%20-115.1644893%5D%2C%20%5B36.0771133%2C%20-115.0267788%5D%2C%20%5B36.1187071%2C%20-115.0643957%5D%2C%20%5B39.60865099999999%2C%20-119.2536866%5D%2C%20%5B39.6199967%2C%20-119.8925988%5D%2C%20%5B41.5770502%2C%20-109.2502376%5D%2C%20%5B36.1159741%2C%20-115.0974734%5D%2C%20%5B37.0206228%2C%20-96.02315139999999%5D%2C%20%5B36.2775545%2C%20-115.2886202%5D%2C%20%5B36.0142708%2C%20-115.2070948%5D%2C%20%5B39.52508419999999%2C%20-119.8185035%5D%2C%20%5B36.0810555%2C%20-115.0546153%5D%2C%20%5B39.476074%2C%20-119.8128483%5D%2C%20%5B39.552902%2C%20-119.02964%5D%2C%20%5B38.9370674%2C%20-119.7417809%5D%2C%20%5B36.1595657%2C%20-115.2905186%5D%2C%20%5B36.071872%2C%20-115.2871386%5D%2C%20%5B39.2774876%2C%20-119.5588757%5D%2C%20%5B36.0946152%2C%20-115.2977348%5D%2C%20%5B36.2765321%2C%20-116.0349808%5D%2C%20%5B36.0915277%2C%20-115.1904907%5D%2C%20%5B36.2114943%2C%20-115.2975826%5D%2C%20%5B39.3809028%2C%20-119.9277947%5D%2C%20%5B39.5239869%2C%20-119.7370033%5D%2C%20%5B35.9781451%2C%20-115.1849954%5D%2C%20%5B36.1877187%2C%20-115.3136686%5D%2C%20%5B36.2409275%2C%20-115.1402332%5D%2C%20%5B39.6078221%2C%20-119.2497618%5D%2C%20%5B36.3128043%2C%20-115.2060064%5D%2C%20%5B39.7688802%2C%20-119.6852324%5D%2C%20%5B36.1662544%2C%20-115.0617279%5D%2C%20%5B39.1292626%2C%20-94.50697919999999%5D%2C%20%5B36.0920713%2C%20-115.2866293%5D%2C%20%5B36.0311709%2C%20-115.1815746%5D%2C%20%5B36.0642565%2C%20-115.0510011%5D%2C%20%5B39.39947%2C%20-119.246679%5D%2C%20%5B36.0135167%2C%20-115.0591563%5D%2C%20%5B36.215713%2C%20-115.209052%5D%2C%20%5B36.0683268%2C%20-115.1551723%5D%2C%20%5B36.2127882%2C%20-115.0622904%5D%2C%20%5B39.5561409%2C%20-119.5319775%5D%2C%20%5B35.9992716%2C%20-115.2048022%5D%2C%20%5B36.070797%2C%20-115.2328986%5D%2C%20%5B39.4434437%2C%20-119.762057%5D%2C%20%5B36.219588%2C%20-115.99408%5D%2C%20%5B36.0435828%2C%20-114.9743734%5D%2C%20%5B36.0708517%2C%20-115.2329984%5D%2C%20%5B36.2105948%2C%20-115.0351414%5D%2C%20%5B39.6617712%2C%20-119.1516419%5D%2C%20%5B39.5269607%2C%20-119.7446669%5D%2C%20%5B36.1592541%2C%20-115.1468112%5D%2C%20%5B36.078619%2C%20-115.296056%5D%2C%20%5B39.2770777%2C%20-119.5090562%5D%2C%20%5B39.4241225%2C%20-119.7486707%5D%2C%20%5B36.0762739%2C%20-115.0809367%5D%2C%20%5B36.0223418%2C%20-115.2803592%5D%2C%20%5B37.613597%2C%20-115.2234269%5D%2C%20%5B39.1858081%2C%20-119.7475806%5D%2C%20%5B36.0064704%2C%20-115.1725041%5D%2C%20%5B36.0630123%2C%20-115.265461%5D%2C%20%5B36.2361999%2C%20-115.062794%5D%2C%20%5B38.9873324%2C%20-94.66811390000001%5D%2C%20%5B36.0796009%2C%20-115.0455797%5D%2C%20%5B36.157797%2C%20-115.1638112%5D%2C%20%5B39.4418275%2C%20-119.8126148%5D%2C%20%5B36.1035022%2C%20-115.1631164%5D%2C%20%5B36.1965204%2C%20-115.2507429%5D%2C%20%5B36.0703403%2C%20-115.0863772%5D%2C%20%5B36.1036262%2C%20-114.939821%5D%2C%20%5B39.5302903%2C%20-119.817996%5D%2C%20%5B36.0615447%2C%20-115.2606812%5D%2C%20%5B39.5181533%2C%20-119.7707421%5D%2C%20%5B39.4258862%2C%20-119.7535975%5D%2C%20%5B39.1009839%2C%20-119.779012%5D%2C%20%5B39.5061304%2C%20-119.8569985%5D%2C%20%5B36.0859025%2C%20-115.086493%5D%2C%20%5B40.7514386%2C%20-115.6290142%5D%2C%20%5B39.6851741%2C%20-119.7194377%5D%2C%20%5B36.0671129%2C%20-115.2335583%5D%2C%20%5B36.1006745%2C%20-115.0657861%5D%2C%20%5B40.7266349%2C%20-116.0717522%5D%2C%20%5B39.2618937%2C%20-119.5827498%5D%2C%20%5B39.53125199999999%2C%20-119.8185699%5D%2C%20%5B36.0755253%2C%20-115.0681915%5D%2C%20%5B39.5613323%2C%20-119.4872285%5D%2C%20%5B36.13241440000001%2C%20-115.1730376%5D%2C%20%5B36.1581728%2C%20-115.144356%5D%2C%20%5B36.14192550000001%2C%20-115.1720099%5D%2C%20%5B39.5176241%2C%20-119.9986273%5D%2C%20%5B36.0428157%2C%20-115.1559162%5D%2C%20%5B36.1288909%2C%20-115.1087778%5D%2C%20%5B39.6391857%2C%20-119.8469441%5D%2C%20%5B36.1947342%2C%20-115.1628848%5D%2C%20%5B36.2837299%2C%20-115.13486%5D%2C%20%5B39.4734004%2C%20-119.763922%5D%2C%20%5B36.1601527%2C%20-115.0763463%5D%2C%20%5B36.1542556%2C%20-115.2427315%5D%2C%20%5B36.250948%2C%20-115.240035%5D%2C%20%5B36.1262548%2C%20-115.1376854%5D%2C%20%5B36.1440587%2C%20-115.1858359%5D%2C%20%5B36.0361817%2C%20-115.2782947%5D%2C%20%5B36.1215727%2C%20-115.1913192%5D%2C%20%5B39.4702926%2C%20-119.8096261%5D%2C%20%5B36.0032816%2C%20-115.1183676%5D%2C%20%5B36.0787024%2C%20-115.0242848%5D%2C%20%5B36.0364244%2C%20-115.0187064%5D%2C%20%5B36.0810588%2C%20-115.1953076%5D%2C%20%5B36.2704588%2C%20-115.0620588%5D%2C%20%5B36.0694707%2C%20-115.1615415%5D%2C%20%5B39.0114861%2C%20-119.760082%5D%2C%20%5B36.0978242%2C%20-115.1817368%5D%2C%20%5B39.4241225%2C%20-119.7486707%5D%2C%20%5B36.0061855%2C%20-115.1374502%5D%2C%20%5B39.6078221%2C%20-119.2497618%5D%2C%20%5B39.5356125%2C%20-119.8157029%5D%2C%20%5B36.163442%2C%20-115.061798%5D%2C%20%5B38.963697%2C%20-119.9398352%5D%2C%20%5B39.6117308%2C%20-119.2152876%5D%2C%20%5B39.558586%2C%20-119.8005027%5D%2C%20%5B36.03458880000001%2C%20-115.1191088%5D%2C%20%5B36.1529419%2C%20-115.1522772%5D%2C%20%5B40.7376277%2C%20-114.0583214%5D%2C%20%5B39.39842489999999%2C%20-119.738076%5D%2C%20%5B39.4683062%2C%20-119.7845191%5D%2C%20%5B39.60583099999999%2C%20-119.199771%5D%2C%20%5B39.1544376%2C%20-119.7685256%5D%2C%20%5B36.1607144%2C%20-115.1212555%5D%2C%20%5B40.749942%2C%20-74.0049445%5D%2C%20%5B40.7228447%2C%20-74.00165489999999%5D%2C%20%5B40.57256719999999%2C%20-74.10810640000001%5D%2C%20%5B40.6375648%2C%20-73.9265296%5D%2C%20%5B40.9330906%2C%20-73.89846349999999%5D%2C%20%5B40.732659%2C%20-73.9930858%5D%2C%20%5B40.6759335%2C%20-73.89761779999999%5D%2C%20%5B42.7875027%2C%20-73.67191629999999%5D%2C%20%5B40.65737060000001%2C%20-73.9848854%5D%2C%20%5B41.2623129%2C%20-73.7776628%5D%2C%20%5B41.2919323%2C%20-73.8885083%5D%2C%20%5B42.6967027%2C%20-73.6462165%5D%2C%20%5B40.7266942%2C%20-74.0013963%5D%2C%20%5B40.7374018%2C%20-73.9933561%5D%2C%20%5B40.78121%2C%20-73.9155959%5D%2C%20%5B40.6837667%2C%20-73.98991269999999%5D%2C%20%5B40.8928986%2C%20-73.85475129999999%5D%2C%20%5B42.73245199999999%2C%20-73.7949189%5D%2C%20%5B40.9170305%2C%20-73.7806458%5D%2C%20%5B40.7574403%2C%20-73.5477258%5D%2C%20%5B41.4750475%2C%20-74.0233105%5D%2C%20%5B40.8723687%2C%20-72.53782489999999%5D%2C%20%5B42.9913347%2C%20-78.814151%5D%2C%20%5B40.737073%2C%20-73.934122%5D%2C%20%5B40.7435248%2C%20-73.9994683%5D%2C%20%5B40.5896602%2C%20-74.101557%5D%2C%20%5B40.7076516%2C%20-73.75103849999999%5D%2C%20%5B40.7505456%2C%20-74.003671%5D%2C%20%5B40.6959352%2C%20-73.9429991%5D%2C%20%5B40.733919%2C%20-73.8734522%5D%2C%20%5B40.9156854%2C%20-73.84222799999999%5D%2C%20%5B43.170124%2C%20-73.71459279999999%5D%2C%20%5B40.7351694%2C%20-73.6034632%5D%2C%20%5B41.156996%2C%20-74.0537219%5D%2C%20%5B40.742389%2C%20-73.883375%5D%2C%20%5B43.0161836%2C%20-75.0358335%5D%2C%20%5B40.8283777%2C%20-73.0199116%5D%2C%20%5B40.7184016%2C%20-73.9503296%5D%2C%20%5B40.7603126%2C%20-73.9661582%5D%2C%20%5B40.7853138%2C%20-73.7101342%5D%2C%20%5B40.7550154%2C%20-73.8329807%5D%2C%20%5B40.8462066%2C%20-73.91306449999999%5D%2C%20%5B42.7542977%2C%20-73.7729207%5D%2C%20%5B40.9139209%2C%20-73.7804204%5D%2C%20%5B40.6807396%2C%20-73.9509589%5D%2C%20%5B40.855085%2C%20-73.88884%5D%2C%20%5B40.77081039999999%2C%20-73.527157%5D%2C%20%5B40.8170934%2C%20-73.9406434%5D%2C%20%5B44.0151094%2C%20-74.41175299999999%5D%2C%20%5B40.706496%2C%20-73.624062%5D%2C%20%5B40.7140456%2C%20-73.9881005%5D%2C%20%5B40.75228389999999%2C%20-72.98628529999999%5D%2C%20%5B40.7504413%2C%20-73.5047262%5D%2C%20%5B41.4079705%2C%20-74.4122117%5D%2C%20%5B40.880779%2C%20-73.8585842%5D%2C%20%5B40.7171185%2C%20-73.95991169999999%5D%2C%20%5B41.109386%2C%20-74.043706%5D%2C%20%5B41.3062483%2C%20-73.6967836%5D%2C%20%5B40.7102231%2C%20-73.7840914%5D%2C%20%5B42.483631%2C%20-79.3284682%5D%2C%20%5B40.7300423%2C%20-73.8888271%5D%2C%20%5B40.832978%2C%20-73.8954267%5D%2C%20%5B40.6176055%2C%20-74.0657665%5D%2C%20%5B40.7838939%2C%20-73.97662%5D%2C%20%5B40.730211%2C%20-73.88884100000001%5D%2C%20%5B41.0762617%2C%20-72.40368699999999%5D%2C%20%5B40.880779%2C%20-73.8585842%5D%2C%20%5B40.8142572%2C%20-73.8938649%5D%2C%20%5B40.9039129%2C%20-73.82747859999999%5D%2C%20%5B42.5170033%2C%20-76.9225917%5D%2C%20%5B41.7325356%2C%20-74.94903029999999%5D%2C%20%5B41.3112013%2C%20-73.90300560000001%5D%2C%20%5B40.6936215%2C%20-73.99085989999999%5D%2C%20%5B40.8121611%2C%20-73.2199535%5D%2C%20%5B40.748937%2C%20-73.9782369%5D%2C%20%5B40.663884%2C%20-73.984296%5D%2C%20%5B40.818622%2C%20-72.946011%5D%2C%20%5B40.9259387%2C%20-73.8359752%5D%2C%20%5B40.7378821%2C%20-74.0047072%5D%2C%20%5B40.66317799999999%2C%20-73.9991043%5D%2C%20%5B42.7921717%2C%20-78.7710863%5D%2C%20%5B40.8484338%2C%20-73.24198%5D%2C%20%5B41.0673001%2C%20-73.8185642%5D%2C%20%5B40.6761168%2C%20-73.8179026%5D%2C%20%5B26.3516459%2C%20-80.0845279%5D%2C%20%5B42.7569032%2C%20-78.8229564%5D%2C%20%5B43.0434759%2C%20-73.79109179999999%5D%2C%20%5B40.9154943%2C%20-73.83727139999999%5D%2C%20%5B40.6901973%2C%20-73.9729794%5D%2C%20%5B40.913217%2C%20-73.90206189999999%5D%2C%20%5B40.6705016%2C%20-73.8997904%5D%2C%20%5B42.9037253%2C%20-78.8691528%5D%2C%20%5B41.576993%2C%20-73.73166599999999%5D%2C%20%5B40.6138443%2C%20-73.9276299%5D%2C%20%5B43.2566305%2C%20-75.1857733%5D%2C%20%5B43.0864024%2C%20-77.6251972%5D%2C%20%5B40.99332709999999%2C%20-73.8200576%5D%2C%20%5B40.7190485%2C%20-73.9575768%5D%2C%20%5B40.5172134%2C%20-74.2426969%5D%2C%20%5B40.9919231%2C%20-72.296216%5D%2C%20%5B40.6777631%2C%20-73.980313%5D%2C%20%5B40.692743%2C%20-73.99378%5D%2C%20%5B40.5465875%2C%20-74.2298088%5D%2C%20%5B43.1224533%2C%20-77.64724369999999%5D%2C%20%5B40.721216%2C%20-73.732033%5D%2C%20%5B40.7124393%2C%20-73.6186199%5D%2C%20%5B40.81719409999999%2C%20-73.25838329999999%5D%2C%20%5B44.6667983%2C%20-74.9932666%5D%2C%20%5B40.73309649999999%2C%20-74.00083939999999%5D%2C%20%5B40.7229104%2C%20-74.0001733%5D%2C%20%5B40.6943461%2C%20-73.39384799999999%5D%2C%20%5B40.7129266%2C%20-73.95777199999999%5D%2C%20%5B40.7230019%2C%20-73.9893263%5D%2C%20%5B40.692411%2C%20-73.8327319%5D%2C%20%5B40.7067959%2C%20-73.9201104%5D%2C%20%5B40.949117%2C%20-73.8960238%5D%2C%20%5B42.9454587%2C%20-76.4278929%5D%2C%20%5B41.6953116%2C%20-73.90202169999999%5D%2C%20%5B40.6666086%2C%20-73.77311259999999%5D%2C%20%5B40.7613343%2C%20-73.9654407%5D%2C%20%5B40.7792697%2C%20-73.9879819%5D%2C%20%5B40.6820506%2C%20-73.3885296%5D%2C%20%5B40.6691013%2C%20-73.9133255%5D%2C%20%5B40.75764470000001%2C%20-73.9668514%5D%2C%20%5B40.6071943%2C%20-74.0019265%5D%2C%20%5B40.6845074%2C%20-73.8423803%5D%2C%20%5B40.7424008%2C%20-73.617792%5D%2C%20%5B40.6989547%2C%20-73.3229793%5D%2C%20%5B40.6990295%2C%20-73.8272434%5D%2C%20%5B40.915458%2C%20-73.83696599999999%5D%2C%20%5B40.7139379%2C%20-73.9622376%5D%2C%20%5B40.7180572%2C%20-74.00176510000001%5D%2C%20%5B40.7804934%2C%20-73.04108339999999%5D%2C%20%5B40.845139%2C%20-73.699615%5D%2C%20%5B40.7165741%2C%20-73.9953824%5D%2C%20%5B40.7481888%2C%20-73.9863847%5D%2C%20%5B40.714053%2C%20-73.93811%5D%2C%20%5B40.68156159999999%2C%20-73.9276127%5D%2C%20%5B40.6288536%2C%20-74.0746474%5D%2C%20%5B43.3915474%2C%20-73.7250761%5D%2C%20%5B36.0605009%2C%20-95.76378779999999%5D%2C%20%5B40.9098237%2C%20-73.836094%5D%2C%20%5B40.7184748%2C%20-73.95973409999999%5D%2C%20%5B42.5451218%2C%20-83.2141401%5D%2C%20%5B40.7767405%2C%20-73.91046949999999%5D%2C%20%5B40.74369%2C%20-73.879594%5D%2C%20%5B40.6396244%2C%20-73.9274859%5D%2C%20%5B40.941129%2C%20-72.9888224%5D%2C%20%5B40.5438496%2C%20-74.164067%5D%2C%20%5B40.7208625%2C%20-74.008742%5D%2C%20%5B40.74465379999999%2C%20-74.0063929%5D%2C%20%5B41.6059367%2C%20-73.8370819%5D%2C%20%5B40.7877656%2C%20-73.9687349%5D%2C%20%5B40.6357685%2C%20-73.9511684%5D%2C%20%5B40.88308139999999%2C%20-72.3933109%5D%2C%20%5B40.6833506%2C%20-73.99467609999999%5D%2C%20%5B40.7191752%2C%20-74.0068002%5D%2C%20%5B40.64024269999999%2C%20-73.655648%5D%2C%20%5B40.6329059%2C%20-74.0223944%5D%2C%20%5B40.8991718%2C%20-73.8347271%5D%2C%20%5B40.7223702%2C%20-74.00839119999999%5D%2C%20%5B40.7768656%2C%20-73.9208826%5D%2C%20%5B40.7585932%2C%20-73.7687691%5D%2C%20%5B40.5983584%2C%20-73.9515728%5D%2C%20%5B40.7124375%2C%20-73.9182056%5D%2C%20%5B40.6863365%2C%20-73.9999839%5D%2C%20%5B40.7139707%2C%20-73.9553301%5D%2C%20%5B40.648945%2C%20-73.955499%5D%2C%20%5B40.9442035%2C%20-72.8389725%5D%2C%20%5B42.4384261%2C%20-76.4973792%5D%2C%20%5B40.73494%2C%20-73.9827816%5D%2C%20%5B40.76194419999999%2C%20-73.96509100000002%5D%2C%20%5B40.7698167%2C%20-73.5996931%5D%2C%20%5B41.2632264%2C%20-73.7792255%5D%2C%20%5B40.8057951%2C%20-72.8363622%5D%2C%20%5B40.6762445%2C%20-73.89485979999999%5D%2C%20%5B40.775424%2C%20-73.9795738%5D%2C%20%5B40.7125152%2C%20-73.3975778%5D%2C%20%5B40.7887157%2C%20-73.1182716%5D%2C%20%5B41.690677%2C%20-73.59440099999999%5D%2C%20%5B40.6027757%2C%20-74.0058413%5D%2C%20%5B40.5832821%2C%20-73.98672189999999%5D%2C%20%5B40.7836531%2C%20-73.7311905%5D%2C%20%5B41.4683107%2C%20-74.3731802%5D%2C%20%5B40.738791%2C%20-73.856698%5D%2C%20%5B40.6419086%2C%20-73.9368776%5D%2C%20%5B40.910821%2C%20-73.83442099999999%5D%2C%20%5B40.7611736%2C%20-73.9957491%5D%2C%20%5B40.6749853%2C%20-73.9753468%5D%2C%20%5B40.6783392%2C%20-73.4562319%5D%2C%20%5B40.6698701%2C%20-73.9226678%5D%2C%20%5B40.9102441%2C%20-73.8513315%5D%2C%20%5B42.087635%2C%20-73.98827200000001%5D%2C%20%5B43.0390236%2C%20-78.9407349%5D%2C%20%5B43.03390659999999%2C%20-78.69615329999999%5D%2C%20%5B41.0673001%2C%20-73.8185642%5D%2C%20%5B40.9082791%2C%20-73.7861195%5D%2C%20%5B40.7655106%2C%20-73.8312988%5D%2C%20%5B40.7203556%2C%20-73.2678813%5D%2C%20%5B40.6180276%2C%20-74.0712277%5D%2C%20%5B40.8507964%2C%20-73.86750649999999%5D%2C%20%5B42.078034%2C%20-76.8038384%5D%2C%20%5B40.7707498%2C%20-73.9646918%5D%2C%20%5B40.6413681%2C%20-73.95604999999999%5D%2C%20%5B40.935351%2C%20-72.653241%5D%2C%20%5B40.6846732%2C%20-73.9972944%5D%2C%20%5B40.7369013%2C%20-73.979072%5D%2C%20%5B40.8111218%2C%20-73.9276689%5D%2C%20%5B40.744933%2C%20-73.95553699999999%5D%2C%20%5B40.6273487%2C%20-74.0102964%5D%2C%20%5B40.5969658%2C%20-73.97115860000001%5D%2C%20%5B40.7551134%2C%20-73.5605631%5D%2C%20%5B40.8876332%2C%20-72.3904672%5D%2C%20%5B40.7023151%2C%20-73.7902381%5D%2C%20%5B40.7244699%2C%20-73.7053526%5D%2C%20%5B42.90324529999999%2C%20-78.8733494%5D%2C%20%5B40.7077947%2C%20-73.4027481%5D%2C%20%5B40.6946136%2C%20-73.9635807%5D%2C%20%5B40.857535%2C%20-73.6215177%5D%2C%20%5B40.6950521%2C%20-73.9694366%5D%2C%20%5B40.6546323%2C%20-73.6708663%5D%2C%20%5B41.2146643%2C%20-73.7196972%5D%2C%20%5B40.6245688%2C%20-74.13709399999999%5D%2C%20%5B40.6679894%2C%20-73.99032179999999%5D%2C%20%5B40.7643223%2C%20-73.8842955%5D%2C%20%5B40.7061965%2C%20-74.0157366%5D%2C%20%5B40.7841721%2C%20-73.8415062%5D%2C%20%5B40.6726665%2C%20-73.9738483%5D%2C%20%5B29.91407%2C%20-95.439894%5D%2C%20%5B43.184648%2C%20-76.20236799999999%5D%2C%20%5B40.7137608%2C%20-73.98784669999999%5D%2C%20%5B40.805614%2C%20-73.6393637%5D%2C%20%5B43.08689529999999%2C%20-75.3133624%5D%2C%20%5B41.0760861%2C%20-73.85812480000001%5D%2C%20%5B40.72233490000001%2C%20-74.01020969999999%5D%2C%20%5B43.0516768%2C%20-77.05770559999999%5D%2C%20%5B40.7879085%2C%20-73.4674637%5D%2C%20%5B40.6489684%2C%20-73.5690491%5D%2C%20%5B40.6139535%2C%20-73.92780739999999%5D%2C%20%5B41.033718%2C%20-71.9452514%5D%2C%20%5B40.7717134%2C%20-73.92355119999999%5D%2C%20%5B40.7385531%2C%20-73.8856928%5D%2C%20%5B40.7159283%2C%20-73.9557975%5D%2C%20%5B40.6904015%2C%20-73.9258317%5D%2C%20%5B40.6759546%2C%20-73.8976982%5D%2C%20%5B40.7174837%2C%20-73.98330059999999%5D%2C%20%5B40.7615834%2C%20-73.4271012%5D%2C%20%5B40.755437%2C%20-73.930229%5D%2C%20%5B40.8335441%2C%20-73.2610096%5D%2C%20%5B41.16554319999999%2C%20-73.93864570000001%5D%2C%20%5B40.8536923%2C%20-73.8894967%5D%2C%20%5B40.788747%2C%20-73.9415389%5D%2C%20%5B42.79166619999999%2C%20-73.7631615%5D%2C%20%5B41.6981924%2C%20-73.9099413%5D%2C%20%5B40.5870785%2C%20-73.96013409999999%5D%2C%20%5B42.8776473%2C%20-77.24874109999999%5D%2C%20%5B40.7376199%2C%20-73.88529199999999%5D%2C%20%5B42.6043346%2C%20-73.755692%5D%2C%20%5B43.049782%2C%20-76.123283%5D%2C%20%5B41.6357087%2C%20-74.71884229999999%5D%2C%20%5B40.6133752%2C%20-73.9135294%5D%2C%20%5B40.662721%2C%20-73.99767159999999%5D%2C%20%5B40.6792456%2C%20-73.9972095%5D%2C%20%5B43.3255596%2C%20-73.68277619999999%5D%2C%20%5B40.7997118%2C%20-73.1156898%5D%2C%20%5B40.70226299999999%2C%20-73.92571769999999%5D%2C%20%5B40.7394471%2C%20-73.6721079%5D%2C%20%5B42.7569032%2C%20-78.8229564%5D%2C%20%5B40.7674252%2C%20-73.9203442%5D%2C%20%5B40.9054282%2C%20-73.8343917%5D%2C%20%5B40.7217499%2C%20-73.5779082%5D%2C%20%5B40.909914%2C%20-73.8517339%5D%2C%20%5B33.4072355%2C%20-111.9198781%5D%2C%20%5B40.7447019%2C%20-73.911681%5D%2C%20%5B40.7437584%2C%20-73.3081387%5D%2C%20%5B40.6050899%2C%20-73.9996319%5D%2C%20%5B40.8031725%2C%20-73.9478263%5D%2C%20%5B40.6559248%2C%20-73.9199309%5D%2C%20%5B40.8434263%2C%20-73.86678479999999%5D%2C%20%5B40.6510347%2C%20-73.9041999%5D%2C%20%5B40.6615013%2C%20-73.90116830000001%5D%2C%20%5B40.7850246%2C%20-73.1117831%5D%2C%20%5B43.5364402%2C%20-73.8500155%5D%2C%20%5B43.0340189%2C%20-76.1882098%5D%2C%20%5B40.7581911%2C%20-73.5004857%5D%2C%20%5B41.66825300000001%2C%20-73.932148%5D%2C%20%5B40.683785%2C%20-73.96718659999999%5D%2C%20%5B42.5681973%2C%20-77.5892539%5D%2C%20%5B40.5858278%2C%20-73.9457311%5D%2C%20%5B40.8167583%2C%20-73.9406774%5D%2C%20%5B40.775703%2C%20-73.935639%5D%2C%20%5B40.6506349%2C%20-73.956754%5D%2C%20%5B40.7655847%2C%20-73.9707741%5D%2C%20%5B40.8576644%2C%20-73.3903024%5D%2C%20%5B40.7398206%2C%20-73.9919529%5D%2C%20%5B41.2919323%2C%20-73.8885083%5D%2C%20%5B40.7115577%2C%20-73.9581958%5D%2C%20%5B40.7173777%2C%20-73.94967220000001%5D%2C%20%5B40.7055044%2C%20-73.63807589999999%5D%2C%20%5B43.215894%2C%20-77.732688%5D%2C%20%5B40.71312%2C%20-73.940005%5D%2C%20%5B40.7459075%2C%20-73.91461129999999%5D%2C%20%5B40.7514197%2C%20-73.88056019999999%5D%2C%20%5B40.7789333%2C%20-73.5307268%5D%2C%20%5B40.6739122%2C%20-74.0016898%5D%2C%20%5B40.7462271%2C%20-73.9731722%5D%2C%20%5B41.5258498%2C%20-73.9656929%5D%2C%20%5B40.8555931%2C%20-73.1628034%5D%2C%20%5B40.7251196%2C%20-74.0049023%5D%2C%20%5B40.694116%2C%20-73.94345190000001%5D%2C%20%5B40.710888%2C%20-73.8548177%5D%2C%20%5B41.46037219999999%2C%20-73.9203701%5D%2C%20%5B42.2557482%2C%20-73.76414969999999%5D%2C%20%5B40.900899%2C%20-72.313203%5D%2C%20%5B40.7788463%2C%20-73.9507003%5D%2C%20%5B40.7013591%2C%20-73.8855767%5D%2C%20%5B40.6623395%2C%20-73.9957014%5D%2C%20%5B40.7463064%2C%20-74.0043554%5D%2C%20%5B40.745005%2C%20-73.92943799999999%5D%2C%20%5B40.5438496%2C%20-74.164067%5D%2C%20%5B40.6778401%2C%20-73.4370813%5D%2C%20%5B40.697002%2C%20-73.9952639%5D%2C%20%5B40.7257027%2C%20-73.98360459999999%5D%2C%20%5B40.8057919%2C%20-73.1937768%5D%2C%20%5B37.4675174%2C%20-96.2672142%5D%2C%20%5B43.1555668%2C%20-78.6811123%5D%2C%20%5B40.933967%2C%20-72.65575%5D%2C%20%5B40.8825199%2C%20-73.9046695%5D%2C%20%5B43.001185%2C%20-78.1960733%5D%2C%20%5B40.722282%2C%20-73.9501899%5D%2C%20%5B41.401431%2C%20-74.3444841%5D%2C%20%5B40.6835205%2C%20-73.9906772%5D%2C%20%5B40.7370795%2C%20-73.93656659999999%5D%2C%20%5B41.2919323%2C%20-73.8885083%5D%2C%20%5B42.906234%2C%20-78.8728975%5D%2C%20%5B40.5974038%2C%20-73.9352014%5D%2C%20%5B40.581111%2C%20-73.83555%5D%2C%20%5B42.2717929%2C%20-73.7635062%5D%2C%20%5B40.742248%2C%20-73.98394809999999%5D%2C%20%5B40.7282544%2C%20-73.9932413%5D%2C%20%5B40.7770395%2C%20-73.8234961%5D%2C%20%5B41.031138%2C%20-72.505866%5D%2C%20%5B40.6423833%2C%20-74.00203309999999%5D%2C%20%5B42.5676326%2C%20-77.0900367%5D%2C%20%5B40.7574139%2C%20-73.9654468%5D%2C%20%5B41.7696691%2C%20-73.96012879999999%5D%2C%20%5B40.6365863%2C%20-74.0766096%5D%2C%20%5B44.6981559%2C%20-73.49875399999999%5D%2C%20%5B40.663303%2C%20-73.875405%5D%2C%20%5B40.6995774%2C%20-73.9008632%5D%2C%20%5B40.7846344%2C%20-73.8411558%5D%2C%20%5B40.7497124%2C%20-73.9747828%5D%2C%20%5B40.8426347%2C%20-73.42557169999999%5D%2C%20%5B41.4985601%2C%20-74.0708605%5D%2C%20%5B40.713504%2C%20-73.935649%5D%2C%20%5B40.6622674%2C%20-73.8771781%5D%2C%20%5B40.7589949%2C%20-73.55464140000001%5D%2C%20%5B40.706972%2C%20-73.916101%5D%2C%20%5B40.676276%2C%20-74.015199%5D%2C%20%5B40.7601894%2C%20-73.9893463%5D%2C%20%5B40.6704004%2C%20-73.9226127%5D%2C%20%5B40.6335382%2C%20-73.7099643%5D%2C%20%5B40.814416%2C%20-73.91431399999999%5D%2C%20%5B40.7191752%2C%20-74.0068002%5D%2C%20%5B40.8397303%2C%20-73.93742069999999%5D%2C%20%5B44.2157943%2C%20-73.5909922%5D%2C%20%5B40.7674233%2C%20-73.9674263%5D%2C%20%5B40.7549198%2C%20-73.9319927%5D%2C%20%5B40.7420509%2C%20-73.955697%5D%2C%20%5B40.76476419999999%2C%20-73.52010849999999%5D%2C%20%5B40.7179357%2C%20-73.997631%5D%2C%20%5B40.7892887%2C%20-73.97945610000001%5D%2C%20%5B40.75777739999999%2C%20-73.9807819%5D%2C%20%5B43.1290933%2C%20-77.6581934%5D%2C%20%5B40.743459%2C%20-73.981166%5D%2C%20%5B40.75326769999999%2C%20-73.8610265%5D%2C%20%5B41.569922%2C%20-73.9092982%5D%2C%20%5B41.4487094%2C%20-73.6878088%5D%2C%20%5B40.8425029%2C%20-73.91572839999999%5D%2C%20%5B40.7760744%2C%20-73.9328499%5D%2C%20%5B40.7121472%2C%20-73.9273963%5D%2C%20%5B40.8416685%2C%20-73.8417264%5D%2C%20%5B40.73325150000001%2C%20-73.6603583%5D%2C%20%5B40.750604%2C%20-73.9862857%5D%2C%20%5B41.034124%2C%20-73.82069000000001%5D%2C%20%5B40.705829%2C%20-73.9425763%5D%2C%20%5B40.7683139%2C%20-73.83334219999999%5D%2C%20%5B40.6702569%2C%20-73.8905015%5D%2C%20%5B40.62104%2C%20-73.964817%5D%2C%20%5B40.761442%2C%20-73.9023782%5D%2C%20%5B42.7937059%2C%20-74.0071517%5D%2C%20%5B41.8671503%2C%20-75.24859370000001%5D%2C%20%5B40.709495%2C%20-73.9276795%5D%2C%20%5B40.7860887%2C%20-73.51652659999999%5D%2C%20%5B41.1093582%2C%20-74.04625%5D%2C%20%5B40.7796639%2C%20-73.98566199999999%5D%2C%20%5B43.0978599%2C%20-75.3034079%5D%2C%20%5B40.7132428%2C%20-73.95777489999999%5D%2C%20%5B40.7194734%2C%20-74.0081158%5D%2C%20%5B40.410186%2C%20-74.3048962%5D%2C%20%5B40.758598%2C%20-73.803939%5D%2C%20%5B40.7447025%2C%20-73.9285936%5D%2C%20%5B40.7672866%2C%20-73.98881089999999%5D%2C%20%5B40.835578%2C%20-73.94713899999999%5D%2C%20%5B40.613782%2C%20-74.000846%5D%2C%20%5B40.79981799999999%2C%20-73.945979%5D%2C%20%5B40.6719994%2C%20-73.3946539%5D%2C%20%5B40.6963461%2C%20-73.9964427%5D%2C%20%5B40.93661590000001%2C%20-72.3132488%5D%2C%20%5B39.006405%2C%20-83.91774%5D%2C%20%5B40.9001569%2C%20-80.8293881%5D%2C%20%5B39.1716972%2C%20-84.42957539999999%5D%2C%20%5B39.8219657%2C%20-82.93742530000002%5D%2C%20%5B41.5069608%2C%20-81.65885709999999%5D%2C%20%5B41.5563799%2C%20-83.62770569999999%5D%2C%20%5B39.3387336%2C%20-84.4001122%5D%2C%20%5B40.011563%2C%20-82.91422500000002%5D%2C%20%5B41.5834779%2C%20-83.6641406%5D%2C%20%5B39.9715722%2C%20-83.11010639999999%5D%2C%20%5B40.0784854%2C%20-82.8812226%5D%2C%20%5B41.2918843%2C%20-81.3460568%5D%2C%20%5B41.4529587%2C%20-81.6572118%5D%2C%20%5B41.13358789999999%2C%20-81.8953839%5D%2C%20%5B40.1149625%2C%20-83.00516680000001%5D%2C%20%5B39.2921703%2C%20-84.2982306%5D%2C%20%5B41.4559096%2C%20-81.88247299999999%5D%2C%20%5B38.7348871%2C%20-82.862548%5D%2C%20%5B39.6738739%2C%20-83.9496179%5D%2C%20%5B41.725994%2C%20-81.2486294%5D%2C%20%5B39.0723243%2C%20-84.3342524%5D%2C%20%5B40.03020619999999%2C%20-83.1195115%5D%2C%20%5B29.7837326%2C%20-95.5860218%5D%2C%20%5B41.7115321%2C%20-83.55016710000001%5D%2C%20%5B40.9060359%2C%20-81.4247267%5D%2C%20%5B40.7798659%2C%20-81.530929%5D%2C%20%5B41.5739279%2C%20-83.557774%5D%2C%20%5B39.8826554%2C%20-83.0661713%5D%2C%20%5B39.875662%2C%20-84.0405689%5D%2C%20%5B39.8702964%2C%20-84.29676649999999%5D%2C%20%5B39.391998%2C%20-84.220052%5D%2C%20%5B39.5338777%2C%20-83.9626074%5D%2C%20%5B39.2911432%2C%20-84.3937085%5D%2C%20%5B39.2497737%2C%20-84.5959582%5D%2C%20%5B40.8868052%2C%20-84.5767139%5D%2C%20%5B41.2961447%2C%20-81.46626169999999%5D%2C%20%5B39.312567%2C%20-84.47653299999999%5D%2C%20%5B39.6738739%2C%20-83.9496179%5D%2C%20%5B40.7851148%2C%20-81.33826119999999%5D%2C%20%5B41.63099560000001%2C%20-83.6638913%5D%2C%20%5B40.1662678%2C%20-83.0209058%5D%2C%20%5B41.0518209%2C%20-81.720258%5D%2C%20%5B40.817584%2C%20-82.97350949999999%5D%2C%20%5B39.985094%2C%20-83.093173%5D%2C%20%5B39.9775833%2C%20-82.8786644%5D%2C%20%5B41.6155364%2C%20-83.689853%5D%2C%20%5B40.1457391%2C%20-82.9479331%5D%2C%20%5B41.3818587%2C%20-81.833451%5D%2C%20%5B41.4059406%2C%20-81.5661981%5D%2C%20%5B39.58581150000001%2C%20-84.2391257%5D%2C%20%5B39.957547%2C%20-82.474734%5D%2C%20%5B39.344223%2C%20-84.50216689999999%5D%2C%20%5B41.5418272%2C%20-81.49553159999999%5D%2C%20%5B40.0655735%2C%20-83.09428849999999%5D%2C%20%5B41.6898042%2C%20-83.6224549%5D%2C%20%5B39.1601608%2C%20-84.5054727%5D%2C%20%5B40.014054%2C%20-82.4702699%5D%2C%20%5B41.716981%2C%20-81.361149%5D%2C%20%5B39.6286771%2C%20-84.2872849%5D%2C%20%5B41.10025359999999%2C%20-80.7347805%5D%2C%20%5B39.3727197%2C%20-84.2351363%5D%2C%20%5B41.4279839%2C%20-82.20594179999999%5D%2C%20%5B41.2409693%2C%20-81.6378979%5D%2C%20%5B29.6896324%2C%20-95.6037054%5D%2C%20%5B39.694513%2C%20-84.088414%5D%2C%20%5B41.2165725%2C%20-81.4486273%5D%2C%20%5B39.3660637%2C%20-84.29798269999999%5D%2C%20%5B41.6379765%2C%20-81.4368535%5D%2C%20%5B41.3943932%2C%20-81.6281243%5D%2C%20%5B40.7543606%2C%20-81.5013295%5D%2C%20%5B39.97705699999999%2C%20-82.7284906%5D%2C%20%5B39.1615052%2C%20-84.2768366%5D%2C%20%5B40.0785175%2C%20-83.12561079999999%5D%2C%20%5B39.90122909999999%2C%20-84.1893573%5D%2C%20%5B40.9755858%2C%20-81.4729018%5D%2C%20%5B39.694513%2C%20-84.088414%5D%2C%20%5B39.8351975%2C%20-84.1832398%5D%2C%20%5B41.0649756%2C%20-81.5257422%5D%2C%20%5B41.49326620000001%2C%20-81.6761413%5D%2C%20%5B41.6983851%2C%20-83.6408698%5D%2C%20%5B41.0407983%2C%20-81.4916995%5D%2C%20%5B41.5392681%2C%20-81.4983282%5D%2C%20%5B39.7588908%2C%20-84.0536967%5D%2C%20%5B39.8841394%2C%20-82.9305608%5D%2C%20%5B41.2853403%2C%20-81.3292932%5D%2C%20%5B41.2828236%2C%20-82.06446269999999%5D%2C%20%5B41.40757259999999%2C%20-82.1644886%5D%2C%20%5B41.294887%2C%20-81.866179%5D%2C%20%5B41.4012805%2C%20-81.77751310000001%5D%2C%20%5B39.0694152%2C%20-84.1253516%5D%2C%20%5B40.0312%2C%20-82.4392637%5D%2C%20%5B41.3936418%2C%20-81.6278373%5D%2C%20%5B39.70322%2C%20-84.1411238%5D%2C%20%5B41.6869081%2C%20-83.6205214%5D%2C%20%5B39.403639%2C%20-84.36452899999999%5D%2C%20%5B39.3839627%2C%20-84.36932589999999%5D%2C%20%5B39.0953342%2C%20-84.28350809999999%5D%2C%20%5B39.1895095%2C%20-84.4634085%5D%2C%20%5B40.0734281%2C%20-82.8633219%5D%2C%20%5B41.5917365%2C%20-81.5140385%5D%2C%20%5B40.114946%2C%20-82.818302%5D%2C%20%5B40.0631013%2C%20-83.10231089999999%5D%2C%20%5B39.9715681%2C%20-82.9129239%5D%2C%20%5B39.7846874%2C%20-83.98977119999999%5D%2C%20%5B39.24737229999999%2C%20-84.597455%5D%2C%20%5B40.8868052%2C%20-84.5767139%5D%2C%20%5B41.6503883%2C%20-81.3466987%5D%2C%20%5B39.9859654%2C%20-82.7919242%5D%2C%20%5B40.0569262%2C%20-82.8870259%5D%2C%20%5B41.5201709%2C%20-82.8602343%5D%2C%20%5B41.1499138%2C%20-81.63714999999999%5D%2C%20%5B39.7902843%2C%20-83.9992657%5D%2C%20%5B39.9894763%2C%20-82.01946339999999%5D%2C%20%5B41.4677112%2C%20-82.0642383%5D%2C%20%5B39.9275986%2C%20-82.88475509999999%5D%2C%20%5B41.5158843%2C%20-81.5479014%5D%2C%20%5B39.3946929%2C%20-84.359218%5D%2C%20%5B41.1703171%2C%20-81.85978589999999%5D%2C%20%5B40.1432955%2C%20-82.9387699%5D%2C%20%5B41.3482427%2C%20-81.75883379999999%5D%2C%20%5B40.7630522%2C%20-84.1481168%5D%2C%20%5B41.2675443%2C%20-82.60089529999999%5D%2C%20%5B41.3200293%2C%20-81.34803529999999%5D%2C%20%5B40.4924176%2C%20-81.4595259%5D%2C%20%5B41.5619833%2C%20-81.55291559999999%5D%2C%20%5B40.0778205%2C%20-80.87182250000001%5D%2C%20%5B39.2823147%2C%20-84.4764074%5D%2C%20%5B39.2234261%2C%20-84.2831514%5D%2C%20%5B41.6379257%2C%20-81.4223044%5D%2C%20%5B39.2368294%2C%20-84.77630500000001%5D%2C%20%5B41.22323%2C%20-81.63700159999999%5D%2C%20%5B39.9771508%2C%20-81.9509403%5D%2C%20%5B39.334929%2C%20-84.442994%5D%2C%20%5B39.9153018%2C%20-82.78093249999999%5D%2C%20%5B39.78979959999999%2C%20-84.0201172%5D%2C%20%5B41.3781675%2C%20-81.4613708%5D%2C%20%5B40.8906431%2C%20-81.32875059999999%5D%2C%20%5B41.5050193%2C%20-81.4578526%5D%2C%20%5B39.1322144%2C%20-84.4849388%5D%2C%20%5B39.8263186%2C%20-84.29219359999999%5D%2C%20%5B39.449528%2C%20-83.80161729999999%5D%2C%20%5B41.4151153%2C%20-82.162291%5D%2C%20%5B39.0645515%2C%20-84.2911671%5D%2C%20%5B39.8926912%2C%20-83.8086816%5D%2C%20%5B41.7154316%2C%20-81.2335969%5D%2C%20%5B39.875662%2C%20-84.0405689%5D%2C%20%5B40.8528512%2C%20-82.33662660000002%5D%2C%20%5B40.043564%2C%20-82.9589144%5D%2C%20%5B39.2202255%2C%20-84.5175393%5D%2C%20%5B40.7302204%2C%20-84.06241399999999%5D%2C%20%5B39.29348100000001%2C%20-84.311533%5D%2C%20%5B41.4731634%2C%20-81.9055858%5D%2C%20%5B39.6352774%2C%20-84.17703329999999%5D%2C%20%5B39.70568249999999%2C%20-84.14165849999999%5D%2C%20%5B39.7102223%2C%20-83.87953949999999%5D%2C%20%5B41.3773451%2C%20-81.4545059%5D%2C%20%5B39.1271728%2C%20-84.5974329%5D%2C%20%5B39.1953493%2C%20-84.23690479999999%5D%2C%20%5B39.4452546%2C%20-83.8285597%5D%2C%20%5B39.161336%2C%20-84.4226994%5D%2C%20%5B33.4836775%2C%20-86.7726488%5D%2C%20%5B39.658209%2C%20-84.10472%5D%2C%20%5B39.3839627%2C%20-84.36932589999999%5D%2C%20%5B39.8841394%2C%20-82.9305608%5D%2C%20%5B39.3364115%2C%20-84.5642235%5D%2C%20%5B40.0594447%2C%20-84.2375298%5D%2C%20%5B41.1353579%2C%20-81.6442481%5D%2C%20%5B39.9871167%2C%20-82.91267169999999%5D%2C%20%5B41.61845270000001%2C%20-83.6934718%5D%2C%20%5B40.0056927%2C%20-82.4816554%5D%2C%20%5B39.3019592%2C%20-84.5250515%5D%2C%20%5B41.285306%2C%20-81.344244%5D%2C%20%5B41.46002%2C%20-84.5467898%5D%2C%20%5B40.9474115%2C%20-83.3629629%5D%2C%20%5B39.984295%2C%20-82.810363%5D%2C%20%5B41.3899996%2C%20-81.4699511%5D%2C%20%5B40.6190629%2C%20-73.96537150000002%5D%2C%20%5B41.0258507%2C%20-81.8631779%5D%2C%20%5B41.168568%2C%20-81.49150000000002%5D%2C%20%5B39.9585781%2C%20-82.67032669999999%5D%2C%20%5B41.1683998%2C%20-81.81641379999999%5D%2C%20%5B39.2549391%2C%20-84.794046%5D%2C%20%5B40.000022%2C%20-82.85405899999999%5D%2C%20%5B39.1720171%2C%20-84.63695779999999%5D%2C%20%5B41.391253%2C%20-81.75857599999999%5D%2C%20%5B39.9899834%2C%20-83.9414289%5D%2C%20%5B39.1573479%2C%20-84.40516389999999%5D%2C%20%5B40.8456812%2C%20-81.43570989999999%5D%2C%20%5B41.4074559%2C%20-81.53219349999999%5D%2C%20%5B39.6342562%2C%20-84.2139229%5D%2C%20%5B41.06392460000001%2C%20-81.9010701%5D%2C%20%5B41.4603454%2C%20-81.94893859999999%5D%2C%20%5B41.6578566%2C%20-83.6422414%5D%2C%20%5B41.1258647%2C%20-80.7081007%5D%2C%20%5B41.0742489%2C%20-80.6198794%5D%2C%20%5B39.701337%2C%20-84.126628%5D%2C%20%5B41.5234625%2C%20-81.54050860000001%5D%2C%20%5B39.4637573%2C%20-83.8205918%5D%2C%20%5B41.3775514%2C%20-81.5340114%5D%2C%20%5B39.7868078%2C%20-84.0195616%5D%2C%20%5B39.925479%2C%20-82.888432%5D%2C%20%5B41.2137172%2C%20-80.5826081%5D%2C%20%5B39.8774794%2C%20-83.0020186%5D%2C%20%5B39.9557403%2C%20-83.09382730000002%5D%2C%20%5B39.9746615%2C%20-83.02699059999999%5D%2C%20%5B41.413142%2C%20-81.615859%5D%2C%20%5B39.9521373%2C%20-83.8307708%5D%2C%20%5B40.7722683%2C%20-82.5502771%5D%2C%20%5B40.7967907%2C%20-81.4180581%5D%2C%20%5B41.1012492%2C%20-81.34597900000001%5D%2C%20%5B39.466082%2C%20-84.4651669%5D%2C%20%5B39.6756116%2C%20-84.13866709999999%5D%2C%20%5B39.5393696%2C%20-82.44623399999999%5D%2C%20%5B41.517406%2C%20-81.576949%5D%2C%20%5B41.4149209%2C%20-81.4915769%5D%2C%20%5B39.3839627%2C%20-84.36932589999999%5D%2C%20%5B39.7922173%2C%20-80.84218659999999%5D%2C%20%5B40.8998668%2C%20-81.4437556%5D%2C%20%5B39.3355564%2C%20-84.4435855%5D%2C%20%5B39.82654120000001%2C%20-84.128692%5D%2C%20%5B41.3118371%2C%20-84.3357504%5D%2C%20%5B39.2916339%2C%20-84.5256852%5D%2C%20%5B40.5064448%2C%20-81.4575952%5D%2C%20%5B41.364084%2C%20-81.5874887%5D%2C%20%5B39.2530842%2C%20-84.5967187%5D%2C%20%5B40.0494676%2C%20-83.13849069999999%5D%2C%20%5B39.1325831%2C%20-84.3143715%5D%2C%20%5B40.053419%2C%20-83.126498%5D%2C%20%5B40.2223085%2C%20-83.04075259999999%5D%2C%20%5B39.0981549%2C%20-84.53313229999999%5D%2C%20%5B40.1450118%2C%20-83.21728379999999%5D%2C%20%5B39.9416425%2C%20-83.8378973%5D%2C%20%5B41.1172592%2C%20-81.63874109999999%5D%2C%20%5B39.86992499999999%2C%20-84.12567%5D%2C%20%5B39.0883494%2C%20-84.566272%5D%2C%20%5B39.2957529%2C%20-84.52575929999999%5D%2C%20%5B40.2113458%2C%20-81.2629991%5D%2C%20%5B40.0844254%2C%20-84.2240099%5D%2C%20%5B39.34443539999999%2C%20-84.2265086%5D%2C%20%5B39.25516229999999%2C%20-84.2909561%5D%2C%20%5B39.8751773%2C%20-84.13691639999999%5D%2C%20%5B41.6601233%2C%20-81.24657499999999%5D%2C%20%5B39.348475%2C%20-84.466616%5D%2C%20%5B41.3045536%2C%20-81.4233883%5D%2C%20%5B41.2612268%2C%20-81.345446%5D%2C%20%5B41.3636926%2C%20-83.6513428%5D%2C%20%5B41.373424%2C%20-81.818973%5D%2C%20%5B39.8519896%2C%20-84.4282837%5D%2C%20%5B41.518987%2C%20-83.6532391%5D%2C%20%5B41.4600551%2C%20-81.8553216%5D%2C%20%5B40.7873511%2C%20-81.403525%5D%2C%20%5B40.0494676%2C%20-83.13849069999999%5D%2C%20%5B39.3023351%2C%20-84.4743802%5D%2C%20%5B41.7141593%2C%20-81.2923131%5D%2C%20%5B41.5825707%2C%20-83.5438291%5D%2C%20%5B41.0224355%2C%20-84.0326606%5D%2C%20%5B40.507103%2C%20-81.460809%5D%2C%20%5B41.519426%2C%20-81.4656813%5D%2C%20%5B41.0831484%2C%20-80.63240309999999%5D%2C%20%5B41.4272194%2C%20-82.0693831%5D%2C%20%5B39.9552209%2C%20-82.47561420000001%5D%2C%20%5B40.3893593%2C%20-82.4838633%5D%2C%20%5B40.2695351%2C%20-83.5514317%5D%2C%20%5B41.288533%2C%20-81.450092%5D%2C%20%5B41.4128225%2C%20-81.73383059999999%5D%2C%20%5B39.4824438%2C%20-84.34732509999999%5D%2C%20%5B39.4562135%2C%20-84.17549439999999%5D%2C%20%5B41.6271681%2C%20-81.4320618%5D%2C%20%5B39.8633995%2C%20-84.13863889999999%5D%2C%20%5B41.4593269%2C%20-81.5135215%5D%2C%20%5B39.3686861%2C%20-82.9764153%5D%2C%20%5B40.7896957%2C%20-81.390068%5D%2C%20%5B41.4240695%2C%20-82.0861724%5D%2C%20%5B40.9474115%2C%20-83.3629629%5D%2C%20%5B40.96814%2C%20-81.4674793%5D%2C%20%5B29.7119227%2C%20-95.3993989%5D%2C%20%5B41.115516%2C%20-81.892133%5D%2C%20%5B40.7593929%2C%20-81.4064339%5D%2C%20%5B39.2900576%2C%20-84.3032546%5D%2C%20%5B39.3371437%2C%20-84.30146739999999%5D%2C%20%5B41.4382934%2C%20-81.7659072%5D%2C%20%5B40.8768186%2C%20-81.4411389%5D%2C%20%5B43.5841047%2C%20-79.75426159999999%5D%2C%20%5B40.1145697%2C%20-83.0013049%5D%2C%20%5B41.41176859999999%2C%20-81.6655736%5D%2C%20%5B41.599002%2C%20-81.49804499999999%5D%2C%20%5B35.9453665%2C%20-95.8907912%5D%2C%20%5B41.2209192%2C%20-81.4394867%5D%2C%20%5B37.0573802%2C%20-94.4688492%5D%2C%20%5B39.1419162%2C%20-84.24030789999999%5D%2C%20%5B40.7942514%2C%20-81.52561829999999%5D%2C%20%5B39.3839627%2C%20-84.36932589999999%5D%2C%20%5B39.053917%2C%20-83.93357499999999%5D%2C%20%5B41.4239256%2C%20-81.90202149999999%5D%2C%20%5B40.8502861%2C%20-81.4253895%5D%2C%20%5B41.5943315%2C%20-81.5084018%5D%2C%20%5B39.7443941%2C%20-84.19759479999999%5D%2C%20%5B39.2874243%2C%20-84.4660559%5D%2C%20%5B39.3579817%2C%20-84.16211589999999%5D%2C%20%5B39.0688138%2C%20-84.2408864%5D%2C%20%5B41.4555534%2C%20-81.63116889999999%5D%2C%20%5B39.8517952%2C%20-84.42400870000002%5D%2C%20%5B40.061378%2C%20-82.9800862%5D%2C%20%5B36.9049497%2C%20-94.88249599999999%5D%2C%20%5B36.0335519%2C%20-95.91959109999999%5D%2C%20%5B35.5540898%2C%20-97.6310855%5D%2C%20%5B42.8756327%2C%20-74.0505752%5D%2C%20%5B35.49340430000001%2C%20-97.7638317%5D%2C%20%5B36.0599304%2C%20-95.96855080000002%5D%2C%20%5B35.8630349%2C%20-97.4075674%5D%2C%20%5B35.4699343%2C%20-97.5086075%5D%2C%20%5B35.0290427%2C%20-97.9339203%5D%2C%20%5B35.4547117%2C%20-97.602781%5D%2C%20%5B35.652208%2C%20-97.4676649%5D%2C%20%5B36.4058514%2C%20-97.9480067%5D%2C%20%5B36.173336%2C%20-95.639225%5D%2C%20%5B36.1835534%2C%20-95.7884241%5D%2C%20%5B35.4050905%2C%20-97.4426769%5D%2C%20%5B35.4617852%2C%20-97.6028584%5D%2C%20%5B34.6380194%2C%20-98.47457870000001%5D%2C%20%5B35.5146285%2C%20-97.65453550000001%5D%2C%20%5B35.5888992%2C%20-97.438681%5D%2C%20%5B35.4083722%2C%20-97.5547048%5D%2C%20%5B35.4429582%2C%20-97.59899750000001%5D%2C%20%5B35.9934293%2C%20-95.88704059999999%5D%2C%20%5B35.356798%2C%20-96.91068899999999%5D%2C%20%5B35.4062067%2C%20-97.66230139999999%5D%2C%20%5B35.9878516%2C%20-96.1014362%5D%2C%20%5B35.4506695%2C%20-97.74244490000001%5D%2C%20%5B35.5247638%2C%20-97.98418649999999%5D%2C%20%5B36.367997%2C%20-96.028633%5D%2C%20%5B35.3562083%2C%20-95.2655231%5D%2C%20%5B35.7071339%2C%20-94.95464609999999%5D%2C%20%5B34.0901041%2C%20-96.76228719999999%5D%2C%20%5B35.3671264%2C%20-97.5296955%5D%2C%20%5B36.1300049%2C%20-96.29702429999999%5D%2C%20%5B35.4445558%2C%20-97.6005012%5D%2C%20%5B34.2028967%2C%20-97.142988%5D%2C%20%5B36.7452347%2C%20-97.06669260000001%5D%2C%20%5B35.1672638%2C%20-97.40784149999999%5D%2C%20%5B35.2315462%2C%20-97.4371675%5D%2C%20%5B35.508088%2C%20-97.958777%5D%2C%20%5B35.4017463%2C%20-97.4244046%5D%2C%20%5B35.9482655%2C%20-95.788134%5D%2C%20%5B35.4741973%2C%20-97.51258349999999%5D%2C%20%5B35.4588741%2C%20-97.59534719999999%5D%2C%20%5B36.2312109%2C%20-95.33823389999999%5D%2C%20%5B35.6091613%2C%20-97.57077149999999%5D%2C%20%5B34.5945182%2C%20-98.4572462%5D%2C%20%5B35.6966158%2C%20-97.6207457%5D%2C%20%5B36.060949%2C%20-95.7974526%5D%2C%20%5B35.464449%2C%20-97.650364%5D%2C%20%5B35.4204545%2C%20-97.5341169%5D%2C%20%5B36.0823212%2C%20-96.0484745%5D%2C%20%5B36.1160514%2C%20-97.1405016%5D%2C%20%5B35.32015519999999%2C%20-97.5294205%5D%2C%20%5B35.3347652%2C%20-97.510615%5D%2C%20%5B35.3177826%2C%20-97.5127527%5D%2C%20%5B35.5086364%2C%20-97.5203781%5D%2C%20%5B36.1194899%2C%20-95.8640719%5D%2C%20%5B34.6227184%2C%20-98.4210354%5D%2C%20%5B35.38924069999999%2C%20-97.4412823%5D%2C%20%5B36.0363839%2C%20-95.9564947%5D%2C%20%5B35.4670713%2C%20-97.7028708%5D%2C%20%5B36.1594735%2C%20-97.0582525%5D%2C%20%5B34.6232038%2C%20-98.3523132%5D%2C%20%5B36.0129337%2C%20-95.8841123%5D%2C%20%5B35.3880234%2C%20-97.52125319999999%5D%2C%20%5B35.6112406%2C%20-97.5638446%5D%2C%20%5B35.3637612%2C%20-97.54877959999999%5D%2C%20%5B35.6672445%2C%20-97.4072113%5D%2C%20%5B35.5669286%2C%20-97.6638349%5D%2C%20%5B36.33803899999999%2C%20-95.59801499999999%5D%2C%20%5B34.6227241%2C%20-98.4506546%5D%2C%20%5B35.5311262%2C%20-97.5161219%5D%2C%20%5B33.9991188%2C%20-96.5649566%5D%2C%20%5B35.6672517%2C%20-97.44272219999999%5D%2C%20%5B36.0603713%2C%20-95.8640134%5D%2C%20%5B35.6675876%2C%20-97.5150814%5D%2C%20%5B45.5051064%2C%20-122.6750261%5D%2C%20%5B34.6019778%2C%20-98.3782107%5D%2C%20%5B35.3916209%2C%20-97.6362204%5D%2C%20%5B36.0671219%2C%20-95.7834008%5D%2C%20%5B36.7501574%2C%20-95.9366032%5D%2C%20%5B35.5762846%2C%20-97.4444903%5D%2C%20%5B36.2059177%2C%20-96.0002677%5D%2C%20%5B35.6821065%2C%20-97.5140565%5D%2C%20%5B35.5256793%2C%20-97.55798500000002%5D%2C%20%5B35.6817123%2C%20-97.4251396%5D%2C%20%5B35.6158454%2C%20-97.5481236%5D%2C%20%5B35.7682055%2C%20-95.34379129999999%5D%2C%20%5B36.070386%2C%20-95.814696%5D%2C%20%5B35.4344143%2C%20-97.52567619999999%5D%2C%20%5B35.3914465%2C%20-97.5210625%5D%2C%20%5B35.6198226%2C%20-97.4769348%5D%2C%20%5B35.6520269%2C%20-97.530479%5D%2C%20%5B34.6087901%2C%20-98.36262099999999%5D%2C%20%5B36.0997445%2C%20-95.84387339999999%5D%2C%20%5B36.7301574%2C%20-97.0673327%5D%2C%20%5B34.5943352%2C%20-98.4410008%5D%2C%20%5B36.032084%2C%20-95.9501707%5D%2C%20%5B35.5889717%2C%20-97.709446%5D%2C%20%5B35.420517%2C%20-97.4364677%5D%2C%20%5B34.8354637%2C%20-97.59642819999999%5D%2C%20%5B35.464406%2C%20-97.7425518%5D%2C%20%5B36.1183035%2C%20-95.89704499999999%5D%2C%20%5B36.8987173%2C%20-94.8803337%5D%2C%20%5B35.6386901%2C%20-97.4850208%5D%2C%20%5B34.607714%2C%20-98.365904%5D%2C%20%5B34.59399450000001%2C%20-98.4443062%5D%2C%20%5B36.821207%2C%20-94.621714%5D%2C%20%5B35.4571796%2C%20-97.16225589999999%5D%2C%20%5B35.510294%2C%20-97.59027139999999%5D%2C%20%5B35.5951293%2C%20-97.6213441%5D%2C%20%5B35.4737097%2C%20-97.51678509999999%5D%2C%20%5B33.908102%2C%20-84.3772154%5D%2C%20%5B35.457551%2C%20-97.60123829999999%5D%2C%20%5B35.4619233%2C%20-97.52447049999999%5D%2C%20%5B36.571435%2C%20-94.7721115%5D%2C%20%5B35.9441181%2C%20-95.8952075%5D%2C%20%5B35.595317%2C%20-97.569128%5D%2C%20%5B35.6083367%2C%20-97.6173946%5D%2C%20%5B34.4635633%2C%20-97.94295699999999%5D%2C%20%5B35.46459%2C%20-97.52197439999999%5D%2C%20%5B35.4026974%2C%20-97.4248693%5D%2C%20%5B35.4498559%2C%20-97.7246519%5D%2C%20%5B35.6082712%2C%20-97.64542279999999%5D%2C%20%5B34.5652797%2C%20-98.4001274%5D%2C%20%5B35.4525684%2C%20-97.59986839999999%5D%2C%20%5B35.6092486%2C%20-97.3894377%5D%2C%20%5B36.1453408%2C%20-96.0802499%5D%2C%20%5B34.6091398%2C%20-98.41894699999999%5D%2C%20%5B34.6152434%2C%20-98.5101861%5D%2C%20%5B35.2245577%2C%20-97.3972252%5D%2C%20%5B34.6240132%2C%20-98.42279169999999%5D%2C%20%5B35.3632938%2C%20-97.4952722%5D%2C%20%5B35.3021051%2C%20-97.52880950000001%5D%2C%20%5B35.5216336%2C%20-97.55062060000002%5D%2C%20%5B36.1778193%2C%20-95.9927597%5D%2C%20%5B35.21506900000001%2C%20-97.48710899999999%5D%2C%20%5B36.0107668%2C%20-95.8877005%5D%2C%20%5B35.7253041%2C%20-97.41157799999999%5D%2C%20%5B34.5948686%2C%20-98.4056888%5D%2C%20%5B35.2139787%2C%20-97.50431449999999%5D%2C%20%5B35.4607052%2C%20-97.59661039999999%5D%2C%20%5B35.3863379%2C%20-96.91937759999999%5D%2C%20%5B35.7108889%2C%20-97.478313%5D%2C%20%5B35.6703706%2C%20-97.5504301%5D%2C%20%5B35.4957569%2C%20-97.6076942%5D%2C%20%5B36.0662901%2C%20-95.9571553%5D%2C%20%5B37.6375302%2C%20-98.4255203%5D%2C%20%5B44.8570774%2C%20-123.2382598%5D%2C%20%5B45.5615787%2C%20-122.9062103%5D%2C%20%5B42.3448194%2C%20-122.8716983%5D%2C%20%5B45.5282873%2C%20-122.5733983%5D%2C%20%5B45.6333936%2C%20-118.8349788%5D%2C%20%5B44.9404961%2C%20-123.0381261%5D%2C%20%5B44.8911192%2C%20-123.0534457%5D%2C%20%5B44.0218163%2C%20-121.3152745%5D%2C%20%5B45.4144876%2C%20-122.7415062%5D%2C%20%5B42.85145259999999%2C%20-124.4970032%5D%2C%20%5B44.0881465%2C%20-121.2855384%5D%2C%20%5B45.630838%2C%20-122.7488054%5D%2C%20%5B45.52060609999999%2C%20-123.1050128%5D%2C%20%5B44.9912156%2C%20-122.9851832%5D%2C%20%5B44.9514646%2C%20-122.9848984%5D%2C%20%5B44.587115%2C%20-123.2549749%5D%2C%20%5B43.8050834%2C%20-123.0569263%5D%2C%20%5B44.0192254%2C%20-121.317284%5D%2C%20%5B44.0452984%2C%20-121.3250018%5D%2C%20%5B42.2383885%2C%20-123.114294%5D%2C%20%5B45.2593737%2C%20-122.6611459%5D%2C%20%5B45.5122521%2C%20-122.9957386%5D%2C%20%5B45.5042386%2C%20-122.6768321%5D%2C%20%5B42.3268658%2C%20-122.8675469%5D%2C%20%5B44.942367%2C%20-123.0558522%5D%2C%20%5B45.4490614%2C%20-122.5768559%5D%2C%20%5B44.2765541%2C%20-121.1588201%5D%2C%20%5B44.937206%2C%20-123.026591%5D%2C%20%5B44.047111%2C%20-121.3280162%5D%2C%20%5B45.708642%2C%20-121.5280152%5D%2C%20%5B45.2662132%2C%20-123.0645485%5D%2C%20%5B44.775355%2C%20-122.9715079%5D%2C%20%5B35.388337%2C%20-80.723158%5D%2C%20%5B45.5263193%2C%20-122.8396776%5D%2C%20%5B43.4061982%2C%20-124.2222867%5D%2C%20%5B45.0097444%2C%20-122.9056626%5D%2C%20%5B44.5885076%2C%20-123.2488086%5D%2C%20%5B45.510278%2C%20-123.8610535%5D%2C%20%5B45.4269474%2C%20-122.496866%5D%2C%20%5B44.1170652%2C%20-123.1767169%5D%2C%20%5B45.2689695%2C%20-122.6759351%5D%2C%20%5B44.9044342%2C%20-122.9483284%5D%2C%20%5B44.0486043%2C%20-123.1665252%5D%2C%20%5B45.5349884%2C%20-122.6302375%5D%2C%20%5B44.12953%2C%20-121.2825019%5D%2C%20%5B36.019708%2C%20-86.5727255%5D%2C%20%5B44.8089575%2C%20-124.062328%5D%2C%20%5B45.3107214%2C%20-122.3471671%5D%2C%20%5B45.41674769999999%2C%20-122.6334835%5D%2C%20%5B44.003058%2C%20-123.3837696%5D%2C%20%5B45.53202%2C%20-122.6289892%5D%2C%20%5B44.9735171%2C%20-123.0013635%5D%2C%20%5B44.2913372%2C%20-121.5537869%5D%2C%20%5B45.5297692%2C%20-122.762572%5D%2C%20%5B45.5373229%2C%20-122.4186965%5D%2C%20%5B45.5700456%2C%20-122.8464194%5D%2C%20%5B44.9395844%2C%20-123.0403943%5D%2C%20%5B45.1503785%2C%20-122.8333404%5D%2C%20%5B44.9127968%2C%20-123.0259776%5D%2C%20%5B45.53340010000001%2C%20-122.9222366%5D%2C%20%5B44.932787%2C%20-123.1289582%5D%2C%20%5B45.5766435%2C%20-122.6610753%5D%2C%20%5B44.018816%2C%20-121.2691141%5D%2C%20%5B45.6391679%2C%20-122.7945428%5D%2C%20%5B44.914117%2C%20-122.9809729%5D%2C%20%5B42.389123%2C%20-124.415703%5D%2C%20%5B44.8998541%2C%20-123.0544018%5D%2C%20%5B42.368084%2C%20-122.854091%5D%2C%20%5B42.340634%2C%20-122.886385%5D%2C%20%5B44.0460527%2C%20-121.3109505%5D%2C%20%5B44.0522667%2C%20-123.1931248%5D%2C%20%5B44.30531240000001%2C%20-121.186971%5D%2C%20%5B45.8505924%2C%20-122.821024%5D%2C%20%5B44.016473%2C%20-121.3224329%5D%2C%20%5B44.031339%2C%20-123.157368%5D%2C%20%5B45.234797%2C%20-123.0046171%5D%2C%20%5B45.61761%2C%20-122.8033729%5D%2C%20%5B43.3555183%2C%20-124.2026914%5D%2C%20%5B45.385008%2C%20-122.760462%5D%2C%20%5B45.5229445%2C%20-123.0408771%5D%2C%20%5B41.0968348%2C%20-85.12417529999999%5D%2C%20%5B44.6270719%2C%20-124.0622592%5D%2C%20%5B45.5722817%2C%20-122.6189178%5D%2C%20%5B44.036015%2C%20-121.287351%5D%2C%20%5B45.38041279999999%2C%20-122.7867984%5D%2C%20%5B45.5395037%2C%20-122.9796341%5D%2C%20%5B42.1471472%2C%20-124.3534056%5D%2C%20%5B45.5283525%2C%20-122.5728631%5D%2C%20%5B43.1471321%2C%20-123.3796867%5D%2C%20%5B45.4962112%2C%20-122.4129165%5D%2C%20%5B44.2910418%2C%20-121.5676451%5D%2C%20%5B45.5373382%2C%20-122.6714061%5D%2C%20%5B44.2808638%2C%20-121.4530914%5D%2C%20%5B44.9078414%2C%20-123.0018514%5D%2C%20%5B42.389123%2C%20-124.415703%5D%2C%20%5B44.0453251%2C%20-122.9823178%5D%2C%20%5B45.4158435%2C%20-122.7431492%5D%2C%20%5B45.4331816%2C%20-122.7512472%5D%2C%20%5B45.4103348%2C%20-122.4945519%5D%2C%20%5B44.3200104%2C%20-121.1398534%5D%2C%20%5B45.3834004%2C%20-122.6406195%5D%2C%20%5B44.17005289999999%2C%20-123.2027407%5D%2C%20%5B44.0958385%2C%20-123.1300372%5D%2C%20%5B42.3086832%2C%20-122.8525881%5D%2C%20%5B45.2306788%2C%20-122.7744546%5D%2C%20%5B44.041534%2C%20-123.177993%5D%2C%20%5B44.9262223%2C%20-123.0218216%5D%2C%20%5B45.5428167%2C%20-122.5772005%5D%2C%20%5B44.939332%2C%20-123.0415454%5D%2C%20%5B45.5272421%2C%20-122.5732852%5D%2C%20%5B44.0000331%2C%20-124.1083532%5D%2C%20%5B45.50506910000001%2C%20-122.6590625%5D%2C%20%5B45.3612166%2C%20-122.823869%5D%2C%20%5B44.9299799%2C%20-123.0233973%5D%2C%20%5B42.25781689999999%2C%20-121.8016287%5D%2C%20%5B45.1538256%2C%20-122.8754255%5D%2C%20%5B45.1990156%2C%20-123.1675279%5D%2C%20%5B45.4429829%2C%20-122.4857424%5D%2C%20%5B45.4776376%2C%20-122.7923434%5D%2C%20%5B44.5080326%2C%20-122.9259191%5D%2C%20%5B45.4785086%2C%20-122.7476472%5D%2C%20%5B44.282193%2C%20-121.509361%5D%2C%20%5B44.2881422%2C%20-121.1594223%5D%2C%20%5B42.3053918%2C%20-123.221029%5D%2C%20%5B43.3690376%2C%20-124.2134266%5D%2C%20%5B44.0644683%2C%20-122.9854483%5D%2C%20%5B44.0686427%2C%20-123.101835%5D%2C%20%5B43.2355712%2C%20-123.3797472%5D%2C%20%5B43.572034%2C%20-119.0772608%5D%2C%20%5B45.532694%2C%20-122.4396197%5D%2C%20%5B44.86406059999999%2C%20-123.2059379%5D%2C%20%5B45.1481363%2C%20-122.5830363%5D%2C%20%5B44.2297658%2C%20-123.2045879%5D%2C%20%5B43.3747976%2C%20-123.4753731%5D%2C%20%5B43.2349982%2C%20-123.3500464%5D%2C%20%5B44.0642504%2C%20-123.1395827%5D%2C%20%5B44.9921574%2C%20-123.0013455%5D%2C%20%5B42.3064518%2C%20-122.8532331%5D%2C%20%5B44.27183309999999%2C%20-121.176696%5D%2C%20%5B43.2369784%2C%20-123.3643811%5D%2C%20%5B44.287783%2C%20-121.450657%5D%2C%20%5B44.5748802%2C%20-123.262146%5D%2C%20%5B45.5097083%2C%20-122.732515%5D%2C%20%5B45.4007024%2C%20-122.6195294%5D%2C%20%5B44.0850196%2C%20-121.2832898%5D%2C%20%5B44.0927031%2C%20-123.0644087%5D%2C%20%5B45.4230654%2C%20-122.6398043%5D%2C%20%5B45.362481%2C%20-122.818312%5D%2C%20%5B45.3727526%2C%20-122.7922035%5D%2C%20%5B36.778261%2C%20-119.4179324%5D%2C%20%5B45.50246850000001%2C%20-122.4339186%5D%2C%20%5B43.2094493%2C%20-123.3477975%5D%2C%20%5B44.9150224%2C%20-122.9790004%5D%2C%20%5B45.5785669%2C%20-122.572495%5D%2C%20%5B44.0281205%2C%20-121.3442973%5D%2C%20%5B45.5626113%2C%20-122.5247903%5D%2C%20%5B45.5198226%2C%20-122.6830222%5D%2C%20%5B45.6025249%2C%20-121.1851855%5D%2C%20%5B44.9108315%2C%20-122.9855846%5D%2C%20%5B44.039645%2C%20-123.187596%5D%2C%20%5B44.8615422%2C%20-123.097676%5D%2C%20%5B45.5962591%2C%20-122.9743779%5D%2C%20%5B44.2880069%2C%20-121.1725622%5D%2C%20%5B45.51053659999999%2C%20-122.6579875%5D%2C%20%5B44.011301%2C%20-121.2596778%5D%2C%20%5B45.4989881%2C%20-122.7667851%5D%2C%20%5B45.48599%2C%20-122.759071%5D%2C%20%5B43.8346449%2C%20-123.2448655%5D%2C%20%5B44.9151417%2C%20-123.3125153%5D%2C%20%5B39.9671002%2C%20-77.57416599999999%5D%2C%20%5B41.2459149%2C%20-75.88130749999999%5D%2C%20%5B41.1509653%2C%20-75.03084299999999%5D%2C%20%5B40.2581918%2C%20-75.3462938%5D%2C%20%5B40.4495094%2C%20-78.75338339999999%5D%2C%20%5B40.4535918%2C%20-80.0540463%5D%2C%20%5B39.896761%2C%20-75.19870399999999%5D%2C%20%5B40.2884832%2C%20-76.84255240000002%5D%2C%20%5B40.2389309%2C%20-77.05620859999999%5D%2C%20%5B40.668552%2C%20-75.41833799999999%5D%2C%20%5B40.3154528%2C%20-74.9819325%5D%2C%20%5B40.8617783%2C%20-75.7529114%5D%2C%20%5B40.6856895%2C%20-75.2548815%5D%2C%20%5B40.3494651%2C%20-75.9598407%5D%2C%20%5B42.064744%2C%20-80.09862799999999%5D%2C%20%5B39.97370799999999%2C%20-75.81285199999999%5D%2C%20%5B39.907996%2C%20-75.25647409999999%5D%2C%20%5B40.205776%2C%20-76.7608594%5D%2C%20%5B40.23743049999999%2C%20-79.5604438%5D%2C%20%5B39.78796699999999%2C%20-79.4705012%5D%2C%20%5B40.109009%2C%20-75.3308218%5D%2C%20%5B40.6486934%2C%20-75.301631%5D%2C%20%5B39.992748%2C%20-75.5780213%5D%2C%20%5B39.865155%2C%20-75.860612%5D%2C%20%5B40.5730754%2C%20-75.3416556%5D%2C%20%5B45.6914487%2C%20-108.6871588%5D%2C%20%5B39.882843%2C%20-75.54072599999999%5D%2C%20%5B40.2693738%2C%20-75.3336779%5D%2C%20%5B39.9533984%2C%20-75.1431824%5D%2C%20%5B40.0918686%2C%20-75.0099316%5D%2C%20%5B40.2335164%2C%20-75.5645136%5D%2C%20%5B39.9524611%2C%20-75.17448399999999%5D%2C%20%5B40.0932103%2C%20-75.36968310000002%5D%2C%20%5B41.8080552%2C%20-77.0889577%5D%2C%20%5B41.1084809%2C%20-75.3469068%5D%2C%20%5B40.337319%2C%20-76.82735%5D%2C%20%5B40.4629921%2C%20-79.9283209%5D%2C%20%5B40.6461803%2C%20-80.0710367%5D%2C%20%5B40.2248279%2C%20-76.0971557%5D%2C%20%5B40.2817618%2C%20-75.7244288%5D%2C%20%5B39.98690149999999%2C%20-76.0371057%5D%2C%20%5B40.083882%2C%20-76.376362%5D%2C%20%5B40.3806601%2C%20-79.8105568%5D%2C%20%5B40.6045841%2C%20-79.60694300000002%5D%2C%20%5B41.92261120000001%2C%20-75.6248313%5D%2C%20%5B41.0742033%2C%20-80.0530185%5D%2C%20%5B40.0801237%2C%20-76.3400305%5D%2C%20%5B40.0007363%2C%20-75.0902241%5D%2C%20%5B40.2362123%2C%20-75.4056002%5D%2C%20%5B41.0767634%2C%20-75.0261902%5D%2C%20%5B40.5872487%2C%20-75.6027233%5D%2C%20%5B39.9718335%2C%20-76.7547531%5D%2C%20%5B40.3341194%2C%20-75.3039321%5D%2C%20%5B40.0784005%2C%20-75.12755299999999%5D%2C%20%5B39.8099226%2C%20-75.96717679999999%5D%2C%20%5B40.710076%2C%20-80.095585%5D%2C%20%5B40.8440081%2C%20-77.8834128%5D%2C%20%5B40.6234067%2C%20-79.7243365%5D%2C%20%5B40.2347408%2C%20-75.23559999999999%5D%2C%20%5B39.9689899%2C%20-79.7656378%5D%2C%20%5B39.8838635%2C%20-75.3036357%5D%2C%20%5B40.1814397%2C%20-75.1826729%5D%2C%20%5B39.9966091%2C%20-75.0952425%5D%2C%20%5B40.3063006%2C%20-76.1002371%5D%2C%20%5B40.9774179%2C%20-75.44476%5D%2C%20%5B40.9822097%2C%20-75.2281703%5D%2C%20%5B40.27234079999999%2C%20-75.23569119999999%5D%2C%20%5B41.2480227%2C%20-76.958725%5D%2C%20%5B40.243816%2C%20-75.599032%5D%2C%20%5B40.4804192%2C%20-78.0271546%5D%2C%20%5B40.090628%2C%20-75.13824799999999%5D%2C%20%5B40.2424404%2C%20-75.5606482%5D%2C%20%5B40.7328847%2C%20-75.3106538%5D%2C%20%5B40.7759181%2C%20-80.38125769999999%5D%2C%20%5B39.9577962%2C%20-75.13748149999999%5D%2C%20%5B40.1677601%2C%20-75.1369342%5D%2C%20%5B40.2748981%2C%20-75.2583882%5D%2C%20%5B39.9650609%2C%20-75.6295252%5D%2C%20%5B40.36828089999999%2C%20-79.7774848%5D%2C%20%5B40.98490839999999%2C%20-79.5607581%5D%2C%20%5B40.2133183%2C%20-75.4987341%5D%2C%20%5B40.0475853%2C%20-75.4421399%5D%2C%20%5B39.9962947%2C%20-75.1143079%5D%2C%20%5B40.6915272%2C%20-75.284759%5D%2C%20%5B39.9529744%2C%20-75.2098453%5D%2C%20%5B40.0195746%2C%20-75.03870859999999%5D%2C%20%5B40.504255%2C%20-75.7930365%5D%2C%20%5B40.3413891%2C%20-76.441305%5D%2C%20%5B39.9584678%2C%20-79.32823049999999%5D%2C%20%5B40.029669%2C%20-75.1816698%5D%2C%20%5B40.322497%2C%20-76.01147519999999%5D%2C%20%5B39.9390541%2C%20-75.00424919999999%5D%2C%20%5B40.1076692%2C%20-74.89678839999999%5D%2C%20%5B40.1538788%2C%20-75.2638113%5D%2C%20%5B40.676902%2C%20-75.3790413%5D%2C%20%5B40.0116829%2C%20-75.2601428%5D%2C%20%5B40.1666824%2C%20-75.2947841%5D%2C%20%5B41.2483663%2C%20-75.8340832%5D%2C%20%5B40.03321649999999%2C%20-75.17649449999999%5D%2C%20%5B40.2492855%2C%20-77.0273593%5D%2C%20%5B40.3102364%2C%20-79.61112430000001%5D%2C%20%5B40.0406758%2C%20-75.11010689999999%5D%2C%20%5B40.1915939%2C%20-75.4824438%5D%2C%20%5B40.2527779%2C%20-76.9184799%5D%2C%20%5B40.4145805%2C%20-79.922637%5D%2C%20%5B40.0347587%2C%20-75.5696079%5D%2C%20%5B40.9372274%2C%20-75.9827889%5D%2C%20%5B40.1699417%2C%20-80.2449376%5D%2C%20%5B39.9466285%2C%20-76.7432788%5D%2C%20%5B40.1297271%2C%20-75.3450439%5D%2C%20%5B40.087761%2C%20-75.3824793%5D%2C%20%5B40.2367826%2C%20-75.233868%5D%2C%20%5B40.320658%2C%20-76.0531941%5D%2C%20%5B39.8309077%2C%20-77.23141249999999%5D%2C%20%5B40.438807%2C%20-75.420604%5D%2C%20%5B41.0423526%2C%20-75.1265351%5D%2C%20%5B40.5520099%2C%20-79.7560342%5D%2C%20%5B40.3108523%2C%20-75.6337198%5D%2C%20%5B40.0451011%2C%20-75.08685539999999%5D%2C%20%5B40.281487%2C%20-76.87790079999999%5D%2C%20%5B39.9859154%2C%20-75.1172301%5D%2C%20%5B39.772614%2C%20-77.279849%5D%2C%20%5B39.9183661%2C%20-75.1455539%5D%2C%20%5B39.9676509%2C%20-75.25032159999999%5D%2C%20%5B42.21530920000001%2C%20-79.82579679999999%5D%2C%20%5B40.2817618%2C%20-75.7244288%5D%2C%20%5B40.2514265%2C%20-76.8268664%5D%2C%20%5B40.1917676%2C%20-74.8143403%5D%2C%20%5B40.24564669999999%2C%20-76.91248039999999%5D%2C%20%5B40.9822097%2C%20-75.2281703%5D%2C%20%5B40.5168744%2C%20-80.14960130000001%5D%2C%20%5B40.4595393%2C%20-78.4098611%5D%2C%20%5B39.9480003%2C%20-77.6222633%5D%2C%20%5B40.0811308%2C%20-75.3102986%5D%2C%20%5B40.22836239999999%2C%20-75.6598922%5D%2C%20%5B41.2267793%2C%20-77.0738792%5D%2C%20%5B40.3157187%2C%20-75.01286859999999%5D%2C%20%5B40.1924902%2C%20-79.5850135%5D%2C%20%5B40.1126719%2C%20-75.21406209999999%5D%2C%20%5B40.0778858%2C%20-74.9288236%5D%2C%20%5B40.3329364%2C%20-76.42620920000002%5D%2C%20%5B40.0192915%2C%20-75.70852699999999%5D%2C%20%5B40.0362419%2C%20-75.5639683%5D%2C%20%5B40.19329159999999%2C%20-77.182328%5D%2C%20%5B40.0990369%2C%20-74.8742152%5D%2C%20%5B41.422436%2C%20-75.1892017%5D%2C%20%5B40.3119022%2C%20-75.1318031%5D%2C%20%5B40.1179216%2C%20-75.0642175%5D%2C%20%5B40.5063355%2C%20-75.7885407%5D%2C%20%5B40.2096609%2C%20-80.25208289999999%5D%2C%20%5B40.0483485%2C%20-76.3972783%5D%2C%20%5B40.0399019%2C%20-77.5194101%5D%2C%20%5B40.9909971%2C%20-78.167688%5D%2C%20%5B40.1699998%2C%20-77.2325784%5D%2C%20%5B40.055457%2C%20-75.6542644%5D%2C%20%5B39.9420338%2C%20-75.1656577%5D%2C%20%5B40.7383465%2C%20-73.9873148%5D%2C%20%5B40.0965867%2C%20-75.39290670000001%5D%2C%20%5B40.0832367%2C%20-74.9627055%5D%2C%20%5B40.1380576%2C%20-74.87911179999999%5D%2C%20%5B40.4220428%2C%20-75.82118740000001%5D%2C%20%5B39.78796699999999%2C%20-79.4705012%5D%2C%20%5B39.9565483%2C%20-76.71814839999999%5D%2C%20%5B40.0968961%2C%20-74.9461307%5D%2C%20%5B40.0083167%2C%20-76.7186809%5D%2C%20%5B40.4636619%2C%20-80.2044179%5D%2C%20%5B39.9885057%2C%20-75.57461049999999%5D%2C%20%5B40.6949917%2C%20-75.3923485%5D%2C%20%5B41.0503812%2C%20-76.24460789999999%5D%2C%20%5B40.3036276%2C%20-75.1291121%5D%2C%20%5B40.5703704%2C%20-75.4734034%5D%2C%20%5B40.3328473%2C%20-75.1185072%5D%2C%20%5B40.1796179%2C%20-75.2266661%5D%2C%20%5B36.8761138%2C%20-94.87193289999999%5D%2C%20%5B40.16855169999999%2C%20-76.8384006%5D%2C%20%5B39.9834801%2C%20-75.1499321%5D%2C%20%5B39.77012%2C%20-75.98782349999999%5D%2C%20%5B39.9164493%2C%20-75.3337933%5D%2C%20%5B40.4795222%2C%20-78.40368529999999%5D%2C%20%5B41.4988418%2C%20-75.7105684%5D%2C%20%5B39.9753713%2C%20-75.1599648%5D%2C%20%5B40.2376404%2C%20-74.9067728%5D%2C%20%5B40.04021700000001%2C%20-76.393463%5D%2C%20%5B39.9172057%2C%20-75.218679%5D%2C%20%5B40.0591417%2C%20-75.468582%5D%2C%20%5B40.6713209%2C%20-75.21928160000002%5D%2C%20%5B40.0705703%2C%20-74.9521633%5D%2C%20%5B40.12397139999999%2C%20-75.40324240000001%5D%2C%20%5B39.981571%2C%20-75.139819%5D%2C%20%5B40.1367196%2C%20-74.8814301%5D%2C%20%5B41.2638255%2C%20-76.971012%5D%2C%20%5B40.1078347%2C%20-74.90087249999999%5D%2C%20%5B40.0744231%2C%20-75.0309951%5D%2C%20%5B40.0389955%2C%20-75.2637202%5D%2C%20%5B40.39155530000001%2C%20-75.2295528%5D%2C%20%5B39.8717911%2C%20-77.02689529999999%5D%2C%20%5B36.1587474%2C%20-95.9920058%5D%2C%20%5B40.410813%2C%20-79.9156409%5D%2C%20%5B40.2846704%2C%20-76.6754911%5D%2C%20%5B40.6008712%2C%20-75.4777111%5D%2C%20%5B40.2161118%2C%20-75.5389929%5D%2C%20%5B40.691287%2C%20-75.283081%5D%2C%20%5B41.14231669999999%2C%20-75.02711839999999%5D%2C%20%5B40.88227%2C%20-75.122596%5D%2C%20%5B40.22720280000001%2C%20-75.2371497%5D%2C%20%5B40.1929442%2C%20-75.52343909999999%5D%2C%20%5B41.7375556%2C%20-77.629818%5D%2C%20%5B40.438807%2C%20-75.420604%5D%2C%20%5B40.3115063%2C%20-76.8255372%5D%2C%20%5B41.1731913%2C%20-75.3537292%5D%2C%20%5B40.3654134%2C%20-79.64163070000001%5D%2C%20%5B38.8417064%2C%20-77.43684979999999%5D%2C%20%5B40.7314061%2C%20-75.2578101%5D%2C%20%5B40.3660836%2C%20-75.9551625%5D%2C%20%5B40.5222252%2C%20-79.9488238%5D%2C%20%5B40.4673349%2C%20-75.3692732%5D%2C%20%5B40.971782%2C%20-76.017409%5D%2C%20%5B40.0699447%2C%20-77.47574329999999%5D%2C%20%5B39.9418982%2C%20-75.1830578%5D%2C%20%5B41.3813815%2C%20-79.8237213%5D%2C%20%5B40.3298268%2C%20-76.8886668%5D%2C%20%5B40.099015%2C%20-77.30004799999999%5D%2C%20%5B40.0116829%2C%20-75.2601428%5D%2C%20%5B39.763463%2C%20-76.9610205%5D%2C%20%5B40.1142917%2C%20-75.03870859999999%5D%2C%20%5B40.3642377%2C%20-74.95373339999999%5D%2C%20%5B40.2281267%2C%20-75.4069179%5D%2C%20%5B40.971734%2C%20-75.25549409999999%5D%2C%20%5B40.1124575%2C%20-75.3247284%5D%2C%20%5B40.0640093%2C%20-75.6439024%5D%2C%20%5B40.60382449999999%2C%20-75.508107%5D%2C%20%5B40.2452855%2C%20-76.75325959999999%5D%2C%20%5B41.4571086%2C%20-75.58543379999999%5D%2C%20%5B40.3414978%2C%20-75.9753283%5D%2C%20%5B40.1045725%2C%20-77.0174347%5D%2C%20%5B40.4438763%2C%20-75.2881906%5D%2C%20%5B40.3033785%2C%20-75.9462106%5D%2C%20%5B40.3245185%2C%20-78.9214428%5D%2C%20%5B40.07256479999999%2C%20-75.1715472%5D%2C%20%5B40.2744287%2C%20-76.88655349999999%5D%2C%20%5B41.5041836%2C%20-75.5779514%5D%2C%20%5B40.3313314%2C%20-74.9748065%5D%2C%20%5B40.6229175%2C%20-75.42054279999999%5D%2C%20%5B39.796416%2C%20-79.03969800000002%5D%2C%20%5B40.2962015%2C%20-79.5228437%5D%2C%20%5B40.2262049%2C%20-76.7717035%5D%2C%20%5B43.8258353%2C%20-91.24988979999999%5D%2C%20%5B39.9910042%2C%20-75.7656744%5D%2C%20%5B40.3480911%2C%20-75.9664967%5D%2C%20%5B40.0465814%2C%20-75.79681289999999%5D%2C%20%5B40.1191254%2C%20-74.8534545%5D%2C%20%5B40.6919862%2C%20-80.049112%5D%2C%20%5B40.618551%2C%20-75.4980428%5D%2C%20%5B40.5348188%2C%20-80.0115265%5D%2C%20%5B40.2367826%2C%20-75.233868%5D%2C%20%5B40.262642%2C%20-76.791426%5D%2C%20%5B39.841465%2C%20-77.900229%5D%2C%20%5B40.14246869999999%2C%20-74.96229459999999%5D%2C%20%5B40.0834769%2C%20-74.91991809999999%5D%2C%20%5B40.3297448%2C%20-76.85721459999999%5D%2C%20%5B40.8335149%2C%20-77.8106387%5D%2C%20%5B40.2883941%2C%20-76.9769445%5D%2C%20%5B40.001545%2C%20-75.155929%5D%2C%20%5B40.0589601%2C%20-74.97808049999999%5D%2C%20%5B41.5527648%2C%20-75.2237854%5D%2C%20%5B40.7427379%2C%20-75.2516888%5D%2C%20%5B40.0927335%2C%20-74.8709066%5D%2C%20%5B39.8558307%2C%20-75.3348409%5D%2C%20%5B40.7471685%2C%20-75.2456194%5D%2C%20%5B39.9721905%2C%20-76.7748589%5D%2C%20%5B40.176929%2C%20-77.22339199999999%5D%2C%20%5B36.2800079%2C%20-95.85105519999999%5D%2C%20%5B40.7796492%2C%20-77.7770117%5D%2C%20%5B41.9867632%2C%20-76.5298923%5D%2C%20%5B39.918845%2C%20-75.4328645%5D%2C%20%5B40.200837%2C%20-75.1592526%5D%2C%20%5B40.144623%2C%20-76.579497%5D%2C%20%5B40.2106526%2C%20-76.8760356%5D%2C%20%5B40.0116829%2C%20-75.2601428%5D%2C%20%5B39.9918016%2C%20-75.15627099999999%5D%2C%20%5B39.9838887%2C%20-76.7269125%5D%2C%20%5B40.3445821%2C%20-75.1579355%5D%2C%20%5B41.600113%2C%20-76.1027574%5D%2C%20%5B40.2788408%2C%20-76.939802%5D%2C%20%5B40.2717521%2C%20-76.8909219%5D%2C%20%5B40.393061%2C%20-75.4999261%5D%2C%20%5B40.94261059999999%2C%20-78.9727472%5D%2C%20%5B40.2117383%2C%20-80.1961606%5D%2C%20%5B39.8040848%2C%20-77.815278%5D%2C%20%5B40.002273%2C%20-75.0810082%5D%2C%20%5B40.6213662%2C%20-75.4226668%5D%2C%20%5B40.8125495%2C%20-76.1436367%5D%2C%20%5B40.1578106%2C%20-74.7524277%5D%2C%20%5B40.4167043%2C%20-75.3428576%5D%2C%20%5B40.1128916%2C%20-74.9560296%5D%2C%20%5B40.6510891%2C%20-75.4148976%5D%2C%20%5B40.371667%2C%20-75.929802%5D%2C%20%5B40.3239852%2C%20-76.7790119%5D%2C%20%5B40.2318814%2C%20-79.5774654%5D%2C%20%5B40.2999505%2C%20-76.6910336%5D%2C%20%5B40.5725015%2C%20-75.4758592%5D%2C%20%5B40.078996%2C%20-74.9236174%5D%2C%20%5B40.6753578%2C%20-75.3823771%5D%2C%20%5B39.8634391%2C%20-75.3692277%5D%2C%20%5B40.4975344%2C%20-80.0586395%5D%2C%20%5B40.2766569%2C%20-76.8273598%5D%2C%20%5B40.1395569%2C%20-75.4895426%5D%2C%20%5B40.237824%2C%20-76.13208589999999%5D%2C%20%5B39.7953136%2C%20-77.0027994%5D%2C%20%5B40.3230963%2C%20-75.61748419999999%5D%2C%20%5B40.2096499%2C%20-75.5931493%5D%2C%20%5B39.7595258%2C%20-76.6617022%5D%2C%20%5B40.19859599999999%2C%20-75.342737%5D%2C%20%5B40.2733181%2C%20-78.8471838%5D%2C%20%5B41.2200946%2C%20-74.87127989999999%5D%2C%20%5B41.1761588%2C%20-76.90866419999999%5D%2C%20%5B40.1018199%2C%20-74.8626824%5D%2C%20%5B40.221456%2C%20-75.6032136%5D%2C%20%5B41.3276027%2C%20-74.8119753%5D%2C%20%5B40.8086849%2C%20-77.9054075%5D%2C%20%5B40.15717230000001%2C%20-75.9021588%5D%2C%20%5B36.3974709%2C%20-94.43879%5D%2C%20%5B39.949648%2C%20-75.936759%5D%2C%20%5B40.3012766%2C%20-79.5788687%5D%2C%20%5B40.2581207%2C%20-76.8812391%5D%2C%20%5B40.3307379%2C%20-76.74438339999999%5D%2C%20%5B40.4291856%2C%20-79.79570199999999%5D%2C%20%5B40.9766173%2C%20-75.2596575%5D%2C%20%5B40.14246869999999%2C%20-74.96229459999999%5D%2C%20%5B41.0055584%2C%20-75.27625929999999%5D%2C%20%5B40.0347587%2C%20-75.5696079%5D%2C%20%5B39.9519461%2C%20-75.1450637%5D%2C%20%5B39.9054853%2C%20-75.19518939999999%5D%2C%20%5B40.6461803%2C%20-80.0710367%5D%2C%20%5B39.7595258%2C%20-76.6617022%5D%2C%20%5B41.352232%2C%20-75.68982969999999%5D%2C%20%5B40.3173953%2C%20-76.8539882%5D%2C%20%5B41.1965052%2C%20-76.81818299999999%5D%2C%20%5B39.9438721%2C%20-77.6481964%5D%2C%20%5B41.8222965%2C%20-71.4499963%5D%2C%20%5B41.823447%2C%20-71.39353799999999%5D%2C%20%5B41.8131274%2C%20-71.4124513%5D%2C%20%5B41.8293603%2C%20-71.4086693%5D%2C%20%5B41.7789236%2C%20-71.4361334%5D%2C%20%5B41.6574942%2C%20-71.4537167%5D%2C%20%5B41.8207935%2C%20-71.404162%5D%2C%20%5B41.8531278%2C%20-71.41998710000001%5D%2C%20%5B41.826505%2C%20-71.43876500000002%5D%2C%20%5B41.66177%2C%20-71.4502739%5D%2C%20%5B41.589891%2C%20-71.4165728%5D%2C%20%5B41.730258%2C%20-71.282348%5D%2C%20%5B41.8862841%2C%20-71.36623329999999%5D%2C%20%5B41.8521924%2C%20-71.420451%5D%2C%20%5B41.3705489%2C%20-71.83132979999999%5D%2C%20%5B41.6391506%2C%20-71.21115379999999%5D%2C%20%5B41.7909845%2C%20-71.4530594%5D%2C%20%5B41.8240478%2C%20-71.4098882%5D%2C%20%5B41.82739429999999%2C%20-71.42374629999999%5D%2C%20%5B41.7960001%2C%20-71.35279369999999%5D%2C%20%5B41.6802648%2C%20-71.56947389999999%5D%2C%20%5B41.9487251%2C%20-71.64569639999999%5D%2C%20%5B41.8136617%2C%20-71.4474748%5D%2C%20%5B41.8609394%2C%20-71.3954724%5D%2C%20%5B41.8260961%2C%20-71.39332929999999%5D%2C%20%5B41.7144175%2C%20-71.52401119999999%5D%2C%20%5B41.821865%2C%20-71.43091969999999%5D%2C%20%5B36.1505357%2C%20-95.9905477%5D%2C%20%5B41.9852513%2C%20-71.5219709%5D%2C%20%5B41.73489199999999%2C%20-71.28460299999999%5D%2C%20%5B41.475381%2C%20-71.3137988%5D%2C%20%5B41.857792%2C%20-71.48437799999999%5D%2C%20%5B41.8178464%2C%20-71.4076024%5D%2C%20%5B41.484088%2C%20-71.3153995%5D%2C%20%5B41.831178%2C%20-71.38841599999999%5D%2C%20%5B41.8206265%2C%20-71.40379879999999%5D%2C%20%5B41.84728399999999%2C%20-71.41483389999999%5D%2C%20%5B41.4935283%2C%20-71.3158993%5D%2C%20%5B41.99991989999999%2C%20-71.5160818%5D%2C%20%5B32.7917833%2C%20-79.9406276%5D%2C%20%5B32.23548900000001%2C%20-80.8073721%5D%2C%20%5B34.9915458%2C%20-81.9178652%5D%2C%20%5B34.988461%2C%20-80.857726%5D%2C%20%5B32.1729089%2C%20-80.7354517%5D%2C%20%5B34.931612%2C%20-80.83175299999999%5D%2C%20%5B34.003816%2C%20-81.03129299999999%5D%2C%20%5B34.8361103%2C%20-82.3448923%5D%2C%20%5B33.82929980000001%2C%20-78.6374538%5D%2C%20%5B32.9883791%2C%20-80.1000461%5D%2C%20%5B32.9733981%2C%20-80.0738296%5D%2C%20%5B34.8378373%2C%20-81.9952589%5D%2C%20%5B33.642966%2C%20-80.2659074%5D%2C%20%5B33.7532424%2C%20-78.9175088%5D%2C%20%5B32.795952%2C%20-79.944101%5D%2C%20%5B32.2600971%2C%20-80.8542118%5D%2C%20%5B34.96106%2C%20-80.8596%5D%2C%20%5B32.9342705%2C%20-80.6918546%5D%2C%20%5B32.6818329%2C%20-80.1763467%5D%2C%20%5B34.5039565%2C%20-81.85506190000001%5D%2C%20%5B33.4694811%2C%20-80.8592476%5D%2C%20%5B34.8378373%2C%20-81.9952589%5D%2C%20%5B34.9532178%2C%20-82.17956339999999%5D%2C%20%5B33.8963353%2C%20-81.0337581%5D%2C%20%5B34.190356%2C%20-82.161085%5D%2C%20%5B32.2703265%2C%20-81.0821453%5D%2C%20%5B34.6404702%2C%20-79.66721489999999%5D%2C%20%5B33.8238321%2C%20-78.6751567%5D%2C%20%5B32.7580428%2C%20-80.6674073%5D%2C%20%5B33.5116328%2C%20-81.7377107%5D%2C%20%5B35.061617%2C%20-80.9649383%5D%2C%20%5B34.6981525%2C%20-82.9625587%5D%2C%20%5B34.1077183%2C%20-80.9521039%5D%2C%20%5B34.3429236%2C%20-81.22567219999999%5D%2C%20%5B33.0806439%2C%20-80.2105928%5D%2C%20%5B34.7204257%2C%20-80.7709014%5D%2C%20%5B34.8334037%2C%20-81.9841407%5D%2C%20%5B32.7484052%2C%20-80.0330393%5D%2C%20%5B32.92466%2C%20-80.12379729999999%5D%2C%20%5B33.44123%2C%20-79.120537%5D%2C%20%5B33.5212496%2C%20-81.7192056%5D%2C%20%5B33.4694811%2C%20-80.8592476%5D%2C%20%5B34.6977424%2C%20-82.3967448%5D%2C%20%5B34.5039565%2C%20-81.85506190000001%5D%2C%20%5B32.7888712%2C%20-79.9328239%5D%2C%20%5B33.0192686%2C%20-80.0870758%5D%2C%20%5B34.8307574%2C%20-82.30495359999999%5D%2C%20%5B33.0067501%2C%20-80.0450004%5D%2C%20%5B34.984368%2C%20-82.042316%5D%2C%20%5B33.0710335%2C%20-80.1898708%5D%2C%20%5B32.903519%2C%20-80.072328%5D%2C%20%5B34.9752617%2C%20-82.4253229%5D%2C%20%5B34.071694%2C%20-81.144188%5D%2C%20%5B34.0102911%2C%20-81.0398712%5D%2C%20%5B34.780303%2C%20-82.46337199999999%5D%2C%20%5B33.0806439%2C%20-80.2105928%5D%2C%20%5B35.0854772%2C%20-80.93508349999999%5D%2C%20%5B32.9333123%2C%20-79.82004429999999%5D%2C%20%5B34.45995010000001%2C%20-81.8506816%5D%2C%20%5B34.7947623%2C%20-82.4275157%5D%2C%20%5B35.0035504%2C%20-80.85649169999999%5D%2C%20%5B34.9419054%2C%20-82.0333222%5D%2C%20%5B33.0681795%2C%20-80.1807096%5D%2C%20%5B32.7931619%2C%20-79.8562388%5D%2C%20%5B33.7532424%2C%20-78.9175088%5D%2C%20%5B32.1902416%2C%20-80.71234510000001%5D%2C%20%5B34.9217834%2C%20-81.0140102%5D%2C%20%5B33.7924018%2C%20-78.7665708%5D%2C%20%5B32.8599024%2C%20-79.7969542%5D%2C%20%5B32.7865229%2C%20-79.9468009%5D%2C%20%5B33.6672479%2C%20-78.9094193%5D%2C%20%5B34.6917319%2C%20-82.8476881%5D%2C%20%5B34.2291221%2C%20-79.7964902%5D%2C%20%5B34.6892292%2C%20-82.83635679999999%5D%2C%20%5B32.7895148%2C%20-80.7245209%5D%2C%20%5B32.81282780000001%2C%20-79.87706469999999%5D%2C%20%5B33.7123573%2C%20-78.940315%5D%2C%20%5B33.7146982%2C%20-78.88943569999999%5D%2C%20%5B34.0599071%2C%20-81.1639399%5D%2C%20%5B32.8723387%2C%20-79.77601729999999%5D%2C%20%5B34.1040418%2C%20-80.8347946%5D%2C%20%5B34.8160485%2C%20-82.3401874%5D%2C%20%5B34.9915328%2C%20-81.9178496%5D%2C%20%5B32.1935404%2C%20-81.0297901%5D%2C%20%5B34.9121694%2C%20-82.4309245%5D%2C%20%5B33.4857505%2C%20-81.9171355%5D%2C%20%5B32.400283%2C%20-80.763818%5D%2C%20%5B34.92372599999999%2C%20-82.1650176%5D%2C%20%5B32.9779398%2C%20-80.1326718%5D%2C%20%5B32.289803%2C%20-80.9204713%5D%2C%20%5B34.8574624%2C%20-82.4034884%5D%2C%20%5B34.7512965%2C%20-82.289148%5D%2C%20%5B33.922969%2C%20-81.11953299999999%5D%2C%20%5B33.0533858%2C%20-80.23381409999999%5D%2C%20%5B32.3135793%2C%20-80.9698016%5D%2C%20%5B34.8577448%2C%20-82.40340239999999%5D%2C%20%5B32.2476723%2C%20-80.9903482%5D%2C%20%5B35.001394%2C%20-81.906109%5D%2C%20%5B34.1965759%2C%20-79.684117%5D%2C%20%5B32.2476723%2C%20-80.9903482%5D%2C%20%5B32.9421907%2C%20-79.8402897%5D%2C%20%5B33.5208674%2C%20-81.7107972%5D%2C%20%5B34.9516508%2C%20-82.1871254%5D%2C%20%5B34.9121694%2C%20-82.4309245%5D%2C%20%5B34.1351433%2C%20-81.19043239999999%5D%2C%20%5B33.4863158%2C%20-81.9308185%5D%2C%20%5B34.9482659%2C%20-82.20104830000001%5D%2C%20%5B34.0903608%2C%20-80.8545698%5D%2C%20%5B32.7665018%2C%20-80.89508119999999%5D%2C%20%5B34.4532464%2C%20-79.3775483%5D%2C%20%5B34.8276968%2C%20-82.34657949999999%5D%2C%20%5B34.9311043%2C%20-80.8350325%5D%2C%20%5B34.7569928%2C%20-82.2667956%5D%2C%20%5B35.0701459%2C%20-80.98881140000002%5D%2C%20%5B32.3211507%2C%20-80.9207375%5D%2C%20%5B32.9472006%2C%20-80.207979%5D%2C%20%5B34.9603196%2C%20-82.4340103%5D%2C%20%5B32.2900272%2C%20-80.9369217%5D%2C%20%5B32.2225351%2C%20-81.16897469999999%5D%2C%20%5B34.0861329%2C%20-81.147966%5D%2C%20%5B34.1646488%2C%20-79.8525871%5D%2C%20%5B34.2107559%2C%20-82.1791418%5D%2C%20%5B33.576837%2C%20-81.8356644%5D%2C%20%5B34.7012291%2C%20-82.2151231%5D%2C%20%5B34.4990317%2C%20-82.01355939999999%5D%2C%20%5B33.4055248%2C%20-79.98348419999999%5D%2C%20%5B35.1083897%2C%20-81.6056529%5D%2C%20%5B33.8538155%2C%20-78.6522626%5D%2C%20%5B34.7742551%2C%20-82.6741655%5D%2C%20%5B34.9861525%2C%20-80.8537743%5D%2C%20%5B34.0689596%2C%20-78.8803911%5D%2C%20%5B33.7509254%2C%20-78.9577255%5D%2C%20%5B34.2437141%2C%20-79.7993801%5D%2C%20%5B32.9306377%2C%20-80.0711515%5D%2C%20%5B33.6615765%2C%20-78.91445879999999%5D%2C%20%5B34.7596376%2C%20-82.3906887%5D%2C%20%5B34.2109853%2C%20-82.1797473%5D%2C%20%5B33.9582147%2C%20-81.1425308%5D%2C%20%5B34.8489873%2C%20-82.01449649999999%5D%2C%20%5B33.0520569%2C%20-79.95401939999999%5D%2C%20%5B33.5110786%2C%20-81.71299139999999%5D%2C%20%5B34.8953545%2C%20-82.8837143%5D%2C%20%5B34.9147643%2C%20-81.9690786%5D%2C%20%5B34.9453506%2C%20-80.9681399%5D%2C%20%5B33.6419398%2C%20-78.9896342%5D%2C%20%5B34.8105234%2C%20-82.3428596%5D%2C%20%5B32.8643854%2C%20-80.0143099%5D%2C%20%5B32.1548411%2C%20-80.7623096%5D%2C%20%5B35.0105013%2C%20-80.9673743%5D%2C%20%5B32.946411%2C%20-80.0405467%5D%2C%20%5B32.8749467%2C%20-80.0642534%5D%2C%20%5B33.762119%2C%20-78.9617654%5D%2C%20%5B32.9281241%2C%20-80.0704301%5D%2C%20%5B34.1484016%2C%20-80.8272965%5D%2C%20%5B34.721074%2C%20-81.015278%5D%2C%20%5B32.248408%2C%20-80.83717999999999%5D%2C%20%5B33.1202305%2C%20-80.3105307%5D%2C%20%5B33.8007354%2C%20-78.7152435%5D%2C%20%5B35.1640081%2C%20-82.1825862%5D%2C%20%5B33.2556408%2C%20-81.36133869999999%5D%2C%20%5B32.2873134%2C%20-81.0809364%5D%2C%20%5B32.2574837%2C%20-80.9027765%5D%2C%20%5B34.7227065%2C%20-82.2945412%5D%2C%20%5B34.0559968%2C%20-81.1116776%5D%2C%20%5B35.924012%2C%20-96.6980729%5D%2C%20%5B35.003375%2C%20-80.896654%5D%2C%20%5B34.1000496%2C%20-80.95558849999999%5D%2C%20%5B33.7895774%2C%20-81.9295582%5D%2C%20%5B32.287104%2C%20-81.1186577%5D%2C%20%5B34.9050439%2C%20-82.15709389999999%5D%2C%20%5B34.7021862%2C%20-82.908976%5D%2C%20%5B32.621634%2C%20-80.35064899999999%5D%2C%20%5B34.8738727%2C%20-82.21949839999999%5D%2C%20%5B40.6009513%2C%20-73.9357319%5D%2C%20%5B33.5823934%2C%20-79.0277747%5D%2C%20%5B34.807504%2C%20-82.2819049%5D%2C%20%5B32.900443%2C%20-80.019486%5D%2C%20%5B33.7532424%2C%20-78.9175088%5D%2C%20%5B35.0608837%2C%20-81.9981543%5D%2C%20%5B33.8381241%2C%20-78.69244309999999%5D%2C%20%5B33.7509254%2C%20-78.9577255%5D%2C%20%5B32.311638%2C%20-80.9348373%5D%2C%20%5B33.8580826%2C%20-78.64607939999999%5D%2C%20%5B32.621634%2C%20-80.35064899999999%5D%2C%20%5B32.9521654%2C%20-80.0413981%5D%2C%20%5B32.7833754%2C%20-79.94073310000002%5D%2C%20%5B34.7726244%2C%20-81.00713840000002%5D%2C%20%5B34.8394392%2C%20-82.3158072%5D%2C%20%5B32.298093%2C%20-80.9481132%5D%2C%20%5B34.982797%2C%20-80.85490229999999%5D%2C%20%5B32.7789491%2C%20-79.92935659999999%5D%2C%20%5B33.4251056%2C%20-81.6849536%5D%2C%20%5B33.9501684%2C%20-81.1010058%5D%2C%20%5B32.2574837%2C%20-80.9027765%5D%2C%20%5B34.7865669%2C%20-80.8412347%5D%2C%20%5B33.5950446%2C%20-81.8388724%5D%2C%20%5B33.9590661%2C%20-80.3952214%5D%2C%20%5B32.7999973%2C%20-80.0208447%5D%2C%20%5B33.7532424%2C%20-78.9175088%5D%2C%20%5B32.7999973%2C%20-80.0208447%5D%2C%20%5B32.743528%2C%20-80.0383756%5D%2C%20%5B32.3108741%2C%20-80.9783006%5D%2C%20%5B33.6495393%2C%20-81.7036444%5D%2C%20%5B34.9611593%2C%20-80.8560711%5D%2C%20%5B34.8239604%2C%20-82.5508364%5D%2C%20%5B33.5665077%2C%20-79.03358779999999%5D%2C%20%5B32.9951484%2C%20-80.0976432%5D%2C%20%5B44.0609244%2C%20-103.2336609%5D%2C%20%5B44.1071397%2C%20-103.1980981%5D%2C%20%5B44.0802357%2C%20-103.2336383%5D%2C%20%5B43.5697821%2C%20-96.78210949999999%5D%2C%20%5B43.428006%2C%20-96.79131199999999%5D%2C%20%5B43.5169619%2C%20-96.77501769999999%5D%2C%20%5B43.5498477%2C%20-96.6531169%5D%2C%20%5B44.1199304%2C%20-103.0704617%5D%2C%20%5B44.097879%2C%20-103.1816981%5D%2C%20%5B44.890947%2C%20-97.14434999999999%5D%2C%20%5B44.1018856%2C%20-103.1406062%5D%2C%20%5B44.4105009%2C%20-103.5424347%5D%2C%20%5B44.0760697%2C%20-103.1583556%5D%2C%20%5B44.1043049%2C%20-103.2035723%5D%2C%20%5B43.5887184%2C%20-96.6980667%5D%2C%20%5B44.1018856%2C%20-103.1406062%5D%2C%20%5B43.5416774%2C%20-96.7781767%5D%2C%20%5B44.2273013%2C%20-103.1512768%5D%2C%20%5B43.5139638%2C%20-96.6535991%5D%2C%20%5B44.1122225%2C%20-103.0505476%5D%2C%20%5B43.5999105%2C%20-96.7571208%5D%2C%20%5B44.4806078%2C%20-103.3059066%5D%2C%20%5B43.5083488%2C%20-96.77876239999999%5D%2C%20%5B43.4417176%2C%20-96.7076926%5D%2C%20%5B44.3645228%2C%20-103.7350639%5D%2C%20%5B44.0943316%2C%20-103.1753556%5D%2C%20%5B44.4105009%2C%20-103.5424347%5D%2C%20%5B44.0611385%2C%20-103.2305955%5D%2C%20%5B44.88949059999999%2C%20-97.07218119999999%5D%2C%20%5B43.7011925%2C%20-98.04566609999999%5D%2C%20%5B42.8816172%2C%20-97.39792229999999%5D%2C%20%5B44.0948534%2C%20-103.2649115%5D%2C%20%5B44.1035818%2C%20-103.1493956%5D%2C%20%5B43.5439292%2C%20-96.65699810000001%5D%2C%20%5B44.3102002%2C%20-96.75617419999999%5D%2C%20%5B42.533053%2C%20-96.49033539999999%5D%2C%20%5B45.4749367%2C%20-98.50904949999999%5D%2C%20%5B43.5132969%2C%20-96.64864%5D%2C%20%5B43.4956548%2C%20-96.7837076%5D%2C%20%5B43.48762199999999%2C%20-96.671275%5D%2C%20%5B43.5439914%2C%20-96.7892573%5D%2C%20%5B43.975732%2C%20-103.306709%5D%2C%20%5B43.6056045%2C%20-96.7785371%5D%2C%20%5B43.5474707%2C%20-96.7263614%5D%2C%20%5B44.322998%2C%20-96.75481409999999%5D%2C%20%5B43.5425024%2C%20-96.65495969999999%5D%2C%20%5B44.2281778%2C%20-103.3534652%5D%2C%20%5B44.07788%2C%20-103.146644%5D%2C%20%5B44.4141768%2C%20-103.5149268%5D%2C%20%5B43.45199119999999%2C%20-96.8072181%5D%2C%20%5B43.4750215%2C%20-96.72759669999999%5D%2C%20%5B43.5152847%2C%20-96.7551705%5D%2C%20%5B43.5257465%2C%20-96.7319634%5D%2C%20%5B43.5464055%2C%20-96.68590840000002%5D%2C%20%5B44.1048982%2C%20-103.1512882%5D%2C%20%5B44.019529%2C%20-103.245527%5D%2C%20%5B36.16129129999999%2C%20-86.7589802%5D%2C%20%5B35.842719%2C%20-86.468655%5D%2C%20%5B39.0344425%2C%20-94.6079553%5D%2C%20%5B36.3265015%2C%20-86.5982459%5D%2C%20%5B36.0331622%2C%20-83.87244989999999%5D%2C%20%5B35.8529257%2C%20-86.4271006%5D%2C%20%5B36.1454497%2C%20-86.87297869999999%5D%2C%20%5B35.0171314%2C%20-85.599077%5D%2C%20%5B35.0756643%2C%20-85.1866922%5D%2C%20%5B36.3834986%2C%20-82.4241932%5D%2C%20%5B35.2099552%2C%20-84.8720799%5D%2C%20%5B35.9768937%2C%20-87.1261473%5D%2C%20%5B35.0192488%2C%20-90.01995889999999%5D%2C%20%5B35.8089868%2C%20-83.5741887%5D%2C%20%5B36.5335137%2C%20-87.2217106%5D%2C%20%5B35.089753%2C%20-85.078227%5D%2C%20%5B36.138626%2C%20-86.77282249999999%5D%2C%20%5B36.13978000000001%2C%20-86.77181999999999%5D%2C%20%5B36.1536735%2C%20-86.7727833%5D%2C%20%5B35.13769%2C%20-90.05895199999999%5D%2C%20%5B35.0587198%2C%20-85.2544595%5D%2C%20%5B35.030105%2C%20-89.668707%5D%2C%20%5B36.3233083%2C%20-86.6006249%5D%2C%20%5B36.1706657%2C%20-86.3992203%5D%2C%20%5B35.938874%2C%20-88.7643178%5D%2C%20%5B36.1630793%2C%20-86.74461939999999%5D%2C%20%5B35.9951497%2C%20-86.52858549999999%5D%2C%20%5B36.420494%2C%20-82.46634399999999%5D%2C%20%5B35.9406783%2C%20-84.1538454%5D%2C%20%5B35.7430487%2C%20-86.9573626%5D%2C%20%5B35.2413687%2C%20-87.33099949999999%5D%2C%20%5B36.1558682%2C%20-86.78825069999999%5D%2C%20%5B35.842719%2C%20-86.468655%5D%2C%20%5B36.5920002%2C%20-87.4086821%5D%2C%20%5B35.842719%2C%20-86.468655%5D%2C%20%5B36.1502036%2C%20-86.5366025%5D%2C%20%5B35.74366029999999%2C%20-86.9379448%5D%2C%20%5B35.9781252%2C%20-83.60621379999999%5D%2C%20%5B35.8250355%2C%20-84.2730208%5D%2C%20%5B35.9648404%2C%20-83.9078265%5D%2C%20%5B36.5822345%2C%20-82.16930239999999%5D%2C%20%5B36.005108%2C%20-82.512389%5D%2C%20%5B35.766703%2C%20-83.9862893%5D%2C%20%5B36.1543557%2C%20-86.7705648%5D%2C%20%5B35.0528631%2C%20-89.80930169999999%5D%2C%20%5B36.4570617%2C%20-86.34544849999999%5D%2C%20%5B35.79754250000001%2C%20-83.56032479999999%5D%2C%20%5B36.1426761%2C%20-86.7021747%5D%2C%20%5B36.1504466%2C%20-86.7741575%5D%2C%20%5B35.914218%2C%20-84.140332%5D%2C%20%5B36.1536842%2C%20-86.7707813%5D%2C%20%5B36.386897%2C%20-86.492879%5D%2C%20%5B35.9357579%2C%20-86.5291299%5D%2C%20%5B36.3319039%2C%20-86.70301339999999%5D%2C%20%5B35.9994023%2C%20-83.969548%5D%2C%20%5B36.347903%2C%20-82.40077199999999%5D%2C%20%5B35.0206522%2C%20-89.8491846%5D%2C%20%5B35.175942%2C%20-89.8175346%5D%2C%20%5B35.7831417%2C%20-86.3770043%5D%2C%20%5B36.5628515%2C%20-82.5593715%5D%2C%20%5B35.8443081%2C%20-86.4611022%5D%2C%20%5B36.1344576%2C%20-86.8872391%5D%2C%20%5B36.1742205%2C%20-86.78736560000002%5D%2C%20%5B35.921334%2C%20-84.133825%5D%2C%20%5B35.7927608%2C%20-83.5426636%5D%2C%20%5B35.9439944%2C%20-86.8532463%5D%2C%20%5B36.0164224%2C%20-84.01382989999999%5D%2C%20%5B36.0043799%2C%20-83.98048159999999%5D%2C%20%5B35.9014702%2C%20-84.13766249999999%5D%2C%20%5B36.0051217%2C%20-83.9864546%5D%2C%20%5B35.8591194%2C%20-86.39286129999999%5D%2C%20%5B35.9538987%2C%20-86.82368149999999%5D%2C%20%5B35.9355403%2C%20-83.99463949999999%5D%2C%20%5B35.8799492%2C%20-84.2373507%5D%2C%20%5B35.0471685%2C%20-89.8569662%5D%2C%20%5B36.1385594%2C%20-86.7719195%5D%2C%20%5B35.643064%2C%20-86.908163%5D%2C%20%5B35.8430381%2C%20-86.4933528%5D%2C%20%5B36.1511169%2C%20-86.7604726%5D%2C%20%5B35.140977%2C%20-85.145359%5D%2C%20%5B36.0844262%2C%20-86.69470439999999%5D%2C%20%5B35.0350766%2C%20-85.30659349999999%5D%2C%20%5B36.078237%2C%20-87.017849%5D%2C%20%5B36.1413519%2C%20-85.52557630000001%5D%2C%20%5B35.8332954%2C%20-86.4163502%5D%2C%20%5B36.4161357%2C%20-82.327963%5D%2C%20%5B35.1555507%2C%20-90.1512224%5D%2C%20%5B35.075696%2C%20-90.085534%5D%2C%20%5B35.8626824%2C%20-83.5300075%5D%2C%20%5B35.8430381%2C%20-86.4933528%5D%2C%20%5B35.9119481%2C%20-84.0887029%5D%2C%20%5B36.162964%2C%20-86.77571119999999%5D%2C%20%5B35.8326204%2C%20-86.3745785%5D%2C%20%5B36.1955744%2C%20-86.7239937%5D%2C%20%5B35.9153217%2C%20-84.09262249999999%5D%2C%20%5B35.1019654%2C%20-85.2652148%5D%2C%20%5B36.3273287%2C%20-82.3970313%5D%2C%20%5B35.916745%2C%20-84.1285889%5D%2C%20%5B35.8367817%2C%20-86.3968301%5D%2C%20%5B36.1717613%2C%20-86.8637431%5D%2C%20%5B37.7715404%2C%20-122.4168196%5D%2C%20%5B35.0724499%2C%20-85.2588261%5D%2C%20%5B35.9213443%2C%20-84.13679379999999%5D%2C%20%5B35.9678093%2C%20-86.8146202%5D%2C%20%5B35.0320795%2C%20-89.9213812%5D%2C%20%5B36.5226797%2C%20-87.2316591%5D%2C%20%5B36.1495338%2C%20-86.6873432%5D%2C%20%5B35.8306342%2C%20-86.3989751%5D%2C%20%5B35.9535658%2C%20-86.7271378%5D%2C%20%5B35.86972%2C%20-83.5674938%5D%2C%20%5B36.17437839999999%2C%20-86.5190138%5D%2C%20%5B36.1705283%2C%20-84.08275119999999%5D%2C%20%5B36.0184849%2C%20-83.98408909999999%5D%2C%20%5B35.0170013%2C%20-89.87473039999999%5D%2C%20%5B35.2190796%2C%20-89.9121298%5D%2C%20%5B35.15347%2C%20-89.89070690000001%5D%2C%20%5B36.3188183%2C%20-86.86727959999999%5D%2C%20%5B35.1134223%2C%20-89.8940677%5D%2C%20%5B35.9170821%2C%20-86.8730179%5D%2C%20%5B36.043383%2C%20-86.9594924%5D%2C%20%5B35.89224%2C%20-86.38505800000001%5D%2C%20%5B36.4681285%2C%20-86.66489229999999%5D%2C%20%5B36.2305398%2C%20-86.7718017%5D%2C%20%5B36.322989%2C%20-86.7118296%5D%2C%20%5B36.12010739999999%2C%20-86.77003479999999%5D%2C%20%5B36.2305311%2C%20-86.5306866%5D%2C%20%5B36.5523876%2C%20-87.32192429999999%5D%2C%20%5B35.5214311%2C%20-86.45476839999999%5D%2C%20%5B35.7009511%2C%20-88.860107%5D%2C%20%5B35.8822666%2C%20-86.42314540000001%5D%2C%20%5B35.8336858%2C%20-86.3961805%5D%2C%20%5B36.5715775%2C%20-87.2691901%5D%2C%20%5B35.0301289%2C%20-85.286253%5D%2C%20%5B36.1023319%2C%20-84.1224861%5D%2C%20%5B35.9584877%2C%20-86.52179040000001%5D%2C%20%5B36.223911%2C%20-86.544375%5D%2C%20%5B35.8895212%2C%20-86.382201%5D%2C%20%5B36.2319463%2C%20-86.4849589%5D%2C%20%5B35.9883117%2C%20-84.0479273%5D%2C%20%5B35.0195541%2C%20-85.38047019999999%5D%2C%20%5B35.8324812%2C%20-86.3984205%5D%2C%20%5B35.849369%2C%20-86.65823549999999%5D%2C%20%5B36.3104895%2C%20-86.663465%5D%2C%20%5B35.8442627%2C%20-86.4844605%5D%2C%20%5B36.0815102%2C%20-86.58756009999999%5D%2C%20%5B36.5859903%2C%20-87.2777151%5D%2C%20%5B35.14967439999999%2C%20-84.8380985%5D%2C%20%5B36.1744717%2C%20-86.6153588%5D%2C%20%5B36.33131729999999%2C%20-86.6221727%5D%2C%20%5B36.1609365%2C%20-86.7748242%5D%2C%20%5B36.1999061%2C%20-86.27628279999999%5D%2C%20%5B35.8867509%2C%20-83.6118511%5D%2C%20%5B36.3332639%2C%20-82.4028981%5D%2C%20%5B35.3262239%2C%20-89.34633649999999%5D%2C%20%5B36.1712247%2C%20-86.7623046%5D%2C%20%5B35.8378034%2C%20-86.3986236%5D%2C%20%5B35.1432915%2C%20-85.24758539999999%5D%2C%20%5B35.1556621%2C%20-89.7279842%5D%2C%20%5B36.0267309%2C%20-83.9908768%5D%2C%20%5B36.1454497%2C%20-86.87297869999999%5D%2C%20%5B35.8302023%2C%20-86.3961056%5D%2C%20%5B35.0443054%2C%20-85.3086593%5D%2C%20%5B36.3421879%2C%20-82.3786655%5D%2C%20%5B35.646702%2C%20-86.89798499999999%5D%2C%20%5B36.128765%2C%20-86.75468099999999%5D%2C%20%5B35.8577807%2C%20-86.39218869999999%5D%2C%20%5B35.823058%2C%20-83.58462899999999%5D%2C%20%5B36.5779726%2C%20-84.1129145%5D%2C%20%5B35.1246342%2C%20-90.05807689999999%5D%2C%20%5B35.9837344%2C%20-85.0125252%5D%2C%20%5B36.0829999%2C%20-86.6489884%5D%2C%20%5B35.9108902%2C%20-86.81105050000001%5D%2C%20%5B35.774324%2C%20-83.544747%5D%2C%20%5B36.12582099999999%2C%20-86.51902129999999%5D%2C%20%5B35.2695747%2C%20-84.7689214%5D%2C%20%5B36.1539469%2C%20-86.79884729999999%5D%2C%20%5B35.1667705%2C%20-84.8441678%5D%2C%20%5B36.3213461%2C%20-86.5985366%5D%2C%20%5B35.8423363%2C%20-86.3907957%5D%2C%20%5B36.1361118%2C%20-86.7739219%5D%2C%20%5B35.1848354%2C%20-89.85091729999999%5D%2C%20%5B35.9170899%2C%20-84.0861204%5D%2C%20%5B36.0482065%2C%20-86.9438883%5D%2C%20%5B35.3529212%2C%20-84.813187%5D%2C%20%5B36.0003304%2C%20-84.0364702%5D%2C%20%5B35.795609%2C%20-86.928595%5D%2C%20%5B35.6685125%2C%20-87.00208169999999%5D%2C%20%5B36.5523876%2C%20-87.32192429999999%5D%2C%20%5B35.8089868%2C%20-83.5741887%5D%2C%20%5B36.55229509999999%2C%20-82.6258481%5D%2C%20%5B36.135585%2C%20-86.74843%5D%2C%20%5B35.8326204%2C%20-86.3745785%5D%2C%20%5B36.3056251%2C%20-86.6346367%5D%2C%20%5B35.2374769%2C%20-89.79344270000001%5D%2C%20%5B36.1722224%2C%20-82.83824229999999%5D%2C%20%5B36.1576708%2C%20-95.9840517%5D%2C%20%5B36.00296%2C%20-86.62733899999999%5D%2C%20%5B36.1472906%2C%20-86.781342%5D%2C%20%5B35.930313%2C%20-84.01083469999999%5D%2C%20%5B36.07847%2C%20-83.925844%5D%2C%20%5B35.8417183%2C%20-86.3658701%5D%2C%20%5B35.069843%2C%20-89.933685%5D%2C%20%5B36.5901089%2C%20-86.5926405%5D%2C%20%5B36.1501888%2C%20-86.79223449999999%5D%2C%20%5B36.0365913%2C%20-84.2224342%5D%2C%20%5B35.9538987%2C%20-86.82368149999999%5D%2C%20%5B35.77687%2C%20-83.5360861%5D%2C%20%5B35.1209584%2C%20-85.09455729999999%5D%2C%20%5B36.1930573%2C%20-86.5142212%5D%2C%20%5B36.191581%2C%20-83.30250199999999%5D%2C%20%5B36.153008%2C%20-86.7732544%5D%2C%20%5B35.2259877%2C%20-89.5852728%5D%2C%20%5B36.6346627%2C%20-87.4226884%5D%2C%20%5B35.1661615%2C%20-85.249391%5D%2C%20%5B35.9920953%2C%20-84.2748971%5D%2C%20%5B35.032158%2C%20-85.155042%5D%2C%20%5B29.593022%2C%20-95.1929507%5D%2C%20%5B35.7257954%2C%20-83.51097580000001%5D%2C%20%5B36.042103%2C%20-86.6587471%5D%2C%20%5B35.951065%2C%20-84.0172879%5D%2C%20%5B35.9658536%2C%20-84.1426892%5D%2C%20%5B35.8681377%2C%20-84.0907246%5D%2C%20%5B35.8393241%2C%20-86.3966595%5D%2C%20%5B36.164981%2C%20-86.7795189%5D%2C%20%5B35.0461362%2C%20-89.7990499%5D%2C%20%5B35.9171855%2C%20-84.1353846%5D%2C%20%5B35.041013%2C%20-89.94529999999999%5D%2C%20%5B35.0198983%2C%20-89.83202899999999%5D%2C%20%5B35.1128412%2C%20-85.0298826%5D%2C%20%5B35.8285097%2C%20-86.3964221%5D%2C%20%5B36.5886149%2C%20-87.29190419999999%5D%2C%20%5B35.8529257%2C%20-86.4271006%5D%2C%20%5B35.702406%2C%20-85.797479%5D%2C%20%5B36.141951%2C%20-85.52822599999999%5D%2C%20%5B35.9721787%2C%20-86.56373579999999%5D%2C%20%5B35.744078%2C%20-86.935739%5D%2C%20%5B36.129922%2C%20-85.583434%5D%2C%20%5B36.1939016%2C%20-86.80130070000001%5D%2C%20%5B36.5876994%2C%20-87.3139406%5D%2C%20%5B35.96568329999999%2C%20-86.8379367%5D%2C%20%5B35.4868972%2C%20-84.81045619999999%5D%2C%20%5B35.993923%2C%20-83.781153%5D%2C%20%5B35.0438562%2C%20-89.76123539999999%5D%2C%20%5B35.2081555%2C%20-89.7254873%5D%2C%20%5B35.9920953%2C%20-84.2748971%5D%2C%20%5B35.0487352%2C%20-89.9030911%5D%2C%20%5B35.9887338%2C%20-83.5916195%5D%2C%20%5B36.1626774%2C%20-86.8450702%5D%2C%20%5B35.0814329%2C%20-85.089041%5D%2C%20%5B35.0237964%2C%20-89.8822447%5D%2C%20%5B35.9246923%2C%20-84.1384842%5D%2C%20%5B35.2247935%2C%20-89.77221750000001%5D%2C%20%5B36.3389741%2C%20-82.4074679%5D%2C%20%5B36.1767589%2C%20-85.4653079%5D%2C%20%5B35.939627%2C%20-86.71409%5D%2C%20%5B36.1388351%2C%20-86.7410822%5D%2C%20%5B30.7088815%2C%20-96.3798942%5D%2C%20%5B29.733594%2C%20-95.36162300000001%5D%2C%20%5B33.1051414%2C%20-96.83986510000001%5D%2C%20%5B29.7858882%2C%20-95.163144%5D%2C%20%5B29.4713067%2C%20-95.3866772%5D%2C%20%5B30.0876938%2C%20-95.9886902%5D%2C%20%5B32.7240552%2C%20-97.3873021%5D%2C%20%5B26.2546959%2C%20-98.260725%5D%2C%20%5B25.919618%2C%20-97.44606999999999%5D%2C%20%5B31.0556756%2C%20-97.47570879999999%5D%2C%20%5B32.9064923%2C%20-97.316133%5D%2C%20%5B33.1802442%2C%20-96.4975841%5D%2C%20%5B29.8045399%2C%20-95.3683976%5D%2C%20%5B27.8573317%2C%20-97.6474846%5D%2C%20%5B32.9172666%2C%20-96.70216180000001%5D%2C%20%5B29.8278774%2C%20-95.3615501%5D%2C%20%5B31.8410278%2C%20-102.4975852%5D%2C%20%5B29.7055793%2C%20-95.5246174%5D%2C%20%5B29.91407%2C%20-95.439894%5D%2C%20%5B32.9932659%2C%20-96.82852609999999%5D%2C%20%5B30.3685615%2C%20-95.4865986%5D%2C%20%5B30.087421%2C%20-97.4939745%5D%2C%20%5B32.6728886%2C%20-97.2552347%5D%2C%20%5B29.7093059%2C%20-98.07921499999999%5D%2C%20%5B27.954138%2C%20-97.1177032%5D%2C%20%5B30.9136336%2C%20-101.8948308%5D%2C%20%5B29.7566769%2C%20-95.6258043%5D%2C%20%5B33.2125503%2C%20-96.61665819999999%5D%2C%20%5B29.6945678%2C%20-95.76025369999999%5D%2C%20%5B30.7836766%2C%20-85.3379107%5D%2C%20%5B27.7977339%2C%20-97.4403749%5D%2C%20%5B29.8177918%2C%20-95.6690907%5D%2C%20%5B31.7575543%2C%20-106.4851481%5D%2C%20%5B33.5871864%2C%20-101.8447816%5D%2C%20%5B30.7110966%2C%20-94.9521269%5D%2C%20%5B33.5842102%2C%20-101.8472534%5D%2C%20%5B32.6883807%2C%20-95.4859328%5D%2C%20%5B28.4405877%2C%20-99.23642730000002%5D%2C%20%5B29.7612344%2C%20-98.8233223%5D%2C%20%5B29.8705951%2C%20-95.3484706%5D%2C%20%5B30.2572987%2C%20-96.1273315%5D%2C%20%5B28.9563052%2C%20-95.3681108%5D%2C%20%5B27.8191755%2C%20-97.5116235%5D%2C%20%5B31.0493068%2C%20-97.4903736%5D%2C%20%5B28.7046608%2C%20-96.4950788%5D%2C%20%5B29.5550786%2C%20-95.39743179999999%5D%2C%20%5B26.245022%2C%20-98.162577%5D%2C%20%5B30.0219341%2C%20-95.4196058%5D%2C%20%5B29.14371939999999%2C%20-95.6480338%5D%2C%20%5B32.83556799999999%2C%20-97.004505%5D%2C%20%5B29.4775369%2C%20-95.2294204%5D%2C%20%5B29.7335106%2C%20-95.4797882%5D%2C%20%5B29.915876%2C%20-95.06989910000001%5D%2C%20%5B32.675908%2C%20-97.25623499999999%5D%2C%20%5B29.6359276%2C%20-95.1626347%5D%2C%20%5B27.8379169%2C%20-97.57038779999999%5D%2C%20%5B32.4383029%2C%20-97.7617463%5D%2C%20%5B30.1601892%2C%20-96.3759836%5D%2C%20%5B31.5469093%2C%20-97.11238230000001%5D%2C%20%5B31.49787199999999%2C%20-97.1597927%5D%2C%20%5B32.8464461%2C%20-96.322114%5D%2C%20%5B29.6895578%2C%20-95.3495945%5D%2C%20%5B30.2878759%2C%20-97.72550319999999%5D%2C%20%5B32.3320916%2C%20-96.617618%5D%2C%20%5B33.1269628%2C%20-96.09702829999999%5D%2C%20%5B28.7046608%2C%20-96.4950788%5D%2C%20%5B31.81030119999999%2C%20-95.15722699999999%5D%2C%20%5B30.27565109999999%2C%20-97.7298417%5D%2C%20%5B33.6108159%2C%20-96.80721960000001%5D%2C%20%5B29.7820605%2C%20-95.165303%5D%2C%20%5B32.0254365%2C%20-102.1500954%5D%2C%20%5B32.7266428%2C%20-97.1473382%5D%2C%20%5B30.1780503%2C%20-95.4459842%5D%2C%20%5B31.4833212%2C%20-97.20711539999999%5D%2C%20%5B29.8026228%2C%20-95.4733473%5D%2C%20%5B31.5864467%2C%20-97.1165485%5D%2C%20%5B30.6751396%2C%20-96.3734353%5D%2C%20%5B30.0350707%2C%20-95.49963749999999%5D%2C%20%5B30.2656865%2C%20-94.9021649%5D%2C%20%5B33.5046876%2C%20-101.878542%5D%2C%20%5B27.7181531%2C%20-97.3956843%5D%2C%20%5B29.6456624%2C%20-95.03595709999999%5D%2C%20%5B31.1257286%2C%20-97.6831235%5D%2C%20%5B32.5975891%2C%20-96.9436666%5D%2C%20%5B27.3895774%2C%20-98.48942269999999%5D%2C%20%5B30.0685596%2C%20-94.1535358%5D%2C%20%5B30.2752602%2C%20-98.8695855%5D%2C%20%5B29.8267119%2C%20-94.4019144%5D%2C%20%5B32.6994876%2C%20-96.83968519999999%5D%2C%20%5B29.7615552%2C%20-98.7093209%5D%2C%20%5B29.7310957%2C%20-98.65552339999999%5D%2C%20%5B31.8422028%2C%20-102.3760783%5D%2C%20%5B25.9515916%2C%20-97.4642317%5D%2C%20%5B27.6999417%2C%20-97.41080319999999%5D%2C%20%5B29.54164949999999%2C%20-95.01940400000001%5D%2C%20%5B32.6917734%2C%20-96.8576428%5D%2C%20%5B29.4795544%2C%20-95.2441803%5D%2C%20%5B30.5444662%2C%20-95.4911219%5D%2C%20%5B26.2031952%2C%20-98.22505969999999%5D%2C%20%5B29.486884%2C%20-95.90963699999999%5D%2C%20%5B32.4592144%2C%20-96.8200691%5D%2C%20%5B31.3323753%2C%20-94.7582784%5D%2C%20%5B32.0143519%2C%20-102.0789953%5D%2C%20%5B29.796118%2C%20-95.05574179999999%5D%2C%20%5B29.7236661%2C%20-95.8449673%5D%2C%20%5B31.8659718%2C%20-106.4326965%5D%2C%20%5B32.9908797%2C%20-97.2328174%5D%2C%20%5B29.5695582%2C%20-97.9988429%5D%2C%20%5B31.9898909%2C%20-95.31266169999999%5D%2C%20%5B33.6348579%2C%20-101.9182413%5D%2C%20%5B33.5476589%2C%20-101.8929859%5D%2C%20%5B31.6570948%2C%20-106.2552978%5D%2C%20%5B32.7946197%2C%20-97.27668729999999%5D%2C%20%5B29.3033626%2C%20-94.7779977%5D%2C%20%5B32.753923%2C%20-97.428676%5D%2C%20%5B30.3661887%2C%20-94.96115999999999%5D%2C%20%5B29.7405226%2C%20-95.3586785%5D%2C%20%5B28.9890493%2C%20-95.928299%5D%2C%20%5B32.9054956%2C%20-96.6996731%5D%2C%20%5B32.4262697%2C%20-99.7865552%5D%2C%20%5B33.017223%2C%20-96.613164%5D%2C%20%5B30.2072517%2C%20-95.2686761%5D%2C%20%5B30.8928854%2C%20-97.9156471%5D%2C%20%5B32.3629639%2C%20-95.3981116%5D%2C%20%5B30.2057626%2C%20-97.77278539999999%5D%2C%20%5B30.2239111%2C%20-97.703847%5D%2C%20%5B29.8454682%2C%20-95.3923896%5D%2C%20%5B30.6019306%2C%20-98.3525063%5D%2C%20%5B27.6416861%2C%20-97.2988665%5D%2C%20%5B26.0649818%2C%20-97.4768462%5D%2C%20%5B32.539867%2C%20-94.72131399999999%5D%2C%20%5B32.67298%2C%20-96.884349%5D%2C%20%5B32.8939397%2C%20-97.2708072%5D%2C%20%5B30.2266987%2C%20-97.6831557%5D%2C%20%5B32.7945511%2C%20-97.34802669999999%5D%2C%20%5B29.7380711%2C%20-95.3596372%5D%2C%20%5B33.1970243%2C%20-96.61396649999999%5D%2C%20%5B32.672695%2C%20-97.255124%5D%2C%20%5B26.282985%2C%20-98.2804914%5D%2C%20%5B29.5488288%2C%20-98.2938325%5D%2C%20%5B30.735518%2C%20-95.52642499999999%5D%2C%20%5B29.7067696%2C%20-96.5423764%5D%2C%20%5B32.942159%2C%20-96.8898517%5D%2C%20%5B30.1554596%2C%20-95.2138337%5D%2C%20%5B33.5843479%2C%20-101.8469646%5D%2C%20%5B32.9094395%2C%20-96.735029%5D%2C%20%5B30.0122181%2C%20-95.59777419999999%5D%2C%20%5B39.9554443%2C%20-86.0011978%5D%2C%20%5B26.1785867%2C%20-97.71625449999999%5D%2C%20%5B30.7034587%2C%20-94.84991649999999%5D%2C%20%5B29.5355359%2C%20-95.0161535%5D%2C%20%5B31.430778%2C%20-100.4554182%5D%2C%20%5B31.88664009999999%2C%20-106.4174912%5D%2C%20%5B29.5948051%2C%20-95.6520803%5D%2C%20%5B32.7461756%2C%20-96.58309349999999%5D%2C%20%5B30.0350707%2C%20-95.49963749999999%5D%2C%20%5B32.655682%2C%20-96.8861074%5D%2C%20%5B32.4072403%2C%20-100.8610234%5D%2C%20%5B29.7840294%2C%20-95.1090683%5D%2C%20%5B32.9677654%2C%20-96.60715040000001%5D%2C%20%5B29.5432459%2C%20-98.4921974%5D%2C%20%5B30.0068954%2C%20-95.2730557%5D%2C%20%5B29.8658456%2C%20-95.5806818%5D%2C%20%5B32.3539045%2C%20-95.3727415%5D%2C%20%5B33.7103309%2C%20-96.7009875%5D%2C%20%5B29.80645%2C%20-95.3437019%5D%2C%20%5B29.2346564%2C%20-99.7519466%5D%2C%20%5B26.2405525%2C%20-98.4721869%5D%2C%20%5B29.4753872%2C%20-95.0963548%5D%2C%20%5B32.9339181%2C%20-97.20213849999999%5D%2C%20%5B30.275913%2C%20-97.74415289999999%5D%2C%20%5B33.5179226%2C%20-101.8710584%5D%2C%20%5B32.67419200000001%2C%20-97.25439%5D%2C%20%5B33.5848395%2C%20-101.8469862%5D%2C%20%5B31.9107776%2C%20-106.4004584%5D%2C%20%5B29.5876661%2C%20-95.6426732%5D%2C%20%5B31.3122116%2C%20-94.7198714%5D%2C%20%5B29.50025759999999%2C%20-94.94503379999999%5D%2C%20%5B26.1966751%2C%20-98.2783704%5D%2C%20%5B31.7567024%2C%20-106.4856133%5D%2C%20%5B33.3722832%2C%20-95.7051%5D%2C%20%5B30.798303%2C%20-95.2074839%5D%2C%20%5B32.8150204%2C%20-96.86948629999999%5D%2C%20%5B30.4311682%2C%20-97.63508329999999%5D%2C%20%5B29.4974358%2C%20-98.7152093%5D%2C%20%5B30.316653%2C%20-95.181247%5D%2C%20%5B33.594108%2C%20-101.853525%5D%2C%20%5B29.9023088%2C%20-95.63334979999999%5D%2C%20%5B30.8807673%2C%20-95.7749702%5D%2C%20%5B29.8986368%2C%20-95.0604216%5D%2C%20%5B32.7899227%2C%20-97.2557697%5D%2C%20%5B29.8070262%2C%20-94.61682549999999%5D%2C%20%5B30.3189405%2C%20-95.47766299999999%5D%2C%20%5B32.5689575%2C%20-97.3539644%5D%2C%20%5B27.7403398%2C%20-97.3877541%5D%2C%20%5B30.2226678%2C%20-95.61347579999999%5D%2C%20%5B33.0850498%2C%20-96.73597699999999%5D%2C%20%5B29.5603549%2C%20-95.02241649999999%5D%2C%20%5B29.6579307%2C%20-95.3560931%5D%2C%20%5B30.28431699999999%2C%20-95.1442249%5D%2C%20%5B30.366315%2C%20-95.178856%5D%2C%20%5B30.5739096%2C%20-98.27285979999999%5D%2C%20%5B26.2340175%2C%20-98.3110162%5D%2C%20%5B33.1997175%2C%20-97.08497460000001%5D%2C%20%5B30.1491583%2C%20-96.4145753%5D%2C%20%5B26.2929763%2C%20-97.99153539999999%5D%2C%20%5B29.6806189%2C%20-95.4253925%5D%2C%20%5B31.7647989%2C%20-106.4037983%5D%2C%20%5B31.6546938%2C%20-106.2415844%5D%2C%20%5B32.905315%2C%20-97.1946019%5D%2C%20%5B30.110344%2C%20-95.507494%5D%2C%20%5B33.4631916%2C%20-94.0667507%5D%2C%20%5B32.0441981%2C%20-102.0797058%5D%2C%20%5B31.5521946%2C%20-97.13076079999999%5D%2C%20%5B30.2572987%2C%20-96.1273315%5D%2C%20%5B32.5904521%2C%20-96.826014%5D%2C%20%5B32.3154586%2C%20-95.2756679%5D%2C%20%5B29.6980937%2C%20-97.0234692%5D%2C%20%5B31.7506096%2C%20-106.3240294%5D%2C%20%5B26.0976588%2C%20-97.28752879999999%5D%2C%20%5B29.9874302%2C%20-95.1915141%5D%2C%20%5B32.9061699%2C%20-96.5784638%5D%2C%20%5B31.92082509999999%2C%20-102.2110333%5D%2C%20%5B28.6680543%2C%20-99.1819451%5D%2C%20%5B33.1370234%2C%20-96.64902579999999%5D%2C%20%5B30.0350707%2C%20-95.49963749999999%5D%2C%20%5B30.1288828%2C%20-95.282842%5D%2C%20%5B32.9255132%2C%20-97.60816009999999%5D%2C%20%5B32.733611%2C%20-96.7120035%5D%2C%20%5B26.322508%2C%20-98.36021459999999%5D%2C%20%5B31.1175088%2C%20-97.4179837%5D%2C%20%5B30.4351745%2C%20-97.76909049999999%5D%2C%20%5B30.7267493%2C%20-86.1317456%5D%2C%20%5B28.7046608%2C%20-96.4950788%5D%2C%20%5B32.7059834%2C%20-97.15535109999999%5D%2C%20%5B29.4297219%2C%20-98.40912759999999%5D%2C%20%5B25.9369042%2C%20-97.4990191%5D%2C%20%5B29.5596335%2C%20-95.3289284%5D%2C%20%5B32.8087139%2C%20-96.7738467%5D%2C%20%5B32.1996036%2C%20-98.6541882%5D%2C%20%5B29.8641712%2C%20-95.6085493%5D%2C%20%5B32.5560045%2C%20-93.61384269999999%5D%2C%20%5B29.4182338%2C%20-98.6290817%5D%2C%20%5B26.1967404%2C%20-98.2778735%5D%2C%20%5B29.5483433%2C%20-95.24305799999999%5D%2C%20%5B33.11566500000001%2C%20-95.60401329999999%5D%2C%20%5B30.1982479%2C%20-98.17179999999999%5D%2C%20%5B29.4614348%2C%20-95.05311929999999%5D%2C%20%5B26.2765028%2C%20-98.2004836%5D%2C%20%5B32.6756966%2C%20-97.253728%5D%2C%20%5B26.1947981%2C%20-98.18360249999999%5D%2C%20%5B29.369216%2C%20-98.6010425%5D%2C%20%5B32.6334596%2C%20-96.9008214%5D%2C%20%5B29.6855016%2C%20-98.5218663%5D%2C%20%5B33.0100686%2C%20-96.6222714%5D%2C%20%5B32.9234061%2C%20-96.83882679999999%5D%2C%20%5B30.2738687%2C%20-97.80265879999999%5D%2C%20%5B32.4340774%2C%20-99.7388577%5D%2C%20%5B32.8714156%2C%20-97.3745553%5D%2C%20%5B32.4952348%2C%20-96.6594162%5D%2C%20%5B32.5612388%2C%20-97.3602628%5D%2C%20%5B29.884525%2C%20-95.066536%5D%2C%20%5B35.229388%2C%20-101.835685%5D%2C%20%5B29.3887992%2C%20-94.90229900000001%5D%2C%20%5B26.1898209%2C%20-97.7137092%5D%2C%20%5B30.1904021%2C%20-97.8460174%5D%2C%20%5B31.7061913%2C%20-98.12348759999999%5D%2C%20%5B33.0835752%2C%20-96.8010237%5D%2C%20%5B30.2918296%2C%20-95.2125727%5D%2C%20%5B32.4311413%2C%20-99.72927659999999%5D%2C%20%5B30.142224%2C%20-95.59795299999999%5D%2C%20%5B26.1565589%2C%20-97.976957%5D%2C%20%5B30.2903944%2C%20-95.3792789%5D%2C%20%5B30.74695689999999%2C%20-94.4640658%5D%2C%20%5B30.0681551%2C%20-95.94215109999999%5D%2C%20%5B30.1412921%2C%20-95.597528%5D%2C%20%5B33.1810182%2C%20-97.0954624%5D%2C%20%5B32.6937038%2C%20-97.0893249%5D%2C%20%5B29.6974815%2C%20-96.53076779999999%5D%2C%20%5B32.3264384%2C%20-96.74893929999999%5D%2C%20%5B32.187201%2C%20-95.9461618%5D%2C%20%5B30.0915524%2C%20-95.53101269999999%5D%2C%20%5B29.4897415%2C%20-98.5263167%5D%2C%20%5B26.418878%2C%20-98.137855%5D%2C%20%5B26.3056032%2C%20-98.1919193%5D%2C%20%5B30.0700645%2C%20-95.4702859%5D%2C%20%5B26.1987283%2C%20-98.2227077%5D%2C%20%5B32.5916588%2C%20-96.9359391%5D%2C%20%5B30.20736%2C%20-95.74765269999999%5D%2C%20%5B33.6578249%2C%20-101.815069%5D%2C%20%5B29.7354486%2C%20-95.408395%5D%2C%20%5B26.2246531%2C%20-98.2907757%5D%2C%20%5B32.3829914%2C%20-98.8096096%5D%2C%20%5B29.677313%2C%20-95.144137%5D%2C%20%5B31.4798306%2C%20-97.1191834%5D%2C%20%5B29.83056149999999%2C%20-95.5096978%5D%2C%20%5B30.194065%2C%20-95.6607068%5D%2C%20%5B32.2486723%2C%20-97.7369598%5D%2C%20%5B33.1024171%2C%20-96.67663449999999%5D%2C%20%5B32.3364959%2C%20-97.4116524%5D%2C%20%5B29.9092082%2C%20-96.86797899999999%5D%2C%20%5B30.4325043%2C%20-97.76379449999999%5D%2C%20%5B30.2336571%2C%20-95.5664453%5D%2C%20%5B40.7055111%2C%20-73.89622779999999%5D%2C%20%5B29.175984%2C%20-98.5966293%5D%2C%20%5B29.5349857%2C%20-98.37706969999999%5D%2C%20%5B31.9925413%2C%20-102.1164267%5D%2C%20%5B29.7527195%2C%20-95.5016658%5D%2C%20%5B26.2603569%2C%20-98.1554718%5D%2C%20%5B25.930283%2C%20-97.432294%5D%2C%20%5B32.0170301%2C%20-97.0891652%5D%2C%20%5B32.8616229%2C%20-96.6414728%5D%2C%20%5B30.4955904%2C%20-97.6572831%5D%2C%20%5B31.0597495%2C%20-97.4622662%5D%2C%20%5B29.5549418%2C%20-95.4097042%5D%2C%20%5B30.7477925%2C%20-95.218959%5D%2C%20%5B26.2228863%2C%20-98.2091355%5D%2C%20%5B32.2952961%2C%20-96.564358%5D%2C%20%5B32.3310324%2C%20-96.6121721%5D%2C%20%5B32.8381919%2C%20-97.2810623%5D%2C%20%5B32.4538767%2C%20-99.7681301%5D%2C%20%5B33.6498415%2C%20-97.0683274%5D%2C%20%5B29.6522111%2C%20-95.05852700000001%5D%2C%20%5B30.202967%2C%20-95.7694447%5D%2C%20%5B29.7225641%2C%20-95.8457332%5D%2C%20%5B29.7904063%2C%20-95.3972069%5D%2C%20%5B32.7388014%2C%20-97.4608025%5D%2C%20%5B32.8534853%2C%20-96.9939746%5D%2C%20%5B32.4055492%2C%20-99.49535949999999%5D%2C%20%5B32.2763085%2C%20-95.306146%5D%2C%20%5B31.6705756%2C%20-106.2441892%5D%2C%20%5B29.9898653%2C%20-95.2236171%5D%2C%20%5B29.7113092%2C%20-95.499617%5D%2C%20%5B33.046327%2C%20-97.47068920000001%5D%2C%20%5B26.3081651%2C%20-98.26942989999999%5D%2C%20%5B33.4796007%2C%20-101.9197159%5D%2C%20%5B30.0109303%2C%20-95.4539472%5D%2C%20%5B29.347999%2C%20-95.04624550000001%5D%2C%20%5B32.6643388%2C%20-97.41899749999999%5D%2C%20%5B30.654574%2C%20-98.4425526%5D%2C%20%5B33.0708337%2C%20-97.0243935%5D%2C%20%5B33.0981282%2C%20-96.79512249999999%5D%2C%20%5B29.790194%2C%20-95.814551%5D%2C%20%5B33.0005662%2C%20-96.9650372%5D%2C%20%5B33.0616653%2C%20-96.90039%5D%2C%20%5B28.2431954%2C%20-97.9232784%5D%2C%20%5B30.051376%2C%20-95.4884932%5D%2C%20%5B29.93668359999999%2C%20-98.2862057%5D%2C%20%5B32.1303653%2C%20-101.7872856%5D%2C%20%5B29.8312409%2C%20-95.66165219999999%5D%2C%20%5B32.7328046%2C%20-97.3431531%5D%2C%20%5B32.5340816%2C%20-100.4208021%5D%2C%20%5B33.216209%2C%20-96.9760517%5D%2C%20%5B31.681314%2C%20-106.1949461%5D%2C%20%5B32.9398009%2C%20-97.1805835%5D%2C%20%5B29.5761986%2C%20-98.564848%5D%2C%20%5B26.2600662%2C%20-98.31763439999999%5D%2C%20%5B32.6868803%2C%20-96.6227514%5D%2C%20%5B31.8666144%2C%20-106.4327425%5D%2C%20%5B33.0285296%2C%20-96.82814929999999%5D%2C%20%5B29.7718542%2C%20-95.2088485%5D%2C%20%5B26.210004%2C%20-98.2976599%5D%2C%20%5B33.6739546%2C%20-101.9798982%5D%2C%20%5B31.4996028%2C%20-97.1736595%5D%2C%20%5B29.4725232%2C%20-98.5757502%5D%2C%20%5B29.9027234%2C%20-95.40111329999999%5D%2C%20%5B29.875035%2C%20-95.968779%5D%2C%20%5B30.208773%2C%20-95.4376886%5D%2C%20%5B33.6744467%2C%20-97.15381769999999%5D%2C%20%5B29.8817606%2C%20-95.0630932%5D%2C%20%5B35.933733%2C%20-84.0193517%5D%2C%20%5B32.1310188%2C%20-94.80834890000001%5D%2C%20%5B29.8839398%2C%20-95.47473459999999%5D%2C%20%5B29.0934318%2C%20-97.29561389999999%5D%2C%20%5B29.7326884%2C%20-95.6243975%5D%2C%20%5B29.9223214%2C%20-98.21612549999999%5D%2C%20%5B32.6227633%2C%20-96.85981%5D%2C%20%5B29.8969206%2C%20-95.60487529999999%5D%2C%20%5B31.082147%2C%20-97.24371049999999%5D%2C%20%5B31.0963134%2C%20-97.7328861%5D%2C%20%5B29.7735714%2C%20-95.64433679999999%5D%2C%20%5B28.3342063%2C%20-98.119104%5D%2C%20%5B30.857054%2C%20-94.8534563%5D%2C%20%5B32.9121075%2C%20-96.7329249%5D%2C%20%5B32.628225%2C%20-97.12000499999999%5D%2C%20%5B31.0874937%2C%20-97.7152364%5D%2C%20%5B29.7812718%2C%20-95.1693363%5D%2C%20%5B26.3211433%2C%20-98.3503921%5D%2C%20%5B29.5491277%2C%20-98.5063294%5D%2C%20%5B26.3148113%2C%20-97.9290942%5D%2C%20%5B29.7837458%2C%20-95.1822119%5D%2C%20%5B32.3277853%2C%20-95.3410128%5D%2C%20%5B32.8612852%2C%20-96.64189600000002%5D%2C%20%5B30.7034022%2C%20-96.3803342%5D%2C%20%5B26.198486%2C%20-98.1663142%5D%2C%20%5B29.4907827%2C%20-98.4408279%5D%2C%20%5B32.5204422%2C%20-94.8644614%5D%2C%20%5B30.003356%2C%20-95.2824689%5D%2C%20%5B29.6661358%2C%20-95.1566876%5D%2C%20%5B33.2158301%2C%20-97.13265009999999%5D%2C%20%5B31.8788331%2C%20-102.3300576%5D%2C%20%5B32.3304346%2C%20-96.13615159999999%5D%2C%20%5B32.8040454%2C%20-96.7746258%5D%2C%20%5B30.1326113%2C%20-95.47311099999999%5D%2C%20%5B36.1904129%2C%20-101.2028867%5D%2C%20%5B32.8889039%2C%20-96.295031%5D%2C%20%5B29.8520292%2C%20-95.34003179999999%5D%2C%20%5B30.372802%2C%20-95.63393029999999%5D%2C%20%5B32.742306%2C%20-97.3085006%5D%2C%20%5B26.245685%2C%20-98.16373779999999%5D%2C%20%5B31.0843403%2C%20-97.7773455%5D%2C%20%5B32.7525442%2C%20-97.3609749%5D%2C%20%5B26.1979796%2C%20-98.1663569%5D%2C%20%5B27.7077736%2C%20-97.3632044%5D%2C%20%5B30.2140164%2C%20-97.8317386%5D%2C%20%5B29.78344289999999%2C%20-95.17669049999999%5D%2C%20%5B29.6010677%2C%20-95.5525178%5D%2C%20%5B33.163173%2C%20-96.93957429999999%5D%2C%20%5B31.4997019%2C%20-97.1627805%5D%2C%20%5B29.27795679999999%2C%20-98.6677725%5D%2C%20%5B29.9608374%2C%20-95.4769005%5D%2C%20%5B30.852672%2C%20-95.0104901%5D%2C%20%5B29.6644404%2C%20-95.2603839%5D%2C%20%5B29.5198425%2C%20-98.5345105%5D%2C%20%5B30.815306%2C%20-95.09358089999999%5D%2C%20%5B31.8659718%2C%20-106.4326965%5D%2C%20%5B29.5155798%2C%20-96.0150953%5D%2C%20%5B30.1167898%2C%20-95.3822995%5D%2C%20%5B41.531599%2C%20-112.0133895%5D%2C%20%5B40.7812633%2C%20-111.9469065%5D%2C%20%5B40.0671955%2C%20-111.6651872%5D%2C%20%5B39.9518861%2C%20-111.8073814%5D%2C%20%5B40.5803892%2C%20-111.664336%5D%2C%20%5B37.1036857%2C%20-113.4994892%5D%2C%20%5B40.72736829999999%2C%20-111.9946338%5D%2C%20%5B40.6930096%2C%20-111.4662439%5D%2C%20%5B40.1892127%2C%20-111.6400967%5D%2C%20%5B40.5867671%2C%20-111.9405117%5D%2C%20%5B38.2770372%2C%20-112.625149%5D%2C%20%5B40.6213658%2C%20-111.8854107%5D%2C%20%5B41.1305653%2C%20-112.0271438%5D%2C%20%5B40.3441039%2C%20-111.7236552%5D%2C%20%5B40.3736649%2C%20-111.9139606%5D%2C%20%5B40.7223143%2C%20-111.4862644%5D%2C%20%5B40.1749943%2C%20-111.612999%5D%2C%20%5B37.6975531%2C%20-112.1845259%5D%2C%20%5B40.3562961%2C%20-111.7738094%5D%2C%20%5B40.2095451%2C%20-111.6492043%5D%2C%20%5B37.6927551%2C%20-112.8507766%5D%2C%20%5B37.695109%2C%20-113.169345%5D%2C%20%5B40.13719%2C%20-111.5970656%5D%2C%20%5B40.0450294%2C%20-111.7317488%5D%2C%20%5B40.585936%2C%20-111.969762%5D%2C%20%5B40.3344518%2C%20-111.7491375%5D%2C%20%5B41.0742461%2C%20-111.9900693%5D%2C%20%5B37.6895551%2C%20-113.1682984%5D%2C%20%5B40.680936%2C%20-111.893018%5D%2C%20%5B40.734391%2C%20-111.496588%5D%2C%20%5B40.9097728%2C%20-111.9004623%5D%2C%20%5B40.2306202%2C%20-111.6379262%5D%2C%20%5B37.4783782%2C%20-113.3050965%5D%2C%20%5B37.1497415%2C%20-113.6609973%5D%2C%20%5B40.0358244%2C%20-111.7588253%5D%2C%20%5B37.0892037%2C%20-113.574948%5D%2C%20%5B40.3544185%2C%20-111.7638103%5D%2C%20%5B39.9529104%2C%20-111.82204%5D%2C%20%5B37.60235309999999%2C%20-113.1801618%5D%2C%20%5B40.303006%2C%20-111.663392%5D%2C%20%5B40.3656752%2C%20-111.7755553%5D%2C%20%5B40.2972353%2C%20-111.723264%5D%2C%20%5B37.6773526%2C%20-113.0796593%5D%2C%20%5B37.6618385%2C%20-113.1014832%5D%2C%20%5B40.4782672%2C%20-111.3762503%5D%2C%20%5B40.83714490000001%2C%20-111.9112457%5D%2C%20%5B40.23962119999999%2C%20-111.640631%5D%2C%20%5B41.305898%2C%20-112.028684%5D%2C%20%5B37.0999903%2C%20-113.5389504%5D%2C%20%5B40.6543212%2C%20-111.5060736%5D%2C%20%5B41.2040347%2C%20-111.9838281%5D%2C%20%5B37.6974585%2C%20-112.1846819%5D%2C%20%5B40.6854856%2C%20-111.8850381%5D%2C%20%5B37.6625054%2C%20-113.0690038%5D%2C%20%5B40.3695801%2C%20-111.7650078%5D%2C%20%5B40.5354599%2C%20-111.8885591%5D%2C%20%5B40.6523384%2C%20-111.508143%5D%2C%20%5B40.683299%2C%20-112.079607%5D%2C%20%5B40.353856%2C%20-111.7721023%5D%2C%20%5B40.6828327%2C%20-111.8666064%5D%2C%20%5B40.722518%2C%20-111.4878712%5D%2C%20%5B37.168332%2C%20-113.4078593%5D%2C%20%5B37.7042928%2C%20-113.189883%5D%2C%20%5B40.494315%2C%20-111.448437%5D%2C%20%5B40.4288976%2C%20-111.8962633%5D%2C%20%5B40.43494159999999%2C%20-112.4678764%5D%2C%20%5B41.1267489%2C%20-112.0254595%5D%2C%20%5B40.5426023%2C%20-112.3145406%5D%2C%20%5B40.5970761%2C%20-111.9075578%5D%2C%20%5B40.2514139%2C%20-109.67424%5D%2C%20%5B41.0886923%2C%20-112.0569123%5D%2C%20%5B40.3656752%2C%20-111.7755553%5D%2C%20%5B40.5995654%2C%20-112.4259842%5D%2C%20%5B40.1175608%2C%20-111.6477539%5D%2C%20%5B40.3874496%2C%20-111.9122649%5D%2C%20%5B41.2446356%2C%20-111.9714853%5D%2C%20%5B40.6103016%2C%20-112.0053694%5D%2C%20%5B37.6104382%2C%20-109.2475901%5D%2C%20%5B40.7028525%2C%20-111.8877561%5D%2C%20%5B40.6816483%2C%20-111.8428571%5D%2C%20%5B40.3716353%2C%20-111.9154095%5D%2C%20%5B37.0851719%2C%20-113.5797172%5D%2C%20%5B41.1326635%2C%20-112.0641115%5D%2C%20%5B40.3641677%2C%20-111.8210279%5D%2C%20%5B40.70914399999999%2C%20-111.894446%5D%2C%20%5B41.24462940000001%2C%20-111.9885344%5D%2C%20%5B41.2461211%2C%20-111.9982667%5D%2C%20%5B40.176345%2C%20-111.650687%5D%2C%20%5B37.7312129%2C%20-113.0687296%5D%2C%20%5B41.0959866%2C%20-111.9927707%5D%2C%20%5B41.7268498%2C%20-111.8358306%5D%2C%20%5B40.7383215%2C%20-114.0338877%5D%2C%20%5B40.54392610000001%2C%20-111.9393873%5D%2C%20%5B41.8007638%2C%20-111.8307609%5D%2C%20%5B37.1730308%2C%20-113.3455013%5D%2C%20%5B37.095571%2C%20-113.5530158%5D%2C%20%5B40.5725971%2C%20-112.2931931%5D%2C%20%5B40.699921%2C%20-111.9237906%5D%2C%20%5B40.32568819999999%2C%20-112.0308373%5D%2C%20%5B41.0959866%2C%20-111.9927707%5D%2C%20%5B37.0051979%2C%20-113.5393029%5D%2C%20%5B40.3871379%2C%20-111.8293309%5D%2C%20%5B40.7605127%2C%20-111.8943484%5D%2C%20%5B40.782663%2C%20-112.034737%5D%2C%20%5B40.7477386%2C%20-111.9684844%5D%2C%20%5B41.22520979999999%2C%20-111.9737676%5D%2C%20%5B37.0925379%2C%20-113.6109536%5D%2C%20%5B40.1530524%2C%20-111.6555584%5D%2C%20%5B37.0918873%2C%20-113.6277638%5D%2C%20%5B40.3441039%2C%20-111.7236552%5D%2C%20%5B37.6574962%2C%20-113.0753125%5D%2C%20%5B37.2517668%2C%20-112.6599969%5D%2C%20%5B40.7269632%2C%20-111.9121928%5D%2C%20%5B41.306227%2C%20-112.0203937%5D%2C%20%5B40.704649%2C%20-111.947492%5D%2C%20%5B40.7332907%2C%20-111.9937022%5D%2C%20%5B40.4062711%2C%20-111.860422%5D%2C%20%5B40.24776689999999%2C%20-111.6645052%5D%2C%20%5B41.08212260000001%2C%20-111.9820116%5D%2C%20%5B40.6974841%2C%20-111.969203%5D%2C%20%5B40.5006776%2C%20-111.8928158%5D%2C%20%5B41.229577%2C%20-111.977337%5D%2C%20%5B41.089512%2C%20-111.996859%5D%2C%20%5B37.6773526%2C%20-113.0796593%5D%2C%20%5B37.103361%2C%20-113.5089422%5D%2C%20%5B40.7029122%2C%20-111.8566257%5D%2C%20%5B41.049512%2C%20-111.972071%5D%2C%20%5B40.7572584%2C%20-111.8955647%5D%2C%20%5B40.2509509%2C%20-112.0244487%5D%2C%20%5B40.763958%2C%20-112.009013%5D%2C%20%5B37.0918873%2C%20-113.6277638%5D%2C%20%5B37.1303597%2C%20-113.6040742%5D%2C%20%5B40.5131989%2C%20-112.0244716%5D%2C%20%5B40.7652953%2C%20-111.8830353%5D%2C%20%5B37.0870321%2C%20-113.5749336%5D%2C%20%5B41.1267489%2C%20-112.0254595%5D%2C%20%5B41.0001359%2C%20-111.9103373%5D%2C%20%5B40.6044467%2C%20-111.8335544%5D%2C%20%5B41.6755548%2C%20-111.8129125%5D%2C%20%5B40.5844138%2C%20-111.8521076%5D%2C%20%5B41.2328436%2C%20-112.0113711%5D%2C%20%5B41.7568844%2C%20-111.8577901%5D%2C%20%5B37.6786851%2C%20-113.1081367%5D%2C%20%5B40.4400029%2C%20-111.8938413%5D%2C%20%5B41.2420854%2C%20-111.7968887%5D%2C%20%5B41.1623335%2C%20-112.027046%5D%2C%20%5B40.7222038%2C%20-111.9416227%5D%2C%20%5B40.758692%2C%20-112.0449321%5D%2C%20%5B37.3021141%2C%20-113.7466161%5D%2C%20%5B40.7630543%2C%20-111.9047456%5D%2C%20%5B40.83302399999999%2C%20-111.949244%5D%2C%20%5B40.84648019999999%2C%20-111.9291702%5D%2C%20%5B41.088521%2C%20-112.0156396%5D%2C%20%5B40.167362%2C%20-111.6522618%5D%2C%20%5B40.0671955%2C%20-111.6651872%5D%2C%20%5B41.2458023%2C%20-112.0205766%5D%2C%20%5B40.380575%2C%20-111.8292843%5D%2C%20%5B40.3894444%2C%20-111.9161106%5D%2C%20%5B40.9194095%2C%20-111.8973346%5D%2C%20%5B41.5317953%2C%20-112.078167%5D%2C%20%5B39.9635689%2C%20-111.8234675%5D%2C%20%5B40.6094138%2C%20-112.0002504%5D%2C%20%5B40.60249839999999%2C%20-111.7920642%5D%2C%20%5B40.5070087%2C%20-111.4133234%5D%2C%20%5B40.6595456%2C%20-111.9020389%5D%2C%20%5B37.733891%2C%20-112.869222%5D%2C%20%5B40.6638228%2C%20-111.4946152%5D%2C%20%5B40.4544249%2C%20-111.9202913%5D%2C%20%5B40.81063229999999%2C%20-111.9527634%5D%2C%20%5B41.1020481%2C%20-111.9985634%5D%2C%20%5B40.3404469%2C%20-111.7577059%5D%2C%20%5B40.62671%2C%20-111.986894%5D%2C%20%5B40.3310453%2C%20-111.7322151%5D%2C%20%5B39.9671876%2C%20-111.8182111%5D%2C%20%5B29.0581808%2C%20-82.5312285%5D%2C%20%5B40.3109509%2C%20-111.7018476%5D%2C%20%5B40.1395112%2C%20-111.6026246%5D%2C%20%5B39.9518861%2C%20-111.8073814%5D%2C%20%5B40.6959317%2C%20-112.0020523%5D%2C%20%5B40.6780877%2C%20-111.8718566%5D%2C%20%5B41.0817661%2C%20-111.9819184%5D%2C%20%5B41.681075%2C%20-111.8774104%5D%2C%20%5B40.355628%2C%20-111.7741467%5D%2C%20%5B41.2441778%2C%20-112.0204577%5D%2C%20%5B41.7134654%2C%20-111.8386465%5D%2C%20%5B40.2672074%2C%20-111.68268%5D%2C%20%5B37.1547611%2C%20-113.6374818%5D%2C%20%5B41.7649701%2C%20-111.8342288%5D%2C%20%5B40.551617%2C%20-111.9343898%5D%2C%20%5B40.5877859%2C%20-111.9326879%5D%2C%20%5B40.4872299%2C%20-111.408979%5D%2C%20%5B40.2539545%2C%20-111.6977318%5D%2C%20%5B37.1987116%2C%20-113.2743147%5D%2C%20%5B40.1635498%2C%20-110.4014837%5D%2C%20%5B40.9177251%2C%20-111.3993634%5D%2C%20%5B38.573697%2C%20-110.707109%5D%2C%20%5B37.1753007%2C%20-113.2882324%5D%2C%20%5B40.5842249%2C%20-111.9070594%5D%2C%20%5B37.0879437%2C%20-113.5858933%5D%2C%20%5B37.7045334%2C%20-113.1110949%5D%2C%20%5B41.9654754%2C%20-112.7097012%5D%2C%20%5B40.3656297%2C%20-111.5556289%5D%2C%20%5B37.8958016%2C%20-113.6613561%5D%2C%20%5B41.899549%2C%20-87.624687%5D%2C%20%5B37.1155265%2C%20-113.5794531%5D%2C%20%5B37.7018844%2C%20-113.0651306%5D%2C%20%5B40.3915669%2C%20-111.8361313%5D%2C%20%5B40.6655442%2C%20-111.8883857%5D%2C%20%5B37.1749572%2C%20-113.3430305%5D%2C%20%5B37.1375093%2C%20-113.485304%5D%2C%20%5B37.417994%2C%20-77.415627%5D%2C%20%5B38.7566396%2C%20-77.4665895%5D%2C%20%5B39.033812%2C%20-94.493783%5D%2C%20%5B38.0763513%2C%20-79.00001619999999%5D%2C%20%5B37.3661908%2C%20-79.2490309%5D%2C%20%5B37.0452761%2C%20-76.3606186%5D%2C%20%5B38.872921%2C%20-77.1555435%5D%2C%20%5B36.8592949%2C%20-76.2325225%5D%2C%20%5B38.9085169%2C%20-77.4086494%5D%2C%20%5B38.8772458%2C%20-77.12330299999999%5D%2C%20%5B36.8231373%2C%20-76.424442%5D%2C%20%5B32.2251197%2C%20-81.165849%5D%2C%20%5B39.1622986%2C%20-78.18778259999999%5D%2C%20%5B38.589908%2C%20-77.31528899999999%5D%2C%20%5B38.0557368%2C%20-78.93695629999999%5D%2C%20%5B36.1362111%2C%20-115.2009845%5D%2C%20%5B37.3068992%2C%20-79.968167%5D%2C%20%5B38.7846258%2C%20-77.5718825%5D%2C%20%5B37.27897%2C%20-80.0523402%5D%2C%20%5B38.2874586%2C%20-77.46410639999999%5D%2C%20%5B38.9964564%2C%20-77.44025669999999%5D%2C%20%5B38.7555217%2C%20-77.4620405%5D%2C%20%5B36.7257951%2C%20-79.87205329999999%5D%2C%20%5B38.4129254%2C%20-77.4115207%5D%2C%20%5B38.3647788%2C%20-78.9175516%5D%2C%20%5B38.8306548%2C%20-77.4332141%5D%2C%20%5B36.5828253%2C%20-79.4290895%5D%2C%20%5B38.4759293%2C%20-77.4303047%5D%2C%20%5B36.819393%2C%20-76.0740017%5D%2C%20%5B37.3056282%2C%20-79.9691418%5D%2C%20%5B38.4702776%2C%20-77.9546117%5D%2C%20%5B36.8638265%2C%20-76.0336966%5D%2C%20%5B37.3454106%2C%20-79.1887556%5D%2C%20%5B38.802521%2C%20-77.506852%5D%2C%20%5B37.4878816%2C%20-76.307552%5D%2C%20%5B38.846703%2C%20-77.4877939%5D%2C%20%5B36.8607067%2C%20-76.3981494%5D%2C%20%5B38.869776%2C%20-77.376289%5D%2C%20%5B37.0172553%2C%20-76.44392619999999%5D%2C%20%5B38.6785842%2C%20-77.322728%5D%2C%20%5B37.295905%2C%20-80.04346799999999%5D%2C%20%5B37.312505%2C%20-79.980893%5D%2C%20%5B39.0807005%2C%20-78.1914431%5D%2C%20%5B37.3095647%2C%20-79.899542%5D%2C%20%5B38.890816%2C%20-77.42921%5D%2C%20%5B38.5596432%2C%20-77.7999401%5D%2C%20%5B38.7815115%2C%20-77.2331957%5D%2C%20%5B38.756327%2C%20-77.4952727%5D%2C%20%5B37.287888%2C%20-80.04419399999999%5D%2C%20%5B37.0073244%2C%20-76.41228699999999%5D%2C%20%5B38.0685217%2C%20-78.8883149%5D%2C%20%5B38.90492870000001%2C%20-77.4704804%5D%2C%20%5B38.2435014%2C%20-77.50014929999999%5D%2C%20%5B38.8055071%2C%20-77.05183650000001%5D%2C%20%5B38.7889257%2C%20-77.56227779999999%5D%2C%20%5B38.776535%2C%20-77.5553869%5D%2C%20%5B38.7624844%2C%20-77.50734299999999%5D%2C%20%5B38.2540369%2C%20-77.396761%5D%2C%20%5B36.8719034%2C%20-76.4349324%5D%2C%20%5B37.6634151%2C%20-77.6295308%5D%2C%20%5B38.8620597%2C%20-77.8479842%5D%2C%20%5B36.7178036%2C%20-82.0098452%5D%2C%20%5B37.359636%2C%20-79.1802%5D%2C%20%5B38.860154%2C%20-77.84495799999999%5D%2C%20%5B38.804068%2C%20-77.5085579%5D%2C%20%5B38.2391599%2C%20-77.15029659999999%5D%2C%20%5B38.4656181%2C%20-78.8504294%5D%2C%20%5B37.067961%2C%20-79.89066559999999%5D%2C%20%5B38.7420884%2C%20-77.4986065%5D%2C%20%5B38.7473665%2C%20-77.6812601%5D%2C%20%5B38.21796%2C%20-77.483238%5D%2C%20%5B36.6586642%2C%20-76.2243082%5D%2C%20%5B38.81537710000001%2C%20-77.64563919999999%5D%2C%20%5B38.2015376%2C%20-78.3901352%5D%2C%20%5B36.5637024%2C%20-76.1991184%5D%2C%20%5B38.5792913%2C%20-77.7653687%5D%2C%20%5B36.7972613%2C%20-76.28868539999999%5D%2C%20%5B38.057165%2C%20-78.948347%5D%2C%20%5B37.0948724%2C%20-80.57354409999999%5D%2C%20%5B39.02937660000001%2C%20-78.2716481%5D%2C%20%5B36.7391054%2C%20-76.5520413%5D%2C%20%5B38.2496203%2C%20-77.49878389999999%5D%2C%20%5B39.150435%2C%20-78.143092%5D%2C%20%5B38.9082519%2C%20-77.4704397%5D%2C%20%5B38.776535%2C%20-77.5553869%5D%2C%20%5B38.3056697%2C%20-77.5058197%5D%2C%20%5B38.4748059%2C%20-78.8683866%5D%2C%20%5B38.8845244%2C%20-77.406143%5D%2C%20%5B38.5113053%2C%20-77.3702606%5D%2C%20%5B38.6404642%2C%20-77.2896299%5D%2C%20%5B38.7603082%2C%20-77.70017659999999%5D%2C%20%5B38.0177731%2C%20-77.49950430000001%5D%2C%20%5B37.2300796%2C%20-80.0073994%5D%2C%20%5B38.9372955%2C%20-77.5466931%5D%2C%20%5B37.7788531%2C%20-79.4383029%5D%2C%20%5B36.7148311%2C%20-76.3169733%5D%2C%20%5B38.1431611%2C%20-77.5161652%5D%2C%20%5B38.6975933%2C%20-77.5863439%5D%2C%20%5B38.1327327%2C%20-77.51406759999999%5D%2C%20%5B37.1443663%2C%20-79.66785449999999%5D%2C%20%5B38.6615858%2C%20-77.3264975%5D%2C%20%5B37.3286706%2C%20-79.86800869999999%5D%2C%20%5B38.8890863%2C%20-77.0762779%5D%2C%20%5B39.19580730000001%2C%20-78.1573339%5D%2C%20%5B39.0200698%2C%20-77.4177514%5D%2C%20%5B37.1069441%2C%20-76.4944879%5D%2C%20%5B38.9847211%2C%20-77.48211739999999%5D%2C%20%5B37.3129579%2C%20-79.88334979999999%5D%2C%20%5B38.8228642%2C%20-78.1086447%5D%2C%20%5B37.3824426%2C%20-79.21859189999999%5D%2C%20%5B37.2795376%2C%20-76.7428874%5D%2C%20%5B38.4600227%2C%20-78.8750202%5D%2C%20%5B38.12446260000001%2C%20-77.5144751%5D%2C%20%5B36.4277137%2C%20-77.630556%5D%2C%20%5B38.589908%2C%20-77.31528899999999%5D%2C%20%5B37.3056615%2C%20-76.54214499999999%5D%2C%20%5B38.6588043%2C%20-78.50758809999999%5D%2C%20%5B37.2099507%2C%20-77.29501599999999%5D%2C%20%5B37.52654800000001%2C%20-77.334441%5D%2C%20%5B38.7989832%2C%20-77.6062199%5D%2C%20%5B39.156481%2C%20-78.16589100000002%5D%2C%20%5B38.38015%2C%20-77.489564%5D%2C%20%5B37.343642%2C%20-79.1901661%5D%2C%20%5B38.400008%2C%20-77.44172189999999%5D%2C%20%5B38.8169043%2C%20-77.64801949999999%5D%2C%20%5B37.2697922%2C%20-76.678915%5D%2C%20%5B38.9835791%2C%20-77.4435738%5D%2C%20%5B36.7075897%2C%20-81.9992405%5D%2C%20%5B36.7515377%2C%20-76.246122%5D%2C%20%5B38.4712668%2C%20-77.399883%5D%2C%20%5B38.744836%2C%20-77.5061334%5D%2C%20%5B38.9569778%2C%20-78.196692%5D%2C%20%5B38.7126064%2C%20-77.79397159999999%5D%2C%20%5B38.3455345%2C%20-77.457088%5D%2C%20%5B37.2669046%2C%20-76.0188419%5D%2C%20%5B38.1327327%2C%20-77.51406759999999%5D%2C%20%5B36.9644082%2C%20-81.0701618%5D%2C%20%5B37.2701204%2C%20-77.3205406%5D%2C%20%5B38.467301%2C%20-77.411861%5D%2C%20%5B38.2992321%2C%20-77.4824735%5D%2C%20%5B37.3523226%2C%20-79.188976%5D%2C%20%5B37.3607045%2C%20-79.17963089999999%5D%2C%20%5B38.2214087%2C%20-77.5218723%5D%2C%20%5B37.1465146%2C%20-80.4149796%5D%2C%20%5B36.733847%2C%20-76.2166786%5D%2C%20%5B39.0322179%2C%20-77.3971783%5D%2C%20%5B39.1392985%2C%20-77.7179788%5D%2C%20%5B38.4854059%2C%20-77.9662823%5D%2C%20%5B36.7048313%2C%20-79.93592749999999%5D%2C%20%5B37.742589%2C%20-78.648971%5D%2C%20%5B38.7322731%2C%20-77.1028274%5D%2C%20%5B36.7038057%2C%20-77.5554487%5D%2C%20%5B38.9627188%2C%20-77.3638996%5D%2C%20%5B38.7431843%2C%20-77.17745339999999%5D%2C%20%5B38.677422%2C%20-77.34612659999999%5D%2C%20%5B38.9847211%2C%20-77.48211739999999%5D%2C%20%5B38.3077452%2C%20-77.1069552%5D%2C%20%5B37.2436274%2C%20-81.26205759999999%5D%2C%20%5B38.306747%2C%20-77.4818382%5D%2C%20%5B37.3546557%2C%20-77.4142093%5D%2C%20%5B39.0214633%2C%20-77.4570207%5D%2C%20%5B38.68809%2C%20-77.22161539999999%5D%2C%20%5B37.2654565%2C%20-80.00567319999999%5D%2C%20%5B37.3256868%2C%20-76.7395364%5D%2C%20%5B38.8634542%2C%20-78.56846829999999%5D%2C%20%5B39.0129178%2C%20-77.39560039999999%5D%2C%20%5B36.95919%2C%20-76.25954899999999%5D%2C%20%5B38.8987416%2C%20-77.4302802%5D%2C%20%5B37.1905681%2C%20-76.8968439%5D%2C%20%5B36.792115%2C%20-76.065029%5D%2C%20%5B38.1335551%2C%20-77.5149588%5D%2C%20%5B37.6258236%2C%20-77.5299703%5D%2C%20%5B37.2056487%2C%20-77.2958895%5D%2C%20%5B39.1256288%2C%20-78.1890389%5D%2C%20%5B37.211575%2C%20-77.29396%5D%2C%20%5B36.6795321%2C%20-79.8490186%5D%2C%20%5B38.7464691%2C%20-77.5044757%5D%2C%20%5B38.030946%2C%20-78.48309739999999%5D%2C%20%5B38.8617373%2C%20-77.8483514%5D%2C%20%5B38.2896368%2C%20-77.5491053%5D%2C%20%5B37.2516224%2C%20-80.436707%5D%2C%20%5B36.9143772%2C%20-76.21713129999999%5D%2C%20%5B39.1847091%2C%20-78.1651274%5D%2C%20%5B38.292752%2C%20-77.5176467%5D%2C%20%5B39.022938%2C%20-77.398904%5D%2C%20%5B38.469715%2C%20-77.41714999999999%5D%2C%20%5B37.0120743%2C%20-79.8680962%5D%2C%20%5B38.94943%2C%20-77.539304%5D%2C%20%5B38.8630757%2C%20-77.2851862%5D%2C%20%5B39.2544011%2C%20-78.0662552%5D%2C%20%5B36.7819884%2C%20-76.24257109999999%5D%2C%20%5B38.863339%2C%20-77.389978%5D%2C%20%5B37.5236189%2C%20-75.8343302%5D%2C%20%5B38.4144085%2C%20-77.4214375%5D%2C%20%5B38.8277352%2C%20-77.08664209999999%5D%2C%20%5B36.8616256%2C%20-76.46541409999999%5D%2C%20%5B36.9785132%2C%20-76.4337832%5D%2C%20%5B39.0611012%2C%20-77.55175419999999%5D%2C%20%5B36.6532507%2C%20-79.8733462%5D%2C%20%5B38.7366961%2C%20-77.7508258%5D%2C%20%5B37.1683733%2C%20-80.4200366%5D%2C%20%5B38.7673653%2C%20-77.709035%5D%2C%20%5B38.729357%2C%20-77.5134805%5D%2C%20%5B38.785818%2C%20-77.659679%5D%2C%20%5B37.625119%2C%20-77.53090569999999%5D%2C%20%5B37.0320459%2C%20-76.3247505%5D%2C%20%5B39.27467680000001%2C%20-77.6375022%5D%2C%20%5B36.8627277%2C%20-82.3296476%5D%2C%20%5B38.6578521%2C%20-77.2904827%5D%2C%20%5B37.420108%2C%20-79.235325%5D%2C%20%5B37.4047247%2C%20-77.6602789%5D%2C%20%5B37.3936251%2C%20-77.4065592%5D%2C%20%5B38.988673%2C%20-77.4394823%5D%2C%20%5B38.2379075%2C%20-78.9773637%5D%2C%20%5B37.6125927%2C%20-77.33001949999999%5D%2C%20%5B37.2272338%2C%20-77.4187826%5D%2C%20%5B39.158116%2C%20-78.182768%5D%2C%20%5B38.716354%2C%20-77.1903021%5D%2C%20%5B37.2949171%2C%20-80.0056158%5D%2C%20%5B36.9453287%2C%20-81.06534189999999%5D%2C%20%5B39.1557454%2C%20-78.1499058%5D%2C%20%5B37.1848486%2C%20-80.40967510000002%5D%2C%20%5B38.3866606%2C%20-77.4439773%5D%2C%20%5B38.8075675%2C%20-77.15997519999999%5D%2C%20%5B37.3577708%2C%20-77.4137585%5D%2C%20%5B37.4661578%2C%20-79.1198361%5D%2C%20%5B37.3348716%2C%20-76.7322417%5D%2C%20%5B38.7880905%2C%20-77.29865149999999%5D%2C%20%5B38.2441618%2C%20-77.49558100000002%5D%2C%20%5B39.0773076%2C%20-77.482698%5D%2C%20%5B37.2546652%2C%20-79.95087819999999%5D%2C%20%5B38.6606846%2C%20-78.4904894%5D%2C%20%5B36.7318349%2C%20-78.92051459999999%5D%2C%20%5B37.087483%2C%20-80.689683%5D%2C%20%5B36.6205125%2C%20-82.159465%5D%2C%20%5B37.2034604%2C%20-77.30244569999999%5D%2C%20%5B38.894148%2C%20-77.449493%5D%2C%20%5B36.7842435%2C%20-76.3979485%5D%2C%20%5B38.8617373%2C%20-77.8483514%5D%2C%20%5B39.06433699999999%2C%20-78.185425%5D%2C%20%5B39.102488%2C%20-78.21022599999999%5D%2C%20%5B38.7820822%2C%20-77.4498926%5D%2C%20%5B37.2018347%2C%20-77.29554259999999%5D%2C%20%5B38.15585859999999%2C%20-78.4187464%5D%2C%20%5B38.3860367%2C%20-77.4646379%5D%2C%20%5B37.3592307%2C%20-79.180204%5D%2C%20%5B37.7033666%2C%20-77.6627396%5D%2C%20%5B37.9821174%2C%20-77.9534223%5D%2C%20%5B38.9935282%2C%20-77.4299877%5D%2C%20%5B38.776535%2C%20-77.5553869%5D%2C%20%5B38.8693437%2C%20-77.8307264%5D%2C%20%5B37.8404448%2C%20-77.4549366%5D%2C%20%5B37.1656829%2C%20-76.973559%5D%2C%20%5B38.794382%2C%20-77.560649%5D%2C%20%5B39.1618087%2C%20-78.1842971%5D%2C%20%5B37.392417%2C%20-79.9077258%5D%2C%20%5B38.8089112%2C%20-77.6282404%5D%2C%20%5B44.5042306%2C%20-73.18231209999999%5D%2C%20%5B44.5042306%2C%20-73.18231209999999%5D%2C%20%5B44.4628345%2C%20-73.17999999999999%5D%2C%20%5B44.07268370000001%2C%20-87.7193865%5D%2C%20%5B44.222135%2C%20-88.344296%5D%2C%20%5B43.633821%2C%20-89.7915567%5D%2C%20%5B43.0579165%2C%20-89.2941468%5D%2C%20%5B43.0539097%2C%20-87.8928267%5D%2C%20%5B45.0501586%2C%20-92.5372896%5D%2C%20%5B44.918658%2C%20-89.649733%5D%2C%20%5B42.5798936%2C%20-88.41161029999999%5D%2C%20%5B44.2598295%2C%20-88.47058849999999%5D%2C%20%5B43.0877681%2C%20-89.5271405%5D%2C%20%5B44.5233162%2C%20-89.5805845%5D%2C%20%5B44.2630124%2C%20-88.4873824%5D%2C%20%5B43.5747284%2C%20-89.7750085%5D%2C%20%5B44.261539%2C%20-88.502462%5D%2C%20%5B42.9154398%2C%20-87.93191%5D%2C%20%5B43.0134385%2C%20-88.2347844%5D%2C%20%5B43.117819%2C%20-89.263962%5D%2C%20%5B43.06058710000001%2C%20-89.29674299999999%5D%2C%20%5B44.264104%2C%20-88.48424%5D%2C%20%5B44.1765148%2C%20-88.4938107%5D%2C%20%5B43.3844601%2C%20-87.922219%5D%2C%20%5B41.20339%2C%20-96.099378%5D%2C%20%5B44.4530722%2C%20-87.9984102%5D%2C%20%5B43.579226%2C%20-89.778702%5D%2C%20%5B43.1285045%2C%20-89.2976331%5D%2C%20%5B43.9688951%2C%20-91.2654652%5D%2C%20%5B42.6016842%2C%20-87.84497789999999%5D%2C%20%5B43.0602582%2C%20-87.9659878%5D%2C%20%5B42.5291602%2C%20-87.9518997%5D%2C%20%5B42.9144954%2C%20-87.8842392%5D%2C%20%5B43.041957%2C%20-89.5064889%5D%2C%20%5B44.8867811%2C%20-89.5799124%5D%2C%20%5B44.2938007%2C%20-88.3698387%5D%2C%20%5B46.0258291%2C%20-91.994697%5D%2C%20%5B45.13866609999999%2C%20-90.33344729999999%5D%2C%20%5B43.57581%2C%20-89.7786304%5D%2C%20%5B43.0341854%2C%20-89.38047430000002%5D%2C%20%5B45.66820509999999%2C%20-94.819713%5D%2C%20%5B42.598793%2C%20-87.958242%5D%2C%20%5B42.9800437%2C%20-87.9663109%5D%2C%20%5B44.47436%2C%20-88.00451199999999%5D%2C%20%5B43.203819%2C%20-89.3357406%5D%2C%20%5B44.9644739%2C%20-90.9375306%5D%2C%20%5B44.2640701%2C%20-88.4843732%5D%2C%20%5B44.8751587%2C%20-91.9209355%5D%2C%20%5B43.9514517%2C%20-88.582171%5D%2C%20%5B44.27819239999999%2C%20-88.45507479999999%5D%2C%20%5B43.0541383%2C%20-89.5112323%5D%2C%20%5B43.0158457%2C%20-88.046013%5D%2C%20%5B44.9587398%2C%20-89.6561227%5D%2C%20%5B44.843838%2C%20-89.629187%5D%2C%20%5B44.264104%2C%20-88.48424%5D%2C%20%5B43.471925%2C%20-89.770697%5D%2C%20%5B44.4818771%2C%20-87.9378897%5D%2C%20%5B43.8847903%2C%20-90.1437657%5D%2C%20%5B44.8545357%2C%20-92.63121699999999%5D%2C%20%5B44.06967400000001%2C%20-87.6846162%5D%2C%20%5B44.918466%2C%20-89.658964%5D%2C%20%5B43.124934%2C%20-89.29392299999999%5D%2C%20%5B43.0654875%2C%20-87.95021369999999%5D%2C%20%5B44.0681553%2C%20-88.5697845%5D%2C%20%5B44.3575823%2C%20-89.1187064%5D%2C%20%5B43.1131849%2C%20-89.3484444%5D%2C%20%5B43.0144898%2C%20-89.4274581%5D%2C%20%5B45.45788770000001%2C%20-91.1107857%5D%2C%20%5B42.6252731%2C%20-87.87704959999999%5D%2C%20%5B43.946893%2C%20-88.590931%5D%2C%20%5B43.9883361%2C%20-88.5846873%5D%2C%20%5B44.5875042%2C%20-88.06801190000002%5D%2C%20%5B43.0388698%2C%20-87.94247089999999%5D%2C%20%5B42.507509%2C%20-87.8336118%5D%2C%20%5B44.892247%2C%20-89.605514%5D%2C%20%5B42.621406%2C%20-87.88863099999999%5D%2C%20%5B44.26321069999999%2C%20-88.4038018%5D%2C%20%5B44.3387418%2C%20-89.8622233%5D%2C%20%5B46.68088770000001%2C%20-92.00706439999999%5D%2C%20%5B44.2691251%2C%20-88.4465209%5D%2C%20%5B44.87376769999999%2C%20-91.42331720000001%5D%2C%20%5B44.9172024%2C%20-91.3677108%5D%2C%20%5B42.9290416%2C%20-87.9106906%5D%2C%20%5B42.9303053%2C%20-87.9616374%5D%2C%20%5B44.0327244%2C%20-88.6054149%5D%2C%20%5B44.5532554%2C%20-88.0858779%5D%2C%20%5B43.97167100000001%2C%20-88.5823609%5D%2C%20%5B44.2400081%2C%20-88.3469511%5D%2C%20%5B43.0344817%2C%20-89.45479759999999%5D%2C%20%5B43.0403855%2C%20-89.3519254%5D%2C%20%5B48.3310166%2C%20-103.5661343%5D%2C%20%5B43.1279943%2C%20-89.307163%5D%2C%20%5B44.026658%2C%20-88.58487799999999%5D%2C%20%5B43.1235516%2C%20-89.3094488%5D%2C%20%5B43.4552838%2C%20-89.7753955%5D%2C%20%5B45.948934%2C%20-89.23260499999999%5D%2C%20%5B43.0077563%2C%20-89.48538740000001%5D%2C%20%5B43.5903864%2C%20-89.79297079999999%5D%2C%20%5B43.059758%2C%20-87.88339099999999%5D%2C%20%5B43.8352937%2C%20-88.8210041%5D%2C%20%5B43.0899936%2C%20-88.0498849%5D%2C%20%5B44.4559673%2C%20-89.5245355%5D%2C%20%5B45.4724869%2C%20-91.7539714%5D%2C%20%5B43.04953099999999%2C%20-87.898487%5D%2C%20%5B42.5588279%2C%20-87.8901298%5D%2C%20%5B43.0367437%2C%20-89.4173744%5D%2C%20%5B43.9394655%2C%20-90.3189625%5D%2C%20%5B43.0235481%2C%20-87.9354718%5D%2C%20%5B43.014024%2C%20-87.90867%5D%2C%20%5B43.0698301%2C%20-87.9135982%5D%2C%20%5B43.046814%2C%20-89.31281%5D%2C%20%5B42.7184139%2C%20-88.9905417%5D%2C%20%5B43.05009099999999%2C%20-87.904296%5D%2C%20%5B44.0563251%2C%20-88.5669006%5D%2C%20%5B42.9170563%2C%20-88.00837700000001%5D%2C%20%5B43.630117%2C%20-89.787593%5D%2C%20%5B42.9006616%2C%20-87.9157827%5D%2C%20%5B43.09056%2C%20-88.10745%5D%2C%20%5B42.5596041%2C%20-87.9525498%5D%2C%20%5B42.873543%2C%20-87.9795539%5D%2C%20%5B42.5667648%2C%20-87.91908640000001%5D%2C%20%5B43.0380164%2C%20-89.4573035%5D%2C%20%5B43.1790768%2C%20-87.9693901%5D%2C%20%5B43.05698659999999%2C%20-89.2868427%5D%2C%20%5B44.8472215%2C%20-92.6314495%5D%2C%20%5B42.524658%2C%20-87.85525%5D%2C%20%5B42.9914738%2C%20-88.8138098%5D%2C%20%5B43.1268042%2C%20-87.9409096%5D%2C%20%5B43.0287091%2C%20-88.1724905%5D%2C%20%5B44.2621517%2C%20-88.410129%5D%2C%20%5B44.883028%2C%20-89.581288%5D%2C%20%5B44.9579982%2C%20-89.6642442%5D%2C%20%5B43.4937084%2C%20-88.5466379%5D%2C%20%5B44.87376769999999%2C%20-91.42331720000001%5D%2C%20%5B44.2988114%2C%20-88.4380623%5D%2C%20%5B43.9772476%2C%20-88.5491303%5D%2C%20%5B43.0820648%2C%20-88.180431%5D%2C%20%5B44.2644161%2C%20-88.49282769999999%5D%2C%20%5B44.2635996%2C%20-88.4574105%5D%2C%20%5B42.6219878%2C%20-87.9523086%5D%2C%20%5B37.8154792%2C%20-81.18719449999999%5D%2C%20%5B39.6506043%2C%20-80.0020198%5D%2C%20%5B39.7929971%2C%20-80.8251451%5D%2C%20%5B37.7910364%2C%20-81.2111955%5D%2C%20%5B38.3473616%2C%20-81.6230289%5D%2C%20%5B37.2527486%2C%20-81.2042866%5D%2C%20%5B39.3492864%2C%20-80.30470530000001%5D%2C%20%5B37.9398037%2C%20-82.0130655%5D%2C%20%5B39.4300747%2C%20-80.1978804%5D%2C%20%5B39.431528%2C%20-80.19421919999999%5D%2C%20%5B39.427732%2C%20-80.209183%5D%2C%20%5B39.64153%2C%20-79.99514599999999%5D%2C%20%5B38.4476948%2C%20-81.95953329999999%5D%2C%20%5B39.1729711%2C%20-81.53551139999999%5D%2C%20%5B39.478041%2C%20-77.9602879%5D%2C%20%5B38.3571519%2C%20-81.62840899999999%5D%2C%20%5B37.60502%2C%20-81.120504%5D%2C%20%5B37.8543491%2C%20-82.0402553%5D%2C%20%5B39.640565%2C%20-79.95787899999999%5D%2C%20%5B39.204758%2C%20-81.4896761%5D%2C%20%5B38.4209774%2C%20-82.262093%5D%2C%20%5B38.6572587%2C%20-80.7438078%5D%2C%20%5B38.4199032%2C%20-81.79051799999999%5D%2C%20%5B39.2426902%2C%20-81.5160164%5D%2C%20%5B37.8323286%2C%20-82.02508399999999%5D%2C%20%5B39.6544766%2C%20-80.0162874%5D%2C%20%5B38.2635949%2C%20-81.57043960000001%5D%2C%20%5B39.3106046%2C%20-81.553558%5D%2C%20%5B38.4336775%2C%20-82.1241225%5D%2C%20%5B38.4093813%2C%20-82.3243323%5D%2C%20%5B38.8718895%2C%20-78.8572152%5D%2C%20%5B37.6142796%2C%20-81.1216475%5D%2C%20%5B39.43526689999999%2C%20-80.1728555%5D%2C%20%5B38.3563816%2C%20-81.637243%5D%2C%20%5B39.5373012%2C%20-79.99014269999999%5D%2C%20%5B39.32834%2C%20-77.8957612%5D%2C%20%5B38.4490627%2C%20-81.9514047%5D%2C%20%5B39.407113%2C%20-80.207194%5D%2C%20%5B38.1323149%2C%20-80.99066859999999%5D%2C%20%5B39.3429744%2C%20-80.2127478%5D%2C%20%5B39.204758%2C%20-81.4896761%5D%2C%20%5B39.5456353%2C%20-77.9070338%5D%2C%20%5B39.22873209999999%2C%20-81.5182028%5D%2C%20%5B38.460797%2C%20-82.303206%5D%2C%20%5B39.288953%2C%20-77.85978709999999%5D%2C%20%5B40.0617281%2C%20-80.5989082%5D%2C%20%5B37.7767912%2C%20-81.1939112%5D%2C%20%5B42.05817100000001%2C%20-104.9536018%5D%2C%20%5B41.1107006%2C%20-104.8334231%5D%2C%20%5B41.1554252%2C%20-104.7324029%5D%2C%20%5B44.55338640000001%2C%20-104.1033722%5D%2C%20%5B42.8632269%2C%20-109.8747461%5D%2C%20%5B44.5344152%2C%20-109.0400608%5D%2C%20%5B42.8919936%2C%20-106.3533236%5D%2C%20%5B41.6054153%2C%20-109.2302337%5D%2C%20%5B41.798292%2C%20-107.2177419%5D%2C%20%5B43.0254871%2C%20-108.385648%5D%2C%20%5B42.0523759%2C%20-104.9641873%5D%2C%20%5B43.4786803%2C%20-110.7608189%5D%2C%20%5B41.1095432%2C%20-106.0145073%5D%2C%20%5B41.1220798%2C%20-104.8055645%5D%2C%20%5B44.2595965%2C%20-105.493668%5D%2C%20%5B42.8530237%2C%20-106.4023973%5D%2C%20%5B41.1020718%2C%20-104.7936422%5D%2C%20%5B42.8221004%2C%20-106.3121471%5D%2C%20%5B42.8599653%2C%20-106.2683566%5D%2C%20%5B43.6460672%2C%20-108.2120432%5D%2C%20%5B41.138426%2C%20-104.7869081%5D%2C%20%5B44.3013516%2C%20-105.5290967%5D%2C%20%5B42.8472798%2C%20-106.2626494%5D%2C%20%5B44.3454396%2C%20-106.6986835%5D%2C%20%5B44.6381326%2C%20-106.4660334%5D%2C%20%5B43.0318229%2C%20-108.3798132%5D%2C%20%5B41.3085966%2C%20-105.6161907%5D%2C%20%5B41.5091482%2C%20-109.4572595%5D%2C%20%5B43.6503688%2C%20-108.2096218%5D%2C%20%5B41.134715%2C%20-104.7212419%5D%2C%20%5B44.7841692%2C%20-106.940957%5D%2C%20%5B41.5737931%2C%20-109.2304035%5D%2C%20%5B41.1023269%2C%20-104.800522%5D%2C%20%5B41.18427399999999%2C%20-106.130569%5D%2C%20%5B43.0311758%2C%20-108.384999%5D%2C%20%5B44.5342803%2C%20-109.0552808%5D%2C%20%5B41.3339682%2C%20-105.5838882%5D%2C%20%5B44.290849%2C%20-105.4344139%5D%2C%20%5B41.586682%2C%20-109.226076%5D%2C%20%5B41.0686179%2C%20-104.8024006%5D%2C%20%5B44.725765%2C%20-106.994063%5D%2C%20%5B43.0259857%2C%20-108.3817539%5D%2C%20%5B42.8674133%2C%20-109.8765772%5D%2C%20%5B41.3071095%2C%20-105.5942852%5D%2C%20%5B41.1026375%2C%20-104.7969702%5D%2C%20%5B43.647568%2C%20-108.2111251%5D%2C%20%5B41.5677615%2C%20-109.2900088%5D%2C%20%5B42.86688909999999%2C%20-109.8656775%5D%2C%20%5B44.28280729999999%2C%20-105.5080064%5D%2C%20%5B42.9778494%2C%20-109.7586597%5D%2C%20%5B41.3266255%2C%20-105.6089856%5D%2C%20%5B41.1554252%2C%20-104.7324029%5D%2C%20%5B43.6409276%2C%20-108.2117983%5D%2C%20%5B41.2990986%2C%20-105.5953695%5D%2C%20%5B41.1509552%2C%20-104.7516147%5D%2C%20%5B41.10993500000001%2C%20-104.84289%5D%2C%20%5B44.345508%2C%20-106.698589%5D%2C%20%5B42.8484261%2C%20-106.3364526%5D%2C%20%5B44.7841692%2C%20-106.940957%5D%2C%20%5B42.8496598%2C%20-106.3061882%5D%2C%20%5B41.2826667%2C%20-110.9617006%5D%2C%20%5B41.1554252%2C%20-104.7324029%5D%2C%20%5B41.8054767%2C%20-110.5351927%5D%2C%20%5B42.8282313%2C%20-106.3661062%5D%2C%20%5B42.834297%2C%20-108.7379843%5D%2C%20%5B41.1333252%2C%20-104.8173271%5D%2C%20%5B41.5035218%2C%20-109.4549607%5D%2C%20%5B42.8540749%2C%20-106.4018989%5D%2C%20%5B43.0401775%2C%20-108.3810817%5D%2C%20%5B42.8757635%2C%20-106.4179972%5D%2C%20%5B42.1029957%2C%20-109.4470538%5D%2C%20%5B44.5262185%2C%20-109.0634016%5D%2C%20%5B43.6492992%2C%20-108.2132443%5D%2C%20%5B41.6112555%2C%20-109.2310235%5D%2C%20%5B41.1314908%2C%20-104.9008896%5D%2C%20%5B41.5568308%2C%20-109.2946695%5D%2C%20%5B41.1652603%2C%20-104.7679097%5D%2C%20%5B43.6112531%2C%20-108.2272651%5D%2C%20%5B42.853248%2C%20-106.3011764%5D%2C%20%5B44.4962618%2C%20-109.0291627%5D%2C%20%5B41.1862229%2C%20-104.6927589%5D%2C%20%5B41.3278786%2C%20-105.6097963%5D%2C%20%5B41.0986457%2C%20-104.8457811%5D%2C%20%5B44.5516695%2C%20-104.1019121%5D%2C%20%5B41.644997%2C%20-109.2532545%5D%2C%20%5B41.13267099999999%2C%20-104.7800309%5D%2C%20%5B43.0245556%2C%20-108.4099637%5D%2C%20%5B44.8060787%2C%20-106.9417527%5D%2C%20%5B44.749507%2C%20-107.0975069%5D%2C%20%5B43.2360885%2C%20-108.1015952%5D%2C%20%5B42.9778494%2C%20-109.7586597%5D%2C%20%5B42.8533203%2C%20-106.2991533%5D%2C%20%5B42.8479975%2C%20-106.2546506%5D%2C%20%5B44.3463719%2C%20-104.8122419%5D%2C%20%5B43.46339100000001%2C%20-110.7988763%5D%2C%20%5B44.5502005%2C%20-108.0855616%5D%2C%20%5B44.0071306%2C%20-108.402761%5D%2C%20%5B41.26553430000001%2C%20-110.9611567%5D%2C%20%5B41.1210068%2C%20-104.8144502%5D%2C%20%5B41.3087763%2C%20-105.5588638%5D%2C%20%5B43.0238046%2C%20-108.3897043%5D%2C%20%5B41.13410349999999%2C%20-104.8154317%5D%2C%20%5B43.0243312%2C%20-108.4008074%5D%2C%20%5B41.1165497%2C%20-104.8077688%5D%2C%20%5B42.8628895%2C%20-106.3365375%5D%2C%20%5B44.225812%2C%20-105.4559742%5D%2C%20%5B41.308654%2C%20-105.6179854%5D%2C%20%5B44.7169611%2C%20-107.0724261%5D%2C%20%5B41.1315326%2C%20-104.8863232%5D%2C%20%5B44.2927881%2C%20-105.5002135%5D%2C%20%5B41.1107006%2C%20-104.8334231%5D%2C%20%5B43.04490270000001%2C%20-108.3814758%5D%2C%20%5B44.5312229%2C%20-109.0509195%5D%2C%20%5B42.8657747%2C%20-106.4554031%5D%2C%20%5B41.2961456%2C%20-105.5797724%5D%2C%20%5B44.337799%2C%20-105.5228768%5D%2C%20%5B42.8678392%2C%20-109.8602894%5D%2C%20%5B40.7268603%2C%20-98.6700389%5D%2C%20%5B44.7696005%2C%20-106.9447802%5D%2C%20%5B42.53564799999999%2C%20-106.7839636%5D%2C%20%5B44.8953455%2C%20-106.8600764%5D%2C%20%5B41.2718635%2C%20-110.9508551%5D%2C%20%5B41.1343095%2C%20-104.8526104%5D%2C%20%5B41.1428934%2C%20-104.7612026%5D%2C%20%5B44.276158%2C%20-105.4928346%5D%2C%20%5B41.1263102%2C%20-104.8350343%5D%2C%20%5B41.1374801%2C%20-104.8132236%5D%2C%20%5B42.8871242%2C%20-106.4637317%5D%2C%20%5B41.6433104%2C%20-109.2548574%5D%2C%20%5B42.8941525%2C%20-106.3514914%5D%2C%20%5B44.0011354%2C%20-107.3159046%5D%2C%20%5B44.2958196%2C%20-105.521117%5D%2C%20%5B43.478206%2C%20-110.7579999%5D%2C%20%5B44.3484209%2C%20-106.7050166%5D%2C%20%5B43.6392382%2C%20-108.2159547%5D%2C%20%5B41.1509559%2C%20-104.7516974%5D%2C%20%5B41.3091211%2C%20-105.5644056%5D%2C%20%5B44.7965162%2C%20-106.9321041%5D%2C%20%5B42.8477375%2C%20-106.259764%5D%2C%20%5B41.1554252%2C%20-104.7324029%5D%2C%20%5B42.8991608%2C%20-109.8252563%5D%2C%20%5B43.76117199999999%2C%20-105.4838379%5D%2C%20%5B41.12093429999999%2C%20-104.8472405%5D%2C%20%5B44.515847%2C%20-109.0961283%5D%2C%20%5B41.7725759%2C%20-110.5504149%5D%2C%20%5B44.62248899999999%2C%20-107.076339%5D%2C%20%5B42.8624088%2C%20-105.8703839%5D%2C%20%5B42.8592465%2C%20-106.3419181%5D%2C%20%5B41.1595457%2C%20-104.7916135%5D%2C%20%5B41.5286982%2C%20-109.4671387%5D%2C%20%5B44.7736445%2C%20-106.9329877%5D%2C%20%5B44.79723629999999%2C%20-106.9369252%5D%2C%20%5B41.26258929999999%2C%20-110.9938341%5D%2C%20%5B41.2604183%2C%20-110.994882%5D%2C%20%5B44.5247013%2C%20-109.0550627%5D%2C%20%5B44.5342602%2C%20-109.0397089%5D%2C%20%5B44.2444924%2C%20-105.478833%5D%2C%20%5B42.8705095%2C%20-106.4339388%5D%2C%20%5B44.496286%2C%20-109.029787%5D%2C%20%5B44.3462908%2C%20-106.699079%5D%2C%20%5B42.867358%2C%20-109.86745%5D%2C%20%5B42.8543286%2C%20-106.2952911%5D%2C%20%5B42.841982%2C%20-106.3370078%5D%2C%20%5B44.2921183%2C%20-105.4929979%5D%2C%20%5B42.8525%2C%20-109.793986%5D%2C%20%5B41.3246151%2C%20-105.5915674%5D%2C%20%5B43.1646152%2C%20-111.0165651%5D%2C%20%5B43.03779129999999%2C%20-108.4207893%5D%2C%20%5B41.1383237%2C%20-104.7035629%5D%2C%20%5B42.6063598%2C%20-109.6344517%5D%2C%20%5B42.8168854%2C%20-106.3646668%5D%2C%20%5B43.6158562%2C%20-108.2327816%5D%2C%20%5B41.1755731%2C%20-104.8141583%5D%2C%20%5B44.774692%2C%20-106.947183%5D%2C%20%5B44.7727615%2C%20-106.9377908%5D%2C%20%5B44.5156597%2C%20-109.0506637%5D%2C%20%5B42.828076%2C%20-106.29792%5D%2C%20%5B41.3280019%2C%20-105.5925294%5D%2C%20%5B42.757588%2C%20-105.4074943%5D%2C%20%5B42.83341129999999%2C%20-108.7339704%5D%2C%20%5B41.13339879999999%2C%20-104.8139759%5D%2C%20%5B41.1371064%2C%20-104.8047661%5D%2C%20%5B43.024999%2C%20-108.381071%5D%2C%20%5B41.1230027%2C%20-104.8089549%5D%2C%20%5B42.76043610000001%2C%20-105.4069936%5D%2C%20%5B42.8329002%2C%20-108.723987%5D%2C%20%5B43.75188319999999%2C%20-105.4913345%5D%2C%20%5B43.64641049999999%2C%20-108.2074011%5D%2C%20%5B41.1318582%2C%20-104.7782569%5D%2C%20%5B42.6049644%2C%20-109.6344701%5D%2C%20%5B44.7677807%2C%20-106.9697357%5D%2C%20%5B44.7966647%2C%20-106.9306484%5D%5D%3B%0A%20%20%20%20%20%20%20%20%20%20%20%20%20%20%20%20var%20cluster%20%3D%20L.markerClusterGroup%28%7B%7D%29%3B%0A%0A%20%20%20%20%20%20%20%20%20%20%20%20%20%20%20%20for%20%28var%20i%20%3D%200%3B%20i%20%3C%20data.length%3B%20i%2B%2B%29%20%7B%0A%20%20%20%20%20%20%20%20%20%20%20%20%20%20%20%20%20%20%20%20var%20row%20%3D%20data%5Bi%5D%3B%0A%20%20%20%20%20%20%20%20%20%20%20%20%20%20%20%20%20%20%20%20var%20marker%20%3D%20callback%28row%29%3B%0A%20%20%20%20%20%20%20%20%20%20%20%20%20%20%20%20%20%20%20%20marker.addTo%28cluster%29%3B%0A%20%20%20%20%20%20%20%20%20%20%20%20%20%20%20%20%7D%0A%0A%20%20%20%20%20%20%20%20%20%20%20%20%20%20%20%20cluster.addTo%28map_468d2896391b4294b41d3ea6f0759506%29%3B%0A%20%20%20%20%20%20%20%20%20%20%20%20%20%20%20%20return%20cluster%3B%0A%20%20%20%20%20%20%20%20%20%20%20%20%7D%29%28%29%3B%0A%20%20%20%20%20%20%20%20%0A%20%20%20%20%0A%20%20%20%20%20%20%20%20%20%20%20%20var%20layer_control_02a07e5fa7ad4839aec92017a8903253%20%3D%20%7B%0A%20%20%20%20%20%20%20%20%20%20%20%20%20%20%20%20base_layers%20%3A%20%7B%0A%20%20%20%20%20%20%20%20%20%20%20%20%20%20%20%20%20%20%20%20%22cartodbdark_matter%22%20%3A%20tile_layer_966975d070a74831b9c563babe897ed6%2C%0A%20%20%20%20%20%20%20%20%20%20%20%20%20%20%20%20%7D%2C%0A%20%20%20%20%20%20%20%20%20%20%20%20%20%20%20%20overlays%20%3A%20%20%7B%0A%20%20%20%20%20%20%20%20%20%20%20%20%20%20%20%20%20%20%20%20%22macro_element_611260a2122f463daf205819483c7e90%22%20%3A%20fast_marker_cluster_611260a2122f463daf205819483c7e90%2C%0A%20%20%20%20%20%20%20%20%20%20%20%20%20%20%20%20%7D%2C%0A%20%20%20%20%20%20%20%20%20%20%20%20%7D%3B%0A%20%20%20%20%20%20%20%20%20%20%20%20L.control.layers%28%0A%20%20%20%20%20%20%20%20%20%20%20%20%20%20%20%20layer_control_02a07e5fa7ad4839aec92017a8903253.base_layers%2C%0A%20%20%20%20%20%20%20%20%20%20%20%20%20%20%20%20layer_control_02a07e5fa7ad4839aec92017a8903253.overlays%2C%0A%20%20%20%20%20%20%20%20%20%20%20%20%20%20%20%20%7B%22autoZIndex%22%3A%20true%2C%20%22collapsed%22%3A%20true%2C%20%22position%22%3A%20%22topright%22%7D%0A%20%20%20%20%20%20%20%20%20%20%20%20%29.addTo%28map_468d2896391b4294b41d3ea6f0759506%29%3B%0A%20%20%20%20%20%20%20%20%0A%3C/script%3E onload=\"this.contentDocument.open();this.contentDocument.write(    decodeURIComponent(this.getAttribute('data-html')));this.contentDocument.close();\" allowfullscreen webkitallowfullscreen mozallowfullscreen></iframe></div></div>"
      ],
      "text/plain": [
       "<folium.folium.Map at 0x7fe5c110e310>"
      ]
     },
     "execution_count": 13,
     "metadata": {},
     "output_type": "execute_result"
    }
   ],
   "source": [
    "#Correct file format\n",
    "df = pd.read_csv(\"data.csv\").drop(columns='Unnamed: 0')\n",
    "df.loc[:,'point'] = df.loc[:,'point'].apply(lambda x: str(x)).apply(lambda x: x.replace(' ','').replace('(','').replace(')','').split(',') if x else None)\n",
    "\n",
    "#extract geo-locations, drop na's\n",
    "df[['latitude','longitude','altitude']] = pd.DataFrame(df['point'].tolist(), index=df.index)\n",
    "df_map = df[pd.notna(df['location'])].copy()\n",
    "\n",
    "#Property Geographic Location Distribution\n",
    "folium_map = folium.Map(location=[38.996990,-101.463420],\n",
    "                        zoom_start=5,\n",
    "                        tiles='CartoDB dark_matter')\n",
    "\n",
    "\n",
    "FastMarkerCluster(data=list(zip(df_map['latitude'].values, df_map['longitude'].values))).add_to(folium_map)\n",
    "folium.LayerControl().add_to(folium_map)\n",
    "folium_map"
   ]
  },
  {
   "cell_type": "markdown",
   "metadata": {
    "cell_id": "00024-8620eac6-2e8b-47c5-b20f-f3e8f2e1da81",
    "deepnote_cell_type": "markdown",
    "tags": []
   },
   "source": [
    "- The following block helps us convert the units of all of the observations \"Total area\" and \"Lot Size\" into square feet (sf), since some of them are recorded in different units."
   ]
  },
  {
   "cell_type": "code",
   "execution_count": null,
   "metadata": {
    "cell_id": "00017-6f7bcef9-cb9e-46a0-a174-cd6eb4f9ff52",
    "deepnote_cell_type": "code",
    "deepnote_to_be_reexecuted": false,
    "execution_millis": 222,
    "execution_start": 1620076401282,
    "source_hash": "cb8324d4",
    "tags": []
   },
   "outputs": [
    {
     "data": {
      "application/vnd.deepnote.dataframe.v2+json": {
       "column_count": 3,
       "columns": [
        {
         "dtype": "float64",
         "name": "Price",
         "stats": {
          "histogram": [
           {
            "bin_end": 9124539.2,
            "bin_start": 8499,
            "count": 7
           },
           {
            "bin_end": 18240579.4,
            "bin_start": 9124539.2,
            "count": 0
           },
           {
            "bin_end": 27356619.599999998,
            "bin_start": 18240579.4,
            "count": 0
           },
           {
            "bin_end": 36472659.8,
            "bin_start": 27356619.599999998,
            "count": 0
           },
           {
            "bin_end": 45588700,
            "bin_start": 36472659.8,
            "count": 0
           },
           {
            "bin_end": 54704740.199999996,
            "bin_start": 45588700,
            "count": 0
           },
           {
            "bin_end": 63820780.39999999,
            "bin_start": 54704740.199999996,
            "count": 0
           },
           {
            "bin_end": 72936820.6,
            "bin_start": 63820780.39999999,
            "count": 0
           },
           {
            "bin_end": 82052860.8,
            "bin_start": 72936820.6,
            "count": 0
           },
           {
            "bin_end": 91168901,
            "bin_start": 82052860.8,
            "count": 1
           }
          ],
          "max": "91168901.0",
          "min": "8499.0",
          "nan_count": 0,
          "unique_count": 8
         }
        },
        {
         "dtype": "float64",
         "name": "Total area",
         "stats": {
          "histogram": [
           {
            "bin_end": 349500,
            "bin_start": 0,
            "count": 7
           },
           {
            "bin_end": 699000,
            "bin_start": 349500,
            "count": 0
           },
           {
            "bin_end": 1048500,
            "bin_start": 699000,
            "count": 0
           },
           {
            "bin_end": 1398000,
            "bin_start": 1048500,
            "count": 0
           },
           {
            "bin_end": 1747500,
            "bin_start": 1398000,
            "count": 0
           },
           {
            "bin_end": 2097000,
            "bin_start": 1747500,
            "count": 0
           },
           {
            "bin_end": 2446500,
            "bin_start": 2097000,
            "count": 0
           },
           {
            "bin_end": 2796000,
            "bin_start": 2446500,
            "count": 0
           },
           {
            "bin_end": 3145500,
            "bin_start": 2796000,
            "count": 0
           },
           {
            "bin_end": 3495000,
            "bin_start": 3145500,
            "count": 1
           }
          ],
          "max": "3495000.0",
          "min": "0.0",
          "nan_count": 0,
          "unique_count": 8
         }
        },
        {
         "dtype": "float64",
         "name": "Lot Size",
         "stats": {
          "histogram": [
           {
            "bin_end": 11419254784.233,
            "bin_start": 0.17,
            "count": 7
           },
           {
            "bin_end": 22838509568.295998,
            "bin_start": 11419254784.233,
            "count": 0
           },
           {
            "bin_end": 34257764352.358997,
            "bin_start": 22838509568.295998,
            "count": 0
           },
           {
            "bin_end": 45677019136.422,
            "bin_start": 34257764352.358997,
            "count": 0
           },
           {
            "bin_end": 57096273920.485,
            "bin_start": 45677019136.422,
            "count": 0
           },
           {
            "bin_end": 68515528704.548,
            "bin_start": 57096273920.485,
            "count": 0
           },
           {
            "bin_end": 79934783488.611,
            "bin_start": 68515528704.548,
            "count": 0
           },
           {
            "bin_end": 91354038272.674,
            "bin_start": 79934783488.611,
            "count": 0
           },
           {
            "bin_end": 102773293056.737,
            "bin_start": 91354038272.674,
            "count": 0
           },
           {
            "bin_end": 114192547840.8,
            "bin_start": 102773293056.737,
            "count": 1
           }
          ],
          "max": "114192547840.8",
          "min": "0.17",
          "nan_count": 0,
          "unique_count": 8
         }
        },
        {
         "dtype": "object",
         "name": "_deepnote_index_column"
        }
       ],
       "row_count": 8,
       "rows_bottom": null,
       "rows_top": [
        {
         "Lot Size": 8031,
         "Price": 8880,
         "Total area": 4753,
         "_deepnote_index_column": "count"
        },
        {
         "Lot Size": 23462369.196387745,
         "Price": 5852506.585842342,
         "Total area": 55678.18451504313,
         "_deepnote_index_column": "mean"
        },
        {
         "Lot Size": 1297266288.1530204,
         "Price": 5621658.339210067,
         "Total area": 108153.33900852923,
         "_deepnote_index_column": "std"
        },
        {
         "Lot Size": 0.17,
         "Price": 8499,
         "Total area": 0,
         "_deepnote_index_column": "min"
        },
        {
         "Lot Size": 63162,
         "Price": 3375000,
         "Total area": 10736,
         "_deepnote_index_column": "25%"
        },
        {
         "Lot Size": 239580,
         "Price": 4414450,
         "Total area": 27960,
         "_deepnote_index_column": "50%"
        },
        {
         "Lot Size": 1001880,
         "Price": 6500000,
         "Total area": 60000,
         "_deepnote_index_column": "75%"
        },
        {
         "Lot Size": 114192547840.8,
         "Price": 91168901,
         "Total area": 3495000,
         "_deepnote_index_column": "max"
        }
       ]
      },
      "text/html": [
       "<div>\n",
       "<style scoped>\n",
       "    .dataframe tbody tr th:only-of-type {\n",
       "        vertical-align: middle;\n",
       "    }\n",
       "\n",
       "    .dataframe tbody tr th {\n",
       "        vertical-align: top;\n",
       "    }\n",
       "\n",
       "    .dataframe thead th {\n",
       "        text-align: right;\n",
       "    }\n",
       "</style>\n",
       "<table border=\"1\" class=\"dataframe\">\n",
       "  <thead>\n",
       "    <tr style=\"text-align: right;\">\n",
       "      <th></th>\n",
       "      <th>Price</th>\n",
       "      <th>Total area</th>\n",
       "      <th>Lot Size</th>\n",
       "    </tr>\n",
       "  </thead>\n",
       "  <tbody>\n",
       "    <tr>\n",
       "      <th>count</th>\n",
       "      <td>8.880000e+03</td>\n",
       "      <td>4.753000e+03</td>\n",
       "      <td>8.031000e+03</td>\n",
       "    </tr>\n",
       "    <tr>\n",
       "      <th>mean</th>\n",
       "      <td>5.852507e+06</td>\n",
       "      <td>5.567818e+04</td>\n",
       "      <td>2.346237e+07</td>\n",
       "    </tr>\n",
       "    <tr>\n",
       "      <th>std</th>\n",
       "      <td>5.621658e+06</td>\n",
       "      <td>1.081533e+05</td>\n",
       "      <td>1.297266e+09</td>\n",
       "    </tr>\n",
       "    <tr>\n",
       "      <th>min</th>\n",
       "      <td>8.499000e+03</td>\n",
       "      <td>0.000000e+00</td>\n",
       "      <td>1.700000e-01</td>\n",
       "    </tr>\n",
       "    <tr>\n",
       "      <th>25%</th>\n",
       "      <td>3.375000e+06</td>\n",
       "      <td>1.073600e+04</td>\n",
       "      <td>6.316200e+04</td>\n",
       "    </tr>\n",
       "    <tr>\n",
       "      <th>50%</th>\n",
       "      <td>4.414450e+06</td>\n",
       "      <td>2.796000e+04</td>\n",
       "      <td>2.395800e+05</td>\n",
       "    </tr>\n",
       "    <tr>\n",
       "      <th>75%</th>\n",
       "      <td>6.500000e+06</td>\n",
       "      <td>6.000000e+04</td>\n",
       "      <td>1.001880e+06</td>\n",
       "    </tr>\n",
       "    <tr>\n",
       "      <th>max</th>\n",
       "      <td>9.116890e+07</td>\n",
       "      <td>3.495000e+06</td>\n",
       "      <td>1.141925e+11</td>\n",
       "    </tr>\n",
       "  </tbody>\n",
       "</table>\n",
       "</div>"
      ],
      "text/plain": [
       "              Price    Total area      Lot Size\n",
       "count  8.880000e+03  4.753000e+03  8.031000e+03\n",
       "mean   5.852507e+06  5.567818e+04  2.346237e+07\n",
       "std    5.621658e+06  1.081533e+05  1.297266e+09\n",
       "min    8.499000e+03  0.000000e+00  1.700000e-01\n",
       "25%    3.375000e+06  1.073600e+04  6.316200e+04\n",
       "50%    4.414450e+06  2.796000e+04  2.395800e+05\n",
       "75%    6.500000e+06  6.000000e+04  1.001880e+06\n",
       "max    9.116890e+07  3.495000e+06  1.141925e+11"
      ]
     },
     "execution_count": 14,
     "metadata": {},
     "output_type": "execute_result"
    }
   ],
   "source": [
    "# handle the units of the variables \"Total area\" and \"Lot Size\": \n",
    "#convert other units to square feet (sf)\n",
    "df_map['Total area'] = df_map['Total area'].str.replace(',','', regex = True).str.replace(' SF','',regex = True)\n",
    "len(df_map.loc[df['Total area'].str.match(r\"^\\d+\\s[a-zA-Z]+$\"), ['Total area']])\n",
    "\n",
    "# len = 0 说明Total Area 全部满足 \"*digit* SF\" 格式\n",
    "df_map.loc[:,'Total area'] = pd.to_numeric(df_map['Total area'], errors = 'coerce')\n",
    "\n",
    "#handle Lot Size\n",
    "df_map['Lot Size'] = df_map['Lot Size'].str.replace(',','', regex = True)\n",
    "\n",
    "def unit_conversion(x):\n",
    "    match = re.match(r\"([0-9\\.]+)\\s(\\w+)\", x)\n",
    "    if match:\n",
    "        if match.group(2) == \"AC\":\n",
    "            return str(pd.to_numeric(match.group(1)) * 43560)\n",
    "        else:\n",
    "            return str(match.group(1))\n",
    "    else:\n",
    "        match = re.match(r\"([0-9\\.]+)\\s-\\s([0-9\\.]+)\\s(\\w+)\", x)\n",
    "        if match:\n",
    "            if match.group(3) == \"AC\":\n",
    "                return str(\n",
    "                    (\n",
    "                        pd.to_numeric(match.group(1)) +\n",
    "                        pd.to_numeric(match.group(2))\n",
    "                    ) / 2 * 43560\n",
    "                )\n",
    "            else:\n",
    "                return str(\n",
    "                    (\n",
    "                        pd.to_numeric(match.group(1)) +\n",
    "                        pd.to_numeric(match.group(2))\n",
    "                    ) / 2\n",
    "                )\n",
    "\n",
    "df_map.loc[:,'Lot Size'] = pd.to_numeric(df_map.loc[:,'Lot Size'].apply(lambda x: unit_conversion(x)), errors = \"coerce\")\n",
    "df_map.describe()\n"
   ]
  },
  {
   "cell_type": "markdown",
   "metadata": {
    "cell_id": "00023-3a1841aa-caca-4984-9d0d-231767032e8e",
    "deepnote_cell_type": "markdown",
    "tags": []
   },
   "source": [
    "- Import and inspect a new dataset: GDP by county, retreived from [U.S. Bureau of Economic Analysis (BEA)](https://www.bea.gov/)"
   ]
  },
  {
   "cell_type": "code",
   "execution_count": null,
   "metadata": {
    "cell_id": "00011-b29bb8a7-8ed8-49d9-803c-51dc2c88e888",
    "deepnote_cell_type": "code",
    "deepnote_to_be_reexecuted": false,
    "execution_millis": 967,
    "execution_start": 1620076452532,
    "source_hash": "a111efe8",
    "tags": []
   },
   "outputs": [
    {
     "name": "stderr",
     "output_type": "stream",
     "text": [
      "/shared-libs/python3.7/py-core/lib/python3.7/site-packages/IPython/core/interactiveshell.py:3166: DtypeWarning: Columns (2) have mixed types.Specify dtype option on import or set low_memory=False.\n",
      "  interactivity=interactivity, compiler=compiler, result=result)\n"
     ]
    }
   ],
   "source": [
    "# import and inspect a new dataset: GDP by county\n",
    "import pandas as pd\n",
    "gdp_all = pd.read_csv(\"./gdp.csv\")\n",
    "gdp_county = gdp_all.copy()[['GeoName','Description','2019']]\n",
    "def to_int(x):\n",
    "    try:\n",
    "        return int(x)\n",
    "    except:\n",
    "        return None\n",
    "gdp_county.loc[:,\"2019\"] = gdp_county.loc[:,\"2019\"].apply(lambda x: to_int(x))\n",
    "gdp_county = pd.pivot_table(gdp_county, index = \"GeoName\", columns=['Description'], values='2019')\n",
    "gdp_county.columns = gdp_county.columns.get_level_values(0)\n",
    "gdp_county = gdp_county.reset_index()\n",
    "gdp_county = gdp_county[['GeoName', \"All industry total\"]]\n",
    "\n",
    "#Subset data containing county\n",
    "gdp_county = gdp_county[gdp_county['GeoName'].astype(str).str.match(\".+?,.+?\")]\n",
    "gdp_county.to_csv('test_gdp.csv')\n",
    "#gdp_county.groupby('GeoName').filter(lambda x: len(x['All industry total'].unique())>1)\n",
    "gdp_county = gdp_county[gdp_county['GeoName'].apply(lambda x:not bool(re.search(\"[\\*\\+\\(\\)]\", x)))]\n",
    "\n"
   ]
  },
  {
   "cell_type": "markdown",
   "metadata": {
    "cell_id": "00025-ce416e80-abfc-4f75-ba73-ff5abf848e50",
    "deepnote_cell_type": "markdown",
    "tags": []
   },
   "source": [
    "- Merge the variable GDP by county dataset with the commercial real estate dataset so that they become 1 dataframe (dataset)."
   ]
  },
  {
   "cell_type": "code",
   "execution_count": null,
   "metadata": {
    "cell_id": "00013-cd87857c-a786-4098-806a-d8f96bb154cd",
    "deepnote_cell_type": "code",
    "deepnote_to_be_reexecuted": false,
    "execution_millis": 23704,
    "execution_start": 1620055423330,
    "output_cleared": false,
    "source_hash": "d80677af",
    "tags": []
   },
   "outputs": [
    {
     "name": "stdout",
     "output_type": "stream",
     "text": [
      "Collecting uszipcode\n",
      "  Downloading uszipcode-0.2.5-py2.py3-none-any.whl (453 kB)\n",
      "\u001b[K     |████████████████████████████████| 453 kB 25.7 MB/s \n",
      "\u001b[?25hCollecting pathlib-mate\n",
      "  Downloading pathlib_mate-1.0.1-py2.py3-none-any.whl (78 kB)\n",
      "\u001b[K     |████████████████████████████████| 78 kB 17.2 MB/s \n",
      "\u001b[?25hRequirement already satisfied: requests in /shared-libs/python3.7/py/lib/python3.7/site-packages (from uszipcode) (2.25.1)\n",
      "Collecting SQLAlchemy>=1.4.0\n",
      "  Downloading SQLAlchemy-1.4.12-cp37-cp37m-manylinux2014_x86_64.whl (1.5 MB)\n",
      "\u001b[K     |████████████████████████████████| 1.5 MB 77.2 MB/s \n",
      "\u001b[?25hRequirement already satisfied: attrs in /shared-libs/python3.7/py-core/lib/python3.7/site-packages (from uszipcode) (20.3.0)\n",
      "Collecting greenlet!=0.4.17\n",
      "  Downloading greenlet-1.0.0-cp37-cp37m-manylinux2010_x86_64.whl (160 kB)\n",
      "\u001b[K     |████████████████████████████████| 160 kB 86.5 MB/s \n",
      "\u001b[?25hRequirement already satisfied: importlib-metadata in /shared-libs/python3.7/py-core/lib/python3.7/site-packages (from SQLAlchemy>=1.4.0->uszipcode) (3.10.1)\n",
      "Requirement already satisfied: typing-extensions>=3.6.4 in /shared-libs/python3.7/py-core/lib/python3.7/site-packages (from importlib-metadata->SQLAlchemy>=1.4.0->uszipcode) (3.7.4.3)\n",
      "Requirement already satisfied: zipp>=0.5 in /shared-libs/python3.7/py-core/lib/python3.7/site-packages (from importlib-metadata->SQLAlchemy>=1.4.0->uszipcode) (3.4.1)\n",
      "Collecting autopep8\n",
      "  Downloading autopep8-1.5.7-py2.py3-none-any.whl (45 kB)\n",
      "\u001b[K     |████████████████████████████████| 45 kB 8.2 MB/s \n",
      "\u001b[?25hRequirement already satisfied: six in /shared-libs/python3.7/py-core/lib/python3.7/site-packages (from pathlib-mate->uszipcode) (1.15.0)\n",
      "Collecting atomicwrites\n",
      "  Downloading atomicwrites-1.4.0-py2.py3-none-any.whl (6.8 kB)\n",
      "Requirement already satisfied: toml in /shared-libs/python3.7/py/lib/python3.7/site-packages (from autopep8->pathlib-mate->uszipcode) (0.10.2)\n",
      "Collecting pycodestyle>=2.7.0\n",
      "  Downloading pycodestyle-2.7.0-py2.py3-none-any.whl (41 kB)\n",
      "\u001b[K     |████████████████████████████████| 41 kB 1.9 MB/s \n",
      "\u001b[?25hRequirement already satisfied: chardet<5,>=3.0.2 in /shared-libs/python3.7/py/lib/python3.7/site-packages (from requests->uszipcode) (3.0.4)\n",
      "Requirement already satisfied: certifi>=2017.4.17 in /shared-libs/python3.7/py/lib/python3.7/site-packages (from requests->uszipcode) (2020.12.5)\n",
      "Requirement already satisfied: urllib3<1.27,>=1.21.1 in /shared-libs/python3.7/py/lib/python3.7/site-packages (from requests->uszipcode) (1.26.4)\n",
      "Requirement already satisfied: idna<3,>=2.5 in /shared-libs/python3.7/py/lib/python3.7/site-packages (from requests->uszipcode) (2.10)\n",
      "Installing collected packages: pycodestyle, greenlet, autopep8, atomicwrites, SQLAlchemy, pathlib-mate, uszipcode\n",
      "  Attempting uninstall: SQLAlchemy\n",
      "    Found existing installation: SQLAlchemy 1.3.24\n",
      "    Not uninstalling sqlalchemy at /shared-libs/python3.7/py/lib/python3.7/site-packages, outside environment /root/venv\n",
      "    Can't uninstall 'SQLAlchemy'. No files were found to uninstall.\n",
      "\u001b[31mERROR: pip's dependency resolver does not currently take into account all the packages that are installed. This behaviour is the source of the following dependency conflicts.\n",
      "pybigquery 0.6.1 requires sqlalchemy<1.4.0dev,>=1.1.9, but you have sqlalchemy 1.4.12 which is incompatible.\u001b[0m\n",
      "Successfully installed SQLAlchemy-1.4.12 atomicwrites-1.4.0 autopep8-1.5.7 greenlet-1.0.0 pathlib-mate-1.0.1 pycodestyle-2.7.0 uszipcode-0.2.5\n",
      "\u001b[33mWARNING: You are using pip version 21.0.1; however, version 21.1.1 is available.\n",
      "You should consider upgrading via the '/root/venv/bin/python -m pip install --upgrade pip' command.\u001b[0m\n",
      "Start downloading data for simple zipcode database, total size 9MB ...\n",
      "  1 MB finished ...\n",
      "  2 MB finished ...\n",
      "  3 MB finished ...\n",
      "  4 MB finished ...\n",
      "  5 MB finished ...\n",
      "  6 MB finished ...\n",
      "  7 MB finished ...\n",
      "  8 MB finished ...\n",
      "  9 MB finished ...\n",
      "  10 MB finished ...\n",
      "  Complete!\n"
     ]
    },
    {
     "data": {
      "application/vnd.deepnote.dataframe.v2+json": {
       "column_count": 4,
       "columns": [
        {
         "dtype": "float64",
         "name": "Price",
         "stats": {
          "histogram": [
           {
            "bin_end": 9124539.2,
            "bin_start": 8499,
            "count": 7
           },
           {
            "bin_end": 18240579.4,
            "bin_start": 9124539.2,
            "count": 0
           },
           {
            "bin_end": 27356619.599999998,
            "bin_start": 18240579.4,
            "count": 0
           },
           {
            "bin_end": 36472659.8,
            "bin_start": 27356619.599999998,
            "count": 0
           },
           {
            "bin_end": 45588700,
            "bin_start": 36472659.8,
            "count": 0
           },
           {
            "bin_end": 54704740.199999996,
            "bin_start": 45588700,
            "count": 0
           },
           {
            "bin_end": 63820780.39999999,
            "bin_start": 54704740.199999996,
            "count": 0
           },
           {
            "bin_end": 72936820.6,
            "bin_start": 63820780.39999999,
            "count": 0
           },
           {
            "bin_end": 82052860.8,
            "bin_start": 72936820.6,
            "count": 0
           },
           {
            "bin_end": 91168901,
            "bin_start": 82052860.8,
            "count": 1
           }
          ],
          "max": "91168901.0",
          "min": "8499.0",
          "nan_count": 0,
          "unique_count": 8
         }
        },
        {
         "dtype": "float64",
         "name": "Total area",
         "stats": {
          "histogram": [
           {
            "bin_end": 349500,
            "bin_start": 0,
            "count": 7
           },
           {
            "bin_end": 699000,
            "bin_start": 349500,
            "count": 0
           },
           {
            "bin_end": 1048500,
            "bin_start": 699000,
            "count": 0
           },
           {
            "bin_end": 1398000,
            "bin_start": 1048500,
            "count": 0
           },
           {
            "bin_end": 1747500,
            "bin_start": 1398000,
            "count": 0
           },
           {
            "bin_end": 2097000,
            "bin_start": 1747500,
            "count": 0
           },
           {
            "bin_end": 2446500,
            "bin_start": 2097000,
            "count": 0
           },
           {
            "bin_end": 2796000,
            "bin_start": 2446500,
            "count": 0
           },
           {
            "bin_end": 3145500,
            "bin_start": 2796000,
            "count": 0
           },
           {
            "bin_end": 3495000,
            "bin_start": 3145500,
            "count": 1
           }
          ],
          "max": "3495000.0",
          "min": "0.0",
          "nan_count": 0,
          "unique_count": 8
         }
        },
        {
         "dtype": "float64",
         "name": "Lot Size",
         "stats": {
          "histogram": [
           {
            "bin_end": 11419254784.233,
            "bin_start": 0.17,
            "count": 7
           },
           {
            "bin_end": 22838509568.295998,
            "bin_start": 11419254784.233,
            "count": 0
           },
           {
            "bin_end": 34257764352.358997,
            "bin_start": 22838509568.295998,
            "count": 0
           },
           {
            "bin_end": 45677019136.422,
            "bin_start": 34257764352.358997,
            "count": 0
           },
           {
            "bin_end": 57096273920.485,
            "bin_start": 45677019136.422,
            "count": 0
           },
           {
            "bin_end": 68515528704.548,
            "bin_start": 57096273920.485,
            "count": 0
           },
           {
            "bin_end": 79934783488.611,
            "bin_start": 68515528704.548,
            "count": 0
           },
           {
            "bin_end": 91354038272.674,
            "bin_start": 79934783488.611,
            "count": 0
           },
           {
            "bin_end": 102773293056.737,
            "bin_start": 91354038272.674,
            "count": 0
           },
           {
            "bin_end": 114192547840.8,
            "bin_start": 102773293056.737,
            "count": 1
           }
          ],
          "max": "114192547840.8",
          "min": "0.17",
          "nan_count": 0,
          "unique_count": 8
         }
        },
        {
         "dtype": "float64",
         "name": "gdp",
         "stats": {
          "histogram": [
           {
            "bin_end": 81950187.3,
            "bin_start": 6162,
            "count": 6
           },
           {
            "bin_end": 163894212.6,
            "bin_start": 81950187.3,
            "count": 1
           },
           {
            "bin_end": 245838237.89999998,
            "bin_start": 163894212.6,
            "count": 0
           },
           {
            "bin_end": 327782263.2,
            "bin_start": 245838237.89999998,
            "count": 0
           },
           {
            "bin_end": 409726288.5,
            "bin_start": 327782263.2,
            "count": 0
           },
           {
            "bin_end": 491670313.79999995,
            "bin_start": 409726288.5,
            "count": 0
           },
           {
            "bin_end": 573614339.1,
            "bin_start": 491670313.79999995,
            "count": 0
           },
           {
            "bin_end": 655558364.4,
            "bin_start": 573614339.1,
            "count": 0
           },
           {
            "bin_end": 737502389.6999999,
            "bin_start": 655558364.4,
            "count": 0
           },
           {
            "bin_end": 819446415,
            "bin_start": 737502389.6999999,
            "count": 1
           }
          ],
          "max": "819446415.0",
          "min": "6162.0",
          "nan_count": 0,
          "unique_count": 8
         }
        },
        {
         "dtype": "object",
         "name": "_deepnote_index_column"
        }
       ],
       "row_count": 8,
       "rows_bottom": null,
       "rows_top": [
        {
         "Lot Size": 8031,
         "Price": 8880,
         "Total area": 4753,
         "_deepnote_index_column": "count",
         "gdp": 6162
        },
        {
         "Lot Size": 23462369.196387745,
         "Price": 5852506.585842342,
         "Total area": 55678.18451504313,
         "_deepnote_index_column": "mean",
         "gdp": 63260294.67721519
        },
        {
         "Lot Size": 1297266288.1530204,
         "Price": 5621658.339210067,
         "Total area": 108153.33900852923,
         "_deepnote_index_column": "std",
         "gdp": 109370640.09394923
        },
        {
         "Lot Size": 0.17,
         "Price": 8499,
         "Total area": 0,
         "_deepnote_index_column": "min",
         "gdp": 18403
        },
        {
         "Lot Size": 63162,
         "Price": 3375000,
         "Total area": 10736,
         "_deepnote_index_column": "25%",
         "gdp": 6305893
        },
        {
         "Lot Size": 239580,
         "Price": 4414450,
         "Total area": 27960,
         "_deepnote_index_column": "50%",
         "gdp": 23604109
        },
        {
         "Lot Size": 1001880,
         "Price": 6500000,
         "Total area": 60000,
         "_deepnote_index_column": "75%",
         "gdp": 72175081
        },
        {
         "Lot Size": 114192547840.8,
         "Price": 91168901,
         "Total area": 3495000,
         "_deepnote_index_column": "max",
         "gdp": 819446415
        }
       ]
      },
      "text/html": [
       "<div>\n",
       "<style scoped>\n",
       "    .dataframe tbody tr th:only-of-type {\n",
       "        vertical-align: middle;\n",
       "    }\n",
       "\n",
       "    .dataframe tbody tr th {\n",
       "        vertical-align: top;\n",
       "    }\n",
       "\n",
       "    .dataframe thead th {\n",
       "        text-align: right;\n",
       "    }\n",
       "</style>\n",
       "<table border=\"1\" class=\"dataframe\">\n",
       "  <thead>\n",
       "    <tr style=\"text-align: right;\">\n",
       "      <th></th>\n",
       "      <th>Price</th>\n",
       "      <th>Total area</th>\n",
       "      <th>Lot Size</th>\n",
       "      <th>gdp</th>\n",
       "    </tr>\n",
       "  </thead>\n",
       "  <tbody>\n",
       "    <tr>\n",
       "      <th>count</th>\n",
       "      <td>8.880000e+03</td>\n",
       "      <td>4.753000e+03</td>\n",
       "      <td>8.031000e+03</td>\n",
       "      <td>6.162000e+03</td>\n",
       "    </tr>\n",
       "    <tr>\n",
       "      <th>mean</th>\n",
       "      <td>5.852507e+06</td>\n",
       "      <td>5.567818e+04</td>\n",
       "      <td>2.346237e+07</td>\n",
       "      <td>6.326029e+07</td>\n",
       "    </tr>\n",
       "    <tr>\n",
       "      <th>std</th>\n",
       "      <td>5.621658e+06</td>\n",
       "      <td>1.081533e+05</td>\n",
       "      <td>1.297266e+09</td>\n",
       "      <td>1.093706e+08</td>\n",
       "    </tr>\n",
       "    <tr>\n",
       "      <th>min</th>\n",
       "      <td>8.499000e+03</td>\n",
       "      <td>0.000000e+00</td>\n",
       "      <td>1.700000e-01</td>\n",
       "      <td>1.840300e+04</td>\n",
       "    </tr>\n",
       "    <tr>\n",
       "      <th>25%</th>\n",
       "      <td>3.375000e+06</td>\n",
       "      <td>1.073600e+04</td>\n",
       "      <td>6.316200e+04</td>\n",
       "      <td>6.305893e+06</td>\n",
       "    </tr>\n",
       "    <tr>\n",
       "      <th>50%</th>\n",
       "      <td>4.414450e+06</td>\n",
       "      <td>2.796000e+04</td>\n",
       "      <td>2.395800e+05</td>\n",
       "      <td>2.360411e+07</td>\n",
       "    </tr>\n",
       "    <tr>\n",
       "      <th>75%</th>\n",
       "      <td>6.500000e+06</td>\n",
       "      <td>6.000000e+04</td>\n",
       "      <td>1.001880e+06</td>\n",
       "      <td>7.217508e+07</td>\n",
       "    </tr>\n",
       "    <tr>\n",
       "      <th>max</th>\n",
       "      <td>9.116890e+07</td>\n",
       "      <td>3.495000e+06</td>\n",
       "      <td>1.141925e+11</td>\n",
       "      <td>8.194464e+08</td>\n",
       "    </tr>\n",
       "  </tbody>\n",
       "</table>\n",
       "</div>"
      ],
      "text/plain": [
       "              Price    Total area      Lot Size           gdp\n",
       "count  8.880000e+03  4.753000e+03  8.031000e+03  6.162000e+03\n",
       "mean   5.852507e+06  5.567818e+04  2.346237e+07  6.326029e+07\n",
       "std    5.621658e+06  1.081533e+05  1.297266e+09  1.093706e+08\n",
       "min    8.499000e+03  0.000000e+00  1.700000e-01  1.840300e+04\n",
       "25%    3.375000e+06  1.073600e+04  6.316200e+04  6.305893e+06\n",
       "50%    4.414450e+06  2.796000e+04  2.395800e+05  2.360411e+07\n",
       "75%    6.500000e+06  6.000000e+04  1.001880e+06  7.217508e+07\n",
       "max    9.116890e+07  3.495000e+06  1.141925e+11  8.194464e+08"
      ]
     },
     "execution_count": 12,
     "metadata": {},
     "output_type": "execute_result"
    }
   ],
   "source": [
    "# Merge the variable GDP by county dataset with the commercial real estate dataset\n",
    "\n",
    "from uszipcode import SearchEngine\n",
    "search = SearchEngine(simple_zipcode=True)\n",
    "\n",
    "def gdp_lookup(x):\n",
    "    match = re.match(r\"^\\w+\\,\\s([A-Z]{2})\\s(\\d{5}).+$\", x)\n",
    "    if match:\n",
    "        zipcode = search.by_zipcode(match.group(2))\n",
    "        try:\n",
    "            county_name = zipcode.to_dict()['county'].replace(\" County\",\"\").replace(\" county\", \"\")\n",
    "            key = county_name + \", \" + match.group(1)\n",
    "            gdp = gdp_county[gdp_county[\"GeoName\"].str.match(key)]['All industry total'].tolist()[0]\n",
    "            if pd.isna(gdp):\n",
    "                return None\n",
    "            if isinstance(gdp, (float, int)):\n",
    "                return gdp\n",
    "            else:\n",
    "                return None\n",
    "        except:\n",
    "            #print(match.group(1)+' '+match.group(2))\n",
    "            return None\n",
    "        \n",
    "\n",
    "df_map['gdp'] = df_map['City'].apply(lambda x:gdp_lookup(x))\n",
    "df_map.describe()\n",
    "\n"
   ]
  },
  {
   "cell_type": "markdown",
   "metadata": {
    "cell_id": "00027-c12807a6-e9db-4d5b-83a1-aada15aaa08e",
    "deepnote_cell_type": "markdown",
    "tags": []
   },
   "source": [
    "- We must eliminate empty or NULL values in the dataset because these values are useless and obstructive to our conduction of regression analysis."
   ]
  },
  {
   "cell_type": "code",
   "execution_count": null,
   "metadata": {
    "cell_id": "00020-de6c5cf5-05d7-4369-a50e-7bf121fc3c45",
    "deepnote_cell_type": "code",
    "deepnote_to_be_reexecuted": false,
    "execution_millis": 78,
    "execution_start": 1620055452286,
    "source_hash": "5fd6d3a6",
    "tags": []
   },
   "outputs": [
    {
     "name": "stdout",
     "output_type": "stream",
     "text": [
      "Total area, first 10 entries, sorted: \n",
      "[0.0, 0.0, 0.0, 1.0, 10.0, 69.0, 432.0, 864.0, 885.0, 890.0]\n",
      "3926    0 SF\n",
      "6351    0 SF\n",
      "6667    0 SF\n",
      "8163    0 SF\n",
      "Name: Total area, dtype: object\n",
      "\n",
      "\n",
      "Lot Size, <= 10 SF, referenced back to the original data:\n"
     ]
    },
    {
     "data": {
      "application/vnd.deepnote.dataframe.v2+json": {
       "column_count": 16,
       "columns": [
        {
         "dtype": "object",
         "name": "Address",
         "stats": {
          "categories": [
           {
            "count": 1,
            "name": "3322 South Memorial Pkwy SW, Huntsville, AL, 35801"
           },
           {
            "count": 1,
            "name": "1821 Cherokee Ave SW, Cullman, AL, 35055"
           },
           {
            "count": 257,
            "name": "257 others"
           }
          ],
          "nan_count": 0,
          "unique_count": 259
         }
        },
        {
         "dtype": "object",
         "name": "City",
         "stats": {
          "categories": [
           {
            "count": 2,
            "name": "Meridian, ID 83642 ·"
           },
           {
            "count": 2,
            "name": "Rexburg, ID 83440 ·"
           },
           {
            "count": 255,
            "name": "246 others"
           }
          ],
          "nan_count": 0,
          "unique_count": 248
         }
        },
        {
         "dtype": "object",
         "name": "Owner Name",
         "stats": {
          "categories": [
           {
            "count": 259,
            "name": "Missing"
           }
          ],
          "nan_count": 259,
          "unique_count": 0
         }
        },
        {
         "dtype": "object",
         "name": "Mailing Address",
         "stats": {
          "categories": [
           {
            "count": 259,
            "name": "Missing"
           }
          ],
          "nan_count": 259,
          "unique_count": 0
         }
        },
        {
         "dtype": "float64",
         "name": "Price",
         "stats": {
          "histogram": [
           {
            "bin_end": 2452100,
            "bin_start": 169000,
            "count": 22
           },
           {
            "bin_end": 4735200,
            "bin_start": 2452100,
            "count": 133
           },
           {
            "bin_end": 7018300,
            "bin_start": 4735200,
            "count": 58
           },
           {
            "bin_end": 9301400,
            "bin_start": 7018300,
            "count": 16
           },
           {
            "bin_end": 11584500,
            "bin_start": 9301400,
            "count": 11
           },
           {
            "bin_end": 13867600,
            "bin_start": 11584500,
            "count": 11
           },
           {
            "bin_end": 16150700,
            "bin_start": 13867600,
            "count": 4
           },
           {
            "bin_end": 18433800,
            "bin_start": 16150700,
            "count": 3
           },
           {
            "bin_end": 20716900,
            "bin_start": 18433800,
            "count": 0
           },
           {
            "bin_end": 23000000,
            "bin_start": 20716900,
            "count": 1
           }
          ],
          "max": "23000000.0",
          "min": "169000.0",
          "nan_count": 0,
          "unique_count": 192
         }
        },
        {
         "dtype": "object",
         "name": "Number of Units",
         "stats": {
          "categories": [
           {
            "count": 249,
            "name": " "
           },
           {
            "count": 1,
            "name": "5"
           },
           {
            "count": 9,
            "name": "9 others"
           }
          ],
          "nan_count": 0,
          "unique_count": 11
         }
        },
        {
         "dtype": "object",
         "name": "Total area",
         "stats": {
          "categories": [
           {
            "count": 68,
            "name": " "
           },
           {
            "count": 6,
            "name": "30,000 SF"
           },
           {
            "count": 185,
            "name": "174 others"
           }
          ],
          "nan_count": 0,
          "unique_count": 176
         }
        },
        {
         "dtype": "object",
         "name": "Number Of Stories",
         "stats": {
          "categories": [
           {
            "count": 157,
            "name": " "
           },
           {
            "count": 70,
            "name": "1"
           },
           {
            "count": 32,
            "name": "5 others"
           }
          ],
          "nan_count": 0,
          "unique_count": 7
         }
        },
        {
         "dtype": "object",
         "name": "Lot Size",
         "stats": {
          "categories": [
           {
            "count": 4,
            "name": "1.01 SF"
           },
           {
            "count": 4,
            "name": "2 SF"
           },
           {
            "count": 251,
            "name": "214 others"
           }
          ],
          "nan_count": 0,
          "unique_count": 216
         }
        },
        {
         "dtype": "object",
         "name": "Type",
         "stats": {
          "categories": [
           {
            "count": 120,
            "name": "Retail"
           },
           {
            "count": 50,
            "name": "Office"
           },
           {
            "count": 89,
            "name": "6 others"
           }
          ],
          "nan_count": 0,
          "unique_count": 8
         }
        },
        {
         "dtype": "object",
         "name": "Year Built",
         "stats": {
          "categories": [
           {
            "count": 137,
            "name": " "
           },
           {
            "count": 11,
            "name": "2006"
           },
           {
            "count": 111,
            "name": "52 others"
           }
          ],
          "nan_count": 0,
          "unique_count": 54
         }
        },
        {
         "dtype": "object",
         "name": "location",
         "stats": {
          "categories": [
           {
            "count": 1,
            "name": "3322 S Memorial Pkwy, Huntsville, AL 35801, USA"
           },
           {
            "count": 1,
            "name": "1821 Cherokee Ave SW, Cullman, AL 35055, USA"
           },
           {
            "count": 257,
            "name": "257 others"
           }
          ],
          "nan_count": 0,
          "unique_count": 259
         }
        },
        {
         "dtype": "object",
         "name": "point",
         "stats": {
          "categories": [
           {
            "count": 1,
            "name": "['34.6973637', '-86.585054', '0.0']"
           },
           {
            "count": 1,
            "name": "['34.1541403', '-86.84123029999999', '0.0']"
           },
           {
            "count": 257,
            "name": "257 others"
           }
          ],
          "nan_count": 0,
          "unique_count": 259
         }
        },
        {
         "dtype": "object",
         "name": "latitude",
         "stats": {
          "categories": [
           {
            "count": 1,
            "name": "34.6973637"
           },
           {
            "count": 1,
            "name": "34.1541403"
           },
           {
            "count": 257,
            "name": "257 others"
           }
          ],
          "nan_count": 0,
          "unique_count": 259
         }
        },
        {
         "dtype": "object",
         "name": "longitude",
         "stats": {
          "categories": [
           {
            "count": 1,
            "name": "-86.585054"
           },
           {
            "count": 1,
            "name": "-86.84123029999999"
           },
           {
            "count": 257,
            "name": "257 others"
           }
          ],
          "nan_count": 0,
          "unique_count": 259
         }
        },
        {
         "dtype": "object",
         "name": "altitude",
         "stats": {
          "categories": [
           {
            "count": 259,
            "name": "0.0"
           }
          ],
          "nan_count": 0,
          "unique_count": 1
         }
        },
        {
         "dtype": "int64",
         "name": "_deepnote_index_column"
        }
       ],
       "row_count": 259,
       "rows_bottom": [
        {
         "Address": "41281 Park 290 Dr, Waller, TX, 77484",
         "City": "Waller, TX 77484 ·",
         "Lot Size": "2.46 SF",
         "Mailing Address": "nan",
         "Number Of Stories": " ",
         "Number of Units": " ",
         "Owner Name": "nan",
         "Price": 2220000,
         "Total area": "27,750 SF",
         "Type": "Industrial",
         "Year Built": " ",
         "_deepnote_index_column": 8070,
         "altitude": "0.0",
         "latitude": "30.0681551",
         "location": "41281 Park 290 Dr, Waller, TX 77484, USA",
         "longitude": "-95.94215109999999",
         "point": "['30.0681551', '-95.94215109999999', '0.0']"
        },
        {
         "Address": "415 N Main Street, Belton, TX, 76513",
         "City": "Belton, TX 76513 ·",
         "Lot Size": "0.40 SF",
         "Mailing Address": "nan",
         "Number Of Stories": " ",
         "Number of Units": " ",
         "Owner Name": "nan",
         "Price": 380000,
         "Total area": "4,400 SF",
         "Type": "Retail",
         "Year Built": " ",
         "_deepnote_index_column": 8109,
         "altitude": "0.0",
         "latitude": "31.0597495",
         "location": "415 N Main St, Belton, TX 76513, USA",
         "longitude": "-97.4622662",
         "point": "['31.0597495', '-97.4622662', '0.0']"
        },
        {
         "Address": "1914 Bandera Rd, San Antonio, TX, 78228",
         "City": "San Antonio, TX 78228 ·",
         "Lot Size": "1.26 SF",
         "Mailing Address": "nan",
         "Number Of Stories": "1",
         "Number of Units": " ",
         "Owner Name": "nan",
         "Price": 1632231,
         "Total area": "8,320 SF",
         "Type": "Retail",
         "Year Built": "2011",
         "_deepnote_index_column": 8160,
         "altitude": "0.0",
         "latitude": "29.4725232",
         "location": "1914 Bandera Rd, San Antonio, TX 78228, USA",
         "longitude": "-98.5757502",
         "point": "['29.4725232', '-98.5757502', '0.0']"
        },
        {
         "Address": "9716 Jensen Dr, Houston, TX, 77093",
         "City": "Houston, TX 77093 ·",
         "Lot Size": "1.67 SF",
         "Mailing Address": "nan",
         "Number Of Stories": "1",
         "Number of Units": " ",
         "Owner Name": "nan",
         "Price": 2234571,
         "Total area": "8,690 SF",
         "Type": "Office",
         "Year Built": "2008",
         "_deepnote_index_column": 8203,
         "altitude": "0.0",
         "latitude": "29.8520292",
         "location": "9716 Jensen Dr, Houston, TX 77093, USA",
         "longitude": "-95.34003179999999",
         "point": "['29.8520292', '-95.34003179999999', '0.0']"
        },
        {
         "Address": "1373 Gordon Avenue, Layton, UT, 84041",
         "City": "Layton, UT 84041 ·",
         "Lot Size": "5.40 SF",
         "Mailing Address": "nan",
         "Number Of Stories": " ",
         "Number of Units": " ",
         "Owner Name": "nan",
         "Price": 4040000,
         "Total area": "32,500 SF",
         "Type": "Industrial",
         "Year Built": "2006",
         "_deepnote_index_column": 8251,
         "altitude": "0.0",
         "latitude": "41.0742461",
         "location": "1373 W Gordon Ave, Layton, UT 84041, USA",
         "longitude": "-111.9900693",
         "point": "['41.0742461', '-111.9900693', '0.0']"
        },
        {
         "Address": "3949 E 200 E, Salt Lake City, UT, 84107",
         "City": "Salt Lake City, UT 84107 ·",
         "Lot Size": "1.37 SF",
         "Mailing Address": "nan",
         "Number Of Stories": "2",
         "Number of Units": " ",
         "Owner Name": "nan",
         "Price": 6000000,
         "Total area": "36,274 SF",
         "Type": "Office",
         "Year Built": "2001",
         "_deepnote_index_column": 8278,
         "altitude": "0.0",
         "latitude": "40.6854856",
         "location": "3949 S 200 E, Murray, UT 84107, USA",
         "longitude": "-111.8850381",
         "point": "['40.6854856', '-111.8850381', '0.0']"
        },
        {
         "Address": "7759 S 4800 W, West Jordan, UT, 84084",
         "City": "West Jordan, UT 84084 ·",
         "Lot Size": "3.89 SF",
         "Mailing Address": "nan",
         "Number Of Stories": " ",
         "Number of Units": " ",
         "Owner Name": "nan",
         "Price": 5400000,
         "Total area": " ",
         "Type": "Retail",
         "Year Built": "2009",
         "_deepnote_index_column": 8302,
         "altitude": "0.0",
         "latitude": "40.6103016",
         "location": "7759 S 4800 W, West Jordan, UT 84084, USA",
         "longitude": "-112.0053694",
         "point": "['40.6103016', '-112.0053694', '0.0']"
        },
        {
         "Address": "3125 S. State St., Salt Lake City, UT, 84115",
         "City": "Salt Lake City, UT 84115 ·",
         "Lot Size": "1.40 SF",
         "Mailing Address": "nan",
         "Number Of Stories": "2",
         "Number of Units": " ",
         "Owner Name": "nan",
         "Price": 3100000,
         "Total area": "46,420 SF",
         "Type": "Retail",
         "Year Built": "1978",
         "_deepnote_index_column": 8304,
         "altitude": "0.0",
         "latitude": "40.7028525",
         "location": "3125 S State St, South Salt Lake, UT 84115, USA",
         "longitude": "-111.8877561",
         "point": "['40.7028525', '-111.8877561', '0.0']"
        },
        {
         "Address": "859 West 1050 South, Ogden, UT, 84404",
         "City": "Ogden, UT 84404 ·",
         "Lot Size": "8.04 SF",
         "Mailing Address": "nan",
         "Number Of Stories": " ",
         "Number of Units": " ",
         "Owner Name": "nan",
         "Price": 9000000,
         "Total area": "95,428 SF",
         "Type": "Industrial",
         "Year Built": "2010",
         "_deepnote_index_column": 8312,
         "altitude": "0.0",
         "latitude": "41.2461211",
         "location": "859 W 1050 S, Ogden, UT 84404, USA",
         "longitude": "-111.9982667",
         "point": "['41.2461211', '-111.9982667', '0.0']"
        },
        {
         "Address": "4282 West 1730 South, Salt Lake City, UT, 84106",
         "City": "Salt Lake City, UT 84106 ·",
         "Lot Size": "7.13 SF",
         "Mailing Address": "nan",
         "Number Of Stories": " ",
         "Number of Units": " ",
         "Owner Name": "nan",
         "Price": 5200000,
         "Total area": "55,813 SF",
         "Type": "Industrial",
         "Year Built": "1982",
         "_deepnote_index_column": 8341,
         "altitude": "0.0",
         "latitude": "40.7332907",
         "location": "4282 W 1730 S, Salt Lake City, UT 84104, USA",
         "longitude": "-111.9937022",
         "point": "['40.7332907', '-111.9937022', '0.0']"
        },
        {
         "Address": "1660 W Antelope Dr, Layton, UT, 84041",
         "City": "Layton, UT 84041 ·",
         "Lot Size": "2.11 SF",
         "Mailing Address": "nan",
         "Number Of Stories": " ",
         "Number of Units": " ",
         "Owner Name": "nan",
         "Price": 4200000,
         "Total area": "31,410 SF",
         "Type": "Office",
         "Year Built": " ",
         "_deepnote_index_column": 8348,
         "altitude": "0.0",
         "latitude": "41.089512",
         "location": "1660 Antelope Dr, Layton, UT 84041, USA",
         "longitude": "-111.996859",
         "point": "['41.089512', '-111.996859', '0.0']"
        },
        {
         "Address": "1245 East Brickyard Road, Salt Lake City, UT, 84106",
         "City": "Salt Lake City, UT 84106 ·",
         "Lot Size": "1.10 SF",
         "Mailing Address": "nan",
         "Number Of Stories": " ",
         "Number of Units": " ",
         "Owner Name": "nan",
         "Price": 14350000,
         "Total area": "93,681 SF",
         "Type": "Office",
         "Year Built": " ",
         "_deepnote_index_column": 8351,
         "altitude": "0.0",
         "latitude": "40.7029122",
         "location": "1245 Brickyard Rd, Salt Lake City, UT 84106, USA",
         "longitude": "-111.8566257",
         "point": "['40.7029122', '-111.8566257', '0.0']"
        },
        {
         "Address": "1890 S 1350 W, Ogden, UT, 84401",
         "City": "Ogden, UT 84401 ·",
         "Lot Size": "5.16 SF",
         "Mailing Address": "nan",
         "Number Of Stories": " ",
         "Number of Units": " ",
         "Owner Name": "nan",
         "Price": 6400000,
         "Total area": "33,108 SF",
         "Type": "Office",
         "Year Built": " ",
         "_deepnote_index_column": 8366,
         "altitude": "0.0",
         "latitude": "41.2328436",
         "location": "1890 S 1350 W, West Haven, UT 84401, USA",
         "longitude": "-112.0113711",
         "point": "['41.2328436', '-112.0113711', '0.0']"
        },
        {
         "Address": "383 W. Vine St, Murray, UT, 84123",
         "City": "Murray, UT 84123 ·",
         "Lot Size": "5.90 SF",
         "Mailing Address": "nan",
         "Number Of Stories": " ",
         "Number of Units": " ",
         "Owner Name": "nan",
         "Price": 18300000,
         "Total area": "83,762 SF",
         "Type": "Office",
         "Year Built": " ",
         "_deepnote_index_column": 8390,
         "altitude": "0.0",
         "latitude": "40.6595456",
         "location": "383 W Vine St, Salt Lake City, UT 84123, USA",
         "longitude": "-111.9020389",
         "point": "['40.6595456', '-111.9020389', '0.0']"
        },
        {
         "Address": "380 South Technology Court, Lindon, UT, 84042",
         "City": "Lindon, UT 84042 ·",
         "Lot Size": "6.84 SF",
         "Mailing Address": "nan",
         "Number Of Stories": "2",
         "Number of Units": " ",
         "Owner Name": "nan",
         "Price": 17950000,
         "Total area": "87,898 SF",
         "Type": "Office",
         "Year Built": " ",
         "_deepnote_index_column": 8399,
         "altitude": "0.0",
         "latitude": "40.3310453",
         "location": "380 S 670 W, Lindon, UT 84042, USA",
         "longitude": "-111.7322151",
         "point": "['40.3310453', '-111.7322151', '0.0']"
        },
        {
         "Address": "310 N 850 E, Lehi, UT, 84043",
         "City": "Lehi, UT 84043 ·",
         "Lot Size": "2.01 SF",
         "Mailing Address": "nan",
         "Number Of Stories": " ",
         "Number of Units": " ",
         "Owner Name": "nan",
         "Price": 4300000,
         "Total area": " ",
         "Type": "Retail",
         "Year Built": "2006",
         "_deepnote_index_column": 8434,
         "altitude": "0.0",
         "latitude": "40.3915669",
         "location": "310 N 850 E, Lehi, UT 84043, USA",
         "longitude": "-111.8361313",
         "point": "['40.3915669', '-111.8361313', '0.0']"
        },
        {
         "Address": "1140 Azalea Garden Rd, Norfolk, VA, 23502",
         "City": "Norfolk, VA 23502 ·",
         "Lot Size": "6.27 SF",
         "Mailing Address": "nan",
         "Number Of Stories": "1",
         "Number of Units": " ",
         "Owner Name": "nan",
         "Price": 4100000,
         "Total area": "65,700 SF",
         "Type": "Industrial",
         "Year Built": "1979",
         "_deepnote_index_column": 8445,
         "altitude": "0.0",
         "latitude": "36.8592949",
         "location": "1140 Azalea Garden Rd, Norfolk, VA 23502, USA",
         "longitude": "-76.2325225",
         "point": "['36.8592949', '-76.2325225', '0.0']"
        },
        {
         "Address": "4046 Wards Rd, Lynchburg, VA, 24502",
         "City": "Lynchburg, VA 24502 ·",
         "Lot Size": "2.44 SF",
         "Mailing Address": "nan",
         "Number Of Stories": "1",
         "Number of Units": " ",
         "Owner Name": "nan",
         "Price": 3990000,
         "Total area": "7,958 SF",
         "Type": "Retail",
         "Year Built": "2001",
         "_deepnote_index_column": 8560,
         "altitude": "0.0",
         "latitude": "37.343642",
         "location": "4046 Wards Rd, Lynchburg, VA 24502, USA",
         "longitude": "-79.1901661",
         "point": "['37.343642', '-79.1901661', '0.0']"
        },
        {
         "Address": "320 Hope Drive, Winchester, VA, 22601",
         "City": "Winchester, VA 22601 ·",
         "Lot Size": "2.58 SF",
         "Mailing Address": "nan",
         "Number Of Stories": " ",
         "Number of Units": " ",
         "Owner Name": "nan",
         "Price": 3850000,
         "Total area": " ",
         "Type": "Retail",
         "Year Built": "2010",
         "_deepnote_index_column": 8654,
         "altitude": "0.0",
         "latitude": "39.158116",
         "location": "320 Hope Dr, Winchester, VA 22601, USA",
         "longitude": "-78.182768",
         "point": "['39.158116', '-78.182768', '0.0']"
        },
        {
         "Address": "30 Blackjack Road, Fredericksburg, VA, 22405",
         "City": "Fredericksburg, VA 22405 ·",
         "Lot Size": "3 SF",
         "Mailing Address": "nan",
         "Number Of Stories": " ",
         "Number of Units": " ",
         "Owner Name": "nan",
         "Price": 3375000,
         "Total area": " ",
         "Type": "Industrial",
         "Year Built": "2006",
         "_deepnote_index_column": 8660,
         "altitude": "0.0",
         "latitude": "38.3866606",
         "location": "30 Blackjack Rd, Fredericksburg, VA 22405, USA",
         "longitude": "-77.4439773",
         "point": "['38.3866606', '-77.4439773', '0.0']"
        },
        {
         "Address": "1345 Deming Way, Middleton, WI, 53562",
         "City": "Middleton, WI 53562 ·",
         "Lot Size": "3.76 SF",
         "Mailing Address": "nan",
         "Number Of Stories": "2",
         "Number of Units": " ",
         "Owner Name": "nan",
         "Price": 4250000,
         "Total area": "31,460 SF",
         "Type": "Office",
         "Year Built": "2009",
         "_deepnote_index_column": 8707,
         "altitude": "0.0",
         "latitude": "43.0877681",
         "location": "1345 Deming Way, Middleton, WI 53562, USA",
         "longitude": "-89.5271405",
         "point": "['43.0877681', '-89.5271405', '0.0']"
        },
        {
         "Address": "Lake Delton, Lake Delton, WI, 53940",
         "City": "Lake Delton, WI 53940 ·",
         "Lot Size": "4.20 SF",
         "Mailing Address": "nan",
         "Number Of Stories": " ",
         "Number of Units": " ",
         "Owner Name": "nan",
         "Price": 7200000,
         "Total area": "68,707 SF",
         "Type": "Hotel & Motel",
         "Year Built": " ",
         "_deepnote_index_column": 8792,
         "altitude": "0.0",
         "latitude": "43.5903864",
         "location": "Lake Delton, WI 53940, USA",
         "longitude": "-89.79297079999999",
         "point": "['43.5903864', '-89.79297079999999', '0.0']"
        },
        {
         "Address": "1784-1794 Plover Rd, Plover, WI, 54467",
         "City": "Plover, WI 54467 ·",
         "Lot Size": "6.25 SF",
         "Mailing Address": "nan",
         "Number Of Stories": " ",
         "Number of Units": " ",
         "Owner Name": "nan",
         "Price": 6200000,
         "Total area": " ",
         "Type": "Retail",
         "Year Built": "2001",
         "_deepnote_index_column": 8796,
         "altitude": "0.0",
         "latitude": "44.4559673",
         "location": "1784 Plover Rd, Plover, WI 54467, USA",
         "longitude": "-89.5245355",
         "point": "['44.4559673', '-89.5245355', '0.0']"
        },
        {
         "Address": "1029-1041 W State St, River Falls, WI, 54022",
         "City": "River Falls, WI 54022 ·",
         "Lot Size": "5.08 SF",
         "Mailing Address": "nan",
         "Number Of Stories": "2",
         "Number of Units": "64",
         "Owner Name": "nan",
         "Price": 3500000,
         "Total area": "49,960 SF",
         "Type": "Multifamily",
         "Year Built": " ",
         "_deepnote_index_column": 8819,
         "altitude": "0.0",
         "latitude": "44.8472215",
         "location": "1029 State St, River Falls, WI 54022, USA",
         "longitude": "-92.6314495",
         "point": "['44.8472215', '-92.6314495', '0.0']"
        },
        {
         "Address": "3470 Gateway Road, Brookfield, WI, 53045",
         "City": "Brookfield, WI 53045 ·",
         "Lot Size": "2.74 SF",
         "Mailing Address": "nan",
         "Number Of Stories": " ",
         "Number of Units": " ",
         "Owner Name": "nan",
         "Price": 5000000,
         "Total area": "9,962 SF",
         "Type": "Retail",
         "Year Built": " ",
         "_deepnote_index_column": 8831,
         "altitude": "0.0",
         "latitude": "43.0820648",
         "location": "3470 Gateway Rd, Brookfield, WI 53045, USA",
         "longitude": "-88.180431",
         "point": "['43.0820648', '-88.180431', '0.0']"
        },
        {
         "Address": "3404-3456 W College Ave, Appleton, WI, 54914",
         "City": "Appleton, WI 54914 ·",
         "Lot Size": "5.05 SF",
         "Mailing Address": "nan",
         "Number Of Stories": " ",
         "Number of Units": " ",
         "Owner Name": "nan",
         "Price": 5862886,
         "Total area": " ",
         "Type": "Retail",
         "Year Built": " ",
         "_deepnote_index_column": 8833,
         "altitude": "0.0",
         "latitude": "44.2635996",
         "location": "3404 W College Ave, Appleton, WI 54914, USA",
         "longitude": "-88.4574105",
         "point": "['44.2635996', '-88.4574105', '0.0']"
        },
        {
         "Address": "1313-1327 Plaza East, Charleston, WV, 25301",
         "City": "Charleston, WV 25301 ·",
         "Lot Size": "6.38 SF",
         "Mailing Address": "nan",
         "Number Of Stories": "1",
         "Number of Units": " ",
         "Owner Name": "nan",
         "Price": 7000000,
         "Total area": " ",
         "Type": "Retail",
         "Year Built": " ",
         "_deepnote_index_column": 8839,
         "altitude": "0.0",
         "latitude": "38.3473616",
         "location": "1313-1327 Plaza East, Charleston, WV 25301, USA",
         "longitude": "-81.6230289",
         "point": "['38.3473616', '-81.6230289', '0.0']"
        },
        {
         "Address": "2502 Melodi Ln, Casper, WY, 82601",
         "City": "Casper, WY 82601 ·",
         "Lot Size": "7.03 SF",
         "Mailing Address": "nan",
         "Number Of Stories": " ",
         "Number of Units": " ",
         "Owner Name": "nan",
         "Price": 1840000,
         "Total area": "17,720 SF",
         "Type": "Industrial",
         "Year Built": "1977",
         "_deepnote_index_column": 8889,
         "altitude": "0.0",
         "latitude": "42.8919936",
         "location": "2502 Melodi Ln, Casper, WY 82601, USA",
         "longitude": "-106.3533236",
         "point": "['42.8919936', '-106.3533236', '0.0']"
        },
        {
         "Address": "528 County Rd, Evanston, WY, 82930",
         "City": "Evanston, WY 82930 ·",
         "Lot Size": "1.26 SF",
         "Mailing Address": "nan",
         "Number Of Stories": " ",
         "Number of Units": " ",
         "Owner Name": "nan",
         "Price": 1000000,
         "Total area": " ",
         "Type": "Retail",
         "Year Built": " ",
         "_deepnote_index_column": 8944,
         "altitude": "0.0",
         "latitude": "41.2826667",
         "location": "528 County Rd, Evanston, WY 82930, USA",
         "longitude": "-110.9617006",
         "point": "['41.2826667', '-110.9617006', '0.0']"
        },
        {
         "Address": "5441 Swanson Rd, Gillette, WY, 82718",
         "City": "Gillette, WY 82718 ·",
         "Lot Size": "0.62 SF",
         "Mailing Address": "nan",
         "Number Of Stories": " ",
         "Number of Units": " ",
         "Owner Name": "nan",
         "Price": 690000,
         "Total area": "7,750 SF",
         "Type": "Industrial",
         "Year Built": " ",
         "_deepnote_index_column": 9040,
         "altitude": "0.0",
         "latitude": "44.2444924",
         "location": "5441 Swanson Rd, Gillette, WY 82718, USA",
         "longitude": "-105.478833",
         "point": "['44.2444924', '-105.478833', '0.0']"
        },
        {
         "Address": "1775 Gabrielle Ct, Sheridan, WY, 82801",
         "City": "Sheridan, WY 82801 ·",
         "Lot Size": "1.35 SF",
         "Mailing Address": "nan",
         "Number Of Stories": " ",
         "Number of Units": " ",
         "Owner Name": "nan",
         "Price": 205975,
         "Total area": " ",
         "Type": "Industrial",
         "Year Built": " ",
         "_deepnote_index_column": 9075,
         "altitude": "0.0",
         "latitude": "44.7966647",
         "location": "1775 Gabrielle Ct, Sheridan, WY 82801, USA",
         "longitude": "-106.9306484",
         "point": "['44.7966647', '-106.9306484', '0.0']"
        }
       ],
       "rows_top": [
        {
         "Address": "3322 South Memorial Pkwy SW, Huntsville, AL, 35801",
         "City": "Huntsville, AL 35801 ·",
         "Lot Size": "6.08 SF",
         "Mailing Address": "nan",
         "Number Of Stories": " ",
         "Number of Units": " ",
         "Owner Name": "nan",
         "Price": 5800000,
         "Total area": "90,546 SF",
         "Type": "Office",
         "Year Built": "1961",
         "_deepnote_index_column": 99,
         "altitude": "0.0",
         "latitude": "34.6973637",
         "location": "3322 S Memorial Pkwy, Huntsville, AL 35801, USA",
         "longitude": "-86.585054",
         "point": "['34.6973637', '-86.585054', '0.0']"
        },
        {
         "Address": "1821 Cherokee Ave SW, Cullman, AL, 35055",
         "City": "Cullman, AL 35055 ·",
         "Lot Size": "1.06 SF",
         "Mailing Address": "nan",
         "Number Of Stories": "1",
         "Number of Units": " ",
         "Owner Name": "nan",
         "Price": 3876923,
         "Total area": "7,700 SF",
         "Type": "Retail",
         "Year Built": "2015",
         "_deepnote_index_column": 102,
         "altitude": "0.0",
         "latitude": "34.1541403",
         "location": "1821 Cherokee Ave SW, Cullman, AL 35055, USA",
         "longitude": "-86.84123029999999",
         "point": "['34.1541403', '-86.84123029999999', '0.0']"
        },
        {
         "Address": "5805 Rogers Avenue, Fort Smith, AR, 72903",
         "City": "Fort Smith, AR 72903 ·",
         "Lot Size": "2.32 SF",
         "Mailing Address": "nan",
         "Number Of Stories": " ",
         "Number of Units": " ",
         "Owner Name": "nan",
         "Price": 5865000,
         "Total area": "22,000 SF",
         "Type": "Retail",
         "Year Built": "2016",
         "_deepnote_index_column": 209,
         "altitude": "0.0",
         "latitude": "35.360998",
         "location": "5805 Rogers Ave, Fort Smith, AR 72903, USA",
         "longitude": "-94.36811639999999",
         "point": "['35.360998', '-94.36811639999999', '0.0']"
        },
        {
         "Address": "866 S. 48th Street, Springdale, AR, 72762",
         "City": "Springdale, AR 72762 ·",
         "Lot Size": "1.89 SF",
         "Mailing Address": "nan",
         "Number Of Stories": " ",
         "Number of Units": " ",
         "Owner Name": "nan",
         "Price": 3500000,
         "Total area": "21,000 SF",
         "Type": "Retail",
         "Year Built": " ",
         "_deepnote_index_column": 239,
         "altitude": "0.0",
         "latitude": "36.1783662",
         "location": "866 S 48th St, Springdale, AR 72762, USA",
         "longitude": "-94.1855372",
         "point": "['36.1783662', '-94.1855372', '0.0']"
        },
        {
         "Address": "3700 E. Johnson Avenue, Jonesboro, AR, 72401",
         "City": "Jonesboro, AR 72401 ·",
         "Lot Size": "2 - 5.63 SF",
         "Mailing Address": "nan",
         "Number Of Stories": " ",
         "Number of Units": " ",
         "Owner Name": "nan",
         "Price": 3433402,
         "Total area": " ",
         "Type": "Land",
         "Year Built": " ",
         "_deepnote_index_column": 242,
         "altitude": "0.0",
         "latitude": "35.859609",
         "location": "3700 E Johnson Ave, Jonesboro, AR 72401, USA",
         "longitude": "-90.653826",
         "point": "['35.859609', '-90.653826', '0.0']"
        },
        {
         "Address": "20351 N. Lake Pleasant Road, Peoria, AZ, 85382",
         "City": "Peoria, AZ 85382 ·",
         "Lot Size": "8.36 SF",
         "Mailing Address": "nan",
         "Number Of Stories": "1",
         "Number of Units": " ",
         "Owner Name": "nan",
         "Price": 11000000,
         "Total area": " ",
         "Type": "Retail",
         "Year Built": "2003",
         "_deepnote_index_column": 421,
         "altitude": "0.0",
         "latitude": "33.6683807",
         "location": "20351 N Lake Pleasant Rd, Peoria, AZ 85382, USA",
         "longitude": "-112.2780799",
         "point": "['33.6683807', '-112.2780799', '0.0']"
        },
        {
         "Address": "13250 North Del Webb Boulevard, Sun City, AZ, 85351",
         "City": "Sun City, AZ 85351 ·",
         "Lot Size": "1.01 SF",
         "Mailing Address": "nan",
         "Number Of Stories": " ",
         "Number of Units": " ",
         "Owner Name": "nan",
         "Price": 4590000,
         "Total area": "7,537 SF",
         "Type": "Retail",
         "Year Built": " ",
         "_deepnote_index_column": 429,
         "altitude": "0.0",
         "latitude": "33.6052999",
         "location": "13250 N Del Webb Blvd, Sun City, AZ 85351, USA",
         "longitude": "-112.2900484",
         "point": "['33.6052999', '-112.2900484', '0.0']"
        },
        {
         "Address": "13810 W Camelback Rd, Litchfield Park, AZ, 85340",
         "City": "Litchfield Park, AZ 85340 ·",
         "Lot Size": "2.55 SF",
         "Mailing Address": "nan",
         "Number Of Stories": " ",
         "Number of Units": " ",
         "Owner Name": "nan",
         "Price": 9735000,
         "Total area": " ",
         "Type": "Retail",
         "Year Built": " ",
         "_deepnote_index_column": 582,
         "altitude": "0.0",
         "latitude": "33.5083017",
         "location": "13810 W Camelback Rd, Litchfield Park, AZ 85340, USA",
         "longitude": "-112.3565889",
         "point": "['33.5083017', '-112.3565889', '0.0']"
        },
        {
         "Address": "4232 W. Bell Road, Glendale, AZ, 85308",
         "City": "Glendale, AZ 85308 ·",
         "Lot Size": "5.93 SF",
         "Mailing Address": "nan",
         "Number Of Stories": "1",
         "Number of Units": " ",
         "Owner Name": "nan",
         "Price": 7684000,
         "Total area": " ",
         "Type": "Retail",
         "Year Built": "2002",
         "_deepnote_index_column": 597,
         "altitude": "0.0",
         "latitude": "33.6399444",
         "location": "4232 W Bell Rd, Glendale, AZ 85308, USA",
         "longitude": "-112.1497746",
         "point": "['33.6399444', '-112.1497746', '0.0']"
        },
        {
         "Address": "123 N San Francisco, Flagstaff, AZ, 86001",
         "City": "Flagstaff, AZ 86001 ·",
         "Lot Size": "0.43 SF",
         "Mailing Address": "nan",
         "Number Of Stories": "4",
         "Number of Units": " ",
         "Owner Name": "nan",
         "Price": 6600000,
         "Total area": "40,000 SF",
         "Type": "Office",
         "Year Built": "1915",
         "_deepnote_index_column": 629,
         "altitude": "0.0",
         "latitude": "35.1989549",
         "location": "123 N San Francisco St, Flagstaff, AZ 86001, USA",
         "longitude": "-111.6475806",
         "point": "['35.1989549', '-111.6475806', '0.0']"
        },
        {
         "Address": "4860 E Highway 90, Sierra Vista, AZ, 85635",
         "City": "Sierra Vista, AZ 85635 ·",
         "Lot Size": "3.26 SF",
         "Mailing Address": "nan",
         "Number Of Stories": "1",
         "Number of Units": " ",
         "Owner Name": "nan",
         "Price": 4282000,
         "Total area": "21,930 SF",
         "Type": "Retail",
         "Year Built": "2013",
         "_deepnote_index_column": 696,
         "altitude": "0.0",
         "latitude": "31.5538141",
         "location": "4860 AZ-90, Sierra Vista, AZ 85635, USA",
         "longitude": "-110.2477579",
         "point": "['31.5538141', '-110.2477579', '0.0']"
        },
        {
         "Address": "63-67 N Broadway, Chula Vista, CA, 91910",
         "City": "Chula Vista, CA 91910 ·",
         "Lot Size": "0.93 SF",
         "Mailing Address": "nan",
         "Number Of Stories": "1",
         "Number of Units": " ",
         "Owner Name": "nan",
         "Price": 4500000,
         "Total area": " ",
         "Type": "Retail",
         "Year Built": "1995",
         "_deepnote_index_column": 796,
         "altitude": "0.0",
         "latitude": "32.6512393",
         "location": "63 Broadway, Chula Vista, CA 91910, USA",
         "longitude": "-117.0949137",
         "point": "['32.6512393', '-117.0949137', '0.0']"
        },
        {
         "Address": "969 Lakeview Ave, South Lake Tahoe, CA, 96150",
         "City": "South Lake Tahoe, CA 96150 ·",
         "Lot Size": "0.52 SF",
         "Mailing Address": "nan",
         "Number Of Stories": " ",
         "Number of Units": "5",
         "Owner Name": "nan",
         "Price": 3950000,
         "Total area": "14,400 SF",
         "Type": "Multifamily",
         "Year Built": " ",
         "_deepnote_index_column": 825,
         "altitude": "0.0",
         "latitude": "38.9442781",
         "location": "969 Lakeview Ave, South Lake Tahoe, CA 96150, USA",
         "longitude": "-119.9789088",
         "point": "['38.9442781', '-119.9789088', '0.0']"
        },
        {
         "Address": "15918 Little Valley Rd, Grass Valley, CA, 95949",
         "City": "Grass Valley, CA 95949 ·",
         "Lot Size": "2.74 SF",
         "Mailing Address": "nan",
         "Number Of Stories": "1",
         "Number of Units": " ",
         "Owner Name": "nan",
         "Price": 3800000,
         "Total area": "33,964 SF",
         "Type": "Industrial",
         "Year Built": "2004",
         "_deepnote_index_column": 862,
         "altitude": "0.0",
         "latitude": "39.1381773",
         "location": "15918 Little Valley Rd, Grass Valley, CA 95949, USA",
         "longitude": "-121.0710865",
         "point": "['39.1381773', '-121.0710865', '0.0']"
        },
        {
         "Address": "1400 Howe Avenue, Sacramento, CA, 95825",
         "City": "Sacramento, CA 95825 ·",
         "Lot Size": "2.80 SF",
         "Mailing Address": "nan",
         "Number Of Stories": " ",
         "Number of Units": " ",
         "Owner Name": "nan",
         "Price": 7475410,
         "Total area": "9,200 SF",
         "Type": "Retail",
         "Year Built": " ",
         "_deepnote_index_column": 877,
         "altitude": "0.0",
         "latitude": "38.5911215",
         "location": "1400 Howe Ave, Sacramento, CA 95825, USA",
         "longitude": "-121.4148136",
         "point": "['38.5911215', '-121.4148136', '0.0']"
        },
        {
         "Address": "58709 Twentynine Palms Highway, Yucca Valley, CA, 92284",
         "City": "Yucca Valley, CA 92284 ·",
         "Lot Size": "0.99 SF",
         "Mailing Address": "nan",
         "Number Of Stories": "1",
         "Number of Units": " ",
         "Owner Name": "nan",
         "Price": 3200000,
         "Total area": "7,544 SF",
         "Type": "Retail",
         "Year Built": "2016",
         "_deepnote_index_column": 955,
         "altitude": "0.0",
         "latitude": "34.1340161",
         "location": "58709 Twentynine Palms Highway, Yucca Valley, CA 92284, USA",
         "longitude": "-116.3826392",
         "point": "['34.1340161', '-116.3826392', '0.0']"
        },
        {
         "Address": "Collier Ave & 3rd St, Lake Elsinore, CA, 92530",
         "City": "Lake Elsinore, CA 92530 ·",
         "Lot Size": "6.97 SF",
         "Mailing Address": "nan",
         "Number Of Stories": " ",
         "Number of Units": " ",
         "Owner Name": "nan",
         "Price": 3600000,
         "Total area": " ",
         "Type": "Land",
         "Year Built": " ",
         "_deepnote_index_column": 967,
         "altitude": "0.0",
         "latitude": "33.6877233",
         "location": "Collier Ave & 3rd St, Lake Elsinore, CA 92530, USA",
         "longitude": "-117.3364712",
         "point": "['33.6877233', '-117.3364712', '0.0']"
        },
        {
         "Address": "252 W Los Angeles Ave, Moorpark, CA, 93021",
         "City": "Moorpark, CA 93021 ·",
         "Lot Size": "1.69 SF",
         "Mailing Address": "nan",
         "Number Of Stories": " ",
         "Number of Units": " ",
         "Owner Name": "nan",
         "Price": 8390000,
         "Total area": " ",
         "Type": "Retail",
         "Year Built": "2007",
         "_deepnote_index_column": 1106,
         "altitude": "0.0",
         "latitude": "34.2852777",
         "location": "252 W Los Angeles Ave, Simi Valley, CA 93065, USA",
         "longitude": "-118.8061418",
         "point": "['34.2852777', '-118.8061418', '0.0']"
        },
        {
         "Address": "606 West Holt Blvd., Ontario, CA, 91762",
         "City": "Ontario, CA 91762 ·",
         "Lot Size": "1.96 SF",
         "Mailing Address": "nan",
         "Number Of Stories": " ",
         "Number of Units": " ",
         "Owner Name": "nan",
         "Price": 4775000,
         "Total area": "21,964 SF",
         "Type": "Retail",
         "Year Built": " ",
         "_deepnote_index_column": 1136,
         "altitude": "0.0",
         "latitude": "34.0642719",
         "location": "606 W Holt Blvd, Ontario, CA 91762, USA",
         "longitude": "-117.658427",
         "point": "['34.0642719', '-117.658427', '0.0']"
        },
        {
         "Address": "2325 23rd Ave, Greeley, CO, 80634",
         "City": "Greeley, CO 80634 ·",
         "Lot Size": "4.36 SF",
         "Mailing Address": "nan",
         "Number Of Stories": " ",
         "Number of Units": " ",
         "Owner Name": "nan",
         "Price": 8358140,
         "Total area": " ",
         "Type": "Retail",
         "Year Built": " ",
         "_deepnote_index_column": 1166,
         "altitude": "0.0",
         "latitude": "40.39961170000001",
         "location": "2325 23rd Ave, Greeley, CO 80634, USA",
         "longitude": "-104.717551",
         "point": "['40.39961170000001', '-104.717551', '0.0']"
        },
        {
         "Address": "12240 Lioness Pl, Castle Rock, CO, 80108",
         "City": "Castle Rock, CO 80108 ·",
         "Lot Size": "1.04 SF",
         "Mailing Address": "nan",
         "Number Of Stories": "1",
         "Number of Units": " ",
         "Owner Name": "nan",
         "Price": 3050000,
         "Total area": "8,739 SF",
         "Type": "Office",
         "Year Built": "2006",
         "_deepnote_index_column": 1276,
         "altitude": "0.0",
         "latitude": "39.5358846",
         "location": "12240 Lioness Pl, Parker, CO 80134, USA",
         "longitude": "-104.8486177",
         "point": "['39.5358846', '-104.8486177', '0.0']"
        },
        {
         "Address": "4615 Foreign Trade Zone Blvd, Colorado Springs, CO, 80925",
         "City": "Colorado Springs, CO 80925 ·",
         "Lot Size": "6.40 SF",
         "Mailing Address": "nan",
         "Number Of Stories": " ",
         "Number of Units": " ",
         "Owner Name": "nan",
         "Price": 11900000,
         "Total area": "85,176 SF",
         "Type": "Office",
         "Year Built": " ",
         "_deepnote_index_column": 1368,
         "altitude": "0.0",
         "latitude": "38.7645709",
         "location": "4615 Foreign Trade Zone Blvd, Colorado Springs, CO 80925, USA",
         "longitude": "-104.668103",
         "point": "['38.7645709', '-104.668103', '0.0']"
        },
        {
         "Address": "420-430 Gregory St, Central City, CO, 80427",
         "City": "Central City, CO 80427 ·",
         "Lot Size": "3.74 SF",
         "Mailing Address": "nan",
         "Number Of Stories": " ",
         "Number of Units": " ",
         "Owner Name": "nan",
         "Price": 3900000,
         "Total area": "339,000 SF",
         "Type": "Special Purpose",
         "Year Built": " ",
         "_deepnote_index_column": 1388,
         "altitude": "0.0",
         "latitude": "39.8002622",
         "location": "420 Gregory St, Central City, CO 80427, USA",
         "longitude": "-105.4993235",
         "point": "['39.8002622', '-105.4993235', '0.0']"
        },
        {
         "Address": "7340 S Clinton St, Englewood, CO, 80112",
         "City": "Englewood, CO 80112 ·",
         "Lot Size": "1.41 SF",
         "Mailing Address": "nan",
         "Number Of Stories": "1",
         "Number of Units": " ",
         "Owner Name": "nan",
         "Price": 3325000,
         "Total area": "8,644 SF",
         "Type": "Retail",
         "Year Built": "1998",
         "_deepnote_index_column": 1426,
         "altitude": "0.0",
         "latitude": "39.5831328",
         "location": "7340 S Clinton St, Englewood, CO 80112, USA",
         "longitude": "-104.8766121",
         "point": "['39.5831328', '-104.8766121', '0.0']"
        },
        {
         "Address": "696 West Avenue, Norwalk, CT, 06850",
         "City": "Norwalk, CT 06850 ·",
         "Lot Size": "1.01 SF",
         "Mailing Address": "nan",
         "Number Of Stories": " ",
         "Number of Units": " ",
         "Owner Name": "nan",
         "Price": 9500000,
         "Total area": " ",
         "Type": "Retail",
         "Year Built": " ",
         "_deepnote_index_column": 1449,
         "altitude": "0.0",
         "latitude": "41.1151002",
         "location": "696 West Ave, Norwalk, CT 06850, USA",
         "longitude": "-73.41548879999999",
         "point": "['41.1151002', '-73.41548879999999', '0.0']"
        },
        {
         "Address": "212 White St, Danbury, CT, 06810",
         "City": "Danbury, CT 06810 ·",
         "Lot Size": "3.32 SF",
         "Mailing Address": "nan",
         "Number Of Stories": " ",
         "Number of Units": " ",
         "Owner Name": "nan",
         "Price": 3500000,
         "Total area": "49,000 SF",
         "Type": "Retail",
         "Year Built": " ",
         "_deepnote_index_column": 1485,
         "altitude": "0.0",
         "latitude": "41.39901750000001",
         "location": "212 White St, Danbury, CT 06810, USA",
         "longitude": "-73.4413167",
         "point": "['41.39901750000001', '-73.4413167', '0.0']"
        },
        {
         "Address": "111 E. Bridgers Ave, Auburndale, FL, 33823",
         "City": "Auburndale, FL 33823 ·",
         "Lot Size": "0.71 SF",
         "Mailing Address": "nan",
         "Number Of Stories": "1",
         "Number of Units": " ",
         "Owner Name": "nan",
         "Price": 250000,
         "Total area": "3,720 SF",
         "Type": "Office",
         "Year Built": "1990",
         "_deepnote_index_column": 1593,
         "altitude": "0.0",
         "latitude": "28.0625809",
         "location": "111 E Bridgers Ave, Auburndale, FL 33823, USA",
         "longitude": "-81.7833845",
         "point": "['28.0625809', '-81.7833845', '0.0']"
        },
        {
         "Address": "9580 Regency Square Blvd, Jacksonville, FL, 32225",
         "City": "Jacksonville, FL 32225 ·",
         "Lot Size": "2.01 SF",
         "Mailing Address": "nan",
         "Number Of Stories": " ",
         "Number of Units": " ",
         "Owner Name": "nan",
         "Price": 4410000,
         "Total area": "15,082 SF",
         "Type": "Retail",
         "Year Built": " ",
         "_deepnote_index_column": 1603,
         "altitude": "0.0",
         "latitude": "30.3259141",
         "location": "9580 Regency Square Blvd, Jacksonville, FL 32225, USA",
         "longitude": "-81.5476154",
         "point": "['30.3259141', '-81.5476154', '0.0']"
        },
        {
         "Address": "120 KD Revell Rd, Wauchula, FL, 33873",
         "City": "Wauchula, FL 33873 ·",
         "Lot Size": "1.54 SF",
         "Mailing Address": "nan",
         "Number Of Stories": "1",
         "Number of Units": " ",
         "Owner Name": "nan",
         "Price": 1761333,
         "Total area": "7,150 SF",
         "Type": "Retail",
         "Year Built": "2016",
         "_deepnote_index_column": 1626,
         "altitude": "0.0",
         "latitude": "27.5570034",
         "location": "120 K D Revell Rd, Wauchula, FL 33873, USA",
         "longitude": "-81.81238050000002",
         "point": "['27.5570034', '-81.81238050000002', '0.0']"
        },
        {
         "Address": "4545 Forest Hill Blvd, West Palm Beach, FL, 33415",
         "City": "West Palm Beach, FL 33415 ·",
         "Lot Size": "1.89 SF",
         "Mailing Address": "nan",
         "Number Of Stories": " ",
         "Number of Units": " ",
         "Owner Name": "nan",
         "Price": 2400000,
         "Total area": " ",
         "Type": "Retail",
         "Year Built": " ",
         "_deepnote_index_column": 1642,
         "altitude": "0.0",
         "latitude": "26.6524049",
         "location": "4545 Forest Hill Blvd, West Palm Beach, FL 33415, USA",
         "longitude": "-80.1134233",
         "point": "['26.6524049', '-80.1134233', '0.0']"
        },
        {
         "Address": "205-227 SE 5th St, Hallandale Beach, FL, 33009",
         "City": "Hallandale Beach, FL 33009 ·",
         "Lot Size": "1.50 SF",
         "Mailing Address": "nan",
         "Number Of Stories": " ",
         "Number of Units": " ",
         "Owner Name": "nan",
         "Price": 3350000,
         "Total area": " ",
         "Type": "Multifamily",
         "Year Built": "1950",
         "_deepnote_index_column": 1653,
         "altitude": "0.0",
         "latitude": "25.980263",
         "location": "205 SE 5th St, Hallandale Beach, FL 33009, USA",
         "longitude": "-80.14614999999999",
         "point": "['25.980263', '-80.14614999999999', '0.0']"
        }
       ]
      },
      "text/html": [
       "<div>\n",
       "<style scoped>\n",
       "    .dataframe tbody tr th:only-of-type {\n",
       "        vertical-align: middle;\n",
       "    }\n",
       "\n",
       "    .dataframe tbody tr th {\n",
       "        vertical-align: top;\n",
       "    }\n",
       "\n",
       "    .dataframe thead th {\n",
       "        text-align: right;\n",
       "    }\n",
       "</style>\n",
       "<table border=\"1\" class=\"dataframe\">\n",
       "  <thead>\n",
       "    <tr style=\"text-align: right;\">\n",
       "      <th></th>\n",
       "      <th>Address</th>\n",
       "      <th>City</th>\n",
       "      <th>Owner Name</th>\n",
       "      <th>Mailing Address</th>\n",
       "      <th>Price</th>\n",
       "      <th>Number of Units</th>\n",
       "      <th>Total area</th>\n",
       "      <th>Number Of Stories</th>\n",
       "      <th>Lot Size</th>\n",
       "      <th>Type</th>\n",
       "      <th>Year Built</th>\n",
       "      <th>location</th>\n",
       "      <th>point</th>\n",
       "      <th>latitude</th>\n",
       "      <th>longitude</th>\n",
       "      <th>altitude</th>\n",
       "    </tr>\n",
       "  </thead>\n",
       "  <tbody>\n",
       "    <tr>\n",
       "      <th>99</th>\n",
       "      <td>3322 South Memorial Pkwy SW, Huntsville, AL, 3...</td>\n",
       "      <td>Huntsville, AL 35801 ·</td>\n",
       "      <td>NaN</td>\n",
       "      <td>NaN</td>\n",
       "      <td>5800000.0</td>\n",
       "      <td></td>\n",
       "      <td>90,546 SF</td>\n",
       "      <td></td>\n",
       "      <td>6.08 SF</td>\n",
       "      <td>Office</td>\n",
       "      <td>1961</td>\n",
       "      <td>3322 S Memorial Pkwy, Huntsville, AL 35801, USA</td>\n",
       "      <td>[34.6973637, -86.585054, 0.0]</td>\n",
       "      <td>34.6973637</td>\n",
       "      <td>-86.585054</td>\n",
       "      <td>0.0</td>\n",
       "    </tr>\n",
       "    <tr>\n",
       "      <th>102</th>\n",
       "      <td>1821 Cherokee Ave SW, Cullman, AL, 35055</td>\n",
       "      <td>Cullman, AL 35055 ·</td>\n",
       "      <td>NaN</td>\n",
       "      <td>NaN</td>\n",
       "      <td>3876923.0</td>\n",
       "      <td></td>\n",
       "      <td>7,700 SF</td>\n",
       "      <td>1</td>\n",
       "      <td>1.06 SF</td>\n",
       "      <td>Retail</td>\n",
       "      <td>2015</td>\n",
       "      <td>1821 Cherokee Ave SW, Cullman, AL 35055, USA</td>\n",
       "      <td>[34.1541403, -86.84123029999999, 0.0]</td>\n",
       "      <td>34.1541403</td>\n",
       "      <td>-86.84123029999999</td>\n",
       "      <td>0.0</td>\n",
       "    </tr>\n",
       "    <tr>\n",
       "      <th>209</th>\n",
       "      <td>5805 Rogers Avenue, Fort Smith, AR, 72903</td>\n",
       "      <td>Fort Smith, AR 72903 ·</td>\n",
       "      <td>NaN</td>\n",
       "      <td>NaN</td>\n",
       "      <td>5865000.0</td>\n",
       "      <td></td>\n",
       "      <td>22,000 SF</td>\n",
       "      <td></td>\n",
       "      <td>2.32 SF</td>\n",
       "      <td>Retail</td>\n",
       "      <td>2016</td>\n",
       "      <td>5805 Rogers Ave, Fort Smith, AR 72903, USA</td>\n",
       "      <td>[35.360998, -94.36811639999999, 0.0]</td>\n",
       "      <td>35.360998</td>\n",
       "      <td>-94.36811639999999</td>\n",
       "      <td>0.0</td>\n",
       "    </tr>\n",
       "    <tr>\n",
       "      <th>239</th>\n",
       "      <td>866 S. 48th Street, Springdale, AR, 72762</td>\n",
       "      <td>Springdale, AR 72762 ·</td>\n",
       "      <td>NaN</td>\n",
       "      <td>NaN</td>\n",
       "      <td>3500000.0</td>\n",
       "      <td></td>\n",
       "      <td>21,000 SF</td>\n",
       "      <td></td>\n",
       "      <td>1.89 SF</td>\n",
       "      <td>Retail</td>\n",
       "      <td></td>\n",
       "      <td>866 S 48th St, Springdale, AR 72762, USA</td>\n",
       "      <td>[36.1783662, -94.1855372, 0.0]</td>\n",
       "      <td>36.1783662</td>\n",
       "      <td>-94.1855372</td>\n",
       "      <td>0.0</td>\n",
       "    </tr>\n",
       "    <tr>\n",
       "      <th>242</th>\n",
       "      <td>3700 E. Johnson Avenue, Jonesboro, AR, 72401</td>\n",
       "      <td>Jonesboro, AR 72401 ·</td>\n",
       "      <td>NaN</td>\n",
       "      <td>NaN</td>\n",
       "      <td>3433402.0</td>\n",
       "      <td></td>\n",
       "      <td></td>\n",
       "      <td></td>\n",
       "      <td>2 - 5.63 SF</td>\n",
       "      <td>Land</td>\n",
       "      <td></td>\n",
       "      <td>3700 E Johnson Ave, Jonesboro, AR 72401, USA</td>\n",
       "      <td>[35.859609, -90.653826, 0.0]</td>\n",
       "      <td>35.859609</td>\n",
       "      <td>-90.653826</td>\n",
       "      <td>0.0</td>\n",
       "    </tr>\n",
       "    <tr>\n",
       "      <th>...</th>\n",
       "      <td>...</td>\n",
       "      <td>...</td>\n",
       "      <td>...</td>\n",
       "      <td>...</td>\n",
       "      <td>...</td>\n",
       "      <td>...</td>\n",
       "      <td>...</td>\n",
       "      <td>...</td>\n",
       "      <td>...</td>\n",
       "      <td>...</td>\n",
       "      <td>...</td>\n",
       "      <td>...</td>\n",
       "      <td>...</td>\n",
       "      <td>...</td>\n",
       "      <td>...</td>\n",
       "      <td>...</td>\n",
       "    </tr>\n",
       "    <tr>\n",
       "      <th>8839</th>\n",
       "      <td>1313-1327 Plaza East, Charleston, WV, 25301</td>\n",
       "      <td>Charleston, WV 25301 ·</td>\n",
       "      <td>NaN</td>\n",
       "      <td>NaN</td>\n",
       "      <td>7000000.0</td>\n",
       "      <td></td>\n",
       "      <td></td>\n",
       "      <td>1</td>\n",
       "      <td>6.38 SF</td>\n",
       "      <td>Retail</td>\n",
       "      <td></td>\n",
       "      <td>1313-1327 Plaza East, Charleston, WV 25301, USA</td>\n",
       "      <td>[38.3473616, -81.6230289, 0.0]</td>\n",
       "      <td>38.3473616</td>\n",
       "      <td>-81.6230289</td>\n",
       "      <td>0.0</td>\n",
       "    </tr>\n",
       "    <tr>\n",
       "      <th>8889</th>\n",
       "      <td>2502 Melodi Ln, Casper, WY, 82601</td>\n",
       "      <td>Casper, WY 82601 ·</td>\n",
       "      <td>NaN</td>\n",
       "      <td>NaN</td>\n",
       "      <td>1840000.0</td>\n",
       "      <td></td>\n",
       "      <td>17,720 SF</td>\n",
       "      <td></td>\n",
       "      <td>7.03 SF</td>\n",
       "      <td>Industrial</td>\n",
       "      <td>1977</td>\n",
       "      <td>2502 Melodi Ln, Casper, WY 82601, USA</td>\n",
       "      <td>[42.8919936, -106.3533236, 0.0]</td>\n",
       "      <td>42.8919936</td>\n",
       "      <td>-106.3533236</td>\n",
       "      <td>0.0</td>\n",
       "    </tr>\n",
       "    <tr>\n",
       "      <th>8944</th>\n",
       "      <td>528 County Rd, Evanston, WY, 82930</td>\n",
       "      <td>Evanston, WY 82930 ·</td>\n",
       "      <td>NaN</td>\n",
       "      <td>NaN</td>\n",
       "      <td>1000000.0</td>\n",
       "      <td></td>\n",
       "      <td></td>\n",
       "      <td></td>\n",
       "      <td>1.26 SF</td>\n",
       "      <td>Retail</td>\n",
       "      <td></td>\n",
       "      <td>528 County Rd, Evanston, WY 82930, USA</td>\n",
       "      <td>[41.2826667, -110.9617006, 0.0]</td>\n",
       "      <td>41.2826667</td>\n",
       "      <td>-110.9617006</td>\n",
       "      <td>0.0</td>\n",
       "    </tr>\n",
       "    <tr>\n",
       "      <th>9040</th>\n",
       "      <td>5441 Swanson Rd, Gillette, WY, 82718</td>\n",
       "      <td>Gillette, WY 82718 ·</td>\n",
       "      <td>NaN</td>\n",
       "      <td>NaN</td>\n",
       "      <td>690000.0</td>\n",
       "      <td></td>\n",
       "      <td>7,750 SF</td>\n",
       "      <td></td>\n",
       "      <td>0.62 SF</td>\n",
       "      <td>Industrial</td>\n",
       "      <td></td>\n",
       "      <td>5441 Swanson Rd, Gillette, WY 82718, USA</td>\n",
       "      <td>[44.2444924, -105.478833, 0.0]</td>\n",
       "      <td>44.2444924</td>\n",
       "      <td>-105.478833</td>\n",
       "      <td>0.0</td>\n",
       "    </tr>\n",
       "    <tr>\n",
       "      <th>9075</th>\n",
       "      <td>1775 Gabrielle Ct, Sheridan, WY, 82801</td>\n",
       "      <td>Sheridan, WY 82801 ·</td>\n",
       "      <td>NaN</td>\n",
       "      <td>NaN</td>\n",
       "      <td>205975.0</td>\n",
       "      <td></td>\n",
       "      <td></td>\n",
       "      <td></td>\n",
       "      <td>1.35 SF</td>\n",
       "      <td>Industrial</td>\n",
       "      <td></td>\n",
       "      <td>1775 Gabrielle Ct, Sheridan, WY 82801, USA</td>\n",
       "      <td>[44.7966647, -106.9306484, 0.0]</td>\n",
       "      <td>44.7966647</td>\n",
       "      <td>-106.9306484</td>\n",
       "      <td>0.0</td>\n",
       "    </tr>\n",
       "  </tbody>\n",
       "</table>\n",
       "<p>259 rows × 16 columns</p>\n",
       "</div>"
      ],
      "text/plain": [
       "                                                Address  \\\n",
       "99    3322 South Memorial Pkwy SW, Huntsville, AL, 3...   \n",
       "102            1821 Cherokee Ave SW, Cullman, AL, 35055   \n",
       "209           5805 Rogers Avenue, Fort Smith, AR, 72903   \n",
       "239           866 S. 48th Street, Springdale, AR, 72762   \n",
       "242        3700 E. Johnson Avenue, Jonesboro, AR, 72401   \n",
       "...                                                 ...   \n",
       "8839        1313-1327 Plaza East, Charleston, WV, 25301   \n",
       "8889                  2502 Melodi Ln, Casper, WY, 82601   \n",
       "8944                 528 County Rd, Evanston, WY, 82930   \n",
       "9040               5441 Swanson Rd, Gillette, WY, 82718   \n",
       "9075             1775 Gabrielle Ct, Sheridan, WY, 82801   \n",
       "\n",
       "                        City Owner Name Mailing Address      Price  \\\n",
       "99    Huntsville, AL 35801 ·        NaN             NaN  5800000.0   \n",
       "102      Cullman, AL 35055 ·        NaN             NaN  3876923.0   \n",
       "209   Fort Smith, AR 72903 ·        NaN             NaN  5865000.0   \n",
       "239   Springdale, AR 72762 ·        NaN             NaN  3500000.0   \n",
       "242    Jonesboro, AR 72401 ·        NaN             NaN  3433402.0   \n",
       "...                      ...        ...             ...        ...   \n",
       "8839  Charleston, WV 25301 ·        NaN             NaN  7000000.0   \n",
       "8889      Casper, WY 82601 ·        NaN             NaN  1840000.0   \n",
       "8944    Evanston, WY 82930 ·        NaN             NaN  1000000.0   \n",
       "9040    Gillette, WY 82718 ·        NaN             NaN   690000.0   \n",
       "9075    Sheridan, WY 82801 ·        NaN             NaN   205975.0   \n",
       "\n",
       "     Number of Units Total area Number Of Stories     Lot Size        Type  \\\n",
       "99                    90,546 SF                        6.08 SF      Office   \n",
       "102                    7,700 SF                 1      1.06 SF      Retail   \n",
       "209                   22,000 SF                        2.32 SF      Retail   \n",
       "239                   21,000 SF                        1.89 SF      Retail   \n",
       "242                                                2 - 5.63 SF        Land   \n",
       "...              ...        ...               ...          ...         ...   \n",
       "8839                                            1      6.38 SF      Retail   \n",
       "8889                  17,720 SF                        7.03 SF  Industrial   \n",
       "8944                                                   1.26 SF      Retail   \n",
       "9040                   7,750 SF                        0.62 SF  Industrial   \n",
       "9075                                                   1.35 SF  Industrial   \n",
       "\n",
       "     Year Built                                         location  \\\n",
       "99         1961  3322 S Memorial Pkwy, Huntsville, AL 35801, USA   \n",
       "102        2015     1821 Cherokee Ave SW, Cullman, AL 35055, USA   \n",
       "209        2016       5805 Rogers Ave, Fort Smith, AR 72903, USA   \n",
       "239                     866 S 48th St, Springdale, AR 72762, USA   \n",
       "242                 3700 E Johnson Ave, Jonesboro, AR 72401, USA   \n",
       "...         ...                                              ...   \n",
       "8839             1313-1327 Plaza East, Charleston, WV 25301, USA   \n",
       "8889       1977            2502 Melodi Ln, Casper, WY 82601, USA   \n",
       "8944                      528 County Rd, Evanston, WY 82930, USA   \n",
       "9040                    5441 Swanson Rd, Gillette, WY 82718, USA   \n",
       "9075                  1775 Gabrielle Ct, Sheridan, WY 82801, USA   \n",
       "\n",
       "                                      point    latitude           longitude  \\\n",
       "99            [34.6973637, -86.585054, 0.0]  34.6973637          -86.585054   \n",
       "102   [34.1541403, -86.84123029999999, 0.0]  34.1541403  -86.84123029999999   \n",
       "209    [35.360998, -94.36811639999999, 0.0]   35.360998  -94.36811639999999   \n",
       "239          [36.1783662, -94.1855372, 0.0]  36.1783662         -94.1855372   \n",
       "242            [35.859609, -90.653826, 0.0]   35.859609          -90.653826   \n",
       "...                                     ...         ...                 ...   \n",
       "8839         [38.3473616, -81.6230289, 0.0]  38.3473616         -81.6230289   \n",
       "8889        [42.8919936, -106.3533236, 0.0]  42.8919936        -106.3533236   \n",
       "8944        [41.2826667, -110.9617006, 0.0]  41.2826667        -110.9617006   \n",
       "9040         [44.2444924, -105.478833, 0.0]  44.2444924         -105.478833   \n",
       "9075        [44.7966647, -106.9306484, 0.0]  44.7966647        -106.9306484   \n",
       "\n",
       "     altitude  \n",
       "99        0.0  \n",
       "102       0.0  \n",
       "209       0.0  \n",
       "239       0.0  \n",
       "242       0.0  \n",
       "...       ...  \n",
       "8839      0.0  \n",
       "8889      0.0  \n",
       "8944      0.0  \n",
       "9040      0.0  \n",
       "9075      0.0  \n",
       "\n",
       "[259 rows x 16 columns]"
      ]
     },
     "execution_count": 13,
     "metadata": {},
     "output_type": "execute_result"
    }
   ],
   "source": [
    "# eliminate empty or NULL values in the dataset\n",
    "\n",
    "#df[df['Lot Size'] == \"0.17 SF\"]\n",
    "#df['Lot Size'].str.replace(',','').tolist()\n",
    "\n",
    "# Check for abnormalities in data\n",
    "print(\"Total area, first 10 entries, sorted: \")\n",
    "print(np.sort(df_map['Total area']).tolist()[:10])\n",
    "# Reference by to the original data set\n",
    "print(df[df['Total area'] == \"0 SF\"]['Total area'])\n",
    "\n",
    "print(\"\\n\\nLot Size, <= 10 SF, referenced back to the original data:\")\n",
    "df.iloc[df_map[df_map['Lot Size'] <= 10].index]"
   ]
  },
  {
   "cell_type": "markdown",
   "metadata": {
    "cell_id": "00032-e5567890-b48e-44a1-8cb5-c27a4fe7ea79",
    "deepnote_cell_type": "markdown",
    "tags": []
   },
   "source": [
    "- It seems impossible for any commericial property to have less than 10SF for either their total area or lot size. Therefore, we postulate that the abnormalities originated from the original data set, possibly caused by scraping errors.\n",
    "- Therefore, we choose to drop the entries where \"total area\" or \"lot size\" <= 10 SF"
   ]
  },
  {
   "cell_type": "code",
   "execution_count": null,
   "metadata": {
    "cell_id": "00022-a9220743-c5c6-42da-927e-d6e6e11b38f7",
    "deepnote_cell_type": "code",
    "deepnote_to_be_reexecuted": false,
    "execution_millis": 54,
    "execution_start": 1620055457025,
    "source_hash": "1b75fe0c",
    "tags": []
   },
   "outputs": [
    {
     "data": {
      "application/vnd.deepnote.dataframe.v2+json": {
       "column_count": 4,
       "columns": [
        {
         "dtype": "float64",
         "name": "Price",
         "stats": {
          "histogram": [
           {
            "bin_end": 9124539.2,
            "bin_start": 8499,
            "count": 7
           },
           {
            "bin_end": 18240579.4,
            "bin_start": 9124539.2,
            "count": 0
           },
           {
            "bin_end": 27356619.599999998,
            "bin_start": 18240579.4,
            "count": 0
           },
           {
            "bin_end": 36472659.8,
            "bin_start": 27356619.599999998,
            "count": 0
           },
           {
            "bin_end": 45588700,
            "bin_start": 36472659.8,
            "count": 0
           },
           {
            "bin_end": 54704740.199999996,
            "bin_start": 45588700,
            "count": 0
           },
           {
            "bin_end": 63820780.39999999,
            "bin_start": 54704740.199999996,
            "count": 0
           },
           {
            "bin_end": 72936820.6,
            "bin_start": 63820780.39999999,
            "count": 0
           },
           {
            "bin_end": 82052860.8,
            "bin_start": 72936820.6,
            "count": 0
           },
           {
            "bin_end": 91168901,
            "bin_start": 82052860.8,
            "count": 1
           }
          ],
          "max": "91168901.0",
          "min": "8499.0",
          "nan_count": 0,
          "unique_count": 8
         }
        },
        {
         "dtype": "float64",
         "name": "Total area",
         "stats": {
          "histogram": [
           {
            "bin_end": 349509,
            "bin_start": 10,
            "count": 7
           },
           {
            "bin_end": 699008,
            "bin_start": 349509,
            "count": 0
           },
           {
            "bin_end": 1048507,
            "bin_start": 699008,
            "count": 0
           },
           {
            "bin_end": 1398006,
            "bin_start": 1048507,
            "count": 0
           },
           {
            "bin_end": 1747505,
            "bin_start": 1398006,
            "count": 0
           },
           {
            "bin_end": 2097004,
            "bin_start": 1747505,
            "count": 0
           },
           {
            "bin_end": 2446503,
            "bin_start": 2097004,
            "count": 0
           },
           {
            "bin_end": 2796002,
            "bin_start": 2446503,
            "count": 0
           },
           {
            "bin_end": 3145501,
            "bin_start": 2796002,
            "count": 0
           },
           {
            "bin_end": 3495000,
            "bin_start": 3145501,
            "count": 1
           }
          ],
          "max": "3495000.0",
          "min": "10.0",
          "nan_count": 0,
          "unique_count": 8
         }
        },
        {
         "dtype": "float64",
         "name": "Lot Size",
         "stats": {
          "histogram": [
           {
            "bin_end": 11419254793.08,
            "bin_start": 10,
            "count": 7
           },
           {
            "bin_end": 22838509576.16,
            "bin_start": 11419254793.08,
            "count": 0
           },
           {
            "bin_end": 34257764359.239998,
            "bin_start": 22838509576.16,
            "count": 0
           },
           {
            "bin_end": 45677019142.32,
            "bin_start": 34257764359.239998,
            "count": 0
           },
           {
            "bin_end": 57096273925.4,
            "bin_start": 45677019142.32,
            "count": 0
           },
           {
            "bin_end": 68515528708.479996,
            "bin_start": 57096273925.4,
            "count": 0
           },
           {
            "bin_end": 79934783491.56,
            "bin_start": 68515528708.479996,
            "count": 0
           },
           {
            "bin_end": 91354038274.64,
            "bin_start": 79934783491.56,
            "count": 0
           },
           {
            "bin_end": 102773293057.72,
            "bin_start": 91354038274.64,
            "count": 0
           },
           {
            "bin_end": 114192547840.8,
            "bin_start": 102773293057.72,
            "count": 1
           }
          ],
          "max": "114192547840.8",
          "min": "10.0",
          "nan_count": 0,
          "unique_count": 8
         }
        },
        {
         "dtype": "float64",
         "name": "gdp",
         "stats": {
          "histogram": [
           {
            "bin_end": 81950187.3,
            "bin_start": 6162,
            "count": 6
           },
           {
            "bin_end": 163894212.6,
            "bin_start": 81950187.3,
            "count": 1
           },
           {
            "bin_end": 245838237.89999998,
            "bin_start": 163894212.6,
            "count": 0
           },
           {
            "bin_end": 327782263.2,
            "bin_start": 245838237.89999998,
            "count": 0
           },
           {
            "bin_end": 409726288.5,
            "bin_start": 327782263.2,
            "count": 0
           },
           {
            "bin_end": 491670313.79999995,
            "bin_start": 409726288.5,
            "count": 0
           },
           {
            "bin_end": 573614339.1,
            "bin_start": 491670313.79999995,
            "count": 0
           },
           {
            "bin_end": 655558364.4,
            "bin_start": 573614339.1,
            "count": 0
           },
           {
            "bin_end": 737502389.6999999,
            "bin_start": 655558364.4,
            "count": 0
           },
           {
            "bin_end": 819446415,
            "bin_start": 737502389.6999999,
            "count": 1
           }
          ],
          "max": "819446415.0",
          "min": "6162.0",
          "nan_count": 0,
          "unique_count": 8
         }
        },
        {
         "dtype": "object",
         "name": "_deepnote_index_column"
        }
       ],
       "row_count": 8,
       "rows_bottom": null,
       "rows_top": [
        {
         "Lot Size": 7773,
         "Price": 8880,
         "Total area": 4749,
         "_deepnote_index_column": "count",
         "gdp": 6162
        },
        {
         "Lot Size": 24241127.761366263,
         "Price": 5852506.585842342,
         "Total area": 55725.081069698885,
         "_deepnote_index_column": "mean",
         "gdp": 63260294.67721519
        },
        {
         "Lot Size": 1318615422.8754947,
         "Price": 5621658.339210067,
         "Total area": 108186.80724592306,
         "_deepnote_index_column": "std",
         "gdp": 109370640.09394923
        },
        {
         "Lot Size": 10,
         "Price": 8499,
         "Total area": 10,
         "_deepnote_index_column": "min",
         "gdp": 18403
        },
        {
         "Lot Size": 72309.59999999999,
         "Price": 3375000,
         "Total area": 10800,
         "_deepnote_index_column": "25%",
         "gdp": 6305893
        },
        {
         "Lot Size": 261360,
         "Price": 4414450,
         "Total area": 28000,
         "_deepnote_index_column": "50%",
         "gdp": 23604109
        },
        {
         "Lot Size": 1048924.7999999998,
         "Price": 6500000,
         "Total area": 60000,
         "_deepnote_index_column": "75%",
         "gdp": 72175081
        },
        {
         "Lot Size": 114192547840.8,
         "Price": 91168901,
         "Total area": 3495000,
         "_deepnote_index_column": "max",
         "gdp": 819446415
        }
       ]
      },
      "text/html": [
       "<div>\n",
       "<style scoped>\n",
       "    .dataframe tbody tr th:only-of-type {\n",
       "        vertical-align: middle;\n",
       "    }\n",
       "\n",
       "    .dataframe tbody tr th {\n",
       "        vertical-align: top;\n",
       "    }\n",
       "\n",
       "    .dataframe thead th {\n",
       "        text-align: right;\n",
       "    }\n",
       "</style>\n",
       "<table border=\"1\" class=\"dataframe\">\n",
       "  <thead>\n",
       "    <tr style=\"text-align: right;\">\n",
       "      <th></th>\n",
       "      <th>Price</th>\n",
       "      <th>Total area</th>\n",
       "      <th>Lot Size</th>\n",
       "      <th>gdp</th>\n",
       "    </tr>\n",
       "  </thead>\n",
       "  <tbody>\n",
       "    <tr>\n",
       "      <th>count</th>\n",
       "      <td>8.880000e+03</td>\n",
       "      <td>4.749000e+03</td>\n",
       "      <td>7.773000e+03</td>\n",
       "      <td>6.162000e+03</td>\n",
       "    </tr>\n",
       "    <tr>\n",
       "      <th>mean</th>\n",
       "      <td>5.852507e+06</td>\n",
       "      <td>5.572508e+04</td>\n",
       "      <td>2.424113e+07</td>\n",
       "      <td>6.326029e+07</td>\n",
       "    </tr>\n",
       "    <tr>\n",
       "      <th>std</th>\n",
       "      <td>5.621658e+06</td>\n",
       "      <td>1.081868e+05</td>\n",
       "      <td>1.318615e+09</td>\n",
       "      <td>1.093706e+08</td>\n",
       "    </tr>\n",
       "    <tr>\n",
       "      <th>min</th>\n",
       "      <td>8.499000e+03</td>\n",
       "      <td>1.000000e+01</td>\n",
       "      <td>1.000000e+01</td>\n",
       "      <td>1.840300e+04</td>\n",
       "    </tr>\n",
       "    <tr>\n",
       "      <th>25%</th>\n",
       "      <td>3.375000e+06</td>\n",
       "      <td>1.080000e+04</td>\n",
       "      <td>7.230960e+04</td>\n",
       "      <td>6.305893e+06</td>\n",
       "    </tr>\n",
       "    <tr>\n",
       "      <th>50%</th>\n",
       "      <td>4.414450e+06</td>\n",
       "      <td>2.800000e+04</td>\n",
       "      <td>2.613600e+05</td>\n",
       "      <td>2.360411e+07</td>\n",
       "    </tr>\n",
       "    <tr>\n",
       "      <th>75%</th>\n",
       "      <td>6.500000e+06</td>\n",
       "      <td>6.000000e+04</td>\n",
       "      <td>1.048925e+06</td>\n",
       "      <td>7.217508e+07</td>\n",
       "    </tr>\n",
       "    <tr>\n",
       "      <th>max</th>\n",
       "      <td>9.116890e+07</td>\n",
       "      <td>3.495000e+06</td>\n",
       "      <td>1.141925e+11</td>\n",
       "      <td>8.194464e+08</td>\n",
       "    </tr>\n",
       "  </tbody>\n",
       "</table>\n",
       "</div>"
      ],
      "text/plain": [
       "              Price    Total area      Lot Size           gdp\n",
       "count  8.880000e+03  4.749000e+03  7.773000e+03  6.162000e+03\n",
       "mean   5.852507e+06  5.572508e+04  2.424113e+07  6.326029e+07\n",
       "std    5.621658e+06  1.081868e+05  1.318615e+09  1.093706e+08\n",
       "min    8.499000e+03  1.000000e+01  1.000000e+01  1.840300e+04\n",
       "25%    3.375000e+06  1.080000e+04  7.230960e+04  6.305893e+06\n",
       "50%    4.414450e+06  2.800000e+04  2.613600e+05  2.360411e+07\n",
       "75%    6.500000e+06  6.000000e+04  1.048925e+06  7.217508e+07\n",
       "max    9.116890e+07  3.495000e+06  1.141925e+11  8.194464e+08"
      ]
     },
     "execution_count": 14,
     "metadata": {},
     "output_type": "execute_result"
    }
   ],
   "source": [
    "# drop the entries where area < 10 SF\n",
    "df_map['Total area'] = df_map[df_map['Total area'] >= 10]['Total area']\n",
    "df_map['Lot Size'] = df_map[df_map['Lot Size'] >= 10]['Lot Size']\n",
    "\n",
    "df_map.describe()"
   ]
  },
  {
   "cell_type": "code",
   "execution_count": null,
   "metadata": {
    "cell_id": "00021-45ac72ac-d557-44a9-a43d-8c7240c52fac",
    "deepnote_cell_type": "code",
    "deepnote_to_be_reexecuted": false,
    "execution_millis": 1,
    "execution_start": 1620055461886,
    "source_hash": "bc762277",
    "tags": []
   },
   "outputs": [
    {
     "name": "stdout",
     "output_type": "stream",
     "text": [
      "no null exists in 'type'\n"
     ]
    }
   ],
   "source": [
    "#check if there are still NULL values existing in the data frame\n",
    "if not (pd.isna(df_map['Type']).any() & pd.isnull(df_map['Type']).any()):\n",
    "    print (\"no null exists in 'type'\")"
   ]
  },
  {
   "cell_type": "code",
   "execution_count": null,
   "metadata": {
    "cell_id": "00024-30266b7e-0df6-4644-8306-04ce30e24df8",
    "deepnote_cell_type": "code",
    "deepnote_to_be_reexecuted": false,
    "execution_millis": 3189,
    "execution_start": 1619977891983,
    "source_hash": "c27c24c1",
    "tags": []
   },
   "outputs": [],
   "source": [
    "import getpass\n",
    "APIKEY = getpass.getpass()"
   ]
  },
  {
   "cell_type": "markdown",
   "metadata": {
    "cell_id": "00036-3c578a5b-5817-4908-9fc8-0ec76d912bc1",
    "deepnote_cell_type": "markdown",
    "tags": []
   },
   "source": [
    "## Visualization: \n",
    "- A weighted heatmap that shows the geographic distribution and price level of the commerical real estate properties in the dataset.\n",
    "- The color gradient represents price level, and a warmer hue stands for higher prices."
   ]
  },
  {
   "cell_type": "code",
   "execution_count": null,
   "metadata": {
    "cell_id": "00024-fd3e5b82-c2a7-4a49-8ac4-a851a5a6f7c0",
    "deepnote_cell_type": "code",
    "deepnote_to_be_reexecuted": false,
    "execution_millis": 296,
    "execution_start": 1619979616894,
    "source_hash": "1aade8cc",
    "tags": []
   },
   "outputs": [
    {
     "data": {
      "application/vnd.jupyter.widget-view+json": {
       "model_id": "dddec3a9b09a445ba20ebbc696debbe3",
       "version_major": 2,
       "version_minor": 0
      },
      "text/plain": [
       "Figure(layout=FigureLayout(height='420px'))"
      ]
     },
     "metadata": {},
     "output_type": "display_data"
    }
   ],
   "source": [
    "# Visualization: distribution of the geographic locations of the commerical real\n",
    "# estate properties in the dataset\n",
    "import gmaps\n",
    "import gmaps.datasets\n",
    "gmaps.configure(api_key=APIKEY)\n",
    "\n",
    "df_visual = df_map[['Price','latitude','longitude']].copy()\n",
    "df_visual['latitude'] = pd.to_numeric(df_visual['latitude'])\n",
    "df_visual['longitude'] = pd.to_numeric(df_visual['longitude'])\n",
    "\n",
    "map1 = gmaps.figure()\n",
    "\n",
    "map1.add_layer(gmaps.heatmap_layer(df_visual[['latitude', 'longitude']], weights = df_visual['Price']))\n",
    "map1\n",
    "#df_visual.to_csv(\"visual.csv\")"
   ]
  },
  {
   "cell_type": "markdown",
   "metadata": {
    "cell_id": "00026-2f2168cf-0d5f-4ed4-afa8-79089d6feaf0",
    "deepnote_cell_type": "markdown",
    "tags": []
   },
   "source": [
    "![heat_map1](heatmap_1.png)\n",
    "![heat_map2](map.png)"
   ]
  },
  {
   "cell_type": "markdown",
   "metadata": {
    "cell_id": "00039-baf39fc5-787e-4c6a-8097-07d4194f12a6",
    "deepnote_cell_type": "markdown",
    "tags": []
   },
   "source": [
    "From the heatmap, We can see commercial property prices tend to be much higher in major metropolitan areas. The New York City and its neighboring areas should have the highest commerical property price in the U.S.."
   ]
  },
  {
   "cell_type": "markdown",
   "metadata": {
    "cell_id": "00017-8728719e-c660-41c5-873a-7cc011a8596a",
    "deepnote_cell_type": "markdown",
    "tags": []
   },
   "source": [
    "## III) Methodology/Empirical Model\n",
    "\n",
    "<a id='the_destination3'></a>"
   ]
  },
  {
   "cell_type": "markdown",
   "metadata": {
    "cell_id": "00041-33fb5caf-d414-4efd-b762-567aacc9f860",
    "deepnote_cell_type": "markdown",
    "tags": []
   },
   "source": [
    "- We would like to find the correlations between sale prices of commercial real estate properties and possible influencing factors. We considered address, GDP, property area, lot size, property type, year built, and floor as possible nfluencing factors at first. Thus, we came up with the multiple linear regression model below to investigate how strong their relationship are. And our preliminary model was $Price = \\beta_0 + \\beta_1 \\cdot Address + \\beta_2 \\cdot GDP + \\beta_3 \\cdot Area + \\beta_4 \\cdot LotSize + \\beta_5 \\cdot PropertyType$ $+  \\beta_6 \\cdot YearBuilt + \\beta_7 \\cdot Floor + \\mu$. "
   ]
  },
  {
   "cell_type": "markdown",
   "metadata": {
    "cell_id": "00003-f5e28c6a-a407-4802-bb87-f22b910ecafe",
    "deepnote_cell_type": "markdown"
   },
   "source": [
    "- Nevertheless, the independent variables in the preliminary regression model require further examination and some of them might be removed due to multicollinearity, incomplete observations, lack of statistical meaning, and etc. \n",
    "\n",
    "    - In a multiple linear regression model, we need to check if the independent variables are highly correlated to each other and prevent them from being in the same regression model (multicollinearity problem). \n",
    "\n",
    "    - After conducting analysis and computing summary statistics of our dataset, we found that some variables contain numerous $nulls$ or empty observations. Such incomplete information leads us to decide to remove these potential explanatory variables from our multiple regression models. The \"incomplete\" factors that we have discovered are $YearBuilt$ and $Floor$.\n",
    "\n",
    "    - Varaible $Address$ is not quantified by numerical values, which makes it meaningless to our empirical empirical analysis. We decide to simply show the distribution of address instead of incorporating it into the regression models.\n"
   ]
  },
  {
   "cell_type": "markdown",
   "metadata": {
    "cell_id": "00044-377ff47d-4d2b-441f-bf85-22a850c799ad",
    "deepnote_cell_type": "markdown",
    "tags": []
   },
   "source": [
    "- Consequently, the independent variables included in our models are $GDP$, $Area$, $PropertyType$, and $LotSize$. We designed 3 models to aid our study.\n",
    "\n",
    "    Model 1: \n",
    "$Price = \\beta_0 + \\beta_1 \\cdot GDP$ $+ \\beta_2 \\cdot Area + \\beta_3 \\cdot LotSize + \\beta_4 \\cdot PropertyType + \\mu$  $ (1)$. \n",
    "    \n",
    "    Additionally, we will apply the following model to obtain the fitted parameters as percentage change of the price, which we call model 2: \n",
    "$log(Price) = \\beta_0 + \\beta_1 \\cdot GDP$ $+ \\beta_2 \\cdot Area + \\beta_3 \\cdot LotSize + \\beta_4 \\cdot PropertyType + \\mu$ $ (2)$.\n",
    "\n",
    "    We would also like to see the elasticity of price (i.e., the price's sensitivity to change in explanatory variables') by studying model 3: \n",
    "$log(Price) = \\beta_0 + \\beta_1 \\cdot log(GDP)$ $+ \\beta_2 \\cdot log(Area) + \\beta_3 \\cdot log(LotSize) + \\mu$ $ (3)$."
   ]
  },
  {
   "cell_type": "markdown",
   "metadata": {
    "cell_id": "00044-661b44a5-cc85-43a7-a02f-f3fb22fc079e",
    "deepnote_cell_type": "markdown",
    "tags": []
   },
   "source": [
    "- Null Hypothesis ($H_0$)\n",
    "\n",
    "    - Based on Trung and Quan's study(2019), the natural factor of real estates -to which  our explanatory variables belong to- generally has little impact on the real estate prices with significance level 0.05. This project will explore the detailed elements in the natural factor category, which may have different conclusion about the correlation. However, to have a nice guessing, our hypotheses for the models will follow the conclusion from their study. \n",
    "\n",
    "    - That is, we hypothesize that the independent variables do not affect the sale prices of commercial real estate properties.\n"
   ]
  },
  {
   "cell_type": "markdown",
   "metadata": {
    "cell_id": "00015-0d44aa1f-b2d2-4270-a52a-cd49c9f90b95",
    "deepnote_cell_type": "markdown",
    "tags": []
   },
   "source": [
    "## IV) Results\n",
    "\n",
    "<a id='the_destination4'></a>"
   ]
  },
  {
   "cell_type": "code",
   "execution_count": null,
   "metadata": {
    "cell_id": "00021-b17d0144-0651-4cf1-8c18-52ed8967f9db",
    "deepnote_cell_type": "code",
    "deepnote_to_be_reexecuted": false,
    "execution_millis": 261,
    "execution_start": 1620055471097,
    "source_hash": "e47d24d4",
    "tags": []
   },
   "outputs": [
    {
     "data": {
      "text/html": [
       "<table style=\"text-align:center\"><tr><td colspan=\"4\" style=\"border-bottom: 1px solid black\"></td></tr><tr><td style=\"text-align:left\"></td><tr><td style=\"text-align:left\"></td><td>(1)</td><td>(2)</td><td>(3)</td></tr><tr><td colspan=\"4\" style=\"border-bottom: 1px solid black\"></td></tr><tr><td style=\"text-align:left\">Area</td><td>22.467<sup>***</sup></td><td>0.000<sup>***</sup></td><td></td></tr><tr><td style=\"text-align:left\"></td><td>(0.931)</td><td>(0.000)</td><td></td></tr><tr><td style=\"text-align:left\">C(Type, Treatment(\"Land\"))[T.Agricultural]</td><td>-0.003<sup></sup></td><td>-0.000<sup>***</sup></td><td></td></tr><tr><td style=\"text-align:left\"></td><td>(0.004)</td><td>(0.000)</td><td></td></tr><tr><td style=\"text-align:left\">C(Type, Treatment(\"Land\"))[T.Health Care]</td><td>0.000<sup></sup></td><td>-0.000<sup>***</sup></td><td></td></tr><tr><td style=\"text-align:left\"></td><td>(0.000)</td><td>(0.000)</td><td></td></tr><tr><td style=\"text-align:left\">C(Type, Treatment(\"Land\"))[T.Hotel & Motel]</td><td>490213.105<sup></sup></td><td>1.743<sup>***</sup></td><td></td></tr><tr><td style=\"text-align:left\"></td><td>(393096.491)</td><td>(0.071)</td><td></td></tr><tr><td style=\"text-align:left\">C(Type, Treatment(\"Land\"))[T.Industrial]</td><td>-862666.165<sup>***</sup></td><td>1.577<sup>***</sup></td><td></td></tr><tr><td style=\"text-align:left\"></td><td>(259659.235)</td><td>(0.047)</td><td></td></tr><tr><td style=\"text-align:left\">C(Type, Treatment(\"Land\"))[T.Multifamily]</td><td>1500126.747<sup>***</sup></td><td>1.731<sup>***</sup></td><td></td></tr><tr><td style=\"text-align:left\"></td><td>(316861.462)</td><td>(0.057)</td><td></td></tr><tr><td style=\"text-align:left\">C(Type, Treatment(\"Land\"))[T.Office]</td><td>1014263.933<sup>***</sup></td><td>1.707<sup>***</sup></td><td></td></tr><tr><td style=\"text-align:left\"></td><td>(261942.150)</td><td>(0.047)</td><td></td></tr><tr><td style=\"text-align:left\">C(Type, Treatment(\"Land\"))[T.Residential Income]</td><td>-674505.106<sup></sup></td><td>1.229<sup>***</sup></td><td></td></tr><tr><td style=\"text-align:left\"></td><td>(1187474.496)</td><td>(0.215)</td><td></td></tr><tr><td style=\"text-align:left\">C(Type, Treatment(\"Land\"))[T.Retail]</td><td>618260.619<sup>**</sup></td><td>1.695<sup>***</sup></td><td></td></tr><tr><td style=\"text-align:left\"></td><td>(244595.557)</td><td>(0.044)</td><td></td></tr><tr><td style=\"text-align:left\">C(Type, Treatment(\"Land\"))[T.Senior Housing]</td><td>0.000<sup></sup></td><td>0.000<sup>***</sup></td><td></td></tr><tr><td style=\"text-align:left\"></td><td>(0.000)</td><td>(0.000)</td><td></td></tr><tr><td style=\"text-align:left\">C(Type, Treatment(\"Land\"))[T.Special Purpose]</td><td>686861.181<sup></sup></td><td>1.730<sup>***</sup></td><td></td></tr><tr><td style=\"text-align:left\"></td><td>(436621.039)</td><td>(0.079)</td><td></td></tr><tr><td style=\"text-align:left\">C(Type, Treatment(\"Land\"))[T.Sport & Entertainment]</td><td>981150.069<sup></sup></td><td>1.955<sup>***</sup></td><td></td></tr><tr><td style=\"text-align:left\"></td><td>(962637.670)</td><td>(0.174)</td><td></td></tr><tr><td style=\"text-align:left\">Intercept</td><td>3753704.383<sup>***</sup></td><td>13.367<sup>***</sup></td><td>9.690<sup>***</sup></td></tr><tr><td style=\"text-align:left\"></td><td>(212845.588)</td><td>(0.038)</td><td>(0.195)</td></tr><tr><td style=\"text-align:left\">LotSize</td><td>-0.001<sup></sup></td><td>-0.000<sup></sup></td><td></td></tr><tr><td style=\"text-align:left\"></td><td>(0.003)</td><td>(0.000)</td><td></td></tr><tr><td style=\"text-align:left\">gdp</td><td>0.001<sup>*</sup></td><td>0.000<sup>***</sup></td><td></td></tr><tr><td style=\"text-align:left\"></td><td>(0.001)</td><td>(0.000)</td><td></td></tr><tr><td style=\"text-align:left\">np.log(Area)</td><td></td><td></td><td>0.326<sup>***</sup></td></tr><tr><td style=\"text-align:left\"></td><td></td><td></td><td>(0.012)</td></tr><tr><td style=\"text-align:left\">np.log(LotSize)</td><td></td><td></td><td>0.049<sup>***</sup></td></tr><tr><td style=\"text-align:left\"></td><td></td><td></td><td>(0.009)</td></tr><tr><td style=\"text-align:left\">np.log(gdp)</td><td></td><td></td><td>0.097<sup>***</sup></td></tr><tr><td style=\"text-align:left\"></td><td></td><td></td><td>(0.008)</td></tr><td colspan=\"4\" style=\"border-bottom: 1px solid black\"></td></tr><tr><td style=\"text-align: left\">Observations</td><td>2,654</td><td>2,654</td><td>2,654</td></tr><tr><td style=\"text-align: left\">R<sup>2</sup></td><td>0.189</td><td>0.111</td><td>0.321</td></tr><tr><td style=\"text-align: left\">Adjusted R<sup>2</sup></td><td>0.186</td><td>0.107</td><td>0.320</td></tr><tr><td style=\"text-align: left\">Residual Std. Error</td><td>4395323.631 (df=2643)</td><td>0.795 (df=2643)</td><td>0.694 (df=2650)</td></tr><tr><td style=\"text-align: left\">F Statistic</td><td>61.530<sup>***</sup> (df=10; 2643)</td><td>32.898<sup>***</sup> (df=10; 2643)</td><td>417.431<sup>***</sup> (df=3; 2650)</td></tr><tr><td colspan=\"4\" style=\"border-bottom: 1px solid black\"></td></tr><tr><td style=\"text-align: left\">Note:</td>\n",
       " <td colspan=\"3\" style=\"text-align: right\">\n",
       "  <sup>*</sup>p&lt;0.1;\n",
       "  <sup>**</sup>p&lt;0.05;\n",
       "  <sup>***</sup>p&lt;0.01\n",
       " </td></tr></table>"
      ],
      "text/plain": [
       "<IPython.core.display.HTML object>"
      ]
     },
     "execution_count": 16,
     "metadata": {},
     "output_type": "execute_result"
    }
   ],
   "source": [
    "# Multiple Regression Analysis Models\n",
    "\n",
    "# make a copy of the data frame that we will use\n",
    "df_regression = df_map.copy()\n",
    "\n",
    "# rename the variable \"Total area\" and \"Lot Size\"\n",
    "df_regression.rename(columns = {'Total area':'Area', 'Lot Size':'LotSize'}, inplace = True)\n",
    "\n",
    "# run regression models; we choose \"Land\" as the treatment group for the qualitative\n",
    "# variable property type\n",
    "model1= smf.ols(formula='Price ~  gdp + Area + LotSize + C(Type, Treatment(\"Land\"))', data=df_regression).fit()\n",
    "\n",
    "model2 = smf.ols(formula='np.log(Price) ~  gdp + Area + LotSize + C(Type, Treatment(\"Land\"))', data=df_regression).fit()\n",
    "\n",
    "model3 = smf.ols(formula='np.log(Price) ~ np.log(gdp) + np.log(Area) + np.log(LotSize)', data=df_regression).fit()\n",
    "\n",
    "\n",
    "# presenting result using Stargazer()\n",
    "st = Stargazer([model1, model2, model3])\n",
    "from IPython.core.display import HTML\n",
    "HTML(st.render_html())\n"
   ]
  },
  {
   "cell_type": "markdown",
   "metadata": {
    "cell_id": "00032-1057bfef-68ec-4fa6-b8af-ef865fee690a",
    "deepnote_cell_type": "markdown",
    "tags": []
   },
   "source": [
    "- Interpretation of the result\n",
    "    - In model 1 and 2, the variable \"GDP\" is significant at 0.1 and 0.01 significance level, respectively; i.e., we are at least 90% that the coefficient for \"GDP\" is not zero and reject the null hypothesis that GDP (by county) does not affect sales prices. Similarly, result from model 3 suggests that we are 99% confident that log(GDP) affect log(Price). Therefore, the variable GDP (by county) does help determine sales prices of commerical real estate properties. Every additional unit increase in GDP can lead to 0.001 units of increase in the price.\n",
    "    - The variable \"Area\" is significant at the 0.01 significance level acrossall of the 3 models; i.e., we are at least 99% that the coefficient for \"Area\" is not zero and we reject the null hypothesis that area of the property does not affect sales prices. Thus, the variable does influence price: every 1-unit increase in area of the real estate might result in 22.467 units of increase in the price.\n",
    "    - We realize that the variable \"LotSize\" is not significant in both model 1 and model 2. Thus, we fail to reject the hypothesis that area does not sales prices. However, in model 3, we notice that the elasticity for \"LotSize\" of price (i.e. the coeeficient for \"LotSize\") is nonzero.\n",
    "    - According to results from both model 1 and 2, we find out that only the following 4 types of properties yield significatn coefficients when the type \"land\" is used: industrial, multifamily, office, and retail. Thus, we know that properties of these 4 types have prices that significantly differ from those of type \"land\".\n",
    "    "
   ]
  },
  {
   "cell_type": "markdown",
   "metadata": {
    "cell_id": "00016-38795475-9096-4d7f-bf2f-4958ab0aace4",
    "deepnote_cell_type": "markdown",
    "tags": []
   },
   "source": [
    "## V) Conclusion\n",
    "\n",
    "<a id='the_destination5'></a>"
   ]
  },
  {
   "cell_type": "markdown",
   "metadata": {
    "cell_id": "00025-53fe66a3-1439-4d5a-b453-821239e56ead",
    "deepnote_cell_type": "markdown",
    "tags": []
   },
   "source": [
    "- Our project attempts to investigate whether GDP (by county), area of the real estate, lot size, and the property type affect the sales prices of commerical real estate properties in the U.S. \n",
    "    - Area seems to be the most significant influencing factor of prices, while lot size seems to be the least.\n",
    "    - Additionally, being one of the 4 categories which include industrial, multifamily, office, and retail, can significantly affect the price of a commerical real estate property when compared to the property type \"land\".\n",
    "\n",
    "- Overall, we confirm that GDP (by county), area of the real estate, as well as the property type have influence on the sales prices of commerical real estate properties."
   ]
  },
  {
   "cell_type": "markdown",
   "metadata": {
    "cell_id": "00006-f628883a-571e-4530-904a-37c5b23dcf6b",
    "deepnote_cell_type": "markdown",
    "tags": []
   },
   "source": [
    "## References\n",
    "<a id='the_destination6'></a>\n",
    "\n",
    "DataWorld (2017). website: https://data.world/dmikebishop/commercial-real-estate-for-sal.\n",
    "\n",
    "Gyourko, Joseph. Understading Commercial Real estate: Just How Different from Housing Is It? NBER Working Paper No.14708, https://www.nber.org/system/files/working_papers/w14708/w14708.pdf.\n",
    "\n",
    "Rao, Congjun and Yangqiu Ge. Analysis of Main Influence Factors for Housing Prices. https://www.atlantis-press.com/article/25841966.pdf.\n",
    "\n",
    "Trung, D. Pham and Nguyen G. Quan. Factors Affecting the Price of the Real Estate: A Case of Ho Chi Minh City. https://www.eajournals.org/wp-content/uploads/Factors-Affecting-The-Price-of-the-Real-Estate.pdf."
   ]
  },
  {
   "cell_type": "code",
   "execution_count": 5,
   "metadata": {},
   "outputs": [
    {
     "name": "stderr",
     "output_type": "stream",
     "text": [
      "[NbConvertApp] Converting notebook Final_Project_Group22.ipynb to html\n",
      "[NbConvertApp] Writing 781774 bytes to Final_Project_Group22.html\n"
     ]
    }
   ],
   "source": [
    "!jupyter nbconvert --to html Final_Project_Group22.ipynb"
   ]
  },
  {
   "cell_type": "markdown",
   "metadata": {
    "created_in_deepnote_cell": true,
    "deepnote_cell_type": "markdown",
    "tags": []
   },
   "source": [
    "<a style='text-decoration:none;line-height:16px;display:flex;color:#5B5B62;padding:10px;justify-content:end;' href='https://deepnote.com?utm_source=created-in-deepnote-cell&projectId=500bf0d7-fbb9-4854-bdae-bde73a83fbf2' target=\"_blank\">\n",
    "<img alt='Created in deepnote.com' style='display:inline;max-height:16px;margin:0px;margin-right:7.5px;' src='data:image/svg+xml;base64,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' > </img>\n",
    "Created in <span style='font-weight:600;margin-left:4px;'>Deepnote</span></a>"
   ]
  }
 ],
 "metadata": {
  "deepnote": {},
  "deepnote_execution_queue": [],
  "deepnote_notebook_id": "3e0a0d96-b5d1-41e1-9e6c-5055a132a552",
  "kernelspec": {
   "display_name": "Python 3",
   "language": "python",
   "name": "python3"
  },
  "language_info": {
   "codemirror_mode": {
    "name": "ipython",
    "version": 3
   },
   "file_extension": ".py",
   "mimetype": "text/x-python",
   "name": "python",
   "nbconvert_exporter": "python",
   "pygments_lexer": "ipython3",
   "version": "3.7.4"
  }
 },
 "nbformat": 4,
 "nbformat_minor": 2
}
