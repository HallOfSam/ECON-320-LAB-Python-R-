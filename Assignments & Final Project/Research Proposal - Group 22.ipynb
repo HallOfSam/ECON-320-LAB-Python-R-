{
 "cells": [
  {
   "cell_type": "markdown",
   "metadata": {},
   "source": [
    "<h1 style=\"text-align: center; color: purple;\" markdown=\"1\">Research proposal in PYTHON </h1>\n",
    "\n",
    "<h2 style=\"text-align: center; color: #012169\" markdown=\"1\">Group 22 </h2>\n",
    "<h2 style=\"text-align: center; color: #012169\" markdown=\"1\">Xintong Cai, Sam Hu, Fanjiaxuan Zhang, Yuyao Zhou</h2>"
   ]
  },
  {
   "cell_type": "markdown",
   "metadata": {},
   "source": [
    "# I) Introduction and motivation:\n",
    "\n",
    "- For the final project, our group tries to investigate the factors that impact the sales prices of real estate properties (for example: total areas, lot sizes, years built, and etc.). \n",
    "- Why is it interesting? "
   ]
  },
  {
   "cell_type": "markdown",
   "metadata": {},
   "source": [
    "# II) Data: What data are you going to use? \n",
    "- Discuss in further detail the population of the study and any important characteristics of the data. \n",
    "- Graphs and tables of descriptive statistics on the data usually accompany this section.\n",
    "- use this to motivate the next section"
   ]
  },
  {
   "cell_type": "markdown",
   "metadata": {},
   "source": [
    "# III) Methodology/Empirical Model: Here you motivate and present the economic model of your regression equation or equations. \n",
    "- Discuss why what you are about to do makes sense. \n",
    "- From the general economic model (or intuition), you should specify and discuss an econometric model. What is your chosen specification, and why? Show your equations here. ( II and III can be just one section it is up to you)"
   ]
  },
  {
   "cell_type": "code",
   "execution_count": null,
   "metadata": {},
   "outputs": [],
   "source": []
  }
 ],
 "metadata": {
  "kernelspec": {
   "display_name": "Python 3",
   "language": "python",
   "name": "python3"
  },
  "language_info": {
   "codemirror_mode": {
    "name": "ipython",
    "version": 3
   },
   "file_extension": ".py",
   "mimetype": "text/x-python",
   "name": "python",
   "nbconvert_exporter": "python",
   "pygments_lexer": "ipython3",
   "version": "3.7.4"
  }
 },
 "nbformat": 4,
 "nbformat_minor": 2
}
